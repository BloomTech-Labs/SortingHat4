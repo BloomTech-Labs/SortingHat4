{
 "cells": [
  {
   "cell_type": "code",
   "execution_count": 9,
   "metadata": {
    "collapsed": true,
    "pycharm": {
     "name": "#%%\n"
    }
   },
   "outputs": [],
   "source": [
    "from pandas import DataFrame\n",
    "\n",
    "from app.logger import MongoDB\n"
   ]
  },
  {
   "cell_type": "code",
   "execution_count": 10,
   "outputs": [],
   "source": [
    "db = MongoDB()\n"
   ],
   "metadata": {
    "collapsed": false,
    "pycharm": {
     "name": "#%%\n"
    }
   }
  },
  {
   "cell_type": "code",
   "execution_count": 11,
   "outputs": [],
   "source": [
    "raw_data = list(db.find_all())\n",
    "data = raw_data[-1]\n"
   ],
   "metadata": {
    "collapsed": false,
    "pycharm": {
     "name": "#%%\n"
    }
   }
  },
  {
   "cell_type": "code",
   "execution_count": 12,
   "outputs": [
    {
     "data": {
      "text/plain": "{'ds_api': {'platform': 'FastAPI', 'title': 'SortingHat4', 'version': '4.4.2'},\n 'logger': {'platform': 'MongoDB',\n  'organization': 'Bloom Institute of Technology',\n  'project': 'Labs',\n  'database': 'SortingHat',\n  'collection': 'Logs'},\n 'timestamp': '2022-09-02T08:40:17.587003-07:00'}"
     },
     "execution_count": 12,
     "metadata": {},
     "output_type": "execute_result"
    }
   ],
   "source": [
    "data.get(\"metadata\")\n"
   ],
   "metadata": {
    "collapsed": false,
    "pycharm": {
     "name": "#%%\n"
    }
   }
  },
  {
   "cell_type": "code",
   "execution_count": 13,
   "outputs": [
    {
     "data": {
      "text/plain": "                 id             product teamCode                tracks  \\\n0  LabsProject-0007  a2H7e0000018JONEA2        B  [Web,  Data Science]   \n1  LabsProject-0012  a2H7e0000018JOSEA2        C       [Web,  Backend]   \n2  LabsProject-0015  a2H7e0000018JOcEAM        B  [Web,  Data Science]   \n3  LabsProject-0009  a2H7e0000018JONEA2        D  [Web,  Data Science]   \n4  LabsProject-0003  a2H7e0000018JMREA2        A                    []   \n5  LabsProject-0006  a2H7e0000018JONEA2        A  [Web,  Data Science]   \n6  LabsProject-0008  a2H7e0000018JONEA2        C  [Web,  Data Science]   \n7  LabsProject-0010  a2H7e0000018JOSEA2        A       [Web,  Backend]   \n8  LabsProject-0011  a2H7e0000018JOSEA2        B       [Web,  Backend]   \n9  LabsProject-0014  a2H7e0000018JOXEA2        B       [Web,  Backend]   \n\n    releaseManager        teamMemberSmtIds  \n0  Paul St.Germain  [00ubkk9xvbjWztCHt357]  \n1  Paul St.Germain                      []  \n2      Ash Tilawat                      []  \n3  Paul St.Germain                      []  \n4                                       []  \n5  Paul St.Germain                      []  \n6  Paul St.Germain                      []  \n7  Paul St.Germain                      []  \n8  Paul St.Germain                      []  \n9      Ash Tilawat                      []  ",
      "text/html": "<div>\n<style scoped>\n    .dataframe tbody tr th:only-of-type {\n        vertical-align: middle;\n    }\n\n    .dataframe tbody tr th {\n        vertical-align: top;\n    }\n\n    .dataframe thead th {\n        text-align: right;\n    }\n</style>\n<table border=\"1\" class=\"dataframe\">\n  <thead>\n    <tr style=\"text-align: right;\">\n      <th></th>\n      <th>id</th>\n      <th>product</th>\n      <th>teamCode</th>\n      <th>tracks</th>\n      <th>releaseManager</th>\n      <th>teamMemberSmtIds</th>\n    </tr>\n  </thead>\n  <tbody>\n    <tr>\n      <th>0</th>\n      <td>LabsProject-0007</td>\n      <td>a2H7e0000018JONEA2</td>\n      <td>B</td>\n      <td>[Web,  Data Science]</td>\n      <td>Paul St.Germain</td>\n      <td>[00ubkk9xvbjWztCHt357]</td>\n    </tr>\n    <tr>\n      <th>1</th>\n      <td>LabsProject-0012</td>\n      <td>a2H7e0000018JOSEA2</td>\n      <td>C</td>\n      <td>[Web,  Backend]</td>\n      <td>Paul St.Germain</td>\n      <td>[]</td>\n    </tr>\n    <tr>\n      <th>2</th>\n      <td>LabsProject-0015</td>\n      <td>a2H7e0000018JOcEAM</td>\n      <td>B</td>\n      <td>[Web,  Data Science]</td>\n      <td>Ash Tilawat</td>\n      <td>[]</td>\n    </tr>\n    <tr>\n      <th>3</th>\n      <td>LabsProject-0009</td>\n      <td>a2H7e0000018JONEA2</td>\n      <td>D</td>\n      <td>[Web,  Data Science]</td>\n      <td>Paul St.Germain</td>\n      <td>[]</td>\n    </tr>\n    <tr>\n      <th>4</th>\n      <td>LabsProject-0003</td>\n      <td>a2H7e0000018JMREA2</td>\n      <td>A</td>\n      <td>[]</td>\n      <td></td>\n      <td>[]</td>\n    </tr>\n    <tr>\n      <th>5</th>\n      <td>LabsProject-0006</td>\n      <td>a2H7e0000018JONEA2</td>\n      <td>A</td>\n      <td>[Web,  Data Science]</td>\n      <td>Paul St.Germain</td>\n      <td>[]</td>\n    </tr>\n    <tr>\n      <th>6</th>\n      <td>LabsProject-0008</td>\n      <td>a2H7e0000018JONEA2</td>\n      <td>C</td>\n      <td>[Web,  Data Science]</td>\n      <td>Paul St.Germain</td>\n      <td>[]</td>\n    </tr>\n    <tr>\n      <th>7</th>\n      <td>LabsProject-0010</td>\n      <td>a2H7e0000018JOSEA2</td>\n      <td>A</td>\n      <td>[Web,  Backend]</td>\n      <td>Paul St.Germain</td>\n      <td>[]</td>\n    </tr>\n    <tr>\n      <th>8</th>\n      <td>LabsProject-0011</td>\n      <td>a2H7e0000018JOSEA2</td>\n      <td>B</td>\n      <td>[Web,  Backend]</td>\n      <td>Paul St.Germain</td>\n      <td>[]</td>\n    </tr>\n    <tr>\n      <th>9</th>\n      <td>LabsProject-0014</td>\n      <td>a2H7e0000018JOXEA2</td>\n      <td>B</td>\n      <td>[Web,  Backend]</td>\n      <td>Ash Tilawat</td>\n      <td>[]</td>\n    </tr>\n  </tbody>\n</table>\n</div>"
     },
     "execution_count": 13,
     "metadata": {},
     "output_type": "execute_result"
    }
   ],
   "source": [
    "projects_before = DataFrame(data.get(\"before\").get(\"projects\"))\n",
    "projects_before"
   ],
   "metadata": {
    "collapsed": false,
    "pycharm": {
     "name": "#%%\n"
    }
   }
  },
  {
   "cell_type": "code",
   "execution_count": 14,
   "outputs": [
    {
     "data": {
      "text/plain": "                 id             product teamCode                tracks  \\\n0  LabsProject-0003  a2H7e0000018JMREA2        A                    []   \n1  LabsProject-0007  a2H7e0000018JONEA2        B  [Web,  Data Science]   \n2  LabsProject-0015  a2H7e0000018JOcEAM        B  [Web,  Data Science]   \n3  LabsProject-0009  a2H7e0000018JONEA2        D  [Web,  Data Science]   \n4  LabsProject-0006  a2H7e0000018JONEA2        A  [Web,  Data Science]   \n5  LabsProject-0008  a2H7e0000018JONEA2        C  [Web,  Data Science]   \n6  LabsProject-0012  a2H7e0000018JOSEA2        C       [Web,  Backend]   \n7  LabsProject-0010  a2H7e0000018JOSEA2        A       [Web,  Backend]   \n8  LabsProject-0011  a2H7e0000018JOSEA2        B       [Web,  Backend]   \n9  LabsProject-0014  a2H7e0000018JOXEA2        B       [Web,  Backend]   \n\n    releaseManager        teamMemberSmtIds  \n0                                       []  \n1  Paul St.Germain  [00ubkk9xvbjWztCHt357]  \n2      Ash Tilawat                      []  \n3  Paul St.Germain                      []  \n4  Paul St.Germain                      []  \n5  Paul St.Germain                      []  \n6  Paul St.Germain                      []  \n7  Paul St.Germain                      []  \n8  Paul St.Germain                      []  \n9      Ash Tilawat                      []  ",
      "text/html": "<div>\n<style scoped>\n    .dataframe tbody tr th:only-of-type {\n        vertical-align: middle;\n    }\n\n    .dataframe tbody tr th {\n        vertical-align: top;\n    }\n\n    .dataframe thead th {\n        text-align: right;\n    }\n</style>\n<table border=\"1\" class=\"dataframe\">\n  <thead>\n    <tr style=\"text-align: right;\">\n      <th></th>\n      <th>id</th>\n      <th>product</th>\n      <th>teamCode</th>\n      <th>tracks</th>\n      <th>releaseManager</th>\n      <th>teamMemberSmtIds</th>\n    </tr>\n  </thead>\n  <tbody>\n    <tr>\n      <th>0</th>\n      <td>LabsProject-0003</td>\n      <td>a2H7e0000018JMREA2</td>\n      <td>A</td>\n      <td>[]</td>\n      <td></td>\n      <td>[]</td>\n    </tr>\n    <tr>\n      <th>1</th>\n      <td>LabsProject-0007</td>\n      <td>a2H7e0000018JONEA2</td>\n      <td>B</td>\n      <td>[Web,  Data Science]</td>\n      <td>Paul St.Germain</td>\n      <td>[00ubkk9xvbjWztCHt357]</td>\n    </tr>\n    <tr>\n      <th>2</th>\n      <td>LabsProject-0015</td>\n      <td>a2H7e0000018JOcEAM</td>\n      <td>B</td>\n      <td>[Web,  Data Science]</td>\n      <td>Ash Tilawat</td>\n      <td>[]</td>\n    </tr>\n    <tr>\n      <th>3</th>\n      <td>LabsProject-0009</td>\n      <td>a2H7e0000018JONEA2</td>\n      <td>D</td>\n      <td>[Web,  Data Science]</td>\n      <td>Paul St.Germain</td>\n      <td>[]</td>\n    </tr>\n    <tr>\n      <th>4</th>\n      <td>LabsProject-0006</td>\n      <td>a2H7e0000018JONEA2</td>\n      <td>A</td>\n      <td>[Web,  Data Science]</td>\n      <td>Paul St.Germain</td>\n      <td>[]</td>\n    </tr>\n    <tr>\n      <th>5</th>\n      <td>LabsProject-0008</td>\n      <td>a2H7e0000018JONEA2</td>\n      <td>C</td>\n      <td>[Web,  Data Science]</td>\n      <td>Paul St.Germain</td>\n      <td>[]</td>\n    </tr>\n    <tr>\n      <th>6</th>\n      <td>LabsProject-0012</td>\n      <td>a2H7e0000018JOSEA2</td>\n      <td>C</td>\n      <td>[Web,  Backend]</td>\n      <td>Paul St.Germain</td>\n      <td>[]</td>\n    </tr>\n    <tr>\n      <th>7</th>\n      <td>LabsProject-0010</td>\n      <td>a2H7e0000018JOSEA2</td>\n      <td>A</td>\n      <td>[Web,  Backend]</td>\n      <td>Paul St.Germain</td>\n      <td>[]</td>\n    </tr>\n    <tr>\n      <th>8</th>\n      <td>LabsProject-0011</td>\n      <td>a2H7e0000018JOSEA2</td>\n      <td>B</td>\n      <td>[Web,  Backend]</td>\n      <td>Paul St.Germain</td>\n      <td>[]</td>\n    </tr>\n    <tr>\n      <th>9</th>\n      <td>LabsProject-0014</td>\n      <td>a2H7e0000018JOXEA2</td>\n      <td>B</td>\n      <td>[Web,  Backend]</td>\n      <td>Ash Tilawat</td>\n      <td>[]</td>\n    </tr>\n  </tbody>\n</table>\n</div>"
     },
     "execution_count": 14,
     "metadata": {},
     "output_type": "execute_result"
    }
   ],
   "source": [
    "projects_after = DataFrame(data.get(\"after\").get(\"projects\"))\n",
    "projects_after\n"
   ],
   "metadata": {
    "collapsed": false,
    "pycharm": {
     "name": "#%%\n"
    }
   }
  },
  {
   "cell_type": "code",
   "execution_count": 15,
   "outputs": [
    {
     "data": {
      "text/plain": "                 oktaId                        name track  storyPoints  \\\n0  00ui9tmk1yw825Thm357  Oliver Castellanos-Padilla   Web            0   \n1  00ubkk9xvbjWztCHt357        00ubkk9xvbjWztCHt357   Web            0   \n\n          labsProject          labsTimeSlot gitHubHandle  gitExpertise  \\\n0  a2G7e000001Rs9WEAS  [a2K7e000003GATyEAO]   hambohambo             2   \n1    LabsProject-0007                    []         Test             1   \n\n   dockerExpertise  playByEar  ...  meaningOrValue  feelsRightOrMakesSense  \\\n0                2          3  ...               B                       B   \n1                1          1  ...               A                       A   \n\n  favoriteOrCollect tpmSkill1 tpmSkill2 tpmSkill3 tpmInterest1 tpmInterest2  \\\n0                 B         B         A         A            2            2   \n1                 A         A         A         A            1            1   \n\n  tpmInterest3  tpmInterest4  \n0            2             2  \n1            1             1  \n\n[2 rows x 23 columns]",
      "text/html": "<div>\n<style scoped>\n    .dataframe tbody tr th:only-of-type {\n        vertical-align: middle;\n    }\n\n    .dataframe tbody tr th {\n        vertical-align: top;\n    }\n\n    .dataframe thead th {\n        text-align: right;\n    }\n</style>\n<table border=\"1\" class=\"dataframe\">\n  <thead>\n    <tr style=\"text-align: right;\">\n      <th></th>\n      <th>oktaId</th>\n      <th>name</th>\n      <th>track</th>\n      <th>storyPoints</th>\n      <th>labsProject</th>\n      <th>labsTimeSlot</th>\n      <th>gitHubHandle</th>\n      <th>gitExpertise</th>\n      <th>dockerExpertise</th>\n      <th>playByEar</th>\n      <th>...</th>\n      <th>meaningOrValue</th>\n      <th>feelsRightOrMakesSense</th>\n      <th>favoriteOrCollect</th>\n      <th>tpmSkill1</th>\n      <th>tpmSkill2</th>\n      <th>tpmSkill3</th>\n      <th>tpmInterest1</th>\n      <th>tpmInterest2</th>\n      <th>tpmInterest3</th>\n      <th>tpmInterest4</th>\n    </tr>\n  </thead>\n  <tbody>\n    <tr>\n      <th>0</th>\n      <td>00ui9tmk1yw825Thm357</td>\n      <td>Oliver Castellanos-Padilla</td>\n      <td>Web</td>\n      <td>0</td>\n      <td>a2G7e000001Rs9WEAS</td>\n      <td>[a2K7e000003GATyEAO]</td>\n      <td>hambohambo</td>\n      <td>2</td>\n      <td>2</td>\n      <td>3</td>\n      <td>...</td>\n      <td>B</td>\n      <td>B</td>\n      <td>B</td>\n      <td>B</td>\n      <td>A</td>\n      <td>A</td>\n      <td>2</td>\n      <td>2</td>\n      <td>2</td>\n      <td>2</td>\n    </tr>\n    <tr>\n      <th>1</th>\n      <td>00ubkk9xvbjWztCHt357</td>\n      <td>00ubkk9xvbjWztCHt357</td>\n      <td>Web</td>\n      <td>0</td>\n      <td>LabsProject-0007</td>\n      <td>[]</td>\n      <td>Test</td>\n      <td>1</td>\n      <td>1</td>\n      <td>1</td>\n      <td>...</td>\n      <td>A</td>\n      <td>A</td>\n      <td>A</td>\n      <td>A</td>\n      <td>A</td>\n      <td>A</td>\n      <td>1</td>\n      <td>1</td>\n      <td>1</td>\n      <td>1</td>\n    </tr>\n  </tbody>\n</table>\n<p>2 rows × 23 columns</p>\n</div>"
     },
     "execution_count": 15,
     "metadata": {},
     "output_type": "execute_result"
    }
   ],
   "source": [
    "learners_before = DataFrame(data.get(\"before\").get(\"learners\"))\n",
    "learners_before"
   ],
   "metadata": {
    "collapsed": false,
    "pycharm": {
     "name": "#%%\n"
    }
   }
  },
  {
   "cell_type": "code",
   "execution_count": 16,
   "outputs": [
    {
     "data": {
      "text/plain": "                 oktaId                        name track  storyPoints  \\\n0  00ui9tmk1yw825Thm357  Oliver Castellanos-Padilla   Web            0   \n1  00ubkk9xvbjWztCHt357        00ubkk9xvbjWztCHt357   Web            0   \n\n          labsProject          labsTimeSlot gitHubHandle  gitExpertise  \\\n0  a2G7e000001Rs9WEAS  [a2K7e000003GATyEAO]   hambohambo             2   \n1    LabsProject-0007                    []         Test             1   \n\n   dockerExpertise  playByEar  ...  meaningOrValue  feelsRightOrMakesSense  \\\n0                2          3  ...               B                       B   \n1                1          1  ...               A                       A   \n\n  favoriteOrCollect tpmSkill1 tpmSkill2 tpmSkill3 tpmInterest1 tpmInterest2  \\\n0                 B         B         A         A            2            2   \n1                 A         A         A         A            1            1   \n\n  tpmInterest3  tpmInterest4  \n0            2             2  \n1            1             1  \n\n[2 rows x 23 columns]",
      "text/html": "<div>\n<style scoped>\n    .dataframe tbody tr th:only-of-type {\n        vertical-align: middle;\n    }\n\n    .dataframe tbody tr th {\n        vertical-align: top;\n    }\n\n    .dataframe thead th {\n        text-align: right;\n    }\n</style>\n<table border=\"1\" class=\"dataframe\">\n  <thead>\n    <tr style=\"text-align: right;\">\n      <th></th>\n      <th>oktaId</th>\n      <th>name</th>\n      <th>track</th>\n      <th>storyPoints</th>\n      <th>labsProject</th>\n      <th>labsTimeSlot</th>\n      <th>gitHubHandle</th>\n      <th>gitExpertise</th>\n      <th>dockerExpertise</th>\n      <th>playByEar</th>\n      <th>...</th>\n      <th>meaningOrValue</th>\n      <th>feelsRightOrMakesSense</th>\n      <th>favoriteOrCollect</th>\n      <th>tpmSkill1</th>\n      <th>tpmSkill2</th>\n      <th>tpmSkill3</th>\n      <th>tpmInterest1</th>\n      <th>tpmInterest2</th>\n      <th>tpmInterest3</th>\n      <th>tpmInterest4</th>\n    </tr>\n  </thead>\n  <tbody>\n    <tr>\n      <th>0</th>\n      <td>00ui9tmk1yw825Thm357</td>\n      <td>Oliver Castellanos-Padilla</td>\n      <td>Web</td>\n      <td>0</td>\n      <td>a2G7e000001Rs9WEAS</td>\n      <td>[a2K7e000003GATyEAO]</td>\n      <td>hambohambo</td>\n      <td>2</td>\n      <td>2</td>\n      <td>3</td>\n      <td>...</td>\n      <td>B</td>\n      <td>B</td>\n      <td>B</td>\n      <td>B</td>\n      <td>A</td>\n      <td>A</td>\n      <td>2</td>\n      <td>2</td>\n      <td>2</td>\n      <td>2</td>\n    </tr>\n    <tr>\n      <th>1</th>\n      <td>00ubkk9xvbjWztCHt357</td>\n      <td>00ubkk9xvbjWztCHt357</td>\n      <td>Web</td>\n      <td>0</td>\n      <td>LabsProject-0007</td>\n      <td>[]</td>\n      <td>Test</td>\n      <td>1</td>\n      <td>1</td>\n      <td>1</td>\n      <td>...</td>\n      <td>A</td>\n      <td>A</td>\n      <td>A</td>\n      <td>A</td>\n      <td>A</td>\n      <td>A</td>\n      <td>1</td>\n      <td>1</td>\n      <td>1</td>\n      <td>1</td>\n    </tr>\n  </tbody>\n</table>\n<p>2 rows × 23 columns</p>\n</div>"
     },
     "execution_count": 16,
     "metadata": {},
     "output_type": "execute_result"
    }
   ],
   "source": [
    "learners_after = DataFrame(data.get(\"after\").get(\"learners\"))\n",
    "learners_after\n"
   ],
   "metadata": {
    "collapsed": false,
    "pycharm": {
     "name": "#%%\n"
    }
   }
  },
  {
   "cell_type": "code",
   "execution_count": 16,
   "outputs": [],
   "source": [],
   "metadata": {
    "collapsed": false,
    "pycharm": {
     "name": "#%%\n"
    }
   }
  }
 ],
 "metadata": {
  "kernelspec": {
   "display_name": "Python 3",
   "language": "python",
   "name": "python3"
  },
  "language_info": {
   "codemirror_mode": {
    "name": "ipython",
    "version": 2
   },
   "file_extension": ".py",
   "mimetype": "text/x-python",
   "name": "python",
   "nbconvert_exporter": "python",
   "pygments_lexer": "ipython2",
   "version": "2.7.6"
  }
 },
 "nbformat": 4,
 "nbformat_minor": 0
}