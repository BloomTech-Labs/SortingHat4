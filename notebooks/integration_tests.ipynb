{
 "cells": [
  {
   "cell_type": "code",
   "execution_count": 27,
   "outputs": [],
   "source": [
    "import requests\n",
    "from pandas import DataFrame\n",
    "import plotly.graph_objects as go\n",
    "import plotly.express as px"
   ],
   "metadata": {
    "collapsed": false,
    "pycharm": {
     "name": "#%%\n"
    }
   }
  },
  {
   "cell_type": "code",
   "execution_count": 28,
   "metadata": {
    "collapsed": true
   },
   "outputs": [],
   "source": [
    "remote_url = \"http://sortinghat4-dev.us-east-1.elasticbeanstalk.com\""
   ]
  },
  {
   "cell_type": "code",
   "execution_count": 30,
   "outputs": [
    {
     "name": "stdout",
     "output_type": "stream",
     "text": [
      "1\n"
     ]
    }
   ],
   "source": [
    "raw_data = requests.post(\n",
    "    remote_url + \"/logs\",\n",
    "    json={\"metadata.ds_api.version\": \"4.0.9\"},\n",
    ").json()\n",
    "print(len(raw_data))\n",
    "payload = raw_data[-1]"
   ],
   "metadata": {
    "collapsed": false,
    "pycharm": {
     "name": "#%%\n"
    }
   }
  },
  {
   "cell_type": "code",
   "execution_count": 31,
   "outputs": [
    {
     "data": {
      "text/plain": "{'ds_api': {'platform': 'FastAPI', 'title': 'SortingHat4', 'version': '4.0.9'},\n 'logger': {'platform': 'MongoDB',\n  'organization': 'Bloom Institute of Technology',\n  'project': 'Labs',\n  'database': 'SortingHat',\n  'collection': 'Logs'},\n 'timestamp': '2022-04-11 16:09:58'}"
     },
     "execution_count": 31,
     "metadata": {},
     "output_type": "execute_result"
    }
   ],
   "source": [
    "payload[\"metadata\"]"
   ],
   "metadata": {
    "collapsed": false,
    "pycharm": {
     "name": "#%%\n"
    }
   }
  },
  {
   "cell_type": "code",
   "execution_count": 44,
   "outputs": [
    {
     "data": {
      "text/plain": "[{'id': '31v33xWN',\n  'product': 'Test Product',\n  'teamCode': 'A',\n  'tracks': ['Web'],\n  'releaseManager': 'Eleanor Anderson',\n  'teamMemberSmtIds': ['W4810Grw2Ca0Q4U7',\n   '37OsT4x36o76q5mm',\n   'PR8775a0A1tEy60L',\n   'yy064uS516p4Ao7j',\n   '8e12V876Pqmg1BD7',\n   '45V5W38izX23s2BZ',\n   'nP04Cd682xn0TN72',\n   'y45DZ5p3288ziu1X',\n   '1p8rS1406jpdE46g',\n   'M7eK1QpOv4022V07',\n   'W1b25ZO2eZ54J1s1']},\n {'id': 'Y1i67Sp7',\n  'product': 'Test Product',\n  'teamCode': 'B',\n  'tracks': ['Web', 'DS'],\n  'releaseManager': 'Ella Flores',\n  'teamMemberSmtIds': ['8q1Ta487u3l3k0Ya',\n   'm5FY1N60e37kPm53',\n   'QN3145qD1jdZ74Z2',\n   'o414uCJ604JJ00Pa',\n   'Z30S5khI10sl68A7',\n   'h8M41P8Y1uV2H1q3',\n   'uZ4cP3mOL137A653',\n   'b7L0Lc2g73RG4o13',\n   '04f4D3CtxUW0820a',\n   'RA76R74757TXYRM5']},\n {'id': 'Kl0jA366',\n  'product': 'Test Product',\n  'teamCode': 'C',\n  'tracks': ['Web', 'DS'],\n  'releaseManager': 'Benjamin Clark',\n  'teamMemberSmtIds': ['7z2RJ4V4z7T3s57x',\n   'Cb11ih546i4m85Fi',\n   '8777tk1cg8GscZ21',\n   'eC846888qNtr2Qd6',\n   '244Kj7Pg7tL566mE',\n   '01V3Bv375JEa6M4z',\n   '14cK1ce1700xv3hf',\n   '1w838en87I3lY7oS',\n   '1VkB1k7wX704Hz52',\n   'L36VZ5cY46Xc6p68',\n   'h4B57DII54z7q5E1']},\n {'id': 'EX26c3c3',\n  'product': 'Test Product',\n  'teamCode': 'D',\n  'tracks': ['Web', 'DS'],\n  'releaseManager': 'Mia Johnson',\n  'teamMemberSmtIds': ['U5S2N12Kw38i87HL',\n   'QL16QY22B1G88zl0',\n   '87LQ2z7w7Mdp438z',\n   'bTD35f3045ld4i7z',\n   'r31g83C5fgCO683k',\n   'MZ1eJo88xp16N656',\n   'HT70A0837DvfOQ73',\n   'T1R02e5e4tB73kl0',\n   '128tQQJ6a0B0Ps47',\n   'N06SKk6v6J0c30A1',\n   'b4JQ2u4J3H13S7Z8',\n   'a2fuh32bCJg03520']},\n {'id': 'Nq1u2m62',\n  'product': 'Test Product',\n  'teamCode': 'E',\n  'tracks': ['Web', 'BD'],\n  'releaseManager': 'Sophia Brown',\n  'teamMemberSmtIds': ['q088x5BG1F7V7qR8',\n   'NK206i4N207CMny0',\n   '07I41opY62G1w6Ld',\n   'm6fG4u6RD28k1d87',\n   '37vc7f8487zhNr2p',\n   'V775r2G1K0zVNy67']}]"
     },
     "execution_count": 44,
     "metadata": {},
     "output_type": "execute_result"
    }
   ],
   "source": [
    "projects = payload[\"projects\"]\n",
    "projects"
   ],
   "metadata": {
    "collapsed": false,
    "pycharm": {
     "name": "#%%\n"
    }
   }
  },
  {
   "cell_type": "code",
   "execution_count": 45,
   "outputs": [
    {
     "data": {
      "text/plain": "[{'lambdaId': 'W4810Grw2Ca0Q4U7',\n  'name': 'Levi Hill',\n  'track': 'Web',\n  'labsProject': 'Test Product - A',\n  'gitExpertise': 4,\n  'dockerExpertise': 3,\n  'playByEar': 2,\n  'detailOriented': 5,\n  'speakUpInDiscussions': 3,\n  'soloOrSocial': 'B',\n  'meaningOrValue': 'B',\n  'feelsRightOrMakesSense': 'A',\n  'favoriteOrCollect': 'A',\n  'tpmSkill1': 'A',\n  'tpmSkill2': 'C',\n  'tpmSkill3': 'C',\n  'tpmInterest1': 4,\n  'tpmInterest2': 1,\n  'tpmInterest3': 3,\n  'tpmInterest4': 1,\n  'uxInterest1': 1,\n  'uxInterest2': 1,\n  'frontendInterest1': 2,\n  'frontendInterest2': 4,\n  'backendInterest1': 3,\n  'backendInterest2': 2,\n  'dataEngInterest1': 0,\n  'dataEngInterest2': 0,\n  'dataEngInterest3': 0,\n  'mlEngInterest1': 0,\n  'mlEngInterest2': 0,\n  'mlEngInterest3': 0,\n  'mlOpsInterest1': 0,\n  'mlOpsInterest2': 0,\n  'mlOpsInterest3': 0,\n  'tpmSkillRank': 0.3333333333333333,\n  'tpmInterestRank': 0.5625,\n  'uxInterestRank': 0.25,\n  'frontendInterestRank': 0.75,\n  'backendInterestRank': 0.625,\n  'dataEngInterestRank': None,\n  'mlEngInterestRank': None,\n  'mlOpsInterestRank': None},\n {'lambdaId': '8q1Ta487u3l3k0Ya',\n  'name': 'Jacob Ramirez',\n  'track': 'Web',\n  'labsProject': 'Test Product - B',\n  'gitExpertise': 2,\n  'dockerExpertise': 5,\n  'playByEar': 2,\n  'detailOriented': 4,\n  'speakUpInDiscussions': 3,\n  'soloOrSocial': 'B',\n  'meaningOrValue': 'B',\n  'feelsRightOrMakesSense': 'B',\n  'favoriteOrCollect': 'B',\n  'tpmSkill1': 'B',\n  'tpmSkill2': 'C',\n  'tpmSkill3': 'A',\n  'tpmInterest1': 3,\n  'tpmInterest2': 1,\n  'tpmInterest3': 2,\n  'tpmInterest4': 3,\n  'uxInterest1': 1,\n  'uxInterest2': 2,\n  'frontendInterest1': 3,\n  'frontendInterest2': 4,\n  'backendInterest1': 3,\n  'backendInterest2': 2,\n  'dataEngInterest1': 0,\n  'dataEngInterest2': 0,\n  'dataEngInterest3': 0,\n  'mlEngInterest1': 0,\n  'mlEngInterest2': 0,\n  'mlEngInterest3': 0,\n  'mlOpsInterest1': 0,\n  'mlOpsInterest2': 0,\n  'mlOpsInterest3': 0,\n  'tpmSkillRank': 0.3333333333333333,\n  'tpmInterestRank': 0.5625,\n  'uxInterestRank': 0.375,\n  'frontendInterestRank': 0.875,\n  'backendInterestRank': 0.625,\n  'dataEngInterestRank': None,\n  'mlEngInterestRank': None,\n  'mlOpsInterestRank': None},\n {'lambdaId': 'U5S2N12Kw38i87HL',\n  'name': 'Olivia Jackson',\n  'track': 'DS',\n  'labsProject': 'Test Product - D',\n  'gitExpertise': 4,\n  'dockerExpertise': 2,\n  'playByEar': 2,\n  'detailOriented': 5,\n  'speakUpInDiscussions': 1,\n  'soloOrSocial': 'A',\n  'meaningOrValue': 'B',\n  'feelsRightOrMakesSense': 'B',\n  'favoriteOrCollect': 'A',\n  'tpmSkill1': 'A',\n  'tpmSkill2': 'A',\n  'tpmSkill3': 'B',\n  'tpmInterest1': 1,\n  'tpmInterest2': 1,\n  'tpmInterest3': 4,\n  'tpmInterest4': 4,\n  'uxInterest1': 0,\n  'uxInterest2': 0,\n  'frontendInterest1': 0,\n  'frontendInterest2': 0,\n  'backendInterest1': 0,\n  'backendInterest2': 0,\n  'dataEngInterest1': 2,\n  'dataEngInterest2': 1,\n  'dataEngInterest3': 1,\n  'mlEngInterest1': 1,\n  'mlEngInterest2': 1,\n  'mlEngInterest3': 2,\n  'mlOpsInterest1': 2,\n  'mlOpsInterest2': 4,\n  'mlOpsInterest3': 2,\n  'tpmSkillRank': 0.0,\n  'tpmInterestRank': 0.625,\n  'uxInterestRank': None,\n  'frontendInterestRank': None,\n  'backendInterestRank': None,\n  'dataEngInterestRank': 0.3333333333333333,\n  'mlEngInterestRank': 0.3333333333333333,\n  'mlOpsInterestRank': 0.6666666666666666},\n {'lambdaId': 'q088x5BG1F7V7qR8',\n  'name': 'Emily Clark',\n  'track': 'BD',\n  'labsProject': 'Test Product - E',\n  'gitExpertise': 2,\n  'dockerExpertise': 4,\n  'playByEar': 5,\n  'detailOriented': 4,\n  'speakUpInDiscussions': 2,\n  'soloOrSocial': 'A',\n  'meaningOrValue': 'A',\n  'feelsRightOrMakesSense': 'B',\n  'favoriteOrCollect': 'B',\n  'tpmSkill1': 'B',\n  'tpmSkill2': 'A',\n  'tpmSkill3': 'B',\n  'tpmInterest1': 1,\n  'tpmInterest2': 1,\n  'tpmInterest3': 2,\n  'tpmInterest4': 1,\n  'uxInterest1': 0,\n  'uxInterest2': 0,\n  'frontendInterest1': 0,\n  'frontendInterest2': 0,\n  'backendInterest1': 0,\n  'backendInterest2': 0,\n  'dataEngInterest1': 0,\n  'dataEngInterest2': 0,\n  'dataEngInterest3': 0,\n  'mlEngInterest1': 0,\n  'mlEngInterest2': 0,\n  'mlEngInterest3': 0,\n  'mlOpsInterest1': 0,\n  'mlOpsInterest2': 0,\n  'mlOpsInterest3': 0,\n  'tpmSkillRank': 0.3333333333333333,\n  'tpmInterestRank': 0.3125,\n  'uxInterestRank': None,\n  'frontendInterestRank': None,\n  'backendInterestRank': None,\n  'dataEngInterestRank': None,\n  'mlEngInterestRank': None,\n  'mlOpsInterestRank': None},\n {'lambdaId': 'QL16QY22B1G88zl0',\n  'name': 'Levi Rodriguez',\n  'track': 'DS',\n  'labsProject': 'Test Product - D',\n  'gitExpertise': 3,\n  'dockerExpertise': 4,\n  'playByEar': 1,\n  'detailOriented': 3,\n  'speakUpInDiscussions': 1,\n  'soloOrSocial': 'B',\n  'meaningOrValue': 'A',\n  'feelsRightOrMakesSense': 'A',\n  'favoriteOrCollect': 'B',\n  'tpmSkill1': 'A',\n  'tpmSkill2': 'C',\n  'tpmSkill3': 'A',\n  'tpmInterest1': 2,\n  'tpmInterest2': 2,\n  'tpmInterest3': 3,\n  'tpmInterest4': 1,\n  'uxInterest1': 0,\n  'uxInterest2': 0,\n  'frontendInterest1': 0,\n  'frontendInterest2': 0,\n  'backendInterest1': 0,\n  'backendInterest2': 0,\n  'dataEngInterest1': 3,\n  'dataEngInterest2': 3,\n  'dataEngInterest3': 2,\n  'mlEngInterest1': 2,\n  'mlEngInterest2': 4,\n  'mlEngInterest3': 1,\n  'mlOpsInterest1': 2,\n  'mlOpsInterest2': 1,\n  'mlOpsInterest3': 2,\n  'tpmSkillRank': 0.0,\n  'tpmInterestRank': 0.5,\n  'uxInterestRank': None,\n  'frontendInterestRank': None,\n  'backendInterestRank': None,\n  'dataEngInterestRank': 0.6666666666666666,\n  'mlEngInterestRank': 0.5833333333333334,\n  'mlOpsInterestRank': 0.4166666666666667},\n {'lambdaId': '37OsT4x36o76q5mm',\n  'name': 'Ellie Robinson',\n  'track': 'Web',\n  'labsProject': 'Test Product - A',\n  'gitExpertise': 3,\n  'dockerExpertise': 1,\n  'playByEar': 5,\n  'detailOriented': 1,\n  'speakUpInDiscussions': 4,\n  'soloOrSocial': 'A',\n  'meaningOrValue': 'B',\n  'feelsRightOrMakesSense': 'B',\n  'favoriteOrCollect': 'A',\n  'tpmSkill1': 'C',\n  'tpmSkill2': 'A',\n  'tpmSkill3': 'C',\n  'tpmInterest1': 3,\n  'tpmInterest2': 3,\n  'tpmInterest3': 2,\n  'tpmInterest4': 3,\n  'uxInterest1': 4,\n  'uxInterest2': 2,\n  'frontendInterest1': 3,\n  'frontendInterest2': 4,\n  'backendInterest1': 1,\n  'backendInterest2': 4,\n  'dataEngInterest1': 0,\n  'dataEngInterest2': 0,\n  'dataEngInterest3': 0,\n  'mlEngInterest1': 0,\n  'mlEngInterest2': 0,\n  'mlEngInterest3': 0,\n  'mlOpsInterest1': 0,\n  'mlOpsInterest2': 0,\n  'mlOpsInterest3': 0,\n  'tpmSkillRank': 0.3333333333333333,\n  'tpmInterestRank': 0.6875,\n  'uxInterestRank': 0.75,\n  'frontendInterestRank': 0.875,\n  'backendInterestRank': 0.625,\n  'dataEngInterestRank': None,\n  'mlEngInterestRank': None,\n  'mlOpsInterestRank': None},\n {'lambdaId': 'm5FY1N60e37kPm53',\n  'name': 'Penelope Lopez',\n  'track': 'DS',\n  'labsProject': 'Test Product - B',\n  'gitExpertise': 2,\n  'dockerExpertise': 5,\n  'playByEar': 1,\n  'detailOriented': 1,\n  'speakUpInDiscussions': 4,\n  'soloOrSocial': 'B',\n  'meaningOrValue': 'B',\n  'feelsRightOrMakesSense': 'B',\n  'favoriteOrCollect': 'A',\n  'tpmSkill1': 'B',\n  'tpmSkill2': 'C',\n  'tpmSkill3': 'B',\n  'tpmInterest1': 1,\n  'tpmInterest2': 2,\n  'tpmInterest3': 4,\n  'tpmInterest4': 4,\n  'uxInterest1': 0,\n  'uxInterest2': 0,\n  'frontendInterest1': 0,\n  'frontendInterest2': 0,\n  'backendInterest1': 0,\n  'backendInterest2': 0,\n  'dataEngInterest1': 1,\n  'dataEngInterest2': 2,\n  'dataEngInterest3': 4,\n  'mlEngInterest1': 4,\n  'mlEngInterest2': 4,\n  'mlEngInterest3': 1,\n  'mlOpsInterest1': 2,\n  'mlOpsInterest2': 1,\n  'mlOpsInterest3': 2,\n  'tpmSkillRank': 0.3333333333333333,\n  'tpmInterestRank': 0.6875,\n  'uxInterestRank': None,\n  'frontendInterestRank': None,\n  'backendInterestRank': None,\n  'dataEngInterestRank': 0.5833333333333334,\n  'mlEngInterestRank': 0.75,\n  'mlOpsInterestRank': 0.4166666666666667},\n {'lambdaId': '87LQ2z7w7Mdp438z',\n  'name': 'Sophia James',\n  'track': 'DS',\n  'labsProject': 'Test Product - D',\n  'gitExpertise': 4,\n  'dockerExpertise': 1,\n  'playByEar': 5,\n  'detailOriented': 1,\n  'speakUpInDiscussions': 3,\n  'soloOrSocial': 'A',\n  'meaningOrValue': 'A',\n  'feelsRightOrMakesSense': 'A',\n  'favoriteOrCollect': 'A',\n  'tpmSkill1': 'C',\n  'tpmSkill2': 'C',\n  'tpmSkill3': 'A',\n  'tpmInterest1': 2,\n  'tpmInterest2': 1,\n  'tpmInterest3': 1,\n  'tpmInterest4': 2,\n  'uxInterest1': 0,\n  'uxInterest2': 0,\n  'frontendInterest1': 0,\n  'frontendInterest2': 0,\n  'backendInterest1': 0,\n  'backendInterest2': 0,\n  'dataEngInterest1': 1,\n  'dataEngInterest2': 3,\n  'dataEngInterest3': 2,\n  'mlEngInterest1': 4,\n  'mlEngInterest2': 4,\n  'mlEngInterest3': 2,\n  'mlOpsInterest1': 3,\n  'mlOpsInterest2': 2,\n  'mlOpsInterest3': 3,\n  'tpmSkillRank': 0.0,\n  'tpmInterestRank': 0.375,\n  'uxInterestRank': None,\n  'frontendInterestRank': None,\n  'backendInterestRank': None,\n  'dataEngInterestRank': 0.5,\n  'mlEngInterestRank': 0.8333333333333334,\n  'mlOpsInterestRank': 0.6666666666666666},\n {'lambdaId': 'PR8775a0A1tEy60L',\n  'name': 'Eleanor Wood',\n  'track': 'Web',\n  'labsProject': 'Test Product - A',\n  'gitExpertise': 1,\n  'dockerExpertise': 1,\n  'playByEar': 1,\n  'detailOriented': 4,\n  'speakUpInDiscussions': 4,\n  'soloOrSocial': 'B',\n  'meaningOrValue': 'A',\n  'feelsRightOrMakesSense': 'A',\n  'favoriteOrCollect': 'B',\n  'tpmSkill1': 'A',\n  'tpmSkill2': 'C',\n  'tpmSkill3': 'B',\n  'tpmInterest1': 1,\n  'tpmInterest2': 1,\n  'tpmInterest3': 3,\n  'tpmInterest4': 1,\n  'uxInterest1': 2,\n  'uxInterest2': 3,\n  'frontendInterest1': 4,\n  'frontendInterest2': 1,\n  'backendInterest1': 3,\n  'backendInterest2': 2,\n  'dataEngInterest1': 0,\n  'dataEngInterest2': 0,\n  'dataEngInterest3': 0,\n  'mlEngInterest1': 0,\n  'mlEngInterest2': 0,\n  'mlEngInterest3': 0,\n  'mlOpsInterest1': 0,\n  'mlOpsInterest2': 0,\n  'mlOpsInterest3': 0,\n  'tpmSkillRank': 0.0,\n  'tpmInterestRank': 0.375,\n  'uxInterestRank': 0.625,\n  'frontendInterestRank': 0.625,\n  'backendInterestRank': 0.625,\n  'dataEngInterestRank': None,\n  'mlEngInterestRank': None,\n  'mlOpsInterestRank': None},\n {'lambdaId': 'bTD35f3045ld4i7z',\n  'name': 'Amelia Rodriguez',\n  'track': 'DS',\n  'labsProject': 'Test Product - D',\n  'gitExpertise': 3,\n  'dockerExpertise': 4,\n  'playByEar': 2,\n  'detailOriented': 3,\n  'speakUpInDiscussions': 1,\n  'soloOrSocial': 'A',\n  'meaningOrValue': 'A',\n  'feelsRightOrMakesSense': 'A',\n  'favoriteOrCollect': 'A',\n  'tpmSkill1': 'B',\n  'tpmSkill2': 'C',\n  'tpmSkill3': 'B',\n  'tpmInterest1': 4,\n  'tpmInterest2': 2,\n  'tpmInterest3': 4,\n  'tpmInterest4': 4,\n  'uxInterest1': 0,\n  'uxInterest2': 0,\n  'frontendInterest1': 0,\n  'frontendInterest2': 0,\n  'backendInterest1': 0,\n  'backendInterest2': 0,\n  'dataEngInterest1': 3,\n  'dataEngInterest2': 3,\n  'dataEngInterest3': 1,\n  'mlEngInterest1': 2,\n  'mlEngInterest2': 4,\n  'mlEngInterest3': 1,\n  'mlOpsInterest1': 4,\n  'mlOpsInterest2': 2,\n  'mlOpsInterest3': 2,\n  'tpmSkillRank': 0.3333333333333333,\n  'tpmInterestRank': 0.875,\n  'uxInterestRank': None,\n  'frontendInterestRank': None,\n  'backendInterestRank': None,\n  'dataEngInterestRank': 0.5833333333333334,\n  'mlEngInterestRank': 0.5833333333333334,\n  'mlOpsInterestRank': 0.6666666666666666},\n {'lambdaId': '7z2RJ4V4z7T3s57x',\n  'name': 'Noah Wright',\n  'track': 'DS',\n  'labsProject': 'Test Product - C',\n  'gitExpertise': 5,\n  'dockerExpertise': 1,\n  'playByEar': 1,\n  'detailOriented': 5,\n  'speakUpInDiscussions': 2,\n  'soloOrSocial': 'A',\n  'meaningOrValue': 'A',\n  'feelsRightOrMakesSense': 'B',\n  'favoriteOrCollect': 'B',\n  'tpmSkill1': 'A',\n  'tpmSkill2': 'B',\n  'tpmSkill3': 'C',\n  'tpmInterest1': 2,\n  'tpmInterest2': 1,\n  'tpmInterest3': 1,\n  'tpmInterest4': 3,\n  'uxInterest1': 0,\n  'uxInterest2': 0,\n  'frontendInterest1': 0,\n  'frontendInterest2': 0,\n  'backendInterest1': 0,\n  'backendInterest2': 0,\n  'dataEngInterest1': 2,\n  'dataEngInterest2': 2,\n  'dataEngInterest3': 4,\n  'mlEngInterest1': 1,\n  'mlEngInterest2': 2,\n  'mlEngInterest3': 3,\n  'mlOpsInterest1': 1,\n  'mlOpsInterest2': 2,\n  'mlOpsInterest3': 3,\n  'tpmSkillRank': 0.6666666666666666,\n  'tpmInterestRank': 0.4375,\n  'uxInterestRank': None,\n  'frontendInterestRank': None,\n  'backendInterestRank': None,\n  'dataEngInterestRank': 0.6666666666666666,\n  'mlEngInterestRank': 0.5,\n  'mlOpsInterestRank': 0.5},\n {'lambdaId': 'NK206i4N207CMny0',\n  'name': 'Benjamin Hernandez',\n  'track': 'BD',\n  'labsProject': 'Test Product - E',\n  'gitExpertise': 5,\n  'dockerExpertise': 4,\n  'playByEar': 5,\n  'detailOriented': 1,\n  'speakUpInDiscussions': 3,\n  'soloOrSocial': 'B',\n  'meaningOrValue': 'B',\n  'feelsRightOrMakesSense': 'B',\n  'favoriteOrCollect': 'B',\n  'tpmSkill1': 'C',\n  'tpmSkill2': 'B',\n  'tpmSkill3': 'B',\n  'tpmInterest1': 3,\n  'tpmInterest2': 3,\n  'tpmInterest3': 4,\n  'tpmInterest4': 1,\n  'uxInterest1': 0,\n  'uxInterest2': 0,\n  'frontendInterest1': 0,\n  'frontendInterest2': 0,\n  'backendInterest1': 0,\n  'backendInterest2': 0,\n  'dataEngInterest1': 0,\n  'dataEngInterest2': 0,\n  'dataEngInterest3': 0,\n  'mlEngInterest1': 0,\n  'mlEngInterest2': 0,\n  'mlEngInterest3': 0,\n  'mlOpsInterest1': 0,\n  'mlOpsInterest2': 0,\n  'mlOpsInterest3': 0,\n  'tpmSkillRank': 0.3333333333333333,\n  'tpmInterestRank': 0.6875,\n  'uxInterestRank': None,\n  'frontendInterestRank': None,\n  'backendInterestRank': None,\n  'dataEngInterestRank': None,\n  'mlEngInterestRank': None,\n  'mlOpsInterestRank': None},\n {'lambdaId': 'Cb11ih546i4m85Fi',\n  'name': 'Jacob Torres',\n  'track': 'DS',\n  'labsProject': 'Test Product - C',\n  'gitExpertise': 2,\n  'dockerExpertise': 4,\n  'playByEar': 3,\n  'detailOriented': 4,\n  'speakUpInDiscussions': 1,\n  'soloOrSocial': 'A',\n  'meaningOrValue': 'B',\n  'feelsRightOrMakesSense': 'B',\n  'favoriteOrCollect': 'B',\n  'tpmSkill1': 'A',\n  'tpmSkill2': 'C',\n  'tpmSkill3': 'A',\n  'tpmInterest1': 1,\n  'tpmInterest2': 4,\n  'tpmInterest3': 3,\n  'tpmInterest4': 4,\n  'uxInterest1': 0,\n  'uxInterest2': 0,\n  'frontendInterest1': 0,\n  'frontendInterest2': 0,\n  'backendInterest1': 0,\n  'backendInterest2': 0,\n  'dataEngInterest1': 3,\n  'dataEngInterest2': 1,\n  'dataEngInterest3': 1,\n  'mlEngInterest1': 1,\n  'mlEngInterest2': 4,\n  'mlEngInterest3': 2,\n  'mlOpsInterest1': 4,\n  'mlOpsInterest2': 4,\n  'mlOpsInterest3': 2,\n  'tpmSkillRank': 0.0,\n  'tpmInterestRank': 0.75,\n  'uxInterestRank': None,\n  'frontendInterestRank': None,\n  'backendInterestRank': None,\n  'dataEngInterestRank': 0.4166666666666667,\n  'mlEngInterestRank': 0.5833333333333334,\n  'mlOpsInterestRank': 0.8333333333333334},\n {'lambdaId': 'QN3145qD1jdZ74Z2',\n  'name': 'Wyatt Scott',\n  'track': 'DS',\n  'labsProject': 'Test Product - B',\n  'gitExpertise': 1,\n  'dockerExpertise': 3,\n  'playByEar': 3,\n  'detailOriented': 3,\n  'speakUpInDiscussions': 1,\n  'soloOrSocial': 'A',\n  'meaningOrValue': 'A',\n  'feelsRightOrMakesSense': 'A',\n  'favoriteOrCollect': 'B',\n  'tpmSkill1': 'C',\n  'tpmSkill2': 'A',\n  'tpmSkill3': 'A',\n  'tpmInterest1': 4,\n  'tpmInterest2': 4,\n  'tpmInterest3': 2,\n  'tpmInterest4': 4,\n  'uxInterest1': 0,\n  'uxInterest2': 0,\n  'frontendInterest1': 0,\n  'frontendInterest2': 0,\n  'backendInterest1': 0,\n  'backendInterest2': 0,\n  'dataEngInterest1': 1,\n  'dataEngInterest2': 2,\n  'dataEngInterest3': 4,\n  'mlEngInterest1': 3,\n  'mlEngInterest2': 1,\n  'mlEngInterest3': 2,\n  'mlOpsInterest1': 4,\n  'mlOpsInterest2': 4,\n  'mlOpsInterest3': 2,\n  'tpmSkillRank': 0.0,\n  'tpmInterestRank': 0.875,\n  'uxInterestRank': None,\n  'frontendInterestRank': None,\n  'backendInterestRank': None,\n  'dataEngInterestRank': 0.5833333333333334,\n  'mlEngInterestRank': 0.5,\n  'mlOpsInterestRank': 0.8333333333333334},\n {'lambdaId': 'r31g83C5fgCO683k',\n  'name': 'Mila Walker',\n  'track': 'Web',\n  'labsProject': 'Test Product - D',\n  'gitExpertise': 2,\n  'dockerExpertise': 4,\n  'playByEar': 4,\n  'detailOriented': 3,\n  'speakUpInDiscussions': 4,\n  'soloOrSocial': 'B',\n  'meaningOrValue': 'B',\n  'feelsRightOrMakesSense': 'A',\n  'favoriteOrCollect': 'B',\n  'tpmSkill1': 'B',\n  'tpmSkill2': 'A',\n  'tpmSkill3': 'A',\n  'tpmInterest1': 4,\n  'tpmInterest2': 1,\n  'tpmInterest3': 1,\n  'tpmInterest4': 2,\n  'uxInterest1': 1,\n  'uxInterest2': 2,\n  'frontendInterest1': 3,\n  'frontendInterest2': 4,\n  'backendInterest1': 1,\n  'backendInterest2': 1,\n  'dataEngInterest1': 0,\n  'dataEngInterest2': 0,\n  'dataEngInterest3': 0,\n  'mlEngInterest1': 0,\n  'mlEngInterest2': 0,\n  'mlEngInterest3': 0,\n  'mlOpsInterest1': 0,\n  'mlOpsInterest2': 0,\n  'mlOpsInterest3': 0,\n  'tpmSkillRank': 0.3333333333333333,\n  'tpmInterestRank': 0.5,\n  'uxInterestRank': 0.375,\n  'frontendInterestRank': 0.875,\n  'backendInterestRank': 0.25,\n  'dataEngInterestRank': None,\n  'mlEngInterestRank': None,\n  'mlOpsInterestRank': None},\n {'lambdaId': 'yy064uS516p4Ao7j',\n  'name': 'Harper King',\n  'track': 'Web',\n  'labsProject': 'Test Product - A',\n  'gitExpertise': 4,\n  'dockerExpertise': 1,\n  'playByEar': 2,\n  'detailOriented': 1,\n  'speakUpInDiscussions': 1,\n  'soloOrSocial': 'A',\n  'meaningOrValue': 'B',\n  'feelsRightOrMakesSense': 'B',\n  'favoriteOrCollect': 'A',\n  'tpmSkill1': 'A',\n  'tpmSkill2': 'C',\n  'tpmSkill3': 'A',\n  'tpmInterest1': 3,\n  'tpmInterest2': 2,\n  'tpmInterest3': 2,\n  'tpmInterest4': 3,\n  'uxInterest1': 4,\n  'uxInterest2': 1,\n  'frontendInterest1': 4,\n  'frontendInterest2': 4,\n  'backendInterest1': 4,\n  'backendInterest2': 3,\n  'dataEngInterest1': 0,\n  'dataEngInterest2': 0,\n  'dataEngInterest3': 0,\n  'mlEngInterest1': 0,\n  'mlEngInterest2': 0,\n  'mlEngInterest3': 0,\n  'mlOpsInterest1': 0,\n  'mlOpsInterest2': 0,\n  'mlOpsInterest3': 0,\n  'tpmSkillRank': 0.0,\n  'tpmInterestRank': 0.625,\n  'uxInterestRank': 0.625,\n  'frontendInterestRank': 1.0,\n  'backendInterestRank': 0.875,\n  'dataEngInterestRank': None,\n  'mlEngInterestRank': None,\n  'mlOpsInterestRank': None},\n {'lambdaId': '07I41opY62G1w6Ld',\n  'name': 'Liam Lewis',\n  'track': 'BD',\n  'labsProject': 'Test Product - E',\n  'gitExpertise': 2,\n  'dockerExpertise': 3,\n  'playByEar': 1,\n  'detailOriented': 5,\n  'speakUpInDiscussions': 5,\n  'soloOrSocial': 'B',\n  'meaningOrValue': 'A',\n  'feelsRightOrMakesSense': 'A',\n  'favoriteOrCollect': 'B',\n  'tpmSkill1': 'C',\n  'tpmSkill2': 'C',\n  'tpmSkill3': 'C',\n  'tpmInterest1': 2,\n  'tpmInterest2': 3,\n  'tpmInterest3': 1,\n  'tpmInterest4': 3,\n  'uxInterest1': 0,\n  'uxInterest2': 0,\n  'frontendInterest1': 0,\n  'frontendInterest2': 0,\n  'backendInterest1': 0,\n  'backendInterest2': 0,\n  'dataEngInterest1': 0,\n  'dataEngInterest2': 0,\n  'dataEngInterest3': 0,\n  'mlEngInterest1': 0,\n  'mlEngInterest2': 0,\n  'mlEngInterest3': 0,\n  'mlOpsInterest1': 0,\n  'mlOpsInterest2': 0,\n  'mlOpsInterest3': 0,\n  'tpmSkillRank': 0.3333333333333333,\n  'tpmInterestRank': 0.5625,\n  'uxInterestRank': None,\n  'frontendInterestRank': None,\n  'backendInterestRank': None,\n  'dataEngInterestRank': None,\n  'mlEngInterestRank': None,\n  'mlOpsInterestRank': None},\n {'lambdaId': '8777tk1cg8GscZ21',\n  'name': 'Sophia Gonzales',\n  'track': 'DS',\n  'labsProject': 'Test Product - C',\n  'gitExpertise': 3,\n  'dockerExpertise': 5,\n  'playByEar': 3,\n  'detailOriented': 5,\n  'speakUpInDiscussions': 4,\n  'soloOrSocial': 'B',\n  'meaningOrValue': 'B',\n  'feelsRightOrMakesSense': 'B',\n  'favoriteOrCollect': 'B',\n  'tpmSkill1': 'A',\n  'tpmSkill2': 'B',\n  'tpmSkill3': 'C',\n  'tpmInterest1': 1,\n  'tpmInterest2': 4,\n  'tpmInterest3': 2,\n  'tpmInterest4': 2,\n  'uxInterest1': 0,\n  'uxInterest2': 0,\n  'frontendInterest1': 0,\n  'frontendInterest2': 0,\n  'backendInterest1': 0,\n  'backendInterest2': 0,\n  'dataEngInterest1': 4,\n  'dataEngInterest2': 1,\n  'dataEngInterest3': 4,\n  'mlEngInterest1': 3,\n  'mlEngInterest2': 2,\n  'mlEngInterest3': 3,\n  'mlOpsInterest1': 4,\n  'mlOpsInterest2': 1,\n  'mlOpsInterest3': 3,\n  'tpmSkillRank': 0.6666666666666666,\n  'tpmInterestRank': 0.5625,\n  'uxInterestRank': None,\n  'frontendInterestRank': None,\n  'backendInterestRank': None,\n  'dataEngInterestRank': 0.75,\n  'mlEngInterestRank': 0.6666666666666666,\n  'mlOpsInterestRank': 0.6666666666666666},\n {'lambdaId': 'o414uCJ604JJ00Pa',\n  'name': 'Abigail Thomas',\n  'track': 'Web',\n  'labsProject': 'Test Product - B',\n  'gitExpertise': 3,\n  'dockerExpertise': 4,\n  'playByEar': 4,\n  'detailOriented': 2,\n  'speakUpInDiscussions': 1,\n  'soloOrSocial': 'B',\n  'meaningOrValue': 'A',\n  'feelsRightOrMakesSense': 'A',\n  'favoriteOrCollect': 'B',\n  'tpmSkill1': 'C',\n  'tpmSkill2': 'C',\n  'tpmSkill3': 'C',\n  'tpmInterest1': 4,\n  'tpmInterest2': 3,\n  'tpmInterest3': 2,\n  'tpmInterest4': 3,\n  'uxInterest1': 4,\n  'uxInterest2': 3,\n  'frontendInterest1': 3,\n  'frontendInterest2': 3,\n  'backendInterest1': 1,\n  'backendInterest2': 3,\n  'dataEngInterest1': 0,\n  'dataEngInterest2': 0,\n  'dataEngInterest3': 0,\n  'mlEngInterest1': 0,\n  'mlEngInterest2': 0,\n  'mlEngInterest3': 0,\n  'mlOpsInterest1': 0,\n  'mlOpsInterest2': 0,\n  'mlOpsInterest3': 0,\n  'tpmSkillRank': 0.3333333333333333,\n  'tpmInterestRank': 0.75,\n  'uxInterestRank': 0.875,\n  'frontendInterestRank': 0.75,\n  'backendInterestRank': 0.5,\n  'dataEngInterestRank': None,\n  'mlEngInterestRank': None,\n  'mlOpsInterestRank': None},\n {'lambdaId': 'MZ1eJo88xp16N656',\n  'name': 'Chloe Taylor',\n  'track': 'DS',\n  'labsProject': 'Test Product - D',\n  'gitExpertise': 3,\n  'dockerExpertise': 2,\n  'playByEar': 4,\n  'detailOriented': 2,\n  'speakUpInDiscussions': 2,\n  'soloOrSocial': 'B',\n  'meaningOrValue': 'B',\n  'feelsRightOrMakesSense': 'A',\n  'favoriteOrCollect': 'A',\n  'tpmSkill1': 'C',\n  'tpmSkill2': 'A',\n  'tpmSkill3': 'B',\n  'tpmInterest1': 2,\n  'tpmInterest2': 1,\n  'tpmInterest3': 1,\n  'tpmInterest4': 2,\n  'uxInterest1': 0,\n  'uxInterest2': 0,\n  'frontendInterest1': 0,\n  'frontendInterest2': 0,\n  'backendInterest1': 0,\n  'backendInterest2': 0,\n  'dataEngInterest1': 1,\n  'dataEngInterest2': 1,\n  'dataEngInterest3': 2,\n  'mlEngInterest1': 4,\n  'mlEngInterest2': 4,\n  'mlEngInterest3': 1,\n  'mlOpsInterest1': 2,\n  'mlOpsInterest2': 3,\n  'mlOpsInterest3': 3,\n  'tpmSkillRank': 0.0,\n  'tpmInterestRank': 0.375,\n  'uxInterestRank': None,\n  'frontendInterestRank': None,\n  'backendInterestRank': None,\n  'dataEngInterestRank': 0.3333333333333333,\n  'mlEngInterestRank': 0.75,\n  'mlOpsInterestRank': 0.6666666666666666},\n {'lambdaId': 'eC846888qNtr2Qd6',\n  'name': 'Mia Torres',\n  'track': 'DS',\n  'labsProject': 'Test Product - C',\n  'gitExpertise': 3,\n  'dockerExpertise': 2,\n  'playByEar': 2,\n  'detailOriented': 2,\n  'speakUpInDiscussions': 2,\n  'soloOrSocial': 'B',\n  'meaningOrValue': 'B',\n  'feelsRightOrMakesSense': 'A',\n  'favoriteOrCollect': 'A',\n  'tpmSkill1': 'A',\n  'tpmSkill2': 'A',\n  'tpmSkill3': 'A',\n  'tpmInterest1': 4,\n  'tpmInterest2': 2,\n  'tpmInterest3': 4,\n  'tpmInterest4': 2,\n  'uxInterest1': 0,\n  'uxInterest2': 0,\n  'frontendInterest1': 0,\n  'frontendInterest2': 0,\n  'backendInterest1': 0,\n  'backendInterest2': 0,\n  'dataEngInterest1': 1,\n  'dataEngInterest2': 4,\n  'dataEngInterest3': 1,\n  'mlEngInterest1': 2,\n  'mlEngInterest2': 3,\n  'mlEngInterest3': 1,\n  'mlOpsInterest1': 3,\n  'mlOpsInterest2': 3,\n  'mlOpsInterest3': 1,\n  'tpmSkillRank': 0.0,\n  'tpmInterestRank': 0.75,\n  'uxInterestRank': None,\n  'frontendInterestRank': None,\n  'backendInterestRank': None,\n  'dataEngInterestRank': 0.5,\n  'mlEngInterestRank': 0.5,\n  'mlOpsInterestRank': 0.5833333333333334},\n {'lambdaId': 'Z30S5khI10sl68A7',\n  'name': 'Jack Johnson',\n  'track': 'Web',\n  'labsProject': 'Test Product - B',\n  'gitExpertise': 2,\n  'dockerExpertise': 4,\n  'playByEar': 1,\n  'detailOriented': 1,\n  'speakUpInDiscussions': 5,\n  'soloOrSocial': 'B',\n  'meaningOrValue': 'B',\n  'feelsRightOrMakesSense': 'B',\n  'favoriteOrCollect': 'B',\n  'tpmSkill1': 'B',\n  'tpmSkill2': 'B',\n  'tpmSkill3': 'B',\n  'tpmInterest1': 4,\n  'tpmInterest2': 4,\n  'tpmInterest3': 4,\n  'tpmInterest4': 4,\n  'uxInterest1': 1,\n  'uxInterest2': 4,\n  'frontendInterest1': 3,\n  'frontendInterest2': 3,\n  'backendInterest1': 4,\n  'backendInterest2': 2,\n  'dataEngInterest1': 0,\n  'dataEngInterest2': 0,\n  'dataEngInterest3': 0,\n  'mlEngInterest1': 0,\n  'mlEngInterest2': 0,\n  'mlEngInterest3': 0,\n  'mlOpsInterest1': 0,\n  'mlOpsInterest2': 0,\n  'mlOpsInterest3': 0,\n  'tpmSkillRank': 0.6666666666666666,\n  'tpmInterestRank': 1.0,\n  'uxInterestRank': 0.625,\n  'frontendInterestRank': 0.75,\n  'backendInterestRank': 0.75,\n  'dataEngInterestRank': None,\n  'mlEngInterestRank': None,\n  'mlOpsInterestRank': None},\n {'lambdaId': 'HT70A0837DvfOQ73',\n  'name': 'Abigail Hill',\n  'track': 'DS',\n  'labsProject': 'Test Product - D',\n  'gitExpertise': 4,\n  'dockerExpertise': 2,\n  'playByEar': 1,\n  'detailOriented': 3,\n  'speakUpInDiscussions': 1,\n  'soloOrSocial': 'A',\n  'meaningOrValue': 'A',\n  'feelsRightOrMakesSense': 'A',\n  'favoriteOrCollect': 'A',\n  'tpmSkill1': 'C',\n  'tpmSkill2': 'A',\n  'tpmSkill3': 'B',\n  'tpmInterest1': 2,\n  'tpmInterest2': 4,\n  'tpmInterest3': 2,\n  'tpmInterest4': 4,\n  'uxInterest1': 0,\n  'uxInterest2': 0,\n  'frontendInterest1': 0,\n  'frontendInterest2': 0,\n  'backendInterest1': 0,\n  'backendInterest2': 0,\n  'dataEngInterest1': 4,\n  'dataEngInterest2': 2,\n  'dataEngInterest3': 2,\n  'mlEngInterest1': 2,\n  'mlEngInterest2': 1,\n  'mlEngInterest3': 3,\n  'mlOpsInterest1': 1,\n  'mlOpsInterest2': 1,\n  'mlOpsInterest3': 3,\n  'tpmSkillRank': 0.0,\n  'tpmInterestRank': 0.75,\n  'uxInterestRank': None,\n  'frontendInterestRank': None,\n  'backendInterestRank': None,\n  'dataEngInterestRank': 0.6666666666666666,\n  'mlEngInterestRank': 0.5,\n  'mlOpsInterestRank': 0.4166666666666667},\n {'lambdaId': '244Kj7Pg7tL566mE',\n  'name': 'Gianna Ramirez',\n  'track': 'Web',\n  'labsProject': 'Test Product - C',\n  'gitExpertise': 5,\n  'dockerExpertise': 5,\n  'playByEar': 5,\n  'detailOriented': 3,\n  'speakUpInDiscussions': 3,\n  'soloOrSocial': 'A',\n  'meaningOrValue': 'B',\n  'feelsRightOrMakesSense': 'B',\n  'favoriteOrCollect': 'B',\n  'tpmSkill1': 'A',\n  'tpmSkill2': 'B',\n  'tpmSkill3': 'A',\n  'tpmInterest1': 2,\n  'tpmInterest2': 3,\n  'tpmInterest3': 3,\n  'tpmInterest4': 1,\n  'uxInterest1': 1,\n  'uxInterest2': 3,\n  'frontendInterest1': 1,\n  'frontendInterest2': 1,\n  'backendInterest1': 1,\n  'backendInterest2': 1,\n  'dataEngInterest1': 0,\n  'dataEngInterest2': 0,\n  'dataEngInterest3': 0,\n  'mlEngInterest1': 0,\n  'mlEngInterest2': 0,\n  'mlEngInterest3': 0,\n  'mlOpsInterest1': 0,\n  'mlOpsInterest2': 0,\n  'mlOpsInterest3': 0,\n  'tpmSkillRank': 0.3333333333333333,\n  'tpmInterestRank': 0.5625,\n  'uxInterestRank': 0.5,\n  'frontendInterestRank': 0.25,\n  'backendInterestRank': 0.25,\n  'dataEngInterestRank': None,\n  'mlEngInterestRank': None,\n  'mlOpsInterestRank': None},\n {'lambdaId': 'h8M41P8Y1uV2H1q3',\n  'name': 'Sofia Jackson',\n  'track': 'Web',\n  'labsProject': 'Test Product - B',\n  'gitExpertise': 2,\n  'dockerExpertise': 1,\n  'playByEar': 3,\n  'detailOriented': 1,\n  'speakUpInDiscussions': 1,\n  'soloOrSocial': 'B',\n  'meaningOrValue': 'A',\n  'feelsRightOrMakesSense': 'B',\n  'favoriteOrCollect': 'B',\n  'tpmSkill1': 'A',\n  'tpmSkill2': 'A',\n  'tpmSkill3': 'C',\n  'tpmInterest1': 3,\n  'tpmInterest2': 4,\n  'tpmInterest3': 2,\n  'tpmInterest4': 4,\n  'uxInterest1': 1,\n  'uxInterest2': 3,\n  'frontendInterest1': 2,\n  'frontendInterest2': 3,\n  'backendInterest1': 1,\n  'backendInterest2': 1,\n  'dataEngInterest1': 0,\n  'dataEngInterest2': 0,\n  'dataEngInterest3': 0,\n  'mlEngInterest1': 0,\n  'mlEngInterest2': 0,\n  'mlEngInterest3': 0,\n  'mlOpsInterest1': 0,\n  'mlOpsInterest2': 0,\n  'mlOpsInterest3': 0,\n  'tpmSkillRank': 0.3333333333333333,\n  'tpmInterestRank': 0.8125,\n  'uxInterestRank': 0.5,\n  'frontendInterestRank': 0.625,\n  'backendInterestRank': 0.25,\n  'dataEngInterestRank': None,\n  'mlEngInterestRank': None,\n  'mlOpsInterestRank': None},\n {'lambdaId': 'T1R02e5e4tB73kl0',\n  'name': 'Sophia Gonzales',\n  'track': 'Web',\n  'labsProject': 'Test Product - D',\n  'gitExpertise': 2,\n  'dockerExpertise': 2,\n  'playByEar': 3,\n  'detailOriented': 2,\n  'speakUpInDiscussions': 3,\n  'soloOrSocial': 'A',\n  'meaningOrValue': 'B',\n  'feelsRightOrMakesSense': 'B',\n  'favoriteOrCollect': 'B',\n  'tpmSkill1': 'C',\n  'tpmSkill2': 'C',\n  'tpmSkill3': 'A',\n  'tpmInterest1': 2,\n  'tpmInterest2': 1,\n  'tpmInterest3': 2,\n  'tpmInterest4': 2,\n  'uxInterest1': 1,\n  'uxInterest2': 3,\n  'frontendInterest1': 3,\n  'frontendInterest2': 2,\n  'backendInterest1': 1,\n  'backendInterest2': 2,\n  'dataEngInterest1': 0,\n  'dataEngInterest2': 0,\n  'dataEngInterest3': 0,\n  'mlEngInterest1': 0,\n  'mlEngInterest2': 0,\n  'mlEngInterest3': 0,\n  'mlOpsInterest1': 0,\n  'mlOpsInterest2': 0,\n  'mlOpsInterest3': 0,\n  'tpmSkillRank': 0.0,\n  'tpmInterestRank': 0.4375,\n  'uxInterestRank': 0.5,\n  'frontendInterestRank': 0.625,\n  'backendInterestRank': 0.375,\n  'dataEngInterestRank': None,\n  'mlEngInterestRank': None,\n  'mlOpsInterestRank': None},\n {'lambdaId': '01V3Bv375JEa6M4z',\n  'name': 'Ella Hill',\n  'track': 'DS',\n  'labsProject': 'Test Product - C',\n  'gitExpertise': 2,\n  'dockerExpertise': 1,\n  'playByEar': 4,\n  'detailOriented': 3,\n  'speakUpInDiscussions': 4,\n  'soloOrSocial': 'B',\n  'meaningOrValue': 'B',\n  'feelsRightOrMakesSense': 'B',\n  'favoriteOrCollect': 'A',\n  'tpmSkill1': 'C',\n  'tpmSkill2': 'C',\n  'tpmSkill3': 'C',\n  'tpmInterest1': 3,\n  'tpmInterest2': 1,\n  'tpmInterest3': 4,\n  'tpmInterest4': 1,\n  'uxInterest1': 0,\n  'uxInterest2': 0,\n  'frontendInterest1': 0,\n  'frontendInterest2': 0,\n  'backendInterest1': 0,\n  'backendInterest2': 0,\n  'dataEngInterest1': 2,\n  'dataEngInterest2': 4,\n  'dataEngInterest3': 1,\n  'mlEngInterest1': 1,\n  'mlEngInterest2': 2,\n  'mlEngInterest3': 3,\n  'mlOpsInterest1': 4,\n  'mlOpsInterest2': 2,\n  'mlOpsInterest3': 2,\n  'tpmSkillRank': 0.3333333333333333,\n  'tpmInterestRank': 0.5625,\n  'uxInterestRank': None,\n  'frontendInterestRank': None,\n  'backendInterestRank': None,\n  'dataEngInterestRank': 0.5833333333333334,\n  'mlEngInterestRank': 0.5,\n  'mlOpsInterestRank': 0.6666666666666666},\n {'lambdaId': '8e12V876Pqmg1BD7',\n  'name': 'Harper Taylor',\n  'track': 'Web',\n  'labsProject': 'Test Product - A',\n  'gitExpertise': 4,\n  'dockerExpertise': 3,\n  'playByEar': 1,\n  'detailOriented': 5,\n  'speakUpInDiscussions': 1,\n  'soloOrSocial': 'A',\n  'meaningOrValue': 'A',\n  'feelsRightOrMakesSense': 'B',\n  'favoriteOrCollect': 'A',\n  'tpmSkill1': 'C',\n  'tpmSkill2': 'B',\n  'tpmSkill3': 'B',\n  'tpmInterest1': 3,\n  'tpmInterest2': 3,\n  'tpmInterest3': 1,\n  'tpmInterest4': 3,\n  'uxInterest1': 4,\n  'uxInterest2': 2,\n  'frontendInterest1': 2,\n  'frontendInterest2': 4,\n  'backendInterest1': 2,\n  'backendInterest2': 4,\n  'dataEngInterest1': 0,\n  'dataEngInterest2': 0,\n  'dataEngInterest3': 0,\n  'mlEngInterest1': 0,\n  'mlEngInterest2': 0,\n  'mlEngInterest3': 0,\n  'mlOpsInterest1': 0,\n  'mlOpsInterest2': 0,\n  'mlOpsInterest3': 0,\n  'tpmSkillRank': 0.3333333333333333,\n  'tpmInterestRank': 0.625,\n  'uxInterestRank': 0.75,\n  'frontendInterestRank': 0.75,\n  'backendInterestRank': 0.75,\n  'dataEngInterestRank': None,\n  'mlEngInterestRank': None,\n  'mlOpsInterestRank': None},\n {'lambdaId': 'uZ4cP3mOL137A653',\n  'name': 'Nora White',\n  'track': 'Web',\n  'labsProject': 'Test Product - B',\n  'gitExpertise': 2,\n  'dockerExpertise': 1,\n  'playByEar': 4,\n  'detailOriented': 5,\n  'speakUpInDiscussions': 2,\n  'soloOrSocial': 'A',\n  'meaningOrValue': 'A',\n  'feelsRightOrMakesSense': 'B',\n  'favoriteOrCollect': 'B',\n  'tpmSkill1': 'C',\n  'tpmSkill2': 'A',\n  'tpmSkill3': 'A',\n  'tpmInterest1': 4,\n  'tpmInterest2': 4,\n  'tpmInterest3': 3,\n  'tpmInterest4': 3,\n  'uxInterest1': 1,\n  'uxInterest2': 2,\n  'frontendInterest1': 4,\n  'frontendInterest2': 4,\n  'backendInterest1': 4,\n  'backendInterest2': 1,\n  'dataEngInterest1': 0,\n  'dataEngInterest2': 0,\n  'dataEngInterest3': 0,\n  'mlEngInterest1': 0,\n  'mlEngInterest2': 0,\n  'mlEngInterest3': 0,\n  'mlOpsInterest1': 0,\n  'mlOpsInterest2': 0,\n  'mlOpsInterest3': 0,\n  'tpmSkillRank': 0.0,\n  'tpmInterestRank': 0.875,\n  'uxInterestRank': 0.375,\n  'frontendInterestRank': 1.0,\n  'backendInterestRank': 0.625,\n  'dataEngInterestRank': None,\n  'mlEngInterestRank': None,\n  'mlOpsInterestRank': None},\n {'lambdaId': '128tQQJ6a0B0Ps47',\n  'name': 'Elizabeth Williams',\n  'track': 'DS',\n  'labsProject': 'Test Product - D',\n  'gitExpertise': 4,\n  'dockerExpertise': 5,\n  'playByEar': 1,\n  'detailOriented': 1,\n  'speakUpInDiscussions': 2,\n  'soloOrSocial': 'A',\n  'meaningOrValue': 'B',\n  'feelsRightOrMakesSense': 'B',\n  'favoriteOrCollect': 'B',\n  'tpmSkill1': 'B',\n  'tpmSkill2': 'A',\n  'tpmSkill3': 'C',\n  'tpmInterest1': 3,\n  'tpmInterest2': 2,\n  'tpmInterest3': 1,\n  'tpmInterest4': 3,\n  'uxInterest1': 0,\n  'uxInterest2': 0,\n  'frontendInterest1': 0,\n  'frontendInterest2': 0,\n  'backendInterest1': 0,\n  'backendInterest2': 0,\n  'dataEngInterest1': 1,\n  'dataEngInterest2': 4,\n  'dataEngInterest3': 1,\n  'mlEngInterest1': 1,\n  'mlEngInterest2': 4,\n  'mlEngInterest3': 4,\n  'mlOpsInterest1': 3,\n  'mlOpsInterest2': 3,\n  'mlOpsInterest3': 3,\n  'tpmSkillRank': 0.6666666666666666,\n  'tpmInterestRank': 0.5625,\n  'uxInterestRank': None,\n  'frontendInterestRank': None,\n  'backendInterestRank': None,\n  'dataEngInterestRank': 0.5,\n  'mlEngInterestRank': 0.75,\n  'mlOpsInterestRank': 0.75},\n {'lambdaId': '14cK1ce1700xv3hf',\n  'name': 'Daniel Watson',\n  'track': 'DS',\n  'labsProject': 'Test Product - C',\n  'gitExpertise': 2,\n  'dockerExpertise': 5,\n  'playByEar': 3,\n  'detailOriented': 3,\n  'speakUpInDiscussions': 5,\n  'soloOrSocial': 'A',\n  'meaningOrValue': 'B',\n  'feelsRightOrMakesSense': 'B',\n  'favoriteOrCollect': 'A',\n  'tpmSkill1': 'A',\n  'tpmSkill2': 'C',\n  'tpmSkill3': 'B',\n  'tpmInterest1': 1,\n  'tpmInterest2': 2,\n  'tpmInterest3': 3,\n  'tpmInterest4': 4,\n  'uxInterest1': 0,\n  'uxInterest2': 0,\n  'frontendInterest1': 0,\n  'frontendInterest2': 0,\n  'backendInterest1': 0,\n  'backendInterest2': 0,\n  'dataEngInterest1': 1,\n  'dataEngInterest2': 4,\n  'dataEngInterest3': 1,\n  'mlEngInterest1': 2,\n  'mlEngInterest2': 3,\n  'mlEngInterest3': 1,\n  'mlOpsInterest1': 4,\n  'mlOpsInterest2': 3,\n  'mlOpsInterest3': 1,\n  'tpmSkillRank': 0.0,\n  'tpmInterestRank': 0.625,\n  'uxInterestRank': None,\n  'frontendInterestRank': None,\n  'backendInterestRank': None,\n  'dataEngInterestRank': 0.5,\n  'mlEngInterestRank': 0.5,\n  'mlOpsInterestRank': 0.6666666666666666},\n {'lambdaId': '45V5W38izX23s2BZ',\n  'name': 'David Smith',\n  'track': 'Web',\n  'labsProject': 'Test Product - A',\n  'gitExpertise': 2,\n  'dockerExpertise': 2,\n  'playByEar': 1,\n  'detailOriented': 5,\n  'speakUpInDiscussions': 2,\n  'soloOrSocial': 'B',\n  'meaningOrValue': 'A',\n  'feelsRightOrMakesSense': 'B',\n  'favoriteOrCollect': 'B',\n  'tpmSkill1': 'A',\n  'tpmSkill2': 'A',\n  'tpmSkill3': 'B',\n  'tpmInterest1': 4,\n  'tpmInterest2': 1,\n  'tpmInterest3': 4,\n  'tpmInterest4': 1,\n  'uxInterest1': 1,\n  'uxInterest2': 3,\n  'frontendInterest1': 3,\n  'frontendInterest2': 2,\n  'backendInterest1': 1,\n  'backendInterest2': 3,\n  'dataEngInterest1': 0,\n  'dataEngInterest2': 0,\n  'dataEngInterest3': 0,\n  'mlEngInterest1': 0,\n  'mlEngInterest2': 0,\n  'mlEngInterest3': 0,\n  'mlOpsInterest1': 0,\n  'mlOpsInterest2': 0,\n  'mlOpsInterest3': 0,\n  'tpmSkillRank': 0.0,\n  'tpmInterestRank': 0.625,\n  'uxInterestRank': 0.5,\n  'frontendInterestRank': 0.625,\n  'backendInterestRank': 0.5,\n  'dataEngInterestRank': None,\n  'mlEngInterestRank': None,\n  'mlOpsInterestRank': None},\n {'lambdaId': '1w838en87I3lY7oS',\n  'name': 'Sofia Harris',\n  'track': 'DS',\n  'labsProject': 'Test Product - C',\n  'gitExpertise': 4,\n  'dockerExpertise': 1,\n  'playByEar': 5,\n  'detailOriented': 3,\n  'speakUpInDiscussions': 4,\n  'soloOrSocial': 'A',\n  'meaningOrValue': 'B',\n  'feelsRightOrMakesSense': 'A',\n  'favoriteOrCollect': 'A',\n  'tpmSkill1': 'B',\n  'tpmSkill2': 'C',\n  'tpmSkill3': 'C',\n  'tpmInterest1': 2,\n  'tpmInterest2': 3,\n  'tpmInterest3': 3,\n  'tpmInterest4': 3,\n  'uxInterest1': 0,\n  'uxInterest2': 0,\n  'frontendInterest1': 0,\n  'frontendInterest2': 0,\n  'backendInterest1': 0,\n  'backendInterest2': 0,\n  'dataEngInterest1': 4,\n  'dataEngInterest2': 4,\n  'dataEngInterest3': 3,\n  'mlEngInterest1': 2,\n  'mlEngInterest2': 1,\n  'mlEngInterest3': 2,\n  'mlOpsInterest1': 3,\n  'mlOpsInterest2': 3,\n  'mlOpsInterest3': 2,\n  'tpmSkillRank': 0.6666666666666666,\n  'tpmInterestRank': 0.6875,\n  'uxInterestRank': None,\n  'frontendInterestRank': None,\n  'backendInterestRank': None,\n  'dataEngInterestRank': 0.9166666666666666,\n  'mlEngInterestRank': 0.4166666666666667,\n  'mlOpsInterestRank': 0.6666666666666666},\n {'lambdaId': 'nP04Cd682xn0TN72',\n  'name': 'Mason Adams',\n  'track': 'Web',\n  'labsProject': 'Test Product - A',\n  'gitExpertise': 4,\n  'dockerExpertise': 3,\n  'playByEar': 1,\n  'detailOriented': 1,\n  'speakUpInDiscussions': 2,\n  'soloOrSocial': 'B',\n  'meaningOrValue': 'A',\n  'feelsRightOrMakesSense': 'B',\n  'favoriteOrCollect': 'B',\n  'tpmSkill1': 'A',\n  'tpmSkill2': 'B',\n  'tpmSkill3': 'A',\n  'tpmInterest1': 1,\n  'tpmInterest2': 4,\n  'tpmInterest3': 3,\n  'tpmInterest4': 4,\n  'uxInterest1': 4,\n  'uxInterest2': 2,\n  'frontendInterest1': 3,\n  'frontendInterest2': 1,\n  'backendInterest1': 3,\n  'backendInterest2': 1,\n  'dataEngInterest1': 0,\n  'dataEngInterest2': 0,\n  'dataEngInterest3': 0,\n  'mlEngInterest1': 0,\n  'mlEngInterest2': 0,\n  'mlEngInterest3': 0,\n  'mlOpsInterest1': 0,\n  'mlOpsInterest2': 0,\n  'mlOpsInterest3': 0,\n  'tpmSkillRank': 0.3333333333333333,\n  'tpmInterestRank': 0.75,\n  'uxInterestRank': 0.75,\n  'frontendInterestRank': 0.5,\n  'backendInterestRank': 0.5,\n  'dataEngInterestRank': None,\n  'mlEngInterestRank': None,\n  'mlOpsInterestRank': None},\n {'lambdaId': '1VkB1k7wX704Hz52',\n  'name': 'Sebastian Young',\n  'track': 'DS',\n  'labsProject': 'Test Product - C',\n  'gitExpertise': 5,\n  'dockerExpertise': 2,\n  'playByEar': 2,\n  'detailOriented': 3,\n  'speakUpInDiscussions': 2,\n  'soloOrSocial': 'B',\n  'meaningOrValue': 'B',\n  'feelsRightOrMakesSense': 'A',\n  'favoriteOrCollect': 'A',\n  'tpmSkill1': 'C',\n  'tpmSkill2': 'C',\n  'tpmSkill3': 'C',\n  'tpmInterest1': 1,\n  'tpmInterest2': 4,\n  'tpmInterest3': 1,\n  'tpmInterest4': 1,\n  'uxInterest1': 0,\n  'uxInterest2': 0,\n  'frontendInterest1': 0,\n  'frontendInterest2': 0,\n  'backendInterest1': 0,\n  'backendInterest2': 0,\n  'dataEngInterest1': 2,\n  'dataEngInterest2': 2,\n  'dataEngInterest3': 1,\n  'mlEngInterest1': 4,\n  'mlEngInterest2': 4,\n  'mlEngInterest3': 3,\n  'mlOpsInterest1': 2,\n  'mlOpsInterest2': 3,\n  'mlOpsInterest3': 3,\n  'tpmSkillRank': 0.3333333333333333,\n  'tpmInterestRank': 0.4375,\n  'uxInterestRank': None,\n  'frontendInterestRank': None,\n  'backendInterestRank': None,\n  'dataEngInterestRank': 0.4166666666666667,\n  'mlEngInterestRank': 0.9166666666666666,\n  'mlOpsInterestRank': 0.6666666666666666},\n {'lambdaId': 'y45DZ5p3288ziu1X',\n  'name': 'Ella Lopez',\n  'track': 'Web',\n  'labsProject': 'Test Product - A',\n  'gitExpertise': 2,\n  'dockerExpertise': 5,\n  'playByEar': 1,\n  'detailOriented': 4,\n  'speakUpInDiscussions': 2,\n  'soloOrSocial': 'B',\n  'meaningOrValue': 'A',\n  'feelsRightOrMakesSense': 'A',\n  'favoriteOrCollect': 'B',\n  'tpmSkill1': 'C',\n  'tpmSkill2': 'C',\n  'tpmSkill3': 'C',\n  'tpmInterest1': 1,\n  'tpmInterest2': 3,\n  'tpmInterest3': 2,\n  'tpmInterest4': 4,\n  'uxInterest1': 1,\n  'uxInterest2': 2,\n  'frontendInterest1': 4,\n  'frontendInterest2': 3,\n  'backendInterest1': 1,\n  'backendInterest2': 3,\n  'dataEngInterest1': 0,\n  'dataEngInterest2': 0,\n  'dataEngInterest3': 0,\n  'mlEngInterest1': 0,\n  'mlEngInterest2': 0,\n  'mlEngInterest3': 0,\n  'mlOpsInterest1': 0,\n  'mlOpsInterest2': 0,\n  'mlOpsInterest3': 0,\n  'tpmSkillRank': 0.3333333333333333,\n  'tpmInterestRank': 0.625,\n  'uxInterestRank': 0.375,\n  'frontendInterestRank': 0.875,\n  'backendInterestRank': 0.5,\n  'dataEngInterestRank': None,\n  'mlEngInterestRank': None,\n  'mlOpsInterestRank': None},\n {'lambdaId': 'm6fG4u6RD28k1d87',\n  'name': 'Michael Hall',\n  'track': 'Web',\n  'labsProject': 'Test Product - E',\n  'gitExpertise': 3,\n  'dockerExpertise': 5,\n  'playByEar': 3,\n  'detailOriented': 5,\n  'speakUpInDiscussions': 3,\n  'soloOrSocial': 'A',\n  'meaningOrValue': 'B',\n  'feelsRightOrMakesSense': 'B',\n  'favoriteOrCollect': 'A',\n  'tpmSkill1': 'B',\n  'tpmSkill2': 'A',\n  'tpmSkill3': 'A',\n  'tpmInterest1': 4,\n  'tpmInterest2': 3,\n  'tpmInterest3': 3,\n  'tpmInterest4': 2,\n  'uxInterest1': 3,\n  'uxInterest2': 1,\n  'frontendInterest1': 2,\n  'frontendInterest2': 4,\n  'backendInterest1': 1,\n  'backendInterest2': 3,\n  'dataEngInterest1': 0,\n  'dataEngInterest2': 0,\n  'dataEngInterest3': 0,\n  'mlEngInterest1': 0,\n  'mlEngInterest2': 0,\n  'mlEngInterest3': 0,\n  'mlOpsInterest1': 0,\n  'mlOpsInterest2': 0,\n  'mlOpsInterest3': 0,\n  'tpmSkillRank': 0.3333333333333333,\n  'tpmInterestRank': 0.75,\n  'uxInterestRank': 0.5,\n  'frontendInterestRank': 0.75,\n  'backendInterestRank': 0.5,\n  'dataEngInterestRank': None,\n  'mlEngInterestRank': None,\n  'mlOpsInterestRank': None},\n {'lambdaId': 'L36VZ5cY46Xc6p68',\n  'name': 'Sofia Moore',\n  'track': 'DS',\n  'labsProject': 'Test Product - C',\n  'gitExpertise': 2,\n  'dockerExpertise': 5,\n  'playByEar': 4,\n  'detailOriented': 1,\n  'speakUpInDiscussions': 5,\n  'soloOrSocial': 'A',\n  'meaningOrValue': 'A',\n  'feelsRightOrMakesSense': 'A',\n  'favoriteOrCollect': 'A',\n  'tpmSkill1': 'C',\n  'tpmSkill2': 'B',\n  'tpmSkill3': 'B',\n  'tpmInterest1': 4,\n  'tpmInterest2': 3,\n  'tpmInterest3': 3,\n  'tpmInterest4': 3,\n  'uxInterest1': 0,\n  'uxInterest2': 0,\n  'frontendInterest1': 0,\n  'frontendInterest2': 0,\n  'backendInterest1': 0,\n  'backendInterest2': 0,\n  'dataEngInterest1': 2,\n  'dataEngInterest2': 2,\n  'dataEngInterest3': 1,\n  'mlEngInterest1': 1,\n  'mlEngInterest2': 1,\n  'mlEngInterest3': 1,\n  'mlOpsInterest1': 3,\n  'mlOpsInterest2': 2,\n  'mlOpsInterest3': 3,\n  'tpmSkillRank': 0.3333333333333333,\n  'tpmInterestRank': 0.8125,\n  'uxInterestRank': None,\n  'frontendInterestRank': None,\n  'backendInterestRank': None,\n  'dataEngInterestRank': 0.4166666666666667,\n  'mlEngInterestRank': 0.25,\n  'mlOpsInterestRank': 0.6666666666666666},\n {'lambdaId': 'b7L0Lc2g73RG4o13',\n  'name': 'Sebastian Torres',\n  'track': 'DS',\n  'labsProject': 'Test Product - B',\n  'gitExpertise': 2,\n  'dockerExpertise': 5,\n  'playByEar': 1,\n  'detailOriented': 5,\n  'speakUpInDiscussions': 2,\n  'soloOrSocial': 'B',\n  'meaningOrValue': 'A',\n  'feelsRightOrMakesSense': 'A',\n  'favoriteOrCollect': 'A',\n  'tpmSkill1': 'A',\n  'tpmSkill2': 'A',\n  'tpmSkill3': 'A',\n  'tpmInterest1': 1,\n  'tpmInterest2': 1,\n  'tpmInterest3': 2,\n  'tpmInterest4': 3,\n  'uxInterest1': 0,\n  'uxInterest2': 0,\n  'frontendInterest1': 0,\n  'frontendInterest2': 0,\n  'backendInterest1': 0,\n  'backendInterest2': 0,\n  'dataEngInterest1': 3,\n  'dataEngInterest2': 1,\n  'dataEngInterest3': 1,\n  'mlEngInterest1': 2,\n  'mlEngInterest2': 4,\n  'mlEngInterest3': 2,\n  'mlOpsInterest1': 2,\n  'mlOpsInterest2': 4,\n  'mlOpsInterest3': 1,\n  'tpmSkillRank': 0.0,\n  'tpmInterestRank': 0.4375,\n  'uxInterestRank': None,\n  'frontendInterestRank': None,\n  'backendInterestRank': None,\n  'dataEngInterestRank': 0.4166666666666667,\n  'mlEngInterestRank': 0.6666666666666666,\n  'mlOpsInterestRank': 0.5833333333333334},\n {'lambdaId': 'N06SKk6v6J0c30A1',\n  'name': 'Joseph Nelson',\n  'track': 'DS',\n  'labsProject': 'Test Product - D',\n  'gitExpertise': 4,\n  'dockerExpertise': 1,\n  'playByEar': 5,\n  'detailOriented': 5,\n  'speakUpInDiscussions': 5,\n  'soloOrSocial': 'B',\n  'meaningOrValue': 'B',\n  'feelsRightOrMakesSense': 'B',\n  'favoriteOrCollect': 'A',\n  'tpmSkill1': 'C',\n  'tpmSkill2': 'B',\n  'tpmSkill3': 'C',\n  'tpmInterest1': 4,\n  'tpmInterest2': 3,\n  'tpmInterest3': 2,\n  'tpmInterest4': 4,\n  'uxInterest1': 0,\n  'uxInterest2': 0,\n  'frontendInterest1': 0,\n  'frontendInterest2': 0,\n  'backendInterest1': 0,\n  'backendInterest2': 0,\n  'dataEngInterest1': 3,\n  'dataEngInterest2': 4,\n  'dataEngInterest3': 2,\n  'mlEngInterest1': 3,\n  'mlEngInterest2': 4,\n  'mlEngInterest3': 2,\n  'mlOpsInterest1': 2,\n  'mlOpsInterest2': 3,\n  'mlOpsInterest3': 3,\n  'tpmSkillRank': 0.6666666666666666,\n  'tpmInterestRank': 0.8125,\n  'uxInterestRank': None,\n  'frontendInterestRank': None,\n  'backendInterestRank': None,\n  'dataEngInterestRank': 0.75,\n  'mlEngInterestRank': 0.75,\n  'mlOpsInterestRank': 0.6666666666666666},\n {'lambdaId': '1p8rS1406jpdE46g',\n  'name': 'Amelia Brown',\n  'track': 'Web',\n  'labsProject': 'Test Product - A',\n  'gitExpertise': 3,\n  'dockerExpertise': 4,\n  'playByEar': 5,\n  'detailOriented': 1,\n  'speakUpInDiscussions': 2,\n  'soloOrSocial': 'B',\n  'meaningOrValue': 'B',\n  'feelsRightOrMakesSense': 'A',\n  'favoriteOrCollect': 'B',\n  'tpmSkill1': 'B',\n  'tpmSkill2': 'A',\n  'tpmSkill3': 'B',\n  'tpmInterest1': 2,\n  'tpmInterest2': 1,\n  'tpmInterest3': 3,\n  'tpmInterest4': 2,\n  'uxInterest1': 1,\n  'uxInterest2': 2,\n  'frontendInterest1': 4,\n  'frontendInterest2': 3,\n  'backendInterest1': 1,\n  'backendInterest2': 4,\n  'dataEngInterest1': 0,\n  'dataEngInterest2': 0,\n  'dataEngInterest3': 0,\n  'mlEngInterest1': 0,\n  'mlEngInterest2': 0,\n  'mlEngInterest3': 0,\n  'mlOpsInterest1': 0,\n  'mlOpsInterest2': 0,\n  'mlOpsInterest3': 0,\n  'tpmSkillRank': 0.3333333333333333,\n  'tpmInterestRank': 0.5,\n  'uxInterestRank': 0.375,\n  'frontendInterestRank': 0.875,\n  'backendInterestRank': 0.625,\n  'dataEngInterestRank': None,\n  'mlEngInterestRank': None,\n  'mlOpsInterestRank': None},\n {'lambdaId': '04f4D3CtxUW0820a',\n  'name': 'Ethan King',\n  'track': 'Web',\n  'labsProject': 'Test Product - B',\n  'gitExpertise': 3,\n  'dockerExpertise': 5,\n  'playByEar': 1,\n  'detailOriented': 3,\n  'speakUpInDiscussions': 4,\n  'soloOrSocial': 'A',\n  'meaningOrValue': 'B',\n  'feelsRightOrMakesSense': 'B',\n  'favoriteOrCollect': 'A',\n  'tpmSkill1': 'A',\n  'tpmSkill2': 'C',\n  'tpmSkill3': 'A',\n  'tpmInterest1': 3,\n  'tpmInterest2': 1,\n  'tpmInterest3': 4,\n  'tpmInterest4': 3,\n  'uxInterest1': 2,\n  'uxInterest2': 2,\n  'frontendInterest1': 4,\n  'frontendInterest2': 2,\n  'backendInterest1': 4,\n  'backendInterest2': 4,\n  'dataEngInterest1': 0,\n  'dataEngInterest2': 0,\n  'dataEngInterest3': 0,\n  'mlEngInterest1': 0,\n  'mlEngInterest2': 0,\n  'mlEngInterest3': 0,\n  'mlOpsInterest1': 0,\n  'mlOpsInterest2': 0,\n  'mlOpsInterest3': 0,\n  'tpmSkillRank': 0.0,\n  'tpmInterestRank': 0.6875,\n  'uxInterestRank': 0.5,\n  'frontendInterestRank': 0.75,\n  'backendInterestRank': 1.0,\n  'dataEngInterestRank': None,\n  'mlEngInterestRank': None,\n  'mlOpsInterestRank': None},\n {'lambdaId': 'b4JQ2u4J3H13S7Z8',\n  'name': 'Aria Harris',\n  'track': 'DS',\n  'labsProject': 'Test Product - D',\n  'gitExpertise': 4,\n  'dockerExpertise': 5,\n  'playByEar': 5,\n  'detailOriented': 2,\n  'speakUpInDiscussions': 5,\n  'soloOrSocial': 'A',\n  'meaningOrValue': 'B',\n  'feelsRightOrMakesSense': 'B',\n  'favoriteOrCollect': 'B',\n  'tpmSkill1': 'B',\n  'tpmSkill2': 'B',\n  'tpmSkill3': 'A',\n  'tpmInterest1': 2,\n  'tpmInterest2': 4,\n  'tpmInterest3': 1,\n  'tpmInterest4': 2,\n  'uxInterest1': 0,\n  'uxInterest2': 0,\n  'frontendInterest1': 0,\n  'frontendInterest2': 0,\n  'backendInterest1': 0,\n  'backendInterest2': 0,\n  'dataEngInterest1': 2,\n  'dataEngInterest2': 2,\n  'dataEngInterest3': 3,\n  'mlEngInterest1': 1,\n  'mlEngInterest2': 4,\n  'mlEngInterest3': 3,\n  'mlOpsInterest1': 2,\n  'mlOpsInterest2': 2,\n  'mlOpsInterest3': 3,\n  'tpmSkillRank': 0.6666666666666666,\n  'tpmInterestRank': 0.5625,\n  'uxInterestRank': None,\n  'frontendInterestRank': None,\n  'backendInterestRank': None,\n  'dataEngInterestRank': 0.5833333333333334,\n  'mlEngInterestRank': 0.6666666666666666,\n  'mlOpsInterestRank': 0.5833333333333334},\n {'lambdaId': 'M7eK1QpOv4022V07',\n  'name': 'Ellie Wood',\n  'track': 'Web',\n  'labsProject': 'Test Product - A',\n  'gitExpertise': 5,\n  'dockerExpertise': 3,\n  'playByEar': 3,\n  'detailOriented': 1,\n  'speakUpInDiscussions': 2,\n  'soloOrSocial': 'B',\n  'meaningOrValue': 'A',\n  'feelsRightOrMakesSense': 'B',\n  'favoriteOrCollect': 'B',\n  'tpmSkill1': 'B',\n  'tpmSkill2': 'C',\n  'tpmSkill3': 'B',\n  'tpmInterest1': 1,\n  'tpmInterest2': 3,\n  'tpmInterest3': 4,\n  'tpmInterest4': 3,\n  'uxInterest1': 3,\n  'uxInterest2': 4,\n  'frontendInterest1': 4,\n  'frontendInterest2': 1,\n  'backendInterest1': 3,\n  'backendInterest2': 3,\n  'dataEngInterest1': 0,\n  'dataEngInterest2': 0,\n  'dataEngInterest3': 0,\n  'mlEngInterest1': 0,\n  'mlEngInterest2': 0,\n  'mlEngInterest3': 0,\n  'mlOpsInterest1': 0,\n  'mlOpsInterest2': 0,\n  'mlOpsInterest3': 0,\n  'tpmSkillRank': 0.3333333333333333,\n  'tpmInterestRank': 0.6875,\n  'uxInterestRank': 0.875,\n  'frontendInterestRank': 0.625,\n  'backendInterestRank': 0.75,\n  'dataEngInterestRank': None,\n  'mlEngInterestRank': None,\n  'mlOpsInterestRank': None},\n {'lambdaId': '37vc7f8487zhNr2p',\n  'name': 'Scarlett Johnson',\n  'track': 'Web',\n  'labsProject': 'Test Product - E',\n  'gitExpertise': 2,\n  'dockerExpertise': 1,\n  'playByEar': 3,\n  'detailOriented': 1,\n  'speakUpInDiscussions': 1,\n  'soloOrSocial': 'B',\n  'meaningOrValue': 'B',\n  'feelsRightOrMakesSense': 'B',\n  'favoriteOrCollect': 'A',\n  'tpmSkill1': 'A',\n  'tpmSkill2': 'A',\n  'tpmSkill3': 'C',\n  'tpmInterest1': 2,\n  'tpmInterest2': 4,\n  'tpmInterest3': 1,\n  'tpmInterest4': 1,\n  'uxInterest1': 3,\n  'uxInterest2': 1,\n  'frontendInterest1': 4,\n  'frontendInterest2': 3,\n  'backendInterest1': 4,\n  'backendInterest2': 4,\n  'dataEngInterest1': 0,\n  'dataEngInterest2': 0,\n  'dataEngInterest3': 0,\n  'mlEngInterest1': 0,\n  'mlEngInterest2': 0,\n  'mlEngInterest3': 0,\n  'mlOpsInterest1': 0,\n  'mlOpsInterest2': 0,\n  'mlOpsInterest3': 0,\n  'tpmSkillRank': 0.3333333333333333,\n  'tpmInterestRank': 0.5,\n  'uxInterestRank': 0.5,\n  'frontendInterestRank': 0.875,\n  'backendInterestRank': 1.0,\n  'dataEngInterestRank': None,\n  'mlEngInterestRank': None,\n  'mlOpsInterestRank': None},\n {'lambdaId': 'V775r2G1K0zVNy67',\n  'name': 'Daniel Walker',\n  'track': 'BD',\n  'labsProject': 'Test Product - E',\n  'gitExpertise': 5,\n  'dockerExpertise': 3,\n  'playByEar': 4,\n  'detailOriented': 4,\n  'speakUpInDiscussions': 1,\n  'soloOrSocial': 'A',\n  'meaningOrValue': 'A',\n  'feelsRightOrMakesSense': 'B',\n  'favoriteOrCollect': 'B',\n  'tpmSkill1': 'A',\n  'tpmSkill2': 'C',\n  'tpmSkill3': 'B',\n  'tpmInterest1': 1,\n  'tpmInterest2': 4,\n  'tpmInterest3': 2,\n  'tpmInterest4': 3,\n  'uxInterest1': 0,\n  'uxInterest2': 0,\n  'frontendInterest1': 0,\n  'frontendInterest2': 0,\n  'backendInterest1': 0,\n  'backendInterest2': 0,\n  'dataEngInterest1': 0,\n  'dataEngInterest2': 0,\n  'dataEngInterest3': 0,\n  'mlEngInterest1': 0,\n  'mlEngInterest2': 0,\n  'mlEngInterest3': 0,\n  'mlOpsInterest1': 0,\n  'mlOpsInterest2': 0,\n  'mlOpsInterest3': 0,\n  'tpmSkillRank': 0.0,\n  'tpmInterestRank': 0.625,\n  'uxInterestRank': None,\n  'frontendInterestRank': None,\n  'backendInterestRank': None,\n  'dataEngInterestRank': None,\n  'mlEngInterestRank': None,\n  'mlOpsInterestRank': None},\n {'lambdaId': 'h4B57DII54z7q5E1',\n  'name': 'David King',\n  'track': 'Web',\n  'labsProject': 'Test Product - C',\n  'gitExpertise': 4,\n  'dockerExpertise': 4,\n  'playByEar': 2,\n  'detailOriented': 3,\n  'speakUpInDiscussions': 2,\n  'soloOrSocial': 'B',\n  'meaningOrValue': 'A',\n  'feelsRightOrMakesSense': 'B',\n  'favoriteOrCollect': 'A',\n  'tpmSkill1': 'A',\n  'tpmSkill2': 'A',\n  'tpmSkill3': 'B',\n  'tpmInterest1': 3,\n  'tpmInterest2': 2,\n  'tpmInterest3': 3,\n  'tpmInterest4': 2,\n  'uxInterest1': 2,\n  'uxInterest2': 4,\n  'frontendInterest1': 2,\n  'frontendInterest2': 1,\n  'backendInterest1': 1,\n  'backendInterest2': 2,\n  'dataEngInterest1': 0,\n  'dataEngInterest2': 0,\n  'dataEngInterest3': 0,\n  'mlEngInterest1': 0,\n  'mlEngInterest2': 0,\n  'mlEngInterest3': 0,\n  'mlOpsInterest1': 0,\n  'mlOpsInterest2': 0,\n  'mlOpsInterest3': 0,\n  'tpmSkillRank': 0.0,\n  'tpmInterestRank': 0.625,\n  'uxInterestRank': 0.75,\n  'frontendInterestRank': 0.375,\n  'backendInterestRank': 0.375,\n  'dataEngInterestRank': None,\n  'mlEngInterestRank': None,\n  'mlOpsInterestRank': None},\n {'lambdaId': 'RA76R74757TXYRM5',\n  'name': 'Levi Hernandez',\n  'track': 'DS',\n  'labsProject': 'Test Product - B',\n  'gitExpertise': 1,\n  'dockerExpertise': 3,\n  'playByEar': 5,\n  'detailOriented': 2,\n  'speakUpInDiscussions': 2,\n  'soloOrSocial': 'A',\n  'meaningOrValue': 'B',\n  'feelsRightOrMakesSense': 'B',\n  'favoriteOrCollect': 'B',\n  'tpmSkill1': 'B',\n  'tpmSkill2': 'A',\n  'tpmSkill3': 'A',\n  'tpmInterest1': 4,\n  'tpmInterest2': 2,\n  'tpmInterest3': 2,\n  'tpmInterest4': 2,\n  'uxInterest1': 0,\n  'uxInterest2': 0,\n  'frontendInterest1': 0,\n  'frontendInterest2': 0,\n  'backendInterest1': 0,\n  'backendInterest2': 0,\n  'dataEngInterest1': 2,\n  'dataEngInterest2': 1,\n  'dataEngInterest3': 2,\n  'mlEngInterest1': 2,\n  'mlEngInterest2': 2,\n  'mlEngInterest3': 1,\n  'mlOpsInterest1': 1,\n  'mlOpsInterest2': 3,\n  'mlOpsInterest3': 2,\n  'tpmSkillRank': 0.3333333333333333,\n  'tpmInterestRank': 0.625,\n  'uxInterestRank': None,\n  'frontendInterestRank': None,\n  'backendInterestRank': None,\n  'dataEngInterestRank': 0.4166666666666667,\n  'mlEngInterestRank': 0.4166666666666667,\n  'mlOpsInterestRank': 0.5},\n {'lambdaId': 'a2fuh32bCJg03520',\n  'name': 'Evelyn Clark',\n  'track': 'DS',\n  'labsProject': 'Test Product - D',\n  'gitExpertise': 4,\n  'dockerExpertise': 2,\n  'playByEar': 2,\n  'detailOriented': 3,\n  'speakUpInDiscussions': 4,\n  'soloOrSocial': 'B',\n  'meaningOrValue': 'A',\n  'feelsRightOrMakesSense': 'A',\n  'favoriteOrCollect': 'A',\n  'tpmSkill1': 'C',\n  'tpmSkill2': 'A',\n  'tpmSkill3': 'C',\n  'tpmInterest1': 2,\n  'tpmInterest2': 1,\n  'tpmInterest3': 4,\n  'tpmInterest4': 3,\n  'uxInterest1': 0,\n  'uxInterest2': 0,\n  'frontendInterest1': 0,\n  'frontendInterest2': 0,\n  'backendInterest1': 0,\n  'backendInterest2': 0,\n  'dataEngInterest1': 3,\n  'dataEngInterest2': 4,\n  'dataEngInterest3': 3,\n  'mlEngInterest1': 1,\n  'mlEngInterest2': 4,\n  'mlEngInterest3': 3,\n  'mlOpsInterest1': 2,\n  'mlOpsInterest2': 4,\n  'mlOpsInterest3': 4,\n  'tpmSkillRank': 0.3333333333333333,\n  'tpmInterestRank': 0.625,\n  'uxInterestRank': None,\n  'frontendInterestRank': None,\n  'backendInterestRank': None,\n  'dataEngInterestRank': 0.8333333333333334,\n  'mlEngInterestRank': 0.6666666666666666,\n  'mlOpsInterestRank': 0.8333333333333334},\n {'lambdaId': 'W1b25ZO2eZ54J1s1',\n  'name': 'Elijah Young',\n  'track': 'Web',\n  'labsProject': 'Test Product - A',\n  'gitExpertise': 2,\n  'dockerExpertise': 4,\n  'playByEar': 4,\n  'detailOriented': 4,\n  'speakUpInDiscussions': 3,\n  'soloOrSocial': 'B',\n  'meaningOrValue': 'B',\n  'feelsRightOrMakesSense': 'A',\n  'favoriteOrCollect': 'B',\n  'tpmSkill1': 'A',\n  'tpmSkill2': 'C',\n  'tpmSkill3': 'A',\n  'tpmInterest1': 4,\n  'tpmInterest2': 3,\n  'tpmInterest3': 4,\n  'tpmInterest4': 3,\n  'uxInterest1': 1,\n  'uxInterest2': 1,\n  'frontendInterest1': 2,\n  'frontendInterest2': 2,\n  'backendInterest1': 1,\n  'backendInterest2': 4,\n  'dataEngInterest1': 0,\n  'dataEngInterest2': 0,\n  'dataEngInterest3': 0,\n  'mlEngInterest1': 0,\n  'mlEngInterest2': 0,\n  'mlEngInterest3': 0,\n  'mlOpsInterest1': 0,\n  'mlOpsInterest2': 0,\n  'mlOpsInterest3': 0,\n  'tpmSkillRank': 0.0,\n  'tpmInterestRank': 0.875,\n  'uxInterestRank': 0.25,\n  'frontendInterestRank': 0.5,\n  'backendInterestRank': 0.625,\n  'dataEngInterestRank': None,\n  'mlEngInterestRank': None,\n  'mlOpsInterestRank': None}]"
     },
     "execution_count": 45,
     "metadata": {},
     "output_type": "execute_result"
    }
   ],
   "source": [
    "learners = payload[\"learners\"]\n",
    "learners"
   ],
   "metadata": {
    "collapsed": false,
    "pycharm": {
     "name": "#%%\n"
    }
   }
  },
  {
   "cell_type": "code",
   "execution_count": 34,
   "outputs": [
    {
     "data": {
      "text/plain": "50"
     },
     "execution_count": 34,
     "metadata": {},
     "output_type": "execute_result"
    }
   ],
   "source": [
    "len(payload[\"learners\"])"
   ],
   "metadata": {
    "collapsed": false,
    "pycharm": {
     "name": "#%%\n"
    }
   }
  },
  {
   "cell_type": "code",
   "execution_count": 35,
   "outputs": [
    {
     "data": {
      "text/plain": "5"
     },
     "execution_count": 35,
     "metadata": {},
     "output_type": "execute_result"
    }
   ],
   "source": [
    "len(payload[\"projects\"])"
   ],
   "metadata": {
    "collapsed": false,
    "pycharm": {
     "name": "#%%\n"
    }
   }
  },
  {
   "cell_type": "code",
   "execution_count": 37,
   "outputs": [
    {
     "data": {
      "application/vnd.plotly.v1+json": {
       "data": [
        {
         "hole": 0.5,
         "hoverinfo": "text+label+value",
         "labels": [
          "Web",
          "DS",
          "BD"
         ],
         "showlegend": false,
         "textfont": {
          "size": 12
         },
         "textinfo": "percent+label",
         "textposition": "inside",
         "values": [
          23,
          23,
          4
         ],
         "type": "pie"
        }
       ],
       "layout": {
        "colorway": [
         "rgb(133, 92, 117)",
         "rgb(217, 175, 107)",
         "rgb(175, 100, 88)",
         "rgb(115, 111, 76)",
         "rgb(82, 106, 131)",
         "rgb(98, 83, 119)",
         "rgb(104, 133, 92)",
         "rgb(156, 156, 94)",
         "rgb(160, 97, 119)",
         "rgb(140, 120, 93)",
         "rgb(124, 124, 124)"
        ],
        "height": 640,
        "paper_bgcolor": "#333333",
        "title": {
         "font": {
          "color": "white",
          "size": 24
         },
         "text": "Learner Count by Track"
        },
        "width": 640,
        "template": {
         "data": {
          "histogram2dcontour": [
           {
            "type": "histogram2dcontour",
            "colorbar": {
             "outlinewidth": 0,
             "ticks": ""
            },
            "colorscale": [
             [
              0.0,
              "#0d0887"
             ],
             [
              0.1111111111111111,
              "#46039f"
             ],
             [
              0.2222222222222222,
              "#7201a8"
             ],
             [
              0.3333333333333333,
              "#9c179e"
             ],
             [
              0.4444444444444444,
              "#bd3786"
             ],
             [
              0.5555555555555556,
              "#d8576b"
             ],
             [
              0.6666666666666666,
              "#ed7953"
             ],
             [
              0.7777777777777778,
              "#fb9f3a"
             ],
             [
              0.8888888888888888,
              "#fdca26"
             ],
             [
              1.0,
              "#f0f921"
             ]
            ]
           }
          ],
          "choropleth": [
           {
            "type": "choropleth",
            "colorbar": {
             "outlinewidth": 0,
             "ticks": ""
            }
           }
          ],
          "histogram2d": [
           {
            "type": "histogram2d",
            "colorbar": {
             "outlinewidth": 0,
             "ticks": ""
            },
            "colorscale": [
             [
              0.0,
              "#0d0887"
             ],
             [
              0.1111111111111111,
              "#46039f"
             ],
             [
              0.2222222222222222,
              "#7201a8"
             ],
             [
              0.3333333333333333,
              "#9c179e"
             ],
             [
              0.4444444444444444,
              "#bd3786"
             ],
             [
              0.5555555555555556,
              "#d8576b"
             ],
             [
              0.6666666666666666,
              "#ed7953"
             ],
             [
              0.7777777777777778,
              "#fb9f3a"
             ],
             [
              0.8888888888888888,
              "#fdca26"
             ],
             [
              1.0,
              "#f0f921"
             ]
            ]
           }
          ],
          "heatmap": [
           {
            "type": "heatmap",
            "colorbar": {
             "outlinewidth": 0,
             "ticks": ""
            },
            "colorscale": [
             [
              0.0,
              "#0d0887"
             ],
             [
              0.1111111111111111,
              "#46039f"
             ],
             [
              0.2222222222222222,
              "#7201a8"
             ],
             [
              0.3333333333333333,
              "#9c179e"
             ],
             [
              0.4444444444444444,
              "#bd3786"
             ],
             [
              0.5555555555555556,
              "#d8576b"
             ],
             [
              0.6666666666666666,
              "#ed7953"
             ],
             [
              0.7777777777777778,
              "#fb9f3a"
             ],
             [
              0.8888888888888888,
              "#fdca26"
             ],
             [
              1.0,
              "#f0f921"
             ]
            ]
           }
          ],
          "heatmapgl": [
           {
            "type": "heatmapgl",
            "colorbar": {
             "outlinewidth": 0,
             "ticks": ""
            },
            "colorscale": [
             [
              0.0,
              "#0d0887"
             ],
             [
              0.1111111111111111,
              "#46039f"
             ],
             [
              0.2222222222222222,
              "#7201a8"
             ],
             [
              0.3333333333333333,
              "#9c179e"
             ],
             [
              0.4444444444444444,
              "#bd3786"
             ],
             [
              0.5555555555555556,
              "#d8576b"
             ],
             [
              0.6666666666666666,
              "#ed7953"
             ],
             [
              0.7777777777777778,
              "#fb9f3a"
             ],
             [
              0.8888888888888888,
              "#fdca26"
             ],
             [
              1.0,
              "#f0f921"
             ]
            ]
           }
          ],
          "contourcarpet": [
           {
            "type": "contourcarpet",
            "colorbar": {
             "outlinewidth": 0,
             "ticks": ""
            }
           }
          ],
          "contour": [
           {
            "type": "contour",
            "colorbar": {
             "outlinewidth": 0,
             "ticks": ""
            },
            "colorscale": [
             [
              0.0,
              "#0d0887"
             ],
             [
              0.1111111111111111,
              "#46039f"
             ],
             [
              0.2222222222222222,
              "#7201a8"
             ],
             [
              0.3333333333333333,
              "#9c179e"
             ],
             [
              0.4444444444444444,
              "#bd3786"
             ],
             [
              0.5555555555555556,
              "#d8576b"
             ],
             [
              0.6666666666666666,
              "#ed7953"
             ],
             [
              0.7777777777777778,
              "#fb9f3a"
             ],
             [
              0.8888888888888888,
              "#fdca26"
             ],
             [
              1.0,
              "#f0f921"
             ]
            ]
           }
          ],
          "surface": [
           {
            "type": "surface",
            "colorbar": {
             "outlinewidth": 0,
             "ticks": ""
            },
            "colorscale": [
             [
              0.0,
              "#0d0887"
             ],
             [
              0.1111111111111111,
              "#46039f"
             ],
             [
              0.2222222222222222,
              "#7201a8"
             ],
             [
              0.3333333333333333,
              "#9c179e"
             ],
             [
              0.4444444444444444,
              "#bd3786"
             ],
             [
              0.5555555555555556,
              "#d8576b"
             ],
             [
              0.6666666666666666,
              "#ed7953"
             ],
             [
              0.7777777777777778,
              "#fb9f3a"
             ],
             [
              0.8888888888888888,
              "#fdca26"
             ],
             [
              1.0,
              "#f0f921"
             ]
            ]
           }
          ],
          "mesh3d": [
           {
            "type": "mesh3d",
            "colorbar": {
             "outlinewidth": 0,
             "ticks": ""
            }
           }
          ],
          "scatter": [
           {
            "fillpattern": {
             "fillmode": "overlay",
             "size": 10,
             "solidity": 0.2
            },
            "type": "scatter"
           }
          ],
          "parcoords": [
           {
            "type": "parcoords",
            "line": {
             "colorbar": {
              "outlinewidth": 0,
              "ticks": ""
             }
            }
           }
          ],
          "scatterpolargl": [
           {
            "type": "scatterpolargl",
            "marker": {
             "colorbar": {
              "outlinewidth": 0,
              "ticks": ""
             }
            }
           }
          ],
          "bar": [
           {
            "error_x": {
             "color": "#2a3f5f"
            },
            "error_y": {
             "color": "#2a3f5f"
            },
            "marker": {
             "line": {
              "color": "#E5ECF6",
              "width": 0.5
             },
             "pattern": {
              "fillmode": "overlay",
              "size": 10,
              "solidity": 0.2
             }
            },
            "type": "bar"
           }
          ],
          "scattergeo": [
           {
            "type": "scattergeo",
            "marker": {
             "colorbar": {
              "outlinewidth": 0,
              "ticks": ""
             }
            }
           }
          ],
          "scatterpolar": [
           {
            "type": "scatterpolar",
            "marker": {
             "colorbar": {
              "outlinewidth": 0,
              "ticks": ""
             }
            }
           }
          ],
          "histogram": [
           {
            "marker": {
             "pattern": {
              "fillmode": "overlay",
              "size": 10,
              "solidity": 0.2
             }
            },
            "type": "histogram"
           }
          ],
          "scattergl": [
           {
            "type": "scattergl",
            "marker": {
             "colorbar": {
              "outlinewidth": 0,
              "ticks": ""
             }
            }
           }
          ],
          "scatter3d": [
           {
            "type": "scatter3d",
            "line": {
             "colorbar": {
              "outlinewidth": 0,
              "ticks": ""
             }
            },
            "marker": {
             "colorbar": {
              "outlinewidth": 0,
              "ticks": ""
             }
            }
           }
          ],
          "scattermapbox": [
           {
            "type": "scattermapbox",
            "marker": {
             "colorbar": {
              "outlinewidth": 0,
              "ticks": ""
             }
            }
           }
          ],
          "scatterternary": [
           {
            "type": "scatterternary",
            "marker": {
             "colorbar": {
              "outlinewidth": 0,
              "ticks": ""
             }
            }
           }
          ],
          "scattercarpet": [
           {
            "type": "scattercarpet",
            "marker": {
             "colorbar": {
              "outlinewidth": 0,
              "ticks": ""
             }
            }
           }
          ],
          "carpet": [
           {
            "aaxis": {
             "endlinecolor": "#2a3f5f",
             "gridcolor": "white",
             "linecolor": "white",
             "minorgridcolor": "white",
             "startlinecolor": "#2a3f5f"
            },
            "baxis": {
             "endlinecolor": "#2a3f5f",
             "gridcolor": "white",
             "linecolor": "white",
             "minorgridcolor": "white",
             "startlinecolor": "#2a3f5f"
            },
            "type": "carpet"
           }
          ],
          "table": [
           {
            "cells": {
             "fill": {
              "color": "#EBF0F8"
             },
             "line": {
              "color": "white"
             }
            },
            "header": {
             "fill": {
              "color": "#C8D4E3"
             },
             "line": {
              "color": "white"
             }
            },
            "type": "table"
           }
          ],
          "barpolar": [
           {
            "marker": {
             "line": {
              "color": "#E5ECF6",
              "width": 0.5
             },
             "pattern": {
              "fillmode": "overlay",
              "size": 10,
              "solidity": 0.2
             }
            },
            "type": "barpolar"
           }
          ],
          "pie": [
           {
            "automargin": true,
            "type": "pie"
           }
          ]
         },
         "layout": {
          "autotypenumbers": "strict",
          "colorway": [
           "#636efa",
           "#EF553B",
           "#00cc96",
           "#ab63fa",
           "#FFA15A",
           "#19d3f3",
           "#FF6692",
           "#B6E880",
           "#FF97FF",
           "#FECB52"
          ],
          "font": {
           "color": "#2a3f5f"
          },
          "hovermode": "closest",
          "hoverlabel": {
           "align": "left"
          },
          "paper_bgcolor": "white",
          "plot_bgcolor": "#E5ECF6",
          "polar": {
           "bgcolor": "#E5ECF6",
           "angularaxis": {
            "gridcolor": "white",
            "linecolor": "white",
            "ticks": ""
           },
           "radialaxis": {
            "gridcolor": "white",
            "linecolor": "white",
            "ticks": ""
           }
          },
          "ternary": {
           "bgcolor": "#E5ECF6",
           "aaxis": {
            "gridcolor": "white",
            "linecolor": "white",
            "ticks": ""
           },
           "baxis": {
            "gridcolor": "white",
            "linecolor": "white",
            "ticks": ""
           },
           "caxis": {
            "gridcolor": "white",
            "linecolor": "white",
            "ticks": ""
           }
          },
          "coloraxis": {
           "colorbar": {
            "outlinewidth": 0,
            "ticks": ""
           }
          },
          "colorscale": {
           "sequential": [
            [
             0.0,
             "#0d0887"
            ],
            [
             0.1111111111111111,
             "#46039f"
            ],
            [
             0.2222222222222222,
             "#7201a8"
            ],
            [
             0.3333333333333333,
             "#9c179e"
            ],
            [
             0.4444444444444444,
             "#bd3786"
            ],
            [
             0.5555555555555556,
             "#d8576b"
            ],
            [
             0.6666666666666666,
             "#ed7953"
            ],
            [
             0.7777777777777778,
             "#fb9f3a"
            ],
            [
             0.8888888888888888,
             "#fdca26"
            ],
            [
             1.0,
             "#f0f921"
            ]
           ],
           "sequentialminus": [
            [
             0.0,
             "#0d0887"
            ],
            [
             0.1111111111111111,
             "#46039f"
            ],
            [
             0.2222222222222222,
             "#7201a8"
            ],
            [
             0.3333333333333333,
             "#9c179e"
            ],
            [
             0.4444444444444444,
             "#bd3786"
            ],
            [
             0.5555555555555556,
             "#d8576b"
            ],
            [
             0.6666666666666666,
             "#ed7953"
            ],
            [
             0.7777777777777778,
             "#fb9f3a"
            ],
            [
             0.8888888888888888,
             "#fdca26"
            ],
            [
             1.0,
             "#f0f921"
            ]
           ],
           "diverging": [
            [
             0,
             "#8e0152"
            ],
            [
             0.1,
             "#c51b7d"
            ],
            [
             0.2,
             "#de77ae"
            ],
            [
             0.3,
             "#f1b6da"
            ],
            [
             0.4,
             "#fde0ef"
            ],
            [
             0.5,
             "#f7f7f7"
            ],
            [
             0.6,
             "#e6f5d0"
            ],
            [
             0.7,
             "#b8e186"
            ],
            [
             0.8,
             "#7fbc41"
            ],
            [
             0.9,
             "#4d9221"
            ],
            [
             1,
             "#276419"
            ]
           ]
          },
          "xaxis": {
           "gridcolor": "white",
           "linecolor": "white",
           "ticks": "",
           "title": {
            "standoff": 15
           },
           "zerolinecolor": "white",
           "automargin": true,
           "zerolinewidth": 2
          },
          "yaxis": {
           "gridcolor": "white",
           "linecolor": "white",
           "ticks": "",
           "title": {
            "standoff": 15
           },
           "zerolinecolor": "white",
           "automargin": true,
           "zerolinewidth": 2
          },
          "scene": {
           "xaxis": {
            "backgroundcolor": "#E5ECF6",
            "gridcolor": "white",
            "linecolor": "white",
            "showbackground": true,
            "ticks": "",
            "zerolinecolor": "white",
            "gridwidth": 2
           },
           "yaxis": {
            "backgroundcolor": "#E5ECF6",
            "gridcolor": "white",
            "linecolor": "white",
            "showbackground": true,
            "ticks": "",
            "zerolinecolor": "white",
            "gridwidth": 2
           },
           "zaxis": {
            "backgroundcolor": "#E5ECF6",
            "gridcolor": "white",
            "linecolor": "white",
            "showbackground": true,
            "ticks": "",
            "zerolinecolor": "white",
            "gridwidth": 2
           }
          },
          "shapedefaults": {
           "line": {
            "color": "#2a3f5f"
           }
          },
          "annotationdefaults": {
           "arrowcolor": "#2a3f5f",
           "arrowhead": 0,
           "arrowwidth": 1
          },
          "geo": {
           "bgcolor": "white",
           "landcolor": "#E5ECF6",
           "subunitcolor": "white",
           "showland": true,
           "showlakes": true,
           "lakecolor": "white"
          },
          "title": {
           "x": 0.05
          },
          "mapbox": {
           "style": "light"
          }
         }
        }
       },
       "config": {
        "plotlyServerURL": "https://plot.ly"
       }
      },
      "text/html": "<div>                            <div id=\"88ef5e42-805e-41c3-95bb-91caacdeeae2\" class=\"plotly-graph-div\" style=\"height:640px; width:640px;\"></div>            <script type=\"text/javascript\">                require([\"plotly\"], function(Plotly) {                    window.PLOTLYENV=window.PLOTLYENV || {};                                    if (document.getElementById(\"88ef5e42-805e-41c3-95bb-91caacdeeae2\")) {                    Plotly.newPlot(                        \"88ef5e42-805e-41c3-95bb-91caacdeeae2\",                        [{\"hole\":0.5,\"hoverinfo\":\"text+label+value\",\"labels\":[\"Web\",\"DS\",\"BD\"],\"showlegend\":false,\"textfont\":{\"size\":12},\"textinfo\":\"percent+label\",\"textposition\":\"inside\",\"values\":[23,23,4],\"type\":\"pie\"}],                        {\"colorway\":[\"rgb(133, 92, 117)\",\"rgb(217, 175, 107)\",\"rgb(175, 100, 88)\",\"rgb(115, 111, 76)\",\"rgb(82, 106, 131)\",\"rgb(98, 83, 119)\",\"rgb(104, 133, 92)\",\"rgb(156, 156, 94)\",\"rgb(160, 97, 119)\",\"rgb(140, 120, 93)\",\"rgb(124, 124, 124)\"],\"height\":640,\"paper_bgcolor\":\"#333333\",\"title\":{\"font\":{\"color\":\"white\",\"size\":24},\"text\":\"Learner Count by Track\"},\"width\":640,\"template\":{\"data\":{\"histogram2dcontour\":[{\"type\":\"histogram2dcontour\",\"colorbar\":{\"outlinewidth\":0,\"ticks\":\"\"},\"colorscale\":[[0.0,\"#0d0887\"],[0.1111111111111111,\"#46039f\"],[0.2222222222222222,\"#7201a8\"],[0.3333333333333333,\"#9c179e\"],[0.4444444444444444,\"#bd3786\"],[0.5555555555555556,\"#d8576b\"],[0.6666666666666666,\"#ed7953\"],[0.7777777777777778,\"#fb9f3a\"],[0.8888888888888888,\"#fdca26\"],[1.0,\"#f0f921\"]]}],\"choropleth\":[{\"type\":\"choropleth\",\"colorbar\":{\"outlinewidth\":0,\"ticks\":\"\"}}],\"histogram2d\":[{\"type\":\"histogram2d\",\"colorbar\":{\"outlinewidth\":0,\"ticks\":\"\"},\"colorscale\":[[0.0,\"#0d0887\"],[0.1111111111111111,\"#46039f\"],[0.2222222222222222,\"#7201a8\"],[0.3333333333333333,\"#9c179e\"],[0.4444444444444444,\"#bd3786\"],[0.5555555555555556,\"#d8576b\"],[0.6666666666666666,\"#ed7953\"],[0.7777777777777778,\"#fb9f3a\"],[0.8888888888888888,\"#fdca26\"],[1.0,\"#f0f921\"]]}],\"heatmap\":[{\"type\":\"heatmap\",\"colorbar\":{\"outlinewidth\":0,\"ticks\":\"\"},\"colorscale\":[[0.0,\"#0d0887\"],[0.1111111111111111,\"#46039f\"],[0.2222222222222222,\"#7201a8\"],[0.3333333333333333,\"#9c179e\"],[0.4444444444444444,\"#bd3786\"],[0.5555555555555556,\"#d8576b\"],[0.6666666666666666,\"#ed7953\"],[0.7777777777777778,\"#fb9f3a\"],[0.8888888888888888,\"#fdca26\"],[1.0,\"#f0f921\"]]}],\"heatmapgl\":[{\"type\":\"heatmapgl\",\"colorbar\":{\"outlinewidth\":0,\"ticks\":\"\"},\"colorscale\":[[0.0,\"#0d0887\"],[0.1111111111111111,\"#46039f\"],[0.2222222222222222,\"#7201a8\"],[0.3333333333333333,\"#9c179e\"],[0.4444444444444444,\"#bd3786\"],[0.5555555555555556,\"#d8576b\"],[0.6666666666666666,\"#ed7953\"],[0.7777777777777778,\"#fb9f3a\"],[0.8888888888888888,\"#fdca26\"],[1.0,\"#f0f921\"]]}],\"contourcarpet\":[{\"type\":\"contourcarpet\",\"colorbar\":{\"outlinewidth\":0,\"ticks\":\"\"}}],\"contour\":[{\"type\":\"contour\",\"colorbar\":{\"outlinewidth\":0,\"ticks\":\"\"},\"colorscale\":[[0.0,\"#0d0887\"],[0.1111111111111111,\"#46039f\"],[0.2222222222222222,\"#7201a8\"],[0.3333333333333333,\"#9c179e\"],[0.4444444444444444,\"#bd3786\"],[0.5555555555555556,\"#d8576b\"],[0.6666666666666666,\"#ed7953\"],[0.7777777777777778,\"#fb9f3a\"],[0.8888888888888888,\"#fdca26\"],[1.0,\"#f0f921\"]]}],\"surface\":[{\"type\":\"surface\",\"colorbar\":{\"outlinewidth\":0,\"ticks\":\"\"},\"colorscale\":[[0.0,\"#0d0887\"],[0.1111111111111111,\"#46039f\"],[0.2222222222222222,\"#7201a8\"],[0.3333333333333333,\"#9c179e\"],[0.4444444444444444,\"#bd3786\"],[0.5555555555555556,\"#d8576b\"],[0.6666666666666666,\"#ed7953\"],[0.7777777777777778,\"#fb9f3a\"],[0.8888888888888888,\"#fdca26\"],[1.0,\"#f0f921\"]]}],\"mesh3d\":[{\"type\":\"mesh3d\",\"colorbar\":{\"outlinewidth\":0,\"ticks\":\"\"}}],\"scatter\":[{\"fillpattern\":{\"fillmode\":\"overlay\",\"size\":10,\"solidity\":0.2},\"type\":\"scatter\"}],\"parcoords\":[{\"type\":\"parcoords\",\"line\":{\"colorbar\":{\"outlinewidth\":0,\"ticks\":\"\"}}}],\"scatterpolargl\":[{\"type\":\"scatterpolargl\",\"marker\":{\"colorbar\":{\"outlinewidth\":0,\"ticks\":\"\"}}}],\"bar\":[{\"error_x\":{\"color\":\"#2a3f5f\"},\"error_y\":{\"color\":\"#2a3f5f\"},\"marker\":{\"line\":{\"color\":\"#E5ECF6\",\"width\":0.5},\"pattern\":{\"fillmode\":\"overlay\",\"size\":10,\"solidity\":0.2}},\"type\":\"bar\"}],\"scattergeo\":[{\"type\":\"scattergeo\",\"marker\":{\"colorbar\":{\"outlinewidth\":0,\"ticks\":\"\"}}}],\"scatterpolar\":[{\"type\":\"scatterpolar\",\"marker\":{\"colorbar\":{\"outlinewidth\":0,\"ticks\":\"\"}}}],\"histogram\":[{\"marker\":{\"pattern\":{\"fillmode\":\"overlay\",\"size\":10,\"solidity\":0.2}},\"type\":\"histogram\"}],\"scattergl\":[{\"type\":\"scattergl\",\"marker\":{\"colorbar\":{\"outlinewidth\":0,\"ticks\":\"\"}}}],\"scatter3d\":[{\"type\":\"scatter3d\",\"line\":{\"colorbar\":{\"outlinewidth\":0,\"ticks\":\"\"}},\"marker\":{\"colorbar\":{\"outlinewidth\":0,\"ticks\":\"\"}}}],\"scattermapbox\":[{\"type\":\"scattermapbox\",\"marker\":{\"colorbar\":{\"outlinewidth\":0,\"ticks\":\"\"}}}],\"scatterternary\":[{\"type\":\"scatterternary\",\"marker\":{\"colorbar\":{\"outlinewidth\":0,\"ticks\":\"\"}}}],\"scattercarpet\":[{\"type\":\"scattercarpet\",\"marker\":{\"colorbar\":{\"outlinewidth\":0,\"ticks\":\"\"}}}],\"carpet\":[{\"aaxis\":{\"endlinecolor\":\"#2a3f5f\",\"gridcolor\":\"white\",\"linecolor\":\"white\",\"minorgridcolor\":\"white\",\"startlinecolor\":\"#2a3f5f\"},\"baxis\":{\"endlinecolor\":\"#2a3f5f\",\"gridcolor\":\"white\",\"linecolor\":\"white\",\"minorgridcolor\":\"white\",\"startlinecolor\":\"#2a3f5f\"},\"type\":\"carpet\"}],\"table\":[{\"cells\":{\"fill\":{\"color\":\"#EBF0F8\"},\"line\":{\"color\":\"white\"}},\"header\":{\"fill\":{\"color\":\"#C8D4E3\"},\"line\":{\"color\":\"white\"}},\"type\":\"table\"}],\"barpolar\":[{\"marker\":{\"line\":{\"color\":\"#E5ECF6\",\"width\":0.5},\"pattern\":{\"fillmode\":\"overlay\",\"size\":10,\"solidity\":0.2}},\"type\":\"barpolar\"}],\"pie\":[{\"automargin\":true,\"type\":\"pie\"}]},\"layout\":{\"autotypenumbers\":\"strict\",\"colorway\":[\"#636efa\",\"#EF553B\",\"#00cc96\",\"#ab63fa\",\"#FFA15A\",\"#19d3f3\",\"#FF6692\",\"#B6E880\",\"#FF97FF\",\"#FECB52\"],\"font\":{\"color\":\"#2a3f5f\"},\"hovermode\":\"closest\",\"hoverlabel\":{\"align\":\"left\"},\"paper_bgcolor\":\"white\",\"plot_bgcolor\":\"#E5ECF6\",\"polar\":{\"bgcolor\":\"#E5ECF6\",\"angularaxis\":{\"gridcolor\":\"white\",\"linecolor\":\"white\",\"ticks\":\"\"},\"radialaxis\":{\"gridcolor\":\"white\",\"linecolor\":\"white\",\"ticks\":\"\"}},\"ternary\":{\"bgcolor\":\"#E5ECF6\",\"aaxis\":{\"gridcolor\":\"white\",\"linecolor\":\"white\",\"ticks\":\"\"},\"baxis\":{\"gridcolor\":\"white\",\"linecolor\":\"white\",\"ticks\":\"\"},\"caxis\":{\"gridcolor\":\"white\",\"linecolor\":\"white\",\"ticks\":\"\"}},\"coloraxis\":{\"colorbar\":{\"outlinewidth\":0,\"ticks\":\"\"}},\"colorscale\":{\"sequential\":[[0.0,\"#0d0887\"],[0.1111111111111111,\"#46039f\"],[0.2222222222222222,\"#7201a8\"],[0.3333333333333333,\"#9c179e\"],[0.4444444444444444,\"#bd3786\"],[0.5555555555555556,\"#d8576b\"],[0.6666666666666666,\"#ed7953\"],[0.7777777777777778,\"#fb9f3a\"],[0.8888888888888888,\"#fdca26\"],[1.0,\"#f0f921\"]],\"sequentialminus\":[[0.0,\"#0d0887\"],[0.1111111111111111,\"#46039f\"],[0.2222222222222222,\"#7201a8\"],[0.3333333333333333,\"#9c179e\"],[0.4444444444444444,\"#bd3786\"],[0.5555555555555556,\"#d8576b\"],[0.6666666666666666,\"#ed7953\"],[0.7777777777777778,\"#fb9f3a\"],[0.8888888888888888,\"#fdca26\"],[1.0,\"#f0f921\"]],\"diverging\":[[0,\"#8e0152\"],[0.1,\"#c51b7d\"],[0.2,\"#de77ae\"],[0.3,\"#f1b6da\"],[0.4,\"#fde0ef\"],[0.5,\"#f7f7f7\"],[0.6,\"#e6f5d0\"],[0.7,\"#b8e186\"],[0.8,\"#7fbc41\"],[0.9,\"#4d9221\"],[1,\"#276419\"]]},\"xaxis\":{\"gridcolor\":\"white\",\"linecolor\":\"white\",\"ticks\":\"\",\"title\":{\"standoff\":15},\"zerolinecolor\":\"white\",\"automargin\":true,\"zerolinewidth\":2},\"yaxis\":{\"gridcolor\":\"white\",\"linecolor\":\"white\",\"ticks\":\"\",\"title\":{\"standoff\":15},\"zerolinecolor\":\"white\",\"automargin\":true,\"zerolinewidth\":2},\"scene\":{\"xaxis\":{\"backgroundcolor\":\"#E5ECF6\",\"gridcolor\":\"white\",\"linecolor\":\"white\",\"showbackground\":true,\"ticks\":\"\",\"zerolinecolor\":\"white\",\"gridwidth\":2},\"yaxis\":{\"backgroundcolor\":\"#E5ECF6\",\"gridcolor\":\"white\",\"linecolor\":\"white\",\"showbackground\":true,\"ticks\":\"\",\"zerolinecolor\":\"white\",\"gridwidth\":2},\"zaxis\":{\"backgroundcolor\":\"#E5ECF6\",\"gridcolor\":\"white\",\"linecolor\":\"white\",\"showbackground\":true,\"ticks\":\"\",\"zerolinecolor\":\"white\",\"gridwidth\":2}},\"shapedefaults\":{\"line\":{\"color\":\"#2a3f5f\"}},\"annotationdefaults\":{\"arrowcolor\":\"#2a3f5f\",\"arrowhead\":0,\"arrowwidth\":1},\"geo\":{\"bgcolor\":\"white\",\"landcolor\":\"#E5ECF6\",\"subunitcolor\":\"white\",\"showland\":true,\"showlakes\":true,\"lakecolor\":\"white\"},\"title\":{\"x\":0.05},\"mapbox\":{\"style\":\"light\"}}}},                        {\"responsive\": true}                    ).then(function(){\n                            \nvar gd = document.getElementById('88ef5e42-805e-41c3-95bb-91caacdeeae2');\nvar x = new MutationObserver(function (mutations, observer) {{\n        var display = window.getComputedStyle(gd).display;\n        if (!display || display === 'none') {{\n            console.log([gd, 'removed!']);\n            Plotly.purge(gd);\n            observer.disconnect();\n        }}\n}});\n\n// Listen for the removal of the full notebook cells\nvar notebookContainer = gd.closest('#notebook-container');\nif (notebookContainer) {{\n    x.observe(notebookContainer, {childList: true});\n}}\n\n// Listen for the clearing of the current output cell\nvar outputEl = gd.closest('.output');\nif (outputEl) {{\n    x.observe(outputEl, {childList: true});\n}}\n\n                        })                };                });            </script>        </div>"
     },
     "metadata": {},
     "output_type": "display_data"
    }
   ],
   "source": [
    "df_type = DataFrame(learners)\n",
    "type_value_counts = df_type[\"track\"].value_counts()\n",
    "data = go.Pie(\n",
    "    labels=type_value_counts.index,\n",
    "    values=type_value_counts.values,\n",
    "    hole=0.5,\n",
    "    textinfo=\"percent+label\",\n",
    "    textfont={\"size\": 12},\n",
    "    hoverinfo=\"text+label+value\",\n",
    "    textposition='inside',\n",
    "    showlegend=False,\n",
    ")\n",
    "layout = go.Layout(\n",
    "    title={\n",
    "        \"text\": \"Learner Count by Track\",\n",
    "        \"font\": {\"color\": \"white\", \"size\": 24},\n",
    "    },\n",
    "    colorway=px.colors.qualitative.Antique,\n",
    "    width=640,\n",
    "    height=640,\n",
    "    paper_bgcolor=\"#333333\",\n",
    ")\n",
    "figure = go.Figure(data, layout)\n",
    "figure.show()"
   ],
   "metadata": {
    "collapsed": false,
    "pycharm": {
     "name": "#%%\n"
    }
   }
  },
  {
   "cell_type": "code",
   "execution_count": 38,
   "outputs": [
    {
     "data": {
      "application/vnd.plotly.v1+json": {
       "data": [
        {
         "hole": 0.5,
         "hoverinfo": "text+label+value",
         "labels": [
          "Test Product - D",
          "Test Product - A",
          "Test Product - C",
          "Test Product - B",
          "Test Product - E"
         ],
         "showlegend": false,
         "textfont": {
          "size": 12
         },
         "textinfo": "percent+label",
         "textposition": "inside",
         "values": [
          12,
          11,
          11,
          10,
          6
         ],
         "type": "pie"
        }
       ],
       "layout": {
        "colorway": [
         "rgb(133, 92, 117)",
         "rgb(217, 175, 107)",
         "rgb(175, 100, 88)",
         "rgb(115, 111, 76)",
         "rgb(82, 106, 131)",
         "rgb(98, 83, 119)",
         "rgb(104, 133, 92)",
         "rgb(156, 156, 94)",
         "rgb(160, 97, 119)",
         "rgb(140, 120, 93)",
         "rgb(124, 124, 124)"
        ],
        "height": 640,
        "paper_bgcolor": "#333333",
        "title": {
         "font": {
          "color": "white",
          "size": 24
         },
         "text": "Learner Count by Team"
        },
        "width": 640,
        "template": {
         "data": {
          "histogram2dcontour": [
           {
            "type": "histogram2dcontour",
            "colorbar": {
             "outlinewidth": 0,
             "ticks": ""
            },
            "colorscale": [
             [
              0.0,
              "#0d0887"
             ],
             [
              0.1111111111111111,
              "#46039f"
             ],
             [
              0.2222222222222222,
              "#7201a8"
             ],
             [
              0.3333333333333333,
              "#9c179e"
             ],
             [
              0.4444444444444444,
              "#bd3786"
             ],
             [
              0.5555555555555556,
              "#d8576b"
             ],
             [
              0.6666666666666666,
              "#ed7953"
             ],
             [
              0.7777777777777778,
              "#fb9f3a"
             ],
             [
              0.8888888888888888,
              "#fdca26"
             ],
             [
              1.0,
              "#f0f921"
             ]
            ]
           }
          ],
          "choropleth": [
           {
            "type": "choropleth",
            "colorbar": {
             "outlinewidth": 0,
             "ticks": ""
            }
           }
          ],
          "histogram2d": [
           {
            "type": "histogram2d",
            "colorbar": {
             "outlinewidth": 0,
             "ticks": ""
            },
            "colorscale": [
             [
              0.0,
              "#0d0887"
             ],
             [
              0.1111111111111111,
              "#46039f"
             ],
             [
              0.2222222222222222,
              "#7201a8"
             ],
             [
              0.3333333333333333,
              "#9c179e"
             ],
             [
              0.4444444444444444,
              "#bd3786"
             ],
             [
              0.5555555555555556,
              "#d8576b"
             ],
             [
              0.6666666666666666,
              "#ed7953"
             ],
             [
              0.7777777777777778,
              "#fb9f3a"
             ],
             [
              0.8888888888888888,
              "#fdca26"
             ],
             [
              1.0,
              "#f0f921"
             ]
            ]
           }
          ],
          "heatmap": [
           {
            "type": "heatmap",
            "colorbar": {
             "outlinewidth": 0,
             "ticks": ""
            },
            "colorscale": [
             [
              0.0,
              "#0d0887"
             ],
             [
              0.1111111111111111,
              "#46039f"
             ],
             [
              0.2222222222222222,
              "#7201a8"
             ],
             [
              0.3333333333333333,
              "#9c179e"
             ],
             [
              0.4444444444444444,
              "#bd3786"
             ],
             [
              0.5555555555555556,
              "#d8576b"
             ],
             [
              0.6666666666666666,
              "#ed7953"
             ],
             [
              0.7777777777777778,
              "#fb9f3a"
             ],
             [
              0.8888888888888888,
              "#fdca26"
             ],
             [
              1.0,
              "#f0f921"
             ]
            ]
           }
          ],
          "heatmapgl": [
           {
            "type": "heatmapgl",
            "colorbar": {
             "outlinewidth": 0,
             "ticks": ""
            },
            "colorscale": [
             [
              0.0,
              "#0d0887"
             ],
             [
              0.1111111111111111,
              "#46039f"
             ],
             [
              0.2222222222222222,
              "#7201a8"
             ],
             [
              0.3333333333333333,
              "#9c179e"
             ],
             [
              0.4444444444444444,
              "#bd3786"
             ],
             [
              0.5555555555555556,
              "#d8576b"
             ],
             [
              0.6666666666666666,
              "#ed7953"
             ],
             [
              0.7777777777777778,
              "#fb9f3a"
             ],
             [
              0.8888888888888888,
              "#fdca26"
             ],
             [
              1.0,
              "#f0f921"
             ]
            ]
           }
          ],
          "contourcarpet": [
           {
            "type": "contourcarpet",
            "colorbar": {
             "outlinewidth": 0,
             "ticks": ""
            }
           }
          ],
          "contour": [
           {
            "type": "contour",
            "colorbar": {
             "outlinewidth": 0,
             "ticks": ""
            },
            "colorscale": [
             [
              0.0,
              "#0d0887"
             ],
             [
              0.1111111111111111,
              "#46039f"
             ],
             [
              0.2222222222222222,
              "#7201a8"
             ],
             [
              0.3333333333333333,
              "#9c179e"
             ],
             [
              0.4444444444444444,
              "#bd3786"
             ],
             [
              0.5555555555555556,
              "#d8576b"
             ],
             [
              0.6666666666666666,
              "#ed7953"
             ],
             [
              0.7777777777777778,
              "#fb9f3a"
             ],
             [
              0.8888888888888888,
              "#fdca26"
             ],
             [
              1.0,
              "#f0f921"
             ]
            ]
           }
          ],
          "surface": [
           {
            "type": "surface",
            "colorbar": {
             "outlinewidth": 0,
             "ticks": ""
            },
            "colorscale": [
             [
              0.0,
              "#0d0887"
             ],
             [
              0.1111111111111111,
              "#46039f"
             ],
             [
              0.2222222222222222,
              "#7201a8"
             ],
             [
              0.3333333333333333,
              "#9c179e"
             ],
             [
              0.4444444444444444,
              "#bd3786"
             ],
             [
              0.5555555555555556,
              "#d8576b"
             ],
             [
              0.6666666666666666,
              "#ed7953"
             ],
             [
              0.7777777777777778,
              "#fb9f3a"
             ],
             [
              0.8888888888888888,
              "#fdca26"
             ],
             [
              1.0,
              "#f0f921"
             ]
            ]
           }
          ],
          "mesh3d": [
           {
            "type": "mesh3d",
            "colorbar": {
             "outlinewidth": 0,
             "ticks": ""
            }
           }
          ],
          "scatter": [
           {
            "fillpattern": {
             "fillmode": "overlay",
             "size": 10,
             "solidity": 0.2
            },
            "type": "scatter"
           }
          ],
          "parcoords": [
           {
            "type": "parcoords",
            "line": {
             "colorbar": {
              "outlinewidth": 0,
              "ticks": ""
             }
            }
           }
          ],
          "scatterpolargl": [
           {
            "type": "scatterpolargl",
            "marker": {
             "colorbar": {
              "outlinewidth": 0,
              "ticks": ""
             }
            }
           }
          ],
          "bar": [
           {
            "error_x": {
             "color": "#2a3f5f"
            },
            "error_y": {
             "color": "#2a3f5f"
            },
            "marker": {
             "line": {
              "color": "#E5ECF6",
              "width": 0.5
             },
             "pattern": {
              "fillmode": "overlay",
              "size": 10,
              "solidity": 0.2
             }
            },
            "type": "bar"
           }
          ],
          "scattergeo": [
           {
            "type": "scattergeo",
            "marker": {
             "colorbar": {
              "outlinewidth": 0,
              "ticks": ""
             }
            }
           }
          ],
          "scatterpolar": [
           {
            "type": "scatterpolar",
            "marker": {
             "colorbar": {
              "outlinewidth": 0,
              "ticks": ""
             }
            }
           }
          ],
          "histogram": [
           {
            "marker": {
             "pattern": {
              "fillmode": "overlay",
              "size": 10,
              "solidity": 0.2
             }
            },
            "type": "histogram"
           }
          ],
          "scattergl": [
           {
            "type": "scattergl",
            "marker": {
             "colorbar": {
              "outlinewidth": 0,
              "ticks": ""
             }
            }
           }
          ],
          "scatter3d": [
           {
            "type": "scatter3d",
            "line": {
             "colorbar": {
              "outlinewidth": 0,
              "ticks": ""
             }
            },
            "marker": {
             "colorbar": {
              "outlinewidth": 0,
              "ticks": ""
             }
            }
           }
          ],
          "scattermapbox": [
           {
            "type": "scattermapbox",
            "marker": {
             "colorbar": {
              "outlinewidth": 0,
              "ticks": ""
             }
            }
           }
          ],
          "scatterternary": [
           {
            "type": "scatterternary",
            "marker": {
             "colorbar": {
              "outlinewidth": 0,
              "ticks": ""
             }
            }
           }
          ],
          "scattercarpet": [
           {
            "type": "scattercarpet",
            "marker": {
             "colorbar": {
              "outlinewidth": 0,
              "ticks": ""
             }
            }
           }
          ],
          "carpet": [
           {
            "aaxis": {
             "endlinecolor": "#2a3f5f",
             "gridcolor": "white",
             "linecolor": "white",
             "minorgridcolor": "white",
             "startlinecolor": "#2a3f5f"
            },
            "baxis": {
             "endlinecolor": "#2a3f5f",
             "gridcolor": "white",
             "linecolor": "white",
             "minorgridcolor": "white",
             "startlinecolor": "#2a3f5f"
            },
            "type": "carpet"
           }
          ],
          "table": [
           {
            "cells": {
             "fill": {
              "color": "#EBF0F8"
             },
             "line": {
              "color": "white"
             }
            },
            "header": {
             "fill": {
              "color": "#C8D4E3"
             },
             "line": {
              "color": "white"
             }
            },
            "type": "table"
           }
          ],
          "barpolar": [
           {
            "marker": {
             "line": {
              "color": "#E5ECF6",
              "width": 0.5
             },
             "pattern": {
              "fillmode": "overlay",
              "size": 10,
              "solidity": 0.2
             }
            },
            "type": "barpolar"
           }
          ],
          "pie": [
           {
            "automargin": true,
            "type": "pie"
           }
          ]
         },
         "layout": {
          "autotypenumbers": "strict",
          "colorway": [
           "#636efa",
           "#EF553B",
           "#00cc96",
           "#ab63fa",
           "#FFA15A",
           "#19d3f3",
           "#FF6692",
           "#B6E880",
           "#FF97FF",
           "#FECB52"
          ],
          "font": {
           "color": "#2a3f5f"
          },
          "hovermode": "closest",
          "hoverlabel": {
           "align": "left"
          },
          "paper_bgcolor": "white",
          "plot_bgcolor": "#E5ECF6",
          "polar": {
           "bgcolor": "#E5ECF6",
           "angularaxis": {
            "gridcolor": "white",
            "linecolor": "white",
            "ticks": ""
           },
           "radialaxis": {
            "gridcolor": "white",
            "linecolor": "white",
            "ticks": ""
           }
          },
          "ternary": {
           "bgcolor": "#E5ECF6",
           "aaxis": {
            "gridcolor": "white",
            "linecolor": "white",
            "ticks": ""
           },
           "baxis": {
            "gridcolor": "white",
            "linecolor": "white",
            "ticks": ""
           },
           "caxis": {
            "gridcolor": "white",
            "linecolor": "white",
            "ticks": ""
           }
          },
          "coloraxis": {
           "colorbar": {
            "outlinewidth": 0,
            "ticks": ""
           }
          },
          "colorscale": {
           "sequential": [
            [
             0.0,
             "#0d0887"
            ],
            [
             0.1111111111111111,
             "#46039f"
            ],
            [
             0.2222222222222222,
             "#7201a8"
            ],
            [
             0.3333333333333333,
             "#9c179e"
            ],
            [
             0.4444444444444444,
             "#bd3786"
            ],
            [
             0.5555555555555556,
             "#d8576b"
            ],
            [
             0.6666666666666666,
             "#ed7953"
            ],
            [
             0.7777777777777778,
             "#fb9f3a"
            ],
            [
             0.8888888888888888,
             "#fdca26"
            ],
            [
             1.0,
             "#f0f921"
            ]
           ],
           "sequentialminus": [
            [
             0.0,
             "#0d0887"
            ],
            [
             0.1111111111111111,
             "#46039f"
            ],
            [
             0.2222222222222222,
             "#7201a8"
            ],
            [
             0.3333333333333333,
             "#9c179e"
            ],
            [
             0.4444444444444444,
             "#bd3786"
            ],
            [
             0.5555555555555556,
             "#d8576b"
            ],
            [
             0.6666666666666666,
             "#ed7953"
            ],
            [
             0.7777777777777778,
             "#fb9f3a"
            ],
            [
             0.8888888888888888,
             "#fdca26"
            ],
            [
             1.0,
             "#f0f921"
            ]
           ],
           "diverging": [
            [
             0,
             "#8e0152"
            ],
            [
             0.1,
             "#c51b7d"
            ],
            [
             0.2,
             "#de77ae"
            ],
            [
             0.3,
             "#f1b6da"
            ],
            [
             0.4,
             "#fde0ef"
            ],
            [
             0.5,
             "#f7f7f7"
            ],
            [
             0.6,
             "#e6f5d0"
            ],
            [
             0.7,
             "#b8e186"
            ],
            [
             0.8,
             "#7fbc41"
            ],
            [
             0.9,
             "#4d9221"
            ],
            [
             1,
             "#276419"
            ]
           ]
          },
          "xaxis": {
           "gridcolor": "white",
           "linecolor": "white",
           "ticks": "",
           "title": {
            "standoff": 15
           },
           "zerolinecolor": "white",
           "automargin": true,
           "zerolinewidth": 2
          },
          "yaxis": {
           "gridcolor": "white",
           "linecolor": "white",
           "ticks": "",
           "title": {
            "standoff": 15
           },
           "zerolinecolor": "white",
           "automargin": true,
           "zerolinewidth": 2
          },
          "scene": {
           "xaxis": {
            "backgroundcolor": "#E5ECF6",
            "gridcolor": "white",
            "linecolor": "white",
            "showbackground": true,
            "ticks": "",
            "zerolinecolor": "white",
            "gridwidth": 2
           },
           "yaxis": {
            "backgroundcolor": "#E5ECF6",
            "gridcolor": "white",
            "linecolor": "white",
            "showbackground": true,
            "ticks": "",
            "zerolinecolor": "white",
            "gridwidth": 2
           },
           "zaxis": {
            "backgroundcolor": "#E5ECF6",
            "gridcolor": "white",
            "linecolor": "white",
            "showbackground": true,
            "ticks": "",
            "zerolinecolor": "white",
            "gridwidth": 2
           }
          },
          "shapedefaults": {
           "line": {
            "color": "#2a3f5f"
           }
          },
          "annotationdefaults": {
           "arrowcolor": "#2a3f5f",
           "arrowhead": 0,
           "arrowwidth": 1
          },
          "geo": {
           "bgcolor": "white",
           "landcolor": "#E5ECF6",
           "subunitcolor": "white",
           "showland": true,
           "showlakes": true,
           "lakecolor": "white"
          },
          "title": {
           "x": 0.05
          },
          "mapbox": {
           "style": "light"
          }
         }
        }
       },
       "config": {
        "plotlyServerURL": "https://plot.ly"
       }
      },
      "text/html": "<div>                            <div id=\"d4579798-9061-4a35-af35-8ca5ff552f41\" class=\"plotly-graph-div\" style=\"height:640px; width:640px;\"></div>            <script type=\"text/javascript\">                require([\"plotly\"], function(Plotly) {                    window.PLOTLYENV=window.PLOTLYENV || {};                                    if (document.getElementById(\"d4579798-9061-4a35-af35-8ca5ff552f41\")) {                    Plotly.newPlot(                        \"d4579798-9061-4a35-af35-8ca5ff552f41\",                        [{\"hole\":0.5,\"hoverinfo\":\"text+label+value\",\"labels\":[\"Test Product - D\",\"Test Product - A\",\"Test Product - C\",\"Test Product - B\",\"Test Product - E\"],\"showlegend\":false,\"textfont\":{\"size\":12},\"textinfo\":\"percent+label\",\"textposition\":\"inside\",\"values\":[12,11,11,10,6],\"type\":\"pie\"}],                        {\"colorway\":[\"rgb(133, 92, 117)\",\"rgb(217, 175, 107)\",\"rgb(175, 100, 88)\",\"rgb(115, 111, 76)\",\"rgb(82, 106, 131)\",\"rgb(98, 83, 119)\",\"rgb(104, 133, 92)\",\"rgb(156, 156, 94)\",\"rgb(160, 97, 119)\",\"rgb(140, 120, 93)\",\"rgb(124, 124, 124)\"],\"height\":640,\"paper_bgcolor\":\"#333333\",\"title\":{\"font\":{\"color\":\"white\",\"size\":24},\"text\":\"Learner Count by Team\"},\"width\":640,\"template\":{\"data\":{\"histogram2dcontour\":[{\"type\":\"histogram2dcontour\",\"colorbar\":{\"outlinewidth\":0,\"ticks\":\"\"},\"colorscale\":[[0.0,\"#0d0887\"],[0.1111111111111111,\"#46039f\"],[0.2222222222222222,\"#7201a8\"],[0.3333333333333333,\"#9c179e\"],[0.4444444444444444,\"#bd3786\"],[0.5555555555555556,\"#d8576b\"],[0.6666666666666666,\"#ed7953\"],[0.7777777777777778,\"#fb9f3a\"],[0.8888888888888888,\"#fdca26\"],[1.0,\"#f0f921\"]]}],\"choropleth\":[{\"type\":\"choropleth\",\"colorbar\":{\"outlinewidth\":0,\"ticks\":\"\"}}],\"histogram2d\":[{\"type\":\"histogram2d\",\"colorbar\":{\"outlinewidth\":0,\"ticks\":\"\"},\"colorscale\":[[0.0,\"#0d0887\"],[0.1111111111111111,\"#46039f\"],[0.2222222222222222,\"#7201a8\"],[0.3333333333333333,\"#9c179e\"],[0.4444444444444444,\"#bd3786\"],[0.5555555555555556,\"#d8576b\"],[0.6666666666666666,\"#ed7953\"],[0.7777777777777778,\"#fb9f3a\"],[0.8888888888888888,\"#fdca26\"],[1.0,\"#f0f921\"]]}],\"heatmap\":[{\"type\":\"heatmap\",\"colorbar\":{\"outlinewidth\":0,\"ticks\":\"\"},\"colorscale\":[[0.0,\"#0d0887\"],[0.1111111111111111,\"#46039f\"],[0.2222222222222222,\"#7201a8\"],[0.3333333333333333,\"#9c179e\"],[0.4444444444444444,\"#bd3786\"],[0.5555555555555556,\"#d8576b\"],[0.6666666666666666,\"#ed7953\"],[0.7777777777777778,\"#fb9f3a\"],[0.8888888888888888,\"#fdca26\"],[1.0,\"#f0f921\"]]}],\"heatmapgl\":[{\"type\":\"heatmapgl\",\"colorbar\":{\"outlinewidth\":0,\"ticks\":\"\"},\"colorscale\":[[0.0,\"#0d0887\"],[0.1111111111111111,\"#46039f\"],[0.2222222222222222,\"#7201a8\"],[0.3333333333333333,\"#9c179e\"],[0.4444444444444444,\"#bd3786\"],[0.5555555555555556,\"#d8576b\"],[0.6666666666666666,\"#ed7953\"],[0.7777777777777778,\"#fb9f3a\"],[0.8888888888888888,\"#fdca26\"],[1.0,\"#f0f921\"]]}],\"contourcarpet\":[{\"type\":\"contourcarpet\",\"colorbar\":{\"outlinewidth\":0,\"ticks\":\"\"}}],\"contour\":[{\"type\":\"contour\",\"colorbar\":{\"outlinewidth\":0,\"ticks\":\"\"},\"colorscale\":[[0.0,\"#0d0887\"],[0.1111111111111111,\"#46039f\"],[0.2222222222222222,\"#7201a8\"],[0.3333333333333333,\"#9c179e\"],[0.4444444444444444,\"#bd3786\"],[0.5555555555555556,\"#d8576b\"],[0.6666666666666666,\"#ed7953\"],[0.7777777777777778,\"#fb9f3a\"],[0.8888888888888888,\"#fdca26\"],[1.0,\"#f0f921\"]]}],\"surface\":[{\"type\":\"surface\",\"colorbar\":{\"outlinewidth\":0,\"ticks\":\"\"},\"colorscale\":[[0.0,\"#0d0887\"],[0.1111111111111111,\"#46039f\"],[0.2222222222222222,\"#7201a8\"],[0.3333333333333333,\"#9c179e\"],[0.4444444444444444,\"#bd3786\"],[0.5555555555555556,\"#d8576b\"],[0.6666666666666666,\"#ed7953\"],[0.7777777777777778,\"#fb9f3a\"],[0.8888888888888888,\"#fdca26\"],[1.0,\"#f0f921\"]]}],\"mesh3d\":[{\"type\":\"mesh3d\",\"colorbar\":{\"outlinewidth\":0,\"ticks\":\"\"}}],\"scatter\":[{\"fillpattern\":{\"fillmode\":\"overlay\",\"size\":10,\"solidity\":0.2},\"type\":\"scatter\"}],\"parcoords\":[{\"type\":\"parcoords\",\"line\":{\"colorbar\":{\"outlinewidth\":0,\"ticks\":\"\"}}}],\"scatterpolargl\":[{\"type\":\"scatterpolargl\",\"marker\":{\"colorbar\":{\"outlinewidth\":0,\"ticks\":\"\"}}}],\"bar\":[{\"error_x\":{\"color\":\"#2a3f5f\"},\"error_y\":{\"color\":\"#2a3f5f\"},\"marker\":{\"line\":{\"color\":\"#E5ECF6\",\"width\":0.5},\"pattern\":{\"fillmode\":\"overlay\",\"size\":10,\"solidity\":0.2}},\"type\":\"bar\"}],\"scattergeo\":[{\"type\":\"scattergeo\",\"marker\":{\"colorbar\":{\"outlinewidth\":0,\"ticks\":\"\"}}}],\"scatterpolar\":[{\"type\":\"scatterpolar\",\"marker\":{\"colorbar\":{\"outlinewidth\":0,\"ticks\":\"\"}}}],\"histogram\":[{\"marker\":{\"pattern\":{\"fillmode\":\"overlay\",\"size\":10,\"solidity\":0.2}},\"type\":\"histogram\"}],\"scattergl\":[{\"type\":\"scattergl\",\"marker\":{\"colorbar\":{\"outlinewidth\":0,\"ticks\":\"\"}}}],\"scatter3d\":[{\"type\":\"scatter3d\",\"line\":{\"colorbar\":{\"outlinewidth\":0,\"ticks\":\"\"}},\"marker\":{\"colorbar\":{\"outlinewidth\":0,\"ticks\":\"\"}}}],\"scattermapbox\":[{\"type\":\"scattermapbox\",\"marker\":{\"colorbar\":{\"outlinewidth\":0,\"ticks\":\"\"}}}],\"scatterternary\":[{\"type\":\"scatterternary\",\"marker\":{\"colorbar\":{\"outlinewidth\":0,\"ticks\":\"\"}}}],\"scattercarpet\":[{\"type\":\"scattercarpet\",\"marker\":{\"colorbar\":{\"outlinewidth\":0,\"ticks\":\"\"}}}],\"carpet\":[{\"aaxis\":{\"endlinecolor\":\"#2a3f5f\",\"gridcolor\":\"white\",\"linecolor\":\"white\",\"minorgridcolor\":\"white\",\"startlinecolor\":\"#2a3f5f\"},\"baxis\":{\"endlinecolor\":\"#2a3f5f\",\"gridcolor\":\"white\",\"linecolor\":\"white\",\"minorgridcolor\":\"white\",\"startlinecolor\":\"#2a3f5f\"},\"type\":\"carpet\"}],\"table\":[{\"cells\":{\"fill\":{\"color\":\"#EBF0F8\"},\"line\":{\"color\":\"white\"}},\"header\":{\"fill\":{\"color\":\"#C8D4E3\"},\"line\":{\"color\":\"white\"}},\"type\":\"table\"}],\"barpolar\":[{\"marker\":{\"line\":{\"color\":\"#E5ECF6\",\"width\":0.5},\"pattern\":{\"fillmode\":\"overlay\",\"size\":10,\"solidity\":0.2}},\"type\":\"barpolar\"}],\"pie\":[{\"automargin\":true,\"type\":\"pie\"}]},\"layout\":{\"autotypenumbers\":\"strict\",\"colorway\":[\"#636efa\",\"#EF553B\",\"#00cc96\",\"#ab63fa\",\"#FFA15A\",\"#19d3f3\",\"#FF6692\",\"#B6E880\",\"#FF97FF\",\"#FECB52\"],\"font\":{\"color\":\"#2a3f5f\"},\"hovermode\":\"closest\",\"hoverlabel\":{\"align\":\"left\"},\"paper_bgcolor\":\"white\",\"plot_bgcolor\":\"#E5ECF6\",\"polar\":{\"bgcolor\":\"#E5ECF6\",\"angularaxis\":{\"gridcolor\":\"white\",\"linecolor\":\"white\",\"ticks\":\"\"},\"radialaxis\":{\"gridcolor\":\"white\",\"linecolor\":\"white\",\"ticks\":\"\"}},\"ternary\":{\"bgcolor\":\"#E5ECF6\",\"aaxis\":{\"gridcolor\":\"white\",\"linecolor\":\"white\",\"ticks\":\"\"},\"baxis\":{\"gridcolor\":\"white\",\"linecolor\":\"white\",\"ticks\":\"\"},\"caxis\":{\"gridcolor\":\"white\",\"linecolor\":\"white\",\"ticks\":\"\"}},\"coloraxis\":{\"colorbar\":{\"outlinewidth\":0,\"ticks\":\"\"}},\"colorscale\":{\"sequential\":[[0.0,\"#0d0887\"],[0.1111111111111111,\"#46039f\"],[0.2222222222222222,\"#7201a8\"],[0.3333333333333333,\"#9c179e\"],[0.4444444444444444,\"#bd3786\"],[0.5555555555555556,\"#d8576b\"],[0.6666666666666666,\"#ed7953\"],[0.7777777777777778,\"#fb9f3a\"],[0.8888888888888888,\"#fdca26\"],[1.0,\"#f0f921\"]],\"sequentialminus\":[[0.0,\"#0d0887\"],[0.1111111111111111,\"#46039f\"],[0.2222222222222222,\"#7201a8\"],[0.3333333333333333,\"#9c179e\"],[0.4444444444444444,\"#bd3786\"],[0.5555555555555556,\"#d8576b\"],[0.6666666666666666,\"#ed7953\"],[0.7777777777777778,\"#fb9f3a\"],[0.8888888888888888,\"#fdca26\"],[1.0,\"#f0f921\"]],\"diverging\":[[0,\"#8e0152\"],[0.1,\"#c51b7d\"],[0.2,\"#de77ae\"],[0.3,\"#f1b6da\"],[0.4,\"#fde0ef\"],[0.5,\"#f7f7f7\"],[0.6,\"#e6f5d0\"],[0.7,\"#b8e186\"],[0.8,\"#7fbc41\"],[0.9,\"#4d9221\"],[1,\"#276419\"]]},\"xaxis\":{\"gridcolor\":\"white\",\"linecolor\":\"white\",\"ticks\":\"\",\"title\":{\"standoff\":15},\"zerolinecolor\":\"white\",\"automargin\":true,\"zerolinewidth\":2},\"yaxis\":{\"gridcolor\":\"white\",\"linecolor\":\"white\",\"ticks\":\"\",\"title\":{\"standoff\":15},\"zerolinecolor\":\"white\",\"automargin\":true,\"zerolinewidth\":2},\"scene\":{\"xaxis\":{\"backgroundcolor\":\"#E5ECF6\",\"gridcolor\":\"white\",\"linecolor\":\"white\",\"showbackground\":true,\"ticks\":\"\",\"zerolinecolor\":\"white\",\"gridwidth\":2},\"yaxis\":{\"backgroundcolor\":\"#E5ECF6\",\"gridcolor\":\"white\",\"linecolor\":\"white\",\"showbackground\":true,\"ticks\":\"\",\"zerolinecolor\":\"white\",\"gridwidth\":2},\"zaxis\":{\"backgroundcolor\":\"#E5ECF6\",\"gridcolor\":\"white\",\"linecolor\":\"white\",\"showbackground\":true,\"ticks\":\"\",\"zerolinecolor\":\"white\",\"gridwidth\":2}},\"shapedefaults\":{\"line\":{\"color\":\"#2a3f5f\"}},\"annotationdefaults\":{\"arrowcolor\":\"#2a3f5f\",\"arrowhead\":0,\"arrowwidth\":1},\"geo\":{\"bgcolor\":\"white\",\"landcolor\":\"#E5ECF6\",\"subunitcolor\":\"white\",\"showland\":true,\"showlakes\":true,\"lakecolor\":\"white\"},\"title\":{\"x\":0.05},\"mapbox\":{\"style\":\"light\"}}}},                        {\"responsive\": true}                    ).then(function(){\n                            \nvar gd = document.getElementById('d4579798-9061-4a35-af35-8ca5ff552f41');\nvar x = new MutationObserver(function (mutations, observer) {{\n        var display = window.getComputedStyle(gd).display;\n        if (!display || display === 'none') {{\n            console.log([gd, 'removed!']);\n            Plotly.purge(gd);\n            observer.disconnect();\n        }}\n}});\n\n// Listen for the removal of the full notebook cells\nvar notebookContainer = gd.closest('#notebook-container');\nif (notebookContainer) {{\n    x.observe(notebookContainer, {childList: true});\n}}\n\n// Listen for the clearing of the current output cell\nvar outputEl = gd.closest('.output');\nif (outputEl) {{\n    x.observe(outputEl, {childList: true});\n}}\n\n                        })                };                });            </script>        </div>"
     },
     "metadata": {},
     "output_type": "display_data"
    }
   ],
   "source": [
    "df_type = DataFrame(learners)\n",
    "type_value_counts = df_type[\"labsProject\"].value_counts()\n",
    "data = go.Pie(\n",
    "    labels=type_value_counts.index,\n",
    "    values=type_value_counts.values,\n",
    "    hole=0.5,\n",
    "    textinfo=\"percent+label\",\n",
    "    textfont={\"size\": 12},\n",
    "    hoverinfo=\"text+label+value\",\n",
    "    textposition='inside',\n",
    "    showlegend=False,\n",
    ")\n",
    "layout = go.Layout(\n",
    "    title={\n",
    "        \"text\": \"Learner Count by Team\",\n",
    "        \"font\": {\"color\": \"white\", \"size\": 24},\n",
    "    },\n",
    "    colorway=px.colors.qualitative.Antique,\n",
    "    width=640,\n",
    "    height=640,\n",
    "    paper_bgcolor=\"#333333\",\n",
    ")\n",
    "figure = go.Figure(data, layout)\n",
    "figure.show()"
   ],
   "metadata": {
    "collapsed": false,
    "pycharm": {
     "name": "#%%\n"
    }
   }
  },
  {
   "cell_type": "code",
   "execution_count": 39,
   "outputs": [
    {
     "data": {
      "text/plain": "         id       product teamCode     tracks    releaseManager  \\\n0  31v33xWN  Test Product        A      [Web]  Eleanor Anderson   \n1  Y1i67Sp7  Test Product        B  [Web, DS]       Ella Flores   \n2  Kl0jA366  Test Product        C  [Web, DS]    Benjamin Clark   \n3  EX26c3c3  Test Product        D  [Web, DS]       Mia Johnson   \n4  Nq1u2m62  Test Product        E  [Web, BD]      Sophia Brown   \n\n                                    teamMemberSmtIds  \n0  [W4810Grw2Ca0Q4U7, 37OsT4x36o76q5mm, PR8775a0A...  \n1  [8q1Ta487u3l3k0Ya, m5FY1N60e37kPm53, QN3145qD1...  \n2  [7z2RJ4V4z7T3s57x, Cb11ih546i4m85Fi, 8777tk1cg...  \n3  [U5S2N12Kw38i87HL, QL16QY22B1G88zl0, 87LQ2z7w7...  \n4  [q088x5BG1F7V7qR8, NK206i4N207CMny0, 07I41opY6...  ",
      "text/html": "<div>\n<style scoped>\n    .dataframe tbody tr th:only-of-type {\n        vertical-align: middle;\n    }\n\n    .dataframe tbody tr th {\n        vertical-align: top;\n    }\n\n    .dataframe thead th {\n        text-align: right;\n    }\n</style>\n<table border=\"1\" class=\"dataframe\">\n  <thead>\n    <tr style=\"text-align: right;\">\n      <th></th>\n      <th>id</th>\n      <th>product</th>\n      <th>teamCode</th>\n      <th>tracks</th>\n      <th>releaseManager</th>\n      <th>teamMemberSmtIds</th>\n    </tr>\n  </thead>\n  <tbody>\n    <tr>\n      <th>0</th>\n      <td>31v33xWN</td>\n      <td>Test Product</td>\n      <td>A</td>\n      <td>[Web]</td>\n      <td>Eleanor Anderson</td>\n      <td>[W4810Grw2Ca0Q4U7, 37OsT4x36o76q5mm, PR8775a0A...</td>\n    </tr>\n    <tr>\n      <th>1</th>\n      <td>Y1i67Sp7</td>\n      <td>Test Product</td>\n      <td>B</td>\n      <td>[Web, DS]</td>\n      <td>Ella Flores</td>\n      <td>[8q1Ta487u3l3k0Ya, m5FY1N60e37kPm53, QN3145qD1...</td>\n    </tr>\n    <tr>\n      <th>2</th>\n      <td>Kl0jA366</td>\n      <td>Test Product</td>\n      <td>C</td>\n      <td>[Web, DS]</td>\n      <td>Benjamin Clark</td>\n      <td>[7z2RJ4V4z7T3s57x, Cb11ih546i4m85Fi, 8777tk1cg...</td>\n    </tr>\n    <tr>\n      <th>3</th>\n      <td>EX26c3c3</td>\n      <td>Test Product</td>\n      <td>D</td>\n      <td>[Web, DS]</td>\n      <td>Mia Johnson</td>\n      <td>[U5S2N12Kw38i87HL, QL16QY22B1G88zl0, 87LQ2z7w7...</td>\n    </tr>\n    <tr>\n      <th>4</th>\n      <td>Nq1u2m62</td>\n      <td>Test Product</td>\n      <td>E</td>\n      <td>[Web, BD]</td>\n      <td>Sophia Brown</td>\n      <td>[q088x5BG1F7V7qR8, NK206i4N207CMny0, 07I41opY6...</td>\n    </tr>\n  </tbody>\n</table>\n</div>"
     },
     "execution_count": 39,
     "metadata": {},
     "output_type": "execute_result"
    }
   ],
   "source": [
    "projects_df = DataFrame(projects)\n",
    "projects_df"
   ],
   "metadata": {
    "collapsed": false,
    "pycharm": {
     "name": "#%%\n"
    }
   }
  },
  {
   "cell_type": "code",
   "execution_count": 40,
   "outputs": [
    {
     "data": {
      "text/plain": "            lambdaId                name track       labsProject  \\\n0   W4810Grw2Ca0Q4U7           Levi Hill   Web  Test Product - A   \n1   8q1Ta487u3l3k0Ya       Jacob Ramirez   Web  Test Product - B   \n2   U5S2N12Kw38i87HL      Olivia Jackson    DS  Test Product - D   \n3   q088x5BG1F7V7qR8         Emily Clark    BD  Test Product - E   \n4   QL16QY22B1G88zl0      Levi Rodriguez    DS  Test Product - D   \n5   37OsT4x36o76q5mm      Ellie Robinson   Web  Test Product - A   \n6   m5FY1N60e37kPm53      Penelope Lopez    DS  Test Product - B   \n7   87LQ2z7w7Mdp438z        Sophia James    DS  Test Product - D   \n8   PR8775a0A1tEy60L        Eleanor Wood   Web  Test Product - A   \n9   bTD35f3045ld4i7z    Amelia Rodriguez    DS  Test Product - D   \n10  7z2RJ4V4z7T3s57x         Noah Wright    DS  Test Product - C   \n11  NK206i4N207CMny0  Benjamin Hernandez    BD  Test Product - E   \n12  Cb11ih546i4m85Fi        Jacob Torres    DS  Test Product - C   \n13  QN3145qD1jdZ74Z2         Wyatt Scott    DS  Test Product - B   \n14  r31g83C5fgCO683k         Mila Walker   Web  Test Product - D   \n15  yy064uS516p4Ao7j         Harper King   Web  Test Product - A   \n16  07I41opY62G1w6Ld          Liam Lewis    BD  Test Product - E   \n17  8777tk1cg8GscZ21     Sophia Gonzales    DS  Test Product - C   \n18  o414uCJ604JJ00Pa      Abigail Thomas   Web  Test Product - B   \n19  MZ1eJo88xp16N656        Chloe Taylor    DS  Test Product - D   \n20  eC846888qNtr2Qd6          Mia Torres    DS  Test Product - C   \n21  Z30S5khI10sl68A7        Jack Johnson   Web  Test Product - B   \n22  HT70A0837DvfOQ73        Abigail Hill    DS  Test Product - D   \n23  244Kj7Pg7tL566mE      Gianna Ramirez   Web  Test Product - C   \n24  h8M41P8Y1uV2H1q3       Sofia Jackson   Web  Test Product - B   \n25  T1R02e5e4tB73kl0     Sophia Gonzales   Web  Test Product - D   \n26  01V3Bv375JEa6M4z           Ella Hill    DS  Test Product - C   \n27  8e12V876Pqmg1BD7       Harper Taylor   Web  Test Product - A   \n28  uZ4cP3mOL137A653          Nora White   Web  Test Product - B   \n29  128tQQJ6a0B0Ps47  Elizabeth Williams    DS  Test Product - D   \n30  14cK1ce1700xv3hf       Daniel Watson    DS  Test Product - C   \n31  45V5W38izX23s2BZ         David Smith   Web  Test Product - A   \n32  1w838en87I3lY7oS        Sofia Harris    DS  Test Product - C   \n33  nP04Cd682xn0TN72         Mason Adams   Web  Test Product - A   \n34  1VkB1k7wX704Hz52     Sebastian Young    DS  Test Product - C   \n35  y45DZ5p3288ziu1X          Ella Lopez   Web  Test Product - A   \n36  m6fG4u6RD28k1d87        Michael Hall   Web  Test Product - E   \n37  L36VZ5cY46Xc6p68         Sofia Moore    DS  Test Product - C   \n38  b7L0Lc2g73RG4o13    Sebastian Torres    DS  Test Product - B   \n39  N06SKk6v6J0c30A1       Joseph Nelson    DS  Test Product - D   \n40  1p8rS1406jpdE46g        Amelia Brown   Web  Test Product - A   \n41  04f4D3CtxUW0820a          Ethan King   Web  Test Product - B   \n42  b4JQ2u4J3H13S7Z8         Aria Harris    DS  Test Product - D   \n43  M7eK1QpOv4022V07          Ellie Wood   Web  Test Product - A   \n44  37vc7f8487zhNr2p    Scarlett Johnson   Web  Test Product - E   \n45  V775r2G1K0zVNy67       Daniel Walker    BD  Test Product - E   \n46  h4B57DII54z7q5E1          David King   Web  Test Product - C   \n47  RA76R74757TXYRM5      Levi Hernandez    DS  Test Product - B   \n48  a2fuh32bCJg03520        Evelyn Clark    DS  Test Product - D   \n49  W1b25ZO2eZ54J1s1        Elijah Young   Web  Test Product - A   \n\n    gitExpertise  dockerExpertise  playByEar  detailOriented  \\\n0              4                3          2               5   \n1              2                5          2               4   \n2              4                2          2               5   \n3              2                4          5               4   \n4              3                4          1               3   \n5              3                1          5               1   \n6              2                5          1               1   \n7              4                1          5               1   \n8              1                1          1               4   \n9              3                4          2               3   \n10             5                1          1               5   \n11             5                4          5               1   \n12             2                4          3               4   \n13             1                3          3               3   \n14             2                4          4               3   \n15             4                1          2               1   \n16             2                3          1               5   \n17             3                5          3               5   \n18             3                4          4               2   \n19             3                2          4               2   \n20             3                2          2               2   \n21             2                4          1               1   \n22             4                2          1               3   \n23             5                5          5               3   \n24             2                1          3               1   \n25             2                2          3               2   \n26             2                1          4               3   \n27             4                3          1               5   \n28             2                1          4               5   \n29             4                5          1               1   \n30             2                5          3               3   \n31             2                2          1               5   \n32             4                1          5               3   \n33             4                3          1               1   \n34             5                2          2               3   \n35             2                5          1               4   \n36             3                5          3               5   \n37             2                5          4               1   \n38             2                5          1               5   \n39             4                1          5               5   \n40             3                4          5               1   \n41             3                5          1               3   \n42             4                5          5               2   \n43             5                3          3               1   \n44             2                1          3               1   \n45             5                3          4               4   \n46             4                4          2               3   \n47             1                3          5               2   \n48             4                2          2               3   \n49             2                4          4               4   \n\n    speakUpInDiscussions soloOrSocial  ... mlOpsInterest2 mlOpsInterest3  \\\n0                      3            B  ...              0              0   \n1                      3            B  ...              0              0   \n2                      1            A  ...              4              2   \n3                      2            A  ...              0              0   \n4                      1            B  ...              1              2   \n5                      4            A  ...              0              0   \n6                      4            B  ...              1              2   \n7                      3            A  ...              2              3   \n8                      4            B  ...              0              0   \n9                      1            A  ...              2              2   \n10                     2            A  ...              2              3   \n11                     3            B  ...              0              0   \n12                     1            A  ...              4              2   \n13                     1            A  ...              4              2   \n14                     4            B  ...              0              0   \n15                     1            A  ...              0              0   \n16                     5            B  ...              0              0   \n17                     4            B  ...              1              3   \n18                     1            B  ...              0              0   \n19                     2            B  ...              3              3   \n20                     2            B  ...              3              1   \n21                     5            B  ...              0              0   \n22                     1            A  ...              1              3   \n23                     3            A  ...              0              0   \n24                     1            B  ...              0              0   \n25                     3            A  ...              0              0   \n26                     4            B  ...              2              2   \n27                     1            A  ...              0              0   \n28                     2            A  ...              0              0   \n29                     2            A  ...              3              3   \n30                     5            A  ...              3              1   \n31                     2            B  ...              0              0   \n32                     4            A  ...              3              2   \n33                     2            B  ...              0              0   \n34                     2            B  ...              3              3   \n35                     2            B  ...              0              0   \n36                     3            A  ...              0              0   \n37                     5            A  ...              2              3   \n38                     2            B  ...              4              1   \n39                     5            B  ...              3              3   \n40                     2            B  ...              0              0   \n41                     4            A  ...              0              0   \n42                     5            A  ...              2              3   \n43                     2            B  ...              0              0   \n44                     1            B  ...              0              0   \n45                     1            A  ...              0              0   \n46                     2            B  ...              0              0   \n47                     2            A  ...              3              2   \n48                     4            B  ...              4              4   \n49                     3            B  ...              0              0   \n\n   tpmSkillRank tpmInterestRank uxInterestRank frontendInterestRank  \\\n0      0.333333          0.5625          0.250                0.750   \n1      0.333333          0.5625          0.375                0.875   \n2      0.000000          0.6250            NaN                  NaN   \n3      0.333333          0.3125            NaN                  NaN   \n4      0.000000          0.5000            NaN                  NaN   \n5      0.333333          0.6875          0.750                0.875   \n6      0.333333          0.6875            NaN                  NaN   \n7      0.000000          0.3750            NaN                  NaN   \n8      0.000000          0.3750          0.625                0.625   \n9      0.333333          0.8750            NaN                  NaN   \n10     0.666667          0.4375            NaN                  NaN   \n11     0.333333          0.6875            NaN                  NaN   \n12     0.000000          0.7500            NaN                  NaN   \n13     0.000000          0.8750            NaN                  NaN   \n14     0.333333          0.5000          0.375                0.875   \n15     0.000000          0.6250          0.625                1.000   \n16     0.333333          0.5625            NaN                  NaN   \n17     0.666667          0.5625            NaN                  NaN   \n18     0.333333          0.7500          0.875                0.750   \n19     0.000000          0.3750            NaN                  NaN   \n20     0.000000          0.7500            NaN                  NaN   \n21     0.666667          1.0000          0.625                0.750   \n22     0.000000          0.7500            NaN                  NaN   \n23     0.333333          0.5625          0.500                0.250   \n24     0.333333          0.8125          0.500                0.625   \n25     0.000000          0.4375          0.500                0.625   \n26     0.333333          0.5625            NaN                  NaN   \n27     0.333333          0.6250          0.750                0.750   \n28     0.000000          0.8750          0.375                1.000   \n29     0.666667          0.5625            NaN                  NaN   \n30     0.000000          0.6250            NaN                  NaN   \n31     0.000000          0.6250          0.500                0.625   \n32     0.666667          0.6875            NaN                  NaN   \n33     0.333333          0.7500          0.750                0.500   \n34     0.333333          0.4375            NaN                  NaN   \n35     0.333333          0.6250          0.375                0.875   \n36     0.333333          0.7500          0.500                0.750   \n37     0.333333          0.8125            NaN                  NaN   \n38     0.000000          0.4375            NaN                  NaN   \n39     0.666667          0.8125            NaN                  NaN   \n40     0.333333          0.5000          0.375                0.875   \n41     0.000000          0.6875          0.500                0.750   \n42     0.666667          0.5625            NaN                  NaN   \n43     0.333333          0.6875          0.875                0.625   \n44     0.333333          0.5000          0.500                0.875   \n45     0.000000          0.6250            NaN                  NaN   \n46     0.000000          0.6250          0.750                0.375   \n47     0.333333          0.6250            NaN                  NaN   \n48     0.333333          0.6250            NaN                  NaN   \n49     0.000000          0.8750          0.250                0.500   \n\n    backendInterestRank  dataEngInterestRank  mlEngInterestRank  \\\n0                 0.625                  NaN                NaN   \n1                 0.625                  NaN                NaN   \n2                   NaN             0.333333           0.333333   \n3                   NaN                  NaN                NaN   \n4                   NaN             0.666667           0.583333   \n5                 0.625                  NaN                NaN   \n6                   NaN             0.583333           0.750000   \n7                   NaN             0.500000           0.833333   \n8                 0.625                  NaN                NaN   \n9                   NaN             0.583333           0.583333   \n10                  NaN             0.666667           0.500000   \n11                  NaN                  NaN                NaN   \n12                  NaN             0.416667           0.583333   \n13                  NaN             0.583333           0.500000   \n14                0.250                  NaN                NaN   \n15                0.875                  NaN                NaN   \n16                  NaN                  NaN                NaN   \n17                  NaN             0.750000           0.666667   \n18                0.500                  NaN                NaN   \n19                  NaN             0.333333           0.750000   \n20                  NaN             0.500000           0.500000   \n21                0.750                  NaN                NaN   \n22                  NaN             0.666667           0.500000   \n23                0.250                  NaN                NaN   \n24                0.250                  NaN                NaN   \n25                0.375                  NaN                NaN   \n26                  NaN             0.583333           0.500000   \n27                0.750                  NaN                NaN   \n28                0.625                  NaN                NaN   \n29                  NaN             0.500000           0.750000   \n30                  NaN             0.500000           0.500000   \n31                0.500                  NaN                NaN   \n32                  NaN             0.916667           0.416667   \n33                0.500                  NaN                NaN   \n34                  NaN             0.416667           0.916667   \n35                0.500                  NaN                NaN   \n36                0.500                  NaN                NaN   \n37                  NaN             0.416667           0.250000   \n38                  NaN             0.416667           0.666667   \n39                  NaN             0.750000           0.750000   \n40                0.625                  NaN                NaN   \n41                1.000                  NaN                NaN   \n42                  NaN             0.583333           0.666667   \n43                0.750                  NaN                NaN   \n44                1.000                  NaN                NaN   \n45                  NaN                  NaN                NaN   \n46                0.375                  NaN                NaN   \n47                  NaN             0.416667           0.416667   \n48                  NaN             0.833333           0.666667   \n49                0.625                  NaN                NaN   \n\n    mlOpsInterestRank  \n0                 NaN  \n1                 NaN  \n2            0.666667  \n3                 NaN  \n4            0.416667  \n5                 NaN  \n6            0.416667  \n7            0.666667  \n8                 NaN  \n9            0.666667  \n10           0.500000  \n11                NaN  \n12           0.833333  \n13           0.833333  \n14                NaN  \n15                NaN  \n16                NaN  \n17           0.666667  \n18                NaN  \n19           0.666667  \n20           0.583333  \n21                NaN  \n22           0.416667  \n23                NaN  \n24                NaN  \n25                NaN  \n26           0.666667  \n27                NaN  \n28                NaN  \n29           0.750000  \n30           0.666667  \n31                NaN  \n32           0.666667  \n33                NaN  \n34           0.666667  \n35                NaN  \n36                NaN  \n37           0.666667  \n38           0.583333  \n39           0.666667  \n40                NaN  \n41                NaN  \n42           0.583333  \n43                NaN  \n44                NaN  \n45                NaN  \n46                NaN  \n47           0.500000  \n48           0.833333  \n49                NaN  \n\n[50 rows x 43 columns]",
      "text/html": "<div>\n<style scoped>\n    .dataframe tbody tr th:only-of-type {\n        vertical-align: middle;\n    }\n\n    .dataframe tbody tr th {\n        vertical-align: top;\n    }\n\n    .dataframe thead th {\n        text-align: right;\n    }\n</style>\n<table border=\"1\" class=\"dataframe\">\n  <thead>\n    <tr style=\"text-align: right;\">\n      <th></th>\n      <th>lambdaId</th>\n      <th>name</th>\n      <th>track</th>\n      <th>labsProject</th>\n      <th>gitExpertise</th>\n      <th>dockerExpertise</th>\n      <th>playByEar</th>\n      <th>detailOriented</th>\n      <th>speakUpInDiscussions</th>\n      <th>soloOrSocial</th>\n      <th>...</th>\n      <th>mlOpsInterest2</th>\n      <th>mlOpsInterest3</th>\n      <th>tpmSkillRank</th>\n      <th>tpmInterestRank</th>\n      <th>uxInterestRank</th>\n      <th>frontendInterestRank</th>\n      <th>backendInterestRank</th>\n      <th>dataEngInterestRank</th>\n      <th>mlEngInterestRank</th>\n      <th>mlOpsInterestRank</th>\n    </tr>\n  </thead>\n  <tbody>\n    <tr>\n      <th>0</th>\n      <td>W4810Grw2Ca0Q4U7</td>\n      <td>Levi Hill</td>\n      <td>Web</td>\n      <td>Test Product - A</td>\n      <td>4</td>\n      <td>3</td>\n      <td>2</td>\n      <td>5</td>\n      <td>3</td>\n      <td>B</td>\n      <td>...</td>\n      <td>0</td>\n      <td>0</td>\n      <td>0.333333</td>\n      <td>0.5625</td>\n      <td>0.250</td>\n      <td>0.750</td>\n      <td>0.625</td>\n      <td>NaN</td>\n      <td>NaN</td>\n      <td>NaN</td>\n    </tr>\n    <tr>\n      <th>1</th>\n      <td>8q1Ta487u3l3k0Ya</td>\n      <td>Jacob Ramirez</td>\n      <td>Web</td>\n      <td>Test Product - B</td>\n      <td>2</td>\n      <td>5</td>\n      <td>2</td>\n      <td>4</td>\n      <td>3</td>\n      <td>B</td>\n      <td>...</td>\n      <td>0</td>\n      <td>0</td>\n      <td>0.333333</td>\n      <td>0.5625</td>\n      <td>0.375</td>\n      <td>0.875</td>\n      <td>0.625</td>\n      <td>NaN</td>\n      <td>NaN</td>\n      <td>NaN</td>\n    </tr>\n    <tr>\n      <th>2</th>\n      <td>U5S2N12Kw38i87HL</td>\n      <td>Olivia Jackson</td>\n      <td>DS</td>\n      <td>Test Product - D</td>\n      <td>4</td>\n      <td>2</td>\n      <td>2</td>\n      <td>5</td>\n      <td>1</td>\n      <td>A</td>\n      <td>...</td>\n      <td>4</td>\n      <td>2</td>\n      <td>0.000000</td>\n      <td>0.6250</td>\n      <td>NaN</td>\n      <td>NaN</td>\n      <td>NaN</td>\n      <td>0.333333</td>\n      <td>0.333333</td>\n      <td>0.666667</td>\n    </tr>\n    <tr>\n      <th>3</th>\n      <td>q088x5BG1F7V7qR8</td>\n      <td>Emily Clark</td>\n      <td>BD</td>\n      <td>Test Product - E</td>\n      <td>2</td>\n      <td>4</td>\n      <td>5</td>\n      <td>4</td>\n      <td>2</td>\n      <td>A</td>\n      <td>...</td>\n      <td>0</td>\n      <td>0</td>\n      <td>0.333333</td>\n      <td>0.3125</td>\n      <td>NaN</td>\n      <td>NaN</td>\n      <td>NaN</td>\n      <td>NaN</td>\n      <td>NaN</td>\n      <td>NaN</td>\n    </tr>\n    <tr>\n      <th>4</th>\n      <td>QL16QY22B1G88zl0</td>\n      <td>Levi Rodriguez</td>\n      <td>DS</td>\n      <td>Test Product - D</td>\n      <td>3</td>\n      <td>4</td>\n      <td>1</td>\n      <td>3</td>\n      <td>1</td>\n      <td>B</td>\n      <td>...</td>\n      <td>1</td>\n      <td>2</td>\n      <td>0.000000</td>\n      <td>0.5000</td>\n      <td>NaN</td>\n      <td>NaN</td>\n      <td>NaN</td>\n      <td>0.666667</td>\n      <td>0.583333</td>\n      <td>0.416667</td>\n    </tr>\n    <tr>\n      <th>5</th>\n      <td>37OsT4x36o76q5mm</td>\n      <td>Ellie Robinson</td>\n      <td>Web</td>\n      <td>Test Product - A</td>\n      <td>3</td>\n      <td>1</td>\n      <td>5</td>\n      <td>1</td>\n      <td>4</td>\n      <td>A</td>\n      <td>...</td>\n      <td>0</td>\n      <td>0</td>\n      <td>0.333333</td>\n      <td>0.6875</td>\n      <td>0.750</td>\n      <td>0.875</td>\n      <td>0.625</td>\n      <td>NaN</td>\n      <td>NaN</td>\n      <td>NaN</td>\n    </tr>\n    <tr>\n      <th>6</th>\n      <td>m5FY1N60e37kPm53</td>\n      <td>Penelope Lopez</td>\n      <td>DS</td>\n      <td>Test Product - B</td>\n      <td>2</td>\n      <td>5</td>\n      <td>1</td>\n      <td>1</td>\n      <td>4</td>\n      <td>B</td>\n      <td>...</td>\n      <td>1</td>\n      <td>2</td>\n      <td>0.333333</td>\n      <td>0.6875</td>\n      <td>NaN</td>\n      <td>NaN</td>\n      <td>NaN</td>\n      <td>0.583333</td>\n      <td>0.750000</td>\n      <td>0.416667</td>\n    </tr>\n    <tr>\n      <th>7</th>\n      <td>87LQ2z7w7Mdp438z</td>\n      <td>Sophia James</td>\n      <td>DS</td>\n      <td>Test Product - D</td>\n      <td>4</td>\n      <td>1</td>\n      <td>5</td>\n      <td>1</td>\n      <td>3</td>\n      <td>A</td>\n      <td>...</td>\n      <td>2</td>\n      <td>3</td>\n      <td>0.000000</td>\n      <td>0.3750</td>\n      <td>NaN</td>\n      <td>NaN</td>\n      <td>NaN</td>\n      <td>0.500000</td>\n      <td>0.833333</td>\n      <td>0.666667</td>\n    </tr>\n    <tr>\n      <th>8</th>\n      <td>PR8775a0A1tEy60L</td>\n      <td>Eleanor Wood</td>\n      <td>Web</td>\n      <td>Test Product - A</td>\n      <td>1</td>\n      <td>1</td>\n      <td>1</td>\n      <td>4</td>\n      <td>4</td>\n      <td>B</td>\n      <td>...</td>\n      <td>0</td>\n      <td>0</td>\n      <td>0.000000</td>\n      <td>0.3750</td>\n      <td>0.625</td>\n      <td>0.625</td>\n      <td>0.625</td>\n      <td>NaN</td>\n      <td>NaN</td>\n      <td>NaN</td>\n    </tr>\n    <tr>\n      <th>9</th>\n      <td>bTD35f3045ld4i7z</td>\n      <td>Amelia Rodriguez</td>\n      <td>DS</td>\n      <td>Test Product - D</td>\n      <td>3</td>\n      <td>4</td>\n      <td>2</td>\n      <td>3</td>\n      <td>1</td>\n      <td>A</td>\n      <td>...</td>\n      <td>2</td>\n      <td>2</td>\n      <td>0.333333</td>\n      <td>0.8750</td>\n      <td>NaN</td>\n      <td>NaN</td>\n      <td>NaN</td>\n      <td>0.583333</td>\n      <td>0.583333</td>\n      <td>0.666667</td>\n    </tr>\n    <tr>\n      <th>10</th>\n      <td>7z2RJ4V4z7T3s57x</td>\n      <td>Noah Wright</td>\n      <td>DS</td>\n      <td>Test Product - C</td>\n      <td>5</td>\n      <td>1</td>\n      <td>1</td>\n      <td>5</td>\n      <td>2</td>\n      <td>A</td>\n      <td>...</td>\n      <td>2</td>\n      <td>3</td>\n      <td>0.666667</td>\n      <td>0.4375</td>\n      <td>NaN</td>\n      <td>NaN</td>\n      <td>NaN</td>\n      <td>0.666667</td>\n      <td>0.500000</td>\n      <td>0.500000</td>\n    </tr>\n    <tr>\n      <th>11</th>\n      <td>NK206i4N207CMny0</td>\n      <td>Benjamin Hernandez</td>\n      <td>BD</td>\n      <td>Test Product - E</td>\n      <td>5</td>\n      <td>4</td>\n      <td>5</td>\n      <td>1</td>\n      <td>3</td>\n      <td>B</td>\n      <td>...</td>\n      <td>0</td>\n      <td>0</td>\n      <td>0.333333</td>\n      <td>0.6875</td>\n      <td>NaN</td>\n      <td>NaN</td>\n      <td>NaN</td>\n      <td>NaN</td>\n      <td>NaN</td>\n      <td>NaN</td>\n    </tr>\n    <tr>\n      <th>12</th>\n      <td>Cb11ih546i4m85Fi</td>\n      <td>Jacob Torres</td>\n      <td>DS</td>\n      <td>Test Product - C</td>\n      <td>2</td>\n      <td>4</td>\n      <td>3</td>\n      <td>4</td>\n      <td>1</td>\n      <td>A</td>\n      <td>...</td>\n      <td>4</td>\n      <td>2</td>\n      <td>0.000000</td>\n      <td>0.7500</td>\n      <td>NaN</td>\n      <td>NaN</td>\n      <td>NaN</td>\n      <td>0.416667</td>\n      <td>0.583333</td>\n      <td>0.833333</td>\n    </tr>\n    <tr>\n      <th>13</th>\n      <td>QN3145qD1jdZ74Z2</td>\n      <td>Wyatt Scott</td>\n      <td>DS</td>\n      <td>Test Product - B</td>\n      <td>1</td>\n      <td>3</td>\n      <td>3</td>\n      <td>3</td>\n      <td>1</td>\n      <td>A</td>\n      <td>...</td>\n      <td>4</td>\n      <td>2</td>\n      <td>0.000000</td>\n      <td>0.8750</td>\n      <td>NaN</td>\n      <td>NaN</td>\n      <td>NaN</td>\n      <td>0.583333</td>\n      <td>0.500000</td>\n      <td>0.833333</td>\n    </tr>\n    <tr>\n      <th>14</th>\n      <td>r31g83C5fgCO683k</td>\n      <td>Mila Walker</td>\n      <td>Web</td>\n      <td>Test Product - D</td>\n      <td>2</td>\n      <td>4</td>\n      <td>4</td>\n      <td>3</td>\n      <td>4</td>\n      <td>B</td>\n      <td>...</td>\n      <td>0</td>\n      <td>0</td>\n      <td>0.333333</td>\n      <td>0.5000</td>\n      <td>0.375</td>\n      <td>0.875</td>\n      <td>0.250</td>\n      <td>NaN</td>\n      <td>NaN</td>\n      <td>NaN</td>\n    </tr>\n    <tr>\n      <th>15</th>\n      <td>yy064uS516p4Ao7j</td>\n      <td>Harper King</td>\n      <td>Web</td>\n      <td>Test Product - A</td>\n      <td>4</td>\n      <td>1</td>\n      <td>2</td>\n      <td>1</td>\n      <td>1</td>\n      <td>A</td>\n      <td>...</td>\n      <td>0</td>\n      <td>0</td>\n      <td>0.000000</td>\n      <td>0.6250</td>\n      <td>0.625</td>\n      <td>1.000</td>\n      <td>0.875</td>\n      <td>NaN</td>\n      <td>NaN</td>\n      <td>NaN</td>\n    </tr>\n    <tr>\n      <th>16</th>\n      <td>07I41opY62G1w6Ld</td>\n      <td>Liam Lewis</td>\n      <td>BD</td>\n      <td>Test Product - E</td>\n      <td>2</td>\n      <td>3</td>\n      <td>1</td>\n      <td>5</td>\n      <td>5</td>\n      <td>B</td>\n      <td>...</td>\n      <td>0</td>\n      <td>0</td>\n      <td>0.333333</td>\n      <td>0.5625</td>\n      <td>NaN</td>\n      <td>NaN</td>\n      <td>NaN</td>\n      <td>NaN</td>\n      <td>NaN</td>\n      <td>NaN</td>\n    </tr>\n    <tr>\n      <th>17</th>\n      <td>8777tk1cg8GscZ21</td>\n      <td>Sophia Gonzales</td>\n      <td>DS</td>\n      <td>Test Product - C</td>\n      <td>3</td>\n      <td>5</td>\n      <td>3</td>\n      <td>5</td>\n      <td>4</td>\n      <td>B</td>\n      <td>...</td>\n      <td>1</td>\n      <td>3</td>\n      <td>0.666667</td>\n      <td>0.5625</td>\n      <td>NaN</td>\n      <td>NaN</td>\n      <td>NaN</td>\n      <td>0.750000</td>\n      <td>0.666667</td>\n      <td>0.666667</td>\n    </tr>\n    <tr>\n      <th>18</th>\n      <td>o414uCJ604JJ00Pa</td>\n      <td>Abigail Thomas</td>\n      <td>Web</td>\n      <td>Test Product - B</td>\n      <td>3</td>\n      <td>4</td>\n      <td>4</td>\n      <td>2</td>\n      <td>1</td>\n      <td>B</td>\n      <td>...</td>\n      <td>0</td>\n      <td>0</td>\n      <td>0.333333</td>\n      <td>0.7500</td>\n      <td>0.875</td>\n      <td>0.750</td>\n      <td>0.500</td>\n      <td>NaN</td>\n      <td>NaN</td>\n      <td>NaN</td>\n    </tr>\n    <tr>\n      <th>19</th>\n      <td>MZ1eJo88xp16N656</td>\n      <td>Chloe Taylor</td>\n      <td>DS</td>\n      <td>Test Product - D</td>\n      <td>3</td>\n      <td>2</td>\n      <td>4</td>\n      <td>2</td>\n      <td>2</td>\n      <td>B</td>\n      <td>...</td>\n      <td>3</td>\n      <td>3</td>\n      <td>0.000000</td>\n      <td>0.3750</td>\n      <td>NaN</td>\n      <td>NaN</td>\n      <td>NaN</td>\n      <td>0.333333</td>\n      <td>0.750000</td>\n      <td>0.666667</td>\n    </tr>\n    <tr>\n      <th>20</th>\n      <td>eC846888qNtr2Qd6</td>\n      <td>Mia Torres</td>\n      <td>DS</td>\n      <td>Test Product - C</td>\n      <td>3</td>\n      <td>2</td>\n      <td>2</td>\n      <td>2</td>\n      <td>2</td>\n      <td>B</td>\n      <td>...</td>\n      <td>3</td>\n      <td>1</td>\n      <td>0.000000</td>\n      <td>0.7500</td>\n      <td>NaN</td>\n      <td>NaN</td>\n      <td>NaN</td>\n      <td>0.500000</td>\n      <td>0.500000</td>\n      <td>0.583333</td>\n    </tr>\n    <tr>\n      <th>21</th>\n      <td>Z30S5khI10sl68A7</td>\n      <td>Jack Johnson</td>\n      <td>Web</td>\n      <td>Test Product - B</td>\n      <td>2</td>\n      <td>4</td>\n      <td>1</td>\n      <td>1</td>\n      <td>5</td>\n      <td>B</td>\n      <td>...</td>\n      <td>0</td>\n      <td>0</td>\n      <td>0.666667</td>\n      <td>1.0000</td>\n      <td>0.625</td>\n      <td>0.750</td>\n      <td>0.750</td>\n      <td>NaN</td>\n      <td>NaN</td>\n      <td>NaN</td>\n    </tr>\n    <tr>\n      <th>22</th>\n      <td>HT70A0837DvfOQ73</td>\n      <td>Abigail Hill</td>\n      <td>DS</td>\n      <td>Test Product - D</td>\n      <td>4</td>\n      <td>2</td>\n      <td>1</td>\n      <td>3</td>\n      <td>1</td>\n      <td>A</td>\n      <td>...</td>\n      <td>1</td>\n      <td>3</td>\n      <td>0.000000</td>\n      <td>0.7500</td>\n      <td>NaN</td>\n      <td>NaN</td>\n      <td>NaN</td>\n      <td>0.666667</td>\n      <td>0.500000</td>\n      <td>0.416667</td>\n    </tr>\n    <tr>\n      <th>23</th>\n      <td>244Kj7Pg7tL566mE</td>\n      <td>Gianna Ramirez</td>\n      <td>Web</td>\n      <td>Test Product - C</td>\n      <td>5</td>\n      <td>5</td>\n      <td>5</td>\n      <td>3</td>\n      <td>3</td>\n      <td>A</td>\n      <td>...</td>\n      <td>0</td>\n      <td>0</td>\n      <td>0.333333</td>\n      <td>0.5625</td>\n      <td>0.500</td>\n      <td>0.250</td>\n      <td>0.250</td>\n      <td>NaN</td>\n      <td>NaN</td>\n      <td>NaN</td>\n    </tr>\n    <tr>\n      <th>24</th>\n      <td>h8M41P8Y1uV2H1q3</td>\n      <td>Sofia Jackson</td>\n      <td>Web</td>\n      <td>Test Product - B</td>\n      <td>2</td>\n      <td>1</td>\n      <td>3</td>\n      <td>1</td>\n      <td>1</td>\n      <td>B</td>\n      <td>...</td>\n      <td>0</td>\n      <td>0</td>\n      <td>0.333333</td>\n      <td>0.8125</td>\n      <td>0.500</td>\n      <td>0.625</td>\n      <td>0.250</td>\n      <td>NaN</td>\n      <td>NaN</td>\n      <td>NaN</td>\n    </tr>\n    <tr>\n      <th>25</th>\n      <td>T1R02e5e4tB73kl0</td>\n      <td>Sophia Gonzales</td>\n      <td>Web</td>\n      <td>Test Product - D</td>\n      <td>2</td>\n      <td>2</td>\n      <td>3</td>\n      <td>2</td>\n      <td>3</td>\n      <td>A</td>\n      <td>...</td>\n      <td>0</td>\n      <td>0</td>\n      <td>0.000000</td>\n      <td>0.4375</td>\n      <td>0.500</td>\n      <td>0.625</td>\n      <td>0.375</td>\n      <td>NaN</td>\n      <td>NaN</td>\n      <td>NaN</td>\n    </tr>\n    <tr>\n      <th>26</th>\n      <td>01V3Bv375JEa6M4z</td>\n      <td>Ella Hill</td>\n      <td>DS</td>\n      <td>Test Product - C</td>\n      <td>2</td>\n      <td>1</td>\n      <td>4</td>\n      <td>3</td>\n      <td>4</td>\n      <td>B</td>\n      <td>...</td>\n      <td>2</td>\n      <td>2</td>\n      <td>0.333333</td>\n      <td>0.5625</td>\n      <td>NaN</td>\n      <td>NaN</td>\n      <td>NaN</td>\n      <td>0.583333</td>\n      <td>0.500000</td>\n      <td>0.666667</td>\n    </tr>\n    <tr>\n      <th>27</th>\n      <td>8e12V876Pqmg1BD7</td>\n      <td>Harper Taylor</td>\n      <td>Web</td>\n      <td>Test Product - A</td>\n      <td>4</td>\n      <td>3</td>\n      <td>1</td>\n      <td>5</td>\n      <td>1</td>\n      <td>A</td>\n      <td>...</td>\n      <td>0</td>\n      <td>0</td>\n      <td>0.333333</td>\n      <td>0.6250</td>\n      <td>0.750</td>\n      <td>0.750</td>\n      <td>0.750</td>\n      <td>NaN</td>\n      <td>NaN</td>\n      <td>NaN</td>\n    </tr>\n    <tr>\n      <th>28</th>\n      <td>uZ4cP3mOL137A653</td>\n      <td>Nora White</td>\n      <td>Web</td>\n      <td>Test Product - B</td>\n      <td>2</td>\n      <td>1</td>\n      <td>4</td>\n      <td>5</td>\n      <td>2</td>\n      <td>A</td>\n      <td>...</td>\n      <td>0</td>\n      <td>0</td>\n      <td>0.000000</td>\n      <td>0.8750</td>\n      <td>0.375</td>\n      <td>1.000</td>\n      <td>0.625</td>\n      <td>NaN</td>\n      <td>NaN</td>\n      <td>NaN</td>\n    </tr>\n    <tr>\n      <th>29</th>\n      <td>128tQQJ6a0B0Ps47</td>\n      <td>Elizabeth Williams</td>\n      <td>DS</td>\n      <td>Test Product - D</td>\n      <td>4</td>\n      <td>5</td>\n      <td>1</td>\n      <td>1</td>\n      <td>2</td>\n      <td>A</td>\n      <td>...</td>\n      <td>3</td>\n      <td>3</td>\n      <td>0.666667</td>\n      <td>0.5625</td>\n      <td>NaN</td>\n      <td>NaN</td>\n      <td>NaN</td>\n      <td>0.500000</td>\n      <td>0.750000</td>\n      <td>0.750000</td>\n    </tr>\n    <tr>\n      <th>30</th>\n      <td>14cK1ce1700xv3hf</td>\n      <td>Daniel Watson</td>\n      <td>DS</td>\n      <td>Test Product - C</td>\n      <td>2</td>\n      <td>5</td>\n      <td>3</td>\n      <td>3</td>\n      <td>5</td>\n      <td>A</td>\n      <td>...</td>\n      <td>3</td>\n      <td>1</td>\n      <td>0.000000</td>\n      <td>0.6250</td>\n      <td>NaN</td>\n      <td>NaN</td>\n      <td>NaN</td>\n      <td>0.500000</td>\n      <td>0.500000</td>\n      <td>0.666667</td>\n    </tr>\n    <tr>\n      <th>31</th>\n      <td>45V5W38izX23s2BZ</td>\n      <td>David Smith</td>\n      <td>Web</td>\n      <td>Test Product - A</td>\n      <td>2</td>\n      <td>2</td>\n      <td>1</td>\n      <td>5</td>\n      <td>2</td>\n      <td>B</td>\n      <td>...</td>\n      <td>0</td>\n      <td>0</td>\n      <td>0.000000</td>\n      <td>0.6250</td>\n      <td>0.500</td>\n      <td>0.625</td>\n      <td>0.500</td>\n      <td>NaN</td>\n      <td>NaN</td>\n      <td>NaN</td>\n    </tr>\n    <tr>\n      <th>32</th>\n      <td>1w838en87I3lY7oS</td>\n      <td>Sofia Harris</td>\n      <td>DS</td>\n      <td>Test Product - C</td>\n      <td>4</td>\n      <td>1</td>\n      <td>5</td>\n      <td>3</td>\n      <td>4</td>\n      <td>A</td>\n      <td>...</td>\n      <td>3</td>\n      <td>2</td>\n      <td>0.666667</td>\n      <td>0.6875</td>\n      <td>NaN</td>\n      <td>NaN</td>\n      <td>NaN</td>\n      <td>0.916667</td>\n      <td>0.416667</td>\n      <td>0.666667</td>\n    </tr>\n    <tr>\n      <th>33</th>\n      <td>nP04Cd682xn0TN72</td>\n      <td>Mason Adams</td>\n      <td>Web</td>\n      <td>Test Product - A</td>\n      <td>4</td>\n      <td>3</td>\n      <td>1</td>\n      <td>1</td>\n      <td>2</td>\n      <td>B</td>\n      <td>...</td>\n      <td>0</td>\n      <td>0</td>\n      <td>0.333333</td>\n      <td>0.7500</td>\n      <td>0.750</td>\n      <td>0.500</td>\n      <td>0.500</td>\n      <td>NaN</td>\n      <td>NaN</td>\n      <td>NaN</td>\n    </tr>\n    <tr>\n      <th>34</th>\n      <td>1VkB1k7wX704Hz52</td>\n      <td>Sebastian Young</td>\n      <td>DS</td>\n      <td>Test Product - C</td>\n      <td>5</td>\n      <td>2</td>\n      <td>2</td>\n      <td>3</td>\n      <td>2</td>\n      <td>B</td>\n      <td>...</td>\n      <td>3</td>\n      <td>3</td>\n      <td>0.333333</td>\n      <td>0.4375</td>\n      <td>NaN</td>\n      <td>NaN</td>\n      <td>NaN</td>\n      <td>0.416667</td>\n      <td>0.916667</td>\n      <td>0.666667</td>\n    </tr>\n    <tr>\n      <th>35</th>\n      <td>y45DZ5p3288ziu1X</td>\n      <td>Ella Lopez</td>\n      <td>Web</td>\n      <td>Test Product - A</td>\n      <td>2</td>\n      <td>5</td>\n      <td>1</td>\n      <td>4</td>\n      <td>2</td>\n      <td>B</td>\n      <td>...</td>\n      <td>0</td>\n      <td>0</td>\n      <td>0.333333</td>\n      <td>0.6250</td>\n      <td>0.375</td>\n      <td>0.875</td>\n      <td>0.500</td>\n      <td>NaN</td>\n      <td>NaN</td>\n      <td>NaN</td>\n    </tr>\n    <tr>\n      <th>36</th>\n      <td>m6fG4u6RD28k1d87</td>\n      <td>Michael Hall</td>\n      <td>Web</td>\n      <td>Test Product - E</td>\n      <td>3</td>\n      <td>5</td>\n      <td>3</td>\n      <td>5</td>\n      <td>3</td>\n      <td>A</td>\n      <td>...</td>\n      <td>0</td>\n      <td>0</td>\n      <td>0.333333</td>\n      <td>0.7500</td>\n      <td>0.500</td>\n      <td>0.750</td>\n      <td>0.500</td>\n      <td>NaN</td>\n      <td>NaN</td>\n      <td>NaN</td>\n    </tr>\n    <tr>\n      <th>37</th>\n      <td>L36VZ5cY46Xc6p68</td>\n      <td>Sofia Moore</td>\n      <td>DS</td>\n      <td>Test Product - C</td>\n      <td>2</td>\n      <td>5</td>\n      <td>4</td>\n      <td>1</td>\n      <td>5</td>\n      <td>A</td>\n      <td>...</td>\n      <td>2</td>\n      <td>3</td>\n      <td>0.333333</td>\n      <td>0.8125</td>\n      <td>NaN</td>\n      <td>NaN</td>\n      <td>NaN</td>\n      <td>0.416667</td>\n      <td>0.250000</td>\n      <td>0.666667</td>\n    </tr>\n    <tr>\n      <th>38</th>\n      <td>b7L0Lc2g73RG4o13</td>\n      <td>Sebastian Torres</td>\n      <td>DS</td>\n      <td>Test Product - B</td>\n      <td>2</td>\n      <td>5</td>\n      <td>1</td>\n      <td>5</td>\n      <td>2</td>\n      <td>B</td>\n      <td>...</td>\n      <td>4</td>\n      <td>1</td>\n      <td>0.000000</td>\n      <td>0.4375</td>\n      <td>NaN</td>\n      <td>NaN</td>\n      <td>NaN</td>\n      <td>0.416667</td>\n      <td>0.666667</td>\n      <td>0.583333</td>\n    </tr>\n    <tr>\n      <th>39</th>\n      <td>N06SKk6v6J0c30A1</td>\n      <td>Joseph Nelson</td>\n      <td>DS</td>\n      <td>Test Product - D</td>\n      <td>4</td>\n      <td>1</td>\n      <td>5</td>\n      <td>5</td>\n      <td>5</td>\n      <td>B</td>\n      <td>...</td>\n      <td>3</td>\n      <td>3</td>\n      <td>0.666667</td>\n      <td>0.8125</td>\n      <td>NaN</td>\n      <td>NaN</td>\n      <td>NaN</td>\n      <td>0.750000</td>\n      <td>0.750000</td>\n      <td>0.666667</td>\n    </tr>\n    <tr>\n      <th>40</th>\n      <td>1p8rS1406jpdE46g</td>\n      <td>Amelia Brown</td>\n      <td>Web</td>\n      <td>Test Product - A</td>\n      <td>3</td>\n      <td>4</td>\n      <td>5</td>\n      <td>1</td>\n      <td>2</td>\n      <td>B</td>\n      <td>...</td>\n      <td>0</td>\n      <td>0</td>\n      <td>0.333333</td>\n      <td>0.5000</td>\n      <td>0.375</td>\n      <td>0.875</td>\n      <td>0.625</td>\n      <td>NaN</td>\n      <td>NaN</td>\n      <td>NaN</td>\n    </tr>\n    <tr>\n      <th>41</th>\n      <td>04f4D3CtxUW0820a</td>\n      <td>Ethan King</td>\n      <td>Web</td>\n      <td>Test Product - B</td>\n      <td>3</td>\n      <td>5</td>\n      <td>1</td>\n      <td>3</td>\n      <td>4</td>\n      <td>A</td>\n      <td>...</td>\n      <td>0</td>\n      <td>0</td>\n      <td>0.000000</td>\n      <td>0.6875</td>\n      <td>0.500</td>\n      <td>0.750</td>\n      <td>1.000</td>\n      <td>NaN</td>\n      <td>NaN</td>\n      <td>NaN</td>\n    </tr>\n    <tr>\n      <th>42</th>\n      <td>b4JQ2u4J3H13S7Z8</td>\n      <td>Aria Harris</td>\n      <td>DS</td>\n      <td>Test Product - D</td>\n      <td>4</td>\n      <td>5</td>\n      <td>5</td>\n      <td>2</td>\n      <td>5</td>\n      <td>A</td>\n      <td>...</td>\n      <td>2</td>\n      <td>3</td>\n      <td>0.666667</td>\n      <td>0.5625</td>\n      <td>NaN</td>\n      <td>NaN</td>\n      <td>NaN</td>\n      <td>0.583333</td>\n      <td>0.666667</td>\n      <td>0.583333</td>\n    </tr>\n    <tr>\n      <th>43</th>\n      <td>M7eK1QpOv4022V07</td>\n      <td>Ellie Wood</td>\n      <td>Web</td>\n      <td>Test Product - A</td>\n      <td>5</td>\n      <td>3</td>\n      <td>3</td>\n      <td>1</td>\n      <td>2</td>\n      <td>B</td>\n      <td>...</td>\n      <td>0</td>\n      <td>0</td>\n      <td>0.333333</td>\n      <td>0.6875</td>\n      <td>0.875</td>\n      <td>0.625</td>\n      <td>0.750</td>\n      <td>NaN</td>\n      <td>NaN</td>\n      <td>NaN</td>\n    </tr>\n    <tr>\n      <th>44</th>\n      <td>37vc7f8487zhNr2p</td>\n      <td>Scarlett Johnson</td>\n      <td>Web</td>\n      <td>Test Product - E</td>\n      <td>2</td>\n      <td>1</td>\n      <td>3</td>\n      <td>1</td>\n      <td>1</td>\n      <td>B</td>\n      <td>...</td>\n      <td>0</td>\n      <td>0</td>\n      <td>0.333333</td>\n      <td>0.5000</td>\n      <td>0.500</td>\n      <td>0.875</td>\n      <td>1.000</td>\n      <td>NaN</td>\n      <td>NaN</td>\n      <td>NaN</td>\n    </tr>\n    <tr>\n      <th>45</th>\n      <td>V775r2G1K0zVNy67</td>\n      <td>Daniel Walker</td>\n      <td>BD</td>\n      <td>Test Product - E</td>\n      <td>5</td>\n      <td>3</td>\n      <td>4</td>\n      <td>4</td>\n      <td>1</td>\n      <td>A</td>\n      <td>...</td>\n      <td>0</td>\n      <td>0</td>\n      <td>0.000000</td>\n      <td>0.6250</td>\n      <td>NaN</td>\n      <td>NaN</td>\n      <td>NaN</td>\n      <td>NaN</td>\n      <td>NaN</td>\n      <td>NaN</td>\n    </tr>\n    <tr>\n      <th>46</th>\n      <td>h4B57DII54z7q5E1</td>\n      <td>David King</td>\n      <td>Web</td>\n      <td>Test Product - C</td>\n      <td>4</td>\n      <td>4</td>\n      <td>2</td>\n      <td>3</td>\n      <td>2</td>\n      <td>B</td>\n      <td>...</td>\n      <td>0</td>\n      <td>0</td>\n      <td>0.000000</td>\n      <td>0.6250</td>\n      <td>0.750</td>\n      <td>0.375</td>\n      <td>0.375</td>\n      <td>NaN</td>\n      <td>NaN</td>\n      <td>NaN</td>\n    </tr>\n    <tr>\n      <th>47</th>\n      <td>RA76R74757TXYRM5</td>\n      <td>Levi Hernandez</td>\n      <td>DS</td>\n      <td>Test Product - B</td>\n      <td>1</td>\n      <td>3</td>\n      <td>5</td>\n      <td>2</td>\n      <td>2</td>\n      <td>A</td>\n      <td>...</td>\n      <td>3</td>\n      <td>2</td>\n      <td>0.333333</td>\n      <td>0.6250</td>\n      <td>NaN</td>\n      <td>NaN</td>\n      <td>NaN</td>\n      <td>0.416667</td>\n      <td>0.416667</td>\n      <td>0.500000</td>\n    </tr>\n    <tr>\n      <th>48</th>\n      <td>a2fuh32bCJg03520</td>\n      <td>Evelyn Clark</td>\n      <td>DS</td>\n      <td>Test Product - D</td>\n      <td>4</td>\n      <td>2</td>\n      <td>2</td>\n      <td>3</td>\n      <td>4</td>\n      <td>B</td>\n      <td>...</td>\n      <td>4</td>\n      <td>4</td>\n      <td>0.333333</td>\n      <td>0.6250</td>\n      <td>NaN</td>\n      <td>NaN</td>\n      <td>NaN</td>\n      <td>0.833333</td>\n      <td>0.666667</td>\n      <td>0.833333</td>\n    </tr>\n    <tr>\n      <th>49</th>\n      <td>W1b25ZO2eZ54J1s1</td>\n      <td>Elijah Young</td>\n      <td>Web</td>\n      <td>Test Product - A</td>\n      <td>2</td>\n      <td>4</td>\n      <td>4</td>\n      <td>4</td>\n      <td>3</td>\n      <td>B</td>\n      <td>...</td>\n      <td>0</td>\n      <td>0</td>\n      <td>0.000000</td>\n      <td>0.8750</td>\n      <td>0.250</td>\n      <td>0.500</td>\n      <td>0.625</td>\n      <td>NaN</td>\n      <td>NaN</td>\n      <td>NaN</td>\n    </tr>\n  </tbody>\n</table>\n<p>50 rows × 43 columns</p>\n</div>"
     },
     "execution_count": 40,
     "metadata": {},
     "output_type": "execute_result"
    }
   ],
   "source": [
    "learners_df = DataFrame(learners)\n",
    "learners_df"
   ],
   "metadata": {
    "collapsed": false,
    "pycharm": {
     "name": "#%%\n"
    }
   }
  },
  {
   "cell_type": "code",
   "execution_count": 43,
   "outputs": [
    {
     "data": {
      "text/plain": "                                0                 1                 2  \\\nteamName         Test Product - A  Test Product - B  Test Product - C   \ntpmInterestRank          0.630682           0.73125          0.619318   \ntpmSkillRank             0.212121          0.233333           0.30303   \n\n                                3                 4  \nteamName         Test Product - D  Test Product - E  \ntpmInterestRank          0.583333          0.572917  \ntpmSkillRank                 0.25          0.277778  ",
      "text/html": "<div>\n<style scoped>\n    .dataframe tbody tr th:only-of-type {\n        vertical-align: middle;\n    }\n\n    .dataframe tbody tr th {\n        vertical-align: top;\n    }\n\n    .dataframe thead th {\n        text-align: right;\n    }\n</style>\n<table border=\"1\" class=\"dataframe\">\n  <thead>\n    <tr style=\"text-align: right;\">\n      <th></th>\n      <th>0</th>\n      <th>1</th>\n      <th>2</th>\n      <th>3</th>\n      <th>4</th>\n    </tr>\n  </thead>\n  <tbody>\n    <tr>\n      <th>teamName</th>\n      <td>Test Product - A</td>\n      <td>Test Product - B</td>\n      <td>Test Product - C</td>\n      <td>Test Product - D</td>\n      <td>Test Product - E</td>\n    </tr>\n    <tr>\n      <th>tpmInterestRank</th>\n      <td>0.630682</td>\n      <td>0.73125</td>\n      <td>0.619318</td>\n      <td>0.583333</td>\n      <td>0.572917</td>\n    </tr>\n    <tr>\n      <th>tpmSkillRank</th>\n      <td>0.212121</td>\n      <td>0.233333</td>\n      <td>0.30303</td>\n      <td>0.25</td>\n      <td>0.277778</td>\n    </tr>\n  </tbody>\n</table>\n</div>"
     },
     "execution_count": 43,
     "metadata": {},
     "output_type": "execute_result"
    }
   ],
   "source": [
    "stat_list = [\n",
    "    'tpmInterestRank',\n",
    "    'tpmSkillRank',\n",
    "    # 'uxInterestRank',\n",
    "    # 'frontendInterestRank',\n",
    "    # 'backendInterestRank',\n",
    "    # 'dataEngInterestRank',\n",
    "    # 'mlEngInterestRank',\n",
    "    # 'mlOpsInterestRank',\n",
    "]\n",
    "project_names = sorted(learners_df[\"labsProject\"].unique().tolist())\n",
    "data = []\n",
    "for team in project_names:\n",
    "    datum = {\"teamName\": team}\n",
    "    for stat in stat_list:\n",
    "        datum[stat] = learners_df[learners_df['labsProject'] == team][stat].mean()\n",
    "    data.append(datum)\n",
    "df = DataFrame(data)\n",
    "df.T"
   ],
   "metadata": {
    "collapsed": false,
    "pycharm": {
     "name": "#%%\n"
    }
   }
  },
  {
   "cell_type": "markdown",
   "source": [
    "Strong TPM types on each team!\n",
    "- Interest over skill"
   ],
   "metadata": {
    "collapsed": false,
    "pycharm": {
     "name": "#%% md\n"
    }
   }
  },
  {
   "cell_type": "code",
   "execution_count": 26,
   "outputs": [],
   "source": [],
   "metadata": {
    "collapsed": false,
    "pycharm": {
     "name": "#%%\n"
    }
   }
  }
 ],
 "metadata": {
  "kernelspec": {
   "display_name": "Python 3",
   "language": "python",
   "name": "python3"
  },
  "language_info": {
   "codemirror_mode": {
    "name": "ipython",
    "version": 2
   },
   "file_extension": ".py",
   "mimetype": "text/x-python",
   "name": "python",
   "nbconvert_exporter": "python",
   "pygments_lexer": "ipython2",
   "version": "2.7.6"
  }
 },
 "nbformat": 4,
 "nbformat_minor": 0
}