{
 "cells": [
  {
   "cell_type": "code",
   "execution_count": 1,
   "outputs": [],
   "source": [
    "from app.sorting_hat import sorting_hat\n",
    "from app.payload import example_payload"
   ],
   "metadata": {
    "collapsed": false,
    "pycharm": {
     "name": "#%%\n"
    }
   }
  },
  {
   "cell_type": "code",
   "execution_count": 2,
   "outputs": [
    {
     "data": {
      "text/plain": "Payload(learners=[Learner(lambdaId='6P574iRFJK62G01d', name='Joseph Carter', track='Web', storyPoints=0, labsProject='', gitExpertise=0, dockerExpertise=0, playByEar=0, detailOriented=0, speakUpInDiscussions=0, soloOrSocial='', meaningOrValue='', feelsRightOrMakesSense='', favoriteOrCollect='', tpmSkill1='B', tpmSkill2='B', tpmSkill3='C', tpmInterest1=3, tpmInterest2=2, tpmInterest3=1, tpmInterest4=1, uxInterest1=2, uxInterest2=3, frontendInterest1=2, frontendInterest2=2, backendInterest1=2, backendInterest2=1, dataEngInterest1=0, dataEngInterest2=0, dataEngInterest3=0, mlEngInterest1=0, mlEngInterest2=0, mlEngInterest3=0, mlOpsInterest1=0, mlOpsInterest2=0, mlOpsInterest3=0, tpmSkillRank=1.0, tpmInterestRank=0.4375, uxInterestRank=0.625, frontendInterestRank=0.5, backendInterestRank=0.375, dataEngInterestRank=0.0, mlEngInterestRank=0.0, mlOpsInterestRank=0.0), Learner(lambdaId='3D36GgSU3J2I825t', name='Daniel Jones', track='Web', storyPoints=0, labsProject='', gitExpertise=0, dockerExpertise=0, playByEar=0, detailOriented=0, speakUpInDiscussions=0, soloOrSocial='', meaningOrValue='', feelsRightOrMakesSense='', favoriteOrCollect='', tpmSkill1='B', tpmSkill2='B', tpmSkill3='C', tpmInterest1=1, tpmInterest2=1, tpmInterest3=1, tpmInterest4=2, uxInterest1=3, uxInterest2=2, frontendInterest1=1, frontendInterest2=2, backendInterest1=1, backendInterest2=1, dataEngInterest1=0, dataEngInterest2=0, dataEngInterest3=0, mlEngInterest1=0, mlEngInterest2=0, mlEngInterest3=0, mlOpsInterest1=0, mlOpsInterest2=0, mlOpsInterest3=0, tpmSkillRank=1.0, tpmInterestRank=0.3125, uxInterestRank=0.625, frontendInterestRank=0.375, backendInterestRank=0.25, dataEngInterestRank=0.0, mlEngInterestRank=0.0, mlOpsInterestRank=0.0), Learner(lambdaId='7C4i606sk11bX3bX', name='Layla Green', track='Web', storyPoints=0, labsProject='', gitExpertise=0, dockerExpertise=0, playByEar=0, detailOriented=0, speakUpInDiscussions=0, soloOrSocial='', meaningOrValue='', feelsRightOrMakesSense='', favoriteOrCollect='', tpmSkill1='B', tpmSkill2='B', tpmSkill3='C', tpmInterest1=3, tpmInterest2=2, tpmInterest3=2, tpmInterest4=1, uxInterest1=1, uxInterest2=2, frontendInterest1=1, frontendInterest2=1, backendInterest1=2, backendInterest2=3, dataEngInterest1=0, dataEngInterest2=0, dataEngInterest3=0, mlEngInterest1=0, mlEngInterest2=0, mlEngInterest3=0, mlOpsInterest1=0, mlOpsInterest2=0, mlOpsInterest3=0, tpmSkillRank=1.0, tpmInterestRank=0.5, uxInterestRank=0.375, frontendInterestRank=0.25, backendInterestRank=0.625, dataEngInterestRank=0.0, mlEngInterestRank=0.0, mlOpsInterestRank=0.0), Learner(lambdaId='NJbf7oI7Ne214477', name='Aiden Torres', track='Web', storyPoints=0, labsProject='', gitExpertise=0, dockerExpertise=0, playByEar=0, detailOriented=0, speakUpInDiscussions=0, soloOrSocial='', meaningOrValue='', feelsRightOrMakesSense='', favoriteOrCollect='', tpmSkill1='B', tpmSkill2='B', tpmSkill3='C', tpmInterest1=1, tpmInterest2=2, tpmInterest3=1, tpmInterest4=1, uxInterest1=3, uxInterest2=3, frontendInterest1=3, frontendInterest2=1, backendInterest1=1, backendInterest2=2, dataEngInterest1=0, dataEngInterest2=0, dataEngInterest3=0, mlEngInterest1=0, mlEngInterest2=0, mlEngInterest3=0, mlOpsInterest1=0, mlOpsInterest2=0, mlOpsInterest3=0, tpmSkillRank=1.0, tpmInterestRank=0.3125, uxInterestRank=0.75, frontendInterestRank=0.5, backendInterestRank=0.375, dataEngInterestRank=0.0, mlEngInterestRank=0.0, mlOpsInterestRank=0.0), Learner(lambdaId='0n2cnM33c44s6D5g', name='David Hernandez', track='DS', storyPoints=0, labsProject='', gitExpertise=0, dockerExpertise=0, playByEar=0, detailOriented=0, speakUpInDiscussions=0, soloOrSocial='', meaningOrValue='', feelsRightOrMakesSense='', favoriteOrCollect='', tpmSkill1='B', tpmSkill2='B', tpmSkill3='C', tpmInterest1=3, tpmInterest2=2, tpmInterest3=3, tpmInterest4=1, uxInterest1=3, uxInterest2=3, frontendInterest1=1, frontendInterest2=1, backendInterest1=2, backendInterest2=2, dataEngInterest1=0, dataEngInterest2=0, dataEngInterest3=0, mlEngInterest1=0, mlEngInterest2=0, mlEngInterest3=0, mlOpsInterest1=0, mlOpsInterest2=0, mlOpsInterest3=0, tpmSkillRank=1.0, tpmInterestRank=0.5625, uxInterestRank=0.75, frontendInterestRank=0.25, backendInterestRank=0.5, dataEngInterestRank=0.0, mlEngInterestRank=0.0, mlOpsInterestRank=0.0), Learner(lambdaId='Vf66l56m4bSRI466', name='Camila Garcia', track='DS', storyPoints=0, labsProject='', gitExpertise=0, dockerExpertise=0, playByEar=0, detailOriented=0, speakUpInDiscussions=0, soloOrSocial='', meaningOrValue='', feelsRightOrMakesSense='', favoriteOrCollect='', tpmSkill1='B', tpmSkill2='B', tpmSkill3='C', tpmInterest1=2, tpmInterest2=3, tpmInterest3=2, tpmInterest4=2, uxInterest1=3, uxInterest2=1, frontendInterest1=2, frontendInterest2=1, backendInterest1=1, backendInterest2=3, dataEngInterest1=0, dataEngInterest2=0, dataEngInterest3=0, mlEngInterest1=0, mlEngInterest2=0, mlEngInterest3=0, mlOpsInterest1=0, mlOpsInterest2=0, mlOpsInterest3=0, tpmSkillRank=1.0, tpmInterestRank=0.5625, uxInterestRank=0.5, frontendInterestRank=0.375, backendInterestRank=0.5, dataEngInterestRank=0.0, mlEngInterestRank=0.0, mlOpsInterestRank=0.0), Learner(lambdaId='65VYe02nU0c5zp31', name='Isabella White', track='BD', storyPoints=0, labsProject='', gitExpertise=0, dockerExpertise=0, playByEar=0, detailOriented=0, speakUpInDiscussions=0, soloOrSocial='', meaningOrValue='', feelsRightOrMakesSense='', favoriteOrCollect='', tpmSkill1='B', tpmSkill2='B', tpmSkill3='C', tpmInterest1=1, tpmInterest2=3, tpmInterest3=1, tpmInterest4=3, uxInterest1=3, uxInterest2=2, frontendInterest1=3, frontendInterest2=3, backendInterest1=3, backendInterest2=2, dataEngInterest1=0, dataEngInterest2=0, dataEngInterest3=0, mlEngInterest1=0, mlEngInterest2=0, mlEngInterest3=0, mlOpsInterest1=0, mlOpsInterest2=0, mlOpsInterest3=0, tpmSkillRank=1.0, tpmInterestRank=0.5, uxInterestRank=0.625, frontendInterestRank=0.75, backendInterestRank=0.625, dataEngInterestRank=0.0, mlEngInterestRank=0.0, mlOpsInterestRank=0.0), Learner(lambdaId='WG2ot84AME5776h1', name='Owen Hall', track='BD', storyPoints=0, labsProject='', gitExpertise=0, dockerExpertise=0, playByEar=0, detailOriented=0, speakUpInDiscussions=0, soloOrSocial='', meaningOrValue='', feelsRightOrMakesSense='', favoriteOrCollect='', tpmSkill1='B', tpmSkill2='B', tpmSkill3='C', tpmInterest1=3, tpmInterest2=2, tpmInterest3=3, tpmInterest4=3, uxInterest1=3, uxInterest2=3, frontendInterest1=3, frontendInterest2=3, backendInterest1=3, backendInterest2=2, dataEngInterest1=0, dataEngInterest2=0, dataEngInterest3=0, mlEngInterest1=0, mlEngInterest2=0, mlEngInterest3=0, mlOpsInterest1=0, mlOpsInterest2=0, mlOpsInterest3=0, tpmSkillRank=1.0, tpmInterestRank=0.6875, uxInterestRank=0.75, frontendInterestRank=0.75, backendInterestRank=0.625, dataEngInterestRank=0.0, mlEngInterestRank=0.0, mlOpsInterestRank=0.0), Learner(lambdaId='1g6DcF52T211ia7K', name='Amelia Perez', track='Web', storyPoints=2, labsProject='Test Product - A', gitExpertise=0, dockerExpertise=0, playByEar=0, detailOriented=0, speakUpInDiscussions=0, soloOrSocial='', meaningOrValue='', feelsRightOrMakesSense='', favoriteOrCollect='', tpmSkill1='B', tpmSkill2='B', tpmSkill3='C', tpmInterest1=2, tpmInterest2=1, tpmInterest3=2, tpmInterest4=3, uxInterest1=2, uxInterest2=3, frontendInterest1=2, frontendInterest2=2, backendInterest1=3, backendInterest2=1, dataEngInterest1=0, dataEngInterest2=0, dataEngInterest3=0, mlEngInterest1=0, mlEngInterest2=0, mlEngInterest3=0, mlOpsInterest1=0, mlOpsInterest2=0, mlOpsInterest3=0, tpmSkillRank=1.0, tpmInterestRank=0.5, uxInterestRank=0.625, frontendInterestRank=0.5, backendInterestRank=0.5, dataEngInterestRank=0.0, mlEngInterestRank=0.0, mlOpsInterestRank=0.0), Learner(lambdaId='51B721Fk6ZQ3CkC1', name='Isabella Walker', track='Web', storyPoints=2, labsProject='Test Product - A', gitExpertise=0, dockerExpertise=0, playByEar=0, detailOriented=0, speakUpInDiscussions=0, soloOrSocial='', meaningOrValue='', feelsRightOrMakesSense='', favoriteOrCollect='', tpmSkill1='B', tpmSkill2='B', tpmSkill3='C', tpmInterest1=2, tpmInterest2=3, tpmInterest3=1, tpmInterest4=1, uxInterest1=2, uxInterest2=2, frontendInterest1=2, frontendInterest2=1, backendInterest1=3, backendInterest2=3, dataEngInterest1=0, dataEngInterest2=0, dataEngInterest3=0, mlEngInterest1=0, mlEngInterest2=0, mlEngInterest3=0, mlOpsInterest1=0, mlOpsInterest2=0, mlOpsInterest3=0, tpmSkillRank=1.0, tpmInterestRank=0.4375, uxInterestRank=0.5, frontendInterestRank=0.375, backendInterestRank=0.75, dataEngInterestRank=0.0, mlEngInterestRank=0.0, mlOpsInterestRank=0.0), Learner(lambdaId='XU42o435yBmH483W', name='Madison Thompson', track='Web', storyPoints=20, labsProject='Test Product - A', gitExpertise=0, dockerExpertise=0, playByEar=0, detailOriented=0, speakUpInDiscussions=0, soloOrSocial='', meaningOrValue='', feelsRightOrMakesSense='', favoriteOrCollect='', tpmSkill1='B', tpmSkill2='B', tpmSkill3='C', tpmInterest1=2, tpmInterest2=2, tpmInterest3=1, tpmInterest4=2, uxInterest1=3, uxInterest2=3, frontendInterest1=1, frontendInterest2=3, backendInterest1=3, backendInterest2=3, dataEngInterest1=0, dataEngInterest2=0, dataEngInterest3=0, mlEngInterest1=0, mlEngInterest2=0, mlEngInterest3=0, mlOpsInterest1=0, mlOpsInterest2=0, mlOpsInterest3=0, tpmSkillRank=1.0, tpmInterestRank=0.4375, uxInterestRank=0.75, frontendInterestRank=0.5, backendInterestRank=0.75, dataEngInterestRank=0.0, mlEngInterestRank=0.0, mlOpsInterestRank=0.0), Learner(lambdaId='VnPR2380ms7vV186', name='Charlotte Garcia', track='Web', storyPoints=17, labsProject='Test Product - A', gitExpertise=0, dockerExpertise=0, playByEar=0, detailOriented=0, speakUpInDiscussions=0, soloOrSocial='', meaningOrValue='', feelsRightOrMakesSense='', favoriteOrCollect='', tpmSkill1='B', tpmSkill2='B', tpmSkill3='C', tpmInterest1=3, tpmInterest2=3, tpmInterest3=2, tpmInterest4=1, uxInterest1=3, uxInterest2=1, frontendInterest1=2, frontendInterest2=2, backendInterest1=1, backendInterest2=1, dataEngInterest1=0, dataEngInterest2=0, dataEngInterest3=0, mlEngInterest1=0, mlEngInterest2=0, mlEngInterest3=0, mlOpsInterest1=0, mlOpsInterest2=0, mlOpsInterest3=0, tpmSkillRank=1.0, tpmInterestRank=0.5625, uxInterestRank=0.5, frontendInterestRank=0.5, backendInterestRank=0.25, dataEngInterestRank=0.0, mlEngInterestRank=0.0, mlOpsInterestRank=0.0), Learner(lambdaId='R3hXXkM62k3801W4', name='Gianna White', track='Web', storyPoints=11, labsProject='Test Product - A', gitExpertise=0, dockerExpertise=0, playByEar=0, detailOriented=0, speakUpInDiscussions=0, soloOrSocial='', meaningOrValue='', feelsRightOrMakesSense='', favoriteOrCollect='', tpmSkill1='B', tpmSkill2='B', tpmSkill3='C', tpmInterest1=1, tpmInterest2=2, tpmInterest3=1, tpmInterest4=1, uxInterest1=3, uxInterest2=3, frontendInterest1=1, frontendInterest2=3, backendInterest1=2, backendInterest2=2, dataEngInterest1=0, dataEngInterest2=0, dataEngInterest3=0, mlEngInterest1=0, mlEngInterest2=0, mlEngInterest3=0, mlOpsInterest1=0, mlOpsInterest2=0, mlOpsInterest3=0, tpmSkillRank=1.0, tpmInterestRank=0.3125, uxInterestRank=0.75, frontendInterestRank=0.5, backendInterestRank=0.5, dataEngInterestRank=0.0, mlEngInterestRank=0.0, mlOpsInterestRank=0.0), Learner(lambdaId='78v36I7fBO28x0eZ', name='Jacob Flores', track='Web', storyPoints=5, labsProject='Test Product - A', gitExpertise=0, dockerExpertise=0, playByEar=0, detailOriented=0, speakUpInDiscussions=0, soloOrSocial='', meaningOrValue='', feelsRightOrMakesSense='', favoriteOrCollect='', tpmSkill1='B', tpmSkill2='B', tpmSkill3='C', tpmInterest1=1, tpmInterest2=2, tpmInterest3=2, tpmInterest4=3, uxInterest1=3, uxInterest2=3, frontendInterest1=2, frontendInterest2=3, backendInterest1=3, backendInterest2=3, dataEngInterest1=0, dataEngInterest2=0, dataEngInterest3=0, mlEngInterest1=0, mlEngInterest2=0, mlEngInterest3=0, mlOpsInterest1=0, mlOpsInterest2=0, mlOpsInterest3=0, tpmSkillRank=1.0, tpmInterestRank=0.5, uxInterestRank=0.75, frontendInterestRank=0.625, backendInterestRank=0.75, dataEngInterestRank=0.0, mlEngInterestRank=0.0, mlOpsInterestRank=0.0), Learner(lambdaId='L02P7D43lp0BDT14', name='Sophia Jackson', track='Web', storyPoints=8, labsProject='Test Product - A', gitExpertise=0, dockerExpertise=0, playByEar=0, detailOriented=0, speakUpInDiscussions=0, soloOrSocial='', meaningOrValue='', feelsRightOrMakesSense='', favoriteOrCollect='', tpmSkill1='B', tpmSkill2='B', tpmSkill3='C', tpmInterest1=2, tpmInterest2=3, tpmInterest3=1, tpmInterest4=3, uxInterest1=3, uxInterest2=1, frontendInterest1=3, frontendInterest2=1, backendInterest1=2, backendInterest2=3, dataEngInterest1=0, dataEngInterest2=0, dataEngInterest3=0, mlEngInterest1=0, mlEngInterest2=0, mlEngInterest3=0, mlOpsInterest1=0, mlOpsInterest2=0, mlOpsInterest3=0, tpmSkillRank=1.0, tpmInterestRank=0.5625, uxInterestRank=0.5, frontendInterestRank=0.5, backendInterestRank=0.625, dataEngInterestRank=0.0, mlEngInterestRank=0.0, mlOpsInterestRank=0.0), Learner(lambdaId='tHb15588MUu8BB53', name='Levi Bennet', track='Web', storyPoints=9, labsProject='Test Product - A', gitExpertise=0, dockerExpertise=0, playByEar=0, detailOriented=0, speakUpInDiscussions=0, soloOrSocial='', meaningOrValue='', feelsRightOrMakesSense='', favoriteOrCollect='', tpmSkill1='B', tpmSkill2='B', tpmSkill3='C', tpmInterest1=1, tpmInterest2=3, tpmInterest3=1, tpmInterest4=1, uxInterest1=3, uxInterest2=3, frontendInterest1=2, frontendInterest2=2, backendInterest1=2, backendInterest2=1, dataEngInterest1=0, dataEngInterest2=0, dataEngInterest3=0, mlEngInterest1=0, mlEngInterest2=0, mlEngInterest3=0, mlOpsInterest1=0, mlOpsInterest2=0, mlOpsInterest3=0, tpmSkillRank=1.0, tpmInterestRank=0.375, uxInterestRank=0.75, frontendInterestRank=0.5, backendInterestRank=0.375, dataEngInterestRank=0.0, mlEngInterestRank=0.0, mlOpsInterestRank=0.0), Learner(lambdaId='VV68J3o182sZ4Y7k', name='Oliver Davis', track='BD', storyPoints=6, labsProject='Test Product - B', gitExpertise=0, dockerExpertise=0, playByEar=0, detailOriented=0, speakUpInDiscussions=0, soloOrSocial='', meaningOrValue='', feelsRightOrMakesSense='', favoriteOrCollect='', tpmSkill1='B', tpmSkill2='B', tpmSkill3='C', tpmInterest1=3, tpmInterest2=3, tpmInterest3=3, tpmInterest4=2, uxInterest1=2, uxInterest2=2, frontendInterest1=1, frontendInterest2=3, backendInterest1=3, backendInterest2=3, dataEngInterest1=0, dataEngInterest2=0, dataEngInterest3=0, mlEngInterest1=0, mlEngInterest2=0, mlEngInterest3=0, mlOpsInterest1=0, mlOpsInterest2=0, mlOpsInterest3=0, tpmSkillRank=1.0, tpmInterestRank=0.6875, uxInterestRank=0.5, frontendInterestRank=0.5, backendInterestRank=0.75, dataEngInterestRank=0.0, mlEngInterestRank=0.0, mlOpsInterestRank=0.0), Learner(lambdaId='o37TFbMFB0571f15', name='Noah Johnson', track='BD', storyPoints=18, labsProject='Test Product - B', gitExpertise=0, dockerExpertise=0, playByEar=0, detailOriented=0, speakUpInDiscussions=0, soloOrSocial='', meaningOrValue='', feelsRightOrMakesSense='', favoriteOrCollect='', tpmSkill1='B', tpmSkill2='B', tpmSkill3='C', tpmInterest1=3, tpmInterest2=3, tpmInterest3=3, tpmInterest4=1, uxInterest1=1, uxInterest2=3, frontendInterest1=3, frontendInterest2=2, backendInterest1=2, backendInterest2=1, dataEngInterest1=0, dataEngInterest2=0, dataEngInterest3=0, mlEngInterest1=0, mlEngInterest2=0, mlEngInterest3=0, mlOpsInterest1=0, mlOpsInterest2=0, mlOpsInterest3=0, tpmSkillRank=1.0, tpmInterestRank=0.625, uxInterestRank=0.5, frontendInterestRank=0.625, backendInterestRank=0.375, dataEngInterestRank=0.0, mlEngInterestRank=0.0, mlOpsInterestRank=0.0), Learner(lambdaId='v28XCp0lf7h558L8', name='Mila Jackson', track='BD', storyPoints=9, labsProject='Test Product - B', gitExpertise=0, dockerExpertise=0, playByEar=0, detailOriented=0, speakUpInDiscussions=0, soloOrSocial='', meaningOrValue='', feelsRightOrMakesSense='', favoriteOrCollect='', tpmSkill1='B', tpmSkill2='B', tpmSkill3='C', tpmInterest1=2, tpmInterest2=2, tpmInterest3=2, tpmInterest4=1, uxInterest1=2, uxInterest2=2, frontendInterest1=1, frontendInterest2=2, backendInterest1=3, backendInterest2=3, dataEngInterest1=0, dataEngInterest2=0, dataEngInterest3=0, mlEngInterest1=0, mlEngInterest2=0, mlEngInterest3=0, mlOpsInterest1=0, mlOpsInterest2=0, mlOpsInterest3=0, tpmSkillRank=1.0, tpmInterestRank=0.4375, uxInterestRank=0.5, frontendInterestRank=0.375, backendInterestRank=0.75, dataEngInterestRank=0.0, mlEngInterestRank=0.0, mlOpsInterestRank=0.0), Learner(lambdaId='g0a5t3h6yG78Iy76', name='William Carter', track='BD', storyPoints=10, labsProject='Test Product - B', gitExpertise=0, dockerExpertise=0, playByEar=0, detailOriented=0, speakUpInDiscussions=0, soloOrSocial='', meaningOrValue='', feelsRightOrMakesSense='', favoriteOrCollect='', tpmSkill1='B', tpmSkill2='B', tpmSkill3='C', tpmInterest1=1, tpmInterest2=3, tpmInterest3=3, tpmInterest4=3, uxInterest1=1, uxInterest2=2, frontendInterest1=3, frontendInterest2=3, backendInterest1=1, backendInterest2=3, dataEngInterest1=0, dataEngInterest2=0, dataEngInterest3=0, mlEngInterest1=0, mlEngInterest2=0, mlEngInterest3=0, mlOpsInterest1=0, mlOpsInterest2=0, mlOpsInterest3=0, tpmSkillRank=1.0, tpmInterestRank=0.625, uxInterestRank=0.375, frontendInterestRank=0.75, backendInterestRank=0.5, dataEngInterestRank=0.0, mlEngInterestRank=0.0, mlOpsInterestRank=0.0), Learner(lambdaId='F1384C2J01D5IjyE', name='Oliver King', track='Web', storyPoints=4, labsProject='Test Product - B', gitExpertise=0, dockerExpertise=0, playByEar=0, detailOriented=0, speakUpInDiscussions=0, soloOrSocial='', meaningOrValue='', feelsRightOrMakesSense='', favoriteOrCollect='', tpmSkill1='B', tpmSkill2='B', tpmSkill3='C', tpmInterest1=1, tpmInterest2=2, tpmInterest3=2, tpmInterest4=2, uxInterest1=1, uxInterest2=1, frontendInterest1=2, frontendInterest2=2, backendInterest1=2, backendInterest2=3, dataEngInterest1=0, dataEngInterest2=0, dataEngInterest3=0, mlEngInterest1=0, mlEngInterest2=0, mlEngInterest3=0, mlOpsInterest1=0, mlOpsInterest2=0, mlOpsInterest3=0, tpmSkillRank=1.0, tpmInterestRank=0.4375, uxInterestRank=0.25, frontendInterestRank=0.5, backendInterestRank=0.625, dataEngInterestRank=0.0, mlEngInterestRank=0.0, mlOpsInterestRank=0.0), Learner(lambdaId='Gk60F463kJg2iG88', name='Jackson Nguyen', track='Web', storyPoints=7, labsProject='Test Product - B', gitExpertise=0, dockerExpertise=0, playByEar=0, detailOriented=0, speakUpInDiscussions=0, soloOrSocial='', meaningOrValue='', feelsRightOrMakesSense='', favoriteOrCollect='', tpmSkill1='B', tpmSkill2='B', tpmSkill3='C', tpmInterest1=2, tpmInterest2=3, tpmInterest3=3, tpmInterest4=1, uxInterest1=3, uxInterest2=2, frontendInterest1=1, frontendInterest2=2, backendInterest1=3, backendInterest2=1, dataEngInterest1=0, dataEngInterest2=0, dataEngInterest3=0, mlEngInterest1=0, mlEngInterest2=0, mlEngInterest3=0, mlOpsInterest1=0, mlOpsInterest2=0, mlOpsInterest3=0, tpmSkillRank=1.0, tpmInterestRank=0.5625, uxInterestRank=0.625, frontendInterestRank=0.375, backendInterestRank=0.5, dataEngInterestRank=0.0, mlEngInterestRank=0.0, mlOpsInterestRank=0.0), Learner(lambdaId='cw53EYP2182OY2u1', name='Samuel Robinson', track='Web', storyPoints=17, labsProject='Test Product - B', gitExpertise=0, dockerExpertise=0, playByEar=0, detailOriented=0, speakUpInDiscussions=0, soloOrSocial='', meaningOrValue='', feelsRightOrMakesSense='', favoriteOrCollect='', tpmSkill1='B', tpmSkill2='B', tpmSkill3='C', tpmInterest1=1, tpmInterest2=3, tpmInterest3=3, tpmInterest4=3, uxInterest1=2, uxInterest2=1, frontendInterest1=3, frontendInterest2=3, backendInterest1=2, backendInterest2=2, dataEngInterest1=0, dataEngInterest2=0, dataEngInterest3=0, mlEngInterest1=0, mlEngInterest2=0, mlEngInterest3=0, mlOpsInterest1=0, mlOpsInterest2=0, mlOpsInterest3=0, tpmSkillRank=1.0, tpmInterestRank=0.625, uxInterestRank=0.375, frontendInterestRank=0.75, backendInterestRank=0.5, dataEngInterestRank=0.0, mlEngInterestRank=0.0, mlOpsInterestRank=0.0), Learner(lambdaId='3Qa7dr25ZWI1071Z', name='Aria Lee', track='Web', storyPoints=13, labsProject='Test Product - B', gitExpertise=0, dockerExpertise=0, playByEar=0, detailOriented=0, speakUpInDiscussions=0, soloOrSocial='', meaningOrValue='', feelsRightOrMakesSense='', favoriteOrCollect='', tpmSkill1='B', tpmSkill2='B', tpmSkill3='C', tpmInterest1=1, tpmInterest2=3, tpmInterest3=2, tpmInterest4=2, uxInterest1=2, uxInterest2=1, frontendInterest1=1, frontendInterest2=1, backendInterest1=3, backendInterest2=2, dataEngInterest1=0, dataEngInterest2=0, dataEngInterest3=0, mlEngInterest1=0, mlEngInterest2=0, mlEngInterest3=0, mlOpsInterest1=0, mlOpsInterest2=0, mlOpsInterest3=0, tpmSkillRank=1.0, tpmInterestRank=0.5, uxInterestRank=0.375, frontendInterestRank=0.25, backendInterestRank=0.625, dataEngInterestRank=0.0, mlEngInterestRank=0.0, mlOpsInterestRank=0.0), Learner(lambdaId='0x0k16q6Id1G6g6D', name='Madison Adams', track='Web', storyPoints=6, labsProject='Test Product - B', gitExpertise=0, dockerExpertise=0, playByEar=0, detailOriented=0, speakUpInDiscussions=0, soloOrSocial='', meaningOrValue='', feelsRightOrMakesSense='', favoriteOrCollect='', tpmSkill1='B', tpmSkill2='B', tpmSkill3='C', tpmInterest1=2, tpmInterest2=1, tpmInterest3=2, tpmInterest4=1, uxInterest1=2, uxInterest2=3, frontendInterest1=3, frontendInterest2=1, backendInterest1=3, backendInterest2=1, dataEngInterest1=0, dataEngInterest2=0, dataEngInterest3=0, mlEngInterest1=0, mlEngInterest2=0, mlEngInterest3=0, mlOpsInterest1=0, mlOpsInterest2=0, mlOpsInterest3=0, tpmSkillRank=1.0, tpmInterestRank=0.375, uxInterestRank=0.625, frontendInterestRank=0.5, backendInterestRank=0.5, dataEngInterestRank=0.0, mlEngInterestRank=0.0, mlOpsInterestRank=0.0), Learner(lambdaId='2K57ON1gs3x28Jg6', name='Aiden Wright', track='Web', storyPoints=14, labsProject='Test Product - B', gitExpertise=0, dockerExpertise=0, playByEar=0, detailOriented=0, speakUpInDiscussions=0, soloOrSocial='', meaningOrValue='', feelsRightOrMakesSense='', favoriteOrCollect='', tpmSkill1='B', tpmSkill2='B', tpmSkill3='C', tpmInterest1=2, tpmInterest2=1, tpmInterest3=3, tpmInterest4=2, uxInterest1=2, uxInterest2=3, frontendInterest1=1, frontendInterest2=3, backendInterest1=3, backendInterest2=2, dataEngInterest1=0, dataEngInterest2=0, dataEngInterest3=0, mlEngInterest1=0, mlEngInterest2=0, mlEngInterest3=0, mlOpsInterest1=0, mlOpsInterest2=0, mlOpsInterest3=0, tpmSkillRank=1.0, tpmInterestRank=0.5, uxInterestRank=0.625, frontendInterestRank=0.5, backendInterestRank=0.625, dataEngInterestRank=0.0, mlEngInterestRank=0.0, mlOpsInterestRank=0.0), Learner(lambdaId='uBu6D31x571f7i4M', name='Mateo Walker', track='Web', storyPoints=7, labsProject='Test Product - B', gitExpertise=0, dockerExpertise=0, playByEar=0, detailOriented=0, speakUpInDiscussions=0, soloOrSocial='', meaningOrValue='', feelsRightOrMakesSense='', favoriteOrCollect='', tpmSkill1='B', tpmSkill2='B', tpmSkill3='C', tpmInterest1=2, tpmInterest2=3, tpmInterest3=1, tpmInterest4=2, uxInterest1=1, uxInterest2=1, frontendInterest1=3, frontendInterest2=3, backendInterest1=3, backendInterest2=3, dataEngInterest1=0, dataEngInterest2=0, dataEngInterest3=0, mlEngInterest1=0, mlEngInterest2=0, mlEngInterest3=0, mlOpsInterest1=0, mlOpsInterest2=0, mlOpsInterest3=0, tpmSkillRank=1.0, tpmInterestRank=0.5, uxInterestRank=0.25, frontendInterestRank=0.75, backendInterestRank=0.75, dataEngInterestRank=0.0, mlEngInterestRank=0.0, mlOpsInterestRank=0.0), Learner(lambdaId='g3mycn2EI7477C42', name='Harper Brown', track='Web', storyPoints=5, labsProject='Test Product - B', gitExpertise=0, dockerExpertise=0, playByEar=0, detailOriented=0, speakUpInDiscussions=0, soloOrSocial='', meaningOrValue='', feelsRightOrMakesSense='', favoriteOrCollect='', tpmSkill1='B', tpmSkill2='B', tpmSkill3='C', tpmInterest1=2, tpmInterest2=3, tpmInterest3=2, tpmInterest4=1, uxInterest1=3, uxInterest2=2, frontendInterest1=2, frontendInterest2=1, backendInterest1=3, backendInterest2=3, dataEngInterest1=0, dataEngInterest2=0, dataEngInterest3=0, mlEngInterest1=0, mlEngInterest2=0, mlEngInterest3=0, mlOpsInterest1=0, mlOpsInterest2=0, mlOpsInterest3=0, tpmSkillRank=1.0, tpmInterestRank=0.5, uxInterestRank=0.625, frontendInterestRank=0.375, backendInterestRank=0.75, dataEngInterestRank=0.0, mlEngInterestRank=0.0, mlOpsInterestRank=0.0), Learner(lambdaId='815D72Q1N63xSfkU', name='Mason Garcia', track='DS', storyPoints=9, labsProject='Test Product - A', gitExpertise=0, dockerExpertise=0, playByEar=0, detailOriented=0, speakUpInDiscussions=0, soloOrSocial='', meaningOrValue='', feelsRightOrMakesSense='', favoriteOrCollect='', tpmSkill1='B', tpmSkill2='B', tpmSkill3='C', tpmInterest1=2, tpmInterest2=1, tpmInterest3=3, tpmInterest4=1, uxInterest1=2, uxInterest2=1, frontendInterest1=2, frontendInterest2=2, backendInterest1=1, backendInterest2=2, dataEngInterest1=0, dataEngInterest2=0, dataEngInterest3=0, mlEngInterest1=0, mlEngInterest2=0, mlEngInterest3=0, mlOpsInterest1=0, mlOpsInterest2=0, mlOpsInterest3=0, tpmSkillRank=1.0, tpmInterestRank=0.4375, uxInterestRank=0.375, frontendInterestRank=0.5, backendInterestRank=0.375, dataEngInterestRank=0.0, mlEngInterestRank=0.0, mlOpsInterestRank=0.0), Learner(lambdaId='2jA73EZ6H7D68h1o', name='Charlotte Rivera', track='DS', storyPoints=6, labsProject='Test Product - A', gitExpertise=0, dockerExpertise=0, playByEar=0, detailOriented=0, speakUpInDiscussions=0, soloOrSocial='', meaningOrValue='', feelsRightOrMakesSense='', favoriteOrCollect='', tpmSkill1='B', tpmSkill2='B', tpmSkill3='C', tpmInterest1=3, tpmInterest2=1, tpmInterest3=2, tpmInterest4=2, uxInterest1=3, uxInterest2=1, frontendInterest1=1, frontendInterest2=1, backendInterest1=1, backendInterest2=2, dataEngInterest1=0, dataEngInterest2=0, dataEngInterest3=0, mlEngInterest1=0, mlEngInterest2=0, mlEngInterest3=0, mlOpsInterest1=0, mlOpsInterest2=0, mlOpsInterest3=0, tpmSkillRank=1.0, tpmInterestRank=0.5, uxInterestRank=0.5, frontendInterestRank=0.25, backendInterestRank=0.375, dataEngInterestRank=0.0, mlEngInterestRank=0.0, mlOpsInterestRank=0.0), Learner(lambdaId='023t275YIhRr88Nx', name='Alexander Ramirez', track='DS', storyPoints=18, labsProject='Test Product - A', gitExpertise=0, dockerExpertise=0, playByEar=0, detailOriented=0, speakUpInDiscussions=0, soloOrSocial='', meaningOrValue='', feelsRightOrMakesSense='', favoriteOrCollect='', tpmSkill1='B', tpmSkill2='B', tpmSkill3='C', tpmInterest1=1, tpmInterest2=3, tpmInterest3=3, tpmInterest4=3, uxInterest1=3, uxInterest2=3, frontendInterest1=3, frontendInterest2=2, backendInterest1=1, backendInterest2=1, dataEngInterest1=0, dataEngInterest2=0, dataEngInterest3=0, mlEngInterest1=0, mlEngInterest2=0, mlEngInterest3=0, mlOpsInterest1=0, mlOpsInterest2=0, mlOpsInterest3=0, tpmSkillRank=1.0, tpmInterestRank=0.625, uxInterestRank=0.75, frontendInterestRank=0.625, backendInterestRank=0.25, dataEngInterestRank=0.0, mlEngInterestRank=0.0, mlOpsInterestRank=0.0), Learner(lambdaId='I4in237SI6cR7U78', name='Olivia Brown', track='DS', storyPoints=2, labsProject='Test Product - A', gitExpertise=0, dockerExpertise=0, playByEar=0, detailOriented=0, speakUpInDiscussions=0, soloOrSocial='', meaningOrValue='', feelsRightOrMakesSense='', favoriteOrCollect='', tpmSkill1='B', tpmSkill2='B', tpmSkill3='C', tpmInterest1=3, tpmInterest2=1, tpmInterest3=1, tpmInterest4=2, uxInterest1=1, uxInterest2=2, frontendInterest1=1, frontendInterest2=1, backendInterest1=3, backendInterest2=1, dataEngInterest1=0, dataEngInterest2=0, dataEngInterest3=0, mlEngInterest1=0, mlEngInterest2=0, mlEngInterest3=0, mlOpsInterest1=0, mlOpsInterest2=0, mlOpsInterest3=0, tpmSkillRank=1.0, tpmInterestRank=0.4375, uxInterestRank=0.375, frontendInterestRank=0.25, backendInterestRank=0.5, dataEngInterestRank=0.0, mlEngInterestRank=0.0, mlOpsInterestRank=0.0)], projects=[Project(id='Test Product - A', product='Test Product', teamCode='A', tracks=['Web', 'DS'], releaseManager='Levi Robinson', teamMemberSmtIds=['1g6DcF52T211ia7K', '51B721Fk6ZQ3CkC1', 'XU42o435yBmH483W', 'VnPR2380ms7vV186', 'R3hXXkM62k3801W4', '78v36I7fBO28x0eZ', 'L02P7D43lp0BDT14', 'tHb15588MUu8BB53', '815D72Q1N63xSfkU', '2jA73EZ6H7D68h1o', '023t275YIhRr88Nx', 'I4in237SI6cR7U78'], storyPointTotal=109), Project(id='Test Product - B', product='Test Product', teamCode='B', tracks=['Web', 'BD'], releaseManager='Emily Carter', teamMemberSmtIds=['VV68J3o182sZ4Y7k', 'o37TFbMFB0571f15', 'v28XCp0lf7h558L8', 'g0a5t3h6yG78Iy76', 'F1384C2J01D5IjyE', 'Gk60F463kJg2iG88', 'cw53EYP2182OY2u1', '3Qa7dr25ZWI1071Z', '0x0k16q6Id1G6g6D', '2K57ON1gs3x28Jg6', 'uBu6D31x571f7i4M', 'g3mycn2EI7477C42'], storyPointTotal=116), Project(id='Test Product - C', product='Test Product', teamCode='C', tracks=['Web', 'BD'], releaseManager='Aiden Campbell', teamMemberSmtIds=[], storyPointTotal=0), Project(id='Test Product - D', product='Test Product', teamCode='D', tracks=['Web', 'DS'], releaseManager='Jack Anderson', teamMemberSmtIds=[], storyPointTotal=0)])"
     },
     "execution_count": 2,
     "metadata": {},
     "output_type": "execute_result"
    }
   ],
   "source": [
    "payload = example_payload()\n",
    "payload"
   ],
   "metadata": {
    "collapsed": false,
    "pycharm": {
     "name": "#%%\n"
    }
   }
  },
  {
   "cell_type": "code",
   "execution_count": 3,
   "outputs": [],
   "source": [
    "learners = payload.learners\n",
    "projects = payload.projects"
   ],
   "metadata": {
    "collapsed": false,
    "pycharm": {
     "name": "#%%\n"
    }
   }
  },
  {
   "cell_type": "code",
   "execution_count": 4,
   "outputs": [
    {
     "name": "stdout",
     "output_type": "stream",
     "text": [
      "Name: Test Product - A\n",
      "Tracks: ['Web', 'DS']\n",
      "Team Size: 12\n",
      "\n",
      "Name: Test Product - B\n",
      "Tracks: ['Web', 'BD']\n",
      "Team Size: 12\n",
      "\n",
      "Name: Test Product - C\n",
      "Tracks: ['Web', 'BD']\n",
      "Team Size: 0\n",
      "\n",
      "Name: Test Product - D\n",
      "Tracks: ['Web', 'DS']\n",
      "Team Size: 0\n",
      "\n"
     ]
    }
   ],
   "source": [
    "for project in projects:\n",
    "    print(f\"Name: {project.id}\")\n",
    "    print(f\"Tracks: {project.tracks}\")\n",
    "    print(f\"Team Size: {len(project.teamMemberSmtIds)}\")\n",
    "    print()"
   ],
   "metadata": {
    "collapsed": false,
    "pycharm": {
     "name": "#%%\n"
    }
   }
  },
  {
   "cell_type": "code",
   "execution_count": 5,
   "outputs": [
    {
     "name": "stdout",
     "output_type": "stream",
     "text": [
      "Name: Joseph Carter\n",
      "Track: Web\n",
      "Project: \n",
      "Story Points: 0\n",
      "\n",
      "Name: Daniel Jones\n",
      "Track: Web\n",
      "Project: \n",
      "Story Points: 0\n",
      "\n",
      "Name: Layla Green\n",
      "Track: Web\n",
      "Project: \n",
      "Story Points: 0\n",
      "\n",
      "Name: Aiden Torres\n",
      "Track: Web\n",
      "Project: \n",
      "Story Points: 0\n",
      "\n",
      "Name: David Hernandez\n",
      "Track: DS\n",
      "Project: \n",
      "Story Points: 0\n",
      "\n",
      "Name: Camila Garcia\n",
      "Track: DS\n",
      "Project: \n",
      "Story Points: 0\n",
      "\n",
      "Name: Isabella White\n",
      "Track: BD\n",
      "Project: \n",
      "Story Points: 0\n",
      "\n",
      "Name: Owen Hall\n",
      "Track: BD\n",
      "Project: \n",
      "Story Points: 0\n",
      "\n",
      "Name: Amelia Perez\n",
      "Track: Web\n",
      "Project: Test Product - A\n",
      "Story Points: 2\n",
      "\n",
      "Name: Isabella Walker\n",
      "Track: Web\n",
      "Project: Test Product - A\n",
      "Story Points: 2\n",
      "\n",
      "Name: Madison Thompson\n",
      "Track: Web\n",
      "Project: Test Product - A\n",
      "Story Points: 20\n",
      "\n",
      "Name: Charlotte Garcia\n",
      "Track: Web\n",
      "Project: Test Product - A\n",
      "Story Points: 17\n",
      "\n",
      "Name: Gianna White\n",
      "Track: Web\n",
      "Project: Test Product - A\n",
      "Story Points: 11\n",
      "\n",
      "Name: Jacob Flores\n",
      "Track: Web\n",
      "Project: Test Product - A\n",
      "Story Points: 5\n",
      "\n",
      "Name: Sophia Jackson\n",
      "Track: Web\n",
      "Project: Test Product - A\n",
      "Story Points: 8\n",
      "\n",
      "Name: Levi Bennet\n",
      "Track: Web\n",
      "Project: Test Product - A\n",
      "Story Points: 9\n",
      "\n",
      "Name: Oliver Davis\n",
      "Track: BD\n",
      "Project: Test Product - B\n",
      "Story Points: 6\n",
      "\n",
      "Name: Noah Johnson\n",
      "Track: BD\n",
      "Project: Test Product - B\n",
      "Story Points: 18\n",
      "\n",
      "Name: Mila Jackson\n",
      "Track: BD\n",
      "Project: Test Product - B\n",
      "Story Points: 9\n",
      "\n",
      "Name: William Carter\n",
      "Track: BD\n",
      "Project: Test Product - B\n",
      "Story Points: 10\n",
      "\n",
      "Name: Oliver King\n",
      "Track: Web\n",
      "Project: Test Product - B\n",
      "Story Points: 4\n",
      "\n",
      "Name: Jackson Nguyen\n",
      "Track: Web\n",
      "Project: Test Product - B\n",
      "Story Points: 7\n",
      "\n",
      "Name: Samuel Robinson\n",
      "Track: Web\n",
      "Project: Test Product - B\n",
      "Story Points: 17\n",
      "\n",
      "Name: Aria Lee\n",
      "Track: Web\n",
      "Project: Test Product - B\n",
      "Story Points: 13\n",
      "\n",
      "Name: Madison Adams\n",
      "Track: Web\n",
      "Project: Test Product - B\n",
      "Story Points: 6\n",
      "\n",
      "Name: Aiden Wright\n",
      "Track: Web\n",
      "Project: Test Product - B\n",
      "Story Points: 14\n",
      "\n",
      "Name: Mateo Walker\n",
      "Track: Web\n",
      "Project: Test Product - B\n",
      "Story Points: 7\n",
      "\n",
      "Name: Harper Brown\n",
      "Track: Web\n",
      "Project: Test Product - B\n",
      "Story Points: 5\n",
      "\n",
      "Name: Mason Garcia\n",
      "Track: DS\n",
      "Project: Test Product - A\n",
      "Story Points: 9\n",
      "\n",
      "Name: Charlotte Rivera\n",
      "Track: DS\n",
      "Project: Test Product - A\n",
      "Story Points: 6\n",
      "\n",
      "Name: Alexander Ramirez\n",
      "Track: DS\n",
      "Project: Test Product - A\n",
      "Story Points: 18\n",
      "\n",
      "Name: Olivia Brown\n",
      "Track: DS\n",
      "Project: Test Product - A\n",
      "Story Points: 2\n",
      "\n"
     ]
    }
   ],
   "source": [
    "for learner in learners:\n",
    "    print(f\"Name: {learner.name}\")\n",
    "    print(f\"Track: {learner.track}\")\n",
    "    print(f\"Project: {learner.labsProject}\")\n",
    "    print(f\"Story Points: {learner.storyPoints}\")\n",
    "    print()"
   ],
   "metadata": {
    "collapsed": false,
    "pycharm": {
     "name": "#%%\n"
    }
   }
  },
  {
   "cell_type": "code",
   "execution_count": 6,
   "outputs": [],
   "source": [
    "result = sorting_hat(payload)"
   ],
   "metadata": {
    "collapsed": false,
    "pycharm": {
     "name": "#%%\n"
    }
   }
  },
  {
   "cell_type": "code",
   "execution_count": 7,
   "outputs": [],
   "source": [
    "learners = result.learners\n",
    "projects = result.projects"
   ],
   "metadata": {
    "collapsed": false,
    "pycharm": {
     "name": "#%%\n"
    }
   }
  },
  {
   "cell_type": "code",
   "execution_count": 8,
   "outputs": [
    {
     "name": "stdout",
     "output_type": "stream",
     "text": [
      "Name: Test Product - A\n",
      "Tracks: ['Web', 'DS']\n",
      "Team Size: 12\n",
      "\n",
      "Name: Test Product - D\n",
      "Tracks: ['Web', 'DS']\n",
      "Team Size: 4\n",
      "\n",
      "Name: Test Product - B\n",
      "Tracks: ['Web', 'BD']\n",
      "Team Size: 12\n",
      "\n",
      "Name: Test Product - C\n",
      "Tracks: ['Web', 'BD']\n",
      "Team Size: 4\n",
      "\n"
     ]
    }
   ],
   "source": [
    "for project in projects:\n",
    "    print(f\"Name: {project.id}\")\n",
    "    print(f\"Tracks: {project.tracks}\")\n",
    "    print(f\"Team Size: {len(project.teamMemberSmtIds)}\")\n",
    "    print()"
   ],
   "metadata": {
    "collapsed": false,
    "pycharm": {
     "name": "#%%\n"
    }
   }
  },
  {
   "cell_type": "code",
   "execution_count": 9,
   "outputs": [
    {
     "name": "stdout",
     "output_type": "stream",
     "text": [
      "Name: Isabella White\n",
      "Track: BD\n",
      "Project: Test Product - C\n",
      "Story Points: 0\n",
      "\n",
      "Name: Owen Hall\n",
      "Track: BD\n",
      "Project: Test Product - C\n",
      "Story Points: 0\n",
      "\n",
      "Name: Oliver Davis\n",
      "Track: BD\n",
      "Project: Test Product - B\n",
      "Story Points: 6\n",
      "\n",
      "Name: Noah Johnson\n",
      "Track: BD\n",
      "Project: Test Product - B\n",
      "Story Points: 18\n",
      "\n",
      "Name: Mila Jackson\n",
      "Track: BD\n",
      "Project: Test Product - B\n",
      "Story Points: 9\n",
      "\n",
      "Name: William Carter\n",
      "Track: BD\n",
      "Project: Test Product - B\n",
      "Story Points: 10\n",
      "\n",
      "Name: David Hernandez\n",
      "Track: DS\n",
      "Project: Test Product - D\n",
      "Story Points: 0\n",
      "\n",
      "Name: Camila Garcia\n",
      "Track: DS\n",
      "Project: Test Product - D\n",
      "Story Points: 0\n",
      "\n",
      "Name: Mason Garcia\n",
      "Track: DS\n",
      "Project: Test Product - A\n",
      "Story Points: 9\n",
      "\n",
      "Name: Charlotte Rivera\n",
      "Track: DS\n",
      "Project: Test Product - A\n",
      "Story Points: 6\n",
      "\n",
      "Name: Alexander Ramirez\n",
      "Track: DS\n",
      "Project: Test Product - A\n",
      "Story Points: 18\n",
      "\n",
      "Name: Olivia Brown\n",
      "Track: DS\n",
      "Project: Test Product - A\n",
      "Story Points: 2\n",
      "\n",
      "Name: Joseph Carter\n",
      "Track: Web\n",
      "Project: Test Product - D\n",
      "Story Points: 0\n",
      "\n",
      "Name: Daniel Jones\n",
      "Track: Web\n",
      "Project: Test Product - C\n",
      "Story Points: 0\n",
      "\n",
      "Name: Layla Green\n",
      "Track: Web\n",
      "Project: Test Product - D\n",
      "Story Points: 0\n",
      "\n",
      "Name: Aiden Torres\n",
      "Track: Web\n",
      "Project: Test Product - C\n",
      "Story Points: 0\n",
      "\n",
      "Name: Amelia Perez\n",
      "Track: Web\n",
      "Project: Test Product - A\n",
      "Story Points: 2\n",
      "\n",
      "Name: Isabella Walker\n",
      "Track: Web\n",
      "Project: Test Product - A\n",
      "Story Points: 2\n",
      "\n",
      "Name: Madison Thompson\n",
      "Track: Web\n",
      "Project: Test Product - A\n",
      "Story Points: 20\n",
      "\n",
      "Name: Charlotte Garcia\n",
      "Track: Web\n",
      "Project: Test Product - A\n",
      "Story Points: 17\n",
      "\n",
      "Name: Gianna White\n",
      "Track: Web\n",
      "Project: Test Product - A\n",
      "Story Points: 11\n",
      "\n",
      "Name: Jacob Flores\n",
      "Track: Web\n",
      "Project: Test Product - A\n",
      "Story Points: 5\n",
      "\n",
      "Name: Sophia Jackson\n",
      "Track: Web\n",
      "Project: Test Product - A\n",
      "Story Points: 8\n",
      "\n",
      "Name: Levi Bennet\n",
      "Track: Web\n",
      "Project: Test Product - A\n",
      "Story Points: 9\n",
      "\n",
      "Name: Oliver King\n",
      "Track: Web\n",
      "Project: Test Product - B\n",
      "Story Points: 4\n",
      "\n",
      "Name: Jackson Nguyen\n",
      "Track: Web\n",
      "Project: Test Product - B\n",
      "Story Points: 7\n",
      "\n",
      "Name: Samuel Robinson\n",
      "Track: Web\n",
      "Project: Test Product - B\n",
      "Story Points: 17\n",
      "\n",
      "Name: Aria Lee\n",
      "Track: Web\n",
      "Project: Test Product - B\n",
      "Story Points: 13\n",
      "\n",
      "Name: Madison Adams\n",
      "Track: Web\n",
      "Project: Test Product - B\n",
      "Story Points: 6\n",
      "\n",
      "Name: Aiden Wright\n",
      "Track: Web\n",
      "Project: Test Product - B\n",
      "Story Points: 14\n",
      "\n",
      "Name: Mateo Walker\n",
      "Track: Web\n",
      "Project: Test Product - B\n",
      "Story Points: 7\n",
      "\n",
      "Name: Harper Brown\n",
      "Track: Web\n",
      "Project: Test Product - B\n",
      "Story Points: 5\n",
      "\n"
     ]
    }
   ],
   "source": [
    "for learner in learners:\n",
    "    print(f\"Name: {learner.name}\")\n",
    "    print(f\"Track: {learner.track}\")\n",
    "    print(f\"Project: {learner.labsProject}\")\n",
    "    print(f\"Story Points: {learner.storyPoints}\")\n",
    "    print()"
   ],
   "metadata": {
    "collapsed": false,
    "pycharm": {
     "name": "#%%\n"
    }
   }
  },
  {
   "cell_type": "code",
   "execution_count": 9,
   "outputs": [],
   "source": [],
   "metadata": {
    "collapsed": false,
    "pycharm": {
     "name": "#%%\n"
    }
   }
  }
 ],
 "metadata": {
  "kernelspec": {
   "display_name": "Python 3",
   "language": "python",
   "name": "python3"
  },
  "language_info": {
   "codemirror_mode": {
    "name": "ipython",
    "version": 2
   },
   "file_extension": ".py",
   "mimetype": "text/x-python",
   "name": "python",
   "nbconvert_exporter": "python",
   "pygments_lexer": "ipython2",
   "version": "2.7.6"
  }
 },
 "nbformat": 4,
 "nbformat_minor": 0
}