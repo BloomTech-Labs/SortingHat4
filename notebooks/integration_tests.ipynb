{
 "cells": [
  {
   "cell_type": "code",
   "execution_count": 46,
   "outputs": [],
   "source": [
    "import requests\n",
    "from pandas import DataFrame\n",
    "import plotly.graph_objects as go\n",
    "import plotly.express as px"
   ],
   "metadata": {
    "collapsed": false,
    "pycharm": {
     "name": "#%%\n"
    }
   }
  },
  {
   "cell_type": "code",
   "execution_count": 47,
   "metadata": {
    "collapsed": true
   },
   "outputs": [],
   "source": [
    "remote_url = \"http://sortinghat4-dev.us-east-1.elasticbeanstalk.com\""
   ]
  },
  {
   "cell_type": "code",
   "execution_count": 48,
   "outputs": [
    {
     "name": "stdout",
     "output_type": "stream",
     "text": [
      "1\n"
     ]
    }
   ],
   "source": [
    "raw_data = requests.post(\n",
    "    remote_url + \"/logs\",\n",
    "    json={\"metadata.ds_api.version\": \"4.0.9\"},\n",
    ").json()\n",
    "print(len(raw_data))\n",
    "payload = raw_data[-1]"
   ],
   "metadata": {
    "collapsed": false,
    "pycharm": {
     "name": "#%%\n"
    }
   }
  },
  {
   "cell_type": "code",
   "execution_count": 49,
   "outputs": [
    {
     "data": {
      "text/plain": "{'ds_api': {'platform': 'FastAPI', 'title': 'SortingHat4', 'version': '4.0.9'},\n 'logger': {'platform': 'MongoDB',\n  'organization': 'Bloom Institute of Technology',\n  'project': 'Labs',\n  'database': 'SortingHat',\n  'collection': 'Logs'},\n 'timestamp': '2022-04-11 16:42:40'}"
     },
     "execution_count": 49,
     "metadata": {},
     "output_type": "execute_result"
    }
   ],
   "source": [
    "payload[\"metadata\"]"
   ],
   "metadata": {
    "collapsed": false,
    "pycharm": {
     "name": "#%%\n"
    }
   }
  },
  {
   "cell_type": "code",
   "execution_count": 50,
   "outputs": [
    {
     "data": {
      "text/plain": "[{'id': '8PF0II03',\n  'product': 'Test Product',\n  'teamCode': 'A',\n  'tracks': ['Web'],\n  'releaseManager': 'Theodore Brooks',\n  'teamMemberSmtIds': ['I8G36r0AOi2U72Z8',\n   'RNdbA57eO4L77531',\n   '63K584JuPS8cU3b3',\n   '5CLmeBU51d0P5428',\n   'MbPw43707u7LTh58',\n   '71eplf517Tm84a5F',\n   '3Nxxo8w57346Bw7p',\n   'bZEu85P5k01887Cg']},\n {'id': 'WVi2G212',\n  'product': 'Test Product',\n  'teamCode': 'B',\n  'tracks': ['Web', 'DS'],\n  'releaseManager': 'Grace Bennet',\n  'teamMemberSmtIds': ['38v4o30aoNu18t5y',\n   '5qS3AMhAN8287O66',\n   'GNS4M23h6b52w0L4',\n   '1U1b8i1we2hr8a87',\n   '8H71MbT5G0p8K46O',\n   '30XfMbgG46Jv0415',\n   'C25Xh854S1Wp0Ey4',\n   '2Y3XqSB5578kY6e4',\n   'mXK87l76b2dy44W6',\n   'f1326W8lK5gX62Yl',\n   '2W467KLmk05j14Is',\n   'j7H61724PXGm34OF',\n   'x6s7443CdW5n81nz',\n   '6F0L4O5LV4V651rl']},\n {'id': '7zl0HJ71',\n  'product': 'Test Product',\n  'teamCode': 'C',\n  'tracks': ['Web', 'DS'],\n  'releaseManager': 'Henry Garcia',\n  'teamMemberSmtIds': ['b35Hk44RMT3s6Z82',\n   '576Jtg7HlW8L26K6',\n   '02eh807Sf11zAD0S',\n   '2HS3X74n8eO276FW',\n   '4GUpL01Jq2R354a1',\n   'B3k85S56w27qO5Ct',\n   'ee16ak37l0Q8C57I',\n   'kp5BX7i6A7Y8078j',\n   '508Fbg4BJ7y75Xc0',\n   'q7C35e2x17qbne50',\n   '6n6otu033208ECIc']},\n {'id': '5P4SEZ86',\n  'product': 'Test Product',\n  'teamCode': 'D',\n  'tracks': ['Web', 'DS'],\n  'releaseManager': 'Mason Lewis',\n  'teamMemberSmtIds': ['8xu776bF715jCr8x',\n   '6Xj1Jo0cm44273Km',\n   '3k5L7N0W0QE4M4Q2',\n   '3uaI3AK2012R7NE3',\n   'U7h0c8ZV1K5e30R3',\n   '5xF2TK71Y1Jc2Q88',\n   'ET8Jh348521QI3ru',\n   'Co132j16a11qA8Sc',\n   'X364WS7aIj18T36n',\n   '0y81B635p2dN2DKU']},\n {'id': 'L4sF75S4',\n  'product': 'Test Product',\n  'teamCode': 'E',\n  'tracks': ['Web', 'BD'],\n  'releaseManager': 'Isabella Martinez',\n  'teamMemberSmtIds': ['Gu8bmT220542V1gG',\n   'ZxeF3J306I2YN075',\n   '80jIZo0fl0027uG6',\n   'mx00yY6P065x56uT',\n   'TUIuLd016363R5o7',\n   'vd14W6L3735d6Idx',\n   '877tWY36So3h2o3i']}]"
     },
     "execution_count": 50,
     "metadata": {},
     "output_type": "execute_result"
    }
   ],
   "source": [
    "projects = payload[\"projects\"]\n",
    "projects"
   ],
   "metadata": {
    "collapsed": false,
    "pycharm": {
     "name": "#%%\n"
    }
   }
  },
  {
   "cell_type": "code",
   "execution_count": 51,
   "outputs": [
    {
     "data": {
      "text/plain": "[{'lambdaId': 'b35Hk44RMT3s6Z82',\n  'name': 'Benjamin Hall',\n  'track': 'DS',\n  'labsProject': 'Test Product - C',\n  'gitExpertise': 4,\n  'dockerExpertise': 5,\n  'playByEar': 5,\n  'detailOriented': 2,\n  'speakUpInDiscussions': 5,\n  'soloOrSocial': 'B',\n  'meaningOrValue': 'B',\n  'feelsRightOrMakesSense': 'A',\n  'favoriteOrCollect': 'B',\n  'tpmSkill1': 'B',\n  'tpmSkill2': 'A',\n  'tpmSkill3': 'A',\n  'tpmInterest1': 1,\n  'tpmInterest2': 1,\n  'tpmInterest3': 2,\n  'tpmInterest4': 1,\n  'uxInterest1': 0,\n  'uxInterest2': 0,\n  'frontendInterest1': 0,\n  'frontendInterest2': 0,\n  'backendInterest1': 0,\n  'backendInterest2': 0,\n  'dataEngInterest1': 3,\n  'dataEngInterest2': 4,\n  'dataEngInterest3': 1,\n  'mlEngInterest1': 3,\n  'mlEngInterest2': 4,\n  'mlEngInterest3': 2,\n  'mlOpsInterest1': 2,\n  'mlOpsInterest2': 1,\n  'mlOpsInterest3': 4,\n  'tpmSkillRank': 0.3333333333333333,\n  'tpmInterestRank': 0.3125,\n  'uxInterestRank': 0,\n  'frontendInterestRank': 0,\n  'backendInterestRank': 0,\n  'dataEngInterestRank': 0.6666666666666666,\n  'mlEngInterestRank': 0.75,\n  'mlOpsInterestRank': 0.5833333333333334},\n {'lambdaId': '38v4o30aoNu18t5y',\n  'name': 'Chloe Martinez',\n  'track': 'Web',\n  'labsProject': 'Test Product - B',\n  'gitExpertise': 2,\n  'dockerExpertise': 1,\n  'playByEar': 3,\n  'detailOriented': 5,\n  'speakUpInDiscussions': 5,\n  'soloOrSocial': 'B',\n  'meaningOrValue': 'B',\n  'feelsRightOrMakesSense': 'B',\n  'favoriteOrCollect': 'A',\n  'tpmSkill1': 'C',\n  'tpmSkill2': 'A',\n  'tpmSkill3': 'C',\n  'tpmInterest1': 2,\n  'tpmInterest2': 2,\n  'tpmInterest3': 3,\n  'tpmInterest4': 1,\n  'uxInterest1': 3,\n  'uxInterest2': 4,\n  'frontendInterest1': 1,\n  'frontendInterest2': 1,\n  'backendInterest1': 2,\n  'backendInterest2': 2,\n  'dataEngInterest1': 0,\n  'dataEngInterest2': 0,\n  'dataEngInterest3': 0,\n  'mlEngInterest1': 0,\n  'mlEngInterest2': 0,\n  'mlEngInterest3': 0,\n  'mlOpsInterest1': 0,\n  'mlOpsInterest2': 0,\n  'mlOpsInterest3': 0,\n  'tpmSkillRank': 0.3333333333333333,\n  'tpmInterestRank': 0.5,\n  'uxInterestRank': 0.875,\n  'frontendInterestRank': 0.25,\n  'backendInterestRank': 0.5,\n  'dataEngInterestRank': 0,\n  'mlEngInterestRank': 0,\n  'mlOpsInterestRank': 0},\n {'lambdaId': '8xu776bF715jCr8x',\n  'name': 'Jacob Harris',\n  'track': 'Web',\n  'labsProject': 'Test Product - D',\n  'gitExpertise': 3,\n  'dockerExpertise': 1,\n  'playByEar': 5,\n  'detailOriented': 5,\n  'speakUpInDiscussions': 5,\n  'soloOrSocial': 'A',\n  'meaningOrValue': 'B',\n  'feelsRightOrMakesSense': 'A',\n  'favoriteOrCollect': 'A',\n  'tpmSkill1': 'B',\n  'tpmSkill2': 'A',\n  'tpmSkill3': 'C',\n  'tpmInterest1': 2,\n  'tpmInterest2': 4,\n  'tpmInterest3': 3,\n  'tpmInterest4': 1,\n  'uxInterest1': 1,\n  'uxInterest2': 1,\n  'frontendInterest1': 4,\n  'frontendInterest2': 4,\n  'backendInterest1': 3,\n  'backendInterest2': 1,\n  'dataEngInterest1': 0,\n  'dataEngInterest2': 0,\n  'dataEngInterest3': 0,\n  'mlEngInterest1': 0,\n  'mlEngInterest2': 0,\n  'mlEngInterest3': 0,\n  'mlOpsInterest1': 0,\n  'mlOpsInterest2': 0,\n  'mlOpsInterest3': 0,\n  'tpmSkillRank': 0.6666666666666666,\n  'tpmInterestRank': 0.625,\n  'uxInterestRank': 0.25,\n  'frontendInterestRank': 1.0,\n  'backendInterestRank': 0.5,\n  'dataEngInterestRank': 0,\n  'mlEngInterestRank': 0,\n  'mlOpsInterestRank': 0},\n {'lambdaId': '576Jtg7HlW8L26K6',\n  'name': 'Madison Lee',\n  'track': 'Web',\n  'labsProject': 'Test Product - C',\n  'gitExpertise': 3,\n  'dockerExpertise': 4,\n  'playByEar': 3,\n  'detailOriented': 5,\n  'speakUpInDiscussions': 3,\n  'soloOrSocial': 'A',\n  'meaningOrValue': 'B',\n  'feelsRightOrMakesSense': 'A',\n  'favoriteOrCollect': 'A',\n  'tpmSkill1': 'B',\n  'tpmSkill2': 'A',\n  'tpmSkill3': 'B',\n  'tpmInterest1': 4,\n  'tpmInterest2': 1,\n  'tpmInterest3': 2,\n  'tpmInterest4': 2,\n  'uxInterest1': 3,\n  'uxInterest2': 3,\n  'frontendInterest1': 2,\n  'frontendInterest2': 4,\n  'backendInterest1': 3,\n  'backendInterest2': 3,\n  'dataEngInterest1': 0,\n  'dataEngInterest2': 0,\n  'dataEngInterest3': 0,\n  'mlEngInterest1': 0,\n  'mlEngInterest2': 0,\n  'mlEngInterest3': 0,\n  'mlOpsInterest1': 0,\n  'mlOpsInterest2': 0,\n  'mlOpsInterest3': 0,\n  'tpmSkillRank': 0.3333333333333333,\n  'tpmInterestRank': 0.5625,\n  'uxInterestRank': 0.75,\n  'frontendInterestRank': 0.75,\n  'backendInterestRank': 0.75,\n  'dataEngInterestRank': 0,\n  'mlEngInterestRank': 0,\n  'mlOpsInterestRank': 0},\n {'lambdaId': '5qS3AMhAN8287O66',\n  'name': 'Liam Nelson',\n  'track': 'Web',\n  'labsProject': 'Test Product - B',\n  'gitExpertise': 5,\n  'dockerExpertise': 2,\n  'playByEar': 2,\n  'detailOriented': 2,\n  'speakUpInDiscussions': 4,\n  'soloOrSocial': 'B',\n  'meaningOrValue': 'A',\n  'feelsRightOrMakesSense': 'A',\n  'favoriteOrCollect': 'B',\n  'tpmSkill1': 'C',\n  'tpmSkill2': 'B',\n  'tpmSkill3': 'A',\n  'tpmInterest1': 1,\n  'tpmInterest2': 3,\n  'tpmInterest3': 2,\n  'tpmInterest4': 2,\n  'uxInterest1': 2,\n  'uxInterest2': 3,\n  'frontendInterest1': 4,\n  'frontendInterest2': 1,\n  'backendInterest1': 4,\n  'backendInterest2': 2,\n  'dataEngInterest1': 0,\n  'dataEngInterest2': 0,\n  'dataEngInterest3': 0,\n  'mlEngInterest1': 0,\n  'mlEngInterest2': 0,\n  'mlEngInterest3': 0,\n  'mlOpsInterest1': 0,\n  'mlOpsInterest2': 0,\n  'mlOpsInterest3': 0,\n  'tpmSkillRank': 0.3333333333333333,\n  'tpmInterestRank': 0.5,\n  'uxInterestRank': 0.625,\n  'frontendInterestRank': 0.625,\n  'backendInterestRank': 0.75,\n  'dataEngInterestRank': 0,\n  'mlEngInterestRank': 0,\n  'mlOpsInterestRank': 0},\n {'lambdaId': '6Xj1Jo0cm44273Km',\n  'name': 'Benjamin Taylor',\n  'track': 'Web',\n  'labsProject': 'Test Product - D',\n  'gitExpertise': 3,\n  'dockerExpertise': 1,\n  'playByEar': 2,\n  'detailOriented': 3,\n  'speakUpInDiscussions': 3,\n  'soloOrSocial': 'A',\n  'meaningOrValue': 'B',\n  'feelsRightOrMakesSense': 'B',\n  'favoriteOrCollect': 'B',\n  'tpmSkill1': 'C',\n  'tpmSkill2': 'B',\n  'tpmSkill3': 'A',\n  'tpmInterest1': 1,\n  'tpmInterest2': 4,\n  'tpmInterest3': 3,\n  'tpmInterest4': 2,\n  'uxInterest1': 4,\n  'uxInterest2': 1,\n  'frontendInterest1': 1,\n  'frontendInterest2': 4,\n  'backendInterest1': 2,\n  'backendInterest2': 1,\n  'dataEngInterest1': 0,\n  'dataEngInterest2': 0,\n  'dataEngInterest3': 0,\n  'mlEngInterest1': 0,\n  'mlEngInterest2': 0,\n  'mlEngInterest3': 0,\n  'mlOpsInterest1': 0,\n  'mlOpsInterest2': 0,\n  'mlOpsInterest3': 0,\n  'tpmSkillRank': 0.3333333333333333,\n  'tpmInterestRank': 0.625,\n  'uxInterestRank': 0.625,\n  'frontendInterestRank': 0.625,\n  'backendInterestRank': 0.375,\n  'dataEngInterestRank': 0,\n  'mlEngInterestRank': 0,\n  'mlOpsInterestRank': 0},\n {'lambdaId': '02eh807Sf11zAD0S',\n  'name': 'Olivia Scott',\n  'track': 'Web',\n  'labsProject': 'Test Product - C',\n  'gitExpertise': 2,\n  'dockerExpertise': 4,\n  'playByEar': 3,\n  'detailOriented': 3,\n  'speakUpInDiscussions': 4,\n  'soloOrSocial': 'A',\n  'meaningOrValue': 'A',\n  'feelsRightOrMakesSense': 'B',\n  'favoriteOrCollect': 'B',\n  'tpmSkill1': 'B',\n  'tpmSkill2': 'B',\n  'tpmSkill3': 'C',\n  'tpmInterest1': 3,\n  'tpmInterest2': 2,\n  'tpmInterest3': 2,\n  'tpmInterest4': 3,\n  'uxInterest1': 1,\n  'uxInterest2': 3,\n  'frontendInterest1': 2,\n  'frontendInterest2': 3,\n  'backendInterest1': 3,\n  'backendInterest2': 1,\n  'dataEngInterest1': 0,\n  'dataEngInterest2': 0,\n  'dataEngInterest3': 0,\n  'mlEngInterest1': 0,\n  'mlEngInterest2': 0,\n  'mlEngInterest3': 0,\n  'mlOpsInterest1': 0,\n  'mlOpsInterest2': 0,\n  'mlOpsInterest3': 0,\n  'tpmSkillRank': 1.0,\n  'tpmInterestRank': 0.625,\n  'uxInterestRank': 0.5,\n  'frontendInterestRank': 0.625,\n  'backendInterestRank': 0.5,\n  'dataEngInterestRank': 0,\n  'mlEngInterestRank': 0,\n  'mlOpsInterestRank': 0},\n {'lambdaId': 'GNS4M23h6b52w0L4',\n  'name': 'Theodore Martin',\n  'track': 'Web',\n  'labsProject': 'Test Product - B',\n  'gitExpertise': 2,\n  'dockerExpertise': 1,\n  'playByEar': 1,\n  'detailOriented': 1,\n  'speakUpInDiscussions': 2,\n  'soloOrSocial': 'B',\n  'meaningOrValue': 'A',\n  'feelsRightOrMakesSense': 'A',\n  'favoriteOrCollect': 'B',\n  'tpmSkill1': 'A',\n  'tpmSkill2': 'B',\n  'tpmSkill3': 'C',\n  'tpmInterest1': 4,\n  'tpmInterest2': 3,\n  'tpmInterest3': 4,\n  'tpmInterest4': 4,\n  'uxInterest1': 1,\n  'uxInterest2': 1,\n  'frontendInterest1': 2,\n  'frontendInterest2': 3,\n  'backendInterest1': 3,\n  'backendInterest2': 3,\n  'dataEngInterest1': 0,\n  'dataEngInterest2': 0,\n  'dataEngInterest3': 0,\n  'mlEngInterest1': 0,\n  'mlEngInterest2': 0,\n  'mlEngInterest3': 0,\n  'mlOpsInterest1': 0,\n  'mlOpsInterest2': 0,\n  'mlOpsInterest3': 0,\n  'tpmSkillRank': 0.6666666666666666,\n  'tpmInterestRank': 0.9375,\n  'uxInterestRank': 0.25,\n  'frontendInterestRank': 0.625,\n  'backendInterestRank': 0.75,\n  'dataEngInterestRank': 0,\n  'mlEngInterestRank': 0,\n  'mlOpsInterestRank': 0},\n {'lambdaId': '3k5L7N0W0QE4M4Q2',\n  'name': 'Penelope Wright',\n  'track': 'Web',\n  'labsProject': 'Test Product - D',\n  'gitExpertise': 1,\n  'dockerExpertise': 5,\n  'playByEar': 5,\n  'detailOriented': 1,\n  'speakUpInDiscussions': 3,\n  'soloOrSocial': 'B',\n  'meaningOrValue': 'B',\n  'feelsRightOrMakesSense': 'B',\n  'favoriteOrCollect': 'B',\n  'tpmSkill1': 'A',\n  'tpmSkill2': 'A',\n  'tpmSkill3': 'B',\n  'tpmInterest1': 2,\n  'tpmInterest2': 3,\n  'tpmInterest3': 3,\n  'tpmInterest4': 4,\n  'uxInterest1': 3,\n  'uxInterest2': 2,\n  'frontendInterest1': 3,\n  'frontendInterest2': 4,\n  'backendInterest1': 4,\n  'backendInterest2': 4,\n  'dataEngInterest1': 0,\n  'dataEngInterest2': 0,\n  'dataEngInterest3': 0,\n  'mlEngInterest1': 0,\n  'mlEngInterest2': 0,\n  'mlEngInterest3': 0,\n  'mlOpsInterest1': 0,\n  'mlOpsInterest2': 0,\n  'mlOpsInterest3': 0,\n  'tpmSkillRank': 0.0,\n  'tpmInterestRank': 0.75,\n  'uxInterestRank': 0.625,\n  'frontendInterestRank': 0.875,\n  'backendInterestRank': 1.0,\n  'dataEngInterestRank': 0,\n  'mlEngInterestRank': 0,\n  'mlOpsInterestRank': 0},\n {'lambdaId': '2HS3X74n8eO276FW',\n  'name': 'Wyatt Ramirez',\n  'track': 'Web',\n  'labsProject': 'Test Product - C',\n  'gitExpertise': 5,\n  'dockerExpertise': 2,\n  'playByEar': 3,\n  'detailOriented': 4,\n  'speakUpInDiscussions': 2,\n  'soloOrSocial': 'A',\n  'meaningOrValue': 'B',\n  'feelsRightOrMakesSense': 'B',\n  'favoriteOrCollect': 'B',\n  'tpmSkill1': 'C',\n  'tpmSkill2': 'A',\n  'tpmSkill3': 'A',\n  'tpmInterest1': 3,\n  'tpmInterest2': 2,\n  'tpmInterest3': 2,\n  'tpmInterest4': 4,\n  'uxInterest1': 3,\n  'uxInterest2': 1,\n  'frontendInterest1': 3,\n  'frontendInterest2': 4,\n  'backendInterest1': 3,\n  'backendInterest2': 1,\n  'dataEngInterest1': 0,\n  'dataEngInterest2': 0,\n  'dataEngInterest3': 0,\n  'mlEngInterest1': 0,\n  'mlEngInterest2': 0,\n  'mlEngInterest3': 0,\n  'mlOpsInterest1': 0,\n  'mlOpsInterest2': 0,\n  'mlOpsInterest3': 0,\n  'tpmSkillRank': 0.0,\n  'tpmInterestRank': 0.6875,\n  'uxInterestRank': 0.5,\n  'frontendInterestRank': 0.875,\n  'backendInterestRank': 0.5,\n  'dataEngInterestRank': 0,\n  'mlEngInterestRank': 0,\n  'mlOpsInterestRank': 0},\n {'lambdaId': '1U1b8i1we2hr8a87',\n  'name': 'Amelia Bennet',\n  'track': 'DS',\n  'labsProject': 'Test Product - B',\n  'gitExpertise': 4,\n  'dockerExpertise': 5,\n  'playByEar': 1,\n  'detailOriented': 1,\n  'speakUpInDiscussions': 3,\n  'soloOrSocial': 'A',\n  'meaningOrValue': 'A',\n  'feelsRightOrMakesSense': 'B',\n  'favoriteOrCollect': 'B',\n  'tpmSkill1': 'B',\n  'tpmSkill2': 'C',\n  'tpmSkill3': 'B',\n  'tpmInterest1': 2,\n  'tpmInterest2': 2,\n  'tpmInterest3': 3,\n  'tpmInterest4': 4,\n  'uxInterest1': 0,\n  'uxInterest2': 0,\n  'frontendInterest1': 0,\n  'frontendInterest2': 0,\n  'backendInterest1': 0,\n  'backendInterest2': 0,\n  'dataEngInterest1': 1,\n  'dataEngInterest2': 1,\n  'dataEngInterest3': 2,\n  'mlEngInterest1': 3,\n  'mlEngInterest2': 4,\n  'mlEngInterest3': 4,\n  'mlOpsInterest1': 1,\n  'mlOpsInterest2': 2,\n  'mlOpsInterest3': 1,\n  'tpmSkillRank': 0.3333333333333333,\n  'tpmInterestRank': 0.6875,\n  'uxInterestRank': 0,\n  'frontendInterestRank': 0,\n  'backendInterestRank': 0,\n  'dataEngInterestRank': 0.3333333333333333,\n  'mlEngInterestRank': 0.9166666666666666,\n  'mlOpsInterestRank': 0.3333333333333333},\n {'lambdaId': 'I8G36r0AOi2U72Z8',\n  'name': 'Madison Allen',\n  'track': 'Web',\n  'labsProject': 'Test Product - A',\n  'gitExpertise': 2,\n  'dockerExpertise': 4,\n  'playByEar': 5,\n  'detailOriented': 5,\n  'speakUpInDiscussions': 3,\n  'soloOrSocial': 'B',\n  'meaningOrValue': 'B',\n  'feelsRightOrMakesSense': 'A',\n  'favoriteOrCollect': 'A',\n  'tpmSkill1': 'A',\n  'tpmSkill2': 'C',\n  'tpmSkill3': 'A',\n  'tpmInterest1': 1,\n  'tpmInterest2': 3,\n  'tpmInterest3': 4,\n  'tpmInterest4': 2,\n  'uxInterest1': 4,\n  'uxInterest2': 1,\n  'frontendInterest1': 4,\n  'frontendInterest2': 1,\n  'backendInterest1': 3,\n  'backendInterest2': 2,\n  'dataEngInterest1': 0,\n  'dataEngInterest2': 0,\n  'dataEngInterest3': 0,\n  'mlEngInterest1': 0,\n  'mlEngInterest2': 0,\n  'mlEngInterest3': 0,\n  'mlOpsInterest1': 0,\n  'mlOpsInterest2': 0,\n  'mlOpsInterest3': 0,\n  'tpmSkillRank': 0.0,\n  'tpmInterestRank': 0.625,\n  'uxInterestRank': 0.625,\n  'frontendInterestRank': 0.625,\n  'backendInterestRank': 0.625,\n  'dataEngInterestRank': 0,\n  'mlEngInterestRank': 0,\n  'mlOpsInterestRank': 0},\n {'lambdaId': 'Gu8bmT220542V1gG',\n  'name': 'Lucas Hill',\n  'track': 'BD',\n  'labsProject': 'Test Product - E',\n  'gitExpertise': 3,\n  'dockerExpertise': 5,\n  'playByEar': 5,\n  'detailOriented': 5,\n  'speakUpInDiscussions': 5,\n  'soloOrSocial': 'A',\n  'meaningOrValue': 'B',\n  'feelsRightOrMakesSense': 'A',\n  'favoriteOrCollect': 'A',\n  'tpmSkill1': 'B',\n  'tpmSkill2': 'C',\n  'tpmSkill3': 'C',\n  'tpmInterest1': 2,\n  'tpmInterest2': 4,\n  'tpmInterest3': 1,\n  'tpmInterest4': 2,\n  'uxInterest1': 0,\n  'uxInterest2': 0,\n  'frontendInterest1': 0,\n  'frontendInterest2': 0,\n  'backendInterest1': 0,\n  'backendInterest2': 0,\n  'dataEngInterest1': 0,\n  'dataEngInterest2': 0,\n  'dataEngInterest3': 0,\n  'mlEngInterest1': 0,\n  'mlEngInterest2': 0,\n  'mlEngInterest3': 0,\n  'mlOpsInterest1': 0,\n  'mlOpsInterest2': 0,\n  'mlOpsInterest3': 0,\n  'tpmSkillRank': 0.6666666666666666,\n  'tpmInterestRank': 0.5625,\n  'uxInterestRank': 0.0,\n  'frontendInterestRank': 0.0,\n  'backendInterestRank': 0.0,\n  'dataEngInterestRank': 0.0,\n  'mlEngInterestRank': 0.0,\n  'mlOpsInterestRank': 0.0},\n {'lambdaId': '3uaI3AK2012R7NE3',\n  'name': 'Ethan White',\n  'track': 'Web',\n  'labsProject': 'Test Product - D',\n  'gitExpertise': 5,\n  'dockerExpertise': 2,\n  'playByEar': 3,\n  'detailOriented': 4,\n  'speakUpInDiscussions': 2,\n  'soloOrSocial': 'A',\n  'meaningOrValue': 'B',\n  'feelsRightOrMakesSense': 'B',\n  'favoriteOrCollect': 'B',\n  'tpmSkill1': 'A',\n  'tpmSkill2': 'B',\n  'tpmSkill3': 'A',\n  'tpmInterest1': 3,\n  'tpmInterest2': 3,\n  'tpmInterest3': 2,\n  'tpmInterest4': 1,\n  'uxInterest1': 1,\n  'uxInterest2': 4,\n  'frontendInterest1': 1,\n  'frontendInterest2': 2,\n  'backendInterest1': 4,\n  'backendInterest2': 3,\n  'dataEngInterest1': 0,\n  'dataEngInterest2': 0,\n  'dataEngInterest3': 0,\n  'mlEngInterest1': 0,\n  'mlEngInterest2': 0,\n  'mlEngInterest3': 0,\n  'mlOpsInterest1': 0,\n  'mlOpsInterest2': 0,\n  'mlOpsInterest3': 0,\n  'tpmSkillRank': 0.3333333333333333,\n  'tpmInterestRank': 0.5625,\n  'uxInterestRank': 0.625,\n  'frontendInterestRank': 0.375,\n  'backendInterestRank': 0.875,\n  'dataEngInterestRank': 0,\n  'mlEngInterestRank': 0,\n  'mlOpsInterestRank': 0},\n {'lambdaId': '4GUpL01Jq2R354a1',\n  'name': 'Jacob Ramirez',\n  'track': 'DS',\n  'labsProject': 'Test Product - C',\n  'gitExpertise': 5,\n  'dockerExpertise': 5,\n  'playByEar': 1,\n  'detailOriented': 5,\n  'speakUpInDiscussions': 5,\n  'soloOrSocial': 'A',\n  'meaningOrValue': 'B',\n  'feelsRightOrMakesSense': 'A',\n  'favoriteOrCollect': 'B',\n  'tpmSkill1': 'B',\n  'tpmSkill2': 'B',\n  'tpmSkill3': 'C',\n  'tpmInterest1': 4,\n  'tpmInterest2': 2,\n  'tpmInterest3': 3,\n  'tpmInterest4': 4,\n  'uxInterest1': 0,\n  'uxInterest2': 0,\n  'frontendInterest1': 0,\n  'frontendInterest2': 0,\n  'backendInterest1': 0,\n  'backendInterest2': 0,\n  'dataEngInterest1': 4,\n  'dataEngInterest2': 3,\n  'dataEngInterest3': 2,\n  'mlEngInterest1': 3,\n  'mlEngInterest2': 3,\n  'mlEngInterest3': 3,\n  'mlOpsInterest1': 2,\n  'mlOpsInterest2': 4,\n  'mlOpsInterest3': 2,\n  'tpmSkillRank': 1.0,\n  'tpmInterestRank': 0.8125,\n  'uxInterestRank': 0,\n  'frontendInterestRank': 0,\n  'backendInterestRank': 0,\n  'dataEngInterestRank': 0.75,\n  'mlEngInterestRank': 0.75,\n  'mlOpsInterestRank': 0.6666666666666666},\n {'lambdaId': '8H71MbT5G0p8K46O',\n  'name': 'Scarlett King',\n  'track': 'DS',\n  'labsProject': 'Test Product - B',\n  'gitExpertise': 1,\n  'dockerExpertise': 2,\n  'playByEar': 2,\n  'detailOriented': 1,\n  'speakUpInDiscussions': 3,\n  'soloOrSocial': 'B',\n  'meaningOrValue': 'B',\n  'feelsRightOrMakesSense': 'A',\n  'favoriteOrCollect': 'A',\n  'tpmSkill1': 'A',\n  'tpmSkill2': 'B',\n  'tpmSkill3': 'A',\n  'tpmInterest1': 1,\n  'tpmInterest2': 2,\n  'tpmInterest3': 3,\n  'tpmInterest4': 3,\n  'uxInterest1': 0,\n  'uxInterest2': 0,\n  'frontendInterest1': 0,\n  'frontendInterest2': 0,\n  'backendInterest1': 0,\n  'backendInterest2': 0,\n  'dataEngInterest1': 4,\n  'dataEngInterest2': 1,\n  'dataEngInterest3': 4,\n  'mlEngInterest1': 3,\n  'mlEngInterest2': 1,\n  'mlEngInterest3': 4,\n  'mlOpsInterest1': 1,\n  'mlOpsInterest2': 1,\n  'mlOpsInterest3': 2,\n  'tpmSkillRank': 0.3333333333333333,\n  'tpmInterestRank': 0.5625,\n  'uxInterestRank': 0,\n  'frontendInterestRank': 0,\n  'backendInterestRank': 0,\n  'dataEngInterestRank': 0.75,\n  'mlEngInterestRank': 0.6666666666666666,\n  'mlOpsInterestRank': 0.3333333333333333},\n {'lambdaId': 'RNdbA57eO4L77531',\n  'name': 'Lucas Harris',\n  'track': 'Web',\n  'labsProject': 'Test Product - A',\n  'gitExpertise': 3,\n  'dockerExpertise': 3,\n  'playByEar': 5,\n  'detailOriented': 2,\n  'speakUpInDiscussions': 5,\n  'soloOrSocial': 'A',\n  'meaningOrValue': 'A',\n  'feelsRightOrMakesSense': 'A',\n  'favoriteOrCollect': 'A',\n  'tpmSkill1': 'B',\n  'tpmSkill2': 'B',\n  'tpmSkill3': 'A',\n  'tpmInterest1': 3,\n  'tpmInterest2': 1,\n  'tpmInterest3': 3,\n  'tpmInterest4': 1,\n  'uxInterest1': 2,\n  'uxInterest2': 2,\n  'frontendInterest1': 2,\n  'frontendInterest2': 2,\n  'backendInterest1': 3,\n  'backendInterest2': 1,\n  'dataEngInterest1': 0,\n  'dataEngInterest2': 0,\n  'dataEngInterest3': 0,\n  'mlEngInterest1': 0,\n  'mlEngInterest2': 0,\n  'mlEngInterest3': 0,\n  'mlOpsInterest1': 0,\n  'mlOpsInterest2': 0,\n  'mlOpsInterest3': 0,\n  'tpmSkillRank': 0.6666666666666666,\n  'tpmInterestRank': 0.5,\n  'uxInterestRank': 0.5,\n  'frontendInterestRank': 0.5,\n  'backendInterestRank': 0.5,\n  'dataEngInterestRank': 0,\n  'mlEngInterestRank': 0,\n  'mlOpsInterestRank': 0},\n {'lambdaId': 'U7h0c8ZV1K5e30R3',\n  'name': 'Ellie Johnson',\n  'track': 'DS',\n  'labsProject': 'Test Product - D',\n  'gitExpertise': 4,\n  'dockerExpertise': 3,\n  'playByEar': 1,\n  'detailOriented': 4,\n  'speakUpInDiscussions': 2,\n  'soloOrSocial': 'B',\n  'meaningOrValue': 'B',\n  'feelsRightOrMakesSense': 'B',\n  'favoriteOrCollect': 'B',\n  'tpmSkill1': 'C',\n  'tpmSkill2': 'C',\n  'tpmSkill3': 'A',\n  'tpmInterest1': 1,\n  'tpmInterest2': 1,\n  'tpmInterest3': 1,\n  'tpmInterest4': 4,\n  'uxInterest1': 0,\n  'uxInterest2': 0,\n  'frontendInterest1': 0,\n  'frontendInterest2': 0,\n  'backendInterest1': 0,\n  'backendInterest2': 0,\n  'dataEngInterest1': 1,\n  'dataEngInterest2': 2,\n  'dataEngInterest3': 1,\n  'mlEngInterest1': 4,\n  'mlEngInterest2': 4,\n  'mlEngInterest3': 3,\n  'mlOpsInterest1': 2,\n  'mlOpsInterest2': 2,\n  'mlOpsInterest3': 3,\n  'tpmSkillRank': 0.0,\n  'tpmInterestRank': 0.4375,\n  'uxInterestRank': 0,\n  'frontendInterestRank': 0,\n  'backendInterestRank': 0,\n  'dataEngInterestRank': 0.3333333333333333,\n  'mlEngInterestRank': 0.9166666666666666,\n  'mlOpsInterestRank': 0.5833333333333334},\n {'lambdaId': 'B3k85S56w27qO5Ct',\n  'name': 'Harper Smith',\n  'track': 'Web',\n  'labsProject': 'Test Product - C',\n  'gitExpertise': 3,\n  'dockerExpertise': 5,\n  'playByEar': 2,\n  'detailOriented': 1,\n  'speakUpInDiscussions': 1,\n  'soloOrSocial': 'A',\n  'meaningOrValue': 'B',\n  'feelsRightOrMakesSense': 'A',\n  'favoriteOrCollect': 'B',\n  'tpmSkill1': 'A',\n  'tpmSkill2': 'A',\n  'tpmSkill3': 'C',\n  'tpmInterest1': 3,\n  'tpmInterest2': 1,\n  'tpmInterest3': 4,\n  'tpmInterest4': 1,\n  'uxInterest1': 4,\n  'uxInterest2': 3,\n  'frontendInterest1': 4,\n  'frontendInterest2': 2,\n  'backendInterest1': 1,\n  'backendInterest2': 4,\n  'dataEngInterest1': 0,\n  'dataEngInterest2': 0,\n  'dataEngInterest3': 0,\n  'mlEngInterest1': 0,\n  'mlEngInterest2': 0,\n  'mlEngInterest3': 0,\n  'mlOpsInterest1': 0,\n  'mlOpsInterest2': 0,\n  'mlOpsInterest3': 0,\n  'tpmSkillRank': 0.3333333333333333,\n  'tpmInterestRank': 0.5625,\n  'uxInterestRank': 0.875,\n  'frontendInterestRank': 0.75,\n  'backendInterestRank': 0.625,\n  'dataEngInterestRank': 0,\n  'mlEngInterestRank': 0,\n  'mlOpsInterestRank': 0},\n {'lambdaId': '30XfMbgG46Jv0415',\n  'name': 'Jackson Richardson',\n  'track': 'DS',\n  'labsProject': 'Test Product - B',\n  'gitExpertise': 4,\n  'dockerExpertise': 4,\n  'playByEar': 1,\n  'detailOriented': 5,\n  'speakUpInDiscussions': 4,\n  'soloOrSocial': 'B',\n  'meaningOrValue': 'B',\n  'feelsRightOrMakesSense': 'B',\n  'favoriteOrCollect': 'B',\n  'tpmSkill1': 'C',\n  'tpmSkill2': 'B',\n  'tpmSkill3': 'A',\n  'tpmInterest1': 3,\n  'tpmInterest2': 2,\n  'tpmInterest3': 4,\n  'tpmInterest4': 4,\n  'uxInterest1': 0,\n  'uxInterest2': 0,\n  'frontendInterest1': 0,\n  'frontendInterest2': 0,\n  'backendInterest1': 0,\n  'backendInterest2': 0,\n  'dataEngInterest1': 2,\n  'dataEngInterest2': 1,\n  'dataEngInterest3': 1,\n  'mlEngInterest1': 2,\n  'mlEngInterest2': 4,\n  'mlEngInterest3': 4,\n  'mlOpsInterest1': 1,\n  'mlOpsInterest2': 4,\n  'mlOpsInterest3': 3,\n  'tpmSkillRank': 0.3333333333333333,\n  'tpmInterestRank': 0.8125,\n  'uxInterestRank': 0,\n  'frontendInterestRank': 0,\n  'backendInterestRank': 0,\n  'dataEngInterestRank': 0.3333333333333333,\n  'mlEngInterestRank': 0.8333333333333334,\n  'mlOpsInterestRank': 0.6666666666666666},\n {'lambdaId': '63K584JuPS8cU3b3',\n  'name': 'John Williams',\n  'track': 'Web',\n  'labsProject': 'Test Product - A',\n  'gitExpertise': 3,\n  'dockerExpertise': 1,\n  'playByEar': 5,\n  'detailOriented': 4,\n  'speakUpInDiscussions': 3,\n  'soloOrSocial': 'B',\n  'meaningOrValue': 'B',\n  'feelsRightOrMakesSense': 'B',\n  'favoriteOrCollect': 'B',\n  'tpmSkill1': 'A',\n  'tpmSkill2': 'B',\n  'tpmSkill3': 'B',\n  'tpmInterest1': 3,\n  'tpmInterest2': 3,\n  'tpmInterest3': 1,\n  'tpmInterest4': 2,\n  'uxInterest1': 4,\n  'uxInterest2': 4,\n  'frontendInterest1': 1,\n  'frontendInterest2': 4,\n  'backendInterest1': 4,\n  'backendInterest2': 1,\n  'dataEngInterest1': 0,\n  'dataEngInterest2': 0,\n  'dataEngInterest3': 0,\n  'mlEngInterest1': 0,\n  'mlEngInterest2': 0,\n  'mlEngInterest3': 0,\n  'mlOpsInterest1': 0,\n  'mlOpsInterest2': 0,\n  'mlOpsInterest3': 0,\n  'tpmSkillRank': 0.3333333333333333,\n  'tpmInterestRank': 0.5625,\n  'uxInterestRank': 1.0,\n  'frontendInterestRank': 0.625,\n  'backendInterestRank': 0.625,\n  'dataEngInterestRank': 0,\n  'mlEngInterestRank': 0,\n  'mlOpsInterestRank': 0},\n {'lambdaId': 'ZxeF3J306I2YN075',\n  'name': 'Lucas Jackson',\n  'track': 'Web',\n  'labsProject': 'Test Product - E',\n  'gitExpertise': 4,\n  'dockerExpertise': 4,\n  'playByEar': 4,\n  'detailOriented': 1,\n  'speakUpInDiscussions': 5,\n  'soloOrSocial': 'A',\n  'meaningOrValue': 'A',\n  'feelsRightOrMakesSense': 'A',\n  'favoriteOrCollect': 'B',\n  'tpmSkill1': 'C',\n  'tpmSkill2': 'C',\n  'tpmSkill3': 'A',\n  'tpmInterest1': 2,\n  'tpmInterest2': 3,\n  'tpmInterest3': 4,\n  'tpmInterest4': 1,\n  'uxInterest1': 2,\n  'uxInterest2': 2,\n  'frontendInterest1': 2,\n  'frontendInterest2': 1,\n  'backendInterest1': 2,\n  'backendInterest2': 3,\n  'dataEngInterest1': 0,\n  'dataEngInterest2': 0,\n  'dataEngInterest3': 0,\n  'mlEngInterest1': 0,\n  'mlEngInterest2': 0,\n  'mlEngInterest3': 0,\n  'mlOpsInterest1': 0,\n  'mlOpsInterest2': 0,\n  'mlOpsInterest3': 0,\n  'tpmSkillRank': 0.0,\n  'tpmInterestRank': 0.625,\n  'uxInterestRank': 0.5,\n  'frontendInterestRank': 0.375,\n  'backendInterestRank': 0.625,\n  'dataEngInterestRank': 0,\n  'mlEngInterestRank': 0,\n  'mlOpsInterestRank': 0},\n {'lambdaId': 'C25Xh854S1Wp0Ey4',\n  'name': 'Liam Gonzales',\n  'track': 'Web',\n  'labsProject': 'Test Product - B',\n  'gitExpertise': 2,\n  'dockerExpertise': 4,\n  'playByEar': 5,\n  'detailOriented': 1,\n  'speakUpInDiscussions': 5,\n  'soloOrSocial': 'B',\n  'meaningOrValue': 'B',\n  'feelsRightOrMakesSense': 'A',\n  'favoriteOrCollect': 'A',\n  'tpmSkill1': 'A',\n  'tpmSkill2': 'A',\n  'tpmSkill3': 'C',\n  'tpmInterest1': 2,\n  'tpmInterest2': 3,\n  'tpmInterest3': 4,\n  'tpmInterest4': 3,\n  'uxInterest1': 4,\n  'uxInterest2': 4,\n  'frontendInterest1': 3,\n  'frontendInterest2': 4,\n  'backendInterest1': 4,\n  'backendInterest2': 3,\n  'dataEngInterest1': 0,\n  'dataEngInterest2': 0,\n  'dataEngInterest3': 0,\n  'mlEngInterest1': 0,\n  'mlEngInterest2': 0,\n  'mlEngInterest3': 0,\n  'mlOpsInterest1': 0,\n  'mlOpsInterest2': 0,\n  'mlOpsInterest3': 0,\n  'tpmSkillRank': 0.3333333333333333,\n  'tpmInterestRank': 0.75,\n  'uxInterestRank': 1.0,\n  'frontendInterestRank': 0.875,\n  'backendInterestRank': 0.875,\n  'dataEngInterestRank': 0,\n  'mlEngInterestRank': 0,\n  'mlOpsInterestRank': 0},\n {'lambdaId': '5xF2TK71Y1Jc2Q88',\n  'name': 'Luna Watson',\n  'track': 'DS',\n  'labsProject': 'Test Product - D',\n  'gitExpertise': 4,\n  'dockerExpertise': 2,\n  'playByEar': 1,\n  'detailOriented': 5,\n  'speakUpInDiscussions': 2,\n  'soloOrSocial': 'B',\n  'meaningOrValue': 'A',\n  'feelsRightOrMakesSense': 'A',\n  'favoriteOrCollect': 'B',\n  'tpmSkill1': 'B',\n  'tpmSkill2': 'C',\n  'tpmSkill3': 'A',\n  'tpmInterest1': 3,\n  'tpmInterest2': 2,\n  'tpmInterest3': 3,\n  'tpmInterest4': 3,\n  'uxInterest1': 0,\n  'uxInterest2': 0,\n  'frontendInterest1': 0,\n  'frontendInterest2': 0,\n  'backendInterest1': 0,\n  'backendInterest2': 0,\n  'dataEngInterest1': 4,\n  'dataEngInterest2': 1,\n  'dataEngInterest3': 3,\n  'mlEngInterest1': 3,\n  'mlEngInterest2': 1,\n  'mlEngInterest3': 3,\n  'mlOpsInterest1': 1,\n  'mlOpsInterest2': 2,\n  'mlOpsInterest3': 2,\n  'tpmSkillRank': 0.3333333333333333,\n  'tpmInterestRank': 0.6875,\n  'uxInterestRank': 0,\n  'frontendInterestRank': 0,\n  'backendInterestRank': 0,\n  'dataEngInterestRank': 0.6666666666666666,\n  'mlEngInterestRank': 0.5833333333333334,\n  'mlOpsInterestRank': 0.4166666666666667},\n {'lambdaId': 'ET8Jh348521QI3ru',\n  'name': 'Daniel Hill',\n  'track': 'DS',\n  'labsProject': 'Test Product - D',\n  'gitExpertise': 1,\n  'dockerExpertise': 5,\n  'playByEar': 4,\n  'detailOriented': 2,\n  'speakUpInDiscussions': 4,\n  'soloOrSocial': 'A',\n  'meaningOrValue': 'B',\n  'feelsRightOrMakesSense': 'B',\n  'favoriteOrCollect': 'B',\n  'tpmSkill1': 'B',\n  'tpmSkill2': 'B',\n  'tpmSkill3': 'A',\n  'tpmInterest1': 4,\n  'tpmInterest2': 1,\n  'tpmInterest3': 2,\n  'tpmInterest4': 4,\n  'uxInterest1': 0,\n  'uxInterest2': 0,\n  'frontendInterest1': 0,\n  'frontendInterest2': 0,\n  'backendInterest1': 0,\n  'backendInterest2': 0,\n  'dataEngInterest1': 2,\n  'dataEngInterest2': 2,\n  'dataEngInterest3': 4,\n  'mlEngInterest1': 2,\n  'mlEngInterest2': 4,\n  'mlEngInterest3': 4,\n  'mlOpsInterest1': 1,\n  'mlOpsInterest2': 3,\n  'mlOpsInterest3': 3,\n  'tpmSkillRank': 0.6666666666666666,\n  'tpmInterestRank': 0.6875,\n  'uxInterestRank': 0,\n  'frontendInterestRank': 0,\n  'backendInterestRank': 0,\n  'dataEngInterestRank': 0.6666666666666666,\n  'mlEngInterestRank': 0.8333333333333334,\n  'mlOpsInterestRank': 0.5833333333333334},\n {'lambdaId': 'ee16ak37l0Q8C57I',\n  'name': 'Jack Ramirez',\n  'track': 'Web',\n  'labsProject': 'Test Product - C',\n  'gitExpertise': 4,\n  'dockerExpertise': 3,\n  'playByEar': 4,\n  'detailOriented': 5,\n  'speakUpInDiscussions': 2,\n  'soloOrSocial': 'A',\n  'meaningOrValue': 'A',\n  'feelsRightOrMakesSense': 'A',\n  'favoriteOrCollect': 'A',\n  'tpmSkill1': 'B',\n  'tpmSkill2': 'A',\n  'tpmSkill3': 'C',\n  'tpmInterest1': 3,\n  'tpmInterest2': 1,\n  'tpmInterest3': 3,\n  'tpmInterest4': 4,\n  'uxInterest1': 2,\n  'uxInterest2': 4,\n  'frontendInterest1': 3,\n  'frontendInterest2': 4,\n  'backendInterest1': 1,\n  'backendInterest2': 3,\n  'dataEngInterest1': 0,\n  'dataEngInterest2': 0,\n  'dataEngInterest3': 0,\n  'mlEngInterest1': 0,\n  'mlEngInterest2': 0,\n  'mlEngInterest3': 0,\n  'mlOpsInterest1': 0,\n  'mlOpsInterest2': 0,\n  'mlOpsInterest3': 0,\n  'tpmSkillRank': 0.6666666666666666,\n  'tpmInterestRank': 0.6875,\n  'uxInterestRank': 0.75,\n  'frontendInterestRank': 0.875,\n  'backendInterestRank': 0.5,\n  'dataEngInterestRank': 0,\n  'mlEngInterestRank': 0,\n  'mlOpsInterestRank': 0},\n {'lambdaId': '2Y3XqSB5578kY6e4',\n  'name': 'Grace Young',\n  'track': 'DS',\n  'labsProject': 'Test Product - B',\n  'gitExpertise': 5,\n  'dockerExpertise': 2,\n  'playByEar': 1,\n  'detailOriented': 2,\n  'speakUpInDiscussions': 3,\n  'soloOrSocial': 'A',\n  'meaningOrValue': 'A',\n  'feelsRightOrMakesSense': 'B',\n  'favoriteOrCollect': 'A',\n  'tpmSkill1': 'A',\n  'tpmSkill2': 'A',\n  'tpmSkill3': 'B',\n  'tpmInterest1': 4,\n  'tpmInterest2': 3,\n  'tpmInterest3': 4,\n  'tpmInterest4': 4,\n  'uxInterest1': 0,\n  'uxInterest2': 0,\n  'frontendInterest1': 0,\n  'frontendInterest2': 0,\n  'backendInterest1': 0,\n  'backendInterest2': 0,\n  'dataEngInterest1': 1,\n  'dataEngInterest2': 3,\n  'dataEngInterest3': 3,\n  'mlEngInterest1': 4,\n  'mlEngInterest2': 1,\n  'mlEngInterest3': 2,\n  'mlOpsInterest1': 1,\n  'mlOpsInterest2': 3,\n  'mlOpsInterest3': 1,\n  'tpmSkillRank': 0.0,\n  'tpmInterestRank': 0.9375,\n  'uxInterestRank': 0,\n  'frontendInterestRank': 0,\n  'backendInterestRank': 0,\n  'dataEngInterestRank': 0.5833333333333334,\n  'mlEngInterestRank': 0.5833333333333334,\n  'mlOpsInterestRank': 0.4166666666666667},\n {'lambdaId': '5CLmeBU51d0P5428',\n  'name': 'Avery Sanchez',\n  'track': 'Web',\n  'labsProject': 'Test Product - A',\n  'gitExpertise': 2,\n  'dockerExpertise': 3,\n  'playByEar': 4,\n  'detailOriented': 1,\n  'speakUpInDiscussions': 2,\n  'soloOrSocial': 'B',\n  'meaningOrValue': 'B',\n  'feelsRightOrMakesSense': 'B',\n  'favoriteOrCollect': 'A',\n  'tpmSkill1': 'A',\n  'tpmSkill2': 'B',\n  'tpmSkill3': 'B',\n  'tpmInterest1': 4,\n  'tpmInterest2': 1,\n  'tpmInterest3': 3,\n  'tpmInterest4': 4,\n  'uxInterest1': 1,\n  'uxInterest2': 1,\n  'frontendInterest1': 2,\n  'frontendInterest2': 3,\n  'backendInterest1': 4,\n  'backendInterest2': 1,\n  'dataEngInterest1': 0,\n  'dataEngInterest2': 0,\n  'dataEngInterest3': 0,\n  'mlEngInterest1': 0,\n  'mlEngInterest2': 0,\n  'mlEngInterest3': 0,\n  'mlOpsInterest1': 0,\n  'mlOpsInterest2': 0,\n  'mlOpsInterest3': 0,\n  'tpmSkillRank': 0.3333333333333333,\n  'tpmInterestRank': 0.75,\n  'uxInterestRank': 0.25,\n  'frontendInterestRank': 0.625,\n  'backendInterestRank': 0.625,\n  'dataEngInterestRank': 0,\n  'mlEngInterestRank': 0,\n  'mlOpsInterestRank': 0},\n {'lambdaId': '80jIZo0fl0027uG6',\n  'name': 'Abigail Jones',\n  'track': 'Web',\n  'labsProject': 'Test Product - E',\n  'gitExpertise': 1,\n  'dockerExpertise': 3,\n  'playByEar': 5,\n  'detailOriented': 2,\n  'speakUpInDiscussions': 3,\n  'soloOrSocial': 'B',\n  'meaningOrValue': 'A',\n  'feelsRightOrMakesSense': 'B',\n  'favoriteOrCollect': 'B',\n  'tpmSkill1': 'C',\n  'tpmSkill2': 'C',\n  'tpmSkill3': 'B',\n  'tpmInterest1': 4,\n  'tpmInterest2': 3,\n  'tpmInterest3': 1,\n  'tpmInterest4': 4,\n  'uxInterest1': 2,\n  'uxInterest2': 3,\n  'frontendInterest1': 1,\n  'frontendInterest2': 1,\n  'backendInterest1': 2,\n  'backendInterest2': 3,\n  'dataEngInterest1': 0,\n  'dataEngInterest2': 0,\n  'dataEngInterest3': 0,\n  'mlEngInterest1': 0,\n  'mlEngInterest2': 0,\n  'mlEngInterest3': 0,\n  'mlOpsInterest1': 0,\n  'mlOpsInterest2': 0,\n  'mlOpsInterest3': 0,\n  'tpmSkillRank': 0.0,\n  'tpmInterestRank': 0.75,\n  'uxInterestRank': 0.625,\n  'frontendInterestRank': 0.25,\n  'backendInterestRank': 0.625,\n  'dataEngInterestRank': 0,\n  'mlEngInterestRank': 0,\n  'mlOpsInterestRank': 0},\n {'lambdaId': 'Co132j16a11qA8Sc',\n  'name': 'Aiden Campbell',\n  'track': 'Web',\n  'labsProject': 'Test Product - D',\n  'gitExpertise': 2,\n  'dockerExpertise': 3,\n  'playByEar': 1,\n  'detailOriented': 1,\n  'speakUpInDiscussions': 5,\n  'soloOrSocial': 'B',\n  'meaningOrValue': 'A',\n  'feelsRightOrMakesSense': 'A',\n  'favoriteOrCollect': 'B',\n  'tpmSkill1': 'B',\n  'tpmSkill2': 'B',\n  'tpmSkill3': 'B',\n  'tpmInterest1': 2,\n  'tpmInterest2': 3,\n  'tpmInterest3': 2,\n  'tpmInterest4': 2,\n  'uxInterest1': 1,\n  'uxInterest2': 3,\n  'frontendInterest1': 3,\n  'frontendInterest2': 2,\n  'backendInterest1': 4,\n  'backendInterest2': 3,\n  'dataEngInterest1': 0,\n  'dataEngInterest2': 0,\n  'dataEngInterest3': 0,\n  'mlEngInterest1': 0,\n  'mlEngInterest2': 0,\n  'mlEngInterest3': 0,\n  'mlOpsInterest1': 0,\n  'mlOpsInterest2': 0,\n  'mlOpsInterest3': 0,\n  'tpmSkillRank': 0.6666666666666666,\n  'tpmInterestRank': 0.5625,\n  'uxInterestRank': 0.5,\n  'frontendInterestRank': 0.625,\n  'backendInterestRank': 0.875,\n  'dataEngInterestRank': 0,\n  'mlEngInterestRank': 0,\n  'mlOpsInterestRank': 0},\n {'lambdaId': 'kp5BX7i6A7Y8078j',\n  'name': 'Olivia Clark',\n  'track': 'DS',\n  'labsProject': 'Test Product - C',\n  'gitExpertise': 5,\n  'dockerExpertise': 2,\n  'playByEar': 5,\n  'detailOriented': 4,\n  'speakUpInDiscussions': 3,\n  'soloOrSocial': 'B',\n  'meaningOrValue': 'B',\n  'feelsRightOrMakesSense': 'A',\n  'favoriteOrCollect': 'B',\n  'tpmSkill1': 'B',\n  'tpmSkill2': 'B',\n  'tpmSkill3': 'C',\n  'tpmInterest1': 4,\n  'tpmInterest2': 1,\n  'tpmInterest3': 2,\n  'tpmInterest4': 1,\n  'uxInterest1': 0,\n  'uxInterest2': 0,\n  'frontendInterest1': 0,\n  'frontendInterest2': 0,\n  'backendInterest1': 0,\n  'backendInterest2': 0,\n  'dataEngInterest1': 4,\n  'dataEngInterest2': 3,\n  'dataEngInterest3': 1,\n  'mlEngInterest1': 4,\n  'mlEngInterest2': 3,\n  'mlEngInterest3': 1,\n  'mlOpsInterest1': 3,\n  'mlOpsInterest2': 4,\n  'mlOpsInterest3': 3,\n  'tpmSkillRank': 1.0,\n  'tpmInterestRank': 0.5,\n  'uxInterestRank': 0,\n  'frontendInterestRank': 0,\n  'backendInterestRank': 0,\n  'dataEngInterestRank': 0.6666666666666666,\n  'mlEngInterestRank': 0.6666666666666666,\n  'mlOpsInterestRank': 0.8333333333333334},\n {'lambdaId': 'mXK87l76b2dy44W6',\n  'name': 'Oliver Smith',\n  'track': 'Web',\n  'labsProject': 'Test Product - B',\n  'gitExpertise': 1,\n  'dockerExpertise': 5,\n  'playByEar': 2,\n  'detailOriented': 5,\n  'speakUpInDiscussions': 1,\n  'soloOrSocial': 'A',\n  'meaningOrValue': 'A',\n  'feelsRightOrMakesSense': 'A',\n  'favoriteOrCollect': 'B',\n  'tpmSkill1': 'C',\n  'tpmSkill2': 'C',\n  'tpmSkill3': 'B',\n  'tpmInterest1': 2,\n  'tpmInterest2': 3,\n  'tpmInterest3': 4,\n  'tpmInterest4': 2,\n  'uxInterest1': 4,\n  'uxInterest2': 2,\n  'frontendInterest1': 4,\n  'frontendInterest2': 1,\n  'backendInterest1': 2,\n  'backendInterest2': 4,\n  'dataEngInterest1': 0,\n  'dataEngInterest2': 0,\n  'dataEngInterest3': 0,\n  'mlEngInterest1': 0,\n  'mlEngInterest2': 0,\n  'mlEngInterest3': 0,\n  'mlOpsInterest1': 0,\n  'mlOpsInterest2': 0,\n  'mlOpsInterest3': 0,\n  'tpmSkillRank': 0.0,\n  'tpmInterestRank': 0.6875,\n  'uxInterestRank': 0.75,\n  'frontendInterestRank': 0.625,\n  'backendInterestRank': 0.75,\n  'dataEngInterestRank': 0,\n  'mlEngInterestRank': 0,\n  'mlOpsInterestRank': 0},\n {'lambdaId': 'MbPw43707u7LTh58',\n  'name': 'Layla Miller',\n  'track': 'Web',\n  'labsProject': 'Test Product - A',\n  'gitExpertise': 2,\n  'dockerExpertise': 5,\n  'playByEar': 2,\n  'detailOriented': 5,\n  'speakUpInDiscussions': 4,\n  'soloOrSocial': 'B',\n  'meaningOrValue': 'B',\n  'feelsRightOrMakesSense': 'B',\n  'favoriteOrCollect': 'A',\n  'tpmSkill1': 'A',\n  'tpmSkill2': 'A',\n  'tpmSkill3': 'B',\n  'tpmInterest1': 1,\n  'tpmInterest2': 3,\n  'tpmInterest3': 1,\n  'tpmInterest4': 1,\n  'uxInterest1': 2,\n  'uxInterest2': 2,\n  'frontendInterest1': 2,\n  'frontendInterest2': 4,\n  'backendInterest1': 4,\n  'backendInterest2': 3,\n  'dataEngInterest1': 0,\n  'dataEngInterest2': 0,\n  'dataEngInterest3': 0,\n  'mlEngInterest1': 0,\n  'mlEngInterest2': 0,\n  'mlEngInterest3': 0,\n  'mlOpsInterest1': 0,\n  'mlOpsInterest2': 0,\n  'mlOpsInterest3': 0,\n  'tpmSkillRank': 0.0,\n  'tpmInterestRank': 0.375,\n  'uxInterestRank': 0.5,\n  'frontendInterestRank': 0.75,\n  'backendInterestRank': 0.875,\n  'dataEngInterestRank': 0,\n  'mlEngInterestRank': 0,\n  'mlOpsInterestRank': 0},\n {'lambdaId': 'mx00yY6P065x56uT',\n  'name': 'Ava Rivera',\n  'track': 'Web',\n  'labsProject': 'Test Product - E',\n  'gitExpertise': 5,\n  'dockerExpertise': 3,\n  'playByEar': 5,\n  'detailOriented': 1,\n  'speakUpInDiscussions': 1,\n  'soloOrSocial': 'B',\n  'meaningOrValue': 'B',\n  'feelsRightOrMakesSense': 'B',\n  'favoriteOrCollect': 'B',\n  'tpmSkill1': 'A',\n  'tpmSkill2': 'A',\n  'tpmSkill3': 'B',\n  'tpmInterest1': 4,\n  'tpmInterest2': 1,\n  'tpmInterest3': 4,\n  'tpmInterest4': 2,\n  'uxInterest1': 3,\n  'uxInterest2': 1,\n  'frontendInterest1': 1,\n  'frontendInterest2': 4,\n  'backendInterest1': 4,\n  'backendInterest2': 1,\n  'dataEngInterest1': 0,\n  'dataEngInterest2': 0,\n  'dataEngInterest3': 0,\n  'mlEngInterest1': 0,\n  'mlEngInterest2': 0,\n  'mlEngInterest3': 0,\n  'mlOpsInterest1': 0,\n  'mlOpsInterest2': 0,\n  'mlOpsInterest3': 0,\n  'tpmSkillRank': 0.0,\n  'tpmInterestRank': 0.6875,\n  'uxInterestRank': 0.5,\n  'frontendInterestRank': 0.625,\n  'backendInterestRank': 0.625,\n  'dataEngInterestRank': 0,\n  'mlEngInterestRank': 0,\n  'mlOpsInterestRank': 0},\n {'lambdaId': 'X364WS7aIj18T36n',\n  'name': 'Henry Thomas',\n  'track': 'DS',\n  'labsProject': 'Test Product - D',\n  'gitExpertise': 4,\n  'dockerExpertise': 2,\n  'playByEar': 1,\n  'detailOriented': 2,\n  'speakUpInDiscussions': 1,\n  'soloOrSocial': 'A',\n  'meaningOrValue': 'A',\n  'feelsRightOrMakesSense': 'B',\n  'favoriteOrCollect': 'B',\n  'tpmSkill1': 'C',\n  'tpmSkill2': 'C',\n  'tpmSkill3': 'A',\n  'tpmInterest1': 2,\n  'tpmInterest2': 3,\n  'tpmInterest3': 3,\n  'tpmInterest4': 4,\n  'uxInterest1': 0,\n  'uxInterest2': 0,\n  'frontendInterest1': 0,\n  'frontendInterest2': 0,\n  'backendInterest1': 0,\n  'backendInterest2': 0,\n  'dataEngInterest1': 3,\n  'dataEngInterest2': 3,\n  'dataEngInterest3': 1,\n  'mlEngInterest1': 1,\n  'mlEngInterest2': 2,\n  'mlEngInterest3': 4,\n  'mlOpsInterest1': 3,\n  'mlOpsInterest2': 2,\n  'mlOpsInterest3': 4,\n  'tpmSkillRank': 0.0,\n  'tpmInterestRank': 0.75,\n  'uxInterestRank': 0,\n  'frontendInterestRank': 0,\n  'backendInterestRank': 0,\n  'dataEngInterestRank': 0.5833333333333334,\n  'mlEngInterestRank': 0.5833333333333334,\n  'mlOpsInterestRank': 0.75},\n {'lambdaId': '508Fbg4BJ7y75Xc0',\n  'name': 'Levi James',\n  'track': 'DS',\n  'labsProject': 'Test Product - C',\n  'gitExpertise': 3,\n  'dockerExpertise': 4,\n  'playByEar': 1,\n  'detailOriented': 3,\n  'speakUpInDiscussions': 4,\n  'soloOrSocial': 'A',\n  'meaningOrValue': 'A',\n  'feelsRightOrMakesSense': 'A',\n  'favoriteOrCollect': 'A',\n  'tpmSkill1': 'C',\n  'tpmSkill2': 'B',\n  'tpmSkill3': 'C',\n  'tpmInterest1': 2,\n  'tpmInterest2': 3,\n  'tpmInterest3': 3,\n  'tpmInterest4': 3,\n  'uxInterest1': 0,\n  'uxInterest2': 0,\n  'frontendInterest1': 0,\n  'frontendInterest2': 0,\n  'backendInterest1': 0,\n  'backendInterest2': 0,\n  'dataEngInterest1': 2,\n  'dataEngInterest2': 3,\n  'dataEngInterest3': 2,\n  'mlEngInterest1': 1,\n  'mlEngInterest2': 4,\n  'mlEngInterest3': 4,\n  'mlOpsInterest1': 1,\n  'mlOpsInterest2': 3,\n  'mlOpsInterest3': 1,\n  'tpmSkillRank': 0.6666666666666666,\n  'tpmInterestRank': 0.6875,\n  'uxInterestRank': 0,\n  'frontendInterestRank': 0,\n  'backendInterestRank': 0,\n  'dataEngInterestRank': 0.5833333333333334,\n  'mlEngInterestRank': 0.75,\n  'mlOpsInterestRank': 0.4166666666666667},\n {'lambdaId': 'f1326W8lK5gX62Yl',\n  'name': 'Scarlett Lee',\n  'track': 'Web',\n  'labsProject': 'Test Product - B',\n  'gitExpertise': 3,\n  'dockerExpertise': 1,\n  'playByEar': 4,\n  'detailOriented': 4,\n  'speakUpInDiscussions': 4,\n  'soloOrSocial': 'B',\n  'meaningOrValue': 'B',\n  'feelsRightOrMakesSense': 'B',\n  'favoriteOrCollect': 'A',\n  'tpmSkill1': 'C',\n  'tpmSkill2': 'C',\n  'tpmSkill3': 'A',\n  'tpmInterest1': 2,\n  'tpmInterest2': 2,\n  'tpmInterest3': 1,\n  'tpmInterest4': 2,\n  'uxInterest1': 3,\n  'uxInterest2': 1,\n  'frontendInterest1': 2,\n  'frontendInterest2': 1,\n  'backendInterest1': 1,\n  'backendInterest2': 3,\n  'dataEngInterest1': 0,\n  'dataEngInterest2': 0,\n  'dataEngInterest3': 0,\n  'mlEngInterest1': 0,\n  'mlEngInterest2': 0,\n  'mlEngInterest3': 0,\n  'mlOpsInterest1': 0,\n  'mlOpsInterest2': 0,\n  'mlOpsInterest3': 0,\n  'tpmSkillRank': 0.0,\n  'tpmInterestRank': 0.4375,\n  'uxInterestRank': 0.5,\n  'frontendInterestRank': 0.375,\n  'backendInterestRank': 0.5,\n  'dataEngInterestRank': 0,\n  'mlEngInterestRank': 0,\n  'mlOpsInterestRank': 0},\n {'lambdaId': '2W467KLmk05j14Is',\n  'name': 'James White',\n  'track': 'DS',\n  'labsProject': 'Test Product - B',\n  'gitExpertise': 5,\n  'dockerExpertise': 1,\n  'playByEar': 5,\n  'detailOriented': 2,\n  'speakUpInDiscussions': 2,\n  'soloOrSocial': 'B',\n  'meaningOrValue': 'A',\n  'feelsRightOrMakesSense': 'A',\n  'favoriteOrCollect': 'B',\n  'tpmSkill1': 'A',\n  'tpmSkill2': 'C',\n  'tpmSkill3': 'B',\n  'tpmInterest1': 1,\n  'tpmInterest2': 1,\n  'tpmInterest3': 1,\n  'tpmInterest4': 3,\n  'uxInterest1': 0,\n  'uxInterest2': 0,\n  'frontendInterest1': 0,\n  'frontendInterest2': 0,\n  'backendInterest1': 0,\n  'backendInterest2': 0,\n  'dataEngInterest1': 1,\n  'dataEngInterest2': 3,\n  'dataEngInterest3': 3,\n  'mlEngInterest1': 4,\n  'mlEngInterest2': 4,\n  'mlEngInterest3': 4,\n  'mlOpsInterest1': 2,\n  'mlOpsInterest2': 2,\n  'mlOpsInterest3': 1,\n  'tpmSkillRank': 0.0,\n  'tpmInterestRank': 0.375,\n  'uxInterestRank': 0,\n  'frontendInterestRank': 0,\n  'backendInterestRank': 0,\n  'dataEngInterestRank': 0.5833333333333334,\n  'mlEngInterestRank': 1.0,\n  'mlOpsInterestRank': 0.4166666666666667},\n {'lambdaId': '71eplf517Tm84a5F',\n  'name': 'Evelyn Taylor',\n  'track': 'Web',\n  'labsProject': 'Test Product - A',\n  'gitExpertise': 2,\n  'dockerExpertise': 5,\n  'playByEar': 1,\n  'detailOriented': 4,\n  'speakUpInDiscussions': 2,\n  'soloOrSocial': 'B',\n  'meaningOrValue': 'A',\n  'feelsRightOrMakesSense': 'A',\n  'favoriteOrCollect': 'A',\n  'tpmSkill1': 'B',\n  'tpmSkill2': 'C',\n  'tpmSkill3': 'A',\n  'tpmInterest1': 1,\n  'tpmInterest2': 3,\n  'tpmInterest3': 4,\n  'tpmInterest4': 4,\n  'uxInterest1': 2,\n  'uxInterest2': 3,\n  'frontendInterest1': 1,\n  'frontendInterest2': 2,\n  'backendInterest1': 1,\n  'backendInterest2': 2,\n  'dataEngInterest1': 0,\n  'dataEngInterest2': 0,\n  'dataEngInterest3': 0,\n  'mlEngInterest1': 0,\n  'mlEngInterest2': 0,\n  'mlEngInterest3': 0,\n  'mlOpsInterest1': 0,\n  'mlOpsInterest2': 0,\n  'mlOpsInterest3': 0,\n  'tpmSkillRank': 0.3333333333333333,\n  'tpmInterestRank': 0.75,\n  'uxInterestRank': 0.625,\n  'frontendInterestRank': 0.375,\n  'backendInterestRank': 0.375,\n  'dataEngInterestRank': 0,\n  'mlEngInterestRank': 0,\n  'mlOpsInterestRank': 0},\n {'lambdaId': 'j7H61724PXGm34OF',\n  'name': 'Avery Gonzales',\n  'track': 'DS',\n  'labsProject': 'Test Product - B',\n  'gitExpertise': 3,\n  'dockerExpertise': 3,\n  'playByEar': 2,\n  'detailOriented': 4,\n  'speakUpInDiscussions': 1,\n  'soloOrSocial': 'A',\n  'meaningOrValue': 'A',\n  'feelsRightOrMakesSense': 'A',\n  'favoriteOrCollect': 'B',\n  'tpmSkill1': 'B',\n  'tpmSkill2': 'C',\n  'tpmSkill3': 'C',\n  'tpmInterest1': 3,\n  'tpmInterest2': 3,\n  'tpmInterest3': 3,\n  'tpmInterest4': 1,\n  'uxInterest1': 0,\n  'uxInterest2': 0,\n  'frontendInterest1': 0,\n  'frontendInterest2': 0,\n  'backendInterest1': 0,\n  'backendInterest2': 0,\n  'dataEngInterest1': 2,\n  'dataEngInterest2': 4,\n  'dataEngInterest3': 2,\n  'mlEngInterest1': 4,\n  'mlEngInterest2': 4,\n  'mlEngInterest3': 1,\n  'mlOpsInterest1': 2,\n  'mlOpsInterest2': 1,\n  'mlOpsInterest3': 3,\n  'tpmSkillRank': 0.6666666666666666,\n  'tpmInterestRank': 0.625,\n  'uxInterestRank': 0,\n  'frontendInterestRank': 0,\n  'backendInterestRank': 0,\n  'dataEngInterestRank': 0.6666666666666666,\n  'mlEngInterestRank': 0.75,\n  'mlOpsInterestRank': 0.5},\n {'lambdaId': '3Nxxo8w57346Bw7p',\n  'name': 'Jacob Brown',\n  'track': 'Web',\n  'labsProject': 'Test Product - A',\n  'gitExpertise': 1,\n  'dockerExpertise': 4,\n  'playByEar': 2,\n  'detailOriented': 5,\n  'speakUpInDiscussions': 3,\n  'soloOrSocial': 'B',\n  'meaningOrValue': 'A',\n  'feelsRightOrMakesSense': 'A',\n  'favoriteOrCollect': 'B',\n  'tpmSkill1': 'A',\n  'tpmSkill2': 'C',\n  'tpmSkill3': 'A',\n  'tpmInterest1': 1,\n  'tpmInterest2': 1,\n  'tpmInterest3': 2,\n  'tpmInterest4': 4,\n  'uxInterest1': 4,\n  'uxInterest2': 2,\n  'frontendInterest1': 2,\n  'frontendInterest2': 4,\n  'backendInterest1': 2,\n  'backendInterest2': 4,\n  'dataEngInterest1': 0,\n  'dataEngInterest2': 0,\n  'dataEngInterest3': 0,\n  'mlEngInterest1': 0,\n  'mlEngInterest2': 0,\n  'mlEngInterest3': 0,\n  'mlOpsInterest1': 0,\n  'mlOpsInterest2': 0,\n  'mlOpsInterest3': 0,\n  'tpmSkillRank': 0.0,\n  'tpmInterestRank': 0.5,\n  'uxInterestRank': 0.75,\n  'frontendInterestRank': 0.75,\n  'backendInterestRank': 0.75,\n  'dataEngInterestRank': 0,\n  'mlEngInterestRank': 0,\n  'mlOpsInterestRank': 0},\n {'lambdaId': 'q7C35e2x17qbne50',\n  'name': 'Theodore Robinson',\n  'track': 'Web',\n  'labsProject': 'Test Product - C',\n  'gitExpertise': 4,\n  'dockerExpertise': 5,\n  'playByEar': 2,\n  'detailOriented': 4,\n  'speakUpInDiscussions': 5,\n  'soloOrSocial': 'A',\n  'meaningOrValue': 'B',\n  'feelsRightOrMakesSense': 'A',\n  'favoriteOrCollect': 'B',\n  'tpmSkill1': 'B',\n  'tpmSkill2': 'A',\n  'tpmSkill3': 'A',\n  'tpmInterest1': 2,\n  'tpmInterest2': 2,\n  'tpmInterest3': 4,\n  'tpmInterest4': 1,\n  'uxInterest1': 2,\n  'uxInterest2': 3,\n  'frontendInterest1': 4,\n  'frontendInterest2': 1,\n  'backendInterest1': 3,\n  'backendInterest2': 2,\n  'dataEngInterest1': 0,\n  'dataEngInterest2': 0,\n  'dataEngInterest3': 0,\n  'mlEngInterest1': 0,\n  'mlEngInterest2': 0,\n  'mlEngInterest3': 0,\n  'mlOpsInterest1': 0,\n  'mlOpsInterest2': 0,\n  'mlOpsInterest3': 0,\n  'tpmSkillRank': 0.3333333333333333,\n  'tpmInterestRank': 0.5625,\n  'uxInterestRank': 0.625,\n  'frontendInterestRank': 0.625,\n  'backendInterestRank': 0.625,\n  'dataEngInterestRank': 0,\n  'mlEngInterestRank': 0,\n  'mlOpsInterestRank': 0},\n {'lambdaId': 'TUIuLd016363R5o7',\n  'name': 'Layla Nelson',\n  'track': 'Web',\n  'labsProject': 'Test Product - E',\n  'gitExpertise': 1,\n  'dockerExpertise': 2,\n  'playByEar': 2,\n  'detailOriented': 3,\n  'speakUpInDiscussions': 2,\n  'soloOrSocial': 'B',\n  'meaningOrValue': 'B',\n  'feelsRightOrMakesSense': 'A',\n  'favoriteOrCollect': 'A',\n  'tpmSkill1': 'A',\n  'tpmSkill2': 'B',\n  'tpmSkill3': 'B',\n  'tpmInterest1': 2,\n  'tpmInterest2': 4,\n  'tpmInterest3': 2,\n  'tpmInterest4': 2,\n  'uxInterest1': 1,\n  'uxInterest2': 4,\n  'frontendInterest1': 4,\n  'frontendInterest2': 1,\n  'backendInterest1': 4,\n  'backendInterest2': 4,\n  'dataEngInterest1': 0,\n  'dataEngInterest2': 0,\n  'dataEngInterest3': 0,\n  'mlEngInterest1': 0,\n  'mlEngInterest2': 0,\n  'mlEngInterest3': 0,\n  'mlOpsInterest1': 0,\n  'mlOpsInterest2': 0,\n  'mlOpsInterest3': 0,\n  'tpmSkillRank': 0.3333333333333333,\n  'tpmInterestRank': 0.625,\n  'uxInterestRank': 0.625,\n  'frontendInterestRank': 0.625,\n  'backendInterestRank': 1.0,\n  'dataEngInterestRank': 0,\n  'mlEngInterestRank': 0,\n  'mlOpsInterestRank': 0},\n {'lambdaId': 'vd14W6L3735d6Idx',\n  'name': 'Wyatt Campbell',\n  'track': 'BD',\n  'labsProject': 'Test Product - E',\n  'gitExpertise': 1,\n  'dockerExpertise': 2,\n  'playByEar': 3,\n  'detailOriented': 5,\n  'speakUpInDiscussions': 1,\n  'soloOrSocial': 'B',\n  'meaningOrValue': 'B',\n  'feelsRightOrMakesSense': 'B',\n  'favoriteOrCollect': 'A',\n  'tpmSkill1': 'B',\n  'tpmSkill2': 'C',\n  'tpmSkill3': 'C',\n  'tpmInterest1': 4,\n  'tpmInterest2': 2,\n  'tpmInterest3': 4,\n  'tpmInterest4': 4,\n  'uxInterest1': 0,\n  'uxInterest2': 0,\n  'frontendInterest1': 0,\n  'frontendInterest2': 0,\n  'backendInterest1': 0,\n  'backendInterest2': 0,\n  'dataEngInterest1': 0,\n  'dataEngInterest2': 0,\n  'dataEngInterest3': 0,\n  'mlEngInterest1': 0,\n  'mlEngInterest2': 0,\n  'mlEngInterest3': 0,\n  'mlOpsInterest1': 0,\n  'mlOpsInterest2': 0,\n  'mlOpsInterest3': 0,\n  'tpmSkillRank': 0.6666666666666666,\n  'tpmInterestRank': 0.875,\n  'uxInterestRank': 0.0,\n  'frontendInterestRank': 0.0,\n  'backendInterestRank': 0.0,\n  'dataEngInterestRank': 0.0,\n  'mlEngInterestRank': 0.0,\n  'mlOpsInterestRank': 0.0},\n {'lambdaId': '0y81B635p2dN2DKU',\n  'name': 'Amelia Lopez',\n  'track': 'DS',\n  'labsProject': 'Test Product - D',\n  'gitExpertise': 4,\n  'dockerExpertise': 5,\n  'playByEar': 2,\n  'detailOriented': 2,\n  'speakUpInDiscussions': 2,\n  'soloOrSocial': 'A',\n  'meaningOrValue': 'B',\n  'feelsRightOrMakesSense': 'B',\n  'favoriteOrCollect': 'B',\n  'tpmSkill1': 'A',\n  'tpmSkill2': 'C',\n  'tpmSkill3': 'C',\n  'tpmInterest1': 3,\n  'tpmInterest2': 1,\n  'tpmInterest3': 3,\n  'tpmInterest4': 4,\n  'uxInterest1': 0,\n  'uxInterest2': 0,\n  'frontendInterest1': 0,\n  'frontendInterest2': 0,\n  'backendInterest1': 0,\n  'backendInterest2': 0,\n  'dataEngInterest1': 3,\n  'dataEngInterest2': 4,\n  'dataEngInterest3': 4,\n  'mlEngInterest1': 4,\n  'mlEngInterest2': 4,\n  'mlEngInterest3': 2,\n  'mlOpsInterest1': 2,\n  'mlOpsInterest2': 1,\n  'mlOpsInterest3': 2,\n  'tpmSkillRank': 0.3333333333333333,\n  'tpmInterestRank': 0.6875,\n  'uxInterestRank': 0,\n  'frontendInterestRank': 0,\n  'backendInterestRank': 0,\n  'dataEngInterestRank': 0.9166666666666666,\n  'mlEngInterestRank': 0.8333333333333334,\n  'mlOpsInterestRank': 0.4166666666666667},\n {'lambdaId': '6n6otu033208ECIc',\n  'name': 'Madison Anderson',\n  'track': 'DS',\n  'labsProject': 'Test Product - C',\n  'gitExpertise': 5,\n  'dockerExpertise': 5,\n  'playByEar': 5,\n  'detailOriented': 2,\n  'speakUpInDiscussions': 2,\n  'soloOrSocial': 'A',\n  'meaningOrValue': 'B',\n  'feelsRightOrMakesSense': 'A',\n  'favoriteOrCollect': 'B',\n  'tpmSkill1': 'B',\n  'tpmSkill2': 'A',\n  'tpmSkill3': 'A',\n  'tpmInterest1': 3,\n  'tpmInterest2': 3,\n  'tpmInterest3': 1,\n  'tpmInterest4': 1,\n  'uxInterest1': 0,\n  'uxInterest2': 0,\n  'frontendInterest1': 0,\n  'frontendInterest2': 0,\n  'backendInterest1': 0,\n  'backendInterest2': 0,\n  'dataEngInterest1': 4,\n  'dataEngInterest2': 3,\n  'dataEngInterest3': 1,\n  'mlEngInterest1': 1,\n  'mlEngInterest2': 3,\n  'mlEngInterest3': 2,\n  'mlOpsInterest1': 3,\n  'mlOpsInterest2': 1,\n  'mlOpsInterest3': 4,\n  'tpmSkillRank': 0.3333333333333333,\n  'tpmInterestRank': 0.5,\n  'uxInterestRank': 0,\n  'frontendInterestRank': 0,\n  'backendInterestRank': 0,\n  'dataEngInterestRank': 0.6666666666666666,\n  'mlEngInterestRank': 0.5,\n  'mlOpsInterestRank': 0.6666666666666666},\n {'lambdaId': 'x6s7443CdW5n81nz',\n  'name': 'Emily Brown',\n  'track': 'Web',\n  'labsProject': 'Test Product - B',\n  'gitExpertise': 4,\n  'dockerExpertise': 5,\n  'playByEar': 1,\n  'detailOriented': 4,\n  'speakUpInDiscussions': 5,\n  'soloOrSocial': 'B',\n  'meaningOrValue': 'B',\n  'feelsRightOrMakesSense': 'B',\n  'favoriteOrCollect': 'A',\n  'tpmSkill1': 'C',\n  'tpmSkill2': 'A',\n  'tpmSkill3': 'A',\n  'tpmInterest1': 3,\n  'tpmInterest2': 1,\n  'tpmInterest3': 3,\n  'tpmInterest4': 1,\n  'uxInterest1': 1,\n  'uxInterest2': 2,\n  'frontendInterest1': 3,\n  'frontendInterest2': 4,\n  'backendInterest1': 2,\n  'backendInterest2': 1,\n  'dataEngInterest1': 0,\n  'dataEngInterest2': 0,\n  'dataEngInterest3': 0,\n  'mlEngInterest1': 0,\n  'mlEngInterest2': 0,\n  'mlEngInterest3': 0,\n  'mlOpsInterest1': 0,\n  'mlOpsInterest2': 0,\n  'mlOpsInterest3': 0,\n  'tpmSkillRank': 0.0,\n  'tpmInterestRank': 0.5,\n  'uxInterestRank': 0.375,\n  'frontendInterestRank': 0.875,\n  'backendInterestRank': 0.375,\n  'dataEngInterestRank': 0,\n  'mlEngInterestRank': 0,\n  'mlOpsInterestRank': 0},\n {'lambdaId': 'bZEu85P5k01887Cg',\n  'name': 'David Chavez',\n  'track': 'Web',\n  'labsProject': 'Test Product - A',\n  'gitExpertise': 2,\n  'dockerExpertise': 1,\n  'playByEar': 2,\n  'detailOriented': 4,\n  'speakUpInDiscussions': 4,\n  'soloOrSocial': 'B',\n  'meaningOrValue': 'B',\n  'feelsRightOrMakesSense': 'A',\n  'favoriteOrCollect': 'B',\n  'tpmSkill1': 'B',\n  'tpmSkill2': 'A',\n  'tpmSkill3': 'C',\n  'tpmInterest1': 2,\n  'tpmInterest2': 4,\n  'tpmInterest3': 4,\n  'tpmInterest4': 3,\n  'uxInterest1': 3,\n  'uxInterest2': 2,\n  'frontendInterest1': 4,\n  'frontendInterest2': 4,\n  'backendInterest1': 2,\n  'backendInterest2': 4,\n  'dataEngInterest1': 0,\n  'dataEngInterest2': 0,\n  'dataEngInterest3': 0,\n  'mlEngInterest1': 0,\n  'mlEngInterest2': 0,\n  'mlEngInterest3': 0,\n  'mlOpsInterest1': 0,\n  'mlOpsInterest2': 0,\n  'mlOpsInterest3': 0,\n  'tpmSkillRank': 0.6666666666666666,\n  'tpmInterestRank': 0.8125,\n  'uxInterestRank': 0.625,\n  'frontendInterestRank': 1.0,\n  'backendInterestRank': 0.75,\n  'dataEngInterestRank': 0,\n  'mlEngInterestRank': 0,\n  'mlOpsInterestRank': 0},\n {'lambdaId': '877tWY36So3h2o3i',\n  'name': 'Harper Richardson',\n  'track': 'BD',\n  'labsProject': 'Test Product - E',\n  'gitExpertise': 3,\n  'dockerExpertise': 3,\n  'playByEar': 5,\n  'detailOriented': 1,\n  'speakUpInDiscussions': 5,\n  'soloOrSocial': 'B',\n  'meaningOrValue': 'B',\n  'feelsRightOrMakesSense': 'A',\n  'favoriteOrCollect': 'B',\n  'tpmSkill1': 'B',\n  'tpmSkill2': 'A',\n  'tpmSkill3': 'B',\n  'tpmInterest1': 3,\n  'tpmInterest2': 2,\n  'tpmInterest3': 3,\n  'tpmInterest4': 2,\n  'uxInterest1': 0,\n  'uxInterest2': 0,\n  'frontendInterest1': 0,\n  'frontendInterest2': 0,\n  'backendInterest1': 0,\n  'backendInterest2': 0,\n  'dataEngInterest1': 0,\n  'dataEngInterest2': 0,\n  'dataEngInterest3': 0,\n  'mlEngInterest1': 0,\n  'mlEngInterest2': 0,\n  'mlEngInterest3': 0,\n  'mlOpsInterest1': 0,\n  'mlOpsInterest2': 0,\n  'mlOpsInterest3': 0,\n  'tpmSkillRank': 0.3333333333333333,\n  'tpmInterestRank': 0.625,\n  'uxInterestRank': 0.0,\n  'frontendInterestRank': 0.0,\n  'backendInterestRank': 0.0,\n  'dataEngInterestRank': 0.0,\n  'mlEngInterestRank': 0.0,\n  'mlOpsInterestRank': 0.0},\n {'lambdaId': '6F0L4O5LV4V651rl',\n  'name': 'Mateo Thompson',\n  'track': 'Web',\n  'labsProject': 'Test Product - B',\n  'gitExpertise': 4,\n  'dockerExpertise': 2,\n  'playByEar': 1,\n  'detailOriented': 1,\n  'speakUpInDiscussions': 4,\n  'soloOrSocial': 'A',\n  'meaningOrValue': 'A',\n  'feelsRightOrMakesSense': 'B',\n  'favoriteOrCollect': 'A',\n  'tpmSkill1': 'C',\n  'tpmSkill2': 'B',\n  'tpmSkill3': 'B',\n  'tpmInterest1': 3,\n  'tpmInterest2': 1,\n  'tpmInterest3': 4,\n  'tpmInterest4': 4,\n  'uxInterest1': 1,\n  'uxInterest2': 2,\n  'frontendInterest1': 3,\n  'frontendInterest2': 3,\n  'backendInterest1': 2,\n  'backendInterest2': 2,\n  'dataEngInterest1': 0,\n  'dataEngInterest2': 0,\n  'dataEngInterest3': 0,\n  'mlEngInterest1': 0,\n  'mlEngInterest2': 0,\n  'mlEngInterest3': 0,\n  'mlOpsInterest1': 0,\n  'mlOpsInterest2': 0,\n  'mlOpsInterest3': 0,\n  'tpmSkillRank': 0.3333333333333333,\n  'tpmInterestRank': 0.75,\n  'uxInterestRank': 0.375,\n  'frontendInterestRank': 0.75,\n  'backendInterestRank': 0.5,\n  'dataEngInterestRank': 0,\n  'mlEngInterestRank': 0,\n  'mlOpsInterestRank': 0}]"
     },
     "execution_count": 51,
     "metadata": {},
     "output_type": "execute_result"
    }
   ],
   "source": [
    "learners = payload[\"learners\"]\n",
    "learners"
   ],
   "metadata": {
    "collapsed": false,
    "pycharm": {
     "name": "#%%\n"
    }
   }
  },
  {
   "cell_type": "code",
   "execution_count": 52,
   "outputs": [
    {
     "data": {
      "text/plain": "50"
     },
     "execution_count": 52,
     "metadata": {},
     "output_type": "execute_result"
    }
   ],
   "source": [
    "len(payload[\"learners\"])"
   ],
   "metadata": {
    "collapsed": false,
    "pycharm": {
     "name": "#%%\n"
    }
   }
  },
  {
   "cell_type": "code",
   "execution_count": 53,
   "outputs": [
    {
     "data": {
      "text/plain": "5"
     },
     "execution_count": 53,
     "metadata": {},
     "output_type": "execute_result"
    }
   ],
   "source": [
    "len(payload[\"projects\"])"
   ],
   "metadata": {
    "collapsed": false,
    "pycharm": {
     "name": "#%%\n"
    }
   }
  },
  {
   "cell_type": "code",
   "execution_count": 54,
   "outputs": [
    {
     "data": {
      "application/vnd.plotly.v1+json": {
       "data": [
        {
         "hole": 0.5,
         "hoverinfo": "text+label+value",
         "labels": [
          "Web",
          "DS",
          "BD"
         ],
         "showlegend": false,
         "textfont": {
          "size": 12
         },
         "textinfo": "percent+label",
         "textposition": "inside",
         "values": [
          31,
          16,
          3
         ],
         "type": "pie"
        }
       ],
       "layout": {
        "colorway": [
         "rgb(133, 92, 117)",
         "rgb(217, 175, 107)",
         "rgb(175, 100, 88)",
         "rgb(115, 111, 76)",
         "rgb(82, 106, 131)",
         "rgb(98, 83, 119)",
         "rgb(104, 133, 92)",
         "rgb(156, 156, 94)",
         "rgb(160, 97, 119)",
         "rgb(140, 120, 93)",
         "rgb(124, 124, 124)"
        ],
        "height": 640,
        "paper_bgcolor": "#333333",
        "title": {
         "font": {
          "color": "white",
          "size": 24
         },
         "text": "Learner Count by Track"
        },
        "width": 640,
        "template": {
         "data": {
          "histogram2dcontour": [
           {
            "type": "histogram2dcontour",
            "colorbar": {
             "outlinewidth": 0,
             "ticks": ""
            },
            "colorscale": [
             [
              0.0,
              "#0d0887"
             ],
             [
              0.1111111111111111,
              "#46039f"
             ],
             [
              0.2222222222222222,
              "#7201a8"
             ],
             [
              0.3333333333333333,
              "#9c179e"
             ],
             [
              0.4444444444444444,
              "#bd3786"
             ],
             [
              0.5555555555555556,
              "#d8576b"
             ],
             [
              0.6666666666666666,
              "#ed7953"
             ],
             [
              0.7777777777777778,
              "#fb9f3a"
             ],
             [
              0.8888888888888888,
              "#fdca26"
             ],
             [
              1.0,
              "#f0f921"
             ]
            ]
           }
          ],
          "choropleth": [
           {
            "type": "choropleth",
            "colorbar": {
             "outlinewidth": 0,
             "ticks": ""
            }
           }
          ],
          "histogram2d": [
           {
            "type": "histogram2d",
            "colorbar": {
             "outlinewidth": 0,
             "ticks": ""
            },
            "colorscale": [
             [
              0.0,
              "#0d0887"
             ],
             [
              0.1111111111111111,
              "#46039f"
             ],
             [
              0.2222222222222222,
              "#7201a8"
             ],
             [
              0.3333333333333333,
              "#9c179e"
             ],
             [
              0.4444444444444444,
              "#bd3786"
             ],
             [
              0.5555555555555556,
              "#d8576b"
             ],
             [
              0.6666666666666666,
              "#ed7953"
             ],
             [
              0.7777777777777778,
              "#fb9f3a"
             ],
             [
              0.8888888888888888,
              "#fdca26"
             ],
             [
              1.0,
              "#f0f921"
             ]
            ]
           }
          ],
          "heatmap": [
           {
            "type": "heatmap",
            "colorbar": {
             "outlinewidth": 0,
             "ticks": ""
            },
            "colorscale": [
             [
              0.0,
              "#0d0887"
             ],
             [
              0.1111111111111111,
              "#46039f"
             ],
             [
              0.2222222222222222,
              "#7201a8"
             ],
             [
              0.3333333333333333,
              "#9c179e"
             ],
             [
              0.4444444444444444,
              "#bd3786"
             ],
             [
              0.5555555555555556,
              "#d8576b"
             ],
             [
              0.6666666666666666,
              "#ed7953"
             ],
             [
              0.7777777777777778,
              "#fb9f3a"
             ],
             [
              0.8888888888888888,
              "#fdca26"
             ],
             [
              1.0,
              "#f0f921"
             ]
            ]
           }
          ],
          "heatmapgl": [
           {
            "type": "heatmapgl",
            "colorbar": {
             "outlinewidth": 0,
             "ticks": ""
            },
            "colorscale": [
             [
              0.0,
              "#0d0887"
             ],
             [
              0.1111111111111111,
              "#46039f"
             ],
             [
              0.2222222222222222,
              "#7201a8"
             ],
             [
              0.3333333333333333,
              "#9c179e"
             ],
             [
              0.4444444444444444,
              "#bd3786"
             ],
             [
              0.5555555555555556,
              "#d8576b"
             ],
             [
              0.6666666666666666,
              "#ed7953"
             ],
             [
              0.7777777777777778,
              "#fb9f3a"
             ],
             [
              0.8888888888888888,
              "#fdca26"
             ],
             [
              1.0,
              "#f0f921"
             ]
            ]
           }
          ],
          "contourcarpet": [
           {
            "type": "contourcarpet",
            "colorbar": {
             "outlinewidth": 0,
             "ticks": ""
            }
           }
          ],
          "contour": [
           {
            "type": "contour",
            "colorbar": {
             "outlinewidth": 0,
             "ticks": ""
            },
            "colorscale": [
             [
              0.0,
              "#0d0887"
             ],
             [
              0.1111111111111111,
              "#46039f"
             ],
             [
              0.2222222222222222,
              "#7201a8"
             ],
             [
              0.3333333333333333,
              "#9c179e"
             ],
             [
              0.4444444444444444,
              "#bd3786"
             ],
             [
              0.5555555555555556,
              "#d8576b"
             ],
             [
              0.6666666666666666,
              "#ed7953"
             ],
             [
              0.7777777777777778,
              "#fb9f3a"
             ],
             [
              0.8888888888888888,
              "#fdca26"
             ],
             [
              1.0,
              "#f0f921"
             ]
            ]
           }
          ],
          "surface": [
           {
            "type": "surface",
            "colorbar": {
             "outlinewidth": 0,
             "ticks": ""
            },
            "colorscale": [
             [
              0.0,
              "#0d0887"
             ],
             [
              0.1111111111111111,
              "#46039f"
             ],
             [
              0.2222222222222222,
              "#7201a8"
             ],
             [
              0.3333333333333333,
              "#9c179e"
             ],
             [
              0.4444444444444444,
              "#bd3786"
             ],
             [
              0.5555555555555556,
              "#d8576b"
             ],
             [
              0.6666666666666666,
              "#ed7953"
             ],
             [
              0.7777777777777778,
              "#fb9f3a"
             ],
             [
              0.8888888888888888,
              "#fdca26"
             ],
             [
              1.0,
              "#f0f921"
             ]
            ]
           }
          ],
          "mesh3d": [
           {
            "type": "mesh3d",
            "colorbar": {
             "outlinewidth": 0,
             "ticks": ""
            }
           }
          ],
          "scatter": [
           {
            "fillpattern": {
             "fillmode": "overlay",
             "size": 10,
             "solidity": 0.2
            },
            "type": "scatter"
           }
          ],
          "parcoords": [
           {
            "type": "parcoords",
            "line": {
             "colorbar": {
              "outlinewidth": 0,
              "ticks": ""
             }
            }
           }
          ],
          "scatterpolargl": [
           {
            "type": "scatterpolargl",
            "marker": {
             "colorbar": {
              "outlinewidth": 0,
              "ticks": ""
             }
            }
           }
          ],
          "bar": [
           {
            "error_x": {
             "color": "#2a3f5f"
            },
            "error_y": {
             "color": "#2a3f5f"
            },
            "marker": {
             "line": {
              "color": "#E5ECF6",
              "width": 0.5
             },
             "pattern": {
              "fillmode": "overlay",
              "size": 10,
              "solidity": 0.2
             }
            },
            "type": "bar"
           }
          ],
          "scattergeo": [
           {
            "type": "scattergeo",
            "marker": {
             "colorbar": {
              "outlinewidth": 0,
              "ticks": ""
             }
            }
           }
          ],
          "scatterpolar": [
           {
            "type": "scatterpolar",
            "marker": {
             "colorbar": {
              "outlinewidth": 0,
              "ticks": ""
             }
            }
           }
          ],
          "histogram": [
           {
            "marker": {
             "pattern": {
              "fillmode": "overlay",
              "size": 10,
              "solidity": 0.2
             }
            },
            "type": "histogram"
           }
          ],
          "scattergl": [
           {
            "type": "scattergl",
            "marker": {
             "colorbar": {
              "outlinewidth": 0,
              "ticks": ""
             }
            }
           }
          ],
          "scatter3d": [
           {
            "type": "scatter3d",
            "line": {
             "colorbar": {
              "outlinewidth": 0,
              "ticks": ""
             }
            },
            "marker": {
             "colorbar": {
              "outlinewidth": 0,
              "ticks": ""
             }
            }
           }
          ],
          "scattermapbox": [
           {
            "type": "scattermapbox",
            "marker": {
             "colorbar": {
              "outlinewidth": 0,
              "ticks": ""
             }
            }
           }
          ],
          "scatterternary": [
           {
            "type": "scatterternary",
            "marker": {
             "colorbar": {
              "outlinewidth": 0,
              "ticks": ""
             }
            }
           }
          ],
          "scattercarpet": [
           {
            "type": "scattercarpet",
            "marker": {
             "colorbar": {
              "outlinewidth": 0,
              "ticks": ""
             }
            }
           }
          ],
          "carpet": [
           {
            "aaxis": {
             "endlinecolor": "#2a3f5f",
             "gridcolor": "white",
             "linecolor": "white",
             "minorgridcolor": "white",
             "startlinecolor": "#2a3f5f"
            },
            "baxis": {
             "endlinecolor": "#2a3f5f",
             "gridcolor": "white",
             "linecolor": "white",
             "minorgridcolor": "white",
             "startlinecolor": "#2a3f5f"
            },
            "type": "carpet"
           }
          ],
          "table": [
           {
            "cells": {
             "fill": {
              "color": "#EBF0F8"
             },
             "line": {
              "color": "white"
             }
            },
            "header": {
             "fill": {
              "color": "#C8D4E3"
             },
             "line": {
              "color": "white"
             }
            },
            "type": "table"
           }
          ],
          "barpolar": [
           {
            "marker": {
             "line": {
              "color": "#E5ECF6",
              "width": 0.5
             },
             "pattern": {
              "fillmode": "overlay",
              "size": 10,
              "solidity": 0.2
             }
            },
            "type": "barpolar"
           }
          ],
          "pie": [
           {
            "automargin": true,
            "type": "pie"
           }
          ]
         },
         "layout": {
          "autotypenumbers": "strict",
          "colorway": [
           "#636efa",
           "#EF553B",
           "#00cc96",
           "#ab63fa",
           "#FFA15A",
           "#19d3f3",
           "#FF6692",
           "#B6E880",
           "#FF97FF",
           "#FECB52"
          ],
          "font": {
           "color": "#2a3f5f"
          },
          "hovermode": "closest",
          "hoverlabel": {
           "align": "left"
          },
          "paper_bgcolor": "white",
          "plot_bgcolor": "#E5ECF6",
          "polar": {
           "bgcolor": "#E5ECF6",
           "angularaxis": {
            "gridcolor": "white",
            "linecolor": "white",
            "ticks": ""
           },
           "radialaxis": {
            "gridcolor": "white",
            "linecolor": "white",
            "ticks": ""
           }
          },
          "ternary": {
           "bgcolor": "#E5ECF6",
           "aaxis": {
            "gridcolor": "white",
            "linecolor": "white",
            "ticks": ""
           },
           "baxis": {
            "gridcolor": "white",
            "linecolor": "white",
            "ticks": ""
           },
           "caxis": {
            "gridcolor": "white",
            "linecolor": "white",
            "ticks": ""
           }
          },
          "coloraxis": {
           "colorbar": {
            "outlinewidth": 0,
            "ticks": ""
           }
          },
          "colorscale": {
           "sequential": [
            [
             0.0,
             "#0d0887"
            ],
            [
             0.1111111111111111,
             "#46039f"
            ],
            [
             0.2222222222222222,
             "#7201a8"
            ],
            [
             0.3333333333333333,
             "#9c179e"
            ],
            [
             0.4444444444444444,
             "#bd3786"
            ],
            [
             0.5555555555555556,
             "#d8576b"
            ],
            [
             0.6666666666666666,
             "#ed7953"
            ],
            [
             0.7777777777777778,
             "#fb9f3a"
            ],
            [
             0.8888888888888888,
             "#fdca26"
            ],
            [
             1.0,
             "#f0f921"
            ]
           ],
           "sequentialminus": [
            [
             0.0,
             "#0d0887"
            ],
            [
             0.1111111111111111,
             "#46039f"
            ],
            [
             0.2222222222222222,
             "#7201a8"
            ],
            [
             0.3333333333333333,
             "#9c179e"
            ],
            [
             0.4444444444444444,
             "#bd3786"
            ],
            [
             0.5555555555555556,
             "#d8576b"
            ],
            [
             0.6666666666666666,
             "#ed7953"
            ],
            [
             0.7777777777777778,
             "#fb9f3a"
            ],
            [
             0.8888888888888888,
             "#fdca26"
            ],
            [
             1.0,
             "#f0f921"
            ]
           ],
           "diverging": [
            [
             0,
             "#8e0152"
            ],
            [
             0.1,
             "#c51b7d"
            ],
            [
             0.2,
             "#de77ae"
            ],
            [
             0.3,
             "#f1b6da"
            ],
            [
             0.4,
             "#fde0ef"
            ],
            [
             0.5,
             "#f7f7f7"
            ],
            [
             0.6,
             "#e6f5d0"
            ],
            [
             0.7,
             "#b8e186"
            ],
            [
             0.8,
             "#7fbc41"
            ],
            [
             0.9,
             "#4d9221"
            ],
            [
             1,
             "#276419"
            ]
           ]
          },
          "xaxis": {
           "gridcolor": "white",
           "linecolor": "white",
           "ticks": "",
           "title": {
            "standoff": 15
           },
           "zerolinecolor": "white",
           "automargin": true,
           "zerolinewidth": 2
          },
          "yaxis": {
           "gridcolor": "white",
           "linecolor": "white",
           "ticks": "",
           "title": {
            "standoff": 15
           },
           "zerolinecolor": "white",
           "automargin": true,
           "zerolinewidth": 2
          },
          "scene": {
           "xaxis": {
            "backgroundcolor": "#E5ECF6",
            "gridcolor": "white",
            "linecolor": "white",
            "showbackground": true,
            "ticks": "",
            "zerolinecolor": "white",
            "gridwidth": 2
           },
           "yaxis": {
            "backgroundcolor": "#E5ECF6",
            "gridcolor": "white",
            "linecolor": "white",
            "showbackground": true,
            "ticks": "",
            "zerolinecolor": "white",
            "gridwidth": 2
           },
           "zaxis": {
            "backgroundcolor": "#E5ECF6",
            "gridcolor": "white",
            "linecolor": "white",
            "showbackground": true,
            "ticks": "",
            "zerolinecolor": "white",
            "gridwidth": 2
           }
          },
          "shapedefaults": {
           "line": {
            "color": "#2a3f5f"
           }
          },
          "annotationdefaults": {
           "arrowcolor": "#2a3f5f",
           "arrowhead": 0,
           "arrowwidth": 1
          },
          "geo": {
           "bgcolor": "white",
           "landcolor": "#E5ECF6",
           "subunitcolor": "white",
           "showland": true,
           "showlakes": true,
           "lakecolor": "white"
          },
          "title": {
           "x": 0.05
          },
          "mapbox": {
           "style": "light"
          }
         }
        }
       },
       "config": {
        "plotlyServerURL": "https://plot.ly"
       }
      },
      "text/html": "<div>                            <div id=\"d05ce0a5-1c4b-449f-b6ce-cf22e4575f3a\" class=\"plotly-graph-div\" style=\"height:640px; width:640px;\"></div>            <script type=\"text/javascript\">                require([\"plotly\"], function(Plotly) {                    window.PLOTLYENV=window.PLOTLYENV || {};                                    if (document.getElementById(\"d05ce0a5-1c4b-449f-b6ce-cf22e4575f3a\")) {                    Plotly.newPlot(                        \"d05ce0a5-1c4b-449f-b6ce-cf22e4575f3a\",                        [{\"hole\":0.5,\"hoverinfo\":\"text+label+value\",\"labels\":[\"Web\",\"DS\",\"BD\"],\"showlegend\":false,\"textfont\":{\"size\":12},\"textinfo\":\"percent+label\",\"textposition\":\"inside\",\"values\":[31,16,3],\"type\":\"pie\"}],                        {\"colorway\":[\"rgb(133, 92, 117)\",\"rgb(217, 175, 107)\",\"rgb(175, 100, 88)\",\"rgb(115, 111, 76)\",\"rgb(82, 106, 131)\",\"rgb(98, 83, 119)\",\"rgb(104, 133, 92)\",\"rgb(156, 156, 94)\",\"rgb(160, 97, 119)\",\"rgb(140, 120, 93)\",\"rgb(124, 124, 124)\"],\"height\":640,\"paper_bgcolor\":\"#333333\",\"title\":{\"font\":{\"color\":\"white\",\"size\":24},\"text\":\"Learner Count by Track\"},\"width\":640,\"template\":{\"data\":{\"histogram2dcontour\":[{\"type\":\"histogram2dcontour\",\"colorbar\":{\"outlinewidth\":0,\"ticks\":\"\"},\"colorscale\":[[0.0,\"#0d0887\"],[0.1111111111111111,\"#46039f\"],[0.2222222222222222,\"#7201a8\"],[0.3333333333333333,\"#9c179e\"],[0.4444444444444444,\"#bd3786\"],[0.5555555555555556,\"#d8576b\"],[0.6666666666666666,\"#ed7953\"],[0.7777777777777778,\"#fb9f3a\"],[0.8888888888888888,\"#fdca26\"],[1.0,\"#f0f921\"]]}],\"choropleth\":[{\"type\":\"choropleth\",\"colorbar\":{\"outlinewidth\":0,\"ticks\":\"\"}}],\"histogram2d\":[{\"type\":\"histogram2d\",\"colorbar\":{\"outlinewidth\":0,\"ticks\":\"\"},\"colorscale\":[[0.0,\"#0d0887\"],[0.1111111111111111,\"#46039f\"],[0.2222222222222222,\"#7201a8\"],[0.3333333333333333,\"#9c179e\"],[0.4444444444444444,\"#bd3786\"],[0.5555555555555556,\"#d8576b\"],[0.6666666666666666,\"#ed7953\"],[0.7777777777777778,\"#fb9f3a\"],[0.8888888888888888,\"#fdca26\"],[1.0,\"#f0f921\"]]}],\"heatmap\":[{\"type\":\"heatmap\",\"colorbar\":{\"outlinewidth\":0,\"ticks\":\"\"},\"colorscale\":[[0.0,\"#0d0887\"],[0.1111111111111111,\"#46039f\"],[0.2222222222222222,\"#7201a8\"],[0.3333333333333333,\"#9c179e\"],[0.4444444444444444,\"#bd3786\"],[0.5555555555555556,\"#d8576b\"],[0.6666666666666666,\"#ed7953\"],[0.7777777777777778,\"#fb9f3a\"],[0.8888888888888888,\"#fdca26\"],[1.0,\"#f0f921\"]]}],\"heatmapgl\":[{\"type\":\"heatmapgl\",\"colorbar\":{\"outlinewidth\":0,\"ticks\":\"\"},\"colorscale\":[[0.0,\"#0d0887\"],[0.1111111111111111,\"#46039f\"],[0.2222222222222222,\"#7201a8\"],[0.3333333333333333,\"#9c179e\"],[0.4444444444444444,\"#bd3786\"],[0.5555555555555556,\"#d8576b\"],[0.6666666666666666,\"#ed7953\"],[0.7777777777777778,\"#fb9f3a\"],[0.8888888888888888,\"#fdca26\"],[1.0,\"#f0f921\"]]}],\"contourcarpet\":[{\"type\":\"contourcarpet\",\"colorbar\":{\"outlinewidth\":0,\"ticks\":\"\"}}],\"contour\":[{\"type\":\"contour\",\"colorbar\":{\"outlinewidth\":0,\"ticks\":\"\"},\"colorscale\":[[0.0,\"#0d0887\"],[0.1111111111111111,\"#46039f\"],[0.2222222222222222,\"#7201a8\"],[0.3333333333333333,\"#9c179e\"],[0.4444444444444444,\"#bd3786\"],[0.5555555555555556,\"#d8576b\"],[0.6666666666666666,\"#ed7953\"],[0.7777777777777778,\"#fb9f3a\"],[0.8888888888888888,\"#fdca26\"],[1.0,\"#f0f921\"]]}],\"surface\":[{\"type\":\"surface\",\"colorbar\":{\"outlinewidth\":0,\"ticks\":\"\"},\"colorscale\":[[0.0,\"#0d0887\"],[0.1111111111111111,\"#46039f\"],[0.2222222222222222,\"#7201a8\"],[0.3333333333333333,\"#9c179e\"],[0.4444444444444444,\"#bd3786\"],[0.5555555555555556,\"#d8576b\"],[0.6666666666666666,\"#ed7953\"],[0.7777777777777778,\"#fb9f3a\"],[0.8888888888888888,\"#fdca26\"],[1.0,\"#f0f921\"]]}],\"mesh3d\":[{\"type\":\"mesh3d\",\"colorbar\":{\"outlinewidth\":0,\"ticks\":\"\"}}],\"scatter\":[{\"fillpattern\":{\"fillmode\":\"overlay\",\"size\":10,\"solidity\":0.2},\"type\":\"scatter\"}],\"parcoords\":[{\"type\":\"parcoords\",\"line\":{\"colorbar\":{\"outlinewidth\":0,\"ticks\":\"\"}}}],\"scatterpolargl\":[{\"type\":\"scatterpolargl\",\"marker\":{\"colorbar\":{\"outlinewidth\":0,\"ticks\":\"\"}}}],\"bar\":[{\"error_x\":{\"color\":\"#2a3f5f\"},\"error_y\":{\"color\":\"#2a3f5f\"},\"marker\":{\"line\":{\"color\":\"#E5ECF6\",\"width\":0.5},\"pattern\":{\"fillmode\":\"overlay\",\"size\":10,\"solidity\":0.2}},\"type\":\"bar\"}],\"scattergeo\":[{\"type\":\"scattergeo\",\"marker\":{\"colorbar\":{\"outlinewidth\":0,\"ticks\":\"\"}}}],\"scatterpolar\":[{\"type\":\"scatterpolar\",\"marker\":{\"colorbar\":{\"outlinewidth\":0,\"ticks\":\"\"}}}],\"histogram\":[{\"marker\":{\"pattern\":{\"fillmode\":\"overlay\",\"size\":10,\"solidity\":0.2}},\"type\":\"histogram\"}],\"scattergl\":[{\"type\":\"scattergl\",\"marker\":{\"colorbar\":{\"outlinewidth\":0,\"ticks\":\"\"}}}],\"scatter3d\":[{\"type\":\"scatter3d\",\"line\":{\"colorbar\":{\"outlinewidth\":0,\"ticks\":\"\"}},\"marker\":{\"colorbar\":{\"outlinewidth\":0,\"ticks\":\"\"}}}],\"scattermapbox\":[{\"type\":\"scattermapbox\",\"marker\":{\"colorbar\":{\"outlinewidth\":0,\"ticks\":\"\"}}}],\"scatterternary\":[{\"type\":\"scatterternary\",\"marker\":{\"colorbar\":{\"outlinewidth\":0,\"ticks\":\"\"}}}],\"scattercarpet\":[{\"type\":\"scattercarpet\",\"marker\":{\"colorbar\":{\"outlinewidth\":0,\"ticks\":\"\"}}}],\"carpet\":[{\"aaxis\":{\"endlinecolor\":\"#2a3f5f\",\"gridcolor\":\"white\",\"linecolor\":\"white\",\"minorgridcolor\":\"white\",\"startlinecolor\":\"#2a3f5f\"},\"baxis\":{\"endlinecolor\":\"#2a3f5f\",\"gridcolor\":\"white\",\"linecolor\":\"white\",\"minorgridcolor\":\"white\",\"startlinecolor\":\"#2a3f5f\"},\"type\":\"carpet\"}],\"table\":[{\"cells\":{\"fill\":{\"color\":\"#EBF0F8\"},\"line\":{\"color\":\"white\"}},\"header\":{\"fill\":{\"color\":\"#C8D4E3\"},\"line\":{\"color\":\"white\"}},\"type\":\"table\"}],\"barpolar\":[{\"marker\":{\"line\":{\"color\":\"#E5ECF6\",\"width\":0.5},\"pattern\":{\"fillmode\":\"overlay\",\"size\":10,\"solidity\":0.2}},\"type\":\"barpolar\"}],\"pie\":[{\"automargin\":true,\"type\":\"pie\"}]},\"layout\":{\"autotypenumbers\":\"strict\",\"colorway\":[\"#636efa\",\"#EF553B\",\"#00cc96\",\"#ab63fa\",\"#FFA15A\",\"#19d3f3\",\"#FF6692\",\"#B6E880\",\"#FF97FF\",\"#FECB52\"],\"font\":{\"color\":\"#2a3f5f\"},\"hovermode\":\"closest\",\"hoverlabel\":{\"align\":\"left\"},\"paper_bgcolor\":\"white\",\"plot_bgcolor\":\"#E5ECF6\",\"polar\":{\"bgcolor\":\"#E5ECF6\",\"angularaxis\":{\"gridcolor\":\"white\",\"linecolor\":\"white\",\"ticks\":\"\"},\"radialaxis\":{\"gridcolor\":\"white\",\"linecolor\":\"white\",\"ticks\":\"\"}},\"ternary\":{\"bgcolor\":\"#E5ECF6\",\"aaxis\":{\"gridcolor\":\"white\",\"linecolor\":\"white\",\"ticks\":\"\"},\"baxis\":{\"gridcolor\":\"white\",\"linecolor\":\"white\",\"ticks\":\"\"},\"caxis\":{\"gridcolor\":\"white\",\"linecolor\":\"white\",\"ticks\":\"\"}},\"coloraxis\":{\"colorbar\":{\"outlinewidth\":0,\"ticks\":\"\"}},\"colorscale\":{\"sequential\":[[0.0,\"#0d0887\"],[0.1111111111111111,\"#46039f\"],[0.2222222222222222,\"#7201a8\"],[0.3333333333333333,\"#9c179e\"],[0.4444444444444444,\"#bd3786\"],[0.5555555555555556,\"#d8576b\"],[0.6666666666666666,\"#ed7953\"],[0.7777777777777778,\"#fb9f3a\"],[0.8888888888888888,\"#fdca26\"],[1.0,\"#f0f921\"]],\"sequentialminus\":[[0.0,\"#0d0887\"],[0.1111111111111111,\"#46039f\"],[0.2222222222222222,\"#7201a8\"],[0.3333333333333333,\"#9c179e\"],[0.4444444444444444,\"#bd3786\"],[0.5555555555555556,\"#d8576b\"],[0.6666666666666666,\"#ed7953\"],[0.7777777777777778,\"#fb9f3a\"],[0.8888888888888888,\"#fdca26\"],[1.0,\"#f0f921\"]],\"diverging\":[[0,\"#8e0152\"],[0.1,\"#c51b7d\"],[0.2,\"#de77ae\"],[0.3,\"#f1b6da\"],[0.4,\"#fde0ef\"],[0.5,\"#f7f7f7\"],[0.6,\"#e6f5d0\"],[0.7,\"#b8e186\"],[0.8,\"#7fbc41\"],[0.9,\"#4d9221\"],[1,\"#276419\"]]},\"xaxis\":{\"gridcolor\":\"white\",\"linecolor\":\"white\",\"ticks\":\"\",\"title\":{\"standoff\":15},\"zerolinecolor\":\"white\",\"automargin\":true,\"zerolinewidth\":2},\"yaxis\":{\"gridcolor\":\"white\",\"linecolor\":\"white\",\"ticks\":\"\",\"title\":{\"standoff\":15},\"zerolinecolor\":\"white\",\"automargin\":true,\"zerolinewidth\":2},\"scene\":{\"xaxis\":{\"backgroundcolor\":\"#E5ECF6\",\"gridcolor\":\"white\",\"linecolor\":\"white\",\"showbackground\":true,\"ticks\":\"\",\"zerolinecolor\":\"white\",\"gridwidth\":2},\"yaxis\":{\"backgroundcolor\":\"#E5ECF6\",\"gridcolor\":\"white\",\"linecolor\":\"white\",\"showbackground\":true,\"ticks\":\"\",\"zerolinecolor\":\"white\",\"gridwidth\":2},\"zaxis\":{\"backgroundcolor\":\"#E5ECF6\",\"gridcolor\":\"white\",\"linecolor\":\"white\",\"showbackground\":true,\"ticks\":\"\",\"zerolinecolor\":\"white\",\"gridwidth\":2}},\"shapedefaults\":{\"line\":{\"color\":\"#2a3f5f\"}},\"annotationdefaults\":{\"arrowcolor\":\"#2a3f5f\",\"arrowhead\":0,\"arrowwidth\":1},\"geo\":{\"bgcolor\":\"white\",\"landcolor\":\"#E5ECF6\",\"subunitcolor\":\"white\",\"showland\":true,\"showlakes\":true,\"lakecolor\":\"white\"},\"title\":{\"x\":0.05},\"mapbox\":{\"style\":\"light\"}}}},                        {\"responsive\": true}                    ).then(function(){\n                            \nvar gd = document.getElementById('d05ce0a5-1c4b-449f-b6ce-cf22e4575f3a');\nvar x = new MutationObserver(function (mutations, observer) {{\n        var display = window.getComputedStyle(gd).display;\n        if (!display || display === 'none') {{\n            console.log([gd, 'removed!']);\n            Plotly.purge(gd);\n            observer.disconnect();\n        }}\n}});\n\n// Listen for the removal of the full notebook cells\nvar notebookContainer = gd.closest('#notebook-container');\nif (notebookContainer) {{\n    x.observe(notebookContainer, {childList: true});\n}}\n\n// Listen for the clearing of the current output cell\nvar outputEl = gd.closest('.output');\nif (outputEl) {{\n    x.observe(outputEl, {childList: true});\n}}\n\n                        })                };                });            </script>        </div>"
     },
     "metadata": {},
     "output_type": "display_data"
    }
   ],
   "source": [
    "df_type = DataFrame(learners)\n",
    "type_value_counts = df_type[\"track\"].value_counts()\n",
    "data = go.Pie(\n",
    "    labels=type_value_counts.index,\n",
    "    values=type_value_counts.values,\n",
    "    hole=0.5,\n",
    "    textinfo=\"percent+label\",\n",
    "    textfont={\"size\": 12},\n",
    "    hoverinfo=\"text+label+value\",\n",
    "    textposition='inside',\n",
    "    showlegend=False,\n",
    ")\n",
    "layout = go.Layout(\n",
    "    title={\n",
    "        \"text\": \"Learner Count by Track\",\n",
    "        \"font\": {\"color\": \"white\", \"size\": 24},\n",
    "    },\n",
    "    colorway=px.colors.qualitative.Antique,\n",
    "    width=640,\n",
    "    height=640,\n",
    "    paper_bgcolor=\"#333333\",\n",
    ")\n",
    "figure = go.Figure(data, layout)\n",
    "figure.show()"
   ],
   "metadata": {
    "collapsed": false,
    "pycharm": {
     "name": "#%%\n"
    }
   }
  },
  {
   "cell_type": "code",
   "execution_count": 55,
   "outputs": [
    {
     "data": {
      "application/vnd.plotly.v1+json": {
       "data": [
        {
         "hole": 0.5,
         "hoverinfo": "text+label+value",
         "labels": [
          "Test Product - B",
          "Test Product - C",
          "Test Product - D",
          "Test Product - A",
          "Test Product - E"
         ],
         "showlegend": false,
         "textfont": {
          "size": 12
         },
         "textinfo": "percent+label",
         "textposition": "inside",
         "values": [
          14,
          11,
          10,
          8,
          7
         ],
         "type": "pie"
        }
       ],
       "layout": {
        "colorway": [
         "rgb(133, 92, 117)",
         "rgb(217, 175, 107)",
         "rgb(175, 100, 88)",
         "rgb(115, 111, 76)",
         "rgb(82, 106, 131)",
         "rgb(98, 83, 119)",
         "rgb(104, 133, 92)",
         "rgb(156, 156, 94)",
         "rgb(160, 97, 119)",
         "rgb(140, 120, 93)",
         "rgb(124, 124, 124)"
        ],
        "height": 640,
        "paper_bgcolor": "#333333",
        "title": {
         "font": {
          "color": "white",
          "size": 24
         },
         "text": "Learner Count by Team"
        },
        "width": 640,
        "template": {
         "data": {
          "histogram2dcontour": [
           {
            "type": "histogram2dcontour",
            "colorbar": {
             "outlinewidth": 0,
             "ticks": ""
            },
            "colorscale": [
             [
              0.0,
              "#0d0887"
             ],
             [
              0.1111111111111111,
              "#46039f"
             ],
             [
              0.2222222222222222,
              "#7201a8"
             ],
             [
              0.3333333333333333,
              "#9c179e"
             ],
             [
              0.4444444444444444,
              "#bd3786"
             ],
             [
              0.5555555555555556,
              "#d8576b"
             ],
             [
              0.6666666666666666,
              "#ed7953"
             ],
             [
              0.7777777777777778,
              "#fb9f3a"
             ],
             [
              0.8888888888888888,
              "#fdca26"
             ],
             [
              1.0,
              "#f0f921"
             ]
            ]
           }
          ],
          "choropleth": [
           {
            "type": "choropleth",
            "colorbar": {
             "outlinewidth": 0,
             "ticks": ""
            }
           }
          ],
          "histogram2d": [
           {
            "type": "histogram2d",
            "colorbar": {
             "outlinewidth": 0,
             "ticks": ""
            },
            "colorscale": [
             [
              0.0,
              "#0d0887"
             ],
             [
              0.1111111111111111,
              "#46039f"
             ],
             [
              0.2222222222222222,
              "#7201a8"
             ],
             [
              0.3333333333333333,
              "#9c179e"
             ],
             [
              0.4444444444444444,
              "#bd3786"
             ],
             [
              0.5555555555555556,
              "#d8576b"
             ],
             [
              0.6666666666666666,
              "#ed7953"
             ],
             [
              0.7777777777777778,
              "#fb9f3a"
             ],
             [
              0.8888888888888888,
              "#fdca26"
             ],
             [
              1.0,
              "#f0f921"
             ]
            ]
           }
          ],
          "heatmap": [
           {
            "type": "heatmap",
            "colorbar": {
             "outlinewidth": 0,
             "ticks": ""
            },
            "colorscale": [
             [
              0.0,
              "#0d0887"
             ],
             [
              0.1111111111111111,
              "#46039f"
             ],
             [
              0.2222222222222222,
              "#7201a8"
             ],
             [
              0.3333333333333333,
              "#9c179e"
             ],
             [
              0.4444444444444444,
              "#bd3786"
             ],
             [
              0.5555555555555556,
              "#d8576b"
             ],
             [
              0.6666666666666666,
              "#ed7953"
             ],
             [
              0.7777777777777778,
              "#fb9f3a"
             ],
             [
              0.8888888888888888,
              "#fdca26"
             ],
             [
              1.0,
              "#f0f921"
             ]
            ]
           }
          ],
          "heatmapgl": [
           {
            "type": "heatmapgl",
            "colorbar": {
             "outlinewidth": 0,
             "ticks": ""
            },
            "colorscale": [
             [
              0.0,
              "#0d0887"
             ],
             [
              0.1111111111111111,
              "#46039f"
             ],
             [
              0.2222222222222222,
              "#7201a8"
             ],
             [
              0.3333333333333333,
              "#9c179e"
             ],
             [
              0.4444444444444444,
              "#bd3786"
             ],
             [
              0.5555555555555556,
              "#d8576b"
             ],
             [
              0.6666666666666666,
              "#ed7953"
             ],
             [
              0.7777777777777778,
              "#fb9f3a"
             ],
             [
              0.8888888888888888,
              "#fdca26"
             ],
             [
              1.0,
              "#f0f921"
             ]
            ]
           }
          ],
          "contourcarpet": [
           {
            "type": "contourcarpet",
            "colorbar": {
             "outlinewidth": 0,
             "ticks": ""
            }
           }
          ],
          "contour": [
           {
            "type": "contour",
            "colorbar": {
             "outlinewidth": 0,
             "ticks": ""
            },
            "colorscale": [
             [
              0.0,
              "#0d0887"
             ],
             [
              0.1111111111111111,
              "#46039f"
             ],
             [
              0.2222222222222222,
              "#7201a8"
             ],
             [
              0.3333333333333333,
              "#9c179e"
             ],
             [
              0.4444444444444444,
              "#bd3786"
             ],
             [
              0.5555555555555556,
              "#d8576b"
             ],
             [
              0.6666666666666666,
              "#ed7953"
             ],
             [
              0.7777777777777778,
              "#fb9f3a"
             ],
             [
              0.8888888888888888,
              "#fdca26"
             ],
             [
              1.0,
              "#f0f921"
             ]
            ]
           }
          ],
          "surface": [
           {
            "type": "surface",
            "colorbar": {
             "outlinewidth": 0,
             "ticks": ""
            },
            "colorscale": [
             [
              0.0,
              "#0d0887"
             ],
             [
              0.1111111111111111,
              "#46039f"
             ],
             [
              0.2222222222222222,
              "#7201a8"
             ],
             [
              0.3333333333333333,
              "#9c179e"
             ],
             [
              0.4444444444444444,
              "#bd3786"
             ],
             [
              0.5555555555555556,
              "#d8576b"
             ],
             [
              0.6666666666666666,
              "#ed7953"
             ],
             [
              0.7777777777777778,
              "#fb9f3a"
             ],
             [
              0.8888888888888888,
              "#fdca26"
             ],
             [
              1.0,
              "#f0f921"
             ]
            ]
           }
          ],
          "mesh3d": [
           {
            "type": "mesh3d",
            "colorbar": {
             "outlinewidth": 0,
             "ticks": ""
            }
           }
          ],
          "scatter": [
           {
            "fillpattern": {
             "fillmode": "overlay",
             "size": 10,
             "solidity": 0.2
            },
            "type": "scatter"
           }
          ],
          "parcoords": [
           {
            "type": "parcoords",
            "line": {
             "colorbar": {
              "outlinewidth": 0,
              "ticks": ""
             }
            }
           }
          ],
          "scatterpolargl": [
           {
            "type": "scatterpolargl",
            "marker": {
             "colorbar": {
              "outlinewidth": 0,
              "ticks": ""
             }
            }
           }
          ],
          "bar": [
           {
            "error_x": {
             "color": "#2a3f5f"
            },
            "error_y": {
             "color": "#2a3f5f"
            },
            "marker": {
             "line": {
              "color": "#E5ECF6",
              "width": 0.5
             },
             "pattern": {
              "fillmode": "overlay",
              "size": 10,
              "solidity": 0.2
             }
            },
            "type": "bar"
           }
          ],
          "scattergeo": [
           {
            "type": "scattergeo",
            "marker": {
             "colorbar": {
              "outlinewidth": 0,
              "ticks": ""
             }
            }
           }
          ],
          "scatterpolar": [
           {
            "type": "scatterpolar",
            "marker": {
             "colorbar": {
              "outlinewidth": 0,
              "ticks": ""
             }
            }
           }
          ],
          "histogram": [
           {
            "marker": {
             "pattern": {
              "fillmode": "overlay",
              "size": 10,
              "solidity": 0.2
             }
            },
            "type": "histogram"
           }
          ],
          "scattergl": [
           {
            "type": "scattergl",
            "marker": {
             "colorbar": {
              "outlinewidth": 0,
              "ticks": ""
             }
            }
           }
          ],
          "scatter3d": [
           {
            "type": "scatter3d",
            "line": {
             "colorbar": {
              "outlinewidth": 0,
              "ticks": ""
             }
            },
            "marker": {
             "colorbar": {
              "outlinewidth": 0,
              "ticks": ""
             }
            }
           }
          ],
          "scattermapbox": [
           {
            "type": "scattermapbox",
            "marker": {
             "colorbar": {
              "outlinewidth": 0,
              "ticks": ""
             }
            }
           }
          ],
          "scatterternary": [
           {
            "type": "scatterternary",
            "marker": {
             "colorbar": {
              "outlinewidth": 0,
              "ticks": ""
             }
            }
           }
          ],
          "scattercarpet": [
           {
            "type": "scattercarpet",
            "marker": {
             "colorbar": {
              "outlinewidth": 0,
              "ticks": ""
             }
            }
           }
          ],
          "carpet": [
           {
            "aaxis": {
             "endlinecolor": "#2a3f5f",
             "gridcolor": "white",
             "linecolor": "white",
             "minorgridcolor": "white",
             "startlinecolor": "#2a3f5f"
            },
            "baxis": {
             "endlinecolor": "#2a3f5f",
             "gridcolor": "white",
             "linecolor": "white",
             "minorgridcolor": "white",
             "startlinecolor": "#2a3f5f"
            },
            "type": "carpet"
           }
          ],
          "table": [
           {
            "cells": {
             "fill": {
              "color": "#EBF0F8"
             },
             "line": {
              "color": "white"
             }
            },
            "header": {
             "fill": {
              "color": "#C8D4E3"
             },
             "line": {
              "color": "white"
             }
            },
            "type": "table"
           }
          ],
          "barpolar": [
           {
            "marker": {
             "line": {
              "color": "#E5ECF6",
              "width": 0.5
             },
             "pattern": {
              "fillmode": "overlay",
              "size": 10,
              "solidity": 0.2
             }
            },
            "type": "barpolar"
           }
          ],
          "pie": [
           {
            "automargin": true,
            "type": "pie"
           }
          ]
         },
         "layout": {
          "autotypenumbers": "strict",
          "colorway": [
           "#636efa",
           "#EF553B",
           "#00cc96",
           "#ab63fa",
           "#FFA15A",
           "#19d3f3",
           "#FF6692",
           "#B6E880",
           "#FF97FF",
           "#FECB52"
          ],
          "font": {
           "color": "#2a3f5f"
          },
          "hovermode": "closest",
          "hoverlabel": {
           "align": "left"
          },
          "paper_bgcolor": "white",
          "plot_bgcolor": "#E5ECF6",
          "polar": {
           "bgcolor": "#E5ECF6",
           "angularaxis": {
            "gridcolor": "white",
            "linecolor": "white",
            "ticks": ""
           },
           "radialaxis": {
            "gridcolor": "white",
            "linecolor": "white",
            "ticks": ""
           }
          },
          "ternary": {
           "bgcolor": "#E5ECF6",
           "aaxis": {
            "gridcolor": "white",
            "linecolor": "white",
            "ticks": ""
           },
           "baxis": {
            "gridcolor": "white",
            "linecolor": "white",
            "ticks": ""
           },
           "caxis": {
            "gridcolor": "white",
            "linecolor": "white",
            "ticks": ""
           }
          },
          "coloraxis": {
           "colorbar": {
            "outlinewidth": 0,
            "ticks": ""
           }
          },
          "colorscale": {
           "sequential": [
            [
             0.0,
             "#0d0887"
            ],
            [
             0.1111111111111111,
             "#46039f"
            ],
            [
             0.2222222222222222,
             "#7201a8"
            ],
            [
             0.3333333333333333,
             "#9c179e"
            ],
            [
             0.4444444444444444,
             "#bd3786"
            ],
            [
             0.5555555555555556,
             "#d8576b"
            ],
            [
             0.6666666666666666,
             "#ed7953"
            ],
            [
             0.7777777777777778,
             "#fb9f3a"
            ],
            [
             0.8888888888888888,
             "#fdca26"
            ],
            [
             1.0,
             "#f0f921"
            ]
           ],
           "sequentialminus": [
            [
             0.0,
             "#0d0887"
            ],
            [
             0.1111111111111111,
             "#46039f"
            ],
            [
             0.2222222222222222,
             "#7201a8"
            ],
            [
             0.3333333333333333,
             "#9c179e"
            ],
            [
             0.4444444444444444,
             "#bd3786"
            ],
            [
             0.5555555555555556,
             "#d8576b"
            ],
            [
             0.6666666666666666,
             "#ed7953"
            ],
            [
             0.7777777777777778,
             "#fb9f3a"
            ],
            [
             0.8888888888888888,
             "#fdca26"
            ],
            [
             1.0,
             "#f0f921"
            ]
           ],
           "diverging": [
            [
             0,
             "#8e0152"
            ],
            [
             0.1,
             "#c51b7d"
            ],
            [
             0.2,
             "#de77ae"
            ],
            [
             0.3,
             "#f1b6da"
            ],
            [
             0.4,
             "#fde0ef"
            ],
            [
             0.5,
             "#f7f7f7"
            ],
            [
             0.6,
             "#e6f5d0"
            ],
            [
             0.7,
             "#b8e186"
            ],
            [
             0.8,
             "#7fbc41"
            ],
            [
             0.9,
             "#4d9221"
            ],
            [
             1,
             "#276419"
            ]
           ]
          },
          "xaxis": {
           "gridcolor": "white",
           "linecolor": "white",
           "ticks": "",
           "title": {
            "standoff": 15
           },
           "zerolinecolor": "white",
           "automargin": true,
           "zerolinewidth": 2
          },
          "yaxis": {
           "gridcolor": "white",
           "linecolor": "white",
           "ticks": "",
           "title": {
            "standoff": 15
           },
           "zerolinecolor": "white",
           "automargin": true,
           "zerolinewidth": 2
          },
          "scene": {
           "xaxis": {
            "backgroundcolor": "#E5ECF6",
            "gridcolor": "white",
            "linecolor": "white",
            "showbackground": true,
            "ticks": "",
            "zerolinecolor": "white",
            "gridwidth": 2
           },
           "yaxis": {
            "backgroundcolor": "#E5ECF6",
            "gridcolor": "white",
            "linecolor": "white",
            "showbackground": true,
            "ticks": "",
            "zerolinecolor": "white",
            "gridwidth": 2
           },
           "zaxis": {
            "backgroundcolor": "#E5ECF6",
            "gridcolor": "white",
            "linecolor": "white",
            "showbackground": true,
            "ticks": "",
            "zerolinecolor": "white",
            "gridwidth": 2
           }
          },
          "shapedefaults": {
           "line": {
            "color": "#2a3f5f"
           }
          },
          "annotationdefaults": {
           "arrowcolor": "#2a3f5f",
           "arrowhead": 0,
           "arrowwidth": 1
          },
          "geo": {
           "bgcolor": "white",
           "landcolor": "#E5ECF6",
           "subunitcolor": "white",
           "showland": true,
           "showlakes": true,
           "lakecolor": "white"
          },
          "title": {
           "x": 0.05
          },
          "mapbox": {
           "style": "light"
          }
         }
        }
       },
       "config": {
        "plotlyServerURL": "https://plot.ly"
       }
      },
      "text/html": "<div>                            <div id=\"90c6784a-bd86-4903-8690-7369089f71ea\" class=\"plotly-graph-div\" style=\"height:640px; width:640px;\"></div>            <script type=\"text/javascript\">                require([\"plotly\"], function(Plotly) {                    window.PLOTLYENV=window.PLOTLYENV || {};                                    if (document.getElementById(\"90c6784a-bd86-4903-8690-7369089f71ea\")) {                    Plotly.newPlot(                        \"90c6784a-bd86-4903-8690-7369089f71ea\",                        [{\"hole\":0.5,\"hoverinfo\":\"text+label+value\",\"labels\":[\"Test Product - B\",\"Test Product - C\",\"Test Product - D\",\"Test Product - A\",\"Test Product - E\"],\"showlegend\":false,\"textfont\":{\"size\":12},\"textinfo\":\"percent+label\",\"textposition\":\"inside\",\"values\":[14,11,10,8,7],\"type\":\"pie\"}],                        {\"colorway\":[\"rgb(133, 92, 117)\",\"rgb(217, 175, 107)\",\"rgb(175, 100, 88)\",\"rgb(115, 111, 76)\",\"rgb(82, 106, 131)\",\"rgb(98, 83, 119)\",\"rgb(104, 133, 92)\",\"rgb(156, 156, 94)\",\"rgb(160, 97, 119)\",\"rgb(140, 120, 93)\",\"rgb(124, 124, 124)\"],\"height\":640,\"paper_bgcolor\":\"#333333\",\"title\":{\"font\":{\"color\":\"white\",\"size\":24},\"text\":\"Learner Count by Team\"},\"width\":640,\"template\":{\"data\":{\"histogram2dcontour\":[{\"type\":\"histogram2dcontour\",\"colorbar\":{\"outlinewidth\":0,\"ticks\":\"\"},\"colorscale\":[[0.0,\"#0d0887\"],[0.1111111111111111,\"#46039f\"],[0.2222222222222222,\"#7201a8\"],[0.3333333333333333,\"#9c179e\"],[0.4444444444444444,\"#bd3786\"],[0.5555555555555556,\"#d8576b\"],[0.6666666666666666,\"#ed7953\"],[0.7777777777777778,\"#fb9f3a\"],[0.8888888888888888,\"#fdca26\"],[1.0,\"#f0f921\"]]}],\"choropleth\":[{\"type\":\"choropleth\",\"colorbar\":{\"outlinewidth\":0,\"ticks\":\"\"}}],\"histogram2d\":[{\"type\":\"histogram2d\",\"colorbar\":{\"outlinewidth\":0,\"ticks\":\"\"},\"colorscale\":[[0.0,\"#0d0887\"],[0.1111111111111111,\"#46039f\"],[0.2222222222222222,\"#7201a8\"],[0.3333333333333333,\"#9c179e\"],[0.4444444444444444,\"#bd3786\"],[0.5555555555555556,\"#d8576b\"],[0.6666666666666666,\"#ed7953\"],[0.7777777777777778,\"#fb9f3a\"],[0.8888888888888888,\"#fdca26\"],[1.0,\"#f0f921\"]]}],\"heatmap\":[{\"type\":\"heatmap\",\"colorbar\":{\"outlinewidth\":0,\"ticks\":\"\"},\"colorscale\":[[0.0,\"#0d0887\"],[0.1111111111111111,\"#46039f\"],[0.2222222222222222,\"#7201a8\"],[0.3333333333333333,\"#9c179e\"],[0.4444444444444444,\"#bd3786\"],[0.5555555555555556,\"#d8576b\"],[0.6666666666666666,\"#ed7953\"],[0.7777777777777778,\"#fb9f3a\"],[0.8888888888888888,\"#fdca26\"],[1.0,\"#f0f921\"]]}],\"heatmapgl\":[{\"type\":\"heatmapgl\",\"colorbar\":{\"outlinewidth\":0,\"ticks\":\"\"},\"colorscale\":[[0.0,\"#0d0887\"],[0.1111111111111111,\"#46039f\"],[0.2222222222222222,\"#7201a8\"],[0.3333333333333333,\"#9c179e\"],[0.4444444444444444,\"#bd3786\"],[0.5555555555555556,\"#d8576b\"],[0.6666666666666666,\"#ed7953\"],[0.7777777777777778,\"#fb9f3a\"],[0.8888888888888888,\"#fdca26\"],[1.0,\"#f0f921\"]]}],\"contourcarpet\":[{\"type\":\"contourcarpet\",\"colorbar\":{\"outlinewidth\":0,\"ticks\":\"\"}}],\"contour\":[{\"type\":\"contour\",\"colorbar\":{\"outlinewidth\":0,\"ticks\":\"\"},\"colorscale\":[[0.0,\"#0d0887\"],[0.1111111111111111,\"#46039f\"],[0.2222222222222222,\"#7201a8\"],[0.3333333333333333,\"#9c179e\"],[0.4444444444444444,\"#bd3786\"],[0.5555555555555556,\"#d8576b\"],[0.6666666666666666,\"#ed7953\"],[0.7777777777777778,\"#fb9f3a\"],[0.8888888888888888,\"#fdca26\"],[1.0,\"#f0f921\"]]}],\"surface\":[{\"type\":\"surface\",\"colorbar\":{\"outlinewidth\":0,\"ticks\":\"\"},\"colorscale\":[[0.0,\"#0d0887\"],[0.1111111111111111,\"#46039f\"],[0.2222222222222222,\"#7201a8\"],[0.3333333333333333,\"#9c179e\"],[0.4444444444444444,\"#bd3786\"],[0.5555555555555556,\"#d8576b\"],[0.6666666666666666,\"#ed7953\"],[0.7777777777777778,\"#fb9f3a\"],[0.8888888888888888,\"#fdca26\"],[1.0,\"#f0f921\"]]}],\"mesh3d\":[{\"type\":\"mesh3d\",\"colorbar\":{\"outlinewidth\":0,\"ticks\":\"\"}}],\"scatter\":[{\"fillpattern\":{\"fillmode\":\"overlay\",\"size\":10,\"solidity\":0.2},\"type\":\"scatter\"}],\"parcoords\":[{\"type\":\"parcoords\",\"line\":{\"colorbar\":{\"outlinewidth\":0,\"ticks\":\"\"}}}],\"scatterpolargl\":[{\"type\":\"scatterpolargl\",\"marker\":{\"colorbar\":{\"outlinewidth\":0,\"ticks\":\"\"}}}],\"bar\":[{\"error_x\":{\"color\":\"#2a3f5f\"},\"error_y\":{\"color\":\"#2a3f5f\"},\"marker\":{\"line\":{\"color\":\"#E5ECF6\",\"width\":0.5},\"pattern\":{\"fillmode\":\"overlay\",\"size\":10,\"solidity\":0.2}},\"type\":\"bar\"}],\"scattergeo\":[{\"type\":\"scattergeo\",\"marker\":{\"colorbar\":{\"outlinewidth\":0,\"ticks\":\"\"}}}],\"scatterpolar\":[{\"type\":\"scatterpolar\",\"marker\":{\"colorbar\":{\"outlinewidth\":0,\"ticks\":\"\"}}}],\"histogram\":[{\"marker\":{\"pattern\":{\"fillmode\":\"overlay\",\"size\":10,\"solidity\":0.2}},\"type\":\"histogram\"}],\"scattergl\":[{\"type\":\"scattergl\",\"marker\":{\"colorbar\":{\"outlinewidth\":0,\"ticks\":\"\"}}}],\"scatter3d\":[{\"type\":\"scatter3d\",\"line\":{\"colorbar\":{\"outlinewidth\":0,\"ticks\":\"\"}},\"marker\":{\"colorbar\":{\"outlinewidth\":0,\"ticks\":\"\"}}}],\"scattermapbox\":[{\"type\":\"scattermapbox\",\"marker\":{\"colorbar\":{\"outlinewidth\":0,\"ticks\":\"\"}}}],\"scatterternary\":[{\"type\":\"scatterternary\",\"marker\":{\"colorbar\":{\"outlinewidth\":0,\"ticks\":\"\"}}}],\"scattercarpet\":[{\"type\":\"scattercarpet\",\"marker\":{\"colorbar\":{\"outlinewidth\":0,\"ticks\":\"\"}}}],\"carpet\":[{\"aaxis\":{\"endlinecolor\":\"#2a3f5f\",\"gridcolor\":\"white\",\"linecolor\":\"white\",\"minorgridcolor\":\"white\",\"startlinecolor\":\"#2a3f5f\"},\"baxis\":{\"endlinecolor\":\"#2a3f5f\",\"gridcolor\":\"white\",\"linecolor\":\"white\",\"minorgridcolor\":\"white\",\"startlinecolor\":\"#2a3f5f\"},\"type\":\"carpet\"}],\"table\":[{\"cells\":{\"fill\":{\"color\":\"#EBF0F8\"},\"line\":{\"color\":\"white\"}},\"header\":{\"fill\":{\"color\":\"#C8D4E3\"},\"line\":{\"color\":\"white\"}},\"type\":\"table\"}],\"barpolar\":[{\"marker\":{\"line\":{\"color\":\"#E5ECF6\",\"width\":0.5},\"pattern\":{\"fillmode\":\"overlay\",\"size\":10,\"solidity\":0.2}},\"type\":\"barpolar\"}],\"pie\":[{\"automargin\":true,\"type\":\"pie\"}]},\"layout\":{\"autotypenumbers\":\"strict\",\"colorway\":[\"#636efa\",\"#EF553B\",\"#00cc96\",\"#ab63fa\",\"#FFA15A\",\"#19d3f3\",\"#FF6692\",\"#B6E880\",\"#FF97FF\",\"#FECB52\"],\"font\":{\"color\":\"#2a3f5f\"},\"hovermode\":\"closest\",\"hoverlabel\":{\"align\":\"left\"},\"paper_bgcolor\":\"white\",\"plot_bgcolor\":\"#E5ECF6\",\"polar\":{\"bgcolor\":\"#E5ECF6\",\"angularaxis\":{\"gridcolor\":\"white\",\"linecolor\":\"white\",\"ticks\":\"\"},\"radialaxis\":{\"gridcolor\":\"white\",\"linecolor\":\"white\",\"ticks\":\"\"}},\"ternary\":{\"bgcolor\":\"#E5ECF6\",\"aaxis\":{\"gridcolor\":\"white\",\"linecolor\":\"white\",\"ticks\":\"\"},\"baxis\":{\"gridcolor\":\"white\",\"linecolor\":\"white\",\"ticks\":\"\"},\"caxis\":{\"gridcolor\":\"white\",\"linecolor\":\"white\",\"ticks\":\"\"}},\"coloraxis\":{\"colorbar\":{\"outlinewidth\":0,\"ticks\":\"\"}},\"colorscale\":{\"sequential\":[[0.0,\"#0d0887\"],[0.1111111111111111,\"#46039f\"],[0.2222222222222222,\"#7201a8\"],[0.3333333333333333,\"#9c179e\"],[0.4444444444444444,\"#bd3786\"],[0.5555555555555556,\"#d8576b\"],[0.6666666666666666,\"#ed7953\"],[0.7777777777777778,\"#fb9f3a\"],[0.8888888888888888,\"#fdca26\"],[1.0,\"#f0f921\"]],\"sequentialminus\":[[0.0,\"#0d0887\"],[0.1111111111111111,\"#46039f\"],[0.2222222222222222,\"#7201a8\"],[0.3333333333333333,\"#9c179e\"],[0.4444444444444444,\"#bd3786\"],[0.5555555555555556,\"#d8576b\"],[0.6666666666666666,\"#ed7953\"],[0.7777777777777778,\"#fb9f3a\"],[0.8888888888888888,\"#fdca26\"],[1.0,\"#f0f921\"]],\"diverging\":[[0,\"#8e0152\"],[0.1,\"#c51b7d\"],[0.2,\"#de77ae\"],[0.3,\"#f1b6da\"],[0.4,\"#fde0ef\"],[0.5,\"#f7f7f7\"],[0.6,\"#e6f5d0\"],[0.7,\"#b8e186\"],[0.8,\"#7fbc41\"],[0.9,\"#4d9221\"],[1,\"#276419\"]]},\"xaxis\":{\"gridcolor\":\"white\",\"linecolor\":\"white\",\"ticks\":\"\",\"title\":{\"standoff\":15},\"zerolinecolor\":\"white\",\"automargin\":true,\"zerolinewidth\":2},\"yaxis\":{\"gridcolor\":\"white\",\"linecolor\":\"white\",\"ticks\":\"\",\"title\":{\"standoff\":15},\"zerolinecolor\":\"white\",\"automargin\":true,\"zerolinewidth\":2},\"scene\":{\"xaxis\":{\"backgroundcolor\":\"#E5ECF6\",\"gridcolor\":\"white\",\"linecolor\":\"white\",\"showbackground\":true,\"ticks\":\"\",\"zerolinecolor\":\"white\",\"gridwidth\":2},\"yaxis\":{\"backgroundcolor\":\"#E5ECF6\",\"gridcolor\":\"white\",\"linecolor\":\"white\",\"showbackground\":true,\"ticks\":\"\",\"zerolinecolor\":\"white\",\"gridwidth\":2},\"zaxis\":{\"backgroundcolor\":\"#E5ECF6\",\"gridcolor\":\"white\",\"linecolor\":\"white\",\"showbackground\":true,\"ticks\":\"\",\"zerolinecolor\":\"white\",\"gridwidth\":2}},\"shapedefaults\":{\"line\":{\"color\":\"#2a3f5f\"}},\"annotationdefaults\":{\"arrowcolor\":\"#2a3f5f\",\"arrowhead\":0,\"arrowwidth\":1},\"geo\":{\"bgcolor\":\"white\",\"landcolor\":\"#E5ECF6\",\"subunitcolor\":\"white\",\"showland\":true,\"showlakes\":true,\"lakecolor\":\"white\"},\"title\":{\"x\":0.05},\"mapbox\":{\"style\":\"light\"}}}},                        {\"responsive\": true}                    ).then(function(){\n                            \nvar gd = document.getElementById('90c6784a-bd86-4903-8690-7369089f71ea');\nvar x = new MutationObserver(function (mutations, observer) {{\n        var display = window.getComputedStyle(gd).display;\n        if (!display || display === 'none') {{\n            console.log([gd, 'removed!']);\n            Plotly.purge(gd);\n            observer.disconnect();\n        }}\n}});\n\n// Listen for the removal of the full notebook cells\nvar notebookContainer = gd.closest('#notebook-container');\nif (notebookContainer) {{\n    x.observe(notebookContainer, {childList: true});\n}}\n\n// Listen for the clearing of the current output cell\nvar outputEl = gd.closest('.output');\nif (outputEl) {{\n    x.observe(outputEl, {childList: true});\n}}\n\n                        })                };                });            </script>        </div>"
     },
     "metadata": {},
     "output_type": "display_data"
    }
   ],
   "source": [
    "df_type = DataFrame(learners)\n",
    "type_value_counts = df_type[\"labsProject\"].value_counts()\n",
    "data = go.Pie(\n",
    "    labels=type_value_counts.index,\n",
    "    values=type_value_counts.values,\n",
    "    hole=0.5,\n",
    "    textinfo=\"percent+label\",\n",
    "    textfont={\"size\": 12},\n",
    "    hoverinfo=\"text+label+value\",\n",
    "    textposition='inside',\n",
    "    showlegend=False,\n",
    ")\n",
    "layout = go.Layout(\n",
    "    title={\n",
    "        \"text\": \"Learner Count by Team\",\n",
    "        \"font\": {\"color\": \"white\", \"size\": 24},\n",
    "    },\n",
    "    colorway=px.colors.qualitative.Antique,\n",
    "    width=640,\n",
    "    height=640,\n",
    "    paper_bgcolor=\"#333333\",\n",
    ")\n",
    "figure = go.Figure(data, layout)\n",
    "figure.show()"
   ],
   "metadata": {
    "collapsed": false,
    "pycharm": {
     "name": "#%%\n"
    }
   }
  },
  {
   "cell_type": "code",
   "execution_count": 56,
   "outputs": [
    {
     "data": {
      "text/plain": "         id       product teamCode     tracks     releaseManager  \\\n0  8PF0II03  Test Product        A      [Web]    Theodore Brooks   \n1  WVi2G212  Test Product        B  [Web, DS]       Grace Bennet   \n2  7zl0HJ71  Test Product        C  [Web, DS]       Henry Garcia   \n3  5P4SEZ86  Test Product        D  [Web, DS]        Mason Lewis   \n4  L4sF75S4  Test Product        E  [Web, BD]  Isabella Martinez   \n\n                                    teamMemberSmtIds  \n0  [I8G36r0AOi2U72Z8, RNdbA57eO4L77531, 63K584JuP...  \n1  [38v4o30aoNu18t5y, 5qS3AMhAN8287O66, GNS4M23h6...  \n2  [b35Hk44RMT3s6Z82, 576Jtg7HlW8L26K6, 02eh807Sf...  \n3  [8xu776bF715jCr8x, 6Xj1Jo0cm44273Km, 3k5L7N0W0...  \n4  [Gu8bmT220542V1gG, ZxeF3J306I2YN075, 80jIZo0fl...  ",
      "text/html": "<div>\n<style scoped>\n    .dataframe tbody tr th:only-of-type {\n        vertical-align: middle;\n    }\n\n    .dataframe tbody tr th {\n        vertical-align: top;\n    }\n\n    .dataframe thead th {\n        text-align: right;\n    }\n</style>\n<table border=\"1\" class=\"dataframe\">\n  <thead>\n    <tr style=\"text-align: right;\">\n      <th></th>\n      <th>id</th>\n      <th>product</th>\n      <th>teamCode</th>\n      <th>tracks</th>\n      <th>releaseManager</th>\n      <th>teamMemberSmtIds</th>\n    </tr>\n  </thead>\n  <tbody>\n    <tr>\n      <th>0</th>\n      <td>8PF0II03</td>\n      <td>Test Product</td>\n      <td>A</td>\n      <td>[Web]</td>\n      <td>Theodore Brooks</td>\n      <td>[I8G36r0AOi2U72Z8, RNdbA57eO4L77531, 63K584JuP...</td>\n    </tr>\n    <tr>\n      <th>1</th>\n      <td>WVi2G212</td>\n      <td>Test Product</td>\n      <td>B</td>\n      <td>[Web, DS]</td>\n      <td>Grace Bennet</td>\n      <td>[38v4o30aoNu18t5y, 5qS3AMhAN8287O66, GNS4M23h6...</td>\n    </tr>\n    <tr>\n      <th>2</th>\n      <td>7zl0HJ71</td>\n      <td>Test Product</td>\n      <td>C</td>\n      <td>[Web, DS]</td>\n      <td>Henry Garcia</td>\n      <td>[b35Hk44RMT3s6Z82, 576Jtg7HlW8L26K6, 02eh807Sf...</td>\n    </tr>\n    <tr>\n      <th>3</th>\n      <td>5P4SEZ86</td>\n      <td>Test Product</td>\n      <td>D</td>\n      <td>[Web, DS]</td>\n      <td>Mason Lewis</td>\n      <td>[8xu776bF715jCr8x, 6Xj1Jo0cm44273Km, 3k5L7N0W0...</td>\n    </tr>\n    <tr>\n      <th>4</th>\n      <td>L4sF75S4</td>\n      <td>Test Product</td>\n      <td>E</td>\n      <td>[Web, BD]</td>\n      <td>Isabella Martinez</td>\n      <td>[Gu8bmT220542V1gG, ZxeF3J306I2YN075, 80jIZo0fl...</td>\n    </tr>\n  </tbody>\n</table>\n</div>"
     },
     "execution_count": 56,
     "metadata": {},
     "output_type": "execute_result"
    }
   ],
   "source": [
    "projects_df = DataFrame(projects)\n",
    "projects_df"
   ],
   "metadata": {
    "collapsed": false,
    "pycharm": {
     "name": "#%%\n"
    }
   }
  },
  {
   "cell_type": "code",
   "execution_count": 57,
   "outputs": [
    {
     "data": {
      "text/plain": "            lambdaId                name track       labsProject  \\\n0   b35Hk44RMT3s6Z82       Benjamin Hall    DS  Test Product - C   \n1   38v4o30aoNu18t5y      Chloe Martinez   Web  Test Product - B   \n2   8xu776bF715jCr8x        Jacob Harris   Web  Test Product - D   \n3   576Jtg7HlW8L26K6         Madison Lee   Web  Test Product - C   \n4   5qS3AMhAN8287O66         Liam Nelson   Web  Test Product - B   \n5   6Xj1Jo0cm44273Km     Benjamin Taylor   Web  Test Product - D   \n6   02eh807Sf11zAD0S        Olivia Scott   Web  Test Product - C   \n7   GNS4M23h6b52w0L4     Theodore Martin   Web  Test Product - B   \n8   3k5L7N0W0QE4M4Q2     Penelope Wright   Web  Test Product - D   \n9   2HS3X74n8eO276FW       Wyatt Ramirez   Web  Test Product - C   \n10  1U1b8i1we2hr8a87       Amelia Bennet    DS  Test Product - B   \n11  I8G36r0AOi2U72Z8       Madison Allen   Web  Test Product - A   \n12  Gu8bmT220542V1gG          Lucas Hill    BD  Test Product - E   \n13  3uaI3AK2012R7NE3         Ethan White   Web  Test Product - D   \n14  4GUpL01Jq2R354a1       Jacob Ramirez    DS  Test Product - C   \n15  8H71MbT5G0p8K46O       Scarlett King    DS  Test Product - B   \n16  RNdbA57eO4L77531        Lucas Harris   Web  Test Product - A   \n17  U7h0c8ZV1K5e30R3       Ellie Johnson    DS  Test Product - D   \n18  B3k85S56w27qO5Ct        Harper Smith   Web  Test Product - C   \n19  30XfMbgG46Jv0415  Jackson Richardson    DS  Test Product - B   \n20  63K584JuPS8cU3b3       John Williams   Web  Test Product - A   \n21  ZxeF3J306I2YN075       Lucas Jackson   Web  Test Product - E   \n22  C25Xh854S1Wp0Ey4       Liam Gonzales   Web  Test Product - B   \n23  5xF2TK71Y1Jc2Q88         Luna Watson    DS  Test Product - D   \n24  ET8Jh348521QI3ru         Daniel Hill    DS  Test Product - D   \n25  ee16ak37l0Q8C57I        Jack Ramirez   Web  Test Product - C   \n26  2Y3XqSB5578kY6e4         Grace Young    DS  Test Product - B   \n27  5CLmeBU51d0P5428       Avery Sanchez   Web  Test Product - A   \n28  80jIZo0fl0027uG6       Abigail Jones   Web  Test Product - E   \n29  Co132j16a11qA8Sc      Aiden Campbell   Web  Test Product - D   \n30  kp5BX7i6A7Y8078j        Olivia Clark    DS  Test Product - C   \n31  mXK87l76b2dy44W6        Oliver Smith   Web  Test Product - B   \n32  MbPw43707u7LTh58        Layla Miller   Web  Test Product - A   \n33  mx00yY6P065x56uT          Ava Rivera   Web  Test Product - E   \n34  X364WS7aIj18T36n        Henry Thomas    DS  Test Product - D   \n35  508Fbg4BJ7y75Xc0          Levi James    DS  Test Product - C   \n36  f1326W8lK5gX62Yl        Scarlett Lee   Web  Test Product - B   \n37  2W467KLmk05j14Is         James White    DS  Test Product - B   \n38  71eplf517Tm84a5F       Evelyn Taylor   Web  Test Product - A   \n39  j7H61724PXGm34OF      Avery Gonzales    DS  Test Product - B   \n40  3Nxxo8w57346Bw7p         Jacob Brown   Web  Test Product - A   \n41  q7C35e2x17qbne50   Theodore Robinson   Web  Test Product - C   \n42  TUIuLd016363R5o7        Layla Nelson   Web  Test Product - E   \n43  vd14W6L3735d6Idx      Wyatt Campbell    BD  Test Product - E   \n44  0y81B635p2dN2DKU        Amelia Lopez    DS  Test Product - D   \n45  6n6otu033208ECIc    Madison Anderson    DS  Test Product - C   \n46  x6s7443CdW5n81nz         Emily Brown   Web  Test Product - B   \n47  bZEu85P5k01887Cg        David Chavez   Web  Test Product - A   \n48  877tWY36So3h2o3i   Harper Richardson    BD  Test Product - E   \n49  6F0L4O5LV4V651rl      Mateo Thompson   Web  Test Product - B   \n\n    gitExpertise  dockerExpertise  playByEar  detailOriented  \\\n0              4                5          5               2   \n1              2                1          3               5   \n2              3                1          5               5   \n3              3                4          3               5   \n4              5                2          2               2   \n5              3                1          2               3   \n6              2                4          3               3   \n7              2                1          1               1   \n8              1                5          5               1   \n9              5                2          3               4   \n10             4                5          1               1   \n11             2                4          5               5   \n12             3                5          5               5   \n13             5                2          3               4   \n14             5                5          1               5   \n15             1                2          2               1   \n16             3                3          5               2   \n17             4                3          1               4   \n18             3                5          2               1   \n19             4                4          1               5   \n20             3                1          5               4   \n21             4                4          4               1   \n22             2                4          5               1   \n23             4                2          1               5   \n24             1                5          4               2   \n25             4                3          4               5   \n26             5                2          1               2   \n27             2                3          4               1   \n28             1                3          5               2   \n29             2                3          1               1   \n30             5                2          5               4   \n31             1                5          2               5   \n32             2                5          2               5   \n33             5                3          5               1   \n34             4                2          1               2   \n35             3                4          1               3   \n36             3                1          4               4   \n37             5                1          5               2   \n38             2                5          1               4   \n39             3                3          2               4   \n40             1                4          2               5   \n41             4                5          2               4   \n42             1                2          2               3   \n43             1                2          3               5   \n44             4                5          2               2   \n45             5                5          5               2   \n46             4                5          1               4   \n47             2                1          2               4   \n48             3                3          5               1   \n49             4                2          1               1   \n\n    speakUpInDiscussions soloOrSocial  ... mlOpsInterest2 mlOpsInterest3  \\\n0                      5            B  ...              1              4   \n1                      5            B  ...              0              0   \n2                      5            A  ...              0              0   \n3                      3            A  ...              0              0   \n4                      4            B  ...              0              0   \n5                      3            A  ...              0              0   \n6                      4            A  ...              0              0   \n7                      2            B  ...              0              0   \n8                      3            B  ...              0              0   \n9                      2            A  ...              0              0   \n10                     3            A  ...              2              1   \n11                     3            B  ...              0              0   \n12                     5            A  ...              0              0   \n13                     2            A  ...              0              0   \n14                     5            A  ...              4              2   \n15                     3            B  ...              1              2   \n16                     5            A  ...              0              0   \n17                     2            B  ...              2              3   \n18                     1            A  ...              0              0   \n19                     4            B  ...              4              3   \n20                     3            B  ...              0              0   \n21                     5            A  ...              0              0   \n22                     5            B  ...              0              0   \n23                     2            B  ...              2              2   \n24                     4            A  ...              3              3   \n25                     2            A  ...              0              0   \n26                     3            A  ...              3              1   \n27                     2            B  ...              0              0   \n28                     3            B  ...              0              0   \n29                     5            B  ...              0              0   \n30                     3            B  ...              4              3   \n31                     1            A  ...              0              0   \n32                     4            B  ...              0              0   \n33                     1            B  ...              0              0   \n34                     1            A  ...              2              4   \n35                     4            A  ...              3              1   \n36                     4            B  ...              0              0   \n37                     2            B  ...              2              1   \n38                     2            B  ...              0              0   \n39                     1            A  ...              1              3   \n40                     3            B  ...              0              0   \n41                     5            A  ...              0              0   \n42                     2            B  ...              0              0   \n43                     1            B  ...              0              0   \n44                     2            A  ...              1              2   \n45                     2            A  ...              1              4   \n46                     5            B  ...              0              0   \n47                     4            B  ...              0              0   \n48                     5            B  ...              0              0   \n49                     4            A  ...              0              0   \n\n   tpmSkillRank tpmInterestRank uxInterestRank frontendInterestRank  \\\n0      0.333333          0.3125          0.000                0.000   \n1      0.333333          0.5000          0.875                0.250   \n2      0.666667          0.6250          0.250                1.000   \n3      0.333333          0.5625          0.750                0.750   \n4      0.333333          0.5000          0.625                0.625   \n5      0.333333          0.6250          0.625                0.625   \n6      1.000000          0.6250          0.500                0.625   \n7      0.666667          0.9375          0.250                0.625   \n8      0.000000          0.7500          0.625                0.875   \n9      0.000000          0.6875          0.500                0.875   \n10     0.333333          0.6875          0.000                0.000   \n11     0.000000          0.6250          0.625                0.625   \n12     0.666667          0.5625          0.000                0.000   \n13     0.333333          0.5625          0.625                0.375   \n14     1.000000          0.8125          0.000                0.000   \n15     0.333333          0.5625          0.000                0.000   \n16     0.666667          0.5000          0.500                0.500   \n17     0.000000          0.4375          0.000                0.000   \n18     0.333333          0.5625          0.875                0.750   \n19     0.333333          0.8125          0.000                0.000   \n20     0.333333          0.5625          1.000                0.625   \n21     0.000000          0.6250          0.500                0.375   \n22     0.333333          0.7500          1.000                0.875   \n23     0.333333          0.6875          0.000                0.000   \n24     0.666667          0.6875          0.000                0.000   \n25     0.666667          0.6875          0.750                0.875   \n26     0.000000          0.9375          0.000                0.000   \n27     0.333333          0.7500          0.250                0.625   \n28     0.000000          0.7500          0.625                0.250   \n29     0.666667          0.5625          0.500                0.625   \n30     1.000000          0.5000          0.000                0.000   \n31     0.000000          0.6875          0.750                0.625   \n32     0.000000          0.3750          0.500                0.750   \n33     0.000000          0.6875          0.500                0.625   \n34     0.000000          0.7500          0.000                0.000   \n35     0.666667          0.6875          0.000                0.000   \n36     0.000000          0.4375          0.500                0.375   \n37     0.000000          0.3750          0.000                0.000   \n38     0.333333          0.7500          0.625                0.375   \n39     0.666667          0.6250          0.000                0.000   \n40     0.000000          0.5000          0.750                0.750   \n41     0.333333          0.5625          0.625                0.625   \n42     0.333333          0.6250          0.625                0.625   \n43     0.666667          0.8750          0.000                0.000   \n44     0.333333          0.6875          0.000                0.000   \n45     0.333333          0.5000          0.000                0.000   \n46     0.000000          0.5000          0.375                0.875   \n47     0.666667          0.8125          0.625                1.000   \n48     0.333333          0.6250          0.000                0.000   \n49     0.333333          0.7500          0.375                0.750   \n\n    backendInterestRank  dataEngInterestRank  mlEngInterestRank  \\\n0                 0.000             0.666667           0.750000   \n1                 0.500             0.000000           0.000000   \n2                 0.500             0.000000           0.000000   \n3                 0.750             0.000000           0.000000   \n4                 0.750             0.000000           0.000000   \n5                 0.375             0.000000           0.000000   \n6                 0.500             0.000000           0.000000   \n7                 0.750             0.000000           0.000000   \n8                 1.000             0.000000           0.000000   \n9                 0.500             0.000000           0.000000   \n10                0.000             0.333333           0.916667   \n11                0.625             0.000000           0.000000   \n12                0.000             0.000000           0.000000   \n13                0.875             0.000000           0.000000   \n14                0.000             0.750000           0.750000   \n15                0.000             0.750000           0.666667   \n16                0.500             0.000000           0.000000   \n17                0.000             0.333333           0.916667   \n18                0.625             0.000000           0.000000   \n19                0.000             0.333333           0.833333   \n20                0.625             0.000000           0.000000   \n21                0.625             0.000000           0.000000   \n22                0.875             0.000000           0.000000   \n23                0.000             0.666667           0.583333   \n24                0.000             0.666667           0.833333   \n25                0.500             0.000000           0.000000   \n26                0.000             0.583333           0.583333   \n27                0.625             0.000000           0.000000   \n28                0.625             0.000000           0.000000   \n29                0.875             0.000000           0.000000   \n30                0.000             0.666667           0.666667   \n31                0.750             0.000000           0.000000   \n32                0.875             0.000000           0.000000   \n33                0.625             0.000000           0.000000   \n34                0.000             0.583333           0.583333   \n35                0.000             0.583333           0.750000   \n36                0.500             0.000000           0.000000   \n37                0.000             0.583333           1.000000   \n38                0.375             0.000000           0.000000   \n39                0.000             0.666667           0.750000   \n40                0.750             0.000000           0.000000   \n41                0.625             0.000000           0.000000   \n42                1.000             0.000000           0.000000   \n43                0.000             0.000000           0.000000   \n44                0.000             0.916667           0.833333   \n45                0.000             0.666667           0.500000   \n46                0.375             0.000000           0.000000   \n47                0.750             0.000000           0.000000   \n48                0.000             0.000000           0.000000   \n49                0.500             0.000000           0.000000   \n\n    mlOpsInterestRank  \n0            0.583333  \n1            0.000000  \n2            0.000000  \n3            0.000000  \n4            0.000000  \n5            0.000000  \n6            0.000000  \n7            0.000000  \n8            0.000000  \n9            0.000000  \n10           0.333333  \n11           0.000000  \n12           0.000000  \n13           0.000000  \n14           0.666667  \n15           0.333333  \n16           0.000000  \n17           0.583333  \n18           0.000000  \n19           0.666667  \n20           0.000000  \n21           0.000000  \n22           0.000000  \n23           0.416667  \n24           0.583333  \n25           0.000000  \n26           0.416667  \n27           0.000000  \n28           0.000000  \n29           0.000000  \n30           0.833333  \n31           0.000000  \n32           0.000000  \n33           0.000000  \n34           0.750000  \n35           0.416667  \n36           0.000000  \n37           0.416667  \n38           0.000000  \n39           0.500000  \n40           0.000000  \n41           0.000000  \n42           0.000000  \n43           0.000000  \n44           0.416667  \n45           0.666667  \n46           0.000000  \n47           0.000000  \n48           0.000000  \n49           0.000000  \n\n[50 rows x 43 columns]",
      "text/html": "<div>\n<style scoped>\n    .dataframe tbody tr th:only-of-type {\n        vertical-align: middle;\n    }\n\n    .dataframe tbody tr th {\n        vertical-align: top;\n    }\n\n    .dataframe thead th {\n        text-align: right;\n    }\n</style>\n<table border=\"1\" class=\"dataframe\">\n  <thead>\n    <tr style=\"text-align: right;\">\n      <th></th>\n      <th>lambdaId</th>\n      <th>name</th>\n      <th>track</th>\n      <th>labsProject</th>\n      <th>gitExpertise</th>\n      <th>dockerExpertise</th>\n      <th>playByEar</th>\n      <th>detailOriented</th>\n      <th>speakUpInDiscussions</th>\n      <th>soloOrSocial</th>\n      <th>...</th>\n      <th>mlOpsInterest2</th>\n      <th>mlOpsInterest3</th>\n      <th>tpmSkillRank</th>\n      <th>tpmInterestRank</th>\n      <th>uxInterestRank</th>\n      <th>frontendInterestRank</th>\n      <th>backendInterestRank</th>\n      <th>dataEngInterestRank</th>\n      <th>mlEngInterestRank</th>\n      <th>mlOpsInterestRank</th>\n    </tr>\n  </thead>\n  <tbody>\n    <tr>\n      <th>0</th>\n      <td>b35Hk44RMT3s6Z82</td>\n      <td>Benjamin Hall</td>\n      <td>DS</td>\n      <td>Test Product - C</td>\n      <td>4</td>\n      <td>5</td>\n      <td>5</td>\n      <td>2</td>\n      <td>5</td>\n      <td>B</td>\n      <td>...</td>\n      <td>1</td>\n      <td>4</td>\n      <td>0.333333</td>\n      <td>0.3125</td>\n      <td>0.000</td>\n      <td>0.000</td>\n      <td>0.000</td>\n      <td>0.666667</td>\n      <td>0.750000</td>\n      <td>0.583333</td>\n    </tr>\n    <tr>\n      <th>1</th>\n      <td>38v4o30aoNu18t5y</td>\n      <td>Chloe Martinez</td>\n      <td>Web</td>\n      <td>Test Product - B</td>\n      <td>2</td>\n      <td>1</td>\n      <td>3</td>\n      <td>5</td>\n      <td>5</td>\n      <td>B</td>\n      <td>...</td>\n      <td>0</td>\n      <td>0</td>\n      <td>0.333333</td>\n      <td>0.5000</td>\n      <td>0.875</td>\n      <td>0.250</td>\n      <td>0.500</td>\n      <td>0.000000</td>\n      <td>0.000000</td>\n      <td>0.000000</td>\n    </tr>\n    <tr>\n      <th>2</th>\n      <td>8xu776bF715jCr8x</td>\n      <td>Jacob Harris</td>\n      <td>Web</td>\n      <td>Test Product - D</td>\n      <td>3</td>\n      <td>1</td>\n      <td>5</td>\n      <td>5</td>\n      <td>5</td>\n      <td>A</td>\n      <td>...</td>\n      <td>0</td>\n      <td>0</td>\n      <td>0.666667</td>\n      <td>0.6250</td>\n      <td>0.250</td>\n      <td>1.000</td>\n      <td>0.500</td>\n      <td>0.000000</td>\n      <td>0.000000</td>\n      <td>0.000000</td>\n    </tr>\n    <tr>\n      <th>3</th>\n      <td>576Jtg7HlW8L26K6</td>\n      <td>Madison Lee</td>\n      <td>Web</td>\n      <td>Test Product - C</td>\n      <td>3</td>\n      <td>4</td>\n      <td>3</td>\n      <td>5</td>\n      <td>3</td>\n      <td>A</td>\n      <td>...</td>\n      <td>0</td>\n      <td>0</td>\n      <td>0.333333</td>\n      <td>0.5625</td>\n      <td>0.750</td>\n      <td>0.750</td>\n      <td>0.750</td>\n      <td>0.000000</td>\n      <td>0.000000</td>\n      <td>0.000000</td>\n    </tr>\n    <tr>\n      <th>4</th>\n      <td>5qS3AMhAN8287O66</td>\n      <td>Liam Nelson</td>\n      <td>Web</td>\n      <td>Test Product - B</td>\n      <td>5</td>\n      <td>2</td>\n      <td>2</td>\n      <td>2</td>\n      <td>4</td>\n      <td>B</td>\n      <td>...</td>\n      <td>0</td>\n      <td>0</td>\n      <td>0.333333</td>\n      <td>0.5000</td>\n      <td>0.625</td>\n      <td>0.625</td>\n      <td>0.750</td>\n      <td>0.000000</td>\n      <td>0.000000</td>\n      <td>0.000000</td>\n    </tr>\n    <tr>\n      <th>5</th>\n      <td>6Xj1Jo0cm44273Km</td>\n      <td>Benjamin Taylor</td>\n      <td>Web</td>\n      <td>Test Product - D</td>\n      <td>3</td>\n      <td>1</td>\n      <td>2</td>\n      <td>3</td>\n      <td>3</td>\n      <td>A</td>\n      <td>...</td>\n      <td>0</td>\n      <td>0</td>\n      <td>0.333333</td>\n      <td>0.6250</td>\n      <td>0.625</td>\n      <td>0.625</td>\n      <td>0.375</td>\n      <td>0.000000</td>\n      <td>0.000000</td>\n      <td>0.000000</td>\n    </tr>\n    <tr>\n      <th>6</th>\n      <td>02eh807Sf11zAD0S</td>\n      <td>Olivia Scott</td>\n      <td>Web</td>\n      <td>Test Product - C</td>\n      <td>2</td>\n      <td>4</td>\n      <td>3</td>\n      <td>3</td>\n      <td>4</td>\n      <td>A</td>\n      <td>...</td>\n      <td>0</td>\n      <td>0</td>\n      <td>1.000000</td>\n      <td>0.6250</td>\n      <td>0.500</td>\n      <td>0.625</td>\n      <td>0.500</td>\n      <td>0.000000</td>\n      <td>0.000000</td>\n      <td>0.000000</td>\n    </tr>\n    <tr>\n      <th>7</th>\n      <td>GNS4M23h6b52w0L4</td>\n      <td>Theodore Martin</td>\n      <td>Web</td>\n      <td>Test Product - B</td>\n      <td>2</td>\n      <td>1</td>\n      <td>1</td>\n      <td>1</td>\n      <td>2</td>\n      <td>B</td>\n      <td>...</td>\n      <td>0</td>\n      <td>0</td>\n      <td>0.666667</td>\n      <td>0.9375</td>\n      <td>0.250</td>\n      <td>0.625</td>\n      <td>0.750</td>\n      <td>0.000000</td>\n      <td>0.000000</td>\n      <td>0.000000</td>\n    </tr>\n    <tr>\n      <th>8</th>\n      <td>3k5L7N0W0QE4M4Q2</td>\n      <td>Penelope Wright</td>\n      <td>Web</td>\n      <td>Test Product - D</td>\n      <td>1</td>\n      <td>5</td>\n      <td>5</td>\n      <td>1</td>\n      <td>3</td>\n      <td>B</td>\n      <td>...</td>\n      <td>0</td>\n      <td>0</td>\n      <td>0.000000</td>\n      <td>0.7500</td>\n      <td>0.625</td>\n      <td>0.875</td>\n      <td>1.000</td>\n      <td>0.000000</td>\n      <td>0.000000</td>\n      <td>0.000000</td>\n    </tr>\n    <tr>\n      <th>9</th>\n      <td>2HS3X74n8eO276FW</td>\n      <td>Wyatt Ramirez</td>\n      <td>Web</td>\n      <td>Test Product - C</td>\n      <td>5</td>\n      <td>2</td>\n      <td>3</td>\n      <td>4</td>\n      <td>2</td>\n      <td>A</td>\n      <td>...</td>\n      <td>0</td>\n      <td>0</td>\n      <td>0.000000</td>\n      <td>0.6875</td>\n      <td>0.500</td>\n      <td>0.875</td>\n      <td>0.500</td>\n      <td>0.000000</td>\n      <td>0.000000</td>\n      <td>0.000000</td>\n    </tr>\n    <tr>\n      <th>10</th>\n      <td>1U1b8i1we2hr8a87</td>\n      <td>Amelia Bennet</td>\n      <td>DS</td>\n      <td>Test Product - B</td>\n      <td>4</td>\n      <td>5</td>\n      <td>1</td>\n      <td>1</td>\n      <td>3</td>\n      <td>A</td>\n      <td>...</td>\n      <td>2</td>\n      <td>1</td>\n      <td>0.333333</td>\n      <td>0.6875</td>\n      <td>0.000</td>\n      <td>0.000</td>\n      <td>0.000</td>\n      <td>0.333333</td>\n      <td>0.916667</td>\n      <td>0.333333</td>\n    </tr>\n    <tr>\n      <th>11</th>\n      <td>I8G36r0AOi2U72Z8</td>\n      <td>Madison Allen</td>\n      <td>Web</td>\n      <td>Test Product - A</td>\n      <td>2</td>\n      <td>4</td>\n      <td>5</td>\n      <td>5</td>\n      <td>3</td>\n      <td>B</td>\n      <td>...</td>\n      <td>0</td>\n      <td>0</td>\n      <td>0.000000</td>\n      <td>0.6250</td>\n      <td>0.625</td>\n      <td>0.625</td>\n      <td>0.625</td>\n      <td>0.000000</td>\n      <td>0.000000</td>\n      <td>0.000000</td>\n    </tr>\n    <tr>\n      <th>12</th>\n      <td>Gu8bmT220542V1gG</td>\n      <td>Lucas Hill</td>\n      <td>BD</td>\n      <td>Test Product - E</td>\n      <td>3</td>\n      <td>5</td>\n      <td>5</td>\n      <td>5</td>\n      <td>5</td>\n      <td>A</td>\n      <td>...</td>\n      <td>0</td>\n      <td>0</td>\n      <td>0.666667</td>\n      <td>0.5625</td>\n      <td>0.000</td>\n      <td>0.000</td>\n      <td>0.000</td>\n      <td>0.000000</td>\n      <td>0.000000</td>\n      <td>0.000000</td>\n    </tr>\n    <tr>\n      <th>13</th>\n      <td>3uaI3AK2012R7NE3</td>\n      <td>Ethan White</td>\n      <td>Web</td>\n      <td>Test Product - D</td>\n      <td>5</td>\n      <td>2</td>\n      <td>3</td>\n      <td>4</td>\n      <td>2</td>\n      <td>A</td>\n      <td>...</td>\n      <td>0</td>\n      <td>0</td>\n      <td>0.333333</td>\n      <td>0.5625</td>\n      <td>0.625</td>\n      <td>0.375</td>\n      <td>0.875</td>\n      <td>0.000000</td>\n      <td>0.000000</td>\n      <td>0.000000</td>\n    </tr>\n    <tr>\n      <th>14</th>\n      <td>4GUpL01Jq2R354a1</td>\n      <td>Jacob Ramirez</td>\n      <td>DS</td>\n      <td>Test Product - C</td>\n      <td>5</td>\n      <td>5</td>\n      <td>1</td>\n      <td>5</td>\n      <td>5</td>\n      <td>A</td>\n      <td>...</td>\n      <td>4</td>\n      <td>2</td>\n      <td>1.000000</td>\n      <td>0.8125</td>\n      <td>0.000</td>\n      <td>0.000</td>\n      <td>0.000</td>\n      <td>0.750000</td>\n      <td>0.750000</td>\n      <td>0.666667</td>\n    </tr>\n    <tr>\n      <th>15</th>\n      <td>8H71MbT5G0p8K46O</td>\n      <td>Scarlett King</td>\n      <td>DS</td>\n      <td>Test Product - B</td>\n      <td>1</td>\n      <td>2</td>\n      <td>2</td>\n      <td>1</td>\n      <td>3</td>\n      <td>B</td>\n      <td>...</td>\n      <td>1</td>\n      <td>2</td>\n      <td>0.333333</td>\n      <td>0.5625</td>\n      <td>0.000</td>\n      <td>0.000</td>\n      <td>0.000</td>\n      <td>0.750000</td>\n      <td>0.666667</td>\n      <td>0.333333</td>\n    </tr>\n    <tr>\n      <th>16</th>\n      <td>RNdbA57eO4L77531</td>\n      <td>Lucas Harris</td>\n      <td>Web</td>\n      <td>Test Product - A</td>\n      <td>3</td>\n      <td>3</td>\n      <td>5</td>\n      <td>2</td>\n      <td>5</td>\n      <td>A</td>\n      <td>...</td>\n      <td>0</td>\n      <td>0</td>\n      <td>0.666667</td>\n      <td>0.5000</td>\n      <td>0.500</td>\n      <td>0.500</td>\n      <td>0.500</td>\n      <td>0.000000</td>\n      <td>0.000000</td>\n      <td>0.000000</td>\n    </tr>\n    <tr>\n      <th>17</th>\n      <td>U7h0c8ZV1K5e30R3</td>\n      <td>Ellie Johnson</td>\n      <td>DS</td>\n      <td>Test Product - D</td>\n      <td>4</td>\n      <td>3</td>\n      <td>1</td>\n      <td>4</td>\n      <td>2</td>\n      <td>B</td>\n      <td>...</td>\n      <td>2</td>\n      <td>3</td>\n      <td>0.000000</td>\n      <td>0.4375</td>\n      <td>0.000</td>\n      <td>0.000</td>\n      <td>0.000</td>\n      <td>0.333333</td>\n      <td>0.916667</td>\n      <td>0.583333</td>\n    </tr>\n    <tr>\n      <th>18</th>\n      <td>B3k85S56w27qO5Ct</td>\n      <td>Harper Smith</td>\n      <td>Web</td>\n      <td>Test Product - C</td>\n      <td>3</td>\n      <td>5</td>\n      <td>2</td>\n      <td>1</td>\n      <td>1</td>\n      <td>A</td>\n      <td>...</td>\n      <td>0</td>\n      <td>0</td>\n      <td>0.333333</td>\n      <td>0.5625</td>\n      <td>0.875</td>\n      <td>0.750</td>\n      <td>0.625</td>\n      <td>0.000000</td>\n      <td>0.000000</td>\n      <td>0.000000</td>\n    </tr>\n    <tr>\n      <th>19</th>\n      <td>30XfMbgG46Jv0415</td>\n      <td>Jackson Richardson</td>\n      <td>DS</td>\n      <td>Test Product - B</td>\n      <td>4</td>\n      <td>4</td>\n      <td>1</td>\n      <td>5</td>\n      <td>4</td>\n      <td>B</td>\n      <td>...</td>\n      <td>4</td>\n      <td>3</td>\n      <td>0.333333</td>\n      <td>0.8125</td>\n      <td>0.000</td>\n      <td>0.000</td>\n      <td>0.000</td>\n      <td>0.333333</td>\n      <td>0.833333</td>\n      <td>0.666667</td>\n    </tr>\n    <tr>\n      <th>20</th>\n      <td>63K584JuPS8cU3b3</td>\n      <td>John Williams</td>\n      <td>Web</td>\n      <td>Test Product - A</td>\n      <td>3</td>\n      <td>1</td>\n      <td>5</td>\n      <td>4</td>\n      <td>3</td>\n      <td>B</td>\n      <td>...</td>\n      <td>0</td>\n      <td>0</td>\n      <td>0.333333</td>\n      <td>0.5625</td>\n      <td>1.000</td>\n      <td>0.625</td>\n      <td>0.625</td>\n      <td>0.000000</td>\n      <td>0.000000</td>\n      <td>0.000000</td>\n    </tr>\n    <tr>\n      <th>21</th>\n      <td>ZxeF3J306I2YN075</td>\n      <td>Lucas Jackson</td>\n      <td>Web</td>\n      <td>Test Product - E</td>\n      <td>4</td>\n      <td>4</td>\n      <td>4</td>\n      <td>1</td>\n      <td>5</td>\n      <td>A</td>\n      <td>...</td>\n      <td>0</td>\n      <td>0</td>\n      <td>0.000000</td>\n      <td>0.6250</td>\n      <td>0.500</td>\n      <td>0.375</td>\n      <td>0.625</td>\n      <td>0.000000</td>\n      <td>0.000000</td>\n      <td>0.000000</td>\n    </tr>\n    <tr>\n      <th>22</th>\n      <td>C25Xh854S1Wp0Ey4</td>\n      <td>Liam Gonzales</td>\n      <td>Web</td>\n      <td>Test Product - B</td>\n      <td>2</td>\n      <td>4</td>\n      <td>5</td>\n      <td>1</td>\n      <td>5</td>\n      <td>B</td>\n      <td>...</td>\n      <td>0</td>\n      <td>0</td>\n      <td>0.333333</td>\n      <td>0.7500</td>\n      <td>1.000</td>\n      <td>0.875</td>\n      <td>0.875</td>\n      <td>0.000000</td>\n      <td>0.000000</td>\n      <td>0.000000</td>\n    </tr>\n    <tr>\n      <th>23</th>\n      <td>5xF2TK71Y1Jc2Q88</td>\n      <td>Luna Watson</td>\n      <td>DS</td>\n      <td>Test Product - D</td>\n      <td>4</td>\n      <td>2</td>\n      <td>1</td>\n      <td>5</td>\n      <td>2</td>\n      <td>B</td>\n      <td>...</td>\n      <td>2</td>\n      <td>2</td>\n      <td>0.333333</td>\n      <td>0.6875</td>\n      <td>0.000</td>\n      <td>0.000</td>\n      <td>0.000</td>\n      <td>0.666667</td>\n      <td>0.583333</td>\n      <td>0.416667</td>\n    </tr>\n    <tr>\n      <th>24</th>\n      <td>ET8Jh348521QI3ru</td>\n      <td>Daniel Hill</td>\n      <td>DS</td>\n      <td>Test Product - D</td>\n      <td>1</td>\n      <td>5</td>\n      <td>4</td>\n      <td>2</td>\n      <td>4</td>\n      <td>A</td>\n      <td>...</td>\n      <td>3</td>\n      <td>3</td>\n      <td>0.666667</td>\n      <td>0.6875</td>\n      <td>0.000</td>\n      <td>0.000</td>\n      <td>0.000</td>\n      <td>0.666667</td>\n      <td>0.833333</td>\n      <td>0.583333</td>\n    </tr>\n    <tr>\n      <th>25</th>\n      <td>ee16ak37l0Q8C57I</td>\n      <td>Jack Ramirez</td>\n      <td>Web</td>\n      <td>Test Product - C</td>\n      <td>4</td>\n      <td>3</td>\n      <td>4</td>\n      <td>5</td>\n      <td>2</td>\n      <td>A</td>\n      <td>...</td>\n      <td>0</td>\n      <td>0</td>\n      <td>0.666667</td>\n      <td>0.6875</td>\n      <td>0.750</td>\n      <td>0.875</td>\n      <td>0.500</td>\n      <td>0.000000</td>\n      <td>0.000000</td>\n      <td>0.000000</td>\n    </tr>\n    <tr>\n      <th>26</th>\n      <td>2Y3XqSB5578kY6e4</td>\n      <td>Grace Young</td>\n      <td>DS</td>\n      <td>Test Product - B</td>\n      <td>5</td>\n      <td>2</td>\n      <td>1</td>\n      <td>2</td>\n      <td>3</td>\n      <td>A</td>\n      <td>...</td>\n      <td>3</td>\n      <td>1</td>\n      <td>0.000000</td>\n      <td>0.9375</td>\n      <td>0.000</td>\n      <td>0.000</td>\n      <td>0.000</td>\n      <td>0.583333</td>\n      <td>0.583333</td>\n      <td>0.416667</td>\n    </tr>\n    <tr>\n      <th>27</th>\n      <td>5CLmeBU51d0P5428</td>\n      <td>Avery Sanchez</td>\n      <td>Web</td>\n      <td>Test Product - A</td>\n      <td>2</td>\n      <td>3</td>\n      <td>4</td>\n      <td>1</td>\n      <td>2</td>\n      <td>B</td>\n      <td>...</td>\n      <td>0</td>\n      <td>0</td>\n      <td>0.333333</td>\n      <td>0.7500</td>\n      <td>0.250</td>\n      <td>0.625</td>\n      <td>0.625</td>\n      <td>0.000000</td>\n      <td>0.000000</td>\n      <td>0.000000</td>\n    </tr>\n    <tr>\n      <th>28</th>\n      <td>80jIZo0fl0027uG6</td>\n      <td>Abigail Jones</td>\n      <td>Web</td>\n      <td>Test Product - E</td>\n      <td>1</td>\n      <td>3</td>\n      <td>5</td>\n      <td>2</td>\n      <td>3</td>\n      <td>B</td>\n      <td>...</td>\n      <td>0</td>\n      <td>0</td>\n      <td>0.000000</td>\n      <td>0.7500</td>\n      <td>0.625</td>\n      <td>0.250</td>\n      <td>0.625</td>\n      <td>0.000000</td>\n      <td>0.000000</td>\n      <td>0.000000</td>\n    </tr>\n    <tr>\n      <th>29</th>\n      <td>Co132j16a11qA8Sc</td>\n      <td>Aiden Campbell</td>\n      <td>Web</td>\n      <td>Test Product - D</td>\n      <td>2</td>\n      <td>3</td>\n      <td>1</td>\n      <td>1</td>\n      <td>5</td>\n      <td>B</td>\n      <td>...</td>\n      <td>0</td>\n      <td>0</td>\n      <td>0.666667</td>\n      <td>0.5625</td>\n      <td>0.500</td>\n      <td>0.625</td>\n      <td>0.875</td>\n      <td>0.000000</td>\n      <td>0.000000</td>\n      <td>0.000000</td>\n    </tr>\n    <tr>\n      <th>30</th>\n      <td>kp5BX7i6A7Y8078j</td>\n      <td>Olivia Clark</td>\n      <td>DS</td>\n      <td>Test Product - C</td>\n      <td>5</td>\n      <td>2</td>\n      <td>5</td>\n      <td>4</td>\n      <td>3</td>\n      <td>B</td>\n      <td>...</td>\n      <td>4</td>\n      <td>3</td>\n      <td>1.000000</td>\n      <td>0.5000</td>\n      <td>0.000</td>\n      <td>0.000</td>\n      <td>0.000</td>\n      <td>0.666667</td>\n      <td>0.666667</td>\n      <td>0.833333</td>\n    </tr>\n    <tr>\n      <th>31</th>\n      <td>mXK87l76b2dy44W6</td>\n      <td>Oliver Smith</td>\n      <td>Web</td>\n      <td>Test Product - B</td>\n      <td>1</td>\n      <td>5</td>\n      <td>2</td>\n      <td>5</td>\n      <td>1</td>\n      <td>A</td>\n      <td>...</td>\n      <td>0</td>\n      <td>0</td>\n      <td>0.000000</td>\n      <td>0.6875</td>\n      <td>0.750</td>\n      <td>0.625</td>\n      <td>0.750</td>\n      <td>0.000000</td>\n      <td>0.000000</td>\n      <td>0.000000</td>\n    </tr>\n    <tr>\n      <th>32</th>\n      <td>MbPw43707u7LTh58</td>\n      <td>Layla Miller</td>\n      <td>Web</td>\n      <td>Test Product - A</td>\n      <td>2</td>\n      <td>5</td>\n      <td>2</td>\n      <td>5</td>\n      <td>4</td>\n      <td>B</td>\n      <td>...</td>\n      <td>0</td>\n      <td>0</td>\n      <td>0.000000</td>\n      <td>0.3750</td>\n      <td>0.500</td>\n      <td>0.750</td>\n      <td>0.875</td>\n      <td>0.000000</td>\n      <td>0.000000</td>\n      <td>0.000000</td>\n    </tr>\n    <tr>\n      <th>33</th>\n      <td>mx00yY6P065x56uT</td>\n      <td>Ava Rivera</td>\n      <td>Web</td>\n      <td>Test Product - E</td>\n      <td>5</td>\n      <td>3</td>\n      <td>5</td>\n      <td>1</td>\n      <td>1</td>\n      <td>B</td>\n      <td>...</td>\n      <td>0</td>\n      <td>0</td>\n      <td>0.000000</td>\n      <td>0.6875</td>\n      <td>0.500</td>\n      <td>0.625</td>\n      <td>0.625</td>\n      <td>0.000000</td>\n      <td>0.000000</td>\n      <td>0.000000</td>\n    </tr>\n    <tr>\n      <th>34</th>\n      <td>X364WS7aIj18T36n</td>\n      <td>Henry Thomas</td>\n      <td>DS</td>\n      <td>Test Product - D</td>\n      <td>4</td>\n      <td>2</td>\n      <td>1</td>\n      <td>2</td>\n      <td>1</td>\n      <td>A</td>\n      <td>...</td>\n      <td>2</td>\n      <td>4</td>\n      <td>0.000000</td>\n      <td>0.7500</td>\n      <td>0.000</td>\n      <td>0.000</td>\n      <td>0.000</td>\n      <td>0.583333</td>\n      <td>0.583333</td>\n      <td>0.750000</td>\n    </tr>\n    <tr>\n      <th>35</th>\n      <td>508Fbg4BJ7y75Xc0</td>\n      <td>Levi James</td>\n      <td>DS</td>\n      <td>Test Product - C</td>\n      <td>3</td>\n      <td>4</td>\n      <td>1</td>\n      <td>3</td>\n      <td>4</td>\n      <td>A</td>\n      <td>...</td>\n      <td>3</td>\n      <td>1</td>\n      <td>0.666667</td>\n      <td>0.6875</td>\n      <td>0.000</td>\n      <td>0.000</td>\n      <td>0.000</td>\n      <td>0.583333</td>\n      <td>0.750000</td>\n      <td>0.416667</td>\n    </tr>\n    <tr>\n      <th>36</th>\n      <td>f1326W8lK5gX62Yl</td>\n      <td>Scarlett Lee</td>\n      <td>Web</td>\n      <td>Test Product - B</td>\n      <td>3</td>\n      <td>1</td>\n      <td>4</td>\n      <td>4</td>\n      <td>4</td>\n      <td>B</td>\n      <td>...</td>\n      <td>0</td>\n      <td>0</td>\n      <td>0.000000</td>\n      <td>0.4375</td>\n      <td>0.500</td>\n      <td>0.375</td>\n      <td>0.500</td>\n      <td>0.000000</td>\n      <td>0.000000</td>\n      <td>0.000000</td>\n    </tr>\n    <tr>\n      <th>37</th>\n      <td>2W467KLmk05j14Is</td>\n      <td>James White</td>\n      <td>DS</td>\n      <td>Test Product - B</td>\n      <td>5</td>\n      <td>1</td>\n      <td>5</td>\n      <td>2</td>\n      <td>2</td>\n      <td>B</td>\n      <td>...</td>\n      <td>2</td>\n      <td>1</td>\n      <td>0.000000</td>\n      <td>0.3750</td>\n      <td>0.000</td>\n      <td>0.000</td>\n      <td>0.000</td>\n      <td>0.583333</td>\n      <td>1.000000</td>\n      <td>0.416667</td>\n    </tr>\n    <tr>\n      <th>38</th>\n      <td>71eplf517Tm84a5F</td>\n      <td>Evelyn Taylor</td>\n      <td>Web</td>\n      <td>Test Product - A</td>\n      <td>2</td>\n      <td>5</td>\n      <td>1</td>\n      <td>4</td>\n      <td>2</td>\n      <td>B</td>\n      <td>...</td>\n      <td>0</td>\n      <td>0</td>\n      <td>0.333333</td>\n      <td>0.7500</td>\n      <td>0.625</td>\n      <td>0.375</td>\n      <td>0.375</td>\n      <td>0.000000</td>\n      <td>0.000000</td>\n      <td>0.000000</td>\n    </tr>\n    <tr>\n      <th>39</th>\n      <td>j7H61724PXGm34OF</td>\n      <td>Avery Gonzales</td>\n      <td>DS</td>\n      <td>Test Product - B</td>\n      <td>3</td>\n      <td>3</td>\n      <td>2</td>\n      <td>4</td>\n      <td>1</td>\n      <td>A</td>\n      <td>...</td>\n      <td>1</td>\n      <td>3</td>\n      <td>0.666667</td>\n      <td>0.6250</td>\n      <td>0.000</td>\n      <td>0.000</td>\n      <td>0.000</td>\n      <td>0.666667</td>\n      <td>0.750000</td>\n      <td>0.500000</td>\n    </tr>\n    <tr>\n      <th>40</th>\n      <td>3Nxxo8w57346Bw7p</td>\n      <td>Jacob Brown</td>\n      <td>Web</td>\n      <td>Test Product - A</td>\n      <td>1</td>\n      <td>4</td>\n      <td>2</td>\n      <td>5</td>\n      <td>3</td>\n      <td>B</td>\n      <td>...</td>\n      <td>0</td>\n      <td>0</td>\n      <td>0.000000</td>\n      <td>0.5000</td>\n      <td>0.750</td>\n      <td>0.750</td>\n      <td>0.750</td>\n      <td>0.000000</td>\n      <td>0.000000</td>\n      <td>0.000000</td>\n    </tr>\n    <tr>\n      <th>41</th>\n      <td>q7C35e2x17qbne50</td>\n      <td>Theodore Robinson</td>\n      <td>Web</td>\n      <td>Test Product - C</td>\n      <td>4</td>\n      <td>5</td>\n      <td>2</td>\n      <td>4</td>\n      <td>5</td>\n      <td>A</td>\n      <td>...</td>\n      <td>0</td>\n      <td>0</td>\n      <td>0.333333</td>\n      <td>0.5625</td>\n      <td>0.625</td>\n      <td>0.625</td>\n      <td>0.625</td>\n      <td>0.000000</td>\n      <td>0.000000</td>\n      <td>0.000000</td>\n    </tr>\n    <tr>\n      <th>42</th>\n      <td>TUIuLd016363R5o7</td>\n      <td>Layla Nelson</td>\n      <td>Web</td>\n      <td>Test Product - E</td>\n      <td>1</td>\n      <td>2</td>\n      <td>2</td>\n      <td>3</td>\n      <td>2</td>\n      <td>B</td>\n      <td>...</td>\n      <td>0</td>\n      <td>0</td>\n      <td>0.333333</td>\n      <td>0.6250</td>\n      <td>0.625</td>\n      <td>0.625</td>\n      <td>1.000</td>\n      <td>0.000000</td>\n      <td>0.000000</td>\n      <td>0.000000</td>\n    </tr>\n    <tr>\n      <th>43</th>\n      <td>vd14W6L3735d6Idx</td>\n      <td>Wyatt Campbell</td>\n      <td>BD</td>\n      <td>Test Product - E</td>\n      <td>1</td>\n      <td>2</td>\n      <td>3</td>\n      <td>5</td>\n      <td>1</td>\n      <td>B</td>\n      <td>...</td>\n      <td>0</td>\n      <td>0</td>\n      <td>0.666667</td>\n      <td>0.8750</td>\n      <td>0.000</td>\n      <td>0.000</td>\n      <td>0.000</td>\n      <td>0.000000</td>\n      <td>0.000000</td>\n      <td>0.000000</td>\n    </tr>\n    <tr>\n      <th>44</th>\n      <td>0y81B635p2dN2DKU</td>\n      <td>Amelia Lopez</td>\n      <td>DS</td>\n      <td>Test Product - D</td>\n      <td>4</td>\n      <td>5</td>\n      <td>2</td>\n      <td>2</td>\n      <td>2</td>\n      <td>A</td>\n      <td>...</td>\n      <td>1</td>\n      <td>2</td>\n      <td>0.333333</td>\n      <td>0.6875</td>\n      <td>0.000</td>\n      <td>0.000</td>\n      <td>0.000</td>\n      <td>0.916667</td>\n      <td>0.833333</td>\n      <td>0.416667</td>\n    </tr>\n    <tr>\n      <th>45</th>\n      <td>6n6otu033208ECIc</td>\n      <td>Madison Anderson</td>\n      <td>DS</td>\n      <td>Test Product - C</td>\n      <td>5</td>\n      <td>5</td>\n      <td>5</td>\n      <td>2</td>\n      <td>2</td>\n      <td>A</td>\n      <td>...</td>\n      <td>1</td>\n      <td>4</td>\n      <td>0.333333</td>\n      <td>0.5000</td>\n      <td>0.000</td>\n      <td>0.000</td>\n      <td>0.000</td>\n      <td>0.666667</td>\n      <td>0.500000</td>\n      <td>0.666667</td>\n    </tr>\n    <tr>\n      <th>46</th>\n      <td>x6s7443CdW5n81nz</td>\n      <td>Emily Brown</td>\n      <td>Web</td>\n      <td>Test Product - B</td>\n      <td>4</td>\n      <td>5</td>\n      <td>1</td>\n      <td>4</td>\n      <td>5</td>\n      <td>B</td>\n      <td>...</td>\n      <td>0</td>\n      <td>0</td>\n      <td>0.000000</td>\n      <td>0.5000</td>\n      <td>0.375</td>\n      <td>0.875</td>\n      <td>0.375</td>\n      <td>0.000000</td>\n      <td>0.000000</td>\n      <td>0.000000</td>\n    </tr>\n    <tr>\n      <th>47</th>\n      <td>bZEu85P5k01887Cg</td>\n      <td>David Chavez</td>\n      <td>Web</td>\n      <td>Test Product - A</td>\n      <td>2</td>\n      <td>1</td>\n      <td>2</td>\n      <td>4</td>\n      <td>4</td>\n      <td>B</td>\n      <td>...</td>\n      <td>0</td>\n      <td>0</td>\n      <td>0.666667</td>\n      <td>0.8125</td>\n      <td>0.625</td>\n      <td>1.000</td>\n      <td>0.750</td>\n      <td>0.000000</td>\n      <td>0.000000</td>\n      <td>0.000000</td>\n    </tr>\n    <tr>\n      <th>48</th>\n      <td>877tWY36So3h2o3i</td>\n      <td>Harper Richardson</td>\n      <td>BD</td>\n      <td>Test Product - E</td>\n      <td>3</td>\n      <td>3</td>\n      <td>5</td>\n      <td>1</td>\n      <td>5</td>\n      <td>B</td>\n      <td>...</td>\n      <td>0</td>\n      <td>0</td>\n      <td>0.333333</td>\n      <td>0.6250</td>\n      <td>0.000</td>\n      <td>0.000</td>\n      <td>0.000</td>\n      <td>0.000000</td>\n      <td>0.000000</td>\n      <td>0.000000</td>\n    </tr>\n    <tr>\n      <th>49</th>\n      <td>6F0L4O5LV4V651rl</td>\n      <td>Mateo Thompson</td>\n      <td>Web</td>\n      <td>Test Product - B</td>\n      <td>4</td>\n      <td>2</td>\n      <td>1</td>\n      <td>1</td>\n      <td>4</td>\n      <td>A</td>\n      <td>...</td>\n      <td>0</td>\n      <td>0</td>\n      <td>0.333333</td>\n      <td>0.7500</td>\n      <td>0.375</td>\n      <td>0.750</td>\n      <td>0.500</td>\n      <td>0.000000</td>\n      <td>0.000000</td>\n      <td>0.000000</td>\n    </tr>\n  </tbody>\n</table>\n<p>50 rows × 43 columns</p>\n</div>"
     },
     "execution_count": 57,
     "metadata": {},
     "output_type": "execute_result"
    }
   ],
   "source": [
    "learners_df = DataFrame(learners)\n",
    "learners_df"
   ],
   "metadata": {
    "collapsed": false,
    "pycharm": {
     "name": "#%%\n"
    }
   }
  },
  {
   "cell_type": "code",
   "execution_count": 59,
   "outputs": [
    {
     "data": {
      "text/plain": "                                     0                 1                 2  \\\nteamName              Test Product - A  Test Product - B  Test Product - C   \ntpmInterestRank               0.609375          0.647321          0.590909   \ntpmSkillRank                  0.291667          0.261905          0.545455   \nuxInterestRank                0.609375          0.339286          0.363636   \nfrontendInterestRank           0.65625          0.357143          0.409091   \nbackendInterestRank           0.640625          0.357143          0.318182   \ndataEngInterestRank                0.0          0.232143           0.30303   \nmlEngInterestRank                  0.0          0.339286          0.310606   \nmlOpsInterestRank                  0.0          0.190476          0.287879   \n\n                                     3                 4  \nteamName              Test Product - D  Test Product - E  \ntpmInterestRank                 0.6375          0.678571  \ntpmSkillRank                  0.333333          0.285714  \nuxInterestRank                  0.2625          0.321429  \nfrontendInterestRank              0.35          0.267857  \nbackendInterestRank             0.3625          0.410714  \ndataEngInterestRank           0.316667               0.0  \nmlEngInterestRank                0.375               0.0  \nmlOpsInterestRank                0.275               0.0  ",
      "text/html": "<div>\n<style scoped>\n    .dataframe tbody tr th:only-of-type {\n        vertical-align: middle;\n    }\n\n    .dataframe tbody tr th {\n        vertical-align: top;\n    }\n\n    .dataframe thead th {\n        text-align: right;\n    }\n</style>\n<table border=\"1\" class=\"dataframe\">\n  <thead>\n    <tr style=\"text-align: right;\">\n      <th></th>\n      <th>0</th>\n      <th>1</th>\n      <th>2</th>\n      <th>3</th>\n      <th>4</th>\n    </tr>\n  </thead>\n  <tbody>\n    <tr>\n      <th>teamName</th>\n      <td>Test Product - A</td>\n      <td>Test Product - B</td>\n      <td>Test Product - C</td>\n      <td>Test Product - D</td>\n      <td>Test Product - E</td>\n    </tr>\n    <tr>\n      <th>tpmInterestRank</th>\n      <td>0.609375</td>\n      <td>0.647321</td>\n      <td>0.590909</td>\n      <td>0.6375</td>\n      <td>0.678571</td>\n    </tr>\n    <tr>\n      <th>tpmSkillRank</th>\n      <td>0.291667</td>\n      <td>0.261905</td>\n      <td>0.545455</td>\n      <td>0.333333</td>\n      <td>0.285714</td>\n    </tr>\n    <tr>\n      <th>uxInterestRank</th>\n      <td>0.609375</td>\n      <td>0.339286</td>\n      <td>0.363636</td>\n      <td>0.2625</td>\n      <td>0.321429</td>\n    </tr>\n    <tr>\n      <th>frontendInterestRank</th>\n      <td>0.65625</td>\n      <td>0.357143</td>\n      <td>0.409091</td>\n      <td>0.35</td>\n      <td>0.267857</td>\n    </tr>\n    <tr>\n      <th>backendInterestRank</th>\n      <td>0.640625</td>\n      <td>0.357143</td>\n      <td>0.318182</td>\n      <td>0.3625</td>\n      <td>0.410714</td>\n    </tr>\n    <tr>\n      <th>dataEngInterestRank</th>\n      <td>0.0</td>\n      <td>0.232143</td>\n      <td>0.30303</td>\n      <td>0.316667</td>\n      <td>0.0</td>\n    </tr>\n    <tr>\n      <th>mlEngInterestRank</th>\n      <td>0.0</td>\n      <td>0.339286</td>\n      <td>0.310606</td>\n      <td>0.375</td>\n      <td>0.0</td>\n    </tr>\n    <tr>\n      <th>mlOpsInterestRank</th>\n      <td>0.0</td>\n      <td>0.190476</td>\n      <td>0.287879</td>\n      <td>0.275</td>\n      <td>0.0</td>\n    </tr>\n  </tbody>\n</table>\n</div>"
     },
     "execution_count": 59,
     "metadata": {},
     "output_type": "execute_result"
    }
   ],
   "source": [
    "stat_list = [\n",
    "    'tpmInterestRank',\n",
    "    'tpmSkillRank',\n",
    "    'uxInterestRank',\n",
    "    'frontendInterestRank',\n",
    "    'backendInterestRank',\n",
    "    'dataEngInterestRank',\n",
    "    'mlEngInterestRank',\n",
    "    'mlOpsInterestRank',\n",
    "]\n",
    "project_names = sorted(learners_df[\"labsProject\"].unique().tolist())\n",
    "data = []\n",
    "for team in project_names:\n",
    "    datum = {\"teamName\": team}\n",
    "    for stat in stat_list:\n",
    "        datum[stat] = learners_df[learners_df['labsProject'] == team][stat].mean()\n",
    "    data.append(datum)\n",
    "df = DataFrame(data)\n",
    "df.T"
   ],
   "metadata": {
    "collapsed": false,
    "pycharm": {
     "name": "#%%\n"
    }
   }
  },
  {
   "cell_type": "markdown",
   "source": [
    "Strong TPM types on each team!\n",
    "- Interest over skill"
   ],
   "metadata": {
    "collapsed": false,
    "pycharm": {
     "name": "#%% md\n"
    }
   }
  },
  {
   "cell_type": "code",
   "execution_count": 58,
   "outputs": [],
   "source": [],
   "metadata": {
    "collapsed": false,
    "pycharm": {
     "name": "#%%\n"
    }
   }
  }
 ],
 "metadata": {
  "kernelspec": {
   "display_name": "Python 3",
   "language": "python",
   "name": "python3"
  },
  "language_info": {
   "codemirror_mode": {
    "name": "ipython",
    "version": 2
   },
   "file_extension": ".py",
   "mimetype": "text/x-python",
   "name": "python",
   "nbconvert_exporter": "python",
   "pygments_lexer": "ipython2",
   "version": "2.7.6"
  }
 },
 "nbformat": 4,
 "nbformat_minor": 0
}