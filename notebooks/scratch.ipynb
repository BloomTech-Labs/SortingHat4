{
 "cells": [
  {
   "cell_type": "code",
   "execution_count": 1,
   "metadata": {
    "collapsed": true,
    "pycharm": {
     "name": "#%%\n"
    }
   },
   "outputs": [],
   "source": [
    "from pandas import DataFrame\n",
    "from app.logger import MongoDB\n"
   ]
  },
  {
   "cell_type": "code",
   "execution_count": 2,
   "outputs": [],
   "source": [
    "db = MongoDB()\n"
   ],
   "metadata": {
    "collapsed": false,
    "pycharm": {
     "name": "#%%\n"
    }
   }
  },
  {
   "cell_type": "code",
   "execution_count": 3,
   "outputs": [
    {
     "name": "stdout",
     "output_type": "stream",
     "text": [
      "\n",
      "Joseph Hill, \n",
      "Jack Baker, \n",
      "Isabella Martin, \n",
      "Layla Jackson, \n",
      "David Nelson, \n",
      "Ellie Anderson, \n",
      "John Martin, \n",
      "Noah Lee, \n",
      "Sebastian Flores, \n",
      "Aiden James, \n",
      "Gianna Adams, \n",
      "Benjamin Gonzales, \n",
      "Elijah Rivera, \n",
      "Jack Lee, \n",
      "Emily Taylor, \n",
      "Sebastian Martinez, \n",
      "Jackson Mitchell, \n",
      "Sebastian Anderson, \n",
      "Scarlett Williams, \n",
      "William Walker, \n",
      "Luna Harris, \n",
      "Sofia Torres, \n",
      "Elizabeth Mitchell, \n",
      "Eleanor Smith, \n",
      "Charlotte Lewis, \n",
      "Ethan Taylor, \n",
      "Elijah Martinez, \n",
      "John Torres, \n",
      "Grace Lewis, \n",
      "Eleanor Bennet, \n",
      "James Hernandez, \n",
      "Evelyn Robinson, \n",
      "\n",
      "Oliver Castellanos-Padilla, hambohambo\n",
      "00ug059zb33RCZlTs357, bummings\n",
      "\n",
      "Oliver Castellanos-Padilla, hambohambo\n",
      "00ug059zb33RCZlTs357, bummings\n",
      "\n",
      "Oliver Castellanos-Padilla, hambohambo\n",
      "00ug059zb33RCZlTs357, bummings\n",
      "\n",
      "Oliver Castellanos-Padilla, hambohambo\n",
      "00ug059zb33RCZlTs357, bummings\n",
      "\n",
      "Oliver Castellanos-Padilla, hambohambo\n",
      "00ug059zb33RCZlTs357, bummings\n",
      "\n",
      "Oliver Castellanos-Padilla, hambohambo\n",
      "00ug059zb33RCZlTs357, bummings\n",
      "\n",
      "Oliver Castellanos-Padilla, hambohambo\n",
      "00ug059zb33RCZlTs357, bummings\n",
      "\n",
      "Oliver Castellanos-Padilla, hambohambo\n",
      "00ug059zb33RCZlTs357, bummings\n",
      "\n",
      "Oliver Castellanos-Padilla, hambohambo\n",
      "00ug059zb33RCZlTs357, bummings\n",
      "\n",
      "Oliver Castellanos-Padilla, hambohambo\n",
      "00uhebq6c1sN0Xq4u357, frankfusco\n",
      "\n",
      "Oliver Castellanos-Padilla, hambohambo\n",
      "00uk5g4yt3qdtiX4X357, frankfusco\n",
      "\n",
      "00ukf3d61dyfT3k50357, frankfusco\n",
      "\n",
      "00ukf3d61dyfT3k50357, frankfusco\n",
      "\n",
      "00ukf3d61dyfT3k50357, frankfusco\n",
      "\n",
      "00ukf3d61dyfT3k50357, frankfusco\n",
      "\n",
      "00ukf3d61dyfT3k50357, frankfusco\n",
      "\n",
      "00ukf3d61dyfT3k50357, frankfusco\n",
      "\n",
      "Oliver Castellanos-Padilla, hambohambo\n",
      "00ub9uy2avafYORAP357, frankfusco\n",
      "\n",
      "00ub9uy2avafYORAP357, frankfusco\n",
      "\n",
      "00ukf3d61dyfT3k50357, frankfusco\n",
      "\n",
      "00uh185n4vYRhbf7a357, esmodea\n",
      "\n",
      "00ug0kq18o0wZSV6P357, ashurik522\n",
      "\n",
      "Joshua Hayes, josh2035\n",
      "Xianshi Wei, xianshiw\n",
      "Willis Bridges, willis-bridges\n",
      "Claire Ziewitz, clairezg\n",
      "Christopher Aguirre, topherthecoder\n",
      "Ben Wood, woodbenwood\n",
      "Jianan Zhou, jamesjiananzhou\n",
      "Celina Walkowicz, celinawalkowicz\n",
      "Allison Cox, allielcox\n",
      "Dylan Budnick, dylanbud\n",
      "Jack Semder, jack-semder\n",
      "Cristian Ibarra-Villegas, crisiv\n",
      "Jacob Disher, jacobdisher\n",
      "Swetha Kadiyala, swethakad\n",
      "Rozan Amgad, rozanalias\n",
      "Austin Wood, zdravoj\n",
      "Steven Hastings, stevenhastings\n",
      "Mohamed Mosaed, mohamedmosaed\n",
      "00u1i1ltlddSt67oE357, https://github.com/bummings\n"
     ]
    }
   ],
   "source": [
    "for obj in db.find_all():\n",
    "    if obj[\"metadata\"][\"ds_api\"][\"version\"] == \"4.4.4\":\n",
    "        print()\n",
    "        for learner in obj[\"after\"][\"learners\"]:\n",
    "            print(f'{learner[\"name\"]}, {learner[\"gitHubHandle\"]}')"
   ],
   "metadata": {
    "collapsed": false,
    "pycharm": {
     "name": "#%%\n"
    }
   }
  },
  {
   "cell_type": "code",
   "execution_count": 3,
   "outputs": [],
   "source": [],
   "metadata": {
    "collapsed": false,
    "pycharm": {
     "name": "#%%\n"
    }
   }
  }
 ],
 "metadata": {
  "kernelspec": {
   "display_name": "Python 3",
   "language": "python",
   "name": "python3"
  },
  "language_info": {
   "codemirror_mode": {
    "name": "ipython",
    "version": 2
   },
   "file_extension": ".py",
   "mimetype": "text/x-python",
   "name": "python",
   "nbconvert_exporter": "python",
   "pygments_lexer": "ipython2",
   "version": "2.7.6"
  }
 },
 "nbformat": 4,
 "nbformat_minor": 0
}