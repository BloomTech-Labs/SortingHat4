{
 "cells": [
  {
   "cell_type": "code",
   "execution_count": 64,
   "outputs": [],
   "source": [
    "import requests\n",
    "from pandas import DataFrame\n",
    "import plotly.graph_objects as go\n",
    "import plotly.express as px"
   ],
   "metadata": {
    "collapsed": false,
    "pycharm": {
     "name": "#%%\n"
    }
   }
  },
  {
   "cell_type": "code",
   "execution_count": 65,
   "metadata": {
    "collapsed": true
   },
   "outputs": [],
   "source": [
    "remote_url = \"http://sortinghat4-dev.us-east-1.elasticbeanstalk.com\""
   ]
  },
  {
   "cell_type": "code",
   "execution_count": 66,
   "outputs": [
    {
     "name": "stdout",
     "output_type": "stream",
     "text": [
      "1\n"
     ]
    }
   ],
   "source": [
    "raw_data = requests.post(\n",
    "    remote_url + \"/logs\",\n",
    "    json={\"metadata.ds_api.version\": \"4.0.9\"},\n",
    ").json()\n",
    "print(len(raw_data))\n",
    "payload = raw_data[-1]"
   ],
   "metadata": {
    "collapsed": false,
    "pycharm": {
     "name": "#%%\n"
    }
   }
  },
  {
   "cell_type": "code",
   "execution_count": 67,
   "outputs": [
    {
     "data": {
      "text/plain": "{'ds_api': {'platform': 'FastAPI', 'title': 'SortingHat4', 'version': '4.0.9'},\n 'logger': {'platform': 'MongoDB',\n  'organization': 'Bloom Institute of Technology',\n  'project': 'Labs',\n  'database': 'SortingHat',\n  'collection': 'Logs'},\n 'timestamp': '2022-04-12 09:59:45'}"
     },
     "execution_count": 67,
     "metadata": {},
     "output_type": "execute_result"
    }
   ],
   "source": [
    "payload[\"metadata\"]"
   ],
   "metadata": {
    "collapsed": false,
    "pycharm": {
     "name": "#%%\n"
    }
   }
  },
  {
   "cell_type": "code",
   "execution_count": 68,
   "outputs": [
    {
     "data": {
      "text/plain": "[{'id': 'Test Product - A',\n  'product': 'Test Product',\n  'teamCode': 'A',\n  'tracks': ['Web'],\n  'releaseManager': 'Luna Wright',\n  'teamMemberSmtIds': ['001',\n   '002',\n   '003',\n   '004',\n   '005',\n   'Ph5n6232gj70fwv6',\n   'Ef67o7H0S5b7RZ46',\n   'J453cHEj87d72T6J',\n   '77AnPE54E7k37y4i',\n   'D0iv1WP00Y8O6y13',\n   'Zi7b5BL6210fkj83',\n   '3W23Wsn151Oi6rt0',\n   '7j0F1383M0PFoD6f']},\n {'id': 'Test Product - B',\n  'product': 'Test Product',\n  'teamCode': 'B',\n  'tracks': ['Web', 'DS'],\n  'releaseManager': 'Scarlett Perez',\n  'teamMemberSmtIds': ['11w0u7Y2g6C8O2oQ',\n   'wQ252zO1Jvi237Y3',\n   '46Fp2zx261V4lhk7',\n   '6r1c04QN8W7Opm40',\n   '7b6d45XK4iwK345h',\n   'bo21a0Wp1A0y1g63',\n   '872i2x8R3e0h7VSJ',\n   'q2G72d144Q48RSBh',\n   'Zf03YXw781771Nep',\n   '6b4hxa8523e8Plk0',\n   'Q217sQJL5fq763j5',\n   'k86326PDIOl6o1x5',\n   '511j48cuQwn48TK2']},\n {'id': 'Test Product - C',\n  'product': 'Test Product',\n  'teamCode': 'C',\n  'tracks': ['Web', 'DS'],\n  'releaseManager': 'Layla Nguyen',\n  'teamMemberSmtIds': ['0Ns1fLY8q0306Mv8',\n   'ab46QL251UOI321v',\n   'k108h83TjdAD1X42',\n   'za3Up486354exuK3',\n   'RdS31lZkB326304M',\n   '7rLc448z5o87Q7lm',\n   'ug5S0523KF3WRU61',\n   '66E2gbJNCH6185N8',\n   'zGJ762o3Mt81S0E8',\n   'L27kK6hHg5n06B80',\n   'M4g28cr14d747YCX',\n   'h8Za1H3G1P3pZ068']},\n {'id': 'Test Product - D',\n  'product': 'Test Product',\n  'teamCode': 'D',\n  'tracks': ['Web', 'DS'],\n  'releaseManager': 'Ava Hernandez',\n  'teamMemberSmtIds': ['YDFH4g880iK58l35',\n   '1gncs161DUC3U618',\n   's0kd850fI4JQb764',\n   'zt5y4E3X70fzu523',\n   '236FqoUD6o644em8',\n   'CO2681aoA80P62vf',\n   '3EIAdy485t825AK6',\n   '25213kG1K4ueYwe4',\n   '14m4FpA20Aoo75Z2',\n   '56IcbZ46Ae2i50Y3',\n   '765LkSv4yE31X5W1',\n   '8uMw6UQ260dg687z']}]"
     },
     "execution_count": 68,
     "metadata": {},
     "output_type": "execute_result"
    }
   ],
   "source": [
    "projects = payload[\"projects\"]\n",
    "projects"
   ],
   "metadata": {
    "collapsed": false,
    "pycharm": {
     "name": "#%%\n"
    }
   }
  },
  {
   "cell_type": "code",
   "execution_count": 69,
   "outputs": [
    {
     "data": {
      "text/plain": "[{'lambdaId': '46Fp2zx261V4lhk7',\n  'name': 'Sebastian Thompson',\n  'track': 'Web',\n  'labsProject': 'Test Product - B',\n  'gitExpertise': 2,\n  'dockerExpertise': 4,\n  'playByEar': 1,\n  'detailOriented': 1,\n  'speakUpInDiscussions': 2,\n  'soloOrSocial': 'A',\n  'meaningOrValue': 'A',\n  'feelsRightOrMakesSense': 'B',\n  'favoriteOrCollect': 'B',\n  'tpmSkill1': 'C',\n  'tpmSkill2': 'C',\n  'tpmSkill3': 'A',\n  'tpmInterest1': 1,\n  'tpmInterest2': 2,\n  'tpmInterest3': 1,\n  'tpmInterest4': 1,\n  'uxInterest1': 2,\n  'uxInterest2': 2,\n  'frontendInterest1': 2,\n  'frontendInterest2': 3,\n  'backendInterest1': 4,\n  'backendInterest2': 1,\n  'dataEngInterest1': 0,\n  'dataEngInterest2': 0,\n  'dataEngInterest3': 0,\n  'mlEngInterest1': 0,\n  'mlEngInterest2': 0,\n  'mlEngInterest3': 0,\n  'mlOpsInterest1': 0,\n  'mlOpsInterest2': 0,\n  'mlOpsInterest3': 0,\n  'tpmSkillRank': 0.0,\n  'tpmInterestRank': 0.3125,\n  'uxInterestRank': 0.5,\n  'frontendInterestRank': 0.625,\n  'backendInterestRank': 0.625,\n  'dataEngInterestRank': 0,\n  'mlEngInterestRank': 0,\n  'mlOpsInterestRank': 0},\n {'lambdaId': 'k108h83TjdAD1X42',\n  'name': 'Benjamin Gonzales',\n  'track': 'DS',\n  'labsProject': 'Test Product - C',\n  'gitExpertise': 4,\n  'dockerExpertise': 3,\n  'playByEar': 1,\n  'detailOriented': 1,\n  'speakUpInDiscussions': 5,\n  'soloOrSocial': 'A',\n  'meaningOrValue': 'A',\n  'feelsRightOrMakesSense': 'A',\n  'favoriteOrCollect': 'A',\n  'tpmSkill1': 'B',\n  'tpmSkill2': 'C',\n  'tpmSkill3': 'C',\n  'tpmInterest1': 4,\n  'tpmInterest2': 1,\n  'tpmInterest3': 4,\n  'tpmInterest4': 1,\n  'uxInterest1': 0,\n  'uxInterest2': 0,\n  'frontendInterest1': 0,\n  'frontendInterest2': 0,\n  'backendInterest1': 0,\n  'backendInterest2': 0,\n  'dataEngInterest1': 2,\n  'dataEngInterest2': 3,\n  'dataEngInterest3': 3,\n  'mlEngInterest1': 3,\n  'mlEngInterest2': 1,\n  'mlEngInterest3': 4,\n  'mlOpsInterest1': 3,\n  'mlOpsInterest2': 3,\n  'mlOpsInterest3': 4,\n  'tpmSkillRank': 0.6666666666666666,\n  'tpmInterestRank': 0.625,\n  'uxInterestRank': 0,\n  'frontendInterestRank': 0,\n  'backendInterestRank': 0,\n  'dataEngInterestRank': 0.6666666666666666,\n  'mlEngInterestRank': 0.6666666666666666,\n  'mlOpsInterestRank': 0.8333333333333334},\n {'lambdaId': 's0kd850fI4JQb764',\n  'name': 'Avery Moore',\n  'track': 'Web',\n  'labsProject': 'Test Product - D',\n  'gitExpertise': 1,\n  'dockerExpertise': 2,\n  'playByEar': 1,\n  'detailOriented': 2,\n  'speakUpInDiscussions': 2,\n  'soloOrSocial': 'A',\n  'meaningOrValue': 'A',\n  'feelsRightOrMakesSense': 'A',\n  'favoriteOrCollect': 'A',\n  'tpmSkill1': 'A',\n  'tpmSkill2': 'B',\n  'tpmSkill3': 'C',\n  'tpmInterest1': 1,\n  'tpmInterest2': 3,\n  'tpmInterest3': 4,\n  'tpmInterest4': 3,\n  'uxInterest1': 1,\n  'uxInterest2': 1,\n  'frontendInterest1': 3,\n  'frontendInterest2': 4,\n  'backendInterest1': 3,\n  'backendInterest2': 2,\n  'dataEngInterest1': 0,\n  'dataEngInterest2': 0,\n  'dataEngInterest3': 0,\n  'mlEngInterest1': 0,\n  'mlEngInterest2': 0,\n  'mlEngInterest3': 0,\n  'mlOpsInterest1': 0,\n  'mlOpsInterest2': 0,\n  'mlOpsInterest3': 0,\n  'tpmSkillRank': 0.6666666666666666,\n  'tpmInterestRank': 0.6875,\n  'uxInterestRank': 0.25,\n  'frontendInterestRank': 0.875,\n  'backendInterestRank': 0.625,\n  'dataEngInterestRank': 0,\n  'mlEngInterestRank': 0,\n  'mlOpsInterestRank': 0},\n {'lambdaId': '6r1c04QN8W7Opm40',\n  'name': 'Daniel Carter',\n  'track': 'DS',\n  'labsProject': 'Test Product - B',\n  'gitExpertise': 1,\n  'dockerExpertise': 4,\n  'playByEar': 2,\n  'detailOriented': 4,\n  'speakUpInDiscussions': 1,\n  'soloOrSocial': 'A',\n  'meaningOrValue': 'B',\n  'feelsRightOrMakesSense': 'A',\n  'favoriteOrCollect': 'B',\n  'tpmSkill1': 'C',\n  'tpmSkill2': 'A',\n  'tpmSkill3': 'A',\n  'tpmInterest1': 3,\n  'tpmInterest2': 1,\n  'tpmInterest3': 3,\n  'tpmInterest4': 3,\n  'uxInterest1': 0,\n  'uxInterest2': 0,\n  'frontendInterest1': 0,\n  'frontendInterest2': 0,\n  'backendInterest1': 0,\n  'backendInterest2': 0,\n  'dataEngInterest1': 2,\n  'dataEngInterest2': 4,\n  'dataEngInterest3': 3,\n  'mlEngInterest1': 2,\n  'mlEngInterest2': 2,\n  'mlEngInterest3': 1,\n  'mlOpsInterest1': 3,\n  'mlOpsInterest2': 3,\n  'mlOpsInterest3': 1,\n  'tpmSkillRank': 0.0,\n  'tpmInterestRank': 0.625,\n  'uxInterestRank': 0,\n  'frontendInterestRank': 0,\n  'backendInterestRank': 0,\n  'dataEngInterestRank': 0.75,\n  'mlEngInterestRank': 0.4166666666666667,\n  'mlOpsInterestRank': 0.5833333333333334},\n {'lambdaId': 'za3Up486354exuK3',\n  'name': 'Elizabeth Jones',\n  'track': 'DS',\n  'labsProject': 'Test Product - C',\n  'gitExpertise': 2,\n  'dockerExpertise': 2,\n  'playByEar': 3,\n  'detailOriented': 5,\n  'speakUpInDiscussions': 1,\n  'soloOrSocial': 'A',\n  'meaningOrValue': 'B',\n  'feelsRightOrMakesSense': 'B',\n  'favoriteOrCollect': 'B',\n  'tpmSkill1': 'A',\n  'tpmSkill2': 'B',\n  'tpmSkill3': 'A',\n  'tpmInterest1': 4,\n  'tpmInterest2': 1,\n  'tpmInterest3': 2,\n  'tpmInterest4': 3,\n  'uxInterest1': 0,\n  'uxInterest2': 0,\n  'frontendInterest1': 0,\n  'frontendInterest2': 0,\n  'backendInterest1': 0,\n  'backendInterest2': 0,\n  'dataEngInterest1': 4,\n  'dataEngInterest2': 4,\n  'dataEngInterest3': 2,\n  'mlEngInterest1': 2,\n  'mlEngInterest2': 3,\n  'mlEngInterest3': 4,\n  'mlOpsInterest1': 4,\n  'mlOpsInterest2': 3,\n  'mlOpsInterest3': 3,\n  'tpmSkillRank': 0.3333333333333333,\n  'tpmInterestRank': 0.625,\n  'uxInterestRank': 0,\n  'frontendInterestRank': 0,\n  'backendInterestRank': 0,\n  'dataEngInterestRank': 0.8333333333333334,\n  'mlEngInterestRank': 0.75,\n  'mlOpsInterestRank': 0.8333333333333334},\n {'lambdaId': 'zt5y4E3X70fzu523',\n  'name': 'Aria Thompson',\n  'track': 'DS',\n  'labsProject': 'Test Product - D',\n  'gitExpertise': 1,\n  'dockerExpertise': 5,\n  'playByEar': 3,\n  'detailOriented': 5,\n  'speakUpInDiscussions': 3,\n  'soloOrSocial': 'A',\n  'meaningOrValue': 'A',\n  'feelsRightOrMakesSense': 'B',\n  'favoriteOrCollect': 'A',\n  'tpmSkill1': 'C',\n  'tpmSkill2': 'A',\n  'tpmSkill3': 'C',\n  'tpmInterest1': 3,\n  'tpmInterest2': 4,\n  'tpmInterest3': 2,\n  'tpmInterest4': 2,\n  'uxInterest1': 0,\n  'uxInterest2': 0,\n  'frontendInterest1': 0,\n  'frontendInterest2': 0,\n  'backendInterest1': 0,\n  'backendInterest2': 0,\n  'dataEngInterest1': 3,\n  'dataEngInterest2': 2,\n  'dataEngInterest3': 1,\n  'mlEngInterest1': 1,\n  'mlEngInterest2': 3,\n  'mlEngInterest3': 2,\n  'mlOpsInterest1': 2,\n  'mlOpsInterest2': 4,\n  'mlOpsInterest3': 1,\n  'tpmSkillRank': 0.3333333333333333,\n  'tpmInterestRank': 0.6875,\n  'uxInterestRank': 0,\n  'frontendInterestRank': 0,\n  'backendInterestRank': 0,\n  'dataEngInterestRank': 0.5,\n  'mlEngInterestRank': 0.5,\n  'mlOpsInterestRank': 0.5833333333333334},\n {'lambdaId': '7b6d45XK4iwK345h',\n  'name': 'Eleanor Williams',\n  'track': 'Web',\n  'labsProject': 'Test Product - B',\n  'gitExpertise': 4,\n  'dockerExpertise': 2,\n  'playByEar': 3,\n  'detailOriented': 2,\n  'speakUpInDiscussions': 4,\n  'soloOrSocial': 'A',\n  'meaningOrValue': 'B',\n  'feelsRightOrMakesSense': 'A',\n  'favoriteOrCollect': 'B',\n  'tpmSkill1': 'A',\n  'tpmSkill2': 'B',\n  'tpmSkill3': 'C',\n  'tpmInterest1': 2,\n  'tpmInterest2': 1,\n  'tpmInterest3': 1,\n  'tpmInterest4': 4,\n  'uxInterest1': 4,\n  'uxInterest2': 2,\n  'frontendInterest1': 2,\n  'frontendInterest2': 4,\n  'backendInterest1': 1,\n  'backendInterest2': 4,\n  'dataEngInterest1': 0,\n  'dataEngInterest2': 0,\n  'dataEngInterest3': 0,\n  'mlEngInterest1': 0,\n  'mlEngInterest2': 0,\n  'mlEngInterest3': 0,\n  'mlOpsInterest1': 0,\n  'mlOpsInterest2': 0,\n  'mlOpsInterest3': 0,\n  'tpmSkillRank': 0.6666666666666666,\n  'tpmInterestRank': 0.5,\n  'uxInterestRank': 0.75,\n  'frontendInterestRank': 0.75,\n  'backendInterestRank': 0.625,\n  'dataEngInterestRank': 0,\n  'mlEngInterestRank': 0,\n  'mlOpsInterestRank': 0},\n {'lambdaId': 'RdS31lZkB326304M',\n  'name': 'David Wright',\n  'track': 'DS',\n  'labsProject': 'Test Product - C',\n  'gitExpertise': 1,\n  'dockerExpertise': 3,\n  'playByEar': 1,\n  'detailOriented': 3,\n  'speakUpInDiscussions': 5,\n  'soloOrSocial': 'A',\n  'meaningOrValue': 'B',\n  'feelsRightOrMakesSense': 'A',\n  'favoriteOrCollect': 'A',\n  'tpmSkill1': 'A',\n  'tpmSkill2': 'C',\n  'tpmSkill3': 'B',\n  'tpmInterest1': 3,\n  'tpmInterest2': 1,\n  'tpmInterest3': 3,\n  'tpmInterest4': 3,\n  'uxInterest1': 0,\n  'uxInterest2': 0,\n  'frontendInterest1': 0,\n  'frontendInterest2': 0,\n  'backendInterest1': 0,\n  'backendInterest2': 0,\n  'dataEngInterest1': 1,\n  'dataEngInterest2': 3,\n  'dataEngInterest3': 2,\n  'mlEngInterest1': 4,\n  'mlEngInterest2': 3,\n  'mlEngInterest3': 1,\n  'mlOpsInterest1': 1,\n  'mlOpsInterest2': 2,\n  'mlOpsInterest3': 3,\n  'tpmSkillRank': 0.0,\n  'tpmInterestRank': 0.625,\n  'uxInterestRank': 0,\n  'frontendInterestRank': 0,\n  'backendInterestRank': 0,\n  'dataEngInterestRank': 0.5,\n  'mlEngInterestRank': 0.6666666666666666,\n  'mlOpsInterestRank': 0.5},\n {'lambdaId': '236FqoUD6o644em8',\n  'name': 'Ethan Anderson',\n  'track': 'Web',\n  'labsProject': 'Test Product - D',\n  'gitExpertise': 2,\n  'dockerExpertise': 4,\n  'playByEar': 5,\n  'detailOriented': 1,\n  'speakUpInDiscussions': 3,\n  'soloOrSocial': 'B',\n  'meaningOrValue': 'B',\n  'feelsRightOrMakesSense': 'B',\n  'favoriteOrCollect': 'B',\n  'tpmSkill1': 'C',\n  'tpmSkill2': 'C',\n  'tpmSkill3': 'A',\n  'tpmInterest1': 2,\n  'tpmInterest2': 4,\n  'tpmInterest3': 4,\n  'tpmInterest4': 1,\n  'uxInterest1': 1,\n  'uxInterest2': 3,\n  'frontendInterest1': 4,\n  'frontendInterest2': 1,\n  'backendInterest1': 1,\n  'backendInterest2': 4,\n  'dataEngInterest1': 0,\n  'dataEngInterest2': 0,\n  'dataEngInterest3': 0,\n  'mlEngInterest1': 0,\n  'mlEngInterest2': 0,\n  'mlEngInterest3': 0,\n  'mlOpsInterest1': 0,\n  'mlOpsInterest2': 0,\n  'mlOpsInterest3': 0,\n  'tpmSkillRank': 0.0,\n  'tpmInterestRank': 0.6875,\n  'uxInterestRank': 0.5,\n  'frontendInterestRank': 0.625,\n  'backendInterestRank': 0.625,\n  'dataEngInterestRank': 0,\n  'mlEngInterestRank': 0,\n  'mlOpsInterestRank': 0},\n {'lambdaId': 'bo21a0Wp1A0y1g63',\n  'name': 'Aria Hernandez',\n  'track': 'Web',\n  'labsProject': 'Test Product - B',\n  'gitExpertise': 3,\n  'dockerExpertise': 3,\n  'playByEar': 2,\n  'detailOriented': 2,\n  'speakUpInDiscussions': 4,\n  'soloOrSocial': 'B',\n  'meaningOrValue': 'A',\n  'feelsRightOrMakesSense': 'A',\n  'favoriteOrCollect': 'B',\n  'tpmSkill1': 'B',\n  'tpmSkill2': 'A',\n  'tpmSkill3': 'B',\n  'tpmInterest1': 3,\n  'tpmInterest2': 4,\n  'tpmInterest3': 1,\n  'tpmInterest4': 3,\n  'uxInterest1': 4,\n  'uxInterest2': 4,\n  'frontendInterest1': 3,\n  'frontendInterest2': 2,\n  'backendInterest1': 3,\n  'backendInterest2': 2,\n  'dataEngInterest1': 0,\n  'dataEngInterest2': 0,\n  'dataEngInterest3': 0,\n  'mlEngInterest1': 0,\n  'mlEngInterest2': 0,\n  'mlEngInterest3': 0,\n  'mlOpsInterest1': 0,\n  'mlOpsInterest2': 0,\n  'mlOpsInterest3': 0,\n  'tpmSkillRank': 0.3333333333333333,\n  'tpmInterestRank': 0.6875,\n  'uxInterestRank': 1.0,\n  'frontendInterestRank': 0.625,\n  'backendInterestRank': 0.625,\n  'dataEngInterestRank': 0,\n  'mlEngInterestRank': 0,\n  'mlOpsInterestRank': 0},\n {'lambdaId': 'YDFH4g880iK58l35',\n  'name': 'Madison Johnson',\n  'track': 'DS',\n  'labsProject': 'Test Product - D',\n  'gitExpertise': 2,\n  'dockerExpertise': 4,\n  'playByEar': 2,\n  'detailOriented': 4,\n  'speakUpInDiscussions': 4,\n  'soloOrSocial': 'A',\n  'meaningOrValue': 'A',\n  'feelsRightOrMakesSense': 'A',\n  'favoriteOrCollect': 'B',\n  'tpmSkill1': 'B',\n  'tpmSkill2': 'A',\n  'tpmSkill3': 'C',\n  'tpmInterest1': 4,\n  'tpmInterest2': 3,\n  'tpmInterest3': 2,\n  'tpmInterest4': 3,\n  'uxInterest1': 0,\n  'uxInterest2': 0,\n  'frontendInterest1': 0,\n  'frontendInterest2': 0,\n  'backendInterest1': 0,\n  'backendInterest2': 0,\n  'dataEngInterest1': 1,\n  'dataEngInterest2': 2,\n  'dataEngInterest3': 4,\n  'mlEngInterest1': 4,\n  'mlEngInterest2': 4,\n  'mlEngInterest3': 1,\n  'mlOpsInterest1': 3,\n  'mlOpsInterest2': 3,\n  'mlOpsInterest3': 4,\n  'tpmSkillRank': 0.6666666666666666,\n  'tpmInterestRank': 0.75,\n  'uxInterestRank': 0,\n  'frontendInterestRank': 0,\n  'backendInterestRank': 0,\n  'dataEngInterestRank': 0.5833333333333334,\n  'mlEngInterestRank': 0.75,\n  'mlOpsInterestRank': 0.8333333333333334},\n {'lambdaId': '7rLc448z5o87Q7lm',\n  'name': 'Chloe Torres',\n  'track': 'DS',\n  'labsProject': 'Test Product - C',\n  'gitExpertise': 4,\n  'dockerExpertise': 4,\n  'playByEar': 5,\n  'detailOriented': 1,\n  'speakUpInDiscussions': 1,\n  'soloOrSocial': 'A',\n  'meaningOrValue': 'A',\n  'feelsRightOrMakesSense': 'B',\n  'favoriteOrCollect': 'A',\n  'tpmSkill1': 'A',\n  'tpmSkill2': 'C',\n  'tpmSkill3': 'A',\n  'tpmInterest1': 4,\n  'tpmInterest2': 1,\n  'tpmInterest3': 3,\n  'tpmInterest4': 3,\n  'uxInterest1': 0,\n  'uxInterest2': 0,\n  'frontendInterest1': 0,\n  'frontendInterest2': 0,\n  'backendInterest1': 0,\n  'backendInterest2': 0,\n  'dataEngInterest1': 2,\n  'dataEngInterest2': 2,\n  'dataEngInterest3': 1,\n  'mlEngInterest1': 4,\n  'mlEngInterest2': 3,\n  'mlEngInterest3': 3,\n  'mlOpsInterest1': 3,\n  'mlOpsInterest2': 1,\n  'mlOpsInterest3': 2,\n  'tpmSkillRank': 0.0,\n  'tpmInterestRank': 0.6875,\n  'uxInterestRank': 0,\n  'frontendInterestRank': 0,\n  'backendInterestRank': 0,\n  'dataEngInterestRank': 0.4166666666666667,\n  'mlEngInterestRank': 0.8333333333333334,\n  'mlOpsInterestRank': 0.5},\n {'lambdaId': 'CO2681aoA80P62vf',\n  'name': 'Daniel Campbell',\n  'track': 'DS',\n  'labsProject': 'Test Product - D',\n  'gitExpertise': 5,\n  'dockerExpertise': 1,\n  'playByEar': 2,\n  'detailOriented': 1,\n  'speakUpInDiscussions': 4,\n  'soloOrSocial': 'B',\n  'meaningOrValue': 'B',\n  'feelsRightOrMakesSense': 'B',\n  'favoriteOrCollect': 'A',\n  'tpmSkill1': 'B',\n  'tpmSkill2': 'B',\n  'tpmSkill3': 'B',\n  'tpmInterest1': 1,\n  'tpmInterest2': 4,\n  'tpmInterest3': 3,\n  'tpmInterest4': 1,\n  'uxInterest1': 0,\n  'uxInterest2': 0,\n  'frontendInterest1': 0,\n  'frontendInterest2': 0,\n  'backendInterest1': 0,\n  'backendInterest2': 0,\n  'dataEngInterest1': 3,\n  'dataEngInterest2': 1,\n  'dataEngInterest3': 4,\n  'mlEngInterest1': 2,\n  'mlEngInterest2': 2,\n  'mlEngInterest3': 3,\n  'mlOpsInterest1': 2,\n  'mlOpsInterest2': 3,\n  'mlOpsInterest3': 3,\n  'tpmSkillRank': 0.6666666666666666,\n  'tpmInterestRank': 0.5625,\n  'uxInterestRank': 0,\n  'frontendInterestRank': 0,\n  'backendInterestRank': 0,\n  'dataEngInterestRank': 0.6666666666666666,\n  'mlEngInterestRank': 0.5833333333333334,\n  'mlOpsInterestRank': 0.6666666666666666},\n {'lambdaId': '0Ns1fLY8q0306Mv8',\n  'name': 'Mila Richardson',\n  'track': 'DS',\n  'labsProject': 'Test Product - C',\n  'gitExpertise': 2,\n  'dockerExpertise': 1,\n  'playByEar': 2,\n  'detailOriented': 1,\n  'speakUpInDiscussions': 2,\n  'soloOrSocial': 'B',\n  'meaningOrValue': 'B',\n  'feelsRightOrMakesSense': 'A',\n  'favoriteOrCollect': 'B',\n  'tpmSkill1': 'A',\n  'tpmSkill2': 'C',\n  'tpmSkill3': 'B',\n  'tpmInterest1': 4,\n  'tpmInterest2': 3,\n  'tpmInterest3': 2,\n  'tpmInterest4': 4,\n  'uxInterest1': 0,\n  'uxInterest2': 0,\n  'frontendInterest1': 0,\n  'frontendInterest2': 0,\n  'backendInterest1': 0,\n  'backendInterest2': 0,\n  'dataEngInterest1': 1,\n  'dataEngInterest2': 4,\n  'dataEngInterest3': 2,\n  'mlEngInterest1': 3,\n  'mlEngInterest2': 1,\n  'mlEngInterest3': 1,\n  'mlOpsInterest1': 3,\n  'mlOpsInterest2': 3,\n  'mlOpsInterest3': 3,\n  'tpmSkillRank': 0.0,\n  'tpmInterestRank': 0.8125,\n  'uxInterestRank': 0,\n  'frontendInterestRank': 0,\n  'backendInterestRank': 0,\n  'dataEngInterestRank': 0.5833333333333334,\n  'mlEngInterestRank': 0.4166666666666667,\n  'mlOpsInterestRank': 0.75},\n {'lambdaId': '872i2x8R3e0h7VSJ',\n  'name': 'Eleanor Allen',\n  'track': 'DS',\n  'labsProject': 'Test Product - B',\n  'gitExpertise': 1,\n  'dockerExpertise': 1,\n  'playByEar': 2,\n  'detailOriented': 2,\n  'speakUpInDiscussions': 1,\n  'soloOrSocial': 'B',\n  'meaningOrValue': 'B',\n  'feelsRightOrMakesSense': 'A',\n  'favoriteOrCollect': 'B',\n  'tpmSkill1': 'C',\n  'tpmSkill2': 'A',\n  'tpmSkill3': 'B',\n  'tpmInterest1': 1,\n  'tpmInterest2': 2,\n  'tpmInterest3': 3,\n  'tpmInterest4': 2,\n  'uxInterest1': 0,\n  'uxInterest2': 0,\n  'frontendInterest1': 0,\n  'frontendInterest2': 0,\n  'backendInterest1': 0,\n  'backendInterest2': 0,\n  'dataEngInterest1': 3,\n  'dataEngInterest2': 4,\n  'dataEngInterest3': 1,\n  'mlEngInterest1': 4,\n  'mlEngInterest2': 3,\n  'mlEngInterest3': 3,\n  'mlOpsInterest1': 1,\n  'mlOpsInterest2': 2,\n  'mlOpsInterest3': 4,\n  'tpmSkillRank': 0.0,\n  'tpmInterestRank': 0.5,\n  'uxInterestRank': 0,\n  'frontendInterestRank': 0,\n  'backendInterestRank': 0,\n  'dataEngInterestRank': 0.6666666666666666,\n  'mlEngInterestRank': 0.8333333333333334,\n  'mlOpsInterestRank': 0.5833333333333334},\n {'lambdaId': 'ug5S0523KF3WRU61',\n  'name': 'Avery Miller',\n  'track': 'Web',\n  'labsProject': 'Test Product - C',\n  'gitExpertise': 4,\n  'dockerExpertise': 4,\n  'playByEar': 2,\n  'detailOriented': 2,\n  'speakUpInDiscussions': 3,\n  'soloOrSocial': 'A',\n  'meaningOrValue': 'A',\n  'feelsRightOrMakesSense': 'A',\n  'favoriteOrCollect': 'B',\n  'tpmSkill1': 'A',\n  'tpmSkill2': 'C',\n  'tpmSkill3': 'A',\n  'tpmInterest1': 2,\n  'tpmInterest2': 1,\n  'tpmInterest3': 2,\n  'tpmInterest4': 1,\n  'uxInterest1': 1,\n  'uxInterest2': 4,\n  'frontendInterest1': 2,\n  'frontendInterest2': 4,\n  'backendInterest1': 2,\n  'backendInterest2': 4,\n  'dataEngInterest1': 0,\n  'dataEngInterest2': 0,\n  'dataEngInterest3': 0,\n  'mlEngInterest1': 0,\n  'mlEngInterest2': 0,\n  'mlEngInterest3': 0,\n  'mlOpsInterest1': 0,\n  'mlOpsInterest2': 0,\n  'mlOpsInterest3': 0,\n  'tpmSkillRank': 0.0,\n  'tpmInterestRank': 0.375,\n  'uxInterestRank': 0.625,\n  'frontendInterestRank': 0.75,\n  'backendInterestRank': 0.75,\n  'dataEngInterestRank': 0,\n  'mlEngInterestRank': 0,\n  'mlOpsInterestRank': 0},\n {'lambdaId': '3EIAdy485t825AK6',\n  'name': 'Theodore Wilson',\n  'track': 'Web',\n  'labsProject': 'Test Product - D',\n  'gitExpertise': 1,\n  'dockerExpertise': 2,\n  'playByEar': 2,\n  'detailOriented': 1,\n  'speakUpInDiscussions': 3,\n  'soloOrSocial': 'B',\n  'meaningOrValue': 'B',\n  'feelsRightOrMakesSense': 'B',\n  'favoriteOrCollect': 'A',\n  'tpmSkill1': 'A',\n  'tpmSkill2': 'C',\n  'tpmSkill3': 'B',\n  'tpmInterest1': 3,\n  'tpmInterest2': 3,\n  'tpmInterest3': 2,\n  'tpmInterest4': 2,\n  'uxInterest1': 3,\n  'uxInterest2': 2,\n  'frontendInterest1': 3,\n  'frontendInterest2': 3,\n  'backendInterest1': 4,\n  'backendInterest2': 4,\n  'dataEngInterest1': 0,\n  'dataEngInterest2': 0,\n  'dataEngInterest3': 0,\n  'mlEngInterest1': 0,\n  'mlEngInterest2': 0,\n  'mlEngInterest3': 0,\n  'mlOpsInterest1': 0,\n  'mlOpsInterest2': 0,\n  'mlOpsInterest3': 0,\n  'tpmSkillRank': 0.0,\n  'tpmInterestRank': 0.625,\n  'uxInterestRank': 0.625,\n  'frontendInterestRank': 0.75,\n  'backendInterestRank': 1.0,\n  'dataEngInterestRank': 0,\n  'mlEngInterestRank': 0,\n  'mlOpsInterestRank': 0},\n {'lambdaId': 'J453cHEj87d72T6J',\n  'name': 'Lucas Anderson',\n  'track': 'Web',\n  'labsProject': 'Test Product - A',\n  'gitExpertise': 1,\n  'dockerExpertise': 3,\n  'playByEar': 4,\n  'detailOriented': 3,\n  'speakUpInDiscussions': 1,\n  'soloOrSocial': 'A',\n  'meaningOrValue': 'B',\n  'feelsRightOrMakesSense': 'B',\n  'favoriteOrCollect': 'B',\n  'tpmSkill1': 'C',\n  'tpmSkill2': 'B',\n  'tpmSkill3': 'B',\n  'tpmInterest1': 1,\n  'tpmInterest2': 1,\n  'tpmInterest3': 4,\n  'tpmInterest4': 1,\n  'uxInterest1': 1,\n  'uxInterest2': 1,\n  'frontendInterest1': 2,\n  'frontendInterest2': 1,\n  'backendInterest1': 1,\n  'backendInterest2': 1,\n  'dataEngInterest1': 0,\n  'dataEngInterest2': 0,\n  'dataEngInterest3': 0,\n  'mlEngInterest1': 0,\n  'mlEngInterest2': 0,\n  'mlEngInterest3': 0,\n  'mlOpsInterest1': 0,\n  'mlOpsInterest2': 0,\n  'mlOpsInterest3': 0,\n  'tpmSkillRank': 0.3333333333333333,\n  'tpmInterestRank': 0.4375,\n  'uxInterestRank': 0.25,\n  'frontendInterestRank': 0.375,\n  'backendInterestRank': 0.25,\n  'dataEngInterestRank': 0,\n  'mlEngInterestRank': 0,\n  'mlOpsInterestRank': 0},\n {'lambdaId': 'wQ252zO1Jvi237Y3',\n  'name': 'Evelyn Rivera',\n  'track': 'Web',\n  'labsProject': 'Test Product - B',\n  'gitExpertise': 1,\n  'dockerExpertise': 3,\n  'playByEar': 3,\n  'detailOriented': 2,\n  'speakUpInDiscussions': 1,\n  'soloOrSocial': 'B',\n  'meaningOrValue': 'A',\n  'feelsRightOrMakesSense': 'A',\n  'favoriteOrCollect': 'B',\n  'tpmSkill1': 'B',\n  'tpmSkill2': 'C',\n  'tpmSkill3': 'A',\n  'tpmInterest1': 4,\n  'tpmInterest2': 2,\n  'tpmInterest3': 3,\n  'tpmInterest4': 4,\n  'uxInterest1': 1,\n  'uxInterest2': 2,\n  'frontendInterest1': 3,\n  'frontendInterest2': 1,\n  'backendInterest1': 3,\n  'backendInterest2': 3,\n  'dataEngInterest1': 0,\n  'dataEngInterest2': 0,\n  'dataEngInterest3': 0,\n  'mlEngInterest1': 0,\n  'mlEngInterest2': 0,\n  'mlEngInterest3': 0,\n  'mlOpsInterest1': 0,\n  'mlOpsInterest2': 0,\n  'mlOpsInterest3': 0,\n  'tpmSkillRank': 0.3333333333333333,\n  'tpmInterestRank': 0.8125,\n  'uxInterestRank': 0.375,\n  'frontendInterestRank': 0.5,\n  'backendInterestRank': 0.75,\n  'dataEngInterestRank': 0,\n  'mlEngInterestRank': 0,\n  'mlOpsInterestRank': 0},\n {'lambdaId': 'q2G72d144Q48RSBh',\n  'name': 'Olivia Adams',\n  'track': 'Web',\n  'labsProject': 'Test Product - B',\n  'gitExpertise': 2,\n  'dockerExpertise': 2,\n  'playByEar': 2,\n  'detailOriented': 3,\n  'speakUpInDiscussions': 4,\n  'soloOrSocial': 'B',\n  'meaningOrValue': 'B',\n  'feelsRightOrMakesSense': 'B',\n  'favoriteOrCollect': 'B',\n  'tpmSkill1': 'B',\n  'tpmSkill2': 'A',\n  'tpmSkill3': 'B',\n  'tpmInterest1': 3,\n  'tpmInterest2': 2,\n  'tpmInterest3': 1,\n  'tpmInterest4': 3,\n  'uxInterest1': 3,\n  'uxInterest2': 3,\n  'frontendInterest1': 3,\n  'frontendInterest2': 1,\n  'backendInterest1': 1,\n  'backendInterest2': 2,\n  'dataEngInterest1': 0,\n  'dataEngInterest2': 0,\n  'dataEngInterest3': 0,\n  'mlEngInterest1': 0,\n  'mlEngInterest2': 0,\n  'mlEngInterest3': 0,\n  'mlOpsInterest1': 0,\n  'mlOpsInterest2': 0,\n  'mlOpsInterest3': 0,\n  'tpmSkillRank': 0.3333333333333333,\n  'tpmInterestRank': 0.5625,\n  'uxInterestRank': 0.75,\n  'frontendInterestRank': 0.5,\n  'backendInterestRank': 0.375,\n  'dataEngInterestRank': 0,\n  'mlEngInterestRank': 0,\n  'mlOpsInterestRank': 0},\n {'lambdaId': '66E2gbJNCH6185N8',\n  'name': 'Oliver Davis',\n  'track': 'Web',\n  'labsProject': 'Test Product - C',\n  'gitExpertise': 5,\n  'dockerExpertise': 2,\n  'playByEar': 2,\n  'detailOriented': 5,\n  'speakUpInDiscussions': 2,\n  'soloOrSocial': 'A',\n  'meaningOrValue': 'A',\n  'feelsRightOrMakesSense': 'B',\n  'favoriteOrCollect': 'B',\n  'tpmSkill1': 'B',\n  'tpmSkill2': 'A',\n  'tpmSkill3': 'B',\n  'tpmInterest1': 4,\n  'tpmInterest2': 4,\n  'tpmInterest3': 1,\n  'tpmInterest4': 3,\n  'uxInterest1': 4,\n  'uxInterest2': 4,\n  'frontendInterest1': 4,\n  'frontendInterest2': 4,\n  'backendInterest1': 2,\n  'backendInterest2': 2,\n  'dataEngInterest1': 0,\n  'dataEngInterest2': 0,\n  'dataEngInterest3': 0,\n  'mlEngInterest1': 0,\n  'mlEngInterest2': 0,\n  'mlEngInterest3': 0,\n  'mlOpsInterest1': 0,\n  'mlOpsInterest2': 0,\n  'mlOpsInterest3': 0,\n  'tpmSkillRank': 0.3333333333333333,\n  'tpmInterestRank': 0.75,\n  'uxInterestRank': 1.0,\n  'frontendInterestRank': 1.0,\n  'backendInterestRank': 0.5,\n  'dataEngInterestRank': 0,\n  'mlEngInterestRank': 0,\n  'mlOpsInterestRank': 0},\n {'lambdaId': '25213kG1K4ueYwe4',\n  'name': 'Joseph Perez',\n  'track': 'Web',\n  'labsProject': 'Test Product - D',\n  'gitExpertise': 4,\n  'dockerExpertise': 4,\n  'playByEar': 2,\n  'detailOriented': 2,\n  'speakUpInDiscussions': 2,\n  'soloOrSocial': 'A',\n  'meaningOrValue': 'A',\n  'feelsRightOrMakesSense': 'A',\n  'favoriteOrCollect': 'B',\n  'tpmSkill1': 'B',\n  'tpmSkill2': 'B',\n  'tpmSkill3': 'C',\n  'tpmInterest1': 1,\n  'tpmInterest2': 3,\n  'tpmInterest3': 2,\n  'tpmInterest4': 1,\n  'uxInterest1': 4,\n  'uxInterest2': 3,\n  'frontendInterest1': 3,\n  'frontendInterest2': 1,\n  'backendInterest1': 4,\n  'backendInterest2': 4,\n  'dataEngInterest1': 0,\n  'dataEngInterest2': 0,\n  'dataEngInterest3': 0,\n  'mlEngInterest1': 0,\n  'mlEngInterest2': 0,\n  'mlEngInterest3': 0,\n  'mlOpsInterest1': 0,\n  'mlOpsInterest2': 0,\n  'mlOpsInterest3': 0,\n  'tpmSkillRank': 1.0,\n  'tpmInterestRank': 0.4375,\n  'uxInterestRank': 0.875,\n  'frontendInterestRank': 0.5,\n  'backendInterestRank': 1.0,\n  'dataEngInterestRank': 0,\n  'mlEngInterestRank': 0,\n  'mlOpsInterestRank': 0},\n {'lambdaId': '11w0u7Y2g6C8O2oQ',\n  'name': 'Evelyn Garcia',\n  'track': 'DS',\n  'labsProject': 'Test Product - B',\n  'gitExpertise': 1,\n  'dockerExpertise': 4,\n  'playByEar': 5,\n  'detailOriented': 2,\n  'speakUpInDiscussions': 5,\n  'soloOrSocial': 'B',\n  'meaningOrValue': 'A',\n  'feelsRightOrMakesSense': 'B',\n  'favoriteOrCollect': 'A',\n  'tpmSkill1': 'A',\n  'tpmSkill2': 'B',\n  'tpmSkill3': 'C',\n  'tpmInterest1': 3,\n  'tpmInterest2': 3,\n  'tpmInterest3': 3,\n  'tpmInterest4': 4,\n  'uxInterest1': 0,\n  'uxInterest2': 0,\n  'frontendInterest1': 0,\n  'frontendInterest2': 0,\n  'backendInterest1': 0,\n  'backendInterest2': 0,\n  'dataEngInterest1': 1,\n  'dataEngInterest2': 1,\n  'dataEngInterest3': 1,\n  'mlEngInterest1': 1,\n  'mlEngInterest2': 4,\n  'mlEngInterest3': 1,\n  'mlOpsInterest1': 3,\n  'mlOpsInterest2': 2,\n  'mlOpsInterest3': 1,\n  'tpmSkillRank': 0.6666666666666666,\n  'tpmInterestRank': 0.8125,\n  'uxInterestRank': 0,\n  'frontendInterestRank': 0,\n  'backendInterestRank': 0,\n  'dataEngInterestRank': 0.25,\n  'mlEngInterestRank': 0.5,\n  'mlOpsInterestRank': 0.5},\n {'lambdaId': '77AnPE54E7k37y4i',\n  'name': 'Mason Richardson',\n  'track': 'Web',\n  'labsProject': 'Test Product - A',\n  'gitExpertise': 5,\n  'dockerExpertise': 1,\n  'playByEar': 4,\n  'detailOriented': 5,\n  'speakUpInDiscussions': 1,\n  'soloOrSocial': 'B',\n  'meaningOrValue': 'B',\n  'feelsRightOrMakesSense': 'A',\n  'favoriteOrCollect': 'A',\n  'tpmSkill1': 'C',\n  'tpmSkill2': 'B',\n  'tpmSkill3': 'A',\n  'tpmInterest1': 2,\n  'tpmInterest2': 1,\n  'tpmInterest3': 2,\n  'tpmInterest4': 2,\n  'uxInterest1': 2,\n  'uxInterest2': 4,\n  'frontendInterest1': 4,\n  'frontendInterest2': 2,\n  'backendInterest1': 4,\n  'backendInterest2': 1,\n  'dataEngInterest1': 0,\n  'dataEngInterest2': 0,\n  'dataEngInterest3': 0,\n  'mlEngInterest1': 0,\n  'mlEngInterest2': 0,\n  'mlEngInterest3': 0,\n  'mlOpsInterest1': 0,\n  'mlOpsInterest2': 0,\n  'mlOpsInterest3': 0,\n  'tpmSkillRank': 0.3333333333333333,\n  'tpmInterestRank': 0.4375,\n  'uxInterestRank': 0.75,\n  'frontendInterestRank': 0.75,\n  'backendInterestRank': 0.625,\n  'dataEngInterestRank': 0,\n  'mlEngInterestRank': 0,\n  'mlOpsInterestRank': 0},\n {'lambdaId': 'Zf03YXw781771Nep',\n  'name': 'Jackson Gonzales',\n  'track': 'Web',\n  'labsProject': 'Test Product - B',\n  'gitExpertise': 2,\n  'dockerExpertise': 1,\n  'playByEar': 4,\n  'detailOriented': 5,\n  'speakUpInDiscussions': 1,\n  'soloOrSocial': 'B',\n  'meaningOrValue': 'A',\n  'feelsRightOrMakesSense': 'B',\n  'favoriteOrCollect': 'A',\n  'tpmSkill1': 'C',\n  'tpmSkill2': 'A',\n  'tpmSkill3': 'B',\n  'tpmInterest1': 2,\n  'tpmInterest2': 1,\n  'tpmInterest3': 4,\n  'tpmInterest4': 2,\n  'uxInterest1': 4,\n  'uxInterest2': 2,\n  'frontendInterest1': 4,\n  'frontendInterest2': 4,\n  'backendInterest1': 1,\n  'backendInterest2': 4,\n  'dataEngInterest1': 0,\n  'dataEngInterest2': 0,\n  'dataEngInterest3': 0,\n  'mlEngInterest1': 0,\n  'mlEngInterest2': 0,\n  'mlEngInterest3': 0,\n  'mlOpsInterest1': 0,\n  'mlOpsInterest2': 0,\n  'mlOpsInterest3': 0,\n  'tpmSkillRank': 0.0,\n  'tpmInterestRank': 0.5625,\n  'uxInterestRank': 0.75,\n  'frontendInterestRank': 1.0,\n  'backendInterestRank': 0.625,\n  'dataEngInterestRank': 0,\n  'mlEngInterestRank': 0,\n  'mlOpsInterestRank': 0},\n {'lambdaId': 'zGJ762o3Mt81S0E8',\n  'name': 'Lucas Williams',\n  'track': 'Web',\n  'labsProject': 'Test Product - C',\n  'gitExpertise': 4,\n  'dockerExpertise': 4,\n  'playByEar': 2,\n  'detailOriented': 4,\n  'speakUpInDiscussions': 3,\n  'soloOrSocial': 'A',\n  'meaningOrValue': 'B',\n  'feelsRightOrMakesSense': 'A',\n  'favoriteOrCollect': 'B',\n  'tpmSkill1': 'A',\n  'tpmSkill2': 'A',\n  'tpmSkill3': 'B',\n  'tpmInterest1': 1,\n  'tpmInterest2': 1,\n  'tpmInterest3': 4,\n  'tpmInterest4': 4,\n  'uxInterest1': 1,\n  'uxInterest2': 4,\n  'frontendInterest1': 1,\n  'frontendInterest2': 4,\n  'backendInterest1': 1,\n  'backendInterest2': 2,\n  'dataEngInterest1': 0,\n  'dataEngInterest2': 0,\n  'dataEngInterest3': 0,\n  'mlEngInterest1': 0,\n  'mlEngInterest2': 0,\n  'mlEngInterest3': 0,\n  'mlOpsInterest1': 0,\n  'mlOpsInterest2': 0,\n  'mlOpsInterest3': 0,\n  'tpmSkillRank': 0.0,\n  'tpmInterestRank': 0.625,\n  'uxInterestRank': 0.625,\n  'frontendInterestRank': 0.625,\n  'backendInterestRank': 0.375,\n  'dataEngInterestRank': 0,\n  'mlEngInterestRank': 0,\n  'mlOpsInterestRank': 0},\n {'lambdaId': '14m4FpA20Aoo75Z2',\n  'name': 'Layla Wilson',\n  'track': 'Web',\n  'labsProject': 'Test Product - D',\n  'gitExpertise': 4,\n  'dockerExpertise': 2,\n  'playByEar': 2,\n  'detailOriented': 4,\n  'speakUpInDiscussions': 3,\n  'soloOrSocial': 'B',\n  'meaningOrValue': 'A',\n  'feelsRightOrMakesSense': 'A',\n  'favoriteOrCollect': 'A',\n  'tpmSkill1': 'B',\n  'tpmSkill2': 'B',\n  'tpmSkill3': 'B',\n  'tpmInterest1': 1,\n  'tpmInterest2': 3,\n  'tpmInterest3': 4,\n  'tpmInterest4': 4,\n  'uxInterest1': 1,\n  'uxInterest2': 1,\n  'frontendInterest1': 1,\n  'frontendInterest2': 4,\n  'backendInterest1': 2,\n  'backendInterest2': 1,\n  'dataEngInterest1': 0,\n  'dataEngInterest2': 0,\n  'dataEngInterest3': 0,\n  'mlEngInterest1': 0,\n  'mlEngInterest2': 0,\n  'mlEngInterest3': 0,\n  'mlOpsInterest1': 0,\n  'mlOpsInterest2': 0,\n  'mlOpsInterest3': 0,\n  'tpmSkillRank': 0.6666666666666666,\n  'tpmInterestRank': 0.75,\n  'uxInterestRank': 0.25,\n  'frontendInterestRank': 0.625,\n  'backendInterestRank': 0.375,\n  'dataEngInterestRank': 0,\n  'mlEngInterestRank': 0,\n  'mlOpsInterestRank': 0},\n {'lambdaId': 'D0iv1WP00Y8O6y13',\n  'name': 'Jack Watson',\n  'track': 'Web',\n  'labsProject': 'Test Product - A',\n  'gitExpertise': 3,\n  'dockerExpertise': 2,\n  'playByEar': 2,\n  'detailOriented': 1,\n  'speakUpInDiscussions': 5,\n  'soloOrSocial': 'B',\n  'meaningOrValue': 'B',\n  'feelsRightOrMakesSense': 'A',\n  'favoriteOrCollect': 'B',\n  'tpmSkill1': 'A',\n  'tpmSkill2': 'A',\n  'tpmSkill3': 'B',\n  'tpmInterest1': 1,\n  'tpmInterest2': 1,\n  'tpmInterest3': 3,\n  'tpmInterest4': 3,\n  'uxInterest1': 4,\n  'uxInterest2': 2,\n  'frontendInterest1': 2,\n  'frontendInterest2': 2,\n  'backendInterest1': 1,\n  'backendInterest2': 3,\n  'dataEngInterest1': 0,\n  'dataEngInterest2': 0,\n  'dataEngInterest3': 0,\n  'mlEngInterest1': 0,\n  'mlEngInterest2': 0,\n  'mlEngInterest3': 0,\n  'mlOpsInterest1': 0,\n  'mlOpsInterest2': 0,\n  'mlOpsInterest3': 0,\n  'tpmSkillRank': 0.0,\n  'tpmInterestRank': 0.5,\n  'uxInterestRank': 0.75,\n  'frontendInterestRank': 0.5,\n  'backendInterestRank': 0.5,\n  'dataEngInterestRank': 0,\n  'mlEngInterestRank': 0,\n  'mlOpsInterestRank': 0},\n {'lambdaId': '6b4hxa8523e8Plk0',\n  'name': 'John Hernandez',\n  'track': 'DS',\n  'labsProject': 'Test Product - B',\n  'gitExpertise': 1,\n  'dockerExpertise': 5,\n  'playByEar': 1,\n  'detailOriented': 4,\n  'speakUpInDiscussions': 5,\n  'soloOrSocial': 'B',\n  'meaningOrValue': 'B',\n  'feelsRightOrMakesSense': 'A',\n  'favoriteOrCollect': 'A',\n  'tpmSkill1': 'C',\n  'tpmSkill2': 'C',\n  'tpmSkill3': 'C',\n  'tpmInterest1': 1,\n  'tpmInterest2': 4,\n  'tpmInterest3': 2,\n  'tpmInterest4': 1,\n  'uxInterest1': 0,\n  'uxInterest2': 0,\n  'frontendInterest1': 0,\n  'frontendInterest2': 0,\n  'backendInterest1': 0,\n  'backendInterest2': 0,\n  'dataEngInterest1': 4,\n  'dataEngInterest2': 2,\n  'dataEngInterest3': 4,\n  'mlEngInterest1': 4,\n  'mlEngInterest2': 1,\n  'mlEngInterest3': 2,\n  'mlOpsInterest1': 4,\n  'mlOpsInterest2': 3,\n  'mlOpsInterest3': 2,\n  'tpmSkillRank': 0.3333333333333333,\n  'tpmInterestRank': 0.5,\n  'uxInterestRank': 0,\n  'frontendInterestRank': 0,\n  'backendInterestRank': 0,\n  'dataEngInterestRank': 0.8333333333333334,\n  'mlEngInterestRank': 0.5833333333333334,\n  'mlOpsInterestRank': 0.75},\n {'lambdaId': '1gncs161DUC3U618',\n  'name': 'Ella Hall',\n  'track': 'Web',\n  'labsProject': 'Test Product - D',\n  'gitExpertise': 3,\n  'dockerExpertise': 1,\n  'playByEar': 1,\n  'detailOriented': 1,\n  'speakUpInDiscussions': 5,\n  'soloOrSocial': 'A',\n  'meaningOrValue': 'B',\n  'feelsRightOrMakesSense': 'B',\n  'favoriteOrCollect': 'B',\n  'tpmSkill1': 'B',\n  'tpmSkill2': 'B',\n  'tpmSkill3': 'B',\n  'tpmInterest1': 3,\n  'tpmInterest2': 3,\n  'tpmInterest3': 4,\n  'tpmInterest4': 2,\n  'uxInterest1': 4,\n  'uxInterest2': 4,\n  'frontendInterest1': 3,\n  'frontendInterest2': 4,\n  'backendInterest1': 2,\n  'backendInterest2': 4,\n  'dataEngInterest1': 0,\n  'dataEngInterest2': 0,\n  'dataEngInterest3': 0,\n  'mlEngInterest1': 0,\n  'mlEngInterest2': 0,\n  'mlEngInterest3': 0,\n  'mlOpsInterest1': 0,\n  'mlOpsInterest2': 0,\n  'mlOpsInterest3': 0,\n  'tpmSkillRank': 0.6666666666666666,\n  'tpmInterestRank': 0.75,\n  'uxInterestRank': 1.0,\n  'frontendInterestRank': 0.875,\n  'backendInterestRank': 0.75,\n  'dataEngInterestRank': 0,\n  'mlEngInterestRank': 0,\n  'mlOpsInterestRank': 0},\n {'lambdaId': 'L27kK6hHg5n06B80',\n  'name': 'Liam Perez',\n  'track': 'Web',\n  'labsProject': 'Test Product - C',\n  'gitExpertise': 1,\n  'dockerExpertise': 3,\n  'playByEar': 3,\n  'detailOriented': 3,\n  'speakUpInDiscussions': 2,\n  'soloOrSocial': 'A',\n  'meaningOrValue': 'A',\n  'feelsRightOrMakesSense': 'A',\n  'favoriteOrCollect': 'A',\n  'tpmSkill1': 'C',\n  'tpmSkill2': 'A',\n  'tpmSkill3': 'A',\n  'tpmInterest1': 2,\n  'tpmInterest2': 2,\n  'tpmInterest3': 3,\n  'tpmInterest4': 1,\n  'uxInterest1': 3,\n  'uxInterest2': 2,\n  'frontendInterest1': 4,\n  'frontendInterest2': 1,\n  'backendInterest1': 1,\n  'backendInterest2': 4,\n  'dataEngInterest1': 0,\n  'dataEngInterest2': 0,\n  'dataEngInterest3': 0,\n  'mlEngInterest1': 0,\n  'mlEngInterest2': 0,\n  'mlEngInterest3': 0,\n  'mlOpsInterest1': 0,\n  'mlOpsInterest2': 0,\n  'mlOpsInterest3': 0,\n  'tpmSkillRank': 0.0,\n  'tpmInterestRank': 0.5,\n  'uxInterestRank': 0.625,\n  'frontendInterestRank': 0.625,\n  'backendInterestRank': 0.625,\n  'dataEngInterestRank': 0,\n  'mlEngInterestRank': 0,\n  'mlOpsInterestRank': 0},\n {'lambdaId': '56IcbZ46Ae2i50Y3',\n  'name': 'Wyatt Jones',\n  'track': 'Web',\n  'labsProject': 'Test Product - D',\n  'gitExpertise': 1,\n  'dockerExpertise': 2,\n  'playByEar': 5,\n  'detailOriented': 1,\n  'speakUpInDiscussions': 1,\n  'soloOrSocial': 'B',\n  'meaningOrValue': 'B',\n  'feelsRightOrMakesSense': 'A',\n  'favoriteOrCollect': 'A',\n  'tpmSkill1': 'B',\n  'tpmSkill2': 'A',\n  'tpmSkill3': 'A',\n  'tpmInterest1': 4,\n  'tpmInterest2': 1,\n  'tpmInterest3': 1,\n  'tpmInterest4': 2,\n  'uxInterest1': 3,\n  'uxInterest2': 4,\n  'frontendInterest1': 4,\n  'frontendInterest2': 2,\n  'backendInterest1': 3,\n  'backendInterest2': 3,\n  'dataEngInterest1': 0,\n  'dataEngInterest2': 0,\n  'dataEngInterest3': 0,\n  'mlEngInterest1': 0,\n  'mlEngInterest2': 0,\n  'mlEngInterest3': 0,\n  'mlOpsInterest1': 0,\n  'mlOpsInterest2': 0,\n  'mlOpsInterest3': 0,\n  'tpmSkillRank': 0.3333333333333333,\n  'tpmInterestRank': 0.5,\n  'uxInterestRank': 0.875,\n  'frontendInterestRank': 0.75,\n  'backendInterestRank': 0.75,\n  'dataEngInterestRank': 0,\n  'mlEngInterestRank': 0,\n  'mlOpsInterestRank': 0},\n {'lambdaId': 'Zi7b5BL6210fkj83',\n  'name': 'Mason Adams',\n  'track': 'Web',\n  'labsProject': 'Test Product - A',\n  'gitExpertise': 3,\n  'dockerExpertise': 5,\n  'playByEar': 1,\n  'detailOriented': 5,\n  'speakUpInDiscussions': 3,\n  'soloOrSocial': 'B',\n  'meaningOrValue': 'B',\n  'feelsRightOrMakesSense': 'A',\n  'favoriteOrCollect': 'A',\n  'tpmSkill1': 'C',\n  'tpmSkill2': 'A',\n  'tpmSkill3': 'C',\n  'tpmInterest1': 2,\n  'tpmInterest2': 2,\n  'tpmInterest3': 3,\n  'tpmInterest4': 2,\n  'uxInterest1': 4,\n  'uxInterest2': 1,\n  'frontendInterest1': 2,\n  'frontendInterest2': 2,\n  'backendInterest1': 2,\n  'backendInterest2': 4,\n  'dataEngInterest1': 0,\n  'dataEngInterest2': 0,\n  'dataEngInterest3': 0,\n  'mlEngInterest1': 0,\n  'mlEngInterest2': 0,\n  'mlEngInterest3': 0,\n  'mlOpsInterest1': 0,\n  'mlOpsInterest2': 0,\n  'mlOpsInterest3': 0,\n  'tpmSkillRank': 0.3333333333333333,\n  'tpmInterestRank': 0.5625,\n  'uxInterestRank': 0.625,\n  'frontendInterestRank': 0.5,\n  'backendInterestRank': 0.75,\n  'dataEngInterestRank': 0,\n  'mlEngInterestRank': 0,\n  'mlOpsInterestRank': 0},\n {'lambdaId': 'Q217sQJL5fq763j5',\n  'name': 'David Williams',\n  'track': 'Web',\n  'labsProject': 'Test Product - B',\n  'gitExpertise': 4,\n  'dockerExpertise': 3,\n  'playByEar': 4,\n  'detailOriented': 3,\n  'speakUpInDiscussions': 4,\n  'soloOrSocial': 'B',\n  'meaningOrValue': 'A',\n  'feelsRightOrMakesSense': 'B',\n  'favoriteOrCollect': 'A',\n  'tpmSkill1': 'A',\n  'tpmSkill2': 'C',\n  'tpmSkill3': 'A',\n  'tpmInterest1': 1,\n  'tpmInterest2': 1,\n  'tpmInterest3': 1,\n  'tpmInterest4': 4,\n  'uxInterest1': 1,\n  'uxInterest2': 3,\n  'frontendInterest1': 3,\n  'frontendInterest2': 1,\n  'backendInterest1': 2,\n  'backendInterest2': 3,\n  'dataEngInterest1': 0,\n  'dataEngInterest2': 0,\n  'dataEngInterest3': 0,\n  'mlEngInterest1': 0,\n  'mlEngInterest2': 0,\n  'mlEngInterest3': 0,\n  'mlOpsInterest1': 0,\n  'mlOpsInterest2': 0,\n  'mlOpsInterest3': 0,\n  'tpmSkillRank': 0.0,\n  'tpmInterestRank': 0.4375,\n  'uxInterestRank': 0.5,\n  'frontendInterestRank': 0.5,\n  'backendInterestRank': 0.625,\n  'dataEngInterestRank': 0,\n  'mlEngInterestRank': 0,\n  'mlOpsInterestRank': 0},\n {'lambdaId': 'M4g28cr14d747YCX',\n  'name': 'Levi Perez',\n  'track': 'DS',\n  'labsProject': 'Test Product - C',\n  'gitExpertise': 3,\n  'dockerExpertise': 3,\n  'playByEar': 2,\n  'detailOriented': 2,\n  'speakUpInDiscussions': 3,\n  'soloOrSocial': 'A',\n  'meaningOrValue': 'A',\n  'feelsRightOrMakesSense': 'A',\n  'favoriteOrCollect': 'A',\n  'tpmSkill1': 'A',\n  'tpmSkill2': 'B',\n  'tpmSkill3': 'B',\n  'tpmInterest1': 3,\n  'tpmInterest2': 1,\n  'tpmInterest3': 1,\n  'tpmInterest4': 3,\n  'uxInterest1': 0,\n  'uxInterest2': 0,\n  'frontendInterest1': 0,\n  'frontendInterest2': 0,\n  'backendInterest1': 0,\n  'backendInterest2': 0,\n  'dataEngInterest1': 3,\n  'dataEngInterest2': 4,\n  'dataEngInterest3': 3,\n  'mlEngInterest1': 3,\n  'mlEngInterest2': 3,\n  'mlEngInterest3': 4,\n  'mlOpsInterest1': 4,\n  'mlOpsInterest2': 1,\n  'mlOpsInterest3': 2,\n  'tpmSkillRank': 0.3333333333333333,\n  'tpmInterestRank': 0.5,\n  'uxInterestRank': 0,\n  'frontendInterestRank': 0,\n  'backendInterestRank': 0,\n  'dataEngInterestRank': 0.8333333333333334,\n  'mlEngInterestRank': 0.8333333333333334,\n  'mlOpsInterestRank': 0.5833333333333334},\n {'lambdaId': 'ab46QL251UOI321v',\n  'name': 'Michael Brooks',\n  'track': 'Web',\n  'labsProject': 'Test Product - C',\n  'gitExpertise': 4,\n  'dockerExpertise': 1,\n  'playByEar': 5,\n  'detailOriented': 5,\n  'speakUpInDiscussions': 5,\n  'soloOrSocial': 'B',\n  'meaningOrValue': 'B',\n  'feelsRightOrMakesSense': 'A',\n  'favoriteOrCollect': 'B',\n  'tpmSkill1': 'B',\n  'tpmSkill2': 'B',\n  'tpmSkill3': 'C',\n  'tpmInterest1': 3,\n  'tpmInterest2': 4,\n  'tpmInterest3': 2,\n  'tpmInterest4': 3,\n  'uxInterest1': 2,\n  'uxInterest2': 1,\n  'frontendInterest1': 1,\n  'frontendInterest2': 2,\n  'backendInterest1': 3,\n  'backendInterest2': 3,\n  'dataEngInterest1': 0,\n  'dataEngInterest2': 0,\n  'dataEngInterest3': 0,\n  'mlEngInterest1': 0,\n  'mlEngInterest2': 0,\n  'mlEngInterest3': 0,\n  'mlOpsInterest1': 0,\n  'mlOpsInterest2': 0,\n  'mlOpsInterest3': 0,\n  'tpmSkillRank': 1.0,\n  'tpmInterestRank': 0.75,\n  'uxInterestRank': 0.375,\n  'frontendInterestRank': 0.375,\n  'backendInterestRank': 0.75,\n  'dataEngInterestRank': 0,\n  'mlEngInterestRank': 0,\n  'mlOpsInterestRank': 0},\n {'lambdaId': '765LkSv4yE31X5W1',\n  'name': 'Avery Harris',\n  'track': 'DS',\n  'labsProject': 'Test Product - D',\n  'gitExpertise': 3,\n  'dockerExpertise': 5,\n  'playByEar': 3,\n  'detailOriented': 2,\n  'speakUpInDiscussions': 5,\n  'soloOrSocial': 'B',\n  'meaningOrValue': 'A',\n  'feelsRightOrMakesSense': 'B',\n  'favoriteOrCollect': 'A',\n  'tpmSkill1': 'C',\n  'tpmSkill2': 'B',\n  'tpmSkill3': 'C',\n  'tpmInterest1': 4,\n  'tpmInterest2': 1,\n  'tpmInterest3': 4,\n  'tpmInterest4': 2,\n  'uxInterest1': 0,\n  'uxInterest2': 0,\n  'frontendInterest1': 0,\n  'frontendInterest2': 0,\n  'backendInterest1': 0,\n  'backendInterest2': 0,\n  'dataEngInterest1': 1,\n  'dataEngInterest2': 2,\n  'dataEngInterest3': 2,\n  'mlEngInterest1': 1,\n  'mlEngInterest2': 2,\n  'mlEngInterest3': 3,\n  'mlOpsInterest1': 1,\n  'mlOpsInterest2': 3,\n  'mlOpsInterest3': 3,\n  'tpmSkillRank': 0.6666666666666666,\n  'tpmInterestRank': 0.6875,\n  'uxInterestRank': 0,\n  'frontendInterestRank': 0,\n  'backendInterestRank': 0,\n  'dataEngInterestRank': 0.4166666666666667,\n  'mlEngInterestRank': 0.5,\n  'mlOpsInterestRank': 0.5833333333333334},\n {'lambdaId': '3W23Wsn151Oi6rt0',\n  'name': 'Chloe James',\n  'track': 'Web',\n  'labsProject': 'Test Product - A',\n  'gitExpertise': 1,\n  'dockerExpertise': 4,\n  'playByEar': 4,\n  'detailOriented': 3,\n  'speakUpInDiscussions': 3,\n  'soloOrSocial': 'A',\n  'meaningOrValue': 'A',\n  'feelsRightOrMakesSense': 'A',\n  'favoriteOrCollect': 'B',\n  'tpmSkill1': 'C',\n  'tpmSkill2': 'B',\n  'tpmSkill3': 'B',\n  'tpmInterest1': 3,\n  'tpmInterest2': 3,\n  'tpmInterest3': 1,\n  'tpmInterest4': 1,\n  'uxInterest1': 1,\n  'uxInterest2': 2,\n  'frontendInterest1': 3,\n  'frontendInterest2': 2,\n  'backendInterest1': 1,\n  'backendInterest2': 3,\n  'dataEngInterest1': 0,\n  'dataEngInterest2': 0,\n  'dataEngInterest3': 0,\n  'mlEngInterest1': 0,\n  'mlEngInterest2': 0,\n  'mlEngInterest3': 0,\n  'mlOpsInterest1': 0,\n  'mlOpsInterest2': 0,\n  'mlOpsInterest3': 0,\n  'tpmSkillRank': 0.3333333333333333,\n  'tpmInterestRank': 0.5,\n  'uxInterestRank': 0.375,\n  'frontendInterestRank': 0.625,\n  'backendInterestRank': 0.5,\n  'dataEngInterestRank': 0,\n  'mlEngInterestRank': 0,\n  'mlOpsInterestRank': 0},\n {'lambdaId': 'k86326PDIOl6o1x5',\n  'name': 'Lucas Clark',\n  'track': 'DS',\n  'labsProject': 'Test Product - B',\n  'gitExpertise': 2,\n  'dockerExpertise': 5,\n  'playByEar': 4,\n  'detailOriented': 1,\n  'speakUpInDiscussions': 4,\n  'soloOrSocial': 'A',\n  'meaningOrValue': 'B',\n  'feelsRightOrMakesSense': 'B',\n  'favoriteOrCollect': 'A',\n  'tpmSkill1': 'C',\n  'tpmSkill2': 'C',\n  'tpmSkill3': 'A',\n  'tpmInterest1': 2,\n  'tpmInterest2': 4,\n  'tpmInterest3': 1,\n  'tpmInterest4': 2,\n  'uxInterest1': 0,\n  'uxInterest2': 0,\n  'frontendInterest1': 0,\n  'frontendInterest2': 0,\n  'backendInterest1': 0,\n  'backendInterest2': 0,\n  'dataEngInterest1': 3,\n  'dataEngInterest2': 4,\n  'dataEngInterest3': 3,\n  'mlEngInterest1': 4,\n  'mlEngInterest2': 1,\n  'mlEngInterest3': 2,\n  'mlOpsInterest1': 2,\n  'mlOpsInterest2': 3,\n  'mlOpsInterest3': 2,\n  'tpmSkillRank': 0.0,\n  'tpmInterestRank': 0.5625,\n  'uxInterestRank': 0,\n  'frontendInterestRank': 0,\n  'backendInterestRank': 0,\n  'dataEngInterestRank': 0.8333333333333334,\n  'mlEngInterestRank': 0.5833333333333334,\n  'mlOpsInterestRank': 0.5833333333333334},\n {'lambdaId': 'h8Za1H3G1P3pZ068',\n  'name': 'Penelope Brooks',\n  'track': 'DS',\n  'labsProject': 'Test Product - C',\n  'gitExpertise': 2,\n  'dockerExpertise': 5,\n  'playByEar': 4,\n  'detailOriented': 3,\n  'speakUpInDiscussions': 2,\n  'soloOrSocial': 'B',\n  'meaningOrValue': 'A',\n  'feelsRightOrMakesSense': 'A',\n  'favoriteOrCollect': 'B',\n  'tpmSkill1': 'C',\n  'tpmSkill2': 'A',\n  'tpmSkill3': 'A',\n  'tpmInterest1': 2,\n  'tpmInterest2': 3,\n  'tpmInterest3': 1,\n  'tpmInterest4': 4,\n  'uxInterest1': 0,\n  'uxInterest2': 0,\n  'frontendInterest1': 0,\n  'frontendInterest2': 0,\n  'backendInterest1': 0,\n  'backendInterest2': 0,\n  'dataEngInterest1': 1,\n  'dataEngInterest2': 4,\n  'dataEngInterest3': 4,\n  'mlEngInterest1': 1,\n  'mlEngInterest2': 2,\n  'mlEngInterest3': 4,\n  'mlOpsInterest1': 4,\n  'mlOpsInterest2': 1,\n  'mlOpsInterest3': 4,\n  'tpmSkillRank': 0.0,\n  'tpmInterestRank': 0.625,\n  'uxInterestRank': 0,\n  'frontendInterestRank': 0,\n  'backendInterestRank': 0,\n  'dataEngInterestRank': 0.75,\n  'mlEngInterestRank': 0.5833333333333334,\n  'mlOpsInterestRank': 0.75},\n {'lambdaId': 'Ef67o7H0S5b7RZ46',\n  'name': 'Emily Thompson',\n  'track': 'Web',\n  'labsProject': 'Test Product - A',\n  'gitExpertise': 5,\n  'dockerExpertise': 3,\n  'playByEar': 1,\n  'detailOriented': 2,\n  'speakUpInDiscussions': 5,\n  'soloOrSocial': 'B',\n  'meaningOrValue': 'B',\n  'feelsRightOrMakesSense': 'B',\n  'favoriteOrCollect': 'A',\n  'tpmSkill1': 'C',\n  'tpmSkill2': 'B',\n  'tpmSkill3': 'C',\n  'tpmInterest1': 4,\n  'tpmInterest2': 4,\n  'tpmInterest3': 1,\n  'tpmInterest4': 4,\n  'uxInterest1': 1,\n  'uxInterest2': 2,\n  'frontendInterest1': 3,\n  'frontendInterest2': 3,\n  'backendInterest1': 4,\n  'backendInterest2': 4,\n  'dataEngInterest1': 0,\n  'dataEngInterest2': 0,\n  'dataEngInterest3': 0,\n  'mlEngInterest1': 0,\n  'mlEngInterest2': 0,\n  'mlEngInterest3': 0,\n  'mlOpsInterest1': 0,\n  'mlOpsInterest2': 0,\n  'mlOpsInterest3': 0,\n  'tpmSkillRank': 0.6666666666666666,\n  'tpmInterestRank': 0.8125,\n  'uxInterestRank': 0.375,\n  'frontendInterestRank': 0.75,\n  'backendInterestRank': 1.0,\n  'dataEngInterestRank': 0,\n  'mlEngInterestRank': 0,\n  'mlOpsInterestRank': 0},\n {'lambdaId': 'Ph5n6232gj70fwv6',\n  'name': 'Alexander Allen',\n  'track': 'Web',\n  'labsProject': 'Test Product - A',\n  'gitExpertise': 3,\n  'dockerExpertise': 3,\n  'playByEar': 1,\n  'detailOriented': 3,\n  'speakUpInDiscussions': 5,\n  'soloOrSocial': 'B',\n  'meaningOrValue': 'A',\n  'feelsRightOrMakesSense': 'B',\n  'favoriteOrCollect': 'B',\n  'tpmSkill1': 'A',\n  'tpmSkill2': 'C',\n  'tpmSkill3': 'C',\n  'tpmInterest1': 4,\n  'tpmInterest2': 4,\n  'tpmInterest3': 4,\n  'tpmInterest4': 3,\n  'uxInterest1': 1,\n  'uxInterest2': 4,\n  'frontendInterest1': 2,\n  'frontendInterest2': 1,\n  'backendInterest1': 4,\n  'backendInterest2': 4,\n  'dataEngInterest1': 0,\n  'dataEngInterest2': 0,\n  'dataEngInterest3': 0,\n  'mlEngInterest1': 0,\n  'mlEngInterest2': 0,\n  'mlEngInterest3': 0,\n  'mlOpsInterest1': 0,\n  'mlOpsInterest2': 0,\n  'mlOpsInterest3': 0,\n  'tpmSkillRank': 0.3333333333333333,\n  'tpmInterestRank': 0.9375,\n  'uxInterestRank': 0.625,\n  'frontendInterestRank': 0.375,\n  'backendInterestRank': 1.0,\n  'dataEngInterestRank': 0,\n  'mlEngInterestRank': 0,\n  'mlOpsInterestRank': 0},\n {'lambdaId': '8uMw6UQ260dg687z',\n  'name': 'Mia Moore',\n  'track': 'Web',\n  'labsProject': 'Test Product - D',\n  'gitExpertise': 4,\n  'dockerExpertise': 4,\n  'playByEar': 3,\n  'detailOriented': 4,\n  'speakUpInDiscussions': 3,\n  'soloOrSocial': 'A',\n  'meaningOrValue': 'B',\n  'feelsRightOrMakesSense': 'A',\n  'favoriteOrCollect': 'A',\n  'tpmSkill1': 'B',\n  'tpmSkill2': 'C',\n  'tpmSkill3': 'A',\n  'tpmInterest1': 2,\n  'tpmInterest2': 1,\n  'tpmInterest3': 4,\n  'tpmInterest4': 4,\n  'uxInterest1': 3,\n  'uxInterest2': 4,\n  'frontendInterest1': 1,\n  'frontendInterest2': 4,\n  'backendInterest1': 2,\n  'backendInterest2': 4,\n  'dataEngInterest1': 0,\n  'dataEngInterest2': 0,\n  'dataEngInterest3': 0,\n  'mlEngInterest1': 0,\n  'mlEngInterest2': 0,\n  'mlEngInterest3': 0,\n  'mlOpsInterest1': 0,\n  'mlOpsInterest2': 0,\n  'mlOpsInterest3': 0,\n  'tpmSkillRank': 0.3333333333333333,\n  'tpmInterestRank': 0.6875,\n  'uxInterestRank': 0.875,\n  'frontendInterestRank': 0.625,\n  'backendInterestRank': 0.75,\n  'dataEngInterestRank': 0,\n  'mlEngInterestRank': 0,\n  'mlOpsInterestRank': 0},\n {'lambdaId': '7j0F1383M0PFoD6f',\n  'name': 'James Thomas',\n  'track': 'Web',\n  'labsProject': 'Test Product - A',\n  'gitExpertise': 5,\n  'dockerExpertise': 2,\n  'playByEar': 5,\n  'detailOriented': 1,\n  'speakUpInDiscussions': 1,\n  'soloOrSocial': 'B',\n  'meaningOrValue': 'B',\n  'feelsRightOrMakesSense': 'A',\n  'favoriteOrCollect': 'B',\n  'tpmSkill1': 'B',\n  'tpmSkill2': 'C',\n  'tpmSkill3': 'A',\n  'tpmInterest1': 2,\n  'tpmInterest2': 2,\n  'tpmInterest3': 2,\n  'tpmInterest4': 1,\n  'uxInterest1': 3,\n  'uxInterest2': 1,\n  'frontendInterest1': 1,\n  'frontendInterest2': 1,\n  'backendInterest1': 1,\n  'backendInterest2': 2,\n  'dataEngInterest1': 0,\n  'dataEngInterest2': 0,\n  'dataEngInterest3': 0,\n  'mlEngInterest1': 0,\n  'mlEngInterest2': 0,\n  'mlEngInterest3': 0,\n  'mlOpsInterest1': 0,\n  'mlOpsInterest2': 0,\n  'mlOpsInterest3': 0,\n  'tpmSkillRank': 0.3333333333333333,\n  'tpmInterestRank': 0.4375,\n  'uxInterestRank': 0.5,\n  'frontendInterestRank': 0.25,\n  'backendInterestRank': 0.375,\n  'dataEngInterestRank': 0,\n  'mlEngInterestRank': 0,\n  'mlOpsInterestRank': 0},\n {'lambdaId': '511j48cuQwn48TK2',\n  'name': 'Camila Lopez',\n  'track': 'Web',\n  'labsProject': 'Test Product - B',\n  'gitExpertise': 2,\n  'dockerExpertise': 1,\n  'playByEar': 2,\n  'detailOriented': 4,\n  'speakUpInDiscussions': 4,\n  'soloOrSocial': 'A',\n  'meaningOrValue': 'B',\n  'feelsRightOrMakesSense': 'B',\n  'favoriteOrCollect': 'A',\n  'tpmSkill1': 'A',\n  'tpmSkill2': 'C',\n  'tpmSkill3': 'C',\n  'tpmInterest1': 3,\n  'tpmInterest2': 1,\n  'tpmInterest3': 2,\n  'tpmInterest4': 1,\n  'uxInterest1': 3,\n  'uxInterest2': 3,\n  'frontendInterest1': 3,\n  'frontendInterest2': 1,\n  'backendInterest1': 2,\n  'backendInterest2': 4,\n  'dataEngInterest1': 0,\n  'dataEngInterest2': 0,\n  'dataEngInterest3': 0,\n  'mlEngInterest1': 0,\n  'mlEngInterest2': 0,\n  'mlEngInterest3': 0,\n  'mlOpsInterest1': 0,\n  'mlOpsInterest2': 0,\n  'mlOpsInterest3': 0,\n  'tpmSkillRank': 0.3333333333333333,\n  'tpmInterestRank': 0.4375,\n  'uxInterestRank': 0.75,\n  'frontendInterestRank': 0.5,\n  'backendInterestRank': 0.75,\n  'dataEngInterestRank': 0,\n  'mlEngInterestRank': 0,\n  'mlOpsInterestRank': 0},\n {'lambdaId': '001',\n  'name': 'Charlotte Johnson',\n  'track': 'Web',\n  'labsProject': 'Test Product - A',\n  'gitExpertise': 4,\n  'dockerExpertise': 5,\n  'playByEar': 5,\n  'detailOriented': 2,\n  'speakUpInDiscussions': 4,\n  'soloOrSocial': 'A',\n  'meaningOrValue': 'B',\n  'feelsRightOrMakesSense': 'A',\n  'favoriteOrCollect': 'A',\n  'tpmSkill1': 'C',\n  'tpmSkill2': 'B',\n  'tpmSkill3': 'C',\n  'tpmInterest1': 4,\n  'tpmInterest2': 4,\n  'tpmInterest3': 3,\n  'tpmInterest4': 3,\n  'uxInterest1': 3,\n  'uxInterest2': 1,\n  'frontendInterest1': 1,\n  'frontendInterest2': 1,\n  'backendInterest1': 4,\n  'backendInterest2': 2,\n  'dataEngInterest1': 0,\n  'dataEngInterest2': 0,\n  'dataEngInterest3': 0,\n  'mlEngInterest1': 0,\n  'mlEngInterest2': 0,\n  'mlEngInterest3': 0,\n  'mlOpsInterest1': 0,\n  'mlOpsInterest2': 0,\n  'mlOpsInterest3': 0,\n  'tpmSkillRank': 0.6666666666666666,\n  'tpmInterestRank': 0.875,\n  'uxInterestRank': 0.5,\n  'frontendInterestRank': 0.25,\n  'backendInterestRank': 0.75,\n  'dataEngInterestRank': 0,\n  'mlEngInterestRank': 0,\n  'mlOpsInterestRank': 0},\n {'lambdaId': '002',\n  'name': 'Mia Smith',\n  'track': 'Web',\n  'labsProject': 'Test Product - A',\n  'gitExpertise': 5,\n  'dockerExpertise': 4,\n  'playByEar': 2,\n  'detailOriented': 3,\n  'speakUpInDiscussions': 5,\n  'soloOrSocial': 'A',\n  'meaningOrValue': 'B',\n  'feelsRightOrMakesSense': 'B',\n  'favoriteOrCollect': 'B',\n  'tpmSkill1': 'A',\n  'tpmSkill2': 'B',\n  'tpmSkill3': 'C',\n  'tpmInterest1': 3,\n  'tpmInterest2': 3,\n  'tpmInterest3': 1,\n  'tpmInterest4': 3,\n  'uxInterest1': 4,\n  'uxInterest2': 3,\n  'frontendInterest1': 2,\n  'frontendInterest2': 1,\n  'backendInterest1': 1,\n  'backendInterest2': 1,\n  'dataEngInterest1': 0,\n  'dataEngInterest2': 0,\n  'dataEngInterest3': 0,\n  'mlEngInterest1': 0,\n  'mlEngInterest2': 0,\n  'mlEngInterest3': 0,\n  'mlOpsInterest1': 0,\n  'mlOpsInterest2': 0,\n  'mlOpsInterest3': 0,\n  'tpmSkillRank': 0.6666666666666666,\n  'tpmInterestRank': 0.625,\n  'uxInterestRank': 0.875,\n  'frontendInterestRank': 0.375,\n  'backendInterestRank': 0.25,\n  'dataEngInterestRank': 0,\n  'mlEngInterestRank': 0,\n  'mlOpsInterestRank': 0},\n {'lambdaId': '003',\n  'name': 'Sebastian Sanchez',\n  'track': 'Web',\n  'labsProject': 'Test Product - A',\n  'gitExpertise': 5,\n  'dockerExpertise': 2,\n  'playByEar': 5,\n  'detailOriented': 3,\n  'speakUpInDiscussions': 5,\n  'soloOrSocial': 'A',\n  'meaningOrValue': 'B',\n  'feelsRightOrMakesSense': 'A',\n  'favoriteOrCollect': 'A',\n  'tpmSkill1': 'B',\n  'tpmSkill2': 'A',\n  'tpmSkill3': 'C',\n  'tpmInterest1': 4,\n  'tpmInterest2': 1,\n  'tpmInterest3': 2,\n  'tpmInterest4': 4,\n  'uxInterest1': 1,\n  'uxInterest2': 4,\n  'frontendInterest1': 2,\n  'frontendInterest2': 4,\n  'backendInterest1': 3,\n  'backendInterest2': 2,\n  'dataEngInterest1': 0,\n  'dataEngInterest2': 0,\n  'dataEngInterest3': 0,\n  'mlEngInterest1': 0,\n  'mlEngInterest2': 0,\n  'mlEngInterest3': 0,\n  'mlOpsInterest1': 0,\n  'mlOpsInterest2': 0,\n  'mlOpsInterest3': 0,\n  'tpmSkillRank': 0.6666666666666666,\n  'tpmInterestRank': 0.6875,\n  'uxInterestRank': 0.625,\n  'frontendInterestRank': 0.75,\n  'backendInterestRank': 0.625,\n  'dataEngInterestRank': 0,\n  'mlEngInterestRank': 0,\n  'mlOpsInterestRank': 0},\n {'lambdaId': '004',\n  'name': 'Isabella Lopez',\n  'track': 'Web',\n  'labsProject': 'Test Product - A',\n  'gitExpertise': 4,\n  'dockerExpertise': 2,\n  'playByEar': 4,\n  'detailOriented': 3,\n  'speakUpInDiscussions': 1,\n  'soloOrSocial': 'B',\n  'meaningOrValue': 'A',\n  'feelsRightOrMakesSense': 'A',\n  'favoriteOrCollect': 'B',\n  'tpmSkill1': 'C',\n  'tpmSkill2': 'B',\n  'tpmSkill3': 'B',\n  'tpmInterest1': 3,\n  'tpmInterest2': 2,\n  'tpmInterest3': 2,\n  'tpmInterest4': 3,\n  'uxInterest1': 3,\n  'uxInterest2': 3,\n  'frontendInterest1': 2,\n  'frontendInterest2': 4,\n  'backendInterest1': 4,\n  'backendInterest2': 2,\n  'dataEngInterest1': 0,\n  'dataEngInterest2': 0,\n  'dataEngInterest3': 0,\n  'mlEngInterest1': 0,\n  'mlEngInterest2': 0,\n  'mlEngInterest3': 0,\n  'mlOpsInterest1': 0,\n  'mlOpsInterest2': 0,\n  'mlOpsInterest3': 0,\n  'tpmSkillRank': 0.3333333333333333,\n  'tpmInterestRank': 0.625,\n  'uxInterestRank': 0.75,\n  'frontendInterestRank': 0.75,\n  'backendInterestRank': 0.75,\n  'dataEngInterestRank': 0,\n  'mlEngInterestRank': 0,\n  'mlOpsInterestRank': 0},\n {'lambdaId': '005',\n  'name': 'Oliver Jackson',\n  'track': 'Web',\n  'labsProject': 'Test Product - A',\n  'gitExpertise': 1,\n  'dockerExpertise': 4,\n  'playByEar': 2,\n  'detailOriented': 1,\n  'speakUpInDiscussions': 5,\n  'soloOrSocial': 'A',\n  'meaningOrValue': 'B',\n  'feelsRightOrMakesSense': 'B',\n  'favoriteOrCollect': 'B',\n  'tpmSkill1': 'A',\n  'tpmSkill2': 'A',\n  'tpmSkill3': 'C',\n  'tpmInterest1': 4,\n  'tpmInterest2': 4,\n  'tpmInterest3': 2,\n  'tpmInterest4': 2,\n  'uxInterest1': 3,\n  'uxInterest2': 3,\n  'frontendInterest1': 2,\n  'frontendInterest2': 4,\n  'backendInterest1': 1,\n  'backendInterest2': 2,\n  'dataEngInterest1': 0,\n  'dataEngInterest2': 0,\n  'dataEngInterest3': 0,\n  'mlEngInterest1': 0,\n  'mlEngInterest2': 0,\n  'mlEngInterest3': 0,\n  'mlOpsInterest1': 0,\n  'mlOpsInterest2': 0,\n  'mlOpsInterest3': 0,\n  'tpmSkillRank': 0.3333333333333333,\n  'tpmInterestRank': 0.75,\n  'uxInterestRank': 0.75,\n  'frontendInterestRank': 0.75,\n  'backendInterestRank': 0.375,\n  'dataEngInterestRank': 0,\n  'mlEngInterestRank': 0,\n  'mlOpsInterestRank': 0}]"
     },
     "execution_count": 69,
     "metadata": {},
     "output_type": "execute_result"
    }
   ],
   "source": [
    "learners = payload[\"learners\"]\n",
    "learners"
   ],
   "metadata": {
    "collapsed": false,
    "pycharm": {
     "name": "#%%\n"
    }
   }
  },
  {
   "cell_type": "code",
   "execution_count": 70,
   "outputs": [
    {
     "data": {
      "text/plain": "50"
     },
     "execution_count": 70,
     "metadata": {},
     "output_type": "execute_result"
    }
   ],
   "source": [
    "len(payload[\"learners\"])"
   ],
   "metadata": {
    "collapsed": false,
    "pycharm": {
     "name": "#%%\n"
    }
   }
  },
  {
   "cell_type": "code",
   "execution_count": 71,
   "outputs": [
    {
     "data": {
      "text/plain": "4"
     },
     "execution_count": 71,
     "metadata": {},
     "output_type": "execute_result"
    }
   ],
   "source": [
    "len(payload[\"projects\"])"
   ],
   "metadata": {
    "collapsed": false,
    "pycharm": {
     "name": "#%%\n"
    }
   }
  },
  {
   "cell_type": "code",
   "execution_count": 72,
   "outputs": [
    {
     "data": {
      "application/vnd.plotly.v1+json": {
       "data": [
        {
         "hole": 0.5,
         "hoverinfo": "text+label+value",
         "labels": [
          "Web",
          "DS"
         ],
         "showlegend": false,
         "textfont": {
          "size": 12
         },
         "textinfo": "percent+label",
         "textposition": "inside",
         "values": [
          34,
          16
         ],
         "type": "pie"
        }
       ],
       "layout": {
        "colorway": [
         "rgb(133, 92, 117)",
         "rgb(217, 175, 107)",
         "rgb(175, 100, 88)",
         "rgb(115, 111, 76)",
         "rgb(82, 106, 131)",
         "rgb(98, 83, 119)",
         "rgb(104, 133, 92)",
         "rgb(156, 156, 94)",
         "rgb(160, 97, 119)",
         "rgb(140, 120, 93)",
         "rgb(124, 124, 124)"
        ],
        "height": 640,
        "paper_bgcolor": "#333333",
        "title": {
         "font": {
          "color": "white",
          "size": 24
         },
         "text": "Learner Count by Track"
        },
        "width": 640,
        "template": {
         "data": {
          "histogram2dcontour": [
           {
            "type": "histogram2dcontour",
            "colorbar": {
             "outlinewidth": 0,
             "ticks": ""
            },
            "colorscale": [
             [
              0.0,
              "#0d0887"
             ],
             [
              0.1111111111111111,
              "#46039f"
             ],
             [
              0.2222222222222222,
              "#7201a8"
             ],
             [
              0.3333333333333333,
              "#9c179e"
             ],
             [
              0.4444444444444444,
              "#bd3786"
             ],
             [
              0.5555555555555556,
              "#d8576b"
             ],
             [
              0.6666666666666666,
              "#ed7953"
             ],
             [
              0.7777777777777778,
              "#fb9f3a"
             ],
             [
              0.8888888888888888,
              "#fdca26"
             ],
             [
              1.0,
              "#f0f921"
             ]
            ]
           }
          ],
          "choropleth": [
           {
            "type": "choropleth",
            "colorbar": {
             "outlinewidth": 0,
             "ticks": ""
            }
           }
          ],
          "histogram2d": [
           {
            "type": "histogram2d",
            "colorbar": {
             "outlinewidth": 0,
             "ticks": ""
            },
            "colorscale": [
             [
              0.0,
              "#0d0887"
             ],
             [
              0.1111111111111111,
              "#46039f"
             ],
             [
              0.2222222222222222,
              "#7201a8"
             ],
             [
              0.3333333333333333,
              "#9c179e"
             ],
             [
              0.4444444444444444,
              "#bd3786"
             ],
             [
              0.5555555555555556,
              "#d8576b"
             ],
             [
              0.6666666666666666,
              "#ed7953"
             ],
             [
              0.7777777777777778,
              "#fb9f3a"
             ],
             [
              0.8888888888888888,
              "#fdca26"
             ],
             [
              1.0,
              "#f0f921"
             ]
            ]
           }
          ],
          "heatmap": [
           {
            "type": "heatmap",
            "colorbar": {
             "outlinewidth": 0,
             "ticks": ""
            },
            "colorscale": [
             [
              0.0,
              "#0d0887"
             ],
             [
              0.1111111111111111,
              "#46039f"
             ],
             [
              0.2222222222222222,
              "#7201a8"
             ],
             [
              0.3333333333333333,
              "#9c179e"
             ],
             [
              0.4444444444444444,
              "#bd3786"
             ],
             [
              0.5555555555555556,
              "#d8576b"
             ],
             [
              0.6666666666666666,
              "#ed7953"
             ],
             [
              0.7777777777777778,
              "#fb9f3a"
             ],
             [
              0.8888888888888888,
              "#fdca26"
             ],
             [
              1.0,
              "#f0f921"
             ]
            ]
           }
          ],
          "heatmapgl": [
           {
            "type": "heatmapgl",
            "colorbar": {
             "outlinewidth": 0,
             "ticks": ""
            },
            "colorscale": [
             [
              0.0,
              "#0d0887"
             ],
             [
              0.1111111111111111,
              "#46039f"
             ],
             [
              0.2222222222222222,
              "#7201a8"
             ],
             [
              0.3333333333333333,
              "#9c179e"
             ],
             [
              0.4444444444444444,
              "#bd3786"
             ],
             [
              0.5555555555555556,
              "#d8576b"
             ],
             [
              0.6666666666666666,
              "#ed7953"
             ],
             [
              0.7777777777777778,
              "#fb9f3a"
             ],
             [
              0.8888888888888888,
              "#fdca26"
             ],
             [
              1.0,
              "#f0f921"
             ]
            ]
           }
          ],
          "contourcarpet": [
           {
            "type": "contourcarpet",
            "colorbar": {
             "outlinewidth": 0,
             "ticks": ""
            }
           }
          ],
          "contour": [
           {
            "type": "contour",
            "colorbar": {
             "outlinewidth": 0,
             "ticks": ""
            },
            "colorscale": [
             [
              0.0,
              "#0d0887"
             ],
             [
              0.1111111111111111,
              "#46039f"
             ],
             [
              0.2222222222222222,
              "#7201a8"
             ],
             [
              0.3333333333333333,
              "#9c179e"
             ],
             [
              0.4444444444444444,
              "#bd3786"
             ],
             [
              0.5555555555555556,
              "#d8576b"
             ],
             [
              0.6666666666666666,
              "#ed7953"
             ],
             [
              0.7777777777777778,
              "#fb9f3a"
             ],
             [
              0.8888888888888888,
              "#fdca26"
             ],
             [
              1.0,
              "#f0f921"
             ]
            ]
           }
          ],
          "surface": [
           {
            "type": "surface",
            "colorbar": {
             "outlinewidth": 0,
             "ticks": ""
            },
            "colorscale": [
             [
              0.0,
              "#0d0887"
             ],
             [
              0.1111111111111111,
              "#46039f"
             ],
             [
              0.2222222222222222,
              "#7201a8"
             ],
             [
              0.3333333333333333,
              "#9c179e"
             ],
             [
              0.4444444444444444,
              "#bd3786"
             ],
             [
              0.5555555555555556,
              "#d8576b"
             ],
             [
              0.6666666666666666,
              "#ed7953"
             ],
             [
              0.7777777777777778,
              "#fb9f3a"
             ],
             [
              0.8888888888888888,
              "#fdca26"
             ],
             [
              1.0,
              "#f0f921"
             ]
            ]
           }
          ],
          "mesh3d": [
           {
            "type": "mesh3d",
            "colorbar": {
             "outlinewidth": 0,
             "ticks": ""
            }
           }
          ],
          "scatter": [
           {
            "fillpattern": {
             "fillmode": "overlay",
             "size": 10,
             "solidity": 0.2
            },
            "type": "scatter"
           }
          ],
          "parcoords": [
           {
            "type": "parcoords",
            "line": {
             "colorbar": {
              "outlinewidth": 0,
              "ticks": ""
             }
            }
           }
          ],
          "scatterpolargl": [
           {
            "type": "scatterpolargl",
            "marker": {
             "colorbar": {
              "outlinewidth": 0,
              "ticks": ""
             }
            }
           }
          ],
          "bar": [
           {
            "error_x": {
             "color": "#2a3f5f"
            },
            "error_y": {
             "color": "#2a3f5f"
            },
            "marker": {
             "line": {
              "color": "#E5ECF6",
              "width": 0.5
             },
             "pattern": {
              "fillmode": "overlay",
              "size": 10,
              "solidity": 0.2
             }
            },
            "type": "bar"
           }
          ],
          "scattergeo": [
           {
            "type": "scattergeo",
            "marker": {
             "colorbar": {
              "outlinewidth": 0,
              "ticks": ""
             }
            }
           }
          ],
          "scatterpolar": [
           {
            "type": "scatterpolar",
            "marker": {
             "colorbar": {
              "outlinewidth": 0,
              "ticks": ""
             }
            }
           }
          ],
          "histogram": [
           {
            "marker": {
             "pattern": {
              "fillmode": "overlay",
              "size": 10,
              "solidity": 0.2
             }
            },
            "type": "histogram"
           }
          ],
          "scattergl": [
           {
            "type": "scattergl",
            "marker": {
             "colorbar": {
              "outlinewidth": 0,
              "ticks": ""
             }
            }
           }
          ],
          "scatter3d": [
           {
            "type": "scatter3d",
            "line": {
             "colorbar": {
              "outlinewidth": 0,
              "ticks": ""
             }
            },
            "marker": {
             "colorbar": {
              "outlinewidth": 0,
              "ticks": ""
             }
            }
           }
          ],
          "scattermapbox": [
           {
            "type": "scattermapbox",
            "marker": {
             "colorbar": {
              "outlinewidth": 0,
              "ticks": ""
             }
            }
           }
          ],
          "scatterternary": [
           {
            "type": "scatterternary",
            "marker": {
             "colorbar": {
              "outlinewidth": 0,
              "ticks": ""
             }
            }
           }
          ],
          "scattercarpet": [
           {
            "type": "scattercarpet",
            "marker": {
             "colorbar": {
              "outlinewidth": 0,
              "ticks": ""
             }
            }
           }
          ],
          "carpet": [
           {
            "aaxis": {
             "endlinecolor": "#2a3f5f",
             "gridcolor": "white",
             "linecolor": "white",
             "minorgridcolor": "white",
             "startlinecolor": "#2a3f5f"
            },
            "baxis": {
             "endlinecolor": "#2a3f5f",
             "gridcolor": "white",
             "linecolor": "white",
             "minorgridcolor": "white",
             "startlinecolor": "#2a3f5f"
            },
            "type": "carpet"
           }
          ],
          "table": [
           {
            "cells": {
             "fill": {
              "color": "#EBF0F8"
             },
             "line": {
              "color": "white"
             }
            },
            "header": {
             "fill": {
              "color": "#C8D4E3"
             },
             "line": {
              "color": "white"
             }
            },
            "type": "table"
           }
          ],
          "barpolar": [
           {
            "marker": {
             "line": {
              "color": "#E5ECF6",
              "width": 0.5
             },
             "pattern": {
              "fillmode": "overlay",
              "size": 10,
              "solidity": 0.2
             }
            },
            "type": "barpolar"
           }
          ],
          "pie": [
           {
            "automargin": true,
            "type": "pie"
           }
          ]
         },
         "layout": {
          "autotypenumbers": "strict",
          "colorway": [
           "#636efa",
           "#EF553B",
           "#00cc96",
           "#ab63fa",
           "#FFA15A",
           "#19d3f3",
           "#FF6692",
           "#B6E880",
           "#FF97FF",
           "#FECB52"
          ],
          "font": {
           "color": "#2a3f5f"
          },
          "hovermode": "closest",
          "hoverlabel": {
           "align": "left"
          },
          "paper_bgcolor": "white",
          "plot_bgcolor": "#E5ECF6",
          "polar": {
           "bgcolor": "#E5ECF6",
           "angularaxis": {
            "gridcolor": "white",
            "linecolor": "white",
            "ticks": ""
           },
           "radialaxis": {
            "gridcolor": "white",
            "linecolor": "white",
            "ticks": ""
           }
          },
          "ternary": {
           "bgcolor": "#E5ECF6",
           "aaxis": {
            "gridcolor": "white",
            "linecolor": "white",
            "ticks": ""
           },
           "baxis": {
            "gridcolor": "white",
            "linecolor": "white",
            "ticks": ""
           },
           "caxis": {
            "gridcolor": "white",
            "linecolor": "white",
            "ticks": ""
           }
          },
          "coloraxis": {
           "colorbar": {
            "outlinewidth": 0,
            "ticks": ""
           }
          },
          "colorscale": {
           "sequential": [
            [
             0.0,
             "#0d0887"
            ],
            [
             0.1111111111111111,
             "#46039f"
            ],
            [
             0.2222222222222222,
             "#7201a8"
            ],
            [
             0.3333333333333333,
             "#9c179e"
            ],
            [
             0.4444444444444444,
             "#bd3786"
            ],
            [
             0.5555555555555556,
             "#d8576b"
            ],
            [
             0.6666666666666666,
             "#ed7953"
            ],
            [
             0.7777777777777778,
             "#fb9f3a"
            ],
            [
             0.8888888888888888,
             "#fdca26"
            ],
            [
             1.0,
             "#f0f921"
            ]
           ],
           "sequentialminus": [
            [
             0.0,
             "#0d0887"
            ],
            [
             0.1111111111111111,
             "#46039f"
            ],
            [
             0.2222222222222222,
             "#7201a8"
            ],
            [
             0.3333333333333333,
             "#9c179e"
            ],
            [
             0.4444444444444444,
             "#bd3786"
            ],
            [
             0.5555555555555556,
             "#d8576b"
            ],
            [
             0.6666666666666666,
             "#ed7953"
            ],
            [
             0.7777777777777778,
             "#fb9f3a"
            ],
            [
             0.8888888888888888,
             "#fdca26"
            ],
            [
             1.0,
             "#f0f921"
            ]
           ],
           "diverging": [
            [
             0,
             "#8e0152"
            ],
            [
             0.1,
             "#c51b7d"
            ],
            [
             0.2,
             "#de77ae"
            ],
            [
             0.3,
             "#f1b6da"
            ],
            [
             0.4,
             "#fde0ef"
            ],
            [
             0.5,
             "#f7f7f7"
            ],
            [
             0.6,
             "#e6f5d0"
            ],
            [
             0.7,
             "#b8e186"
            ],
            [
             0.8,
             "#7fbc41"
            ],
            [
             0.9,
             "#4d9221"
            ],
            [
             1,
             "#276419"
            ]
           ]
          },
          "xaxis": {
           "gridcolor": "white",
           "linecolor": "white",
           "ticks": "",
           "title": {
            "standoff": 15
           },
           "zerolinecolor": "white",
           "automargin": true,
           "zerolinewidth": 2
          },
          "yaxis": {
           "gridcolor": "white",
           "linecolor": "white",
           "ticks": "",
           "title": {
            "standoff": 15
           },
           "zerolinecolor": "white",
           "automargin": true,
           "zerolinewidth": 2
          },
          "scene": {
           "xaxis": {
            "backgroundcolor": "#E5ECF6",
            "gridcolor": "white",
            "linecolor": "white",
            "showbackground": true,
            "ticks": "",
            "zerolinecolor": "white",
            "gridwidth": 2
           },
           "yaxis": {
            "backgroundcolor": "#E5ECF6",
            "gridcolor": "white",
            "linecolor": "white",
            "showbackground": true,
            "ticks": "",
            "zerolinecolor": "white",
            "gridwidth": 2
           },
           "zaxis": {
            "backgroundcolor": "#E5ECF6",
            "gridcolor": "white",
            "linecolor": "white",
            "showbackground": true,
            "ticks": "",
            "zerolinecolor": "white",
            "gridwidth": 2
           }
          },
          "shapedefaults": {
           "line": {
            "color": "#2a3f5f"
           }
          },
          "annotationdefaults": {
           "arrowcolor": "#2a3f5f",
           "arrowhead": 0,
           "arrowwidth": 1
          },
          "geo": {
           "bgcolor": "white",
           "landcolor": "#E5ECF6",
           "subunitcolor": "white",
           "showland": true,
           "showlakes": true,
           "lakecolor": "white"
          },
          "title": {
           "x": 0.05
          },
          "mapbox": {
           "style": "light"
          }
         }
        }
       },
       "config": {
        "plotlyServerURL": "https://plot.ly"
       }
      },
      "text/html": "<div>                            <div id=\"f3fea79d-df84-4f4f-8caf-bb21b8e79b8e\" class=\"plotly-graph-div\" style=\"height:640px; width:640px;\"></div>            <script type=\"text/javascript\">                require([\"plotly\"], function(Plotly) {                    window.PLOTLYENV=window.PLOTLYENV || {};                                    if (document.getElementById(\"f3fea79d-df84-4f4f-8caf-bb21b8e79b8e\")) {                    Plotly.newPlot(                        \"f3fea79d-df84-4f4f-8caf-bb21b8e79b8e\",                        [{\"hole\":0.5,\"hoverinfo\":\"text+label+value\",\"labels\":[\"Web\",\"DS\"],\"showlegend\":false,\"textfont\":{\"size\":12},\"textinfo\":\"percent+label\",\"textposition\":\"inside\",\"values\":[34,16],\"type\":\"pie\"}],                        {\"colorway\":[\"rgb(133, 92, 117)\",\"rgb(217, 175, 107)\",\"rgb(175, 100, 88)\",\"rgb(115, 111, 76)\",\"rgb(82, 106, 131)\",\"rgb(98, 83, 119)\",\"rgb(104, 133, 92)\",\"rgb(156, 156, 94)\",\"rgb(160, 97, 119)\",\"rgb(140, 120, 93)\",\"rgb(124, 124, 124)\"],\"height\":640,\"paper_bgcolor\":\"#333333\",\"title\":{\"font\":{\"color\":\"white\",\"size\":24},\"text\":\"Learner Count by Track\"},\"width\":640,\"template\":{\"data\":{\"histogram2dcontour\":[{\"type\":\"histogram2dcontour\",\"colorbar\":{\"outlinewidth\":0,\"ticks\":\"\"},\"colorscale\":[[0.0,\"#0d0887\"],[0.1111111111111111,\"#46039f\"],[0.2222222222222222,\"#7201a8\"],[0.3333333333333333,\"#9c179e\"],[0.4444444444444444,\"#bd3786\"],[0.5555555555555556,\"#d8576b\"],[0.6666666666666666,\"#ed7953\"],[0.7777777777777778,\"#fb9f3a\"],[0.8888888888888888,\"#fdca26\"],[1.0,\"#f0f921\"]]}],\"choropleth\":[{\"type\":\"choropleth\",\"colorbar\":{\"outlinewidth\":0,\"ticks\":\"\"}}],\"histogram2d\":[{\"type\":\"histogram2d\",\"colorbar\":{\"outlinewidth\":0,\"ticks\":\"\"},\"colorscale\":[[0.0,\"#0d0887\"],[0.1111111111111111,\"#46039f\"],[0.2222222222222222,\"#7201a8\"],[0.3333333333333333,\"#9c179e\"],[0.4444444444444444,\"#bd3786\"],[0.5555555555555556,\"#d8576b\"],[0.6666666666666666,\"#ed7953\"],[0.7777777777777778,\"#fb9f3a\"],[0.8888888888888888,\"#fdca26\"],[1.0,\"#f0f921\"]]}],\"heatmap\":[{\"type\":\"heatmap\",\"colorbar\":{\"outlinewidth\":0,\"ticks\":\"\"},\"colorscale\":[[0.0,\"#0d0887\"],[0.1111111111111111,\"#46039f\"],[0.2222222222222222,\"#7201a8\"],[0.3333333333333333,\"#9c179e\"],[0.4444444444444444,\"#bd3786\"],[0.5555555555555556,\"#d8576b\"],[0.6666666666666666,\"#ed7953\"],[0.7777777777777778,\"#fb9f3a\"],[0.8888888888888888,\"#fdca26\"],[1.0,\"#f0f921\"]]}],\"heatmapgl\":[{\"type\":\"heatmapgl\",\"colorbar\":{\"outlinewidth\":0,\"ticks\":\"\"},\"colorscale\":[[0.0,\"#0d0887\"],[0.1111111111111111,\"#46039f\"],[0.2222222222222222,\"#7201a8\"],[0.3333333333333333,\"#9c179e\"],[0.4444444444444444,\"#bd3786\"],[0.5555555555555556,\"#d8576b\"],[0.6666666666666666,\"#ed7953\"],[0.7777777777777778,\"#fb9f3a\"],[0.8888888888888888,\"#fdca26\"],[1.0,\"#f0f921\"]]}],\"contourcarpet\":[{\"type\":\"contourcarpet\",\"colorbar\":{\"outlinewidth\":0,\"ticks\":\"\"}}],\"contour\":[{\"type\":\"contour\",\"colorbar\":{\"outlinewidth\":0,\"ticks\":\"\"},\"colorscale\":[[0.0,\"#0d0887\"],[0.1111111111111111,\"#46039f\"],[0.2222222222222222,\"#7201a8\"],[0.3333333333333333,\"#9c179e\"],[0.4444444444444444,\"#bd3786\"],[0.5555555555555556,\"#d8576b\"],[0.6666666666666666,\"#ed7953\"],[0.7777777777777778,\"#fb9f3a\"],[0.8888888888888888,\"#fdca26\"],[1.0,\"#f0f921\"]]}],\"surface\":[{\"type\":\"surface\",\"colorbar\":{\"outlinewidth\":0,\"ticks\":\"\"},\"colorscale\":[[0.0,\"#0d0887\"],[0.1111111111111111,\"#46039f\"],[0.2222222222222222,\"#7201a8\"],[0.3333333333333333,\"#9c179e\"],[0.4444444444444444,\"#bd3786\"],[0.5555555555555556,\"#d8576b\"],[0.6666666666666666,\"#ed7953\"],[0.7777777777777778,\"#fb9f3a\"],[0.8888888888888888,\"#fdca26\"],[1.0,\"#f0f921\"]]}],\"mesh3d\":[{\"type\":\"mesh3d\",\"colorbar\":{\"outlinewidth\":0,\"ticks\":\"\"}}],\"scatter\":[{\"fillpattern\":{\"fillmode\":\"overlay\",\"size\":10,\"solidity\":0.2},\"type\":\"scatter\"}],\"parcoords\":[{\"type\":\"parcoords\",\"line\":{\"colorbar\":{\"outlinewidth\":0,\"ticks\":\"\"}}}],\"scatterpolargl\":[{\"type\":\"scatterpolargl\",\"marker\":{\"colorbar\":{\"outlinewidth\":0,\"ticks\":\"\"}}}],\"bar\":[{\"error_x\":{\"color\":\"#2a3f5f\"},\"error_y\":{\"color\":\"#2a3f5f\"},\"marker\":{\"line\":{\"color\":\"#E5ECF6\",\"width\":0.5},\"pattern\":{\"fillmode\":\"overlay\",\"size\":10,\"solidity\":0.2}},\"type\":\"bar\"}],\"scattergeo\":[{\"type\":\"scattergeo\",\"marker\":{\"colorbar\":{\"outlinewidth\":0,\"ticks\":\"\"}}}],\"scatterpolar\":[{\"type\":\"scatterpolar\",\"marker\":{\"colorbar\":{\"outlinewidth\":0,\"ticks\":\"\"}}}],\"histogram\":[{\"marker\":{\"pattern\":{\"fillmode\":\"overlay\",\"size\":10,\"solidity\":0.2}},\"type\":\"histogram\"}],\"scattergl\":[{\"type\":\"scattergl\",\"marker\":{\"colorbar\":{\"outlinewidth\":0,\"ticks\":\"\"}}}],\"scatter3d\":[{\"type\":\"scatter3d\",\"line\":{\"colorbar\":{\"outlinewidth\":0,\"ticks\":\"\"}},\"marker\":{\"colorbar\":{\"outlinewidth\":0,\"ticks\":\"\"}}}],\"scattermapbox\":[{\"type\":\"scattermapbox\",\"marker\":{\"colorbar\":{\"outlinewidth\":0,\"ticks\":\"\"}}}],\"scatterternary\":[{\"type\":\"scatterternary\",\"marker\":{\"colorbar\":{\"outlinewidth\":0,\"ticks\":\"\"}}}],\"scattercarpet\":[{\"type\":\"scattercarpet\",\"marker\":{\"colorbar\":{\"outlinewidth\":0,\"ticks\":\"\"}}}],\"carpet\":[{\"aaxis\":{\"endlinecolor\":\"#2a3f5f\",\"gridcolor\":\"white\",\"linecolor\":\"white\",\"minorgridcolor\":\"white\",\"startlinecolor\":\"#2a3f5f\"},\"baxis\":{\"endlinecolor\":\"#2a3f5f\",\"gridcolor\":\"white\",\"linecolor\":\"white\",\"minorgridcolor\":\"white\",\"startlinecolor\":\"#2a3f5f\"},\"type\":\"carpet\"}],\"table\":[{\"cells\":{\"fill\":{\"color\":\"#EBF0F8\"},\"line\":{\"color\":\"white\"}},\"header\":{\"fill\":{\"color\":\"#C8D4E3\"},\"line\":{\"color\":\"white\"}},\"type\":\"table\"}],\"barpolar\":[{\"marker\":{\"line\":{\"color\":\"#E5ECF6\",\"width\":0.5},\"pattern\":{\"fillmode\":\"overlay\",\"size\":10,\"solidity\":0.2}},\"type\":\"barpolar\"}],\"pie\":[{\"automargin\":true,\"type\":\"pie\"}]},\"layout\":{\"autotypenumbers\":\"strict\",\"colorway\":[\"#636efa\",\"#EF553B\",\"#00cc96\",\"#ab63fa\",\"#FFA15A\",\"#19d3f3\",\"#FF6692\",\"#B6E880\",\"#FF97FF\",\"#FECB52\"],\"font\":{\"color\":\"#2a3f5f\"},\"hovermode\":\"closest\",\"hoverlabel\":{\"align\":\"left\"},\"paper_bgcolor\":\"white\",\"plot_bgcolor\":\"#E5ECF6\",\"polar\":{\"bgcolor\":\"#E5ECF6\",\"angularaxis\":{\"gridcolor\":\"white\",\"linecolor\":\"white\",\"ticks\":\"\"},\"radialaxis\":{\"gridcolor\":\"white\",\"linecolor\":\"white\",\"ticks\":\"\"}},\"ternary\":{\"bgcolor\":\"#E5ECF6\",\"aaxis\":{\"gridcolor\":\"white\",\"linecolor\":\"white\",\"ticks\":\"\"},\"baxis\":{\"gridcolor\":\"white\",\"linecolor\":\"white\",\"ticks\":\"\"},\"caxis\":{\"gridcolor\":\"white\",\"linecolor\":\"white\",\"ticks\":\"\"}},\"coloraxis\":{\"colorbar\":{\"outlinewidth\":0,\"ticks\":\"\"}},\"colorscale\":{\"sequential\":[[0.0,\"#0d0887\"],[0.1111111111111111,\"#46039f\"],[0.2222222222222222,\"#7201a8\"],[0.3333333333333333,\"#9c179e\"],[0.4444444444444444,\"#bd3786\"],[0.5555555555555556,\"#d8576b\"],[0.6666666666666666,\"#ed7953\"],[0.7777777777777778,\"#fb9f3a\"],[0.8888888888888888,\"#fdca26\"],[1.0,\"#f0f921\"]],\"sequentialminus\":[[0.0,\"#0d0887\"],[0.1111111111111111,\"#46039f\"],[0.2222222222222222,\"#7201a8\"],[0.3333333333333333,\"#9c179e\"],[0.4444444444444444,\"#bd3786\"],[0.5555555555555556,\"#d8576b\"],[0.6666666666666666,\"#ed7953\"],[0.7777777777777778,\"#fb9f3a\"],[0.8888888888888888,\"#fdca26\"],[1.0,\"#f0f921\"]],\"diverging\":[[0,\"#8e0152\"],[0.1,\"#c51b7d\"],[0.2,\"#de77ae\"],[0.3,\"#f1b6da\"],[0.4,\"#fde0ef\"],[0.5,\"#f7f7f7\"],[0.6,\"#e6f5d0\"],[0.7,\"#b8e186\"],[0.8,\"#7fbc41\"],[0.9,\"#4d9221\"],[1,\"#276419\"]]},\"xaxis\":{\"gridcolor\":\"white\",\"linecolor\":\"white\",\"ticks\":\"\",\"title\":{\"standoff\":15},\"zerolinecolor\":\"white\",\"automargin\":true,\"zerolinewidth\":2},\"yaxis\":{\"gridcolor\":\"white\",\"linecolor\":\"white\",\"ticks\":\"\",\"title\":{\"standoff\":15},\"zerolinecolor\":\"white\",\"automargin\":true,\"zerolinewidth\":2},\"scene\":{\"xaxis\":{\"backgroundcolor\":\"#E5ECF6\",\"gridcolor\":\"white\",\"linecolor\":\"white\",\"showbackground\":true,\"ticks\":\"\",\"zerolinecolor\":\"white\",\"gridwidth\":2},\"yaxis\":{\"backgroundcolor\":\"#E5ECF6\",\"gridcolor\":\"white\",\"linecolor\":\"white\",\"showbackground\":true,\"ticks\":\"\",\"zerolinecolor\":\"white\",\"gridwidth\":2},\"zaxis\":{\"backgroundcolor\":\"#E5ECF6\",\"gridcolor\":\"white\",\"linecolor\":\"white\",\"showbackground\":true,\"ticks\":\"\",\"zerolinecolor\":\"white\",\"gridwidth\":2}},\"shapedefaults\":{\"line\":{\"color\":\"#2a3f5f\"}},\"annotationdefaults\":{\"arrowcolor\":\"#2a3f5f\",\"arrowhead\":0,\"arrowwidth\":1},\"geo\":{\"bgcolor\":\"white\",\"landcolor\":\"#E5ECF6\",\"subunitcolor\":\"white\",\"showland\":true,\"showlakes\":true,\"lakecolor\":\"white\"},\"title\":{\"x\":0.05},\"mapbox\":{\"style\":\"light\"}}}},                        {\"responsive\": true}                    ).then(function(){\n                            \nvar gd = document.getElementById('f3fea79d-df84-4f4f-8caf-bb21b8e79b8e');\nvar x = new MutationObserver(function (mutations, observer) {{\n        var display = window.getComputedStyle(gd).display;\n        if (!display || display === 'none') {{\n            console.log([gd, 'removed!']);\n            Plotly.purge(gd);\n            observer.disconnect();\n        }}\n}});\n\n// Listen for the removal of the full notebook cells\nvar notebookContainer = gd.closest('#notebook-container');\nif (notebookContainer) {{\n    x.observe(notebookContainer, {childList: true});\n}}\n\n// Listen for the clearing of the current output cell\nvar outputEl = gd.closest('.output');\nif (outputEl) {{\n    x.observe(outputEl, {childList: true});\n}}\n\n                        })                };                });            </script>        </div>"
     },
     "metadata": {},
     "output_type": "display_data"
    }
   ],
   "source": [
    "df_type = DataFrame(learners)\n",
    "type_value_counts = df_type[\"track\"].value_counts()\n",
    "data = go.Pie(\n",
    "    labels=type_value_counts.index,\n",
    "    values=type_value_counts.values,\n",
    "    hole=0.5,\n",
    "    textinfo=\"percent+label\",\n",
    "    textfont={\"size\": 12},\n",
    "    hoverinfo=\"text+label+value\",\n",
    "    textposition='inside',\n",
    "    showlegend=False,\n",
    ")\n",
    "layout = go.Layout(\n",
    "    title={\n",
    "        \"text\": \"Learner Count by Track\",\n",
    "        \"font\": {\"color\": \"white\", \"size\": 24},\n",
    "    },\n",
    "    colorway=px.colors.qualitative.Antique,\n",
    "    width=640,\n",
    "    height=640,\n",
    "    paper_bgcolor=\"#333333\",\n",
    ")\n",
    "figure = go.Figure(data, layout)\n",
    "figure.show()"
   ],
   "metadata": {
    "collapsed": false,
    "pycharm": {
     "name": "#%%\n"
    }
   }
  },
  {
   "cell_type": "code",
   "execution_count": 73,
   "outputs": [
    {
     "data": {
      "application/vnd.plotly.v1+json": {
       "data": [
        {
         "hole": 0.5,
         "hoverinfo": "text+label+value",
         "labels": [
          "Test Product - B",
          "Test Product - A",
          "Test Product - C",
          "Test Product - D"
         ],
         "showlegend": false,
         "textfont": {
          "size": 12
         },
         "textinfo": "percent+label",
         "textposition": "inside",
         "values": [
          13,
          13,
          12,
          12
         ],
         "type": "pie"
        }
       ],
       "layout": {
        "colorway": [
         "rgb(133, 92, 117)",
         "rgb(217, 175, 107)",
         "rgb(175, 100, 88)",
         "rgb(115, 111, 76)",
         "rgb(82, 106, 131)",
         "rgb(98, 83, 119)",
         "rgb(104, 133, 92)",
         "rgb(156, 156, 94)",
         "rgb(160, 97, 119)",
         "rgb(140, 120, 93)",
         "rgb(124, 124, 124)"
        ],
        "height": 640,
        "paper_bgcolor": "#333333",
        "title": {
         "font": {
          "color": "white",
          "size": 24
         },
         "text": "Learner Count by Team"
        },
        "width": 640,
        "template": {
         "data": {
          "histogram2dcontour": [
           {
            "type": "histogram2dcontour",
            "colorbar": {
             "outlinewidth": 0,
             "ticks": ""
            },
            "colorscale": [
             [
              0.0,
              "#0d0887"
             ],
             [
              0.1111111111111111,
              "#46039f"
             ],
             [
              0.2222222222222222,
              "#7201a8"
             ],
             [
              0.3333333333333333,
              "#9c179e"
             ],
             [
              0.4444444444444444,
              "#bd3786"
             ],
             [
              0.5555555555555556,
              "#d8576b"
             ],
             [
              0.6666666666666666,
              "#ed7953"
             ],
             [
              0.7777777777777778,
              "#fb9f3a"
             ],
             [
              0.8888888888888888,
              "#fdca26"
             ],
             [
              1.0,
              "#f0f921"
             ]
            ]
           }
          ],
          "choropleth": [
           {
            "type": "choropleth",
            "colorbar": {
             "outlinewidth": 0,
             "ticks": ""
            }
           }
          ],
          "histogram2d": [
           {
            "type": "histogram2d",
            "colorbar": {
             "outlinewidth": 0,
             "ticks": ""
            },
            "colorscale": [
             [
              0.0,
              "#0d0887"
             ],
             [
              0.1111111111111111,
              "#46039f"
             ],
             [
              0.2222222222222222,
              "#7201a8"
             ],
             [
              0.3333333333333333,
              "#9c179e"
             ],
             [
              0.4444444444444444,
              "#bd3786"
             ],
             [
              0.5555555555555556,
              "#d8576b"
             ],
             [
              0.6666666666666666,
              "#ed7953"
             ],
             [
              0.7777777777777778,
              "#fb9f3a"
             ],
             [
              0.8888888888888888,
              "#fdca26"
             ],
             [
              1.0,
              "#f0f921"
             ]
            ]
           }
          ],
          "heatmap": [
           {
            "type": "heatmap",
            "colorbar": {
             "outlinewidth": 0,
             "ticks": ""
            },
            "colorscale": [
             [
              0.0,
              "#0d0887"
             ],
             [
              0.1111111111111111,
              "#46039f"
             ],
             [
              0.2222222222222222,
              "#7201a8"
             ],
             [
              0.3333333333333333,
              "#9c179e"
             ],
             [
              0.4444444444444444,
              "#bd3786"
             ],
             [
              0.5555555555555556,
              "#d8576b"
             ],
             [
              0.6666666666666666,
              "#ed7953"
             ],
             [
              0.7777777777777778,
              "#fb9f3a"
             ],
             [
              0.8888888888888888,
              "#fdca26"
             ],
             [
              1.0,
              "#f0f921"
             ]
            ]
           }
          ],
          "heatmapgl": [
           {
            "type": "heatmapgl",
            "colorbar": {
             "outlinewidth": 0,
             "ticks": ""
            },
            "colorscale": [
             [
              0.0,
              "#0d0887"
             ],
             [
              0.1111111111111111,
              "#46039f"
             ],
             [
              0.2222222222222222,
              "#7201a8"
             ],
             [
              0.3333333333333333,
              "#9c179e"
             ],
             [
              0.4444444444444444,
              "#bd3786"
             ],
             [
              0.5555555555555556,
              "#d8576b"
             ],
             [
              0.6666666666666666,
              "#ed7953"
             ],
             [
              0.7777777777777778,
              "#fb9f3a"
             ],
             [
              0.8888888888888888,
              "#fdca26"
             ],
             [
              1.0,
              "#f0f921"
             ]
            ]
           }
          ],
          "contourcarpet": [
           {
            "type": "contourcarpet",
            "colorbar": {
             "outlinewidth": 0,
             "ticks": ""
            }
           }
          ],
          "contour": [
           {
            "type": "contour",
            "colorbar": {
             "outlinewidth": 0,
             "ticks": ""
            },
            "colorscale": [
             [
              0.0,
              "#0d0887"
             ],
             [
              0.1111111111111111,
              "#46039f"
             ],
             [
              0.2222222222222222,
              "#7201a8"
             ],
             [
              0.3333333333333333,
              "#9c179e"
             ],
             [
              0.4444444444444444,
              "#bd3786"
             ],
             [
              0.5555555555555556,
              "#d8576b"
             ],
             [
              0.6666666666666666,
              "#ed7953"
             ],
             [
              0.7777777777777778,
              "#fb9f3a"
             ],
             [
              0.8888888888888888,
              "#fdca26"
             ],
             [
              1.0,
              "#f0f921"
             ]
            ]
           }
          ],
          "surface": [
           {
            "type": "surface",
            "colorbar": {
             "outlinewidth": 0,
             "ticks": ""
            },
            "colorscale": [
             [
              0.0,
              "#0d0887"
             ],
             [
              0.1111111111111111,
              "#46039f"
             ],
             [
              0.2222222222222222,
              "#7201a8"
             ],
             [
              0.3333333333333333,
              "#9c179e"
             ],
             [
              0.4444444444444444,
              "#bd3786"
             ],
             [
              0.5555555555555556,
              "#d8576b"
             ],
             [
              0.6666666666666666,
              "#ed7953"
             ],
             [
              0.7777777777777778,
              "#fb9f3a"
             ],
             [
              0.8888888888888888,
              "#fdca26"
             ],
             [
              1.0,
              "#f0f921"
             ]
            ]
           }
          ],
          "mesh3d": [
           {
            "type": "mesh3d",
            "colorbar": {
             "outlinewidth": 0,
             "ticks": ""
            }
           }
          ],
          "scatter": [
           {
            "fillpattern": {
             "fillmode": "overlay",
             "size": 10,
             "solidity": 0.2
            },
            "type": "scatter"
           }
          ],
          "parcoords": [
           {
            "type": "parcoords",
            "line": {
             "colorbar": {
              "outlinewidth": 0,
              "ticks": ""
             }
            }
           }
          ],
          "scatterpolargl": [
           {
            "type": "scatterpolargl",
            "marker": {
             "colorbar": {
              "outlinewidth": 0,
              "ticks": ""
             }
            }
           }
          ],
          "bar": [
           {
            "error_x": {
             "color": "#2a3f5f"
            },
            "error_y": {
             "color": "#2a3f5f"
            },
            "marker": {
             "line": {
              "color": "#E5ECF6",
              "width": 0.5
             },
             "pattern": {
              "fillmode": "overlay",
              "size": 10,
              "solidity": 0.2
             }
            },
            "type": "bar"
           }
          ],
          "scattergeo": [
           {
            "type": "scattergeo",
            "marker": {
             "colorbar": {
              "outlinewidth": 0,
              "ticks": ""
             }
            }
           }
          ],
          "scatterpolar": [
           {
            "type": "scatterpolar",
            "marker": {
             "colorbar": {
              "outlinewidth": 0,
              "ticks": ""
             }
            }
           }
          ],
          "histogram": [
           {
            "marker": {
             "pattern": {
              "fillmode": "overlay",
              "size": 10,
              "solidity": 0.2
             }
            },
            "type": "histogram"
           }
          ],
          "scattergl": [
           {
            "type": "scattergl",
            "marker": {
             "colorbar": {
              "outlinewidth": 0,
              "ticks": ""
             }
            }
           }
          ],
          "scatter3d": [
           {
            "type": "scatter3d",
            "line": {
             "colorbar": {
              "outlinewidth": 0,
              "ticks": ""
             }
            },
            "marker": {
             "colorbar": {
              "outlinewidth": 0,
              "ticks": ""
             }
            }
           }
          ],
          "scattermapbox": [
           {
            "type": "scattermapbox",
            "marker": {
             "colorbar": {
              "outlinewidth": 0,
              "ticks": ""
             }
            }
           }
          ],
          "scatterternary": [
           {
            "type": "scatterternary",
            "marker": {
             "colorbar": {
              "outlinewidth": 0,
              "ticks": ""
             }
            }
           }
          ],
          "scattercarpet": [
           {
            "type": "scattercarpet",
            "marker": {
             "colorbar": {
              "outlinewidth": 0,
              "ticks": ""
             }
            }
           }
          ],
          "carpet": [
           {
            "aaxis": {
             "endlinecolor": "#2a3f5f",
             "gridcolor": "white",
             "linecolor": "white",
             "minorgridcolor": "white",
             "startlinecolor": "#2a3f5f"
            },
            "baxis": {
             "endlinecolor": "#2a3f5f",
             "gridcolor": "white",
             "linecolor": "white",
             "minorgridcolor": "white",
             "startlinecolor": "#2a3f5f"
            },
            "type": "carpet"
           }
          ],
          "table": [
           {
            "cells": {
             "fill": {
              "color": "#EBF0F8"
             },
             "line": {
              "color": "white"
             }
            },
            "header": {
             "fill": {
              "color": "#C8D4E3"
             },
             "line": {
              "color": "white"
             }
            },
            "type": "table"
           }
          ],
          "barpolar": [
           {
            "marker": {
             "line": {
              "color": "#E5ECF6",
              "width": 0.5
             },
             "pattern": {
              "fillmode": "overlay",
              "size": 10,
              "solidity": 0.2
             }
            },
            "type": "barpolar"
           }
          ],
          "pie": [
           {
            "automargin": true,
            "type": "pie"
           }
          ]
         },
         "layout": {
          "autotypenumbers": "strict",
          "colorway": [
           "#636efa",
           "#EF553B",
           "#00cc96",
           "#ab63fa",
           "#FFA15A",
           "#19d3f3",
           "#FF6692",
           "#B6E880",
           "#FF97FF",
           "#FECB52"
          ],
          "font": {
           "color": "#2a3f5f"
          },
          "hovermode": "closest",
          "hoverlabel": {
           "align": "left"
          },
          "paper_bgcolor": "white",
          "plot_bgcolor": "#E5ECF6",
          "polar": {
           "bgcolor": "#E5ECF6",
           "angularaxis": {
            "gridcolor": "white",
            "linecolor": "white",
            "ticks": ""
           },
           "radialaxis": {
            "gridcolor": "white",
            "linecolor": "white",
            "ticks": ""
           }
          },
          "ternary": {
           "bgcolor": "#E5ECF6",
           "aaxis": {
            "gridcolor": "white",
            "linecolor": "white",
            "ticks": ""
           },
           "baxis": {
            "gridcolor": "white",
            "linecolor": "white",
            "ticks": ""
           },
           "caxis": {
            "gridcolor": "white",
            "linecolor": "white",
            "ticks": ""
           }
          },
          "coloraxis": {
           "colorbar": {
            "outlinewidth": 0,
            "ticks": ""
           }
          },
          "colorscale": {
           "sequential": [
            [
             0.0,
             "#0d0887"
            ],
            [
             0.1111111111111111,
             "#46039f"
            ],
            [
             0.2222222222222222,
             "#7201a8"
            ],
            [
             0.3333333333333333,
             "#9c179e"
            ],
            [
             0.4444444444444444,
             "#bd3786"
            ],
            [
             0.5555555555555556,
             "#d8576b"
            ],
            [
             0.6666666666666666,
             "#ed7953"
            ],
            [
             0.7777777777777778,
             "#fb9f3a"
            ],
            [
             0.8888888888888888,
             "#fdca26"
            ],
            [
             1.0,
             "#f0f921"
            ]
           ],
           "sequentialminus": [
            [
             0.0,
             "#0d0887"
            ],
            [
             0.1111111111111111,
             "#46039f"
            ],
            [
             0.2222222222222222,
             "#7201a8"
            ],
            [
             0.3333333333333333,
             "#9c179e"
            ],
            [
             0.4444444444444444,
             "#bd3786"
            ],
            [
             0.5555555555555556,
             "#d8576b"
            ],
            [
             0.6666666666666666,
             "#ed7953"
            ],
            [
             0.7777777777777778,
             "#fb9f3a"
            ],
            [
             0.8888888888888888,
             "#fdca26"
            ],
            [
             1.0,
             "#f0f921"
            ]
           ],
           "diverging": [
            [
             0,
             "#8e0152"
            ],
            [
             0.1,
             "#c51b7d"
            ],
            [
             0.2,
             "#de77ae"
            ],
            [
             0.3,
             "#f1b6da"
            ],
            [
             0.4,
             "#fde0ef"
            ],
            [
             0.5,
             "#f7f7f7"
            ],
            [
             0.6,
             "#e6f5d0"
            ],
            [
             0.7,
             "#b8e186"
            ],
            [
             0.8,
             "#7fbc41"
            ],
            [
             0.9,
             "#4d9221"
            ],
            [
             1,
             "#276419"
            ]
           ]
          },
          "xaxis": {
           "gridcolor": "white",
           "linecolor": "white",
           "ticks": "",
           "title": {
            "standoff": 15
           },
           "zerolinecolor": "white",
           "automargin": true,
           "zerolinewidth": 2
          },
          "yaxis": {
           "gridcolor": "white",
           "linecolor": "white",
           "ticks": "",
           "title": {
            "standoff": 15
           },
           "zerolinecolor": "white",
           "automargin": true,
           "zerolinewidth": 2
          },
          "scene": {
           "xaxis": {
            "backgroundcolor": "#E5ECF6",
            "gridcolor": "white",
            "linecolor": "white",
            "showbackground": true,
            "ticks": "",
            "zerolinecolor": "white",
            "gridwidth": 2
           },
           "yaxis": {
            "backgroundcolor": "#E5ECF6",
            "gridcolor": "white",
            "linecolor": "white",
            "showbackground": true,
            "ticks": "",
            "zerolinecolor": "white",
            "gridwidth": 2
           },
           "zaxis": {
            "backgroundcolor": "#E5ECF6",
            "gridcolor": "white",
            "linecolor": "white",
            "showbackground": true,
            "ticks": "",
            "zerolinecolor": "white",
            "gridwidth": 2
           }
          },
          "shapedefaults": {
           "line": {
            "color": "#2a3f5f"
           }
          },
          "annotationdefaults": {
           "arrowcolor": "#2a3f5f",
           "arrowhead": 0,
           "arrowwidth": 1
          },
          "geo": {
           "bgcolor": "white",
           "landcolor": "#E5ECF6",
           "subunitcolor": "white",
           "showland": true,
           "showlakes": true,
           "lakecolor": "white"
          },
          "title": {
           "x": 0.05
          },
          "mapbox": {
           "style": "light"
          }
         }
        }
       },
       "config": {
        "plotlyServerURL": "https://plot.ly"
       }
      },
      "text/html": "<div>                            <div id=\"522eac8f-918e-4109-a45a-b5446ff1961f\" class=\"plotly-graph-div\" style=\"height:640px; width:640px;\"></div>            <script type=\"text/javascript\">                require([\"plotly\"], function(Plotly) {                    window.PLOTLYENV=window.PLOTLYENV || {};                                    if (document.getElementById(\"522eac8f-918e-4109-a45a-b5446ff1961f\")) {                    Plotly.newPlot(                        \"522eac8f-918e-4109-a45a-b5446ff1961f\",                        [{\"hole\":0.5,\"hoverinfo\":\"text+label+value\",\"labels\":[\"Test Product - B\",\"Test Product - A\",\"Test Product - C\",\"Test Product - D\"],\"showlegend\":false,\"textfont\":{\"size\":12},\"textinfo\":\"percent+label\",\"textposition\":\"inside\",\"values\":[13,13,12,12],\"type\":\"pie\"}],                        {\"colorway\":[\"rgb(133, 92, 117)\",\"rgb(217, 175, 107)\",\"rgb(175, 100, 88)\",\"rgb(115, 111, 76)\",\"rgb(82, 106, 131)\",\"rgb(98, 83, 119)\",\"rgb(104, 133, 92)\",\"rgb(156, 156, 94)\",\"rgb(160, 97, 119)\",\"rgb(140, 120, 93)\",\"rgb(124, 124, 124)\"],\"height\":640,\"paper_bgcolor\":\"#333333\",\"title\":{\"font\":{\"color\":\"white\",\"size\":24},\"text\":\"Learner Count by Team\"},\"width\":640,\"template\":{\"data\":{\"histogram2dcontour\":[{\"type\":\"histogram2dcontour\",\"colorbar\":{\"outlinewidth\":0,\"ticks\":\"\"},\"colorscale\":[[0.0,\"#0d0887\"],[0.1111111111111111,\"#46039f\"],[0.2222222222222222,\"#7201a8\"],[0.3333333333333333,\"#9c179e\"],[0.4444444444444444,\"#bd3786\"],[0.5555555555555556,\"#d8576b\"],[0.6666666666666666,\"#ed7953\"],[0.7777777777777778,\"#fb9f3a\"],[0.8888888888888888,\"#fdca26\"],[1.0,\"#f0f921\"]]}],\"choropleth\":[{\"type\":\"choropleth\",\"colorbar\":{\"outlinewidth\":0,\"ticks\":\"\"}}],\"histogram2d\":[{\"type\":\"histogram2d\",\"colorbar\":{\"outlinewidth\":0,\"ticks\":\"\"},\"colorscale\":[[0.0,\"#0d0887\"],[0.1111111111111111,\"#46039f\"],[0.2222222222222222,\"#7201a8\"],[0.3333333333333333,\"#9c179e\"],[0.4444444444444444,\"#bd3786\"],[0.5555555555555556,\"#d8576b\"],[0.6666666666666666,\"#ed7953\"],[0.7777777777777778,\"#fb9f3a\"],[0.8888888888888888,\"#fdca26\"],[1.0,\"#f0f921\"]]}],\"heatmap\":[{\"type\":\"heatmap\",\"colorbar\":{\"outlinewidth\":0,\"ticks\":\"\"},\"colorscale\":[[0.0,\"#0d0887\"],[0.1111111111111111,\"#46039f\"],[0.2222222222222222,\"#7201a8\"],[0.3333333333333333,\"#9c179e\"],[0.4444444444444444,\"#bd3786\"],[0.5555555555555556,\"#d8576b\"],[0.6666666666666666,\"#ed7953\"],[0.7777777777777778,\"#fb9f3a\"],[0.8888888888888888,\"#fdca26\"],[1.0,\"#f0f921\"]]}],\"heatmapgl\":[{\"type\":\"heatmapgl\",\"colorbar\":{\"outlinewidth\":0,\"ticks\":\"\"},\"colorscale\":[[0.0,\"#0d0887\"],[0.1111111111111111,\"#46039f\"],[0.2222222222222222,\"#7201a8\"],[0.3333333333333333,\"#9c179e\"],[0.4444444444444444,\"#bd3786\"],[0.5555555555555556,\"#d8576b\"],[0.6666666666666666,\"#ed7953\"],[0.7777777777777778,\"#fb9f3a\"],[0.8888888888888888,\"#fdca26\"],[1.0,\"#f0f921\"]]}],\"contourcarpet\":[{\"type\":\"contourcarpet\",\"colorbar\":{\"outlinewidth\":0,\"ticks\":\"\"}}],\"contour\":[{\"type\":\"contour\",\"colorbar\":{\"outlinewidth\":0,\"ticks\":\"\"},\"colorscale\":[[0.0,\"#0d0887\"],[0.1111111111111111,\"#46039f\"],[0.2222222222222222,\"#7201a8\"],[0.3333333333333333,\"#9c179e\"],[0.4444444444444444,\"#bd3786\"],[0.5555555555555556,\"#d8576b\"],[0.6666666666666666,\"#ed7953\"],[0.7777777777777778,\"#fb9f3a\"],[0.8888888888888888,\"#fdca26\"],[1.0,\"#f0f921\"]]}],\"surface\":[{\"type\":\"surface\",\"colorbar\":{\"outlinewidth\":0,\"ticks\":\"\"},\"colorscale\":[[0.0,\"#0d0887\"],[0.1111111111111111,\"#46039f\"],[0.2222222222222222,\"#7201a8\"],[0.3333333333333333,\"#9c179e\"],[0.4444444444444444,\"#bd3786\"],[0.5555555555555556,\"#d8576b\"],[0.6666666666666666,\"#ed7953\"],[0.7777777777777778,\"#fb9f3a\"],[0.8888888888888888,\"#fdca26\"],[1.0,\"#f0f921\"]]}],\"mesh3d\":[{\"type\":\"mesh3d\",\"colorbar\":{\"outlinewidth\":0,\"ticks\":\"\"}}],\"scatter\":[{\"fillpattern\":{\"fillmode\":\"overlay\",\"size\":10,\"solidity\":0.2},\"type\":\"scatter\"}],\"parcoords\":[{\"type\":\"parcoords\",\"line\":{\"colorbar\":{\"outlinewidth\":0,\"ticks\":\"\"}}}],\"scatterpolargl\":[{\"type\":\"scatterpolargl\",\"marker\":{\"colorbar\":{\"outlinewidth\":0,\"ticks\":\"\"}}}],\"bar\":[{\"error_x\":{\"color\":\"#2a3f5f\"},\"error_y\":{\"color\":\"#2a3f5f\"},\"marker\":{\"line\":{\"color\":\"#E5ECF6\",\"width\":0.5},\"pattern\":{\"fillmode\":\"overlay\",\"size\":10,\"solidity\":0.2}},\"type\":\"bar\"}],\"scattergeo\":[{\"type\":\"scattergeo\",\"marker\":{\"colorbar\":{\"outlinewidth\":0,\"ticks\":\"\"}}}],\"scatterpolar\":[{\"type\":\"scatterpolar\",\"marker\":{\"colorbar\":{\"outlinewidth\":0,\"ticks\":\"\"}}}],\"histogram\":[{\"marker\":{\"pattern\":{\"fillmode\":\"overlay\",\"size\":10,\"solidity\":0.2}},\"type\":\"histogram\"}],\"scattergl\":[{\"type\":\"scattergl\",\"marker\":{\"colorbar\":{\"outlinewidth\":0,\"ticks\":\"\"}}}],\"scatter3d\":[{\"type\":\"scatter3d\",\"line\":{\"colorbar\":{\"outlinewidth\":0,\"ticks\":\"\"}},\"marker\":{\"colorbar\":{\"outlinewidth\":0,\"ticks\":\"\"}}}],\"scattermapbox\":[{\"type\":\"scattermapbox\",\"marker\":{\"colorbar\":{\"outlinewidth\":0,\"ticks\":\"\"}}}],\"scatterternary\":[{\"type\":\"scatterternary\",\"marker\":{\"colorbar\":{\"outlinewidth\":0,\"ticks\":\"\"}}}],\"scattercarpet\":[{\"type\":\"scattercarpet\",\"marker\":{\"colorbar\":{\"outlinewidth\":0,\"ticks\":\"\"}}}],\"carpet\":[{\"aaxis\":{\"endlinecolor\":\"#2a3f5f\",\"gridcolor\":\"white\",\"linecolor\":\"white\",\"minorgridcolor\":\"white\",\"startlinecolor\":\"#2a3f5f\"},\"baxis\":{\"endlinecolor\":\"#2a3f5f\",\"gridcolor\":\"white\",\"linecolor\":\"white\",\"minorgridcolor\":\"white\",\"startlinecolor\":\"#2a3f5f\"},\"type\":\"carpet\"}],\"table\":[{\"cells\":{\"fill\":{\"color\":\"#EBF0F8\"},\"line\":{\"color\":\"white\"}},\"header\":{\"fill\":{\"color\":\"#C8D4E3\"},\"line\":{\"color\":\"white\"}},\"type\":\"table\"}],\"barpolar\":[{\"marker\":{\"line\":{\"color\":\"#E5ECF6\",\"width\":0.5},\"pattern\":{\"fillmode\":\"overlay\",\"size\":10,\"solidity\":0.2}},\"type\":\"barpolar\"}],\"pie\":[{\"automargin\":true,\"type\":\"pie\"}]},\"layout\":{\"autotypenumbers\":\"strict\",\"colorway\":[\"#636efa\",\"#EF553B\",\"#00cc96\",\"#ab63fa\",\"#FFA15A\",\"#19d3f3\",\"#FF6692\",\"#B6E880\",\"#FF97FF\",\"#FECB52\"],\"font\":{\"color\":\"#2a3f5f\"},\"hovermode\":\"closest\",\"hoverlabel\":{\"align\":\"left\"},\"paper_bgcolor\":\"white\",\"plot_bgcolor\":\"#E5ECF6\",\"polar\":{\"bgcolor\":\"#E5ECF6\",\"angularaxis\":{\"gridcolor\":\"white\",\"linecolor\":\"white\",\"ticks\":\"\"},\"radialaxis\":{\"gridcolor\":\"white\",\"linecolor\":\"white\",\"ticks\":\"\"}},\"ternary\":{\"bgcolor\":\"#E5ECF6\",\"aaxis\":{\"gridcolor\":\"white\",\"linecolor\":\"white\",\"ticks\":\"\"},\"baxis\":{\"gridcolor\":\"white\",\"linecolor\":\"white\",\"ticks\":\"\"},\"caxis\":{\"gridcolor\":\"white\",\"linecolor\":\"white\",\"ticks\":\"\"}},\"coloraxis\":{\"colorbar\":{\"outlinewidth\":0,\"ticks\":\"\"}},\"colorscale\":{\"sequential\":[[0.0,\"#0d0887\"],[0.1111111111111111,\"#46039f\"],[0.2222222222222222,\"#7201a8\"],[0.3333333333333333,\"#9c179e\"],[0.4444444444444444,\"#bd3786\"],[0.5555555555555556,\"#d8576b\"],[0.6666666666666666,\"#ed7953\"],[0.7777777777777778,\"#fb9f3a\"],[0.8888888888888888,\"#fdca26\"],[1.0,\"#f0f921\"]],\"sequentialminus\":[[0.0,\"#0d0887\"],[0.1111111111111111,\"#46039f\"],[0.2222222222222222,\"#7201a8\"],[0.3333333333333333,\"#9c179e\"],[0.4444444444444444,\"#bd3786\"],[0.5555555555555556,\"#d8576b\"],[0.6666666666666666,\"#ed7953\"],[0.7777777777777778,\"#fb9f3a\"],[0.8888888888888888,\"#fdca26\"],[1.0,\"#f0f921\"]],\"diverging\":[[0,\"#8e0152\"],[0.1,\"#c51b7d\"],[0.2,\"#de77ae\"],[0.3,\"#f1b6da\"],[0.4,\"#fde0ef\"],[0.5,\"#f7f7f7\"],[0.6,\"#e6f5d0\"],[0.7,\"#b8e186\"],[0.8,\"#7fbc41\"],[0.9,\"#4d9221\"],[1,\"#276419\"]]},\"xaxis\":{\"gridcolor\":\"white\",\"linecolor\":\"white\",\"ticks\":\"\",\"title\":{\"standoff\":15},\"zerolinecolor\":\"white\",\"automargin\":true,\"zerolinewidth\":2},\"yaxis\":{\"gridcolor\":\"white\",\"linecolor\":\"white\",\"ticks\":\"\",\"title\":{\"standoff\":15},\"zerolinecolor\":\"white\",\"automargin\":true,\"zerolinewidth\":2},\"scene\":{\"xaxis\":{\"backgroundcolor\":\"#E5ECF6\",\"gridcolor\":\"white\",\"linecolor\":\"white\",\"showbackground\":true,\"ticks\":\"\",\"zerolinecolor\":\"white\",\"gridwidth\":2},\"yaxis\":{\"backgroundcolor\":\"#E5ECF6\",\"gridcolor\":\"white\",\"linecolor\":\"white\",\"showbackground\":true,\"ticks\":\"\",\"zerolinecolor\":\"white\",\"gridwidth\":2},\"zaxis\":{\"backgroundcolor\":\"#E5ECF6\",\"gridcolor\":\"white\",\"linecolor\":\"white\",\"showbackground\":true,\"ticks\":\"\",\"zerolinecolor\":\"white\",\"gridwidth\":2}},\"shapedefaults\":{\"line\":{\"color\":\"#2a3f5f\"}},\"annotationdefaults\":{\"arrowcolor\":\"#2a3f5f\",\"arrowhead\":0,\"arrowwidth\":1},\"geo\":{\"bgcolor\":\"white\",\"landcolor\":\"#E5ECF6\",\"subunitcolor\":\"white\",\"showland\":true,\"showlakes\":true,\"lakecolor\":\"white\"},\"title\":{\"x\":0.05},\"mapbox\":{\"style\":\"light\"}}}},                        {\"responsive\": true}                    ).then(function(){\n                            \nvar gd = document.getElementById('522eac8f-918e-4109-a45a-b5446ff1961f');\nvar x = new MutationObserver(function (mutations, observer) {{\n        var display = window.getComputedStyle(gd).display;\n        if (!display || display === 'none') {{\n            console.log([gd, 'removed!']);\n            Plotly.purge(gd);\n            observer.disconnect();\n        }}\n}});\n\n// Listen for the removal of the full notebook cells\nvar notebookContainer = gd.closest('#notebook-container');\nif (notebookContainer) {{\n    x.observe(notebookContainer, {childList: true});\n}}\n\n// Listen for the clearing of the current output cell\nvar outputEl = gd.closest('.output');\nif (outputEl) {{\n    x.observe(outputEl, {childList: true});\n}}\n\n                        })                };                });            </script>        </div>"
     },
     "metadata": {},
     "output_type": "display_data"
    }
   ],
   "source": [
    "df_type = DataFrame(learners)\n",
    "type_value_counts = df_type[\"labsProject\"].value_counts()\n",
    "data = go.Pie(\n",
    "    labels=type_value_counts.index,\n",
    "    values=type_value_counts.values,\n",
    "    hole=0.5,\n",
    "    textinfo=\"percent+label\",\n",
    "    textfont={\"size\": 12},\n",
    "    hoverinfo=\"text+label+value\",\n",
    "    textposition='inside',\n",
    "    showlegend=False,\n",
    ")\n",
    "layout = go.Layout(\n",
    "    title={\n",
    "        \"text\": \"Learner Count by Team\",\n",
    "        \"font\": {\"color\": \"white\", \"size\": 24},\n",
    "    },\n",
    "    colorway=px.colors.qualitative.Antique,\n",
    "    width=640,\n",
    "    height=640,\n",
    "    paper_bgcolor=\"#333333\",\n",
    ")\n",
    "figure = go.Figure(data, layout)\n",
    "figure.show()"
   ],
   "metadata": {
    "collapsed": false,
    "pycharm": {
     "name": "#%%\n"
    }
   }
  },
  {
   "cell_type": "code",
   "execution_count": 74,
   "outputs": [
    {
     "data": {
      "text/plain": "                 id       product teamCode     tracks  releaseManager  \\\n0  Test Product - A  Test Product        A      [Web]     Luna Wright   \n1  Test Product - B  Test Product        B  [Web, DS]  Scarlett Perez   \n2  Test Product - C  Test Product        C  [Web, DS]    Layla Nguyen   \n3  Test Product - D  Test Product        D  [Web, DS]   Ava Hernandez   \n\n                                    teamMemberSmtIds  \n0  [001, 002, 003, 004, 005, Ph5n6232gj70fwv6, Ef...  \n1  [11w0u7Y2g6C8O2oQ, wQ252zO1Jvi237Y3, 46Fp2zx26...  \n2  [0Ns1fLY8q0306Mv8, ab46QL251UOI321v, k108h83Tj...  \n3  [YDFH4g880iK58l35, 1gncs161DUC3U618, s0kd850fI...  ",
      "text/html": "<div>\n<style scoped>\n    .dataframe tbody tr th:only-of-type {\n        vertical-align: middle;\n    }\n\n    .dataframe tbody tr th {\n        vertical-align: top;\n    }\n\n    .dataframe thead th {\n        text-align: right;\n    }\n</style>\n<table border=\"1\" class=\"dataframe\">\n  <thead>\n    <tr style=\"text-align: right;\">\n      <th></th>\n      <th>id</th>\n      <th>product</th>\n      <th>teamCode</th>\n      <th>tracks</th>\n      <th>releaseManager</th>\n      <th>teamMemberSmtIds</th>\n    </tr>\n  </thead>\n  <tbody>\n    <tr>\n      <th>0</th>\n      <td>Test Product - A</td>\n      <td>Test Product</td>\n      <td>A</td>\n      <td>[Web]</td>\n      <td>Luna Wright</td>\n      <td>[001, 002, 003, 004, 005, Ph5n6232gj70fwv6, Ef...</td>\n    </tr>\n    <tr>\n      <th>1</th>\n      <td>Test Product - B</td>\n      <td>Test Product</td>\n      <td>B</td>\n      <td>[Web, DS]</td>\n      <td>Scarlett Perez</td>\n      <td>[11w0u7Y2g6C8O2oQ, wQ252zO1Jvi237Y3, 46Fp2zx26...</td>\n    </tr>\n    <tr>\n      <th>2</th>\n      <td>Test Product - C</td>\n      <td>Test Product</td>\n      <td>C</td>\n      <td>[Web, DS]</td>\n      <td>Layla Nguyen</td>\n      <td>[0Ns1fLY8q0306Mv8, ab46QL251UOI321v, k108h83Tj...</td>\n    </tr>\n    <tr>\n      <th>3</th>\n      <td>Test Product - D</td>\n      <td>Test Product</td>\n      <td>D</td>\n      <td>[Web, DS]</td>\n      <td>Ava Hernandez</td>\n      <td>[YDFH4g880iK58l35, 1gncs161DUC3U618, s0kd850fI...</td>\n    </tr>\n  </tbody>\n</table>\n</div>"
     },
     "execution_count": 74,
     "metadata": {},
     "output_type": "execute_result"
    }
   ],
   "source": [
    "projects_df = DataFrame(projects)\n",
    "projects_df"
   ],
   "metadata": {
    "collapsed": false,
    "pycharm": {
     "name": "#%%\n"
    }
   }
  },
  {
   "cell_type": "code",
   "execution_count": 75,
   "outputs": [
    {
     "data": {
      "text/plain": "            lambdaId                name track       labsProject  \\\n0   46Fp2zx261V4lhk7  Sebastian Thompson   Web  Test Product - B   \n1   k108h83TjdAD1X42   Benjamin Gonzales    DS  Test Product - C   \n2   s0kd850fI4JQb764         Avery Moore   Web  Test Product - D   \n3   6r1c04QN8W7Opm40       Daniel Carter    DS  Test Product - B   \n4   za3Up486354exuK3     Elizabeth Jones    DS  Test Product - C   \n5   zt5y4E3X70fzu523       Aria Thompson    DS  Test Product - D   \n6   7b6d45XK4iwK345h    Eleanor Williams   Web  Test Product - B   \n7   RdS31lZkB326304M        David Wright    DS  Test Product - C   \n8   236FqoUD6o644em8      Ethan Anderson   Web  Test Product - D   \n9   bo21a0Wp1A0y1g63      Aria Hernandez   Web  Test Product - B   \n10  YDFH4g880iK58l35     Madison Johnson    DS  Test Product - D   \n11  7rLc448z5o87Q7lm        Chloe Torres    DS  Test Product - C   \n12  CO2681aoA80P62vf     Daniel Campbell    DS  Test Product - D   \n13  0Ns1fLY8q0306Mv8     Mila Richardson    DS  Test Product - C   \n14  872i2x8R3e0h7VSJ       Eleanor Allen    DS  Test Product - B   \n15  ug5S0523KF3WRU61        Avery Miller   Web  Test Product - C   \n16  3EIAdy485t825AK6     Theodore Wilson   Web  Test Product - D   \n17  J453cHEj87d72T6J      Lucas Anderson   Web  Test Product - A   \n18  wQ252zO1Jvi237Y3       Evelyn Rivera   Web  Test Product - B   \n19  q2G72d144Q48RSBh        Olivia Adams   Web  Test Product - B   \n20  66E2gbJNCH6185N8        Oliver Davis   Web  Test Product - C   \n21  25213kG1K4ueYwe4        Joseph Perez   Web  Test Product - D   \n22  11w0u7Y2g6C8O2oQ       Evelyn Garcia    DS  Test Product - B   \n23  77AnPE54E7k37y4i    Mason Richardson   Web  Test Product - A   \n24  Zf03YXw781771Nep    Jackson Gonzales   Web  Test Product - B   \n25  zGJ762o3Mt81S0E8      Lucas Williams   Web  Test Product - C   \n26  14m4FpA20Aoo75Z2        Layla Wilson   Web  Test Product - D   \n27  D0iv1WP00Y8O6y13         Jack Watson   Web  Test Product - A   \n28  6b4hxa8523e8Plk0      John Hernandez    DS  Test Product - B   \n29  1gncs161DUC3U618           Ella Hall   Web  Test Product - D   \n30  L27kK6hHg5n06B80          Liam Perez   Web  Test Product - C   \n31  56IcbZ46Ae2i50Y3         Wyatt Jones   Web  Test Product - D   \n32  Zi7b5BL6210fkj83         Mason Adams   Web  Test Product - A   \n33  Q217sQJL5fq763j5      David Williams   Web  Test Product - B   \n34  M4g28cr14d747YCX          Levi Perez    DS  Test Product - C   \n35  ab46QL251UOI321v      Michael Brooks   Web  Test Product - C   \n36  765LkSv4yE31X5W1        Avery Harris    DS  Test Product - D   \n37  3W23Wsn151Oi6rt0         Chloe James   Web  Test Product - A   \n38  k86326PDIOl6o1x5         Lucas Clark    DS  Test Product - B   \n39  h8Za1H3G1P3pZ068     Penelope Brooks    DS  Test Product - C   \n40  Ef67o7H0S5b7RZ46      Emily Thompson   Web  Test Product - A   \n41  Ph5n6232gj70fwv6     Alexander Allen   Web  Test Product - A   \n42  8uMw6UQ260dg687z           Mia Moore   Web  Test Product - D   \n43  7j0F1383M0PFoD6f        James Thomas   Web  Test Product - A   \n44  511j48cuQwn48TK2        Camila Lopez   Web  Test Product - B   \n45               001   Charlotte Johnson   Web  Test Product - A   \n46               002           Mia Smith   Web  Test Product - A   \n47               003   Sebastian Sanchez   Web  Test Product - A   \n48               004      Isabella Lopez   Web  Test Product - A   \n49               005      Oliver Jackson   Web  Test Product - A   \n\n    gitExpertise  dockerExpertise  playByEar  detailOriented  \\\n0              2                4          1               1   \n1              4                3          1               1   \n2              1                2          1               2   \n3              1                4          2               4   \n4              2                2          3               5   \n5              1                5          3               5   \n6              4                2          3               2   \n7              1                3          1               3   \n8              2                4          5               1   \n9              3                3          2               2   \n10             2                4          2               4   \n11             4                4          5               1   \n12             5                1          2               1   \n13             2                1          2               1   \n14             1                1          2               2   \n15             4                4          2               2   \n16             1                2          2               1   \n17             1                3          4               3   \n18             1                3          3               2   \n19             2                2          2               3   \n20             5                2          2               5   \n21             4                4          2               2   \n22             1                4          5               2   \n23             5                1          4               5   \n24             2                1          4               5   \n25             4                4          2               4   \n26             4                2          2               4   \n27             3                2          2               1   \n28             1                5          1               4   \n29             3                1          1               1   \n30             1                3          3               3   \n31             1                2          5               1   \n32             3                5          1               5   \n33             4                3          4               3   \n34             3                3          2               2   \n35             4                1          5               5   \n36             3                5          3               2   \n37             1                4          4               3   \n38             2                5          4               1   \n39             2                5          4               3   \n40             5                3          1               2   \n41             3                3          1               3   \n42             4                4          3               4   \n43             5                2          5               1   \n44             2                1          2               4   \n45             4                5          5               2   \n46             5                4          2               3   \n47             5                2          5               3   \n48             4                2          4               3   \n49             1                4          2               1   \n\n    speakUpInDiscussions soloOrSocial  ... mlOpsInterest2 mlOpsInterest3  \\\n0                      2            A  ...              0              0   \n1                      5            A  ...              3              4   \n2                      2            A  ...              0              0   \n3                      1            A  ...              3              1   \n4                      1            A  ...              3              3   \n5                      3            A  ...              4              1   \n6                      4            A  ...              0              0   \n7                      5            A  ...              2              3   \n8                      3            B  ...              0              0   \n9                      4            B  ...              0              0   \n10                     4            A  ...              3              4   \n11                     1            A  ...              1              2   \n12                     4            B  ...              3              3   \n13                     2            B  ...              3              3   \n14                     1            B  ...              2              4   \n15                     3            A  ...              0              0   \n16                     3            B  ...              0              0   \n17                     1            A  ...              0              0   \n18                     1            B  ...              0              0   \n19                     4            B  ...              0              0   \n20                     2            A  ...              0              0   \n21                     2            A  ...              0              0   \n22                     5            B  ...              2              1   \n23                     1            B  ...              0              0   \n24                     1            B  ...              0              0   \n25                     3            A  ...              0              0   \n26                     3            B  ...              0              0   \n27                     5            B  ...              0              0   \n28                     5            B  ...              3              2   \n29                     5            A  ...              0              0   \n30                     2            A  ...              0              0   \n31                     1            B  ...              0              0   \n32                     3            B  ...              0              0   \n33                     4            B  ...              0              0   \n34                     3            A  ...              1              2   \n35                     5            B  ...              0              0   \n36                     5            B  ...              3              3   \n37                     3            A  ...              0              0   \n38                     4            A  ...              3              2   \n39                     2            B  ...              1              4   \n40                     5            B  ...              0              0   \n41                     5            B  ...              0              0   \n42                     3            A  ...              0              0   \n43                     1            B  ...              0              0   \n44                     4            A  ...              0              0   \n45                     4            A  ...              0              0   \n46                     5            A  ...              0              0   \n47                     5            A  ...              0              0   \n48                     1            B  ...              0              0   \n49                     5            A  ...              0              0   \n\n   tpmSkillRank tpmInterestRank uxInterestRank frontendInterestRank  \\\n0      0.000000          0.3125          0.500                0.625   \n1      0.666667          0.6250          0.000                0.000   \n2      0.666667          0.6875          0.250                0.875   \n3      0.000000          0.6250          0.000                0.000   \n4      0.333333          0.6250          0.000                0.000   \n5      0.333333          0.6875          0.000                0.000   \n6      0.666667          0.5000          0.750                0.750   \n7      0.000000          0.6250          0.000                0.000   \n8      0.000000          0.6875          0.500                0.625   \n9      0.333333          0.6875          1.000                0.625   \n10     0.666667          0.7500          0.000                0.000   \n11     0.000000          0.6875          0.000                0.000   \n12     0.666667          0.5625          0.000                0.000   \n13     0.000000          0.8125          0.000                0.000   \n14     0.000000          0.5000          0.000                0.000   \n15     0.000000          0.3750          0.625                0.750   \n16     0.000000          0.6250          0.625                0.750   \n17     0.333333          0.4375          0.250                0.375   \n18     0.333333          0.8125          0.375                0.500   \n19     0.333333          0.5625          0.750                0.500   \n20     0.333333          0.7500          1.000                1.000   \n21     1.000000          0.4375          0.875                0.500   \n22     0.666667          0.8125          0.000                0.000   \n23     0.333333          0.4375          0.750                0.750   \n24     0.000000          0.5625          0.750                1.000   \n25     0.000000          0.6250          0.625                0.625   \n26     0.666667          0.7500          0.250                0.625   \n27     0.000000          0.5000          0.750                0.500   \n28     0.333333          0.5000          0.000                0.000   \n29     0.666667          0.7500          1.000                0.875   \n30     0.000000          0.5000          0.625                0.625   \n31     0.333333          0.5000          0.875                0.750   \n32     0.333333          0.5625          0.625                0.500   \n33     0.000000          0.4375          0.500                0.500   \n34     0.333333          0.5000          0.000                0.000   \n35     1.000000          0.7500          0.375                0.375   \n36     0.666667          0.6875          0.000                0.000   \n37     0.333333          0.5000          0.375                0.625   \n38     0.000000          0.5625          0.000                0.000   \n39     0.000000          0.6250          0.000                0.000   \n40     0.666667          0.8125          0.375                0.750   \n41     0.333333          0.9375          0.625                0.375   \n42     0.333333          0.6875          0.875                0.625   \n43     0.333333          0.4375          0.500                0.250   \n44     0.333333          0.4375          0.750                0.500   \n45     0.666667          0.8750          0.500                0.250   \n46     0.666667          0.6250          0.875                0.375   \n47     0.666667          0.6875          0.625                0.750   \n48     0.333333          0.6250          0.750                0.750   \n49     0.333333          0.7500          0.750                0.750   \n\n    backendInterestRank  dataEngInterestRank  mlEngInterestRank  \\\n0                 0.625             0.000000           0.000000   \n1                 0.000             0.666667           0.666667   \n2                 0.625             0.000000           0.000000   \n3                 0.000             0.750000           0.416667   \n4                 0.000             0.833333           0.750000   \n5                 0.000             0.500000           0.500000   \n6                 0.625             0.000000           0.000000   \n7                 0.000             0.500000           0.666667   \n8                 0.625             0.000000           0.000000   \n9                 0.625             0.000000           0.000000   \n10                0.000             0.583333           0.750000   \n11                0.000             0.416667           0.833333   \n12                0.000             0.666667           0.583333   \n13                0.000             0.583333           0.416667   \n14                0.000             0.666667           0.833333   \n15                0.750             0.000000           0.000000   \n16                1.000             0.000000           0.000000   \n17                0.250             0.000000           0.000000   \n18                0.750             0.000000           0.000000   \n19                0.375             0.000000           0.000000   \n20                0.500             0.000000           0.000000   \n21                1.000             0.000000           0.000000   \n22                0.000             0.250000           0.500000   \n23                0.625             0.000000           0.000000   \n24                0.625             0.000000           0.000000   \n25                0.375             0.000000           0.000000   \n26                0.375             0.000000           0.000000   \n27                0.500             0.000000           0.000000   \n28                0.000             0.833333           0.583333   \n29                0.750             0.000000           0.000000   \n30                0.625             0.000000           0.000000   \n31                0.750             0.000000           0.000000   \n32                0.750             0.000000           0.000000   \n33                0.625             0.000000           0.000000   \n34                0.000             0.833333           0.833333   \n35                0.750             0.000000           0.000000   \n36                0.000             0.416667           0.500000   \n37                0.500             0.000000           0.000000   \n38                0.000             0.833333           0.583333   \n39                0.000             0.750000           0.583333   \n40                1.000             0.000000           0.000000   \n41                1.000             0.000000           0.000000   \n42                0.750             0.000000           0.000000   \n43                0.375             0.000000           0.000000   \n44                0.750             0.000000           0.000000   \n45                0.750             0.000000           0.000000   \n46                0.250             0.000000           0.000000   \n47                0.625             0.000000           0.000000   \n48                0.750             0.000000           0.000000   \n49                0.375             0.000000           0.000000   \n\n    mlOpsInterestRank  \n0            0.000000  \n1            0.833333  \n2            0.000000  \n3            0.583333  \n4            0.833333  \n5            0.583333  \n6            0.000000  \n7            0.500000  \n8            0.000000  \n9            0.000000  \n10           0.833333  \n11           0.500000  \n12           0.666667  \n13           0.750000  \n14           0.583333  \n15           0.000000  \n16           0.000000  \n17           0.000000  \n18           0.000000  \n19           0.000000  \n20           0.000000  \n21           0.000000  \n22           0.500000  \n23           0.000000  \n24           0.000000  \n25           0.000000  \n26           0.000000  \n27           0.000000  \n28           0.750000  \n29           0.000000  \n30           0.000000  \n31           0.000000  \n32           0.000000  \n33           0.000000  \n34           0.583333  \n35           0.000000  \n36           0.583333  \n37           0.000000  \n38           0.583333  \n39           0.750000  \n40           0.000000  \n41           0.000000  \n42           0.000000  \n43           0.000000  \n44           0.000000  \n45           0.000000  \n46           0.000000  \n47           0.000000  \n48           0.000000  \n49           0.000000  \n\n[50 rows x 43 columns]",
      "text/html": "<div>\n<style scoped>\n    .dataframe tbody tr th:only-of-type {\n        vertical-align: middle;\n    }\n\n    .dataframe tbody tr th {\n        vertical-align: top;\n    }\n\n    .dataframe thead th {\n        text-align: right;\n    }\n</style>\n<table border=\"1\" class=\"dataframe\">\n  <thead>\n    <tr style=\"text-align: right;\">\n      <th></th>\n      <th>lambdaId</th>\n      <th>name</th>\n      <th>track</th>\n      <th>labsProject</th>\n      <th>gitExpertise</th>\n      <th>dockerExpertise</th>\n      <th>playByEar</th>\n      <th>detailOriented</th>\n      <th>speakUpInDiscussions</th>\n      <th>soloOrSocial</th>\n      <th>...</th>\n      <th>mlOpsInterest2</th>\n      <th>mlOpsInterest3</th>\n      <th>tpmSkillRank</th>\n      <th>tpmInterestRank</th>\n      <th>uxInterestRank</th>\n      <th>frontendInterestRank</th>\n      <th>backendInterestRank</th>\n      <th>dataEngInterestRank</th>\n      <th>mlEngInterestRank</th>\n      <th>mlOpsInterestRank</th>\n    </tr>\n  </thead>\n  <tbody>\n    <tr>\n      <th>0</th>\n      <td>46Fp2zx261V4lhk7</td>\n      <td>Sebastian Thompson</td>\n      <td>Web</td>\n      <td>Test Product - B</td>\n      <td>2</td>\n      <td>4</td>\n      <td>1</td>\n      <td>1</td>\n      <td>2</td>\n      <td>A</td>\n      <td>...</td>\n      <td>0</td>\n      <td>0</td>\n      <td>0.000000</td>\n      <td>0.3125</td>\n      <td>0.500</td>\n      <td>0.625</td>\n      <td>0.625</td>\n      <td>0.000000</td>\n      <td>0.000000</td>\n      <td>0.000000</td>\n    </tr>\n    <tr>\n      <th>1</th>\n      <td>k108h83TjdAD1X42</td>\n      <td>Benjamin Gonzales</td>\n      <td>DS</td>\n      <td>Test Product - C</td>\n      <td>4</td>\n      <td>3</td>\n      <td>1</td>\n      <td>1</td>\n      <td>5</td>\n      <td>A</td>\n      <td>...</td>\n      <td>3</td>\n      <td>4</td>\n      <td>0.666667</td>\n      <td>0.6250</td>\n      <td>0.000</td>\n      <td>0.000</td>\n      <td>0.000</td>\n      <td>0.666667</td>\n      <td>0.666667</td>\n      <td>0.833333</td>\n    </tr>\n    <tr>\n      <th>2</th>\n      <td>s0kd850fI4JQb764</td>\n      <td>Avery Moore</td>\n      <td>Web</td>\n      <td>Test Product - D</td>\n      <td>1</td>\n      <td>2</td>\n      <td>1</td>\n      <td>2</td>\n      <td>2</td>\n      <td>A</td>\n      <td>...</td>\n      <td>0</td>\n      <td>0</td>\n      <td>0.666667</td>\n      <td>0.6875</td>\n      <td>0.250</td>\n      <td>0.875</td>\n      <td>0.625</td>\n      <td>0.000000</td>\n      <td>0.000000</td>\n      <td>0.000000</td>\n    </tr>\n    <tr>\n      <th>3</th>\n      <td>6r1c04QN8W7Opm40</td>\n      <td>Daniel Carter</td>\n      <td>DS</td>\n      <td>Test Product - B</td>\n      <td>1</td>\n      <td>4</td>\n      <td>2</td>\n      <td>4</td>\n      <td>1</td>\n      <td>A</td>\n      <td>...</td>\n      <td>3</td>\n      <td>1</td>\n      <td>0.000000</td>\n      <td>0.6250</td>\n      <td>0.000</td>\n      <td>0.000</td>\n      <td>0.000</td>\n      <td>0.750000</td>\n      <td>0.416667</td>\n      <td>0.583333</td>\n    </tr>\n    <tr>\n      <th>4</th>\n      <td>za3Up486354exuK3</td>\n      <td>Elizabeth Jones</td>\n      <td>DS</td>\n      <td>Test Product - C</td>\n      <td>2</td>\n      <td>2</td>\n      <td>3</td>\n      <td>5</td>\n      <td>1</td>\n      <td>A</td>\n      <td>...</td>\n      <td>3</td>\n      <td>3</td>\n      <td>0.333333</td>\n      <td>0.6250</td>\n      <td>0.000</td>\n      <td>0.000</td>\n      <td>0.000</td>\n      <td>0.833333</td>\n      <td>0.750000</td>\n      <td>0.833333</td>\n    </tr>\n    <tr>\n      <th>5</th>\n      <td>zt5y4E3X70fzu523</td>\n      <td>Aria Thompson</td>\n      <td>DS</td>\n      <td>Test Product - D</td>\n      <td>1</td>\n      <td>5</td>\n      <td>3</td>\n      <td>5</td>\n      <td>3</td>\n      <td>A</td>\n      <td>...</td>\n      <td>4</td>\n      <td>1</td>\n      <td>0.333333</td>\n      <td>0.6875</td>\n      <td>0.000</td>\n      <td>0.000</td>\n      <td>0.000</td>\n      <td>0.500000</td>\n      <td>0.500000</td>\n      <td>0.583333</td>\n    </tr>\n    <tr>\n      <th>6</th>\n      <td>7b6d45XK4iwK345h</td>\n      <td>Eleanor Williams</td>\n      <td>Web</td>\n      <td>Test Product - B</td>\n      <td>4</td>\n      <td>2</td>\n      <td>3</td>\n      <td>2</td>\n      <td>4</td>\n      <td>A</td>\n      <td>...</td>\n      <td>0</td>\n      <td>0</td>\n      <td>0.666667</td>\n      <td>0.5000</td>\n      <td>0.750</td>\n      <td>0.750</td>\n      <td>0.625</td>\n      <td>0.000000</td>\n      <td>0.000000</td>\n      <td>0.000000</td>\n    </tr>\n    <tr>\n      <th>7</th>\n      <td>RdS31lZkB326304M</td>\n      <td>David Wright</td>\n      <td>DS</td>\n      <td>Test Product - C</td>\n      <td>1</td>\n      <td>3</td>\n      <td>1</td>\n      <td>3</td>\n      <td>5</td>\n      <td>A</td>\n      <td>...</td>\n      <td>2</td>\n      <td>3</td>\n      <td>0.000000</td>\n      <td>0.6250</td>\n      <td>0.000</td>\n      <td>0.000</td>\n      <td>0.000</td>\n      <td>0.500000</td>\n      <td>0.666667</td>\n      <td>0.500000</td>\n    </tr>\n    <tr>\n      <th>8</th>\n      <td>236FqoUD6o644em8</td>\n      <td>Ethan Anderson</td>\n      <td>Web</td>\n      <td>Test Product - D</td>\n      <td>2</td>\n      <td>4</td>\n      <td>5</td>\n      <td>1</td>\n      <td>3</td>\n      <td>B</td>\n      <td>...</td>\n      <td>0</td>\n      <td>0</td>\n      <td>0.000000</td>\n      <td>0.6875</td>\n      <td>0.500</td>\n      <td>0.625</td>\n      <td>0.625</td>\n      <td>0.000000</td>\n      <td>0.000000</td>\n      <td>0.000000</td>\n    </tr>\n    <tr>\n      <th>9</th>\n      <td>bo21a0Wp1A0y1g63</td>\n      <td>Aria Hernandez</td>\n      <td>Web</td>\n      <td>Test Product - B</td>\n      <td>3</td>\n      <td>3</td>\n      <td>2</td>\n      <td>2</td>\n      <td>4</td>\n      <td>B</td>\n      <td>...</td>\n      <td>0</td>\n      <td>0</td>\n      <td>0.333333</td>\n      <td>0.6875</td>\n      <td>1.000</td>\n      <td>0.625</td>\n      <td>0.625</td>\n      <td>0.000000</td>\n      <td>0.000000</td>\n      <td>0.000000</td>\n    </tr>\n    <tr>\n      <th>10</th>\n      <td>YDFH4g880iK58l35</td>\n      <td>Madison Johnson</td>\n      <td>DS</td>\n      <td>Test Product - D</td>\n      <td>2</td>\n      <td>4</td>\n      <td>2</td>\n      <td>4</td>\n      <td>4</td>\n      <td>A</td>\n      <td>...</td>\n      <td>3</td>\n      <td>4</td>\n      <td>0.666667</td>\n      <td>0.7500</td>\n      <td>0.000</td>\n      <td>0.000</td>\n      <td>0.000</td>\n      <td>0.583333</td>\n      <td>0.750000</td>\n      <td>0.833333</td>\n    </tr>\n    <tr>\n      <th>11</th>\n      <td>7rLc448z5o87Q7lm</td>\n      <td>Chloe Torres</td>\n      <td>DS</td>\n      <td>Test Product - C</td>\n      <td>4</td>\n      <td>4</td>\n      <td>5</td>\n      <td>1</td>\n      <td>1</td>\n      <td>A</td>\n      <td>...</td>\n      <td>1</td>\n      <td>2</td>\n      <td>0.000000</td>\n      <td>0.6875</td>\n      <td>0.000</td>\n      <td>0.000</td>\n      <td>0.000</td>\n      <td>0.416667</td>\n      <td>0.833333</td>\n      <td>0.500000</td>\n    </tr>\n    <tr>\n      <th>12</th>\n      <td>CO2681aoA80P62vf</td>\n      <td>Daniel Campbell</td>\n      <td>DS</td>\n      <td>Test Product - D</td>\n      <td>5</td>\n      <td>1</td>\n      <td>2</td>\n      <td>1</td>\n      <td>4</td>\n      <td>B</td>\n      <td>...</td>\n      <td>3</td>\n      <td>3</td>\n      <td>0.666667</td>\n      <td>0.5625</td>\n      <td>0.000</td>\n      <td>0.000</td>\n      <td>0.000</td>\n      <td>0.666667</td>\n      <td>0.583333</td>\n      <td>0.666667</td>\n    </tr>\n    <tr>\n      <th>13</th>\n      <td>0Ns1fLY8q0306Mv8</td>\n      <td>Mila Richardson</td>\n      <td>DS</td>\n      <td>Test Product - C</td>\n      <td>2</td>\n      <td>1</td>\n      <td>2</td>\n      <td>1</td>\n      <td>2</td>\n      <td>B</td>\n      <td>...</td>\n      <td>3</td>\n      <td>3</td>\n      <td>0.000000</td>\n      <td>0.8125</td>\n      <td>0.000</td>\n      <td>0.000</td>\n      <td>0.000</td>\n      <td>0.583333</td>\n      <td>0.416667</td>\n      <td>0.750000</td>\n    </tr>\n    <tr>\n      <th>14</th>\n      <td>872i2x8R3e0h7VSJ</td>\n      <td>Eleanor Allen</td>\n      <td>DS</td>\n      <td>Test Product - B</td>\n      <td>1</td>\n      <td>1</td>\n      <td>2</td>\n      <td>2</td>\n      <td>1</td>\n      <td>B</td>\n      <td>...</td>\n      <td>2</td>\n      <td>4</td>\n      <td>0.000000</td>\n      <td>0.5000</td>\n      <td>0.000</td>\n      <td>0.000</td>\n      <td>0.000</td>\n      <td>0.666667</td>\n      <td>0.833333</td>\n      <td>0.583333</td>\n    </tr>\n    <tr>\n      <th>15</th>\n      <td>ug5S0523KF3WRU61</td>\n      <td>Avery Miller</td>\n      <td>Web</td>\n      <td>Test Product - C</td>\n      <td>4</td>\n      <td>4</td>\n      <td>2</td>\n      <td>2</td>\n      <td>3</td>\n      <td>A</td>\n      <td>...</td>\n      <td>0</td>\n      <td>0</td>\n      <td>0.000000</td>\n      <td>0.3750</td>\n      <td>0.625</td>\n      <td>0.750</td>\n      <td>0.750</td>\n      <td>0.000000</td>\n      <td>0.000000</td>\n      <td>0.000000</td>\n    </tr>\n    <tr>\n      <th>16</th>\n      <td>3EIAdy485t825AK6</td>\n      <td>Theodore Wilson</td>\n      <td>Web</td>\n      <td>Test Product - D</td>\n      <td>1</td>\n      <td>2</td>\n      <td>2</td>\n      <td>1</td>\n      <td>3</td>\n      <td>B</td>\n      <td>...</td>\n      <td>0</td>\n      <td>0</td>\n      <td>0.000000</td>\n      <td>0.6250</td>\n      <td>0.625</td>\n      <td>0.750</td>\n      <td>1.000</td>\n      <td>0.000000</td>\n      <td>0.000000</td>\n      <td>0.000000</td>\n    </tr>\n    <tr>\n      <th>17</th>\n      <td>J453cHEj87d72T6J</td>\n      <td>Lucas Anderson</td>\n      <td>Web</td>\n      <td>Test Product - A</td>\n      <td>1</td>\n      <td>3</td>\n      <td>4</td>\n      <td>3</td>\n      <td>1</td>\n      <td>A</td>\n      <td>...</td>\n      <td>0</td>\n      <td>0</td>\n      <td>0.333333</td>\n      <td>0.4375</td>\n      <td>0.250</td>\n      <td>0.375</td>\n      <td>0.250</td>\n      <td>0.000000</td>\n      <td>0.000000</td>\n      <td>0.000000</td>\n    </tr>\n    <tr>\n      <th>18</th>\n      <td>wQ252zO1Jvi237Y3</td>\n      <td>Evelyn Rivera</td>\n      <td>Web</td>\n      <td>Test Product - B</td>\n      <td>1</td>\n      <td>3</td>\n      <td>3</td>\n      <td>2</td>\n      <td>1</td>\n      <td>B</td>\n      <td>...</td>\n      <td>0</td>\n      <td>0</td>\n      <td>0.333333</td>\n      <td>0.8125</td>\n      <td>0.375</td>\n      <td>0.500</td>\n      <td>0.750</td>\n      <td>0.000000</td>\n      <td>0.000000</td>\n      <td>0.000000</td>\n    </tr>\n    <tr>\n      <th>19</th>\n      <td>q2G72d144Q48RSBh</td>\n      <td>Olivia Adams</td>\n      <td>Web</td>\n      <td>Test Product - B</td>\n      <td>2</td>\n      <td>2</td>\n      <td>2</td>\n      <td>3</td>\n      <td>4</td>\n      <td>B</td>\n      <td>...</td>\n      <td>0</td>\n      <td>0</td>\n      <td>0.333333</td>\n      <td>0.5625</td>\n      <td>0.750</td>\n      <td>0.500</td>\n      <td>0.375</td>\n      <td>0.000000</td>\n      <td>0.000000</td>\n      <td>0.000000</td>\n    </tr>\n    <tr>\n      <th>20</th>\n      <td>66E2gbJNCH6185N8</td>\n      <td>Oliver Davis</td>\n      <td>Web</td>\n      <td>Test Product - C</td>\n      <td>5</td>\n      <td>2</td>\n      <td>2</td>\n      <td>5</td>\n      <td>2</td>\n      <td>A</td>\n      <td>...</td>\n      <td>0</td>\n      <td>0</td>\n      <td>0.333333</td>\n      <td>0.7500</td>\n      <td>1.000</td>\n      <td>1.000</td>\n      <td>0.500</td>\n      <td>0.000000</td>\n      <td>0.000000</td>\n      <td>0.000000</td>\n    </tr>\n    <tr>\n      <th>21</th>\n      <td>25213kG1K4ueYwe4</td>\n      <td>Joseph Perez</td>\n      <td>Web</td>\n      <td>Test Product - D</td>\n      <td>4</td>\n      <td>4</td>\n      <td>2</td>\n      <td>2</td>\n      <td>2</td>\n      <td>A</td>\n      <td>...</td>\n      <td>0</td>\n      <td>0</td>\n      <td>1.000000</td>\n      <td>0.4375</td>\n      <td>0.875</td>\n      <td>0.500</td>\n      <td>1.000</td>\n      <td>0.000000</td>\n      <td>0.000000</td>\n      <td>0.000000</td>\n    </tr>\n    <tr>\n      <th>22</th>\n      <td>11w0u7Y2g6C8O2oQ</td>\n      <td>Evelyn Garcia</td>\n      <td>DS</td>\n      <td>Test Product - B</td>\n      <td>1</td>\n      <td>4</td>\n      <td>5</td>\n      <td>2</td>\n      <td>5</td>\n      <td>B</td>\n      <td>...</td>\n      <td>2</td>\n      <td>1</td>\n      <td>0.666667</td>\n      <td>0.8125</td>\n      <td>0.000</td>\n      <td>0.000</td>\n      <td>0.000</td>\n      <td>0.250000</td>\n      <td>0.500000</td>\n      <td>0.500000</td>\n    </tr>\n    <tr>\n      <th>23</th>\n      <td>77AnPE54E7k37y4i</td>\n      <td>Mason Richardson</td>\n      <td>Web</td>\n      <td>Test Product - A</td>\n      <td>5</td>\n      <td>1</td>\n      <td>4</td>\n      <td>5</td>\n      <td>1</td>\n      <td>B</td>\n      <td>...</td>\n      <td>0</td>\n      <td>0</td>\n      <td>0.333333</td>\n      <td>0.4375</td>\n      <td>0.750</td>\n      <td>0.750</td>\n      <td>0.625</td>\n      <td>0.000000</td>\n      <td>0.000000</td>\n      <td>0.000000</td>\n    </tr>\n    <tr>\n      <th>24</th>\n      <td>Zf03YXw781771Nep</td>\n      <td>Jackson Gonzales</td>\n      <td>Web</td>\n      <td>Test Product - B</td>\n      <td>2</td>\n      <td>1</td>\n      <td>4</td>\n      <td>5</td>\n      <td>1</td>\n      <td>B</td>\n      <td>...</td>\n      <td>0</td>\n      <td>0</td>\n      <td>0.000000</td>\n      <td>0.5625</td>\n      <td>0.750</td>\n      <td>1.000</td>\n      <td>0.625</td>\n      <td>0.000000</td>\n      <td>0.000000</td>\n      <td>0.000000</td>\n    </tr>\n    <tr>\n      <th>25</th>\n      <td>zGJ762o3Mt81S0E8</td>\n      <td>Lucas Williams</td>\n      <td>Web</td>\n      <td>Test Product - C</td>\n      <td>4</td>\n      <td>4</td>\n      <td>2</td>\n      <td>4</td>\n      <td>3</td>\n      <td>A</td>\n      <td>...</td>\n      <td>0</td>\n      <td>0</td>\n      <td>0.000000</td>\n      <td>0.6250</td>\n      <td>0.625</td>\n      <td>0.625</td>\n      <td>0.375</td>\n      <td>0.000000</td>\n      <td>0.000000</td>\n      <td>0.000000</td>\n    </tr>\n    <tr>\n      <th>26</th>\n      <td>14m4FpA20Aoo75Z2</td>\n      <td>Layla Wilson</td>\n      <td>Web</td>\n      <td>Test Product - D</td>\n      <td>4</td>\n      <td>2</td>\n      <td>2</td>\n      <td>4</td>\n      <td>3</td>\n      <td>B</td>\n      <td>...</td>\n      <td>0</td>\n      <td>0</td>\n      <td>0.666667</td>\n      <td>0.7500</td>\n      <td>0.250</td>\n      <td>0.625</td>\n      <td>0.375</td>\n      <td>0.000000</td>\n      <td>0.000000</td>\n      <td>0.000000</td>\n    </tr>\n    <tr>\n      <th>27</th>\n      <td>D0iv1WP00Y8O6y13</td>\n      <td>Jack Watson</td>\n      <td>Web</td>\n      <td>Test Product - A</td>\n      <td>3</td>\n      <td>2</td>\n      <td>2</td>\n      <td>1</td>\n      <td>5</td>\n      <td>B</td>\n      <td>...</td>\n      <td>0</td>\n      <td>0</td>\n      <td>0.000000</td>\n      <td>0.5000</td>\n      <td>0.750</td>\n      <td>0.500</td>\n      <td>0.500</td>\n      <td>0.000000</td>\n      <td>0.000000</td>\n      <td>0.000000</td>\n    </tr>\n    <tr>\n      <th>28</th>\n      <td>6b4hxa8523e8Plk0</td>\n      <td>John Hernandez</td>\n      <td>DS</td>\n      <td>Test Product - B</td>\n      <td>1</td>\n      <td>5</td>\n      <td>1</td>\n      <td>4</td>\n      <td>5</td>\n      <td>B</td>\n      <td>...</td>\n      <td>3</td>\n      <td>2</td>\n      <td>0.333333</td>\n      <td>0.5000</td>\n      <td>0.000</td>\n      <td>0.000</td>\n      <td>0.000</td>\n      <td>0.833333</td>\n      <td>0.583333</td>\n      <td>0.750000</td>\n    </tr>\n    <tr>\n      <th>29</th>\n      <td>1gncs161DUC3U618</td>\n      <td>Ella Hall</td>\n      <td>Web</td>\n      <td>Test Product - D</td>\n      <td>3</td>\n      <td>1</td>\n      <td>1</td>\n      <td>1</td>\n      <td>5</td>\n      <td>A</td>\n      <td>...</td>\n      <td>0</td>\n      <td>0</td>\n      <td>0.666667</td>\n      <td>0.7500</td>\n      <td>1.000</td>\n      <td>0.875</td>\n      <td>0.750</td>\n      <td>0.000000</td>\n      <td>0.000000</td>\n      <td>0.000000</td>\n    </tr>\n    <tr>\n      <th>30</th>\n      <td>L27kK6hHg5n06B80</td>\n      <td>Liam Perez</td>\n      <td>Web</td>\n      <td>Test Product - C</td>\n      <td>1</td>\n      <td>3</td>\n      <td>3</td>\n      <td>3</td>\n      <td>2</td>\n      <td>A</td>\n      <td>...</td>\n      <td>0</td>\n      <td>0</td>\n      <td>0.000000</td>\n      <td>0.5000</td>\n      <td>0.625</td>\n      <td>0.625</td>\n      <td>0.625</td>\n      <td>0.000000</td>\n      <td>0.000000</td>\n      <td>0.000000</td>\n    </tr>\n    <tr>\n      <th>31</th>\n      <td>56IcbZ46Ae2i50Y3</td>\n      <td>Wyatt Jones</td>\n      <td>Web</td>\n      <td>Test Product - D</td>\n      <td>1</td>\n      <td>2</td>\n      <td>5</td>\n      <td>1</td>\n      <td>1</td>\n      <td>B</td>\n      <td>...</td>\n      <td>0</td>\n      <td>0</td>\n      <td>0.333333</td>\n      <td>0.5000</td>\n      <td>0.875</td>\n      <td>0.750</td>\n      <td>0.750</td>\n      <td>0.000000</td>\n      <td>0.000000</td>\n      <td>0.000000</td>\n    </tr>\n    <tr>\n      <th>32</th>\n      <td>Zi7b5BL6210fkj83</td>\n      <td>Mason Adams</td>\n      <td>Web</td>\n      <td>Test Product - A</td>\n      <td>3</td>\n      <td>5</td>\n      <td>1</td>\n      <td>5</td>\n      <td>3</td>\n      <td>B</td>\n      <td>...</td>\n      <td>0</td>\n      <td>0</td>\n      <td>0.333333</td>\n      <td>0.5625</td>\n      <td>0.625</td>\n      <td>0.500</td>\n      <td>0.750</td>\n      <td>0.000000</td>\n      <td>0.000000</td>\n      <td>0.000000</td>\n    </tr>\n    <tr>\n      <th>33</th>\n      <td>Q217sQJL5fq763j5</td>\n      <td>David Williams</td>\n      <td>Web</td>\n      <td>Test Product - B</td>\n      <td>4</td>\n      <td>3</td>\n      <td>4</td>\n      <td>3</td>\n      <td>4</td>\n      <td>B</td>\n      <td>...</td>\n      <td>0</td>\n      <td>0</td>\n      <td>0.000000</td>\n      <td>0.4375</td>\n      <td>0.500</td>\n      <td>0.500</td>\n      <td>0.625</td>\n      <td>0.000000</td>\n      <td>0.000000</td>\n      <td>0.000000</td>\n    </tr>\n    <tr>\n      <th>34</th>\n      <td>M4g28cr14d747YCX</td>\n      <td>Levi Perez</td>\n      <td>DS</td>\n      <td>Test Product - C</td>\n      <td>3</td>\n      <td>3</td>\n      <td>2</td>\n      <td>2</td>\n      <td>3</td>\n      <td>A</td>\n      <td>...</td>\n      <td>1</td>\n      <td>2</td>\n      <td>0.333333</td>\n      <td>0.5000</td>\n      <td>0.000</td>\n      <td>0.000</td>\n      <td>0.000</td>\n      <td>0.833333</td>\n      <td>0.833333</td>\n      <td>0.583333</td>\n    </tr>\n    <tr>\n      <th>35</th>\n      <td>ab46QL251UOI321v</td>\n      <td>Michael Brooks</td>\n      <td>Web</td>\n      <td>Test Product - C</td>\n      <td>4</td>\n      <td>1</td>\n      <td>5</td>\n      <td>5</td>\n      <td>5</td>\n      <td>B</td>\n      <td>...</td>\n      <td>0</td>\n      <td>0</td>\n      <td>1.000000</td>\n      <td>0.7500</td>\n      <td>0.375</td>\n      <td>0.375</td>\n      <td>0.750</td>\n      <td>0.000000</td>\n      <td>0.000000</td>\n      <td>0.000000</td>\n    </tr>\n    <tr>\n      <th>36</th>\n      <td>765LkSv4yE31X5W1</td>\n      <td>Avery Harris</td>\n      <td>DS</td>\n      <td>Test Product - D</td>\n      <td>3</td>\n      <td>5</td>\n      <td>3</td>\n      <td>2</td>\n      <td>5</td>\n      <td>B</td>\n      <td>...</td>\n      <td>3</td>\n      <td>3</td>\n      <td>0.666667</td>\n      <td>0.6875</td>\n      <td>0.000</td>\n      <td>0.000</td>\n      <td>0.000</td>\n      <td>0.416667</td>\n      <td>0.500000</td>\n      <td>0.583333</td>\n    </tr>\n    <tr>\n      <th>37</th>\n      <td>3W23Wsn151Oi6rt0</td>\n      <td>Chloe James</td>\n      <td>Web</td>\n      <td>Test Product - A</td>\n      <td>1</td>\n      <td>4</td>\n      <td>4</td>\n      <td>3</td>\n      <td>3</td>\n      <td>A</td>\n      <td>...</td>\n      <td>0</td>\n      <td>0</td>\n      <td>0.333333</td>\n      <td>0.5000</td>\n      <td>0.375</td>\n      <td>0.625</td>\n      <td>0.500</td>\n      <td>0.000000</td>\n      <td>0.000000</td>\n      <td>0.000000</td>\n    </tr>\n    <tr>\n      <th>38</th>\n      <td>k86326PDIOl6o1x5</td>\n      <td>Lucas Clark</td>\n      <td>DS</td>\n      <td>Test Product - B</td>\n      <td>2</td>\n      <td>5</td>\n      <td>4</td>\n      <td>1</td>\n      <td>4</td>\n      <td>A</td>\n      <td>...</td>\n      <td>3</td>\n      <td>2</td>\n      <td>0.000000</td>\n      <td>0.5625</td>\n      <td>0.000</td>\n      <td>0.000</td>\n      <td>0.000</td>\n      <td>0.833333</td>\n      <td>0.583333</td>\n      <td>0.583333</td>\n    </tr>\n    <tr>\n      <th>39</th>\n      <td>h8Za1H3G1P3pZ068</td>\n      <td>Penelope Brooks</td>\n      <td>DS</td>\n      <td>Test Product - C</td>\n      <td>2</td>\n      <td>5</td>\n      <td>4</td>\n      <td>3</td>\n      <td>2</td>\n      <td>B</td>\n      <td>...</td>\n      <td>1</td>\n      <td>4</td>\n      <td>0.000000</td>\n      <td>0.6250</td>\n      <td>0.000</td>\n      <td>0.000</td>\n      <td>0.000</td>\n      <td>0.750000</td>\n      <td>0.583333</td>\n      <td>0.750000</td>\n    </tr>\n    <tr>\n      <th>40</th>\n      <td>Ef67o7H0S5b7RZ46</td>\n      <td>Emily Thompson</td>\n      <td>Web</td>\n      <td>Test Product - A</td>\n      <td>5</td>\n      <td>3</td>\n      <td>1</td>\n      <td>2</td>\n      <td>5</td>\n      <td>B</td>\n      <td>...</td>\n      <td>0</td>\n      <td>0</td>\n      <td>0.666667</td>\n      <td>0.8125</td>\n      <td>0.375</td>\n      <td>0.750</td>\n      <td>1.000</td>\n      <td>0.000000</td>\n      <td>0.000000</td>\n      <td>0.000000</td>\n    </tr>\n    <tr>\n      <th>41</th>\n      <td>Ph5n6232gj70fwv6</td>\n      <td>Alexander Allen</td>\n      <td>Web</td>\n      <td>Test Product - A</td>\n      <td>3</td>\n      <td>3</td>\n      <td>1</td>\n      <td>3</td>\n      <td>5</td>\n      <td>B</td>\n      <td>...</td>\n      <td>0</td>\n      <td>0</td>\n      <td>0.333333</td>\n      <td>0.9375</td>\n      <td>0.625</td>\n      <td>0.375</td>\n      <td>1.000</td>\n      <td>0.000000</td>\n      <td>0.000000</td>\n      <td>0.000000</td>\n    </tr>\n    <tr>\n      <th>42</th>\n      <td>8uMw6UQ260dg687z</td>\n      <td>Mia Moore</td>\n      <td>Web</td>\n      <td>Test Product - D</td>\n      <td>4</td>\n      <td>4</td>\n      <td>3</td>\n      <td>4</td>\n      <td>3</td>\n      <td>A</td>\n      <td>...</td>\n      <td>0</td>\n      <td>0</td>\n      <td>0.333333</td>\n      <td>0.6875</td>\n      <td>0.875</td>\n      <td>0.625</td>\n      <td>0.750</td>\n      <td>0.000000</td>\n      <td>0.000000</td>\n      <td>0.000000</td>\n    </tr>\n    <tr>\n      <th>43</th>\n      <td>7j0F1383M0PFoD6f</td>\n      <td>James Thomas</td>\n      <td>Web</td>\n      <td>Test Product - A</td>\n      <td>5</td>\n      <td>2</td>\n      <td>5</td>\n      <td>1</td>\n      <td>1</td>\n      <td>B</td>\n      <td>...</td>\n      <td>0</td>\n      <td>0</td>\n      <td>0.333333</td>\n      <td>0.4375</td>\n      <td>0.500</td>\n      <td>0.250</td>\n      <td>0.375</td>\n      <td>0.000000</td>\n      <td>0.000000</td>\n      <td>0.000000</td>\n    </tr>\n    <tr>\n      <th>44</th>\n      <td>511j48cuQwn48TK2</td>\n      <td>Camila Lopez</td>\n      <td>Web</td>\n      <td>Test Product - B</td>\n      <td>2</td>\n      <td>1</td>\n      <td>2</td>\n      <td>4</td>\n      <td>4</td>\n      <td>A</td>\n      <td>...</td>\n      <td>0</td>\n      <td>0</td>\n      <td>0.333333</td>\n      <td>0.4375</td>\n      <td>0.750</td>\n      <td>0.500</td>\n      <td>0.750</td>\n      <td>0.000000</td>\n      <td>0.000000</td>\n      <td>0.000000</td>\n    </tr>\n    <tr>\n      <th>45</th>\n      <td>001</td>\n      <td>Charlotte Johnson</td>\n      <td>Web</td>\n      <td>Test Product - A</td>\n      <td>4</td>\n      <td>5</td>\n      <td>5</td>\n      <td>2</td>\n      <td>4</td>\n      <td>A</td>\n      <td>...</td>\n      <td>0</td>\n      <td>0</td>\n      <td>0.666667</td>\n      <td>0.8750</td>\n      <td>0.500</td>\n      <td>0.250</td>\n      <td>0.750</td>\n      <td>0.000000</td>\n      <td>0.000000</td>\n      <td>0.000000</td>\n    </tr>\n    <tr>\n      <th>46</th>\n      <td>002</td>\n      <td>Mia Smith</td>\n      <td>Web</td>\n      <td>Test Product - A</td>\n      <td>5</td>\n      <td>4</td>\n      <td>2</td>\n      <td>3</td>\n      <td>5</td>\n      <td>A</td>\n      <td>...</td>\n      <td>0</td>\n      <td>0</td>\n      <td>0.666667</td>\n      <td>0.6250</td>\n      <td>0.875</td>\n      <td>0.375</td>\n      <td>0.250</td>\n      <td>0.000000</td>\n      <td>0.000000</td>\n      <td>0.000000</td>\n    </tr>\n    <tr>\n      <th>47</th>\n      <td>003</td>\n      <td>Sebastian Sanchez</td>\n      <td>Web</td>\n      <td>Test Product - A</td>\n      <td>5</td>\n      <td>2</td>\n      <td>5</td>\n      <td>3</td>\n      <td>5</td>\n      <td>A</td>\n      <td>...</td>\n      <td>0</td>\n      <td>0</td>\n      <td>0.666667</td>\n      <td>0.6875</td>\n      <td>0.625</td>\n      <td>0.750</td>\n      <td>0.625</td>\n      <td>0.000000</td>\n      <td>0.000000</td>\n      <td>0.000000</td>\n    </tr>\n    <tr>\n      <th>48</th>\n      <td>004</td>\n      <td>Isabella Lopez</td>\n      <td>Web</td>\n      <td>Test Product - A</td>\n      <td>4</td>\n      <td>2</td>\n      <td>4</td>\n      <td>3</td>\n      <td>1</td>\n      <td>B</td>\n      <td>...</td>\n      <td>0</td>\n      <td>0</td>\n      <td>0.333333</td>\n      <td>0.6250</td>\n      <td>0.750</td>\n      <td>0.750</td>\n      <td>0.750</td>\n      <td>0.000000</td>\n      <td>0.000000</td>\n      <td>0.000000</td>\n    </tr>\n    <tr>\n      <th>49</th>\n      <td>005</td>\n      <td>Oliver Jackson</td>\n      <td>Web</td>\n      <td>Test Product - A</td>\n      <td>1</td>\n      <td>4</td>\n      <td>2</td>\n      <td>1</td>\n      <td>5</td>\n      <td>A</td>\n      <td>...</td>\n      <td>0</td>\n      <td>0</td>\n      <td>0.333333</td>\n      <td>0.7500</td>\n      <td>0.750</td>\n      <td>0.750</td>\n      <td>0.375</td>\n      <td>0.000000</td>\n      <td>0.000000</td>\n      <td>0.000000</td>\n    </tr>\n  </tbody>\n</table>\n<p>50 rows × 43 columns</p>\n</div>"
     },
     "execution_count": 75,
     "metadata": {},
     "output_type": "execute_result"
    }
   ],
   "source": [
    "learners_df = DataFrame(learners)\n",
    "learners_df"
   ],
   "metadata": {
    "collapsed": false,
    "pycharm": {
     "name": "#%%\n"
    }
   }
  },
  {
   "cell_type": "code",
   "execution_count": 77,
   "outputs": [
    {
     "data": {
      "text/plain": "                                     0                 1                 2  \\\nteamName              Test Product - A  Test Product - B  Test Product - C   \ntpmInterestRank               0.629808            0.5625             0.625   \ntpmSkillRank                  0.410256          0.230769          0.222222   \nuxInterestRank                0.596154          0.413462          0.270833   \nfrontendInterestRank          0.538462          0.384615           0.28125   \nbackendInterestRank           0.596154          0.384615              0.25   \ndataEngInterestRank                0.0           0.25641          0.381944   \nmlEngInterestRank                  0.0          0.224359          0.395833   \nmlOpsInterestRank                  0.0          0.230769          0.395833   \n\n                                     3  \nteamName              Test Product - D  \ntpmInterestRank               0.651042  \ntpmSkillRank                       0.5  \nuxInterestRank                  0.4375  \nfrontendInterestRank           0.46875  \nbackendInterestRank           0.489583  \ndataEngInterestRank           0.180556  \nmlEngInterestRank             0.194444  \nmlOpsInterestRank             0.222222  ",
      "text/html": "<div>\n<style scoped>\n    .dataframe tbody tr th:only-of-type {\n        vertical-align: middle;\n    }\n\n    .dataframe tbody tr th {\n        vertical-align: top;\n    }\n\n    .dataframe thead th {\n        text-align: right;\n    }\n</style>\n<table border=\"1\" class=\"dataframe\">\n  <thead>\n    <tr style=\"text-align: right;\">\n      <th></th>\n      <th>0</th>\n      <th>1</th>\n      <th>2</th>\n      <th>3</th>\n    </tr>\n  </thead>\n  <tbody>\n    <tr>\n      <th>teamName</th>\n      <td>Test Product - A</td>\n      <td>Test Product - B</td>\n      <td>Test Product - C</td>\n      <td>Test Product - D</td>\n    </tr>\n    <tr>\n      <th>tpmInterestRank</th>\n      <td>0.629808</td>\n      <td>0.5625</td>\n      <td>0.625</td>\n      <td>0.651042</td>\n    </tr>\n    <tr>\n      <th>tpmSkillRank</th>\n      <td>0.410256</td>\n      <td>0.230769</td>\n      <td>0.222222</td>\n      <td>0.5</td>\n    </tr>\n    <tr>\n      <th>uxInterestRank</th>\n      <td>0.596154</td>\n      <td>0.413462</td>\n      <td>0.270833</td>\n      <td>0.4375</td>\n    </tr>\n    <tr>\n      <th>frontendInterestRank</th>\n      <td>0.538462</td>\n      <td>0.384615</td>\n      <td>0.28125</td>\n      <td>0.46875</td>\n    </tr>\n    <tr>\n      <th>backendInterestRank</th>\n      <td>0.596154</td>\n      <td>0.384615</td>\n      <td>0.25</td>\n      <td>0.489583</td>\n    </tr>\n    <tr>\n      <th>dataEngInterestRank</th>\n      <td>0.0</td>\n      <td>0.25641</td>\n      <td>0.381944</td>\n      <td>0.180556</td>\n    </tr>\n    <tr>\n      <th>mlEngInterestRank</th>\n      <td>0.0</td>\n      <td>0.224359</td>\n      <td>0.395833</td>\n      <td>0.194444</td>\n    </tr>\n    <tr>\n      <th>mlOpsInterestRank</th>\n      <td>0.0</td>\n      <td>0.230769</td>\n      <td>0.395833</td>\n      <td>0.222222</td>\n    </tr>\n  </tbody>\n</table>\n</div>"
     },
     "execution_count": 77,
     "metadata": {},
     "output_type": "execute_result"
    }
   ],
   "source": [
    "stat_list = [\n",
    "    'tpmInterestRank',\n",
    "    'tpmSkillRank',\n",
    "    'uxInterestRank',\n",
    "    'frontendInterestRank',\n",
    "    'backendInterestRank',\n",
    "    'dataEngInterestRank',\n",
    "    'mlEngInterestRank',\n",
    "    'mlOpsInterestRank',\n",
    "]\n",
    "project_names = sorted(learners_df[\"labsProject\"].unique().tolist())\n",
    "data = []\n",
    "for team in project_names:\n",
    "    datum = {\"teamName\": team}\n",
    "    for stat in stat_list:\n",
    "        datum[stat] = learners_df[learners_df['labsProject'] == team][stat].mean()\n",
    "    data.append(datum)\n",
    "df = DataFrame(data)\n",
    "df.T"
   ],
   "metadata": {
    "collapsed": false,
    "pycharm": {
     "name": "#%%\n"
    }
   }
  },
  {
   "cell_type": "markdown",
   "source": [
    "Strong TPM types on each team!\n",
    "- Interest over skill"
   ],
   "metadata": {
    "collapsed": false,
    "pycharm": {
     "name": "#%% md\n"
    }
   }
  },
  {
   "cell_type": "code",
   "execution_count": 76,
   "outputs": [],
   "source": [],
   "metadata": {
    "collapsed": false,
    "pycharm": {
     "name": "#%%\n"
    }
   }
  }
 ],
 "metadata": {
  "kernelspec": {
   "display_name": "Python 3",
   "language": "python",
   "name": "python3"
  },
  "language_info": {
   "codemirror_mode": {
    "name": "ipython",
    "version": 2
   },
   "file_extension": ".py",
   "mimetype": "text/x-python",
   "name": "python",
   "nbconvert_exporter": "python",
   "pygments_lexer": "ipython2",
   "version": "2.7.6"
  }
 },
 "nbformat": 4,
 "nbformat_minor": 0
}