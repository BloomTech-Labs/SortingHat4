{
 "cells": [
  {
   "cell_type": "code",
   "execution_count": 14,
   "outputs": [],
   "source": [
    "import requests\n",
    "from pandas import DataFrame\n",
    "import plotly.graph_objects as go\n",
    "import plotly.express as px"
   ],
   "metadata": {
    "collapsed": false,
    "pycharm": {
     "name": "#%%\n"
    }
   }
  },
  {
   "cell_type": "code",
   "execution_count": 15,
   "metadata": {
    "collapsed": true
   },
   "outputs": [],
   "source": [
    "remote_url = \"http://sortinghat4-dev.us-east-1.elasticbeanstalk.com\""
   ]
  },
  {
   "cell_type": "code",
   "execution_count": 16,
   "outputs": [
    {
     "name": "stdout",
     "output_type": "stream",
     "text": [
      "13\n"
     ]
    }
   ],
   "source": [
    "raw_data = requests.post(\n",
    "    remote_url + \"/logs\",\n",
    "    json={\"metadata.ds_api.version\": \"4.0.8\", \"type\": \"post-sort\"},\n",
    ").json()\n",
    "print(len(raw_data))\n",
    "payload = raw_data[-5]"
   ],
   "metadata": {
    "collapsed": false,
    "pycharm": {
     "name": "#%%\n"
    }
   }
  },
  {
   "cell_type": "code",
   "execution_count": 17,
   "outputs": [
    {
     "data": {
      "text/plain": "{'ds_api': {'platform': 'FastAPI', 'title': 'SortingHat4', 'version': '4.0.8'},\n 'logger': {'platform': 'MongoDB',\n  'organization': 'Bloom Institute of Technology',\n  'project': 'Labs',\n  'database': 'SortingHat',\n  'collection': 'Logs'},\n 'timestamp': '2022-04-10 17:39:15'}"
     },
     "execution_count": 17,
     "metadata": {},
     "output_type": "execute_result"
    }
   ],
   "source": [
    "payload[\"metadata\"]"
   ],
   "metadata": {
    "collapsed": false,
    "pycharm": {
     "name": "#%%\n"
    }
   }
  },
  {
   "cell_type": "code",
   "execution_count": 18,
   "outputs": [],
   "source": [
    "projects = payload[\"projects\"]"
   ],
   "metadata": {
    "collapsed": false,
    "pycharm": {
     "name": "#%%\n"
    }
   }
  },
  {
   "cell_type": "code",
   "execution_count": 19,
   "outputs": [],
   "source": [
    "learners = payload[\"learners\"]"
   ],
   "metadata": {
    "collapsed": false,
    "pycharm": {
     "name": "#%%\n"
    }
   }
  },
  {
   "cell_type": "code",
   "execution_count": 20,
   "outputs": [
    {
     "data": {
      "text/plain": "25"
     },
     "execution_count": 20,
     "metadata": {},
     "output_type": "execute_result"
    }
   ],
   "source": [
    "len(payload[\"learners\"])"
   ],
   "metadata": {
    "collapsed": false,
    "pycharm": {
     "name": "#%%\n"
    }
   }
  },
  {
   "cell_type": "code",
   "execution_count": 21,
   "outputs": [
    {
     "data": {
      "text/plain": "7"
     },
     "execution_count": 21,
     "metadata": {},
     "output_type": "execute_result"
    }
   ],
   "source": [
    "len(payload[\"projects\"])"
   ],
   "metadata": {
    "collapsed": false,
    "pycharm": {
     "name": "#%%\n"
    }
   }
  },
  {
   "cell_type": "code",
   "execution_count": 22,
   "outputs": [
    {
     "data": {
      "application/vnd.plotly.v1+json": {
       "data": [
        {
         "hole": 0.5,
         "hoverinfo": "text+label+value",
         "labels": [
          "Web",
          "DS"
         ],
         "showlegend": false,
         "textfont": {
          "size": 12
         },
         "textinfo": "percent+label",
         "textposition": "inside",
         "values": [
          20,
          5
         ],
         "type": "pie"
        }
       ],
       "layout": {
        "colorway": [
         "rgb(133, 92, 117)",
         "rgb(217, 175, 107)",
         "rgb(175, 100, 88)",
         "rgb(115, 111, 76)",
         "rgb(82, 106, 131)",
         "rgb(98, 83, 119)",
         "rgb(104, 133, 92)",
         "rgb(156, 156, 94)",
         "rgb(160, 97, 119)",
         "rgb(140, 120, 93)",
         "rgb(124, 124, 124)"
        ],
        "height": 640,
        "paper_bgcolor": "#333333",
        "title": {
         "font": {
          "color": "white",
          "size": 24
         },
         "text": "Learner Count by Track"
        },
        "width": 640,
        "template": {
         "data": {
          "histogram2dcontour": [
           {
            "type": "histogram2dcontour",
            "colorbar": {
             "outlinewidth": 0,
             "ticks": ""
            },
            "colorscale": [
             [
              0.0,
              "#0d0887"
             ],
             [
              0.1111111111111111,
              "#46039f"
             ],
             [
              0.2222222222222222,
              "#7201a8"
             ],
             [
              0.3333333333333333,
              "#9c179e"
             ],
             [
              0.4444444444444444,
              "#bd3786"
             ],
             [
              0.5555555555555556,
              "#d8576b"
             ],
             [
              0.6666666666666666,
              "#ed7953"
             ],
             [
              0.7777777777777778,
              "#fb9f3a"
             ],
             [
              0.8888888888888888,
              "#fdca26"
             ],
             [
              1.0,
              "#f0f921"
             ]
            ]
           }
          ],
          "choropleth": [
           {
            "type": "choropleth",
            "colorbar": {
             "outlinewidth": 0,
             "ticks": ""
            }
           }
          ],
          "histogram2d": [
           {
            "type": "histogram2d",
            "colorbar": {
             "outlinewidth": 0,
             "ticks": ""
            },
            "colorscale": [
             [
              0.0,
              "#0d0887"
             ],
             [
              0.1111111111111111,
              "#46039f"
             ],
             [
              0.2222222222222222,
              "#7201a8"
             ],
             [
              0.3333333333333333,
              "#9c179e"
             ],
             [
              0.4444444444444444,
              "#bd3786"
             ],
             [
              0.5555555555555556,
              "#d8576b"
             ],
             [
              0.6666666666666666,
              "#ed7953"
             ],
             [
              0.7777777777777778,
              "#fb9f3a"
             ],
             [
              0.8888888888888888,
              "#fdca26"
             ],
             [
              1.0,
              "#f0f921"
             ]
            ]
           }
          ],
          "heatmap": [
           {
            "type": "heatmap",
            "colorbar": {
             "outlinewidth": 0,
             "ticks": ""
            },
            "colorscale": [
             [
              0.0,
              "#0d0887"
             ],
             [
              0.1111111111111111,
              "#46039f"
             ],
             [
              0.2222222222222222,
              "#7201a8"
             ],
             [
              0.3333333333333333,
              "#9c179e"
             ],
             [
              0.4444444444444444,
              "#bd3786"
             ],
             [
              0.5555555555555556,
              "#d8576b"
             ],
             [
              0.6666666666666666,
              "#ed7953"
             ],
             [
              0.7777777777777778,
              "#fb9f3a"
             ],
             [
              0.8888888888888888,
              "#fdca26"
             ],
             [
              1.0,
              "#f0f921"
             ]
            ]
           }
          ],
          "heatmapgl": [
           {
            "type": "heatmapgl",
            "colorbar": {
             "outlinewidth": 0,
             "ticks": ""
            },
            "colorscale": [
             [
              0.0,
              "#0d0887"
             ],
             [
              0.1111111111111111,
              "#46039f"
             ],
             [
              0.2222222222222222,
              "#7201a8"
             ],
             [
              0.3333333333333333,
              "#9c179e"
             ],
             [
              0.4444444444444444,
              "#bd3786"
             ],
             [
              0.5555555555555556,
              "#d8576b"
             ],
             [
              0.6666666666666666,
              "#ed7953"
             ],
             [
              0.7777777777777778,
              "#fb9f3a"
             ],
             [
              0.8888888888888888,
              "#fdca26"
             ],
             [
              1.0,
              "#f0f921"
             ]
            ]
           }
          ],
          "contourcarpet": [
           {
            "type": "contourcarpet",
            "colorbar": {
             "outlinewidth": 0,
             "ticks": ""
            }
           }
          ],
          "contour": [
           {
            "type": "contour",
            "colorbar": {
             "outlinewidth": 0,
             "ticks": ""
            },
            "colorscale": [
             [
              0.0,
              "#0d0887"
             ],
             [
              0.1111111111111111,
              "#46039f"
             ],
             [
              0.2222222222222222,
              "#7201a8"
             ],
             [
              0.3333333333333333,
              "#9c179e"
             ],
             [
              0.4444444444444444,
              "#bd3786"
             ],
             [
              0.5555555555555556,
              "#d8576b"
             ],
             [
              0.6666666666666666,
              "#ed7953"
             ],
             [
              0.7777777777777778,
              "#fb9f3a"
             ],
             [
              0.8888888888888888,
              "#fdca26"
             ],
             [
              1.0,
              "#f0f921"
             ]
            ]
           }
          ],
          "surface": [
           {
            "type": "surface",
            "colorbar": {
             "outlinewidth": 0,
             "ticks": ""
            },
            "colorscale": [
             [
              0.0,
              "#0d0887"
             ],
             [
              0.1111111111111111,
              "#46039f"
             ],
             [
              0.2222222222222222,
              "#7201a8"
             ],
             [
              0.3333333333333333,
              "#9c179e"
             ],
             [
              0.4444444444444444,
              "#bd3786"
             ],
             [
              0.5555555555555556,
              "#d8576b"
             ],
             [
              0.6666666666666666,
              "#ed7953"
             ],
             [
              0.7777777777777778,
              "#fb9f3a"
             ],
             [
              0.8888888888888888,
              "#fdca26"
             ],
             [
              1.0,
              "#f0f921"
             ]
            ]
           }
          ],
          "mesh3d": [
           {
            "type": "mesh3d",
            "colorbar": {
             "outlinewidth": 0,
             "ticks": ""
            }
           }
          ],
          "scatter": [
           {
            "fillpattern": {
             "fillmode": "overlay",
             "size": 10,
             "solidity": 0.2
            },
            "type": "scatter"
           }
          ],
          "parcoords": [
           {
            "type": "parcoords",
            "line": {
             "colorbar": {
              "outlinewidth": 0,
              "ticks": ""
             }
            }
           }
          ],
          "scatterpolargl": [
           {
            "type": "scatterpolargl",
            "marker": {
             "colorbar": {
              "outlinewidth": 0,
              "ticks": ""
             }
            }
           }
          ],
          "bar": [
           {
            "error_x": {
             "color": "#2a3f5f"
            },
            "error_y": {
             "color": "#2a3f5f"
            },
            "marker": {
             "line": {
              "color": "#E5ECF6",
              "width": 0.5
             },
             "pattern": {
              "fillmode": "overlay",
              "size": 10,
              "solidity": 0.2
             }
            },
            "type": "bar"
           }
          ],
          "scattergeo": [
           {
            "type": "scattergeo",
            "marker": {
             "colorbar": {
              "outlinewidth": 0,
              "ticks": ""
             }
            }
           }
          ],
          "scatterpolar": [
           {
            "type": "scatterpolar",
            "marker": {
             "colorbar": {
              "outlinewidth": 0,
              "ticks": ""
             }
            }
           }
          ],
          "histogram": [
           {
            "marker": {
             "pattern": {
              "fillmode": "overlay",
              "size": 10,
              "solidity": 0.2
             }
            },
            "type": "histogram"
           }
          ],
          "scattergl": [
           {
            "type": "scattergl",
            "marker": {
             "colorbar": {
              "outlinewidth": 0,
              "ticks": ""
             }
            }
           }
          ],
          "scatter3d": [
           {
            "type": "scatter3d",
            "line": {
             "colorbar": {
              "outlinewidth": 0,
              "ticks": ""
             }
            },
            "marker": {
             "colorbar": {
              "outlinewidth": 0,
              "ticks": ""
             }
            }
           }
          ],
          "scattermapbox": [
           {
            "type": "scattermapbox",
            "marker": {
             "colorbar": {
              "outlinewidth": 0,
              "ticks": ""
             }
            }
           }
          ],
          "scatterternary": [
           {
            "type": "scatterternary",
            "marker": {
             "colorbar": {
              "outlinewidth": 0,
              "ticks": ""
             }
            }
           }
          ],
          "scattercarpet": [
           {
            "type": "scattercarpet",
            "marker": {
             "colorbar": {
              "outlinewidth": 0,
              "ticks": ""
             }
            }
           }
          ],
          "carpet": [
           {
            "aaxis": {
             "endlinecolor": "#2a3f5f",
             "gridcolor": "white",
             "linecolor": "white",
             "minorgridcolor": "white",
             "startlinecolor": "#2a3f5f"
            },
            "baxis": {
             "endlinecolor": "#2a3f5f",
             "gridcolor": "white",
             "linecolor": "white",
             "minorgridcolor": "white",
             "startlinecolor": "#2a3f5f"
            },
            "type": "carpet"
           }
          ],
          "table": [
           {
            "cells": {
             "fill": {
              "color": "#EBF0F8"
             },
             "line": {
              "color": "white"
             }
            },
            "header": {
             "fill": {
              "color": "#C8D4E3"
             },
             "line": {
              "color": "white"
             }
            },
            "type": "table"
           }
          ],
          "barpolar": [
           {
            "marker": {
             "line": {
              "color": "#E5ECF6",
              "width": 0.5
             },
             "pattern": {
              "fillmode": "overlay",
              "size": 10,
              "solidity": 0.2
             }
            },
            "type": "barpolar"
           }
          ],
          "pie": [
           {
            "automargin": true,
            "type": "pie"
           }
          ]
         },
         "layout": {
          "autotypenumbers": "strict",
          "colorway": [
           "#636efa",
           "#EF553B",
           "#00cc96",
           "#ab63fa",
           "#FFA15A",
           "#19d3f3",
           "#FF6692",
           "#B6E880",
           "#FF97FF",
           "#FECB52"
          ],
          "font": {
           "color": "#2a3f5f"
          },
          "hovermode": "closest",
          "hoverlabel": {
           "align": "left"
          },
          "paper_bgcolor": "white",
          "plot_bgcolor": "#E5ECF6",
          "polar": {
           "bgcolor": "#E5ECF6",
           "angularaxis": {
            "gridcolor": "white",
            "linecolor": "white",
            "ticks": ""
           },
           "radialaxis": {
            "gridcolor": "white",
            "linecolor": "white",
            "ticks": ""
           }
          },
          "ternary": {
           "bgcolor": "#E5ECF6",
           "aaxis": {
            "gridcolor": "white",
            "linecolor": "white",
            "ticks": ""
           },
           "baxis": {
            "gridcolor": "white",
            "linecolor": "white",
            "ticks": ""
           },
           "caxis": {
            "gridcolor": "white",
            "linecolor": "white",
            "ticks": ""
           }
          },
          "coloraxis": {
           "colorbar": {
            "outlinewidth": 0,
            "ticks": ""
           }
          },
          "colorscale": {
           "sequential": [
            [
             0.0,
             "#0d0887"
            ],
            [
             0.1111111111111111,
             "#46039f"
            ],
            [
             0.2222222222222222,
             "#7201a8"
            ],
            [
             0.3333333333333333,
             "#9c179e"
            ],
            [
             0.4444444444444444,
             "#bd3786"
            ],
            [
             0.5555555555555556,
             "#d8576b"
            ],
            [
             0.6666666666666666,
             "#ed7953"
            ],
            [
             0.7777777777777778,
             "#fb9f3a"
            ],
            [
             0.8888888888888888,
             "#fdca26"
            ],
            [
             1.0,
             "#f0f921"
            ]
           ],
           "sequentialminus": [
            [
             0.0,
             "#0d0887"
            ],
            [
             0.1111111111111111,
             "#46039f"
            ],
            [
             0.2222222222222222,
             "#7201a8"
            ],
            [
             0.3333333333333333,
             "#9c179e"
            ],
            [
             0.4444444444444444,
             "#bd3786"
            ],
            [
             0.5555555555555556,
             "#d8576b"
            ],
            [
             0.6666666666666666,
             "#ed7953"
            ],
            [
             0.7777777777777778,
             "#fb9f3a"
            ],
            [
             0.8888888888888888,
             "#fdca26"
            ],
            [
             1.0,
             "#f0f921"
            ]
           ],
           "diverging": [
            [
             0,
             "#8e0152"
            ],
            [
             0.1,
             "#c51b7d"
            ],
            [
             0.2,
             "#de77ae"
            ],
            [
             0.3,
             "#f1b6da"
            ],
            [
             0.4,
             "#fde0ef"
            ],
            [
             0.5,
             "#f7f7f7"
            ],
            [
             0.6,
             "#e6f5d0"
            ],
            [
             0.7,
             "#b8e186"
            ],
            [
             0.8,
             "#7fbc41"
            ],
            [
             0.9,
             "#4d9221"
            ],
            [
             1,
             "#276419"
            ]
           ]
          },
          "xaxis": {
           "gridcolor": "white",
           "linecolor": "white",
           "ticks": "",
           "title": {
            "standoff": 15
           },
           "zerolinecolor": "white",
           "automargin": true,
           "zerolinewidth": 2
          },
          "yaxis": {
           "gridcolor": "white",
           "linecolor": "white",
           "ticks": "",
           "title": {
            "standoff": 15
           },
           "zerolinecolor": "white",
           "automargin": true,
           "zerolinewidth": 2
          },
          "scene": {
           "xaxis": {
            "backgroundcolor": "#E5ECF6",
            "gridcolor": "white",
            "linecolor": "white",
            "showbackground": true,
            "ticks": "",
            "zerolinecolor": "white",
            "gridwidth": 2
           },
           "yaxis": {
            "backgroundcolor": "#E5ECF6",
            "gridcolor": "white",
            "linecolor": "white",
            "showbackground": true,
            "ticks": "",
            "zerolinecolor": "white",
            "gridwidth": 2
           },
           "zaxis": {
            "backgroundcolor": "#E5ECF6",
            "gridcolor": "white",
            "linecolor": "white",
            "showbackground": true,
            "ticks": "",
            "zerolinecolor": "white",
            "gridwidth": 2
           }
          },
          "shapedefaults": {
           "line": {
            "color": "#2a3f5f"
           }
          },
          "annotationdefaults": {
           "arrowcolor": "#2a3f5f",
           "arrowhead": 0,
           "arrowwidth": 1
          },
          "geo": {
           "bgcolor": "white",
           "landcolor": "#E5ECF6",
           "subunitcolor": "white",
           "showland": true,
           "showlakes": true,
           "lakecolor": "white"
          },
          "title": {
           "x": 0.05
          },
          "mapbox": {
           "style": "light"
          }
         }
        }
       },
       "config": {
        "plotlyServerURL": "https://plot.ly"
       }
      },
      "text/html": "<div>                            <div id=\"ae51626c-79ba-4ea0-bd96-c77b1e7cfbbb\" class=\"plotly-graph-div\" style=\"height:640px; width:640px;\"></div>            <script type=\"text/javascript\">                require([\"plotly\"], function(Plotly) {                    window.PLOTLYENV=window.PLOTLYENV || {};                                    if (document.getElementById(\"ae51626c-79ba-4ea0-bd96-c77b1e7cfbbb\")) {                    Plotly.newPlot(                        \"ae51626c-79ba-4ea0-bd96-c77b1e7cfbbb\",                        [{\"hole\":0.5,\"hoverinfo\":\"text+label+value\",\"labels\":[\"Web\",\"DS\"],\"showlegend\":false,\"textfont\":{\"size\":12},\"textinfo\":\"percent+label\",\"textposition\":\"inside\",\"values\":[20,5],\"type\":\"pie\"}],                        {\"colorway\":[\"rgb(133, 92, 117)\",\"rgb(217, 175, 107)\",\"rgb(175, 100, 88)\",\"rgb(115, 111, 76)\",\"rgb(82, 106, 131)\",\"rgb(98, 83, 119)\",\"rgb(104, 133, 92)\",\"rgb(156, 156, 94)\",\"rgb(160, 97, 119)\",\"rgb(140, 120, 93)\",\"rgb(124, 124, 124)\"],\"height\":640,\"paper_bgcolor\":\"#333333\",\"title\":{\"font\":{\"color\":\"white\",\"size\":24},\"text\":\"Learner Count by Track\"},\"width\":640,\"template\":{\"data\":{\"histogram2dcontour\":[{\"type\":\"histogram2dcontour\",\"colorbar\":{\"outlinewidth\":0,\"ticks\":\"\"},\"colorscale\":[[0.0,\"#0d0887\"],[0.1111111111111111,\"#46039f\"],[0.2222222222222222,\"#7201a8\"],[0.3333333333333333,\"#9c179e\"],[0.4444444444444444,\"#bd3786\"],[0.5555555555555556,\"#d8576b\"],[0.6666666666666666,\"#ed7953\"],[0.7777777777777778,\"#fb9f3a\"],[0.8888888888888888,\"#fdca26\"],[1.0,\"#f0f921\"]]}],\"choropleth\":[{\"type\":\"choropleth\",\"colorbar\":{\"outlinewidth\":0,\"ticks\":\"\"}}],\"histogram2d\":[{\"type\":\"histogram2d\",\"colorbar\":{\"outlinewidth\":0,\"ticks\":\"\"},\"colorscale\":[[0.0,\"#0d0887\"],[0.1111111111111111,\"#46039f\"],[0.2222222222222222,\"#7201a8\"],[0.3333333333333333,\"#9c179e\"],[0.4444444444444444,\"#bd3786\"],[0.5555555555555556,\"#d8576b\"],[0.6666666666666666,\"#ed7953\"],[0.7777777777777778,\"#fb9f3a\"],[0.8888888888888888,\"#fdca26\"],[1.0,\"#f0f921\"]]}],\"heatmap\":[{\"type\":\"heatmap\",\"colorbar\":{\"outlinewidth\":0,\"ticks\":\"\"},\"colorscale\":[[0.0,\"#0d0887\"],[0.1111111111111111,\"#46039f\"],[0.2222222222222222,\"#7201a8\"],[0.3333333333333333,\"#9c179e\"],[0.4444444444444444,\"#bd3786\"],[0.5555555555555556,\"#d8576b\"],[0.6666666666666666,\"#ed7953\"],[0.7777777777777778,\"#fb9f3a\"],[0.8888888888888888,\"#fdca26\"],[1.0,\"#f0f921\"]]}],\"heatmapgl\":[{\"type\":\"heatmapgl\",\"colorbar\":{\"outlinewidth\":0,\"ticks\":\"\"},\"colorscale\":[[0.0,\"#0d0887\"],[0.1111111111111111,\"#46039f\"],[0.2222222222222222,\"#7201a8\"],[0.3333333333333333,\"#9c179e\"],[0.4444444444444444,\"#bd3786\"],[0.5555555555555556,\"#d8576b\"],[0.6666666666666666,\"#ed7953\"],[0.7777777777777778,\"#fb9f3a\"],[0.8888888888888888,\"#fdca26\"],[1.0,\"#f0f921\"]]}],\"contourcarpet\":[{\"type\":\"contourcarpet\",\"colorbar\":{\"outlinewidth\":0,\"ticks\":\"\"}}],\"contour\":[{\"type\":\"contour\",\"colorbar\":{\"outlinewidth\":0,\"ticks\":\"\"},\"colorscale\":[[0.0,\"#0d0887\"],[0.1111111111111111,\"#46039f\"],[0.2222222222222222,\"#7201a8\"],[0.3333333333333333,\"#9c179e\"],[0.4444444444444444,\"#bd3786\"],[0.5555555555555556,\"#d8576b\"],[0.6666666666666666,\"#ed7953\"],[0.7777777777777778,\"#fb9f3a\"],[0.8888888888888888,\"#fdca26\"],[1.0,\"#f0f921\"]]}],\"surface\":[{\"type\":\"surface\",\"colorbar\":{\"outlinewidth\":0,\"ticks\":\"\"},\"colorscale\":[[0.0,\"#0d0887\"],[0.1111111111111111,\"#46039f\"],[0.2222222222222222,\"#7201a8\"],[0.3333333333333333,\"#9c179e\"],[0.4444444444444444,\"#bd3786\"],[0.5555555555555556,\"#d8576b\"],[0.6666666666666666,\"#ed7953\"],[0.7777777777777778,\"#fb9f3a\"],[0.8888888888888888,\"#fdca26\"],[1.0,\"#f0f921\"]]}],\"mesh3d\":[{\"type\":\"mesh3d\",\"colorbar\":{\"outlinewidth\":0,\"ticks\":\"\"}}],\"scatter\":[{\"fillpattern\":{\"fillmode\":\"overlay\",\"size\":10,\"solidity\":0.2},\"type\":\"scatter\"}],\"parcoords\":[{\"type\":\"parcoords\",\"line\":{\"colorbar\":{\"outlinewidth\":0,\"ticks\":\"\"}}}],\"scatterpolargl\":[{\"type\":\"scatterpolargl\",\"marker\":{\"colorbar\":{\"outlinewidth\":0,\"ticks\":\"\"}}}],\"bar\":[{\"error_x\":{\"color\":\"#2a3f5f\"},\"error_y\":{\"color\":\"#2a3f5f\"},\"marker\":{\"line\":{\"color\":\"#E5ECF6\",\"width\":0.5},\"pattern\":{\"fillmode\":\"overlay\",\"size\":10,\"solidity\":0.2}},\"type\":\"bar\"}],\"scattergeo\":[{\"type\":\"scattergeo\",\"marker\":{\"colorbar\":{\"outlinewidth\":0,\"ticks\":\"\"}}}],\"scatterpolar\":[{\"type\":\"scatterpolar\",\"marker\":{\"colorbar\":{\"outlinewidth\":0,\"ticks\":\"\"}}}],\"histogram\":[{\"marker\":{\"pattern\":{\"fillmode\":\"overlay\",\"size\":10,\"solidity\":0.2}},\"type\":\"histogram\"}],\"scattergl\":[{\"type\":\"scattergl\",\"marker\":{\"colorbar\":{\"outlinewidth\":0,\"ticks\":\"\"}}}],\"scatter3d\":[{\"type\":\"scatter3d\",\"line\":{\"colorbar\":{\"outlinewidth\":0,\"ticks\":\"\"}},\"marker\":{\"colorbar\":{\"outlinewidth\":0,\"ticks\":\"\"}}}],\"scattermapbox\":[{\"type\":\"scattermapbox\",\"marker\":{\"colorbar\":{\"outlinewidth\":0,\"ticks\":\"\"}}}],\"scatterternary\":[{\"type\":\"scatterternary\",\"marker\":{\"colorbar\":{\"outlinewidth\":0,\"ticks\":\"\"}}}],\"scattercarpet\":[{\"type\":\"scattercarpet\",\"marker\":{\"colorbar\":{\"outlinewidth\":0,\"ticks\":\"\"}}}],\"carpet\":[{\"aaxis\":{\"endlinecolor\":\"#2a3f5f\",\"gridcolor\":\"white\",\"linecolor\":\"white\",\"minorgridcolor\":\"white\",\"startlinecolor\":\"#2a3f5f\"},\"baxis\":{\"endlinecolor\":\"#2a3f5f\",\"gridcolor\":\"white\",\"linecolor\":\"white\",\"minorgridcolor\":\"white\",\"startlinecolor\":\"#2a3f5f\"},\"type\":\"carpet\"}],\"table\":[{\"cells\":{\"fill\":{\"color\":\"#EBF0F8\"},\"line\":{\"color\":\"white\"}},\"header\":{\"fill\":{\"color\":\"#C8D4E3\"},\"line\":{\"color\":\"white\"}},\"type\":\"table\"}],\"barpolar\":[{\"marker\":{\"line\":{\"color\":\"#E5ECF6\",\"width\":0.5},\"pattern\":{\"fillmode\":\"overlay\",\"size\":10,\"solidity\":0.2}},\"type\":\"barpolar\"}],\"pie\":[{\"automargin\":true,\"type\":\"pie\"}]},\"layout\":{\"autotypenumbers\":\"strict\",\"colorway\":[\"#636efa\",\"#EF553B\",\"#00cc96\",\"#ab63fa\",\"#FFA15A\",\"#19d3f3\",\"#FF6692\",\"#B6E880\",\"#FF97FF\",\"#FECB52\"],\"font\":{\"color\":\"#2a3f5f\"},\"hovermode\":\"closest\",\"hoverlabel\":{\"align\":\"left\"},\"paper_bgcolor\":\"white\",\"plot_bgcolor\":\"#E5ECF6\",\"polar\":{\"bgcolor\":\"#E5ECF6\",\"angularaxis\":{\"gridcolor\":\"white\",\"linecolor\":\"white\",\"ticks\":\"\"},\"radialaxis\":{\"gridcolor\":\"white\",\"linecolor\":\"white\",\"ticks\":\"\"}},\"ternary\":{\"bgcolor\":\"#E5ECF6\",\"aaxis\":{\"gridcolor\":\"white\",\"linecolor\":\"white\",\"ticks\":\"\"},\"baxis\":{\"gridcolor\":\"white\",\"linecolor\":\"white\",\"ticks\":\"\"},\"caxis\":{\"gridcolor\":\"white\",\"linecolor\":\"white\",\"ticks\":\"\"}},\"coloraxis\":{\"colorbar\":{\"outlinewidth\":0,\"ticks\":\"\"}},\"colorscale\":{\"sequential\":[[0.0,\"#0d0887\"],[0.1111111111111111,\"#46039f\"],[0.2222222222222222,\"#7201a8\"],[0.3333333333333333,\"#9c179e\"],[0.4444444444444444,\"#bd3786\"],[0.5555555555555556,\"#d8576b\"],[0.6666666666666666,\"#ed7953\"],[0.7777777777777778,\"#fb9f3a\"],[0.8888888888888888,\"#fdca26\"],[1.0,\"#f0f921\"]],\"sequentialminus\":[[0.0,\"#0d0887\"],[0.1111111111111111,\"#46039f\"],[0.2222222222222222,\"#7201a8\"],[0.3333333333333333,\"#9c179e\"],[0.4444444444444444,\"#bd3786\"],[0.5555555555555556,\"#d8576b\"],[0.6666666666666666,\"#ed7953\"],[0.7777777777777778,\"#fb9f3a\"],[0.8888888888888888,\"#fdca26\"],[1.0,\"#f0f921\"]],\"diverging\":[[0,\"#8e0152\"],[0.1,\"#c51b7d\"],[0.2,\"#de77ae\"],[0.3,\"#f1b6da\"],[0.4,\"#fde0ef\"],[0.5,\"#f7f7f7\"],[0.6,\"#e6f5d0\"],[0.7,\"#b8e186\"],[0.8,\"#7fbc41\"],[0.9,\"#4d9221\"],[1,\"#276419\"]]},\"xaxis\":{\"gridcolor\":\"white\",\"linecolor\":\"white\",\"ticks\":\"\",\"title\":{\"standoff\":15},\"zerolinecolor\":\"white\",\"automargin\":true,\"zerolinewidth\":2},\"yaxis\":{\"gridcolor\":\"white\",\"linecolor\":\"white\",\"ticks\":\"\",\"title\":{\"standoff\":15},\"zerolinecolor\":\"white\",\"automargin\":true,\"zerolinewidth\":2},\"scene\":{\"xaxis\":{\"backgroundcolor\":\"#E5ECF6\",\"gridcolor\":\"white\",\"linecolor\":\"white\",\"showbackground\":true,\"ticks\":\"\",\"zerolinecolor\":\"white\",\"gridwidth\":2},\"yaxis\":{\"backgroundcolor\":\"#E5ECF6\",\"gridcolor\":\"white\",\"linecolor\":\"white\",\"showbackground\":true,\"ticks\":\"\",\"zerolinecolor\":\"white\",\"gridwidth\":2},\"zaxis\":{\"backgroundcolor\":\"#E5ECF6\",\"gridcolor\":\"white\",\"linecolor\":\"white\",\"showbackground\":true,\"ticks\":\"\",\"zerolinecolor\":\"white\",\"gridwidth\":2}},\"shapedefaults\":{\"line\":{\"color\":\"#2a3f5f\"}},\"annotationdefaults\":{\"arrowcolor\":\"#2a3f5f\",\"arrowhead\":0,\"arrowwidth\":1},\"geo\":{\"bgcolor\":\"white\",\"landcolor\":\"#E5ECF6\",\"subunitcolor\":\"white\",\"showland\":true,\"showlakes\":true,\"lakecolor\":\"white\"},\"title\":{\"x\":0.05},\"mapbox\":{\"style\":\"light\"}}}},                        {\"responsive\": true}                    ).then(function(){\n                            \nvar gd = document.getElementById('ae51626c-79ba-4ea0-bd96-c77b1e7cfbbb');\nvar x = new MutationObserver(function (mutations, observer) {{\n        var display = window.getComputedStyle(gd).display;\n        if (!display || display === 'none') {{\n            console.log([gd, 'removed!']);\n            Plotly.purge(gd);\n            observer.disconnect();\n        }}\n}});\n\n// Listen for the removal of the full notebook cells\nvar notebookContainer = gd.closest('#notebook-container');\nif (notebookContainer) {{\n    x.observe(notebookContainer, {childList: true});\n}}\n\n// Listen for the clearing of the current output cell\nvar outputEl = gd.closest('.output');\nif (outputEl) {{\n    x.observe(outputEl, {childList: true});\n}}\n\n                        })                };                });            </script>        </div>"
     },
     "metadata": {},
     "output_type": "display_data"
    }
   ],
   "source": [
    "df_type = DataFrame(learners)\n",
    "type_value_counts = df_type[\"track\"].value_counts()\n",
    "data = go.Pie(\n",
    "    labels=type_value_counts.index,\n",
    "    values=type_value_counts.values,\n",
    "    hole=0.5,\n",
    "    textinfo=\"percent+label\",\n",
    "    textfont={\"size\": 12},\n",
    "    hoverinfo=\"text+label+value\",\n",
    "    textposition='inside',\n",
    "    showlegend=False,\n",
    ")\n",
    "layout = go.Layout(\n",
    "    title={\n",
    "        \"text\": \"Learner Count by Track\",\n",
    "        \"font\": {\"color\": \"white\", \"size\": 24},\n",
    "    },\n",
    "    colorway=px.colors.qualitative.Antique,\n",
    "    width=640,\n",
    "    height=640,\n",
    "    paper_bgcolor=\"#333333\",\n",
    ")\n",
    "figure = go.Figure(data, layout)\n",
    "figure.show()"
   ],
   "metadata": {
    "collapsed": false,
    "pycharm": {
     "name": "#%%\n"
    }
   }
  },
  {
   "cell_type": "code",
   "execution_count": 23,
   "outputs": [
    {
     "data": {
      "application/vnd.plotly.v1+json": {
       "data": [
        {
         "hole": 0.5,
         "hoverinfo": "text+label+value",
         "labels": [
          "CoderHeroes LMS - B",
          "Underdog Devs Resource Manager - D",
          "Underdog Devs Resource Manager - B",
          "CoderHeroes LMS - C",
          "CoderHeroes LMS - A",
          "Underdog Devs Resource Manager - C",
          "Underdog Devs Resource Manager - A"
         ],
         "showlegend": false,
         "textfont": {
          "size": 12
         },
         "textinfo": "percent+label",
         "textposition": "inside",
         "values": [
          6,
          5,
          5,
          4,
          2,
          2,
          1
         ],
         "type": "pie"
        }
       ],
       "layout": {
        "colorway": [
         "rgb(133, 92, 117)",
         "rgb(217, 175, 107)",
         "rgb(175, 100, 88)",
         "rgb(115, 111, 76)",
         "rgb(82, 106, 131)",
         "rgb(98, 83, 119)",
         "rgb(104, 133, 92)",
         "rgb(156, 156, 94)",
         "rgb(160, 97, 119)",
         "rgb(140, 120, 93)",
         "rgb(124, 124, 124)"
        ],
        "height": 640,
        "paper_bgcolor": "#333333",
        "title": {
         "font": {
          "color": "white",
          "size": 24
         },
         "text": "Learner Count by Team"
        },
        "width": 640,
        "template": {
         "data": {
          "histogram2dcontour": [
           {
            "type": "histogram2dcontour",
            "colorbar": {
             "outlinewidth": 0,
             "ticks": ""
            },
            "colorscale": [
             [
              0.0,
              "#0d0887"
             ],
             [
              0.1111111111111111,
              "#46039f"
             ],
             [
              0.2222222222222222,
              "#7201a8"
             ],
             [
              0.3333333333333333,
              "#9c179e"
             ],
             [
              0.4444444444444444,
              "#bd3786"
             ],
             [
              0.5555555555555556,
              "#d8576b"
             ],
             [
              0.6666666666666666,
              "#ed7953"
             ],
             [
              0.7777777777777778,
              "#fb9f3a"
             ],
             [
              0.8888888888888888,
              "#fdca26"
             ],
             [
              1.0,
              "#f0f921"
             ]
            ]
           }
          ],
          "choropleth": [
           {
            "type": "choropleth",
            "colorbar": {
             "outlinewidth": 0,
             "ticks": ""
            }
           }
          ],
          "histogram2d": [
           {
            "type": "histogram2d",
            "colorbar": {
             "outlinewidth": 0,
             "ticks": ""
            },
            "colorscale": [
             [
              0.0,
              "#0d0887"
             ],
             [
              0.1111111111111111,
              "#46039f"
             ],
             [
              0.2222222222222222,
              "#7201a8"
             ],
             [
              0.3333333333333333,
              "#9c179e"
             ],
             [
              0.4444444444444444,
              "#bd3786"
             ],
             [
              0.5555555555555556,
              "#d8576b"
             ],
             [
              0.6666666666666666,
              "#ed7953"
             ],
             [
              0.7777777777777778,
              "#fb9f3a"
             ],
             [
              0.8888888888888888,
              "#fdca26"
             ],
             [
              1.0,
              "#f0f921"
             ]
            ]
           }
          ],
          "heatmap": [
           {
            "type": "heatmap",
            "colorbar": {
             "outlinewidth": 0,
             "ticks": ""
            },
            "colorscale": [
             [
              0.0,
              "#0d0887"
             ],
             [
              0.1111111111111111,
              "#46039f"
             ],
             [
              0.2222222222222222,
              "#7201a8"
             ],
             [
              0.3333333333333333,
              "#9c179e"
             ],
             [
              0.4444444444444444,
              "#bd3786"
             ],
             [
              0.5555555555555556,
              "#d8576b"
             ],
             [
              0.6666666666666666,
              "#ed7953"
             ],
             [
              0.7777777777777778,
              "#fb9f3a"
             ],
             [
              0.8888888888888888,
              "#fdca26"
             ],
             [
              1.0,
              "#f0f921"
             ]
            ]
           }
          ],
          "heatmapgl": [
           {
            "type": "heatmapgl",
            "colorbar": {
             "outlinewidth": 0,
             "ticks": ""
            },
            "colorscale": [
             [
              0.0,
              "#0d0887"
             ],
             [
              0.1111111111111111,
              "#46039f"
             ],
             [
              0.2222222222222222,
              "#7201a8"
             ],
             [
              0.3333333333333333,
              "#9c179e"
             ],
             [
              0.4444444444444444,
              "#bd3786"
             ],
             [
              0.5555555555555556,
              "#d8576b"
             ],
             [
              0.6666666666666666,
              "#ed7953"
             ],
             [
              0.7777777777777778,
              "#fb9f3a"
             ],
             [
              0.8888888888888888,
              "#fdca26"
             ],
             [
              1.0,
              "#f0f921"
             ]
            ]
           }
          ],
          "contourcarpet": [
           {
            "type": "contourcarpet",
            "colorbar": {
             "outlinewidth": 0,
             "ticks": ""
            }
           }
          ],
          "contour": [
           {
            "type": "contour",
            "colorbar": {
             "outlinewidth": 0,
             "ticks": ""
            },
            "colorscale": [
             [
              0.0,
              "#0d0887"
             ],
             [
              0.1111111111111111,
              "#46039f"
             ],
             [
              0.2222222222222222,
              "#7201a8"
             ],
             [
              0.3333333333333333,
              "#9c179e"
             ],
             [
              0.4444444444444444,
              "#bd3786"
             ],
             [
              0.5555555555555556,
              "#d8576b"
             ],
             [
              0.6666666666666666,
              "#ed7953"
             ],
             [
              0.7777777777777778,
              "#fb9f3a"
             ],
             [
              0.8888888888888888,
              "#fdca26"
             ],
             [
              1.0,
              "#f0f921"
             ]
            ]
           }
          ],
          "surface": [
           {
            "type": "surface",
            "colorbar": {
             "outlinewidth": 0,
             "ticks": ""
            },
            "colorscale": [
             [
              0.0,
              "#0d0887"
             ],
             [
              0.1111111111111111,
              "#46039f"
             ],
             [
              0.2222222222222222,
              "#7201a8"
             ],
             [
              0.3333333333333333,
              "#9c179e"
             ],
             [
              0.4444444444444444,
              "#bd3786"
             ],
             [
              0.5555555555555556,
              "#d8576b"
             ],
             [
              0.6666666666666666,
              "#ed7953"
             ],
             [
              0.7777777777777778,
              "#fb9f3a"
             ],
             [
              0.8888888888888888,
              "#fdca26"
             ],
             [
              1.0,
              "#f0f921"
             ]
            ]
           }
          ],
          "mesh3d": [
           {
            "type": "mesh3d",
            "colorbar": {
             "outlinewidth": 0,
             "ticks": ""
            }
           }
          ],
          "scatter": [
           {
            "fillpattern": {
             "fillmode": "overlay",
             "size": 10,
             "solidity": 0.2
            },
            "type": "scatter"
           }
          ],
          "parcoords": [
           {
            "type": "parcoords",
            "line": {
             "colorbar": {
              "outlinewidth": 0,
              "ticks": ""
             }
            }
           }
          ],
          "scatterpolargl": [
           {
            "type": "scatterpolargl",
            "marker": {
             "colorbar": {
              "outlinewidth": 0,
              "ticks": ""
             }
            }
           }
          ],
          "bar": [
           {
            "error_x": {
             "color": "#2a3f5f"
            },
            "error_y": {
             "color": "#2a3f5f"
            },
            "marker": {
             "line": {
              "color": "#E5ECF6",
              "width": 0.5
             },
             "pattern": {
              "fillmode": "overlay",
              "size": 10,
              "solidity": 0.2
             }
            },
            "type": "bar"
           }
          ],
          "scattergeo": [
           {
            "type": "scattergeo",
            "marker": {
             "colorbar": {
              "outlinewidth": 0,
              "ticks": ""
             }
            }
           }
          ],
          "scatterpolar": [
           {
            "type": "scatterpolar",
            "marker": {
             "colorbar": {
              "outlinewidth": 0,
              "ticks": ""
             }
            }
           }
          ],
          "histogram": [
           {
            "marker": {
             "pattern": {
              "fillmode": "overlay",
              "size": 10,
              "solidity": 0.2
             }
            },
            "type": "histogram"
           }
          ],
          "scattergl": [
           {
            "type": "scattergl",
            "marker": {
             "colorbar": {
              "outlinewidth": 0,
              "ticks": ""
             }
            }
           }
          ],
          "scatter3d": [
           {
            "type": "scatter3d",
            "line": {
             "colorbar": {
              "outlinewidth": 0,
              "ticks": ""
             }
            },
            "marker": {
             "colorbar": {
              "outlinewidth": 0,
              "ticks": ""
             }
            }
           }
          ],
          "scattermapbox": [
           {
            "type": "scattermapbox",
            "marker": {
             "colorbar": {
              "outlinewidth": 0,
              "ticks": ""
             }
            }
           }
          ],
          "scatterternary": [
           {
            "type": "scatterternary",
            "marker": {
             "colorbar": {
              "outlinewidth": 0,
              "ticks": ""
             }
            }
           }
          ],
          "scattercarpet": [
           {
            "type": "scattercarpet",
            "marker": {
             "colorbar": {
              "outlinewidth": 0,
              "ticks": ""
             }
            }
           }
          ],
          "carpet": [
           {
            "aaxis": {
             "endlinecolor": "#2a3f5f",
             "gridcolor": "white",
             "linecolor": "white",
             "minorgridcolor": "white",
             "startlinecolor": "#2a3f5f"
            },
            "baxis": {
             "endlinecolor": "#2a3f5f",
             "gridcolor": "white",
             "linecolor": "white",
             "minorgridcolor": "white",
             "startlinecolor": "#2a3f5f"
            },
            "type": "carpet"
           }
          ],
          "table": [
           {
            "cells": {
             "fill": {
              "color": "#EBF0F8"
             },
             "line": {
              "color": "white"
             }
            },
            "header": {
             "fill": {
              "color": "#C8D4E3"
             },
             "line": {
              "color": "white"
             }
            },
            "type": "table"
           }
          ],
          "barpolar": [
           {
            "marker": {
             "line": {
              "color": "#E5ECF6",
              "width": 0.5
             },
             "pattern": {
              "fillmode": "overlay",
              "size": 10,
              "solidity": 0.2
             }
            },
            "type": "barpolar"
           }
          ],
          "pie": [
           {
            "automargin": true,
            "type": "pie"
           }
          ]
         },
         "layout": {
          "autotypenumbers": "strict",
          "colorway": [
           "#636efa",
           "#EF553B",
           "#00cc96",
           "#ab63fa",
           "#FFA15A",
           "#19d3f3",
           "#FF6692",
           "#B6E880",
           "#FF97FF",
           "#FECB52"
          ],
          "font": {
           "color": "#2a3f5f"
          },
          "hovermode": "closest",
          "hoverlabel": {
           "align": "left"
          },
          "paper_bgcolor": "white",
          "plot_bgcolor": "#E5ECF6",
          "polar": {
           "bgcolor": "#E5ECF6",
           "angularaxis": {
            "gridcolor": "white",
            "linecolor": "white",
            "ticks": ""
           },
           "radialaxis": {
            "gridcolor": "white",
            "linecolor": "white",
            "ticks": ""
           }
          },
          "ternary": {
           "bgcolor": "#E5ECF6",
           "aaxis": {
            "gridcolor": "white",
            "linecolor": "white",
            "ticks": ""
           },
           "baxis": {
            "gridcolor": "white",
            "linecolor": "white",
            "ticks": ""
           },
           "caxis": {
            "gridcolor": "white",
            "linecolor": "white",
            "ticks": ""
           }
          },
          "coloraxis": {
           "colorbar": {
            "outlinewidth": 0,
            "ticks": ""
           }
          },
          "colorscale": {
           "sequential": [
            [
             0.0,
             "#0d0887"
            ],
            [
             0.1111111111111111,
             "#46039f"
            ],
            [
             0.2222222222222222,
             "#7201a8"
            ],
            [
             0.3333333333333333,
             "#9c179e"
            ],
            [
             0.4444444444444444,
             "#bd3786"
            ],
            [
             0.5555555555555556,
             "#d8576b"
            ],
            [
             0.6666666666666666,
             "#ed7953"
            ],
            [
             0.7777777777777778,
             "#fb9f3a"
            ],
            [
             0.8888888888888888,
             "#fdca26"
            ],
            [
             1.0,
             "#f0f921"
            ]
           ],
           "sequentialminus": [
            [
             0.0,
             "#0d0887"
            ],
            [
             0.1111111111111111,
             "#46039f"
            ],
            [
             0.2222222222222222,
             "#7201a8"
            ],
            [
             0.3333333333333333,
             "#9c179e"
            ],
            [
             0.4444444444444444,
             "#bd3786"
            ],
            [
             0.5555555555555556,
             "#d8576b"
            ],
            [
             0.6666666666666666,
             "#ed7953"
            ],
            [
             0.7777777777777778,
             "#fb9f3a"
            ],
            [
             0.8888888888888888,
             "#fdca26"
            ],
            [
             1.0,
             "#f0f921"
            ]
           ],
           "diverging": [
            [
             0,
             "#8e0152"
            ],
            [
             0.1,
             "#c51b7d"
            ],
            [
             0.2,
             "#de77ae"
            ],
            [
             0.3,
             "#f1b6da"
            ],
            [
             0.4,
             "#fde0ef"
            ],
            [
             0.5,
             "#f7f7f7"
            ],
            [
             0.6,
             "#e6f5d0"
            ],
            [
             0.7,
             "#b8e186"
            ],
            [
             0.8,
             "#7fbc41"
            ],
            [
             0.9,
             "#4d9221"
            ],
            [
             1,
             "#276419"
            ]
           ]
          },
          "xaxis": {
           "gridcolor": "white",
           "linecolor": "white",
           "ticks": "",
           "title": {
            "standoff": 15
           },
           "zerolinecolor": "white",
           "automargin": true,
           "zerolinewidth": 2
          },
          "yaxis": {
           "gridcolor": "white",
           "linecolor": "white",
           "ticks": "",
           "title": {
            "standoff": 15
           },
           "zerolinecolor": "white",
           "automargin": true,
           "zerolinewidth": 2
          },
          "scene": {
           "xaxis": {
            "backgroundcolor": "#E5ECF6",
            "gridcolor": "white",
            "linecolor": "white",
            "showbackground": true,
            "ticks": "",
            "zerolinecolor": "white",
            "gridwidth": 2
           },
           "yaxis": {
            "backgroundcolor": "#E5ECF6",
            "gridcolor": "white",
            "linecolor": "white",
            "showbackground": true,
            "ticks": "",
            "zerolinecolor": "white",
            "gridwidth": 2
           },
           "zaxis": {
            "backgroundcolor": "#E5ECF6",
            "gridcolor": "white",
            "linecolor": "white",
            "showbackground": true,
            "ticks": "",
            "zerolinecolor": "white",
            "gridwidth": 2
           }
          },
          "shapedefaults": {
           "line": {
            "color": "#2a3f5f"
           }
          },
          "annotationdefaults": {
           "arrowcolor": "#2a3f5f",
           "arrowhead": 0,
           "arrowwidth": 1
          },
          "geo": {
           "bgcolor": "white",
           "landcolor": "#E5ECF6",
           "subunitcolor": "white",
           "showland": true,
           "showlakes": true,
           "lakecolor": "white"
          },
          "title": {
           "x": 0.05
          },
          "mapbox": {
           "style": "light"
          }
         }
        }
       },
       "config": {
        "plotlyServerURL": "https://plot.ly"
       }
      },
      "text/html": "<div>                            <div id=\"5d632eba-f0bf-4701-bb3d-e72cc42e87fe\" class=\"plotly-graph-div\" style=\"height:640px; width:640px;\"></div>            <script type=\"text/javascript\">                require([\"plotly\"], function(Plotly) {                    window.PLOTLYENV=window.PLOTLYENV || {};                                    if (document.getElementById(\"5d632eba-f0bf-4701-bb3d-e72cc42e87fe\")) {                    Plotly.newPlot(                        \"5d632eba-f0bf-4701-bb3d-e72cc42e87fe\",                        [{\"hole\":0.5,\"hoverinfo\":\"text+label+value\",\"labels\":[\"CoderHeroes LMS - B\",\"Underdog Devs Resource Manager - D\",\"Underdog Devs Resource Manager - B\",\"CoderHeroes LMS - C\",\"CoderHeroes LMS - A\",\"Underdog Devs Resource Manager - C\",\"Underdog Devs Resource Manager - A\"],\"showlegend\":false,\"textfont\":{\"size\":12},\"textinfo\":\"percent+label\",\"textposition\":\"inside\",\"values\":[6,5,5,4,2,2,1],\"type\":\"pie\"}],                        {\"colorway\":[\"rgb(133, 92, 117)\",\"rgb(217, 175, 107)\",\"rgb(175, 100, 88)\",\"rgb(115, 111, 76)\",\"rgb(82, 106, 131)\",\"rgb(98, 83, 119)\",\"rgb(104, 133, 92)\",\"rgb(156, 156, 94)\",\"rgb(160, 97, 119)\",\"rgb(140, 120, 93)\",\"rgb(124, 124, 124)\"],\"height\":640,\"paper_bgcolor\":\"#333333\",\"title\":{\"font\":{\"color\":\"white\",\"size\":24},\"text\":\"Learner Count by Team\"},\"width\":640,\"template\":{\"data\":{\"histogram2dcontour\":[{\"type\":\"histogram2dcontour\",\"colorbar\":{\"outlinewidth\":0,\"ticks\":\"\"},\"colorscale\":[[0.0,\"#0d0887\"],[0.1111111111111111,\"#46039f\"],[0.2222222222222222,\"#7201a8\"],[0.3333333333333333,\"#9c179e\"],[0.4444444444444444,\"#bd3786\"],[0.5555555555555556,\"#d8576b\"],[0.6666666666666666,\"#ed7953\"],[0.7777777777777778,\"#fb9f3a\"],[0.8888888888888888,\"#fdca26\"],[1.0,\"#f0f921\"]]}],\"choropleth\":[{\"type\":\"choropleth\",\"colorbar\":{\"outlinewidth\":0,\"ticks\":\"\"}}],\"histogram2d\":[{\"type\":\"histogram2d\",\"colorbar\":{\"outlinewidth\":0,\"ticks\":\"\"},\"colorscale\":[[0.0,\"#0d0887\"],[0.1111111111111111,\"#46039f\"],[0.2222222222222222,\"#7201a8\"],[0.3333333333333333,\"#9c179e\"],[0.4444444444444444,\"#bd3786\"],[0.5555555555555556,\"#d8576b\"],[0.6666666666666666,\"#ed7953\"],[0.7777777777777778,\"#fb9f3a\"],[0.8888888888888888,\"#fdca26\"],[1.0,\"#f0f921\"]]}],\"heatmap\":[{\"type\":\"heatmap\",\"colorbar\":{\"outlinewidth\":0,\"ticks\":\"\"},\"colorscale\":[[0.0,\"#0d0887\"],[0.1111111111111111,\"#46039f\"],[0.2222222222222222,\"#7201a8\"],[0.3333333333333333,\"#9c179e\"],[0.4444444444444444,\"#bd3786\"],[0.5555555555555556,\"#d8576b\"],[0.6666666666666666,\"#ed7953\"],[0.7777777777777778,\"#fb9f3a\"],[0.8888888888888888,\"#fdca26\"],[1.0,\"#f0f921\"]]}],\"heatmapgl\":[{\"type\":\"heatmapgl\",\"colorbar\":{\"outlinewidth\":0,\"ticks\":\"\"},\"colorscale\":[[0.0,\"#0d0887\"],[0.1111111111111111,\"#46039f\"],[0.2222222222222222,\"#7201a8\"],[0.3333333333333333,\"#9c179e\"],[0.4444444444444444,\"#bd3786\"],[0.5555555555555556,\"#d8576b\"],[0.6666666666666666,\"#ed7953\"],[0.7777777777777778,\"#fb9f3a\"],[0.8888888888888888,\"#fdca26\"],[1.0,\"#f0f921\"]]}],\"contourcarpet\":[{\"type\":\"contourcarpet\",\"colorbar\":{\"outlinewidth\":0,\"ticks\":\"\"}}],\"contour\":[{\"type\":\"contour\",\"colorbar\":{\"outlinewidth\":0,\"ticks\":\"\"},\"colorscale\":[[0.0,\"#0d0887\"],[0.1111111111111111,\"#46039f\"],[0.2222222222222222,\"#7201a8\"],[0.3333333333333333,\"#9c179e\"],[0.4444444444444444,\"#bd3786\"],[0.5555555555555556,\"#d8576b\"],[0.6666666666666666,\"#ed7953\"],[0.7777777777777778,\"#fb9f3a\"],[0.8888888888888888,\"#fdca26\"],[1.0,\"#f0f921\"]]}],\"surface\":[{\"type\":\"surface\",\"colorbar\":{\"outlinewidth\":0,\"ticks\":\"\"},\"colorscale\":[[0.0,\"#0d0887\"],[0.1111111111111111,\"#46039f\"],[0.2222222222222222,\"#7201a8\"],[0.3333333333333333,\"#9c179e\"],[0.4444444444444444,\"#bd3786\"],[0.5555555555555556,\"#d8576b\"],[0.6666666666666666,\"#ed7953\"],[0.7777777777777778,\"#fb9f3a\"],[0.8888888888888888,\"#fdca26\"],[1.0,\"#f0f921\"]]}],\"mesh3d\":[{\"type\":\"mesh3d\",\"colorbar\":{\"outlinewidth\":0,\"ticks\":\"\"}}],\"scatter\":[{\"fillpattern\":{\"fillmode\":\"overlay\",\"size\":10,\"solidity\":0.2},\"type\":\"scatter\"}],\"parcoords\":[{\"type\":\"parcoords\",\"line\":{\"colorbar\":{\"outlinewidth\":0,\"ticks\":\"\"}}}],\"scatterpolargl\":[{\"type\":\"scatterpolargl\",\"marker\":{\"colorbar\":{\"outlinewidth\":0,\"ticks\":\"\"}}}],\"bar\":[{\"error_x\":{\"color\":\"#2a3f5f\"},\"error_y\":{\"color\":\"#2a3f5f\"},\"marker\":{\"line\":{\"color\":\"#E5ECF6\",\"width\":0.5},\"pattern\":{\"fillmode\":\"overlay\",\"size\":10,\"solidity\":0.2}},\"type\":\"bar\"}],\"scattergeo\":[{\"type\":\"scattergeo\",\"marker\":{\"colorbar\":{\"outlinewidth\":0,\"ticks\":\"\"}}}],\"scatterpolar\":[{\"type\":\"scatterpolar\",\"marker\":{\"colorbar\":{\"outlinewidth\":0,\"ticks\":\"\"}}}],\"histogram\":[{\"marker\":{\"pattern\":{\"fillmode\":\"overlay\",\"size\":10,\"solidity\":0.2}},\"type\":\"histogram\"}],\"scattergl\":[{\"type\":\"scattergl\",\"marker\":{\"colorbar\":{\"outlinewidth\":0,\"ticks\":\"\"}}}],\"scatter3d\":[{\"type\":\"scatter3d\",\"line\":{\"colorbar\":{\"outlinewidth\":0,\"ticks\":\"\"}},\"marker\":{\"colorbar\":{\"outlinewidth\":0,\"ticks\":\"\"}}}],\"scattermapbox\":[{\"type\":\"scattermapbox\",\"marker\":{\"colorbar\":{\"outlinewidth\":0,\"ticks\":\"\"}}}],\"scatterternary\":[{\"type\":\"scatterternary\",\"marker\":{\"colorbar\":{\"outlinewidth\":0,\"ticks\":\"\"}}}],\"scattercarpet\":[{\"type\":\"scattercarpet\",\"marker\":{\"colorbar\":{\"outlinewidth\":0,\"ticks\":\"\"}}}],\"carpet\":[{\"aaxis\":{\"endlinecolor\":\"#2a3f5f\",\"gridcolor\":\"white\",\"linecolor\":\"white\",\"minorgridcolor\":\"white\",\"startlinecolor\":\"#2a3f5f\"},\"baxis\":{\"endlinecolor\":\"#2a3f5f\",\"gridcolor\":\"white\",\"linecolor\":\"white\",\"minorgridcolor\":\"white\",\"startlinecolor\":\"#2a3f5f\"},\"type\":\"carpet\"}],\"table\":[{\"cells\":{\"fill\":{\"color\":\"#EBF0F8\"},\"line\":{\"color\":\"white\"}},\"header\":{\"fill\":{\"color\":\"#C8D4E3\"},\"line\":{\"color\":\"white\"}},\"type\":\"table\"}],\"barpolar\":[{\"marker\":{\"line\":{\"color\":\"#E5ECF6\",\"width\":0.5},\"pattern\":{\"fillmode\":\"overlay\",\"size\":10,\"solidity\":0.2}},\"type\":\"barpolar\"}],\"pie\":[{\"automargin\":true,\"type\":\"pie\"}]},\"layout\":{\"autotypenumbers\":\"strict\",\"colorway\":[\"#636efa\",\"#EF553B\",\"#00cc96\",\"#ab63fa\",\"#FFA15A\",\"#19d3f3\",\"#FF6692\",\"#B6E880\",\"#FF97FF\",\"#FECB52\"],\"font\":{\"color\":\"#2a3f5f\"},\"hovermode\":\"closest\",\"hoverlabel\":{\"align\":\"left\"},\"paper_bgcolor\":\"white\",\"plot_bgcolor\":\"#E5ECF6\",\"polar\":{\"bgcolor\":\"#E5ECF6\",\"angularaxis\":{\"gridcolor\":\"white\",\"linecolor\":\"white\",\"ticks\":\"\"},\"radialaxis\":{\"gridcolor\":\"white\",\"linecolor\":\"white\",\"ticks\":\"\"}},\"ternary\":{\"bgcolor\":\"#E5ECF6\",\"aaxis\":{\"gridcolor\":\"white\",\"linecolor\":\"white\",\"ticks\":\"\"},\"baxis\":{\"gridcolor\":\"white\",\"linecolor\":\"white\",\"ticks\":\"\"},\"caxis\":{\"gridcolor\":\"white\",\"linecolor\":\"white\",\"ticks\":\"\"}},\"coloraxis\":{\"colorbar\":{\"outlinewidth\":0,\"ticks\":\"\"}},\"colorscale\":{\"sequential\":[[0.0,\"#0d0887\"],[0.1111111111111111,\"#46039f\"],[0.2222222222222222,\"#7201a8\"],[0.3333333333333333,\"#9c179e\"],[0.4444444444444444,\"#bd3786\"],[0.5555555555555556,\"#d8576b\"],[0.6666666666666666,\"#ed7953\"],[0.7777777777777778,\"#fb9f3a\"],[0.8888888888888888,\"#fdca26\"],[1.0,\"#f0f921\"]],\"sequentialminus\":[[0.0,\"#0d0887\"],[0.1111111111111111,\"#46039f\"],[0.2222222222222222,\"#7201a8\"],[0.3333333333333333,\"#9c179e\"],[0.4444444444444444,\"#bd3786\"],[0.5555555555555556,\"#d8576b\"],[0.6666666666666666,\"#ed7953\"],[0.7777777777777778,\"#fb9f3a\"],[0.8888888888888888,\"#fdca26\"],[1.0,\"#f0f921\"]],\"diverging\":[[0,\"#8e0152\"],[0.1,\"#c51b7d\"],[0.2,\"#de77ae\"],[0.3,\"#f1b6da\"],[0.4,\"#fde0ef\"],[0.5,\"#f7f7f7\"],[0.6,\"#e6f5d0\"],[0.7,\"#b8e186\"],[0.8,\"#7fbc41\"],[0.9,\"#4d9221\"],[1,\"#276419\"]]},\"xaxis\":{\"gridcolor\":\"white\",\"linecolor\":\"white\",\"ticks\":\"\",\"title\":{\"standoff\":15},\"zerolinecolor\":\"white\",\"automargin\":true,\"zerolinewidth\":2},\"yaxis\":{\"gridcolor\":\"white\",\"linecolor\":\"white\",\"ticks\":\"\",\"title\":{\"standoff\":15},\"zerolinecolor\":\"white\",\"automargin\":true,\"zerolinewidth\":2},\"scene\":{\"xaxis\":{\"backgroundcolor\":\"#E5ECF6\",\"gridcolor\":\"white\",\"linecolor\":\"white\",\"showbackground\":true,\"ticks\":\"\",\"zerolinecolor\":\"white\",\"gridwidth\":2},\"yaxis\":{\"backgroundcolor\":\"#E5ECF6\",\"gridcolor\":\"white\",\"linecolor\":\"white\",\"showbackground\":true,\"ticks\":\"\",\"zerolinecolor\":\"white\",\"gridwidth\":2},\"zaxis\":{\"backgroundcolor\":\"#E5ECF6\",\"gridcolor\":\"white\",\"linecolor\":\"white\",\"showbackground\":true,\"ticks\":\"\",\"zerolinecolor\":\"white\",\"gridwidth\":2}},\"shapedefaults\":{\"line\":{\"color\":\"#2a3f5f\"}},\"annotationdefaults\":{\"arrowcolor\":\"#2a3f5f\",\"arrowhead\":0,\"arrowwidth\":1},\"geo\":{\"bgcolor\":\"white\",\"landcolor\":\"#E5ECF6\",\"subunitcolor\":\"white\",\"showland\":true,\"showlakes\":true,\"lakecolor\":\"white\"},\"title\":{\"x\":0.05},\"mapbox\":{\"style\":\"light\"}}}},                        {\"responsive\": true}                    ).then(function(){\n                            \nvar gd = document.getElementById('5d632eba-f0bf-4701-bb3d-e72cc42e87fe');\nvar x = new MutationObserver(function (mutations, observer) {{\n        var display = window.getComputedStyle(gd).display;\n        if (!display || display === 'none') {{\n            console.log([gd, 'removed!']);\n            Plotly.purge(gd);\n            observer.disconnect();\n        }}\n}});\n\n// Listen for the removal of the full notebook cells\nvar notebookContainer = gd.closest('#notebook-container');\nif (notebookContainer) {{\n    x.observe(notebookContainer, {childList: true});\n}}\n\n// Listen for the clearing of the current output cell\nvar outputEl = gd.closest('.output');\nif (outputEl) {{\n    x.observe(outputEl, {childList: true});\n}}\n\n                        })                };                });            </script>        </div>"
     },
     "metadata": {},
     "output_type": "display_data"
    }
   ],
   "source": [
    "df_type = DataFrame(learners)\n",
    "type_value_counts = df_type[\"labsProject\"].value_counts()\n",
    "data = go.Pie(\n",
    "    labels=type_value_counts.index,\n",
    "    values=type_value_counts.values,\n",
    "    hole=0.5,\n",
    "    textinfo=\"percent+label\",\n",
    "    textfont={\"size\": 12},\n",
    "    hoverinfo=\"text+label+value\",\n",
    "    textposition='inside',\n",
    "    showlegend=False,\n",
    ")\n",
    "layout = go.Layout(\n",
    "    title={\n",
    "        \"text\": \"Learner Count by Team\",\n",
    "        \"font\": {\"color\": \"white\", \"size\": 24},\n",
    "    },\n",
    "    colorway=px.colors.qualitative.Antique,\n",
    "    width=640,\n",
    "    height=640,\n",
    "    paper_bgcolor=\"#333333\",\n",
    ")\n",
    "figure = go.Figure(data, layout)\n",
    "figure.show()"
   ],
   "metadata": {
    "collapsed": false,
    "pycharm": {
     "name": "#%%\n"
    }
   }
  },
  {
   "cell_type": "code",
   "execution_count": 24,
   "outputs": [
    {
     "data": {
      "text/plain": "                                   id                         product  \\\n0                 CoderHeroes LMS - A                 CoderHeroes LMS   \n1                 CoderHeroes LMS - B                 CoderHeroes LMS   \n2                 CoderHeroes LMS - C                 CoderHeroes LMS   \n3  Underdog Devs Resource Manager - A  Underdog Devs Resource Manager   \n4  Underdog Devs Resource Manager - B  Underdog Devs Resource Manager   \n5  Underdog Devs Resource Manager - C  Underdog Devs Resource Manager   \n6  Underdog Devs Resource Manager - D  Underdog Devs Resource Manager   \n\n  teamCode     tracks    releaseManager  \\\n0        A      [Web]  Paul St. Germain   \n1        B      [Web]  Paul St. Germain   \n2        C      [Web]  Paul St. Germain   \n3        A  [Web, DS]  Paul St. Germain   \n4        B  [Web, DS]  Paul St. Germain   \n5        C  [Web, DS]  Paul St. Germain   \n6        D  [Web, DS]  Paul St. Germain   \n\n                                    teamMemberSmtIds  \n0  [recGFEAigkNbkO1js, receDXaeqwZc3JbQS, recw0Gu...  \n1  [73d00e5b-2050-45d6-a2eb-cd906867789d, c55a2d0...  \n2  [73d00e5b-2050-45d6-a2eb-cd906867789d, dd07c76...  \n3  [recOHmUGVGixKPdB0, recLrZ6zicTsoEVtU, recjUDu...  \n4  [rec8q1GtyJQZtRL5J, rec7QBi0H3ZSRkxuO, recVBpd...  \n5  [recXybk2QlMTHQb7g, recYju3zskQfxwPBe, rectNMp...  \n6  [recpR3jAL5nb0D8Ea, recfu0WsvTyZVYegf, recYo2Y...  ",
      "text/html": "<div>\n<style scoped>\n    .dataframe tbody tr th:only-of-type {\n        vertical-align: middle;\n    }\n\n    .dataframe tbody tr th {\n        vertical-align: top;\n    }\n\n    .dataframe thead th {\n        text-align: right;\n    }\n</style>\n<table border=\"1\" class=\"dataframe\">\n  <thead>\n    <tr style=\"text-align: right;\">\n      <th></th>\n      <th>id</th>\n      <th>product</th>\n      <th>teamCode</th>\n      <th>tracks</th>\n      <th>releaseManager</th>\n      <th>teamMemberSmtIds</th>\n    </tr>\n  </thead>\n  <tbody>\n    <tr>\n      <th>0</th>\n      <td>CoderHeroes LMS - A</td>\n      <td>CoderHeroes LMS</td>\n      <td>A</td>\n      <td>[Web]</td>\n      <td>Paul St. Germain</td>\n      <td>[recGFEAigkNbkO1js, receDXaeqwZc3JbQS, recw0Gu...</td>\n    </tr>\n    <tr>\n      <th>1</th>\n      <td>CoderHeroes LMS - B</td>\n      <td>CoderHeroes LMS</td>\n      <td>B</td>\n      <td>[Web]</td>\n      <td>Paul St. Germain</td>\n      <td>[73d00e5b-2050-45d6-a2eb-cd906867789d, c55a2d0...</td>\n    </tr>\n    <tr>\n      <th>2</th>\n      <td>CoderHeroes LMS - C</td>\n      <td>CoderHeroes LMS</td>\n      <td>C</td>\n      <td>[Web]</td>\n      <td>Paul St. Germain</td>\n      <td>[73d00e5b-2050-45d6-a2eb-cd906867789d, dd07c76...</td>\n    </tr>\n    <tr>\n      <th>3</th>\n      <td>Underdog Devs Resource Manager - A</td>\n      <td>Underdog Devs Resource Manager</td>\n      <td>A</td>\n      <td>[Web, DS]</td>\n      <td>Paul St. Germain</td>\n      <td>[recOHmUGVGixKPdB0, recLrZ6zicTsoEVtU, recjUDu...</td>\n    </tr>\n    <tr>\n      <th>4</th>\n      <td>Underdog Devs Resource Manager - B</td>\n      <td>Underdog Devs Resource Manager</td>\n      <td>B</td>\n      <td>[Web, DS]</td>\n      <td>Paul St. Germain</td>\n      <td>[rec8q1GtyJQZtRL5J, rec7QBi0H3ZSRkxuO, recVBpd...</td>\n    </tr>\n    <tr>\n      <th>5</th>\n      <td>Underdog Devs Resource Manager - C</td>\n      <td>Underdog Devs Resource Manager</td>\n      <td>C</td>\n      <td>[Web, DS]</td>\n      <td>Paul St. Germain</td>\n      <td>[recXybk2QlMTHQb7g, recYju3zskQfxwPBe, rectNMp...</td>\n    </tr>\n    <tr>\n      <th>6</th>\n      <td>Underdog Devs Resource Manager - D</td>\n      <td>Underdog Devs Resource Manager</td>\n      <td>D</td>\n      <td>[Web, DS]</td>\n      <td>Paul St. Germain</td>\n      <td>[recpR3jAL5nb0D8Ea, recfu0WsvTyZVYegf, recYo2Y...</td>\n    </tr>\n  </tbody>\n</table>\n</div>"
     },
     "execution_count": 24,
     "metadata": {},
     "output_type": "execute_result"
    }
   ],
   "source": [
    "projects_df = DataFrame(projects)\n",
    "projects_df"
   ],
   "metadata": {
    "collapsed": false,
    "pycharm": {
     "name": "#%%\n"
    }
   }
  },
  {
   "cell_type": "code",
   "execution_count": 25,
   "outputs": [
    {
     "data": {
      "text/plain": "                                lambdaId                name track  \\\n0   73d00e5b-2050-45d6-a2eb-cd906867789d           Adam Hunt   Web   \n1   c55a2d00-599b-4588-8c13-251692faebf8           Raj Patel   Web   \n2   dd07c762-9c56-4ca9-9285-a2d306f84476         Aaron Reyes   Web   \n3   9f792c79-1e6f-4418-bd27-0df6ad7dcaac           John Merz   Web   \n4   ae6a68ec-7ecb-445d-941c-4a09fa7b566e      Sagun Shrestha   Web   \n5   a670f4ad-fe41-44d5-a0f7-8fedfa1c772c      Luis Dominguez   Web   \n6   b0ca7feb-291e-4588-8ee0-524c0627c2ef    Nelson Maldonado   Web   \n7   d4587aa2-53a9-4074-9222-27956303331a     Mitchell Walker   Web   \n8   2958f9be-d1b2-49c9-b86e-3f5d124268f9           Zach Rock    DS   \n9   b8b7664d-ff4d-48ab-a01a-06710a5508be       Dylan Budnick    DS   \n10  d7100db6-f277-48cf-9d48-0d1ef255a6f6             Ted Kim   Web   \n11  f887e0ab-ab6e-4a05-a64b-66937c223619        Kenji Greene   Web   \n12  afea0fb9-70a1-4b79-b129-f476399ab123      Mohamed Mosaed    DS   \n13  78853c22-0d21-4daa-87a6-937e33324045     Christian Smith   Web   \n14  ef85b36a-591a-4093-835e-5ac7652e307b    Collyn Godlewski   Web   \n15  16de6ec2-3e65-4eee-9b7e-3e60f3a155b7           Jeong Pak   Web   \n16  ffc7379c-39f9-4508-80b8-f396be559793      Scott Reynders    DS   \n17  e2bb0f93-63ad-44d6-ae1e-28c44651eff6  Benedict Schurwanz   Web   \n18  0087977b-6b04-471c-9494-18721fda6cf4        Monica Salas   Web   \n19  5be0166f-e6c2-4813-adf8-a0210f75cea7     Vernon Bengtson   Web   \n20  b38ff94e-a5ec-49e4-83ac-21a7ecd5b839      Robert Stetson   Web   \n21  a18431a4-de29-4894-80bb-3e16068e89fa         Andrew Hunt   Web   \n22  d75834c3-58bc-42f0-a9f3-6dc2576099b9         Adam Hinton   Web   \n23  91a26f57-5afa-4b2b-b135-6e8d7efa898d    Mudesir Suleyman    DS   \n24  c2172a80-57ed-4275-9214-b417fdfa8860      Nyamekye Annor   Web   \n\n                           labsProject  gitExpertise  dockerExpertise  \\\n0                  CoderHeroes LMS - C             4                1   \n1                  CoderHeroes LMS - B             4                1   \n2   Underdog Devs Resource Manager - D             3                1   \n3                  CoderHeroes LMS - A             4                1   \n4                  CoderHeroes LMS - C             4                1   \n5                  CoderHeroes LMS - B             3                1   \n6                  CoderHeroes LMS - A             5                3   \n7   Underdog Devs Resource Manager - B             4                1   \n8   Underdog Devs Resource Manager - C             3                3   \n9   Underdog Devs Resource Manager - D             4                4   \n10                 CoderHeroes LMS - C             4                3   \n11                 CoderHeroes LMS - B             5                1   \n12  Underdog Devs Resource Manager - C             4                3   \n13  Underdog Devs Resource Manager - B             4                1   \n14  Underdog Devs Resource Manager - A             4                1   \n15  Underdog Devs Resource Manager - D             3                1   \n16  Underdog Devs Resource Manager - B             3                1   \n17                 CoderHeroes LMS - C             4                1   \n18                 CoderHeroes LMS - B             4                1   \n19  Underdog Devs Resource Manager - D             4                1   \n20  Underdog Devs Resource Manager - B             4                3   \n21                 CoderHeroes LMS - B             3                1   \n22  Underdog Devs Resource Manager - D             4                1   \n23  Underdog Devs Resource Manager - B             3                3   \n24                 CoderHeroes LMS - B             4                2   \n\n    playByEar  detailOriented  speakUpInDiscussions soloOrSocial  ...  \\\n0           3               3                     3    B. Social  ...   \n1           3               3                     3    B. Social  ...   \n2           4               3                     2      A. Solo  ...   \n3           3               5                     5    B. Social  ...   \n4           2               2                     3      A. Solo  ...   \n5           5               1                     2    B. Social  ...   \n6           3               1                     3      A. Solo  ...   \n7           3               3                     3    B. Social  ...   \n8           1               2                     5    B. Social  ...   \n9           3               4                     4    B. Social  ...   \n10          3               3                     4    B. Social  ...   \n11          3               2                     3      A. Solo  ...   \n12          5               1                     2    B. Social  ...   \n13          4               5                     3      A. Solo  ...   \n14          3               2                     2      A. Solo  ...   \n15          5               5                     5      A. Solo  ...   \n16          1               1                     3    B. Social  ...   \n17          2               2                     2      A. Solo  ...   \n18          3               3                     3      A. Solo  ...   \n19          1               3                     3    B. Social  ...   \n20          2               3                     4    B. Social  ...   \n21          3               2                     1      A. Solo  ...   \n22          2               2                     4      A. Solo  ...   \n23          3               3                     3    B. Social  ...   \n24          5               1                     4            A  ...   \n\n   mlOpsInterest2 mlOpsInterest3 tpmSkillRank tpmInterestRank uxInterestRank  \\\n0               3              2     0.333333          0.5000          0.625   \n1               2              3     0.333333          0.5625          0.375   \n2               2              2     0.000000          0.6250          0.625   \n3               2              2     0.666667          0.6875          0.875   \n4               2              2     0.000000          0.6250          0.375   \n5               2              2     1.000000          0.6250          0.500   \n6               3              3     0.333333          0.6875          0.625   \n7               2              3     0.333333          0.6875          0.750   \n8               1              2     0.000000          0.6875            NaN   \n9               1              1     0.000000          0.6875            NaN   \n10              3              2     0.333333          0.5625          0.500   \n11              2              2     0.333333          0.5625          0.750   \n12              1              2     0.333333          0.5625            NaN   \n13              3              3     0.000000          0.5625          0.625   \n14              2              3     0.000000          0.6250          0.500   \n15              2              2     0.666667          0.5625          0.625   \n16              4              4     0.666667          0.5625            NaN   \n17              2              2     0.666667          0.5000          0.625   \n18              3              3     0.666667          0.5625          0.500   \n19              2              3     0.333333          0.6250          1.000   \n20              2              3     0.666667          0.6875          0.500   \n21              3              3     0.333333          0.5000          0.500   \n22              3              3     0.333333          0.5625          0.375   \n23              2              4     0.000000          0.6875            NaN   \n24              3              2     0.333333          0.7500          0.250   \n\n   frontendInterestRank  backendInterestRank  dataEngInterestRank  \\\n0                 0.625                0.875                  NaN   \n1                 0.750                0.625                  NaN   \n2                 0.500                0.750                  NaN   \n3                 0.250                0.875                  NaN   \n4                 0.750                0.500                  NaN   \n5                 0.375                0.500                  NaN   \n6                 0.875                0.750                  NaN   \n7                 0.625                0.875                  NaN   \n8                   NaN                  NaN             0.750000   \n9                   NaN                  NaN             0.500000   \n10                0.625                1.000                  NaN   \n11                0.875                0.625                  NaN   \n12                  NaN                  NaN             0.583333   \n13                0.875                0.375                  NaN   \n14                0.625                0.375                  NaN   \n15                0.875                0.750                  NaN   \n16                  NaN                  NaN             0.500000   \n17                0.500                0.625                  NaN   \n18                0.875                0.750                  NaN   \n19                0.375                0.750                  NaN   \n20                0.250                0.500                  NaN   \n21                0.625                0.750                  NaN   \n22                0.625                0.750                  NaN   \n23                  NaN                  NaN             0.666667   \n24                0.375                1.000                  NaN   \n\n    mlEngInterestRank  mlOpsInterestRank  \n0                 NaN                NaN  \n1                 NaN                NaN  \n2                 NaN                NaN  \n3                 NaN                NaN  \n4                 NaN                NaN  \n5                 NaN                NaN  \n6                 NaN                NaN  \n7                 NaN                NaN  \n8            0.416667           0.583333  \n9            0.583333           0.333333  \n10                NaN                NaN  \n11                NaN                NaN  \n12           0.583333           0.583333  \n13                NaN                NaN  \n14                NaN                NaN  \n15                NaN                NaN  \n16           0.750000           1.000000  \n17                NaN                NaN  \n18                NaN                NaN  \n19                NaN                NaN  \n20                NaN                NaN  \n21                NaN                NaN  \n22                NaN                NaN  \n23           0.750000           0.666667  \n24                NaN                NaN  \n\n[25 rows x 43 columns]",
      "text/html": "<div>\n<style scoped>\n    .dataframe tbody tr th:only-of-type {\n        vertical-align: middle;\n    }\n\n    .dataframe tbody tr th {\n        vertical-align: top;\n    }\n\n    .dataframe thead th {\n        text-align: right;\n    }\n</style>\n<table border=\"1\" class=\"dataframe\">\n  <thead>\n    <tr style=\"text-align: right;\">\n      <th></th>\n      <th>lambdaId</th>\n      <th>name</th>\n      <th>track</th>\n      <th>labsProject</th>\n      <th>gitExpertise</th>\n      <th>dockerExpertise</th>\n      <th>playByEar</th>\n      <th>detailOriented</th>\n      <th>speakUpInDiscussions</th>\n      <th>soloOrSocial</th>\n      <th>...</th>\n      <th>mlOpsInterest2</th>\n      <th>mlOpsInterest3</th>\n      <th>tpmSkillRank</th>\n      <th>tpmInterestRank</th>\n      <th>uxInterestRank</th>\n      <th>frontendInterestRank</th>\n      <th>backendInterestRank</th>\n      <th>dataEngInterestRank</th>\n      <th>mlEngInterestRank</th>\n      <th>mlOpsInterestRank</th>\n    </tr>\n  </thead>\n  <tbody>\n    <tr>\n      <th>0</th>\n      <td>73d00e5b-2050-45d6-a2eb-cd906867789d</td>\n      <td>Adam Hunt</td>\n      <td>Web</td>\n      <td>CoderHeroes LMS - C</td>\n      <td>4</td>\n      <td>1</td>\n      <td>3</td>\n      <td>3</td>\n      <td>3</td>\n      <td>B. Social</td>\n      <td>...</td>\n      <td>3</td>\n      <td>2</td>\n      <td>0.333333</td>\n      <td>0.5000</td>\n      <td>0.625</td>\n      <td>0.625</td>\n      <td>0.875</td>\n      <td>NaN</td>\n      <td>NaN</td>\n      <td>NaN</td>\n    </tr>\n    <tr>\n      <th>1</th>\n      <td>c55a2d00-599b-4588-8c13-251692faebf8</td>\n      <td>Raj Patel</td>\n      <td>Web</td>\n      <td>CoderHeroes LMS - B</td>\n      <td>4</td>\n      <td>1</td>\n      <td>3</td>\n      <td>3</td>\n      <td>3</td>\n      <td>B. Social</td>\n      <td>...</td>\n      <td>2</td>\n      <td>3</td>\n      <td>0.333333</td>\n      <td>0.5625</td>\n      <td>0.375</td>\n      <td>0.750</td>\n      <td>0.625</td>\n      <td>NaN</td>\n      <td>NaN</td>\n      <td>NaN</td>\n    </tr>\n    <tr>\n      <th>2</th>\n      <td>dd07c762-9c56-4ca9-9285-a2d306f84476</td>\n      <td>Aaron Reyes</td>\n      <td>Web</td>\n      <td>Underdog Devs Resource Manager - D</td>\n      <td>3</td>\n      <td>1</td>\n      <td>4</td>\n      <td>3</td>\n      <td>2</td>\n      <td>A. Solo</td>\n      <td>...</td>\n      <td>2</td>\n      <td>2</td>\n      <td>0.000000</td>\n      <td>0.6250</td>\n      <td>0.625</td>\n      <td>0.500</td>\n      <td>0.750</td>\n      <td>NaN</td>\n      <td>NaN</td>\n      <td>NaN</td>\n    </tr>\n    <tr>\n      <th>3</th>\n      <td>9f792c79-1e6f-4418-bd27-0df6ad7dcaac</td>\n      <td>John Merz</td>\n      <td>Web</td>\n      <td>CoderHeroes LMS - A</td>\n      <td>4</td>\n      <td>1</td>\n      <td>3</td>\n      <td>5</td>\n      <td>5</td>\n      <td>B. Social</td>\n      <td>...</td>\n      <td>2</td>\n      <td>2</td>\n      <td>0.666667</td>\n      <td>0.6875</td>\n      <td>0.875</td>\n      <td>0.250</td>\n      <td>0.875</td>\n      <td>NaN</td>\n      <td>NaN</td>\n      <td>NaN</td>\n    </tr>\n    <tr>\n      <th>4</th>\n      <td>ae6a68ec-7ecb-445d-941c-4a09fa7b566e</td>\n      <td>Sagun Shrestha</td>\n      <td>Web</td>\n      <td>CoderHeroes LMS - C</td>\n      <td>4</td>\n      <td>1</td>\n      <td>2</td>\n      <td>2</td>\n      <td>3</td>\n      <td>A. Solo</td>\n      <td>...</td>\n      <td>2</td>\n      <td>2</td>\n      <td>0.000000</td>\n      <td>0.6250</td>\n      <td>0.375</td>\n      <td>0.750</td>\n      <td>0.500</td>\n      <td>NaN</td>\n      <td>NaN</td>\n      <td>NaN</td>\n    </tr>\n    <tr>\n      <th>5</th>\n      <td>a670f4ad-fe41-44d5-a0f7-8fedfa1c772c</td>\n      <td>Luis Dominguez</td>\n      <td>Web</td>\n      <td>CoderHeroes LMS - B</td>\n      <td>3</td>\n      <td>1</td>\n      <td>5</td>\n      <td>1</td>\n      <td>2</td>\n      <td>B. Social</td>\n      <td>...</td>\n      <td>2</td>\n      <td>2</td>\n      <td>1.000000</td>\n      <td>0.6250</td>\n      <td>0.500</td>\n      <td>0.375</td>\n      <td>0.500</td>\n      <td>NaN</td>\n      <td>NaN</td>\n      <td>NaN</td>\n    </tr>\n    <tr>\n      <th>6</th>\n      <td>b0ca7feb-291e-4588-8ee0-524c0627c2ef</td>\n      <td>Nelson Maldonado</td>\n      <td>Web</td>\n      <td>CoderHeroes LMS - A</td>\n      <td>5</td>\n      <td>3</td>\n      <td>3</td>\n      <td>1</td>\n      <td>3</td>\n      <td>A. Solo</td>\n      <td>...</td>\n      <td>3</td>\n      <td>3</td>\n      <td>0.333333</td>\n      <td>0.6875</td>\n      <td>0.625</td>\n      <td>0.875</td>\n      <td>0.750</td>\n      <td>NaN</td>\n      <td>NaN</td>\n      <td>NaN</td>\n    </tr>\n    <tr>\n      <th>7</th>\n      <td>d4587aa2-53a9-4074-9222-27956303331a</td>\n      <td>Mitchell Walker</td>\n      <td>Web</td>\n      <td>Underdog Devs Resource Manager - B</td>\n      <td>4</td>\n      <td>1</td>\n      <td>3</td>\n      <td>3</td>\n      <td>3</td>\n      <td>B. Social</td>\n      <td>...</td>\n      <td>2</td>\n      <td>3</td>\n      <td>0.333333</td>\n      <td>0.6875</td>\n      <td>0.750</td>\n      <td>0.625</td>\n      <td>0.875</td>\n      <td>NaN</td>\n      <td>NaN</td>\n      <td>NaN</td>\n    </tr>\n    <tr>\n      <th>8</th>\n      <td>2958f9be-d1b2-49c9-b86e-3f5d124268f9</td>\n      <td>Zach Rock</td>\n      <td>DS</td>\n      <td>Underdog Devs Resource Manager - C</td>\n      <td>3</td>\n      <td>3</td>\n      <td>1</td>\n      <td>2</td>\n      <td>5</td>\n      <td>B. Social</td>\n      <td>...</td>\n      <td>1</td>\n      <td>2</td>\n      <td>0.000000</td>\n      <td>0.6875</td>\n      <td>NaN</td>\n      <td>NaN</td>\n      <td>NaN</td>\n      <td>0.750000</td>\n      <td>0.416667</td>\n      <td>0.583333</td>\n    </tr>\n    <tr>\n      <th>9</th>\n      <td>b8b7664d-ff4d-48ab-a01a-06710a5508be</td>\n      <td>Dylan Budnick</td>\n      <td>DS</td>\n      <td>Underdog Devs Resource Manager - D</td>\n      <td>4</td>\n      <td>4</td>\n      <td>3</td>\n      <td>4</td>\n      <td>4</td>\n      <td>B. Social</td>\n      <td>...</td>\n      <td>1</td>\n      <td>1</td>\n      <td>0.000000</td>\n      <td>0.6875</td>\n      <td>NaN</td>\n      <td>NaN</td>\n      <td>NaN</td>\n      <td>0.500000</td>\n      <td>0.583333</td>\n      <td>0.333333</td>\n    </tr>\n    <tr>\n      <th>10</th>\n      <td>d7100db6-f277-48cf-9d48-0d1ef255a6f6</td>\n      <td>Ted Kim</td>\n      <td>Web</td>\n      <td>CoderHeroes LMS - C</td>\n      <td>4</td>\n      <td>3</td>\n      <td>3</td>\n      <td>3</td>\n      <td>4</td>\n      <td>B. Social</td>\n      <td>...</td>\n      <td>3</td>\n      <td>2</td>\n      <td>0.333333</td>\n      <td>0.5625</td>\n      <td>0.500</td>\n      <td>0.625</td>\n      <td>1.000</td>\n      <td>NaN</td>\n      <td>NaN</td>\n      <td>NaN</td>\n    </tr>\n    <tr>\n      <th>11</th>\n      <td>f887e0ab-ab6e-4a05-a64b-66937c223619</td>\n      <td>Kenji Greene</td>\n      <td>Web</td>\n      <td>CoderHeroes LMS - B</td>\n      <td>5</td>\n      <td>1</td>\n      <td>3</td>\n      <td>2</td>\n      <td>3</td>\n      <td>A. Solo</td>\n      <td>...</td>\n      <td>2</td>\n      <td>2</td>\n      <td>0.333333</td>\n      <td>0.5625</td>\n      <td>0.750</td>\n      <td>0.875</td>\n      <td>0.625</td>\n      <td>NaN</td>\n      <td>NaN</td>\n      <td>NaN</td>\n    </tr>\n    <tr>\n      <th>12</th>\n      <td>afea0fb9-70a1-4b79-b129-f476399ab123</td>\n      <td>Mohamed Mosaed</td>\n      <td>DS</td>\n      <td>Underdog Devs Resource Manager - C</td>\n      <td>4</td>\n      <td>3</td>\n      <td>5</td>\n      <td>1</td>\n      <td>2</td>\n      <td>B. Social</td>\n      <td>...</td>\n      <td>1</td>\n      <td>2</td>\n      <td>0.333333</td>\n      <td>0.5625</td>\n      <td>NaN</td>\n      <td>NaN</td>\n      <td>NaN</td>\n      <td>0.583333</td>\n      <td>0.583333</td>\n      <td>0.583333</td>\n    </tr>\n    <tr>\n      <th>13</th>\n      <td>78853c22-0d21-4daa-87a6-937e33324045</td>\n      <td>Christian Smith</td>\n      <td>Web</td>\n      <td>Underdog Devs Resource Manager - B</td>\n      <td>4</td>\n      <td>1</td>\n      <td>4</td>\n      <td>5</td>\n      <td>3</td>\n      <td>A. Solo</td>\n      <td>...</td>\n      <td>3</td>\n      <td>3</td>\n      <td>0.000000</td>\n      <td>0.5625</td>\n      <td>0.625</td>\n      <td>0.875</td>\n      <td>0.375</td>\n      <td>NaN</td>\n      <td>NaN</td>\n      <td>NaN</td>\n    </tr>\n    <tr>\n      <th>14</th>\n      <td>ef85b36a-591a-4093-835e-5ac7652e307b</td>\n      <td>Collyn Godlewski</td>\n      <td>Web</td>\n      <td>Underdog Devs Resource Manager - A</td>\n      <td>4</td>\n      <td>1</td>\n      <td>3</td>\n      <td>2</td>\n      <td>2</td>\n      <td>A. Solo</td>\n      <td>...</td>\n      <td>2</td>\n      <td>3</td>\n      <td>0.000000</td>\n      <td>0.6250</td>\n      <td>0.500</td>\n      <td>0.625</td>\n      <td>0.375</td>\n      <td>NaN</td>\n      <td>NaN</td>\n      <td>NaN</td>\n    </tr>\n    <tr>\n      <th>15</th>\n      <td>16de6ec2-3e65-4eee-9b7e-3e60f3a155b7</td>\n      <td>Jeong Pak</td>\n      <td>Web</td>\n      <td>Underdog Devs Resource Manager - D</td>\n      <td>3</td>\n      <td>1</td>\n      <td>5</td>\n      <td>5</td>\n      <td>5</td>\n      <td>A. Solo</td>\n      <td>...</td>\n      <td>2</td>\n      <td>2</td>\n      <td>0.666667</td>\n      <td>0.5625</td>\n      <td>0.625</td>\n      <td>0.875</td>\n      <td>0.750</td>\n      <td>NaN</td>\n      <td>NaN</td>\n      <td>NaN</td>\n    </tr>\n    <tr>\n      <th>16</th>\n      <td>ffc7379c-39f9-4508-80b8-f396be559793</td>\n      <td>Scott Reynders</td>\n      <td>DS</td>\n      <td>Underdog Devs Resource Manager - B</td>\n      <td>3</td>\n      <td>1</td>\n      <td>1</td>\n      <td>1</td>\n      <td>3</td>\n      <td>B. Social</td>\n      <td>...</td>\n      <td>4</td>\n      <td>4</td>\n      <td>0.666667</td>\n      <td>0.5625</td>\n      <td>NaN</td>\n      <td>NaN</td>\n      <td>NaN</td>\n      <td>0.500000</td>\n      <td>0.750000</td>\n      <td>1.000000</td>\n    </tr>\n    <tr>\n      <th>17</th>\n      <td>e2bb0f93-63ad-44d6-ae1e-28c44651eff6</td>\n      <td>Benedict Schurwanz</td>\n      <td>Web</td>\n      <td>CoderHeroes LMS - C</td>\n      <td>4</td>\n      <td>1</td>\n      <td>2</td>\n      <td>2</td>\n      <td>2</td>\n      <td>A. Solo</td>\n      <td>...</td>\n      <td>2</td>\n      <td>2</td>\n      <td>0.666667</td>\n      <td>0.5000</td>\n      <td>0.625</td>\n      <td>0.500</td>\n      <td>0.625</td>\n      <td>NaN</td>\n      <td>NaN</td>\n      <td>NaN</td>\n    </tr>\n    <tr>\n      <th>18</th>\n      <td>0087977b-6b04-471c-9494-18721fda6cf4</td>\n      <td>Monica Salas</td>\n      <td>Web</td>\n      <td>CoderHeroes LMS - B</td>\n      <td>4</td>\n      <td>1</td>\n      <td>3</td>\n      <td>3</td>\n      <td>3</td>\n      <td>A. Solo</td>\n      <td>...</td>\n      <td>3</td>\n      <td>3</td>\n      <td>0.666667</td>\n      <td>0.5625</td>\n      <td>0.500</td>\n      <td>0.875</td>\n      <td>0.750</td>\n      <td>NaN</td>\n      <td>NaN</td>\n      <td>NaN</td>\n    </tr>\n    <tr>\n      <th>19</th>\n      <td>5be0166f-e6c2-4813-adf8-a0210f75cea7</td>\n      <td>Vernon Bengtson</td>\n      <td>Web</td>\n      <td>Underdog Devs Resource Manager - D</td>\n      <td>4</td>\n      <td>1</td>\n      <td>1</td>\n      <td>3</td>\n      <td>3</td>\n      <td>B. Social</td>\n      <td>...</td>\n      <td>2</td>\n      <td>3</td>\n      <td>0.333333</td>\n      <td>0.6250</td>\n      <td>1.000</td>\n      <td>0.375</td>\n      <td>0.750</td>\n      <td>NaN</td>\n      <td>NaN</td>\n      <td>NaN</td>\n    </tr>\n    <tr>\n      <th>20</th>\n      <td>b38ff94e-a5ec-49e4-83ac-21a7ecd5b839</td>\n      <td>Robert Stetson</td>\n      <td>Web</td>\n      <td>Underdog Devs Resource Manager - B</td>\n      <td>4</td>\n      <td>3</td>\n      <td>2</td>\n      <td>3</td>\n      <td>4</td>\n      <td>B. Social</td>\n      <td>...</td>\n      <td>2</td>\n      <td>3</td>\n      <td>0.666667</td>\n      <td>0.6875</td>\n      <td>0.500</td>\n      <td>0.250</td>\n      <td>0.500</td>\n      <td>NaN</td>\n      <td>NaN</td>\n      <td>NaN</td>\n    </tr>\n    <tr>\n      <th>21</th>\n      <td>a18431a4-de29-4894-80bb-3e16068e89fa</td>\n      <td>Andrew Hunt</td>\n      <td>Web</td>\n      <td>CoderHeroes LMS - B</td>\n      <td>3</td>\n      <td>1</td>\n      <td>3</td>\n      <td>2</td>\n      <td>1</td>\n      <td>A. Solo</td>\n      <td>...</td>\n      <td>3</td>\n      <td>3</td>\n      <td>0.333333</td>\n      <td>0.5000</td>\n      <td>0.500</td>\n      <td>0.625</td>\n      <td>0.750</td>\n      <td>NaN</td>\n      <td>NaN</td>\n      <td>NaN</td>\n    </tr>\n    <tr>\n      <th>22</th>\n      <td>d75834c3-58bc-42f0-a9f3-6dc2576099b9</td>\n      <td>Adam Hinton</td>\n      <td>Web</td>\n      <td>Underdog Devs Resource Manager - D</td>\n      <td>4</td>\n      <td>1</td>\n      <td>2</td>\n      <td>2</td>\n      <td>4</td>\n      <td>A. Solo</td>\n      <td>...</td>\n      <td>3</td>\n      <td>3</td>\n      <td>0.333333</td>\n      <td>0.5625</td>\n      <td>0.375</td>\n      <td>0.625</td>\n      <td>0.750</td>\n      <td>NaN</td>\n      <td>NaN</td>\n      <td>NaN</td>\n    </tr>\n    <tr>\n      <th>23</th>\n      <td>91a26f57-5afa-4b2b-b135-6e8d7efa898d</td>\n      <td>Mudesir Suleyman</td>\n      <td>DS</td>\n      <td>Underdog Devs Resource Manager - B</td>\n      <td>3</td>\n      <td>3</td>\n      <td>3</td>\n      <td>3</td>\n      <td>3</td>\n      <td>B. Social</td>\n      <td>...</td>\n      <td>2</td>\n      <td>4</td>\n      <td>0.000000</td>\n      <td>0.6875</td>\n      <td>NaN</td>\n      <td>NaN</td>\n      <td>NaN</td>\n      <td>0.666667</td>\n      <td>0.750000</td>\n      <td>0.666667</td>\n    </tr>\n    <tr>\n      <th>24</th>\n      <td>c2172a80-57ed-4275-9214-b417fdfa8860</td>\n      <td>Nyamekye Annor</td>\n      <td>Web</td>\n      <td>CoderHeroes LMS - B</td>\n      <td>4</td>\n      <td>2</td>\n      <td>5</td>\n      <td>1</td>\n      <td>4</td>\n      <td>A</td>\n      <td>...</td>\n      <td>3</td>\n      <td>2</td>\n      <td>0.333333</td>\n      <td>0.7500</td>\n      <td>0.250</td>\n      <td>0.375</td>\n      <td>1.000</td>\n      <td>NaN</td>\n      <td>NaN</td>\n      <td>NaN</td>\n    </tr>\n  </tbody>\n</table>\n<p>25 rows × 43 columns</p>\n</div>"
     },
     "execution_count": 25,
     "metadata": {},
     "output_type": "execute_result"
    }
   ],
   "source": [
    "learners_df = DataFrame(learners)\n",
    "learners_df"
   ],
   "metadata": {
    "collapsed": false,
    "pycharm": {
     "name": "#%%\n"
    }
   }
  },
  {
   "cell_type": "code",
   "execution_count": 26,
   "outputs": [
    {
     "data": {
      "text/plain": "                                        0                    1  \\\nteamName              CoderHeroes LMS - A  CoderHeroes LMS - B   \ntpmInterestRank                    0.6875              0.59375   \ntpmSkillRank                          0.5                  0.5   \nuxInterestRank                       0.75             0.479167   \nfrontendInterestRank               0.5625             0.645833   \nbackendInterestRank                0.8125             0.708333   \ndataEngInterestRank                   NaN                  NaN   \nmlEngInterestRank                     NaN                  NaN   \nmlOpsInterestRank                     NaN                  NaN   \n\n                                        2                                   3  \\\nteamName              CoderHeroes LMS - C  Underdog Devs Resource Manager - A   \ntpmInterestRank                  0.546875                               0.625   \ntpmSkillRank                     0.333333                                 0.0   \nuxInterestRank                    0.53125                                 0.5   \nfrontendInterestRank                0.625                               0.625   \nbackendInterestRank                  0.75                               0.375   \ndataEngInterestRank                   NaN                                 NaN   \nmlEngInterestRank                     NaN                                 NaN   \nmlOpsInterestRank                     NaN                                 NaN   \n\n                                                       4  \\\nteamName              Underdog Devs Resource Manager - B   \ntpmInterestRank                                   0.6375   \ntpmSkillRank                                    0.333333   \nuxInterestRank                                     0.625   \nfrontendInterestRank                            0.583333   \nbackendInterestRank                             0.583333   \ndataEngInterestRank                             0.583333   \nmlEngInterestRank                                   0.75   \nmlOpsInterestRank                               0.833333   \n\n                                                       5  \\\nteamName              Underdog Devs Resource Manager - C   \ntpmInterestRank                                    0.625   \ntpmSkillRank                                    0.166667   \nuxInterestRank                                       NaN   \nfrontendInterestRank                                 NaN   \nbackendInterestRank                                  NaN   \ndataEngInterestRank                             0.666667   \nmlEngInterestRank                                    0.5   \nmlOpsInterestRank                               0.583333   \n\n                                                       6  \nteamName              Underdog Devs Resource Manager - D  \ntpmInterestRank                                   0.6125  \ntpmSkillRank                                    0.266667  \nuxInterestRank                                   0.65625  \nfrontendInterestRank                             0.59375  \nbackendInterestRank                                 0.75  \ndataEngInterestRank                                  0.5  \nmlEngInterestRank                               0.583333  \nmlOpsInterestRank                               0.333333  ",
      "text/html": "<div>\n<style scoped>\n    .dataframe tbody tr th:only-of-type {\n        vertical-align: middle;\n    }\n\n    .dataframe tbody tr th {\n        vertical-align: top;\n    }\n\n    .dataframe thead th {\n        text-align: right;\n    }\n</style>\n<table border=\"1\" class=\"dataframe\">\n  <thead>\n    <tr style=\"text-align: right;\">\n      <th></th>\n      <th>0</th>\n      <th>1</th>\n      <th>2</th>\n      <th>3</th>\n      <th>4</th>\n      <th>5</th>\n      <th>6</th>\n    </tr>\n  </thead>\n  <tbody>\n    <tr>\n      <th>teamName</th>\n      <td>CoderHeroes LMS - A</td>\n      <td>CoderHeroes LMS - B</td>\n      <td>CoderHeroes LMS - C</td>\n      <td>Underdog Devs Resource Manager - A</td>\n      <td>Underdog Devs Resource Manager - B</td>\n      <td>Underdog Devs Resource Manager - C</td>\n      <td>Underdog Devs Resource Manager - D</td>\n    </tr>\n    <tr>\n      <th>tpmInterestRank</th>\n      <td>0.6875</td>\n      <td>0.59375</td>\n      <td>0.546875</td>\n      <td>0.625</td>\n      <td>0.6375</td>\n      <td>0.625</td>\n      <td>0.6125</td>\n    </tr>\n    <tr>\n      <th>tpmSkillRank</th>\n      <td>0.5</td>\n      <td>0.5</td>\n      <td>0.333333</td>\n      <td>0.0</td>\n      <td>0.333333</td>\n      <td>0.166667</td>\n      <td>0.266667</td>\n    </tr>\n    <tr>\n      <th>uxInterestRank</th>\n      <td>0.75</td>\n      <td>0.479167</td>\n      <td>0.53125</td>\n      <td>0.5</td>\n      <td>0.625</td>\n      <td>NaN</td>\n      <td>0.65625</td>\n    </tr>\n    <tr>\n      <th>frontendInterestRank</th>\n      <td>0.5625</td>\n      <td>0.645833</td>\n      <td>0.625</td>\n      <td>0.625</td>\n      <td>0.583333</td>\n      <td>NaN</td>\n      <td>0.59375</td>\n    </tr>\n    <tr>\n      <th>backendInterestRank</th>\n      <td>0.8125</td>\n      <td>0.708333</td>\n      <td>0.75</td>\n      <td>0.375</td>\n      <td>0.583333</td>\n      <td>NaN</td>\n      <td>0.75</td>\n    </tr>\n    <tr>\n      <th>dataEngInterestRank</th>\n      <td>NaN</td>\n      <td>NaN</td>\n      <td>NaN</td>\n      <td>NaN</td>\n      <td>0.583333</td>\n      <td>0.666667</td>\n      <td>0.5</td>\n    </tr>\n    <tr>\n      <th>mlEngInterestRank</th>\n      <td>NaN</td>\n      <td>NaN</td>\n      <td>NaN</td>\n      <td>NaN</td>\n      <td>0.75</td>\n      <td>0.5</td>\n      <td>0.583333</td>\n    </tr>\n    <tr>\n      <th>mlOpsInterestRank</th>\n      <td>NaN</td>\n      <td>NaN</td>\n      <td>NaN</td>\n      <td>NaN</td>\n      <td>0.833333</td>\n      <td>0.583333</td>\n      <td>0.333333</td>\n    </tr>\n  </tbody>\n</table>\n</div>"
     },
     "execution_count": 26,
     "metadata": {},
     "output_type": "execute_result"
    }
   ],
   "source": [
    "stat_list = [\n",
    "    'tpmInterestRank',\n",
    "    'tpmSkillRank',\n",
    "    'uxInterestRank',\n",
    "    'frontendInterestRank',\n",
    "    'backendInterestRank',\n",
    "    'dataEngInterestRank',\n",
    "    'mlEngInterestRank',\n",
    "    'mlOpsInterestRank',\n",
    "]\n",
    "project_names = sorted(learners_df[\"labsProject\"].unique().tolist())\n",
    "data = []\n",
    "for team in project_names:\n",
    "    datum = {\"teamName\": team}\n",
    "    for stat in stat_list:\n",
    "        datum[stat] = learners_df[learners_df['labsProject'] == team][stat].mean()\n",
    "    data.append(datum)\n",
    "df = DataFrame(data)\n",
    "df.T"
   ],
   "metadata": {
    "collapsed": false,
    "pycharm": {
     "name": "#%%\n"
    }
   }
  },
  {
   "cell_type": "markdown",
   "source": [
    "Strong TPM types on each team!\n",
    "- Interest over skill"
   ],
   "metadata": {
    "collapsed": false,
    "pycharm": {
     "name": "#%% md\n"
    }
   }
  },
  {
   "cell_type": "code",
   "execution_count": 26,
   "outputs": [],
   "source": [],
   "metadata": {
    "collapsed": false,
    "pycharm": {
     "name": "#%%\n"
    }
   }
  }
 ],
 "metadata": {
  "kernelspec": {
   "display_name": "Python 3",
   "language": "python",
   "name": "python3"
  },
  "language_info": {
   "codemirror_mode": {
    "name": "ipython",
    "version": 2
   },
   "file_extension": ".py",
   "mimetype": "text/x-python",
   "name": "python",
   "nbconvert_exporter": "python",
   "pygments_lexer": "ipython2",
   "version": "2.7.6"
  }
 },
 "nbformat": 4,
 "nbformat_minor": 0
}