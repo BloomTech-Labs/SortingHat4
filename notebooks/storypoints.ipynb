{
 "cells": [
  {
   "cell_type": "code",
   "execution_count": 13,
   "outputs": [],
   "source": [
    "from app.sorting_hat import sorting_hat\n",
    "from app.payload import example_payload"
   ],
   "metadata": {
    "collapsed": false,
    "pycharm": {
     "name": "#%%\n"
    }
   }
  },
  {
   "cell_type": "code",
   "execution_count": 14,
   "outputs": [
    {
     "data": {
      "text/plain": "Payload(learners=[Learner(oktaId='db8e7aa4-6e48-4679-895d-346ae6554b00', name='Emily Jackson', track='Web', storyPoints=0, labsProject='', labsTimeSlot=[''], gitHubHandle='', gitExpertise=0, dockerExpertise=0, playByEar=0, detailOriented=0, speakUpInDiscussions=0, soloOrSocial='', meaningOrValue='', feelsRightOrMakesSense='', favoriteOrCollect='', tpmSkill1='B', tpmSkill2='B', tpmSkill3='C', tpmInterest1=3, tpmInterest2=3, tpmInterest3=1, tpmInterest4=1), Learner(oktaId='0614f60e-3068-47a1-8068-1e1c6b9f89c9', name='Evelyn Davis', track='Web', storyPoints=0, labsProject='', labsTimeSlot=[''], gitHubHandle='', gitExpertise=0, dockerExpertise=0, playByEar=0, detailOriented=0, speakUpInDiscussions=0, soloOrSocial='', meaningOrValue='', feelsRightOrMakesSense='', favoriteOrCollect='', tpmSkill1='B', tpmSkill2='B', tpmSkill3='C', tpmInterest1=1, tpmInterest2=2, tpmInterest3=3, tpmInterest4=3), Learner(oktaId='57ae0dd9-81d3-4a15-a7d4-0f8eeb9c7552', name='Isabella Scott', track='Web', storyPoints=0, labsProject='', labsTimeSlot=[''], gitHubHandle='', gitExpertise=0, dockerExpertise=0, playByEar=0, detailOriented=0, speakUpInDiscussions=0, soloOrSocial='', meaningOrValue='', feelsRightOrMakesSense='', favoriteOrCollect='', tpmSkill1='B', tpmSkill2='B', tpmSkill3='C', tpmInterest1=3, tpmInterest2=3, tpmInterest3=2, tpmInterest4=2), Learner(oktaId='6b1878a8-d412-4d18-a947-07e6b701e42f', name='Aria White', track='Web', storyPoints=0, labsProject='', labsTimeSlot=[''], gitHubHandle='', gitExpertise=0, dockerExpertise=0, playByEar=0, detailOriented=0, speakUpInDiscussions=0, soloOrSocial='', meaningOrValue='', feelsRightOrMakesSense='', favoriteOrCollect='', tpmSkill1='B', tpmSkill2='B', tpmSkill3='C', tpmInterest1=3, tpmInterest2=1, tpmInterest3=2, tpmInterest4=2), Learner(oktaId='4ce6cd64-e364-4fce-a542-889e9814889c', name='Luna Williams', track='DS', storyPoints=0, labsProject='', labsTimeSlot=[''], gitHubHandle='', gitExpertise=0, dockerExpertise=0, playByEar=0, detailOriented=0, speakUpInDiscussions=0, soloOrSocial='', meaningOrValue='', feelsRightOrMakesSense='', favoriteOrCollect='', tpmSkill1='B', tpmSkill2='B', tpmSkill3='C', tpmInterest1=2, tpmInterest2=2, tpmInterest3=3, tpmInterest4=2), Learner(oktaId='9e0c0ca8-7bab-4e35-adcd-eecc7e9696fc', name='Mason Gonzales', track='DS', storyPoints=0, labsProject='', labsTimeSlot=[''], gitHubHandle='', gitExpertise=0, dockerExpertise=0, playByEar=0, detailOriented=0, speakUpInDiscussions=0, soloOrSocial='', meaningOrValue='', feelsRightOrMakesSense='', favoriteOrCollect='', tpmSkill1='B', tpmSkill2='B', tpmSkill3='C', tpmInterest1=3, tpmInterest2=1, tpmInterest3=3, tpmInterest4=2), Learner(oktaId='f8f54245-46eb-4426-9b67-48a8f7ba1b38', name='Levi Green', track='BD', storyPoints=0, labsProject='', labsTimeSlot=[''], gitHubHandle='', gitExpertise=0, dockerExpertise=0, playByEar=0, detailOriented=0, speakUpInDiscussions=0, soloOrSocial='', meaningOrValue='', feelsRightOrMakesSense='', favoriteOrCollect='', tpmSkill1='B', tpmSkill2='B', tpmSkill3='C', tpmInterest1=1, tpmInterest2=3, tpmInterest3=3, tpmInterest4=1), Learner(oktaId='2219099b-1800-42e6-861e-e32844900841', name='Benjamin Lopez', track='BD', storyPoints=0, labsProject='', labsTimeSlot=[''], gitHubHandle='', gitExpertise=0, dockerExpertise=0, playByEar=0, detailOriented=0, speakUpInDiscussions=0, soloOrSocial='', meaningOrValue='', feelsRightOrMakesSense='', favoriteOrCollect='', tpmSkill1='B', tpmSkill2='B', tpmSkill3='C', tpmInterest1=1, tpmInterest2=3, tpmInterest3=3, tpmInterest4=3), Learner(oktaId='b7d9dd75-a3e2-401a-869b-b9f00877afaa', name='Ellie Ramirez', track='Web', storyPoints=5, labsProject='Test Product - A', labsTimeSlot=[''], gitHubHandle='', gitExpertise=0, dockerExpertise=0, playByEar=0, detailOriented=0, speakUpInDiscussions=0, soloOrSocial='', meaningOrValue='', feelsRightOrMakesSense='', favoriteOrCollect='', tpmSkill1='B', tpmSkill2='B', tpmSkill3='C', tpmInterest1=3, tpmInterest2=1, tpmInterest3=1, tpmInterest4=3), Learner(oktaId='398b4d97-cf87-417b-bd15-ca0deac70fb2', name='Lucas Taylor', track='Web', storyPoints=7, labsProject='Test Product - A', labsTimeSlot=[''], gitHubHandle='', gitExpertise=0, dockerExpertise=0, playByEar=0, detailOriented=0, speakUpInDiscussions=0, soloOrSocial='', meaningOrValue='', feelsRightOrMakesSense='', favoriteOrCollect='', tpmSkill1='B', tpmSkill2='B', tpmSkill3='C', tpmInterest1=3, tpmInterest2=3, tpmInterest3=3, tpmInterest4=2), Learner(oktaId='903aa7cf-dbf5-4a25-ae12-2d512adf6c31', name='Noah Johnson', track='Web', storyPoints=16, labsProject='Test Product - A', labsTimeSlot=[''], gitHubHandle='', gitExpertise=0, dockerExpertise=0, playByEar=0, detailOriented=0, speakUpInDiscussions=0, soloOrSocial='', meaningOrValue='', feelsRightOrMakesSense='', favoriteOrCollect='', tpmSkill1='B', tpmSkill2='B', tpmSkill3='C', tpmInterest1=2, tpmInterest2=2, tpmInterest3=2, tpmInterest4=1), Learner(oktaId='495c01f2-2285-42c9-8d5d-4db173dc8aaa', name='Elizabeth Clark', track='Web', storyPoints=11, labsProject='Test Product - A', labsTimeSlot=[''], gitHubHandle='', gitExpertise=0, dockerExpertise=0, playByEar=0, detailOriented=0, speakUpInDiscussions=0, soloOrSocial='', meaningOrValue='', feelsRightOrMakesSense='', favoriteOrCollect='', tpmSkill1='B', tpmSkill2='B', tpmSkill3='C', tpmInterest1=3, tpmInterest2=3, tpmInterest3=3, tpmInterest4=3), Learner(oktaId='bbb089d7-813e-4d8c-9c94-7ade5d67fa89', name='Mateo White', track='Web', storyPoints=6, labsProject='Test Product - A', labsTimeSlot=[''], gitHubHandle='', gitExpertise=0, dockerExpertise=0, playByEar=0, detailOriented=0, speakUpInDiscussions=0, soloOrSocial='', meaningOrValue='', feelsRightOrMakesSense='', favoriteOrCollect='', tpmSkill1='B', tpmSkill2='B', tpmSkill3='C', tpmInterest1=3, tpmInterest2=2, tpmInterest3=2, tpmInterest4=3), Learner(oktaId='4da6cf48-2989-49a8-b109-1ea8d2cd17da', name='Mia Richardson', track='Web', storyPoints=18, labsProject='Test Product - A', labsTimeSlot=[''], gitHubHandle='', gitExpertise=0, dockerExpertise=0, playByEar=0, detailOriented=0, speakUpInDiscussions=0, soloOrSocial='', meaningOrValue='', feelsRightOrMakesSense='', favoriteOrCollect='', tpmSkill1='B', tpmSkill2='B', tpmSkill3='C', tpmInterest1=3, tpmInterest2=2, tpmInterest3=3, tpmInterest4=1), Learner(oktaId='10ea8baa-e343-43fa-99c3-5fc624e2cb1a', name='Ella Gonzales', track='Web', storyPoints=7, labsProject='Test Product - A', labsTimeSlot=[''], gitHubHandle='', gitExpertise=0, dockerExpertise=0, playByEar=0, detailOriented=0, speakUpInDiscussions=0, soloOrSocial='', meaningOrValue='', feelsRightOrMakesSense='', favoriteOrCollect='', tpmSkill1='B', tpmSkill2='B', tpmSkill3='C', tpmInterest1=3, tpmInterest2=2, tpmInterest3=1, tpmInterest4=3), Learner(oktaId='30b6b772-e1d5-4814-9298-3393cf9ab67d', name='Daniel Allen', track='Web', storyPoints=17, labsProject='Test Product - A', labsTimeSlot=[''], gitHubHandle='', gitExpertise=0, dockerExpertise=0, playByEar=0, detailOriented=0, speakUpInDiscussions=0, soloOrSocial='', meaningOrValue='', feelsRightOrMakesSense='', favoriteOrCollect='', tpmSkill1='B', tpmSkill2='B', tpmSkill3='C', tpmInterest1=2, tpmInterest2=1, tpmInterest3=1, tpmInterest4=3), Learner(oktaId='e23df665-0fc6-4047-984f-424cb936f40a', name='Lucas Bennet', track='BD', storyPoints=12, labsProject='Test Product - B', labsTimeSlot=[''], gitHubHandle='', gitExpertise=0, dockerExpertise=0, playByEar=0, detailOriented=0, speakUpInDiscussions=0, soloOrSocial='', meaningOrValue='', feelsRightOrMakesSense='', favoriteOrCollect='', tpmSkill1='B', tpmSkill2='B', tpmSkill3='C', tpmInterest1=3, tpmInterest2=1, tpmInterest3=3, tpmInterest4=3), Learner(oktaId='0715b9ab-482f-4c0c-b61e-5302423dc33d', name='Camila Mitchell', track='BD', storyPoints=9, labsProject='Test Product - B', labsTimeSlot=[''], gitHubHandle='', gitExpertise=0, dockerExpertise=0, playByEar=0, detailOriented=0, speakUpInDiscussions=0, soloOrSocial='', meaningOrValue='', feelsRightOrMakesSense='', favoriteOrCollect='', tpmSkill1='B', tpmSkill2='B', tpmSkill3='C', tpmInterest1=2, tpmInterest2=3, tpmInterest3=3, tpmInterest4=3), Learner(oktaId='9fa0686c-3e60-47b0-804a-6439c867d6e7', name='Amelia King', track='BD', storyPoints=13, labsProject='Test Product - B', labsTimeSlot=[''], gitHubHandle='', gitExpertise=0, dockerExpertise=0, playByEar=0, detailOriented=0, speakUpInDiscussions=0, soloOrSocial='', meaningOrValue='', feelsRightOrMakesSense='', favoriteOrCollect='', tpmSkill1='B', tpmSkill2='B', tpmSkill3='C', tpmInterest1=1, tpmInterest2=1, tpmInterest3=3, tpmInterest4=1), Learner(oktaId='46808430-47f4-44e8-a33f-5792e66898a6', name='Elijah Nguyen', track='BD', storyPoints=15, labsProject='Test Product - B', labsTimeSlot=[''], gitHubHandle='', gitExpertise=0, dockerExpertise=0, playByEar=0, detailOriented=0, speakUpInDiscussions=0, soloOrSocial='', meaningOrValue='', feelsRightOrMakesSense='', favoriteOrCollect='', tpmSkill1='B', tpmSkill2='B', tpmSkill3='C', tpmInterest1=3, tpmInterest2=1, tpmInterest3=3, tpmInterest4=1), Learner(oktaId='fafadf7c-bed1-4979-8d82-1bec0ae56fa8', name='Jacob Richardson', track='Web', storyPoints=9, labsProject='Test Product - B', labsTimeSlot=[''], gitHubHandle='', gitExpertise=0, dockerExpertise=0, playByEar=0, detailOriented=0, speakUpInDiscussions=0, soloOrSocial='', meaningOrValue='', feelsRightOrMakesSense='', favoriteOrCollect='', tpmSkill1='B', tpmSkill2='B', tpmSkill3='C', tpmInterest1=2, tpmInterest2=2, tpmInterest3=1, tpmInterest4=3), Learner(oktaId='d5d27812-5779-4ac6-b28d-db23cd53ed63', name='Luna Harris', track='Web', storyPoints=16, labsProject='Test Product - B', labsTimeSlot=[''], gitHubHandle='', gitExpertise=0, dockerExpertise=0, playByEar=0, detailOriented=0, speakUpInDiscussions=0, soloOrSocial='', meaningOrValue='', feelsRightOrMakesSense='', favoriteOrCollect='', tpmSkill1='B', tpmSkill2='B', tpmSkill3='C', tpmInterest1=1, tpmInterest2=3, tpmInterest3=1, tpmInterest4=2), Learner(oktaId='bc8cdc3b-845b-4284-bed2-40647973ee28', name='Levi Nelson', track='Web', storyPoints=15, labsProject='Test Product - B', labsTimeSlot=[''], gitHubHandle='', gitExpertise=0, dockerExpertise=0, playByEar=0, detailOriented=0, speakUpInDiscussions=0, soloOrSocial='', meaningOrValue='', feelsRightOrMakesSense='', favoriteOrCollect='', tpmSkill1='B', tpmSkill2='B', tpmSkill3='C', tpmInterest1=2, tpmInterest2=3, tpmInterest3=2, tpmInterest4=3), Learner(oktaId='26d7c6e1-fbe0-4efc-9487-9e548be23d47', name='Chloe Johnson', track='Web', storyPoints=14, labsProject='Test Product - B', labsTimeSlot=[''], gitHubHandle='', gitExpertise=0, dockerExpertise=0, playByEar=0, detailOriented=0, speakUpInDiscussions=0, soloOrSocial='', meaningOrValue='', feelsRightOrMakesSense='', favoriteOrCollect='', tpmSkill1='B', tpmSkill2='B', tpmSkill3='C', tpmInterest1=2, tpmInterest2=3, tpmInterest3=2, tpmInterest4=1), Learner(oktaId='e9f83458-f902-4d73-b73f-b2e34c51e449', name='Aria Baker', track='Web', storyPoints=17, labsProject='Test Product - B', labsTimeSlot=[''], gitHubHandle='', gitExpertise=0, dockerExpertise=0, playByEar=0, detailOriented=0, speakUpInDiscussions=0, soloOrSocial='', meaningOrValue='', feelsRightOrMakesSense='', favoriteOrCollect='', tpmSkill1='B', tpmSkill2='B', tpmSkill3='C', tpmInterest1=1, tpmInterest2=3, tpmInterest3=1, tpmInterest4=3), Learner(oktaId='1dbcb797-9de6-486d-95e7-8c31d4133e7c', name='Theodore Richardson', track='Web', storyPoints=17, labsProject='Test Product - B', labsTimeSlot=[''], gitHubHandle='', gitExpertise=0, dockerExpertise=0, playByEar=0, detailOriented=0, speakUpInDiscussions=0, soloOrSocial='', meaningOrValue='', feelsRightOrMakesSense='', favoriteOrCollect='', tpmSkill1='B', tpmSkill2='B', tpmSkill3='C', tpmInterest1=2, tpmInterest2=1, tpmInterest3=3, tpmInterest4=1), Learner(oktaId='220fa27e-d43e-4b17-bc3e-d1f9b444ab48', name='Jackson Chavez', track='Web', storyPoints=10, labsProject='Test Product - B', labsTimeSlot=[''], gitHubHandle='', gitExpertise=0, dockerExpertise=0, playByEar=0, detailOriented=0, speakUpInDiscussions=0, soloOrSocial='', meaningOrValue='', feelsRightOrMakesSense='', favoriteOrCollect='', tpmSkill1='B', tpmSkill2='B', tpmSkill3='C', tpmInterest1=2, tpmInterest2=2, tpmInterest3=1, tpmInterest4=1), Learner(oktaId='42155fe6-f3c7-47c9-848f-eb20390569cd', name='Mason James', track='Web', storyPoints=3, labsProject='Test Product - B', labsTimeSlot=[''], gitHubHandle='', gitExpertise=0, dockerExpertise=0, playByEar=0, detailOriented=0, speakUpInDiscussions=0, soloOrSocial='', meaningOrValue='', feelsRightOrMakesSense='', favoriteOrCollect='', tpmSkill1='B', tpmSkill2='B', tpmSkill3='C', tpmInterest1=3, tpmInterest2=2, tpmInterest3=2, tpmInterest4=2), Learner(oktaId='11b51d0a-c963-4916-8de2-60015b5a58de', name='Harper Rivera', track='DS', storyPoints=11, labsProject='Test Product - A', labsTimeSlot=[''], gitHubHandle='', gitExpertise=0, dockerExpertise=0, playByEar=0, detailOriented=0, speakUpInDiscussions=0, soloOrSocial='', meaningOrValue='', feelsRightOrMakesSense='', favoriteOrCollect='', tpmSkill1='B', tpmSkill2='B', tpmSkill3='C', tpmInterest1=2, tpmInterest2=3, tpmInterest3=2, tpmInterest4=3), Learner(oktaId='c4c6a9fe-baa5-49fd-99db-ebc8b83bfc02', name='Benjamin Jackson', track='DS', storyPoints=4, labsProject='Test Product - A', labsTimeSlot=[''], gitHubHandle='', gitExpertise=0, dockerExpertise=0, playByEar=0, detailOriented=0, speakUpInDiscussions=0, soloOrSocial='', meaningOrValue='', feelsRightOrMakesSense='', favoriteOrCollect='', tpmSkill1='B', tpmSkill2='B', tpmSkill3='C', tpmInterest1=1, tpmInterest2=2, tpmInterest3=2, tpmInterest4=2), Learner(oktaId='b3241135-d7f1-43c8-b17f-c8d854d8ad27', name='Elijah Bennet', track='DS', storyPoints=3, labsProject='Test Product - A', labsTimeSlot=[''], gitHubHandle='', gitExpertise=0, dockerExpertise=0, playByEar=0, detailOriented=0, speakUpInDiscussions=0, soloOrSocial='', meaningOrValue='', feelsRightOrMakesSense='', favoriteOrCollect='', tpmSkill1='B', tpmSkill2='B', tpmSkill3='C', tpmInterest1=1, tpmInterest2=2, tpmInterest3=1, tpmInterest4=3), Learner(oktaId='37a7744e-8520-410a-9783-e5196beecac1', name='Jacob Wilson', track='DS', storyPoints=20, labsProject='Test Product - A', labsTimeSlot=[''], gitHubHandle='', gitExpertise=0, dockerExpertise=0, playByEar=0, detailOriented=0, speakUpInDiscussions=0, soloOrSocial='', meaningOrValue='', feelsRightOrMakesSense='', favoriteOrCollect='', tpmSkill1='B', tpmSkill2='B', tpmSkill3='C', tpmInterest1=1, tpmInterest2=3, tpmInterest3=2, tpmInterest4=2)], projects=[Project(id='Test Product - A', product='Test Product', teamCode='A', tracks=['Web', 'DS'], releaseManager='Camila Torres', teamMemberSmtIds=['b7d9dd75-a3e2-401a-869b-b9f00877afaa', '398b4d97-cf87-417b-bd15-ca0deac70fb2', '903aa7cf-dbf5-4a25-ae12-2d512adf6c31', '495c01f2-2285-42c9-8d5d-4db173dc8aaa', 'bbb089d7-813e-4d8c-9c94-7ade5d67fa89', '4da6cf48-2989-49a8-b109-1ea8d2cd17da', '10ea8baa-e343-43fa-99c3-5fc624e2cb1a', '30b6b772-e1d5-4814-9298-3393cf9ab67d', '11b51d0a-c963-4916-8de2-60015b5a58de', 'c4c6a9fe-baa5-49fd-99db-ebc8b83bfc02', 'b3241135-d7f1-43c8-b17f-c8d854d8ad27', '37a7744e-8520-410a-9783-e5196beecac1']), Project(id='Test Product - B', product='Test Product', teamCode='B', tracks=['Web', 'BD'], releaseManager='Emma Baker', teamMemberSmtIds=['e23df665-0fc6-4047-984f-424cb936f40a', '0715b9ab-482f-4c0c-b61e-5302423dc33d', '9fa0686c-3e60-47b0-804a-6439c867d6e7', '46808430-47f4-44e8-a33f-5792e66898a6', 'fafadf7c-bed1-4979-8d82-1bec0ae56fa8', 'd5d27812-5779-4ac6-b28d-db23cd53ed63', 'bc8cdc3b-845b-4284-bed2-40647973ee28', '26d7c6e1-fbe0-4efc-9487-9e548be23d47', 'e9f83458-f902-4d73-b73f-b2e34c51e449', '1dbcb797-9de6-486d-95e7-8c31d4133e7c', '220fa27e-d43e-4b17-bc3e-d1f9b444ab48', '42155fe6-f3c7-47c9-848f-eb20390569cd']), Project(id='Test Product - C', product='Test Product', teamCode='C', tracks=['Web', 'BD'], releaseManager='Isabella Thomas', teamMemberSmtIds=[]), Project(id='Test Product - D', product='Test Product', teamCode='D', tracks=['Web', 'DS'], releaseManager='Gianna Hernandez', teamMemberSmtIds=[])])"
     },
     "execution_count": 14,
     "metadata": {},
     "output_type": "execute_result"
    }
   ],
   "source": [
    "payload = example_payload()\n",
    "payload"
   ],
   "metadata": {
    "collapsed": false,
    "pycharm": {
     "name": "#%%\n"
    }
   }
  },
  {
   "cell_type": "code",
   "execution_count": 15,
   "outputs": [],
   "source": [
    "learners = payload.learners\n",
    "projects = payload.projects"
   ],
   "metadata": {
    "collapsed": false,
    "pycharm": {
     "name": "#%%\n"
    }
   }
  },
  {
   "cell_type": "code",
   "execution_count": 16,
   "outputs": [
    {
     "name": "stdout",
     "output_type": "stream",
     "text": [
      "Name: Test Product - A\n",
      "Tracks: ['Web', 'DS']\n",
      "Team Size: 12\n",
      "\n",
      "Name: Test Product - B\n",
      "Tracks: ['Web', 'BD']\n",
      "Team Size: 12\n",
      "\n",
      "Name: Test Product - C\n",
      "Tracks: ['Web', 'BD']\n",
      "Team Size: 0\n",
      "\n",
      "Name: Test Product - D\n",
      "Tracks: ['Web', 'DS']\n",
      "Team Size: 0\n",
      "\n"
     ]
    }
   ],
   "source": [
    "for project in projects:\n",
    "    print(f\"Name: {project.id}\")\n",
    "    print(f\"Tracks: {project.tracks}\")\n",
    "    print(f\"Team Size: {len(project.teamMemberSmtIds)}\")\n",
    "    print()"
   ],
   "metadata": {
    "collapsed": false,
    "pycharm": {
     "name": "#%%\n"
    }
   }
  },
  {
   "cell_type": "code",
   "execution_count": 17,
   "outputs": [
    {
     "name": "stdout",
     "output_type": "stream",
     "text": [
      "Name: Emily Jackson\n",
      "Track: Web\n",
      "Project: \n",
      "Story Points: 0\n",
      "\n",
      "Name: Evelyn Davis\n",
      "Track: Web\n",
      "Project: \n",
      "Story Points: 0\n",
      "\n",
      "Name: Isabella Scott\n",
      "Track: Web\n",
      "Project: \n",
      "Story Points: 0\n",
      "\n",
      "Name: Aria White\n",
      "Track: Web\n",
      "Project: \n",
      "Story Points: 0\n",
      "\n",
      "Name: Luna Williams\n",
      "Track: DS\n",
      "Project: \n",
      "Story Points: 0\n",
      "\n",
      "Name: Mason Gonzales\n",
      "Track: DS\n",
      "Project: \n",
      "Story Points: 0\n",
      "\n",
      "Name: Levi Green\n",
      "Track: BD\n",
      "Project: \n",
      "Story Points: 0\n",
      "\n",
      "Name: Benjamin Lopez\n",
      "Track: BD\n",
      "Project: \n",
      "Story Points: 0\n",
      "\n",
      "Name: Ellie Ramirez\n",
      "Track: Web\n",
      "Project: Test Product - A\n",
      "Story Points: 5\n",
      "\n",
      "Name: Lucas Taylor\n",
      "Track: Web\n",
      "Project: Test Product - A\n",
      "Story Points: 7\n",
      "\n",
      "Name: Noah Johnson\n",
      "Track: Web\n",
      "Project: Test Product - A\n",
      "Story Points: 16\n",
      "\n",
      "Name: Elizabeth Clark\n",
      "Track: Web\n",
      "Project: Test Product - A\n",
      "Story Points: 11\n",
      "\n",
      "Name: Mateo White\n",
      "Track: Web\n",
      "Project: Test Product - A\n",
      "Story Points: 6\n",
      "\n",
      "Name: Mia Richardson\n",
      "Track: Web\n",
      "Project: Test Product - A\n",
      "Story Points: 18\n",
      "\n",
      "Name: Ella Gonzales\n",
      "Track: Web\n",
      "Project: Test Product - A\n",
      "Story Points: 7\n",
      "\n",
      "Name: Daniel Allen\n",
      "Track: Web\n",
      "Project: Test Product - A\n",
      "Story Points: 17\n",
      "\n",
      "Name: Lucas Bennet\n",
      "Track: BD\n",
      "Project: Test Product - B\n",
      "Story Points: 12\n",
      "\n",
      "Name: Camila Mitchell\n",
      "Track: BD\n",
      "Project: Test Product - B\n",
      "Story Points: 9\n",
      "\n",
      "Name: Amelia King\n",
      "Track: BD\n",
      "Project: Test Product - B\n",
      "Story Points: 13\n",
      "\n",
      "Name: Elijah Nguyen\n",
      "Track: BD\n",
      "Project: Test Product - B\n",
      "Story Points: 15\n",
      "\n",
      "Name: Jacob Richardson\n",
      "Track: Web\n",
      "Project: Test Product - B\n",
      "Story Points: 9\n",
      "\n",
      "Name: Luna Harris\n",
      "Track: Web\n",
      "Project: Test Product - B\n",
      "Story Points: 16\n",
      "\n",
      "Name: Levi Nelson\n",
      "Track: Web\n",
      "Project: Test Product - B\n",
      "Story Points: 15\n",
      "\n",
      "Name: Chloe Johnson\n",
      "Track: Web\n",
      "Project: Test Product - B\n",
      "Story Points: 14\n",
      "\n",
      "Name: Aria Baker\n",
      "Track: Web\n",
      "Project: Test Product - B\n",
      "Story Points: 17\n",
      "\n",
      "Name: Theodore Richardson\n",
      "Track: Web\n",
      "Project: Test Product - B\n",
      "Story Points: 17\n",
      "\n",
      "Name: Jackson Chavez\n",
      "Track: Web\n",
      "Project: Test Product - B\n",
      "Story Points: 10\n",
      "\n",
      "Name: Mason James\n",
      "Track: Web\n",
      "Project: Test Product - B\n",
      "Story Points: 3\n",
      "\n",
      "Name: Harper Rivera\n",
      "Track: DS\n",
      "Project: Test Product - A\n",
      "Story Points: 11\n",
      "\n",
      "Name: Benjamin Jackson\n",
      "Track: DS\n",
      "Project: Test Product - A\n",
      "Story Points: 4\n",
      "\n",
      "Name: Elijah Bennet\n",
      "Track: DS\n",
      "Project: Test Product - A\n",
      "Story Points: 3\n",
      "\n",
      "Name: Jacob Wilson\n",
      "Track: DS\n",
      "Project: Test Product - A\n",
      "Story Points: 20\n",
      "\n"
     ]
    }
   ],
   "source": [
    "for learner in learners:\n",
    "    print(f\"Name: {learner.name}\")\n",
    "    print(f\"Track: {learner.track}\")\n",
    "    print(f\"Project: {learner.labsProject}\")\n",
    "    print(f\"Story Points: {learner.storyPoints}\")\n",
    "    print()"
   ],
   "metadata": {
    "collapsed": false,
    "pycharm": {
     "name": "#%%\n"
    }
   }
  },
  {
   "cell_type": "code",
   "execution_count": 18,
   "outputs": [],
   "source": [
    "result = sorting_hat(payload)"
   ],
   "metadata": {
    "collapsed": false,
    "pycharm": {
     "name": "#%%\n"
    }
   }
  },
  {
   "cell_type": "code",
   "execution_count": 19,
   "outputs": [],
   "source": [
    "learners = result.learners\n",
    "projects = result.projects"
   ],
   "metadata": {
    "collapsed": false,
    "pycharm": {
     "name": "#%%\n"
    }
   }
  },
  {
   "cell_type": "code",
   "execution_count": 20,
   "outputs": [
    {
     "name": "stdout",
     "output_type": "stream",
     "text": [
      "Name: Test Product - A\n",
      "Tracks: ['Web', 'DS']\n",
      "Team Size: 12\n",
      "\n",
      "Name: Test Product - D\n",
      "Tracks: ['Web', 'DS']\n",
      "Team Size: 4\n",
      "\n",
      "Name: Test Product - B\n",
      "Tracks: ['Web', 'BD']\n",
      "Team Size: 12\n",
      "\n",
      "Name: Test Product - C\n",
      "Tracks: ['Web', 'BD']\n",
      "Team Size: 4\n",
      "\n"
     ]
    }
   ],
   "source": [
    "for project in projects:\n",
    "    print(f\"Name: {project.id}\")\n",
    "    print(f\"Tracks: {project.tracks}\")\n",
    "    print(f\"Team Size: {len(project.teamMemberSmtIds)}\")\n",
    "    print()"
   ],
   "metadata": {
    "collapsed": false,
    "pycharm": {
     "name": "#%%\n"
    }
   }
  },
  {
   "cell_type": "code",
   "execution_count": 25,
   "outputs": [
    {
     "name": "stdout",
     "output_type": "stream",
     "text": [
      "Name: Levi Green\n",
      "Track: BD\n",
      "Project: Test Product - C\n",
      "Story Points: 0\n",
      "\n",
      "Name: Benjamin Lopez\n",
      "Track: BD\n",
      "Project: Test Product - C\n",
      "Story Points: 0\n",
      "\n",
      "Name: Lucas Bennet\n",
      "Track: BD\n",
      "Project: Test Product - B\n",
      "Story Points: 12\n",
      "\n",
      "Name: Camila Mitchell\n",
      "Track: BD\n",
      "Project: Test Product - B\n",
      "Story Points: 9\n",
      "\n",
      "Name: Amelia King\n",
      "Track: BD\n",
      "Project: Test Product - B\n",
      "Story Points: 13\n",
      "\n",
      "Name: Elijah Nguyen\n",
      "Track: BD\n",
      "Project: Test Product - B\n",
      "Story Points: 15\n",
      "\n",
      "Name: Luna Williams\n",
      "Track: DS\n",
      "Project: Test Product - D\n",
      "Story Points: 0\n",
      "\n",
      "Name: Mason Gonzales\n",
      "Track: DS\n",
      "Project: Test Product - D\n",
      "Story Points: 0\n",
      "\n",
      "Name: Harper Rivera\n",
      "Track: DS\n",
      "Project: Test Product - A\n",
      "Story Points: 11\n",
      "\n",
      "Name: Benjamin Jackson\n",
      "Track: DS\n",
      "Project: Test Product - A\n",
      "Story Points: 4\n",
      "\n",
      "Name: Elijah Bennet\n",
      "Track: DS\n",
      "Project: Test Product - A\n",
      "Story Points: 3\n",
      "\n",
      "Name: Jacob Wilson\n",
      "Track: DS\n",
      "Project: Test Product - A\n",
      "Story Points: 20\n",
      "\n",
      "Name: Emily Jackson\n",
      "Track: Web\n",
      "Project: Test Product - D\n",
      "Story Points: 0\n",
      "\n",
      "Name: Evelyn Davis\n",
      "Track: Web\n",
      "Project: Test Product - C\n",
      "Story Points: 0\n",
      "\n",
      "Name: Isabella Scott\n",
      "Track: Web\n",
      "Project: Test Product - D\n",
      "Story Points: 0\n",
      "\n",
      "Name: Aria White\n",
      "Track: Web\n",
      "Project: Test Product - C\n",
      "Story Points: 0\n",
      "\n",
      "Name: Ellie Ramirez\n",
      "Track: Web\n",
      "Project: Test Product - A\n",
      "Story Points: 5\n",
      "\n",
      "Name: Lucas Taylor\n",
      "Track: Web\n",
      "Project: Test Product - A\n",
      "Story Points: 7\n",
      "\n",
      "Name: Noah Johnson\n",
      "Track: Web\n",
      "Project: Test Product - A\n",
      "Story Points: 16\n",
      "\n",
      "Name: Elizabeth Clark\n",
      "Track: Web\n",
      "Project: Test Product - A\n",
      "Story Points: 11\n",
      "\n",
      "Name: Mateo White\n",
      "Track: Web\n",
      "Project: Test Product - A\n",
      "Story Points: 6\n",
      "\n",
      "Name: Mia Richardson\n",
      "Track: Web\n",
      "Project: Test Product - A\n",
      "Story Points: 18\n",
      "\n",
      "Name: Ella Gonzales\n",
      "Track: Web\n",
      "Project: Test Product - A\n",
      "Story Points: 7\n",
      "\n",
      "Name: Daniel Allen\n",
      "Track: Web\n",
      "Project: Test Product - A\n",
      "Story Points: 17\n",
      "\n",
      "Name: Jacob Richardson\n",
      "Track: Web\n",
      "Project: Test Product - B\n",
      "Story Points: 9\n",
      "\n",
      "Name: Luna Harris\n",
      "Track: Web\n",
      "Project: Test Product - B\n",
      "Story Points: 16\n",
      "\n",
      "Name: Levi Nelson\n",
      "Track: Web\n",
      "Project: Test Product - B\n",
      "Story Points: 15\n",
      "\n",
      "Name: Chloe Johnson\n",
      "Track: Web\n",
      "Project: Test Product - B\n",
      "Story Points: 14\n",
      "\n",
      "Name: Aria Baker\n",
      "Track: Web\n",
      "Project: Test Product - B\n",
      "Story Points: 17\n",
      "\n",
      "Name: Theodore Richardson\n",
      "Track: Web\n",
      "Project: Test Product - B\n",
      "Story Points: 17\n",
      "\n",
      "Name: Jackson Chavez\n",
      "Track: Web\n",
      "Project: Test Product - B\n",
      "Story Points: 10\n",
      "\n",
      "Name: Mason James\n",
      "Track: Web\n",
      "Project: Test Product - B\n",
      "Story Points: 3\n",
      "\n"
     ]
    }
   ],
   "source": [
    "for learner in learners:\n",
    "    print(f\"Name: {learner.name}\")\n",
    "    print(f\"Track: {learner.track}\")\n",
    "    print(f\"Project: {learner.labsProject}\")\n",
    "    print(f\"Story Points: {learner.storyPoints}\")\n",
    "    print()"
   ],
   "metadata": {
    "collapsed": false,
    "pycharm": {
     "name": "#%%\n"
    }
   }
  },
  {
   "cell_type": "code",
   "execution_count": 22,
   "outputs": [],
   "source": [
    "from pandas import DataFrame\n",
    "import plotly.graph_objects as go\n",
    "import plotly.express as px"
   ],
   "metadata": {
    "collapsed": false,
    "pycharm": {
     "name": "#%%\n"
    }
   }
  },
  {
   "cell_type": "code",
   "execution_count": 26,
   "outputs": [],
   "source": [
    "learners = list(map(dict, learners))"
   ],
   "metadata": {
    "collapsed": false,
    "pycharm": {
     "name": "#%%\n"
    }
   }
  },
  {
   "cell_type": "code",
   "execution_count": 27,
   "outputs": [
    {
     "data": {
      "application/vnd.plotly.v1+json": {
       "data": [
        {
         "hole": 0.5,
         "hoverinfo": "text+label+value",
         "labels": [
          "Test Product - B",
          "Test Product - A",
          "Test Product - C",
          "Test Product - D"
         ],
         "showlegend": false,
         "textfont": {
          "size": 12
         },
         "textinfo": "percent+label",
         "textposition": "inside",
         "values": [
          12,
          12,
          4,
          4
         ],
         "type": "pie"
        }
       ],
       "layout": {
        "colorway": [
         "rgb(133, 92, 117)",
         "rgb(217, 175, 107)",
         "rgb(175, 100, 88)",
         "rgb(115, 111, 76)",
         "rgb(82, 106, 131)",
         "rgb(98, 83, 119)",
         "rgb(104, 133, 92)",
         "rgb(156, 156, 94)",
         "rgb(160, 97, 119)",
         "rgb(140, 120, 93)",
         "rgb(124, 124, 124)"
        ],
        "height": 640,
        "paper_bgcolor": "#333333",
        "title": {
         "font": {
          "color": "white",
          "size": 24
         },
         "text": "Learner Count by Team"
        },
        "width": 640,
        "template": {
         "data": {
          "histogram2dcontour": [
           {
            "type": "histogram2dcontour",
            "colorbar": {
             "outlinewidth": 0,
             "ticks": ""
            },
            "colorscale": [
             [
              0.0,
              "#0d0887"
             ],
             [
              0.1111111111111111,
              "#46039f"
             ],
             [
              0.2222222222222222,
              "#7201a8"
             ],
             [
              0.3333333333333333,
              "#9c179e"
             ],
             [
              0.4444444444444444,
              "#bd3786"
             ],
             [
              0.5555555555555556,
              "#d8576b"
             ],
             [
              0.6666666666666666,
              "#ed7953"
             ],
             [
              0.7777777777777778,
              "#fb9f3a"
             ],
             [
              0.8888888888888888,
              "#fdca26"
             ],
             [
              1.0,
              "#f0f921"
             ]
            ]
           }
          ],
          "choropleth": [
           {
            "type": "choropleth",
            "colorbar": {
             "outlinewidth": 0,
             "ticks": ""
            }
           }
          ],
          "histogram2d": [
           {
            "type": "histogram2d",
            "colorbar": {
             "outlinewidth": 0,
             "ticks": ""
            },
            "colorscale": [
             [
              0.0,
              "#0d0887"
             ],
             [
              0.1111111111111111,
              "#46039f"
             ],
             [
              0.2222222222222222,
              "#7201a8"
             ],
             [
              0.3333333333333333,
              "#9c179e"
             ],
             [
              0.4444444444444444,
              "#bd3786"
             ],
             [
              0.5555555555555556,
              "#d8576b"
             ],
             [
              0.6666666666666666,
              "#ed7953"
             ],
             [
              0.7777777777777778,
              "#fb9f3a"
             ],
             [
              0.8888888888888888,
              "#fdca26"
             ],
             [
              1.0,
              "#f0f921"
             ]
            ]
           }
          ],
          "heatmap": [
           {
            "type": "heatmap",
            "colorbar": {
             "outlinewidth": 0,
             "ticks": ""
            },
            "colorscale": [
             [
              0.0,
              "#0d0887"
             ],
             [
              0.1111111111111111,
              "#46039f"
             ],
             [
              0.2222222222222222,
              "#7201a8"
             ],
             [
              0.3333333333333333,
              "#9c179e"
             ],
             [
              0.4444444444444444,
              "#bd3786"
             ],
             [
              0.5555555555555556,
              "#d8576b"
             ],
             [
              0.6666666666666666,
              "#ed7953"
             ],
             [
              0.7777777777777778,
              "#fb9f3a"
             ],
             [
              0.8888888888888888,
              "#fdca26"
             ],
             [
              1.0,
              "#f0f921"
             ]
            ]
           }
          ],
          "heatmapgl": [
           {
            "type": "heatmapgl",
            "colorbar": {
             "outlinewidth": 0,
             "ticks": ""
            },
            "colorscale": [
             [
              0.0,
              "#0d0887"
             ],
             [
              0.1111111111111111,
              "#46039f"
             ],
             [
              0.2222222222222222,
              "#7201a8"
             ],
             [
              0.3333333333333333,
              "#9c179e"
             ],
             [
              0.4444444444444444,
              "#bd3786"
             ],
             [
              0.5555555555555556,
              "#d8576b"
             ],
             [
              0.6666666666666666,
              "#ed7953"
             ],
             [
              0.7777777777777778,
              "#fb9f3a"
             ],
             [
              0.8888888888888888,
              "#fdca26"
             ],
             [
              1.0,
              "#f0f921"
             ]
            ]
           }
          ],
          "contourcarpet": [
           {
            "type": "contourcarpet",
            "colorbar": {
             "outlinewidth": 0,
             "ticks": ""
            }
           }
          ],
          "contour": [
           {
            "type": "contour",
            "colorbar": {
             "outlinewidth": 0,
             "ticks": ""
            },
            "colorscale": [
             [
              0.0,
              "#0d0887"
             ],
             [
              0.1111111111111111,
              "#46039f"
             ],
             [
              0.2222222222222222,
              "#7201a8"
             ],
             [
              0.3333333333333333,
              "#9c179e"
             ],
             [
              0.4444444444444444,
              "#bd3786"
             ],
             [
              0.5555555555555556,
              "#d8576b"
             ],
             [
              0.6666666666666666,
              "#ed7953"
             ],
             [
              0.7777777777777778,
              "#fb9f3a"
             ],
             [
              0.8888888888888888,
              "#fdca26"
             ],
             [
              1.0,
              "#f0f921"
             ]
            ]
           }
          ],
          "surface": [
           {
            "type": "surface",
            "colorbar": {
             "outlinewidth": 0,
             "ticks": ""
            },
            "colorscale": [
             [
              0.0,
              "#0d0887"
             ],
             [
              0.1111111111111111,
              "#46039f"
             ],
             [
              0.2222222222222222,
              "#7201a8"
             ],
             [
              0.3333333333333333,
              "#9c179e"
             ],
             [
              0.4444444444444444,
              "#bd3786"
             ],
             [
              0.5555555555555556,
              "#d8576b"
             ],
             [
              0.6666666666666666,
              "#ed7953"
             ],
             [
              0.7777777777777778,
              "#fb9f3a"
             ],
             [
              0.8888888888888888,
              "#fdca26"
             ],
             [
              1.0,
              "#f0f921"
             ]
            ]
           }
          ],
          "mesh3d": [
           {
            "type": "mesh3d",
            "colorbar": {
             "outlinewidth": 0,
             "ticks": ""
            }
           }
          ],
          "scatter": [
           {
            "fillpattern": {
             "fillmode": "overlay",
             "size": 10,
             "solidity": 0.2
            },
            "type": "scatter"
           }
          ],
          "parcoords": [
           {
            "type": "parcoords",
            "line": {
             "colorbar": {
              "outlinewidth": 0,
              "ticks": ""
             }
            }
           }
          ],
          "scatterpolargl": [
           {
            "type": "scatterpolargl",
            "marker": {
             "colorbar": {
              "outlinewidth": 0,
              "ticks": ""
             }
            }
           }
          ],
          "bar": [
           {
            "error_x": {
             "color": "#2a3f5f"
            },
            "error_y": {
             "color": "#2a3f5f"
            },
            "marker": {
             "line": {
              "color": "#E5ECF6",
              "width": 0.5
             },
             "pattern": {
              "fillmode": "overlay",
              "size": 10,
              "solidity": 0.2
             }
            },
            "type": "bar"
           }
          ],
          "scattergeo": [
           {
            "type": "scattergeo",
            "marker": {
             "colorbar": {
              "outlinewidth": 0,
              "ticks": ""
             }
            }
           }
          ],
          "scatterpolar": [
           {
            "type": "scatterpolar",
            "marker": {
             "colorbar": {
              "outlinewidth": 0,
              "ticks": ""
             }
            }
           }
          ],
          "histogram": [
           {
            "marker": {
             "pattern": {
              "fillmode": "overlay",
              "size": 10,
              "solidity": 0.2
             }
            },
            "type": "histogram"
           }
          ],
          "scattergl": [
           {
            "type": "scattergl",
            "marker": {
             "colorbar": {
              "outlinewidth": 0,
              "ticks": ""
             }
            }
           }
          ],
          "scatter3d": [
           {
            "type": "scatter3d",
            "line": {
             "colorbar": {
              "outlinewidth": 0,
              "ticks": ""
             }
            },
            "marker": {
             "colorbar": {
              "outlinewidth": 0,
              "ticks": ""
             }
            }
           }
          ],
          "scattermapbox": [
           {
            "type": "scattermapbox",
            "marker": {
             "colorbar": {
              "outlinewidth": 0,
              "ticks": ""
             }
            }
           }
          ],
          "scatterternary": [
           {
            "type": "scatterternary",
            "marker": {
             "colorbar": {
              "outlinewidth": 0,
              "ticks": ""
             }
            }
           }
          ],
          "scattercarpet": [
           {
            "type": "scattercarpet",
            "marker": {
             "colorbar": {
              "outlinewidth": 0,
              "ticks": ""
             }
            }
           }
          ],
          "carpet": [
           {
            "aaxis": {
             "endlinecolor": "#2a3f5f",
             "gridcolor": "white",
             "linecolor": "white",
             "minorgridcolor": "white",
             "startlinecolor": "#2a3f5f"
            },
            "baxis": {
             "endlinecolor": "#2a3f5f",
             "gridcolor": "white",
             "linecolor": "white",
             "minorgridcolor": "white",
             "startlinecolor": "#2a3f5f"
            },
            "type": "carpet"
           }
          ],
          "table": [
           {
            "cells": {
             "fill": {
              "color": "#EBF0F8"
             },
             "line": {
              "color": "white"
             }
            },
            "header": {
             "fill": {
              "color": "#C8D4E3"
             },
             "line": {
              "color": "white"
             }
            },
            "type": "table"
           }
          ],
          "barpolar": [
           {
            "marker": {
             "line": {
              "color": "#E5ECF6",
              "width": 0.5
             },
             "pattern": {
              "fillmode": "overlay",
              "size": 10,
              "solidity": 0.2
             }
            },
            "type": "barpolar"
           }
          ],
          "pie": [
           {
            "automargin": true,
            "type": "pie"
           }
          ]
         },
         "layout": {
          "autotypenumbers": "strict",
          "colorway": [
           "#636efa",
           "#EF553B",
           "#00cc96",
           "#ab63fa",
           "#FFA15A",
           "#19d3f3",
           "#FF6692",
           "#B6E880",
           "#FF97FF",
           "#FECB52"
          ],
          "font": {
           "color": "#2a3f5f"
          },
          "hovermode": "closest",
          "hoverlabel": {
           "align": "left"
          },
          "paper_bgcolor": "white",
          "plot_bgcolor": "#E5ECF6",
          "polar": {
           "bgcolor": "#E5ECF6",
           "angularaxis": {
            "gridcolor": "white",
            "linecolor": "white",
            "ticks": ""
           },
           "radialaxis": {
            "gridcolor": "white",
            "linecolor": "white",
            "ticks": ""
           }
          },
          "ternary": {
           "bgcolor": "#E5ECF6",
           "aaxis": {
            "gridcolor": "white",
            "linecolor": "white",
            "ticks": ""
           },
           "baxis": {
            "gridcolor": "white",
            "linecolor": "white",
            "ticks": ""
           },
           "caxis": {
            "gridcolor": "white",
            "linecolor": "white",
            "ticks": ""
           }
          },
          "coloraxis": {
           "colorbar": {
            "outlinewidth": 0,
            "ticks": ""
           }
          },
          "colorscale": {
           "sequential": [
            [
             0.0,
             "#0d0887"
            ],
            [
             0.1111111111111111,
             "#46039f"
            ],
            [
             0.2222222222222222,
             "#7201a8"
            ],
            [
             0.3333333333333333,
             "#9c179e"
            ],
            [
             0.4444444444444444,
             "#bd3786"
            ],
            [
             0.5555555555555556,
             "#d8576b"
            ],
            [
             0.6666666666666666,
             "#ed7953"
            ],
            [
             0.7777777777777778,
             "#fb9f3a"
            ],
            [
             0.8888888888888888,
             "#fdca26"
            ],
            [
             1.0,
             "#f0f921"
            ]
           ],
           "sequentialminus": [
            [
             0.0,
             "#0d0887"
            ],
            [
             0.1111111111111111,
             "#46039f"
            ],
            [
             0.2222222222222222,
             "#7201a8"
            ],
            [
             0.3333333333333333,
             "#9c179e"
            ],
            [
             0.4444444444444444,
             "#bd3786"
            ],
            [
             0.5555555555555556,
             "#d8576b"
            ],
            [
             0.6666666666666666,
             "#ed7953"
            ],
            [
             0.7777777777777778,
             "#fb9f3a"
            ],
            [
             0.8888888888888888,
             "#fdca26"
            ],
            [
             1.0,
             "#f0f921"
            ]
           ],
           "diverging": [
            [
             0,
             "#8e0152"
            ],
            [
             0.1,
             "#c51b7d"
            ],
            [
             0.2,
             "#de77ae"
            ],
            [
             0.3,
             "#f1b6da"
            ],
            [
             0.4,
             "#fde0ef"
            ],
            [
             0.5,
             "#f7f7f7"
            ],
            [
             0.6,
             "#e6f5d0"
            ],
            [
             0.7,
             "#b8e186"
            ],
            [
             0.8,
             "#7fbc41"
            ],
            [
             0.9,
             "#4d9221"
            ],
            [
             1,
             "#276419"
            ]
           ]
          },
          "xaxis": {
           "gridcolor": "white",
           "linecolor": "white",
           "ticks": "",
           "title": {
            "standoff": 15
           },
           "zerolinecolor": "white",
           "automargin": true,
           "zerolinewidth": 2
          },
          "yaxis": {
           "gridcolor": "white",
           "linecolor": "white",
           "ticks": "",
           "title": {
            "standoff": 15
           },
           "zerolinecolor": "white",
           "automargin": true,
           "zerolinewidth": 2
          },
          "scene": {
           "xaxis": {
            "backgroundcolor": "#E5ECF6",
            "gridcolor": "white",
            "linecolor": "white",
            "showbackground": true,
            "ticks": "",
            "zerolinecolor": "white",
            "gridwidth": 2
           },
           "yaxis": {
            "backgroundcolor": "#E5ECF6",
            "gridcolor": "white",
            "linecolor": "white",
            "showbackground": true,
            "ticks": "",
            "zerolinecolor": "white",
            "gridwidth": 2
           },
           "zaxis": {
            "backgroundcolor": "#E5ECF6",
            "gridcolor": "white",
            "linecolor": "white",
            "showbackground": true,
            "ticks": "",
            "zerolinecolor": "white",
            "gridwidth": 2
           }
          },
          "shapedefaults": {
           "line": {
            "color": "#2a3f5f"
           }
          },
          "annotationdefaults": {
           "arrowcolor": "#2a3f5f",
           "arrowhead": 0,
           "arrowwidth": 1
          },
          "geo": {
           "bgcolor": "white",
           "landcolor": "#E5ECF6",
           "subunitcolor": "white",
           "showland": true,
           "showlakes": true,
           "lakecolor": "white"
          },
          "title": {
           "x": 0.05
          },
          "mapbox": {
           "style": "light"
          }
         }
        }
       },
       "config": {
        "plotlyServerURL": "https://plot.ly"
       }
      },
      "text/html": "<div>                            <div id=\"60898592-b130-43d0-b726-c983340c319f\" class=\"plotly-graph-div\" style=\"height:640px; width:640px;\"></div>            <script type=\"text/javascript\">                require([\"plotly\"], function(Plotly) {                    window.PLOTLYENV=window.PLOTLYENV || {};                                    if (document.getElementById(\"60898592-b130-43d0-b726-c983340c319f\")) {                    Plotly.newPlot(                        \"60898592-b130-43d0-b726-c983340c319f\",                        [{\"hole\":0.5,\"hoverinfo\":\"text+label+value\",\"labels\":[\"Test Product - B\",\"Test Product - A\",\"Test Product - C\",\"Test Product - D\"],\"showlegend\":false,\"textfont\":{\"size\":12},\"textinfo\":\"percent+label\",\"textposition\":\"inside\",\"values\":[12,12,4,4],\"type\":\"pie\"}],                        {\"colorway\":[\"rgb(133, 92, 117)\",\"rgb(217, 175, 107)\",\"rgb(175, 100, 88)\",\"rgb(115, 111, 76)\",\"rgb(82, 106, 131)\",\"rgb(98, 83, 119)\",\"rgb(104, 133, 92)\",\"rgb(156, 156, 94)\",\"rgb(160, 97, 119)\",\"rgb(140, 120, 93)\",\"rgb(124, 124, 124)\"],\"height\":640,\"paper_bgcolor\":\"#333333\",\"title\":{\"font\":{\"color\":\"white\",\"size\":24},\"text\":\"Learner Count by Team\"},\"width\":640,\"template\":{\"data\":{\"histogram2dcontour\":[{\"type\":\"histogram2dcontour\",\"colorbar\":{\"outlinewidth\":0,\"ticks\":\"\"},\"colorscale\":[[0.0,\"#0d0887\"],[0.1111111111111111,\"#46039f\"],[0.2222222222222222,\"#7201a8\"],[0.3333333333333333,\"#9c179e\"],[0.4444444444444444,\"#bd3786\"],[0.5555555555555556,\"#d8576b\"],[0.6666666666666666,\"#ed7953\"],[0.7777777777777778,\"#fb9f3a\"],[0.8888888888888888,\"#fdca26\"],[1.0,\"#f0f921\"]]}],\"choropleth\":[{\"type\":\"choropleth\",\"colorbar\":{\"outlinewidth\":0,\"ticks\":\"\"}}],\"histogram2d\":[{\"type\":\"histogram2d\",\"colorbar\":{\"outlinewidth\":0,\"ticks\":\"\"},\"colorscale\":[[0.0,\"#0d0887\"],[0.1111111111111111,\"#46039f\"],[0.2222222222222222,\"#7201a8\"],[0.3333333333333333,\"#9c179e\"],[0.4444444444444444,\"#bd3786\"],[0.5555555555555556,\"#d8576b\"],[0.6666666666666666,\"#ed7953\"],[0.7777777777777778,\"#fb9f3a\"],[0.8888888888888888,\"#fdca26\"],[1.0,\"#f0f921\"]]}],\"heatmap\":[{\"type\":\"heatmap\",\"colorbar\":{\"outlinewidth\":0,\"ticks\":\"\"},\"colorscale\":[[0.0,\"#0d0887\"],[0.1111111111111111,\"#46039f\"],[0.2222222222222222,\"#7201a8\"],[0.3333333333333333,\"#9c179e\"],[0.4444444444444444,\"#bd3786\"],[0.5555555555555556,\"#d8576b\"],[0.6666666666666666,\"#ed7953\"],[0.7777777777777778,\"#fb9f3a\"],[0.8888888888888888,\"#fdca26\"],[1.0,\"#f0f921\"]]}],\"heatmapgl\":[{\"type\":\"heatmapgl\",\"colorbar\":{\"outlinewidth\":0,\"ticks\":\"\"},\"colorscale\":[[0.0,\"#0d0887\"],[0.1111111111111111,\"#46039f\"],[0.2222222222222222,\"#7201a8\"],[0.3333333333333333,\"#9c179e\"],[0.4444444444444444,\"#bd3786\"],[0.5555555555555556,\"#d8576b\"],[0.6666666666666666,\"#ed7953\"],[0.7777777777777778,\"#fb9f3a\"],[0.8888888888888888,\"#fdca26\"],[1.0,\"#f0f921\"]]}],\"contourcarpet\":[{\"type\":\"contourcarpet\",\"colorbar\":{\"outlinewidth\":0,\"ticks\":\"\"}}],\"contour\":[{\"type\":\"contour\",\"colorbar\":{\"outlinewidth\":0,\"ticks\":\"\"},\"colorscale\":[[0.0,\"#0d0887\"],[0.1111111111111111,\"#46039f\"],[0.2222222222222222,\"#7201a8\"],[0.3333333333333333,\"#9c179e\"],[0.4444444444444444,\"#bd3786\"],[0.5555555555555556,\"#d8576b\"],[0.6666666666666666,\"#ed7953\"],[0.7777777777777778,\"#fb9f3a\"],[0.8888888888888888,\"#fdca26\"],[1.0,\"#f0f921\"]]}],\"surface\":[{\"type\":\"surface\",\"colorbar\":{\"outlinewidth\":0,\"ticks\":\"\"},\"colorscale\":[[0.0,\"#0d0887\"],[0.1111111111111111,\"#46039f\"],[0.2222222222222222,\"#7201a8\"],[0.3333333333333333,\"#9c179e\"],[0.4444444444444444,\"#bd3786\"],[0.5555555555555556,\"#d8576b\"],[0.6666666666666666,\"#ed7953\"],[0.7777777777777778,\"#fb9f3a\"],[0.8888888888888888,\"#fdca26\"],[1.0,\"#f0f921\"]]}],\"mesh3d\":[{\"type\":\"mesh3d\",\"colorbar\":{\"outlinewidth\":0,\"ticks\":\"\"}}],\"scatter\":[{\"fillpattern\":{\"fillmode\":\"overlay\",\"size\":10,\"solidity\":0.2},\"type\":\"scatter\"}],\"parcoords\":[{\"type\":\"parcoords\",\"line\":{\"colorbar\":{\"outlinewidth\":0,\"ticks\":\"\"}}}],\"scatterpolargl\":[{\"type\":\"scatterpolargl\",\"marker\":{\"colorbar\":{\"outlinewidth\":0,\"ticks\":\"\"}}}],\"bar\":[{\"error_x\":{\"color\":\"#2a3f5f\"},\"error_y\":{\"color\":\"#2a3f5f\"},\"marker\":{\"line\":{\"color\":\"#E5ECF6\",\"width\":0.5},\"pattern\":{\"fillmode\":\"overlay\",\"size\":10,\"solidity\":0.2}},\"type\":\"bar\"}],\"scattergeo\":[{\"type\":\"scattergeo\",\"marker\":{\"colorbar\":{\"outlinewidth\":0,\"ticks\":\"\"}}}],\"scatterpolar\":[{\"type\":\"scatterpolar\",\"marker\":{\"colorbar\":{\"outlinewidth\":0,\"ticks\":\"\"}}}],\"histogram\":[{\"marker\":{\"pattern\":{\"fillmode\":\"overlay\",\"size\":10,\"solidity\":0.2}},\"type\":\"histogram\"}],\"scattergl\":[{\"type\":\"scattergl\",\"marker\":{\"colorbar\":{\"outlinewidth\":0,\"ticks\":\"\"}}}],\"scatter3d\":[{\"type\":\"scatter3d\",\"line\":{\"colorbar\":{\"outlinewidth\":0,\"ticks\":\"\"}},\"marker\":{\"colorbar\":{\"outlinewidth\":0,\"ticks\":\"\"}}}],\"scattermapbox\":[{\"type\":\"scattermapbox\",\"marker\":{\"colorbar\":{\"outlinewidth\":0,\"ticks\":\"\"}}}],\"scatterternary\":[{\"type\":\"scatterternary\",\"marker\":{\"colorbar\":{\"outlinewidth\":0,\"ticks\":\"\"}}}],\"scattercarpet\":[{\"type\":\"scattercarpet\",\"marker\":{\"colorbar\":{\"outlinewidth\":0,\"ticks\":\"\"}}}],\"carpet\":[{\"aaxis\":{\"endlinecolor\":\"#2a3f5f\",\"gridcolor\":\"white\",\"linecolor\":\"white\",\"minorgridcolor\":\"white\",\"startlinecolor\":\"#2a3f5f\"},\"baxis\":{\"endlinecolor\":\"#2a3f5f\",\"gridcolor\":\"white\",\"linecolor\":\"white\",\"minorgridcolor\":\"white\",\"startlinecolor\":\"#2a3f5f\"},\"type\":\"carpet\"}],\"table\":[{\"cells\":{\"fill\":{\"color\":\"#EBF0F8\"},\"line\":{\"color\":\"white\"}},\"header\":{\"fill\":{\"color\":\"#C8D4E3\"},\"line\":{\"color\":\"white\"}},\"type\":\"table\"}],\"barpolar\":[{\"marker\":{\"line\":{\"color\":\"#E5ECF6\",\"width\":0.5},\"pattern\":{\"fillmode\":\"overlay\",\"size\":10,\"solidity\":0.2}},\"type\":\"barpolar\"}],\"pie\":[{\"automargin\":true,\"type\":\"pie\"}]},\"layout\":{\"autotypenumbers\":\"strict\",\"colorway\":[\"#636efa\",\"#EF553B\",\"#00cc96\",\"#ab63fa\",\"#FFA15A\",\"#19d3f3\",\"#FF6692\",\"#B6E880\",\"#FF97FF\",\"#FECB52\"],\"font\":{\"color\":\"#2a3f5f\"},\"hovermode\":\"closest\",\"hoverlabel\":{\"align\":\"left\"},\"paper_bgcolor\":\"white\",\"plot_bgcolor\":\"#E5ECF6\",\"polar\":{\"bgcolor\":\"#E5ECF6\",\"angularaxis\":{\"gridcolor\":\"white\",\"linecolor\":\"white\",\"ticks\":\"\"},\"radialaxis\":{\"gridcolor\":\"white\",\"linecolor\":\"white\",\"ticks\":\"\"}},\"ternary\":{\"bgcolor\":\"#E5ECF6\",\"aaxis\":{\"gridcolor\":\"white\",\"linecolor\":\"white\",\"ticks\":\"\"},\"baxis\":{\"gridcolor\":\"white\",\"linecolor\":\"white\",\"ticks\":\"\"},\"caxis\":{\"gridcolor\":\"white\",\"linecolor\":\"white\",\"ticks\":\"\"}},\"coloraxis\":{\"colorbar\":{\"outlinewidth\":0,\"ticks\":\"\"}},\"colorscale\":{\"sequential\":[[0.0,\"#0d0887\"],[0.1111111111111111,\"#46039f\"],[0.2222222222222222,\"#7201a8\"],[0.3333333333333333,\"#9c179e\"],[0.4444444444444444,\"#bd3786\"],[0.5555555555555556,\"#d8576b\"],[0.6666666666666666,\"#ed7953\"],[0.7777777777777778,\"#fb9f3a\"],[0.8888888888888888,\"#fdca26\"],[1.0,\"#f0f921\"]],\"sequentialminus\":[[0.0,\"#0d0887\"],[0.1111111111111111,\"#46039f\"],[0.2222222222222222,\"#7201a8\"],[0.3333333333333333,\"#9c179e\"],[0.4444444444444444,\"#bd3786\"],[0.5555555555555556,\"#d8576b\"],[0.6666666666666666,\"#ed7953\"],[0.7777777777777778,\"#fb9f3a\"],[0.8888888888888888,\"#fdca26\"],[1.0,\"#f0f921\"]],\"diverging\":[[0,\"#8e0152\"],[0.1,\"#c51b7d\"],[0.2,\"#de77ae\"],[0.3,\"#f1b6da\"],[0.4,\"#fde0ef\"],[0.5,\"#f7f7f7\"],[0.6,\"#e6f5d0\"],[0.7,\"#b8e186\"],[0.8,\"#7fbc41\"],[0.9,\"#4d9221\"],[1,\"#276419\"]]},\"xaxis\":{\"gridcolor\":\"white\",\"linecolor\":\"white\",\"ticks\":\"\",\"title\":{\"standoff\":15},\"zerolinecolor\":\"white\",\"automargin\":true,\"zerolinewidth\":2},\"yaxis\":{\"gridcolor\":\"white\",\"linecolor\":\"white\",\"ticks\":\"\",\"title\":{\"standoff\":15},\"zerolinecolor\":\"white\",\"automargin\":true,\"zerolinewidth\":2},\"scene\":{\"xaxis\":{\"backgroundcolor\":\"#E5ECF6\",\"gridcolor\":\"white\",\"linecolor\":\"white\",\"showbackground\":true,\"ticks\":\"\",\"zerolinecolor\":\"white\",\"gridwidth\":2},\"yaxis\":{\"backgroundcolor\":\"#E5ECF6\",\"gridcolor\":\"white\",\"linecolor\":\"white\",\"showbackground\":true,\"ticks\":\"\",\"zerolinecolor\":\"white\",\"gridwidth\":2},\"zaxis\":{\"backgroundcolor\":\"#E5ECF6\",\"gridcolor\":\"white\",\"linecolor\":\"white\",\"showbackground\":true,\"ticks\":\"\",\"zerolinecolor\":\"white\",\"gridwidth\":2}},\"shapedefaults\":{\"line\":{\"color\":\"#2a3f5f\"}},\"annotationdefaults\":{\"arrowcolor\":\"#2a3f5f\",\"arrowhead\":0,\"arrowwidth\":1},\"geo\":{\"bgcolor\":\"white\",\"landcolor\":\"#E5ECF6\",\"subunitcolor\":\"white\",\"showland\":true,\"showlakes\":true,\"lakecolor\":\"white\"},\"title\":{\"x\":0.05},\"mapbox\":{\"style\":\"light\"}}}},                        {\"responsive\": true}                    ).then(function(){\n                            \nvar gd = document.getElementById('60898592-b130-43d0-b726-c983340c319f');\nvar x = new MutationObserver(function (mutations, observer) {{\n        var display = window.getComputedStyle(gd).display;\n        if (!display || display === 'none') {{\n            console.log([gd, 'removed!']);\n            Plotly.purge(gd);\n            observer.disconnect();\n        }}\n}});\n\n// Listen for the removal of the full notebook cells\nvar notebookContainer = gd.closest('#notebook-container');\nif (notebookContainer) {{\n    x.observe(notebookContainer, {childList: true});\n}}\n\n// Listen for the clearing of the current output cell\nvar outputEl = gd.closest('.output');\nif (outputEl) {{\n    x.observe(outputEl, {childList: true});\n}}\n\n                        })                };                });            </script>        </div>"
     },
     "metadata": {},
     "output_type": "display_data"
    }
   ],
   "source": [
    "df_type = DataFrame(learners)\n",
    "type_value_counts = df_type[\"labsProject\"].value_counts()\n",
    "data = go.Pie(\n",
    "    labels=type_value_counts.index,\n",
    "    values=type_value_counts.values,\n",
    "    hole=0.5,\n",
    "    textinfo=\"percent+label\",\n",
    "    textfont={\"size\": 12},\n",
    "    hoverinfo=\"text+label+value\",\n",
    "    textposition='inside',\n",
    "    showlegend=False,\n",
    ")\n",
    "layout = go.Layout(\n",
    "    title={\n",
    "        \"text\": \"Learner Count by Team\",\n",
    "        \"font\": {\"color\": \"white\", \"size\": 24},\n",
    "    },\n",
    "    colorway=px.colors.qualitative.Antique,\n",
    "    width=640,\n",
    "    height=640,\n",
    "    paper_bgcolor=\"#333333\",\n",
    ")\n",
    "figure = go.Figure(data, layout)\n",
    "figure.show()\n"
   ],
   "metadata": {
    "collapsed": false,
    "pycharm": {
     "name": "#%%\n"
    }
   }
  },
  {
   "cell_type": "code",
   "execution_count": null,
   "outputs": [],
   "source": [],
   "metadata": {
    "collapsed": false,
    "pycharm": {
     "name": "#%%\n"
    }
   }
  }
 ],
 "metadata": {
  "kernelspec": {
   "display_name": "Python 3",
   "language": "python",
   "name": "python3"
  },
  "language_info": {
   "codemirror_mode": {
    "name": "ipython",
    "version": 2
   },
   "file_extension": ".py",
   "mimetype": "text/x-python",
   "name": "python",
   "nbconvert_exporter": "python",
   "pygments_lexer": "ipython2",
   "version": "2.7.6"
  }
 },
 "nbformat": 4,
 "nbformat_minor": 0
}