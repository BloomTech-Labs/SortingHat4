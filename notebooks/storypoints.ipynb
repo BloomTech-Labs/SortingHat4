{
 "cells": [
  {
   "cell_type": "code",
   "execution_count": 1,
   "outputs": [],
   "source": [
    "from app.sorting_hat import sorting_hat\n",
    "from app.payload import example_payload"
   ],
   "metadata": {
    "collapsed": false,
    "pycharm": {
     "name": "#%%\n"
    }
   }
  },
  {
   "cell_type": "code",
   "execution_count": 2,
   "outputs": [
    {
     "data": {
      "text/plain": "Payload(learners=[Learner(lambdaId='53242kfIgYw0fQ12', name='Ella King', track='Web', storyPoints=0, labsProject='', gitExpertise=0, dockerExpertise=0, playByEar=0, detailOriented=0, speakUpInDiscussions=0, soloOrSocial='', meaningOrValue='', feelsRightOrMakesSense='', favoriteOrCollect='', tpmSkill1='B', tpmSkill2='B', tpmSkill3='C', tpmInterest1=3, tpmInterest2=3, tpmInterest3=1, tpmInterest4=1, uxInterest1=3, uxInterest2=1, frontendInterest1=2, frontendInterest2=1, backendInterest1=2, backendInterest2=1, dataEngInterest1=0, dataEngInterest2=0, dataEngInterest3=0, mlEngInterest1=0, mlEngInterest2=0, mlEngInterest3=0, mlOpsInterest1=0, mlOpsInterest2=0, mlOpsInterest3=0, tpmSkillRank=1.0, tpmInterestRank=0.5, uxInterestRank=0.5, frontendInterestRank=0.375, backendInterestRank=0.375, dataEngInterestRank=0.0, mlEngInterestRank=0.0, mlOpsInterestRank=0.0), Learner(lambdaId='5mSu6ti38Kp7Q724', name='Madison Hall', track='Web', storyPoints=0, labsProject='', gitExpertise=0, dockerExpertise=0, playByEar=0, detailOriented=0, speakUpInDiscussions=0, soloOrSocial='', meaningOrValue='', feelsRightOrMakesSense='', favoriteOrCollect='', tpmSkill1='B', tpmSkill2='B', tpmSkill3='C', tpmInterest1=1, tpmInterest2=3, tpmInterest3=1, tpmInterest4=2, uxInterest1=2, uxInterest2=2, frontendInterest1=1, frontendInterest2=3, backendInterest1=3, backendInterest2=3, dataEngInterest1=0, dataEngInterest2=0, dataEngInterest3=0, mlEngInterest1=0, mlEngInterest2=0, mlEngInterest3=0, mlOpsInterest1=0, mlOpsInterest2=0, mlOpsInterest3=0, tpmSkillRank=1.0, tpmInterestRank=0.4375, uxInterestRank=0.5, frontendInterestRank=0.5, backendInterestRank=0.75, dataEngInterestRank=0.0, mlEngInterestRank=0.0, mlOpsInterestRank=0.0), Learner(lambdaId='7184lhb1o25sH1ma', name='Mia Adams', track='Web', storyPoints=0, labsProject='', gitExpertise=0, dockerExpertise=0, playByEar=0, detailOriented=0, speakUpInDiscussions=0, soloOrSocial='', meaningOrValue='', feelsRightOrMakesSense='', favoriteOrCollect='', tpmSkill1='B', tpmSkill2='B', tpmSkill3='C', tpmInterest1=1, tpmInterest2=3, tpmInterest3=1, tpmInterest4=3, uxInterest1=1, uxInterest2=3, frontendInterest1=3, frontendInterest2=2, backendInterest1=3, backendInterest2=1, dataEngInterest1=0, dataEngInterest2=0, dataEngInterest3=0, mlEngInterest1=0, mlEngInterest2=0, mlEngInterest3=0, mlOpsInterest1=0, mlOpsInterest2=0, mlOpsInterest3=0, tpmSkillRank=1.0, tpmInterestRank=0.5, uxInterestRank=0.5, frontendInterestRank=0.625, backendInterestRank=0.5, dataEngInterestRank=0.0, mlEngInterestRank=0.0, mlOpsInterestRank=0.0), Learner(lambdaId='N4d853fd2O434xDs', name='Jackson Rivera', track='Web', storyPoints=0, labsProject='', gitExpertise=0, dockerExpertise=0, playByEar=0, detailOriented=0, speakUpInDiscussions=0, soloOrSocial='', meaningOrValue='', feelsRightOrMakesSense='', favoriteOrCollect='', tpmSkill1='B', tpmSkill2='B', tpmSkill3='C', tpmInterest1=1, tpmInterest2=2, tpmInterest3=3, tpmInterest4=3, uxInterest1=3, uxInterest2=1, frontendInterest1=2, frontendInterest2=2, backendInterest1=3, backendInterest2=1, dataEngInterest1=0, dataEngInterest2=0, dataEngInterest3=0, mlEngInterest1=0, mlEngInterest2=0, mlEngInterest3=0, mlOpsInterest1=0, mlOpsInterest2=0, mlOpsInterest3=0, tpmSkillRank=1.0, tpmInterestRank=0.5625, uxInterestRank=0.5, frontendInterestRank=0.5, backendInterestRank=0.5, dataEngInterestRank=0.0, mlEngInterestRank=0.0, mlOpsInterestRank=0.0), Learner(lambdaId='5YK836OF11kV6BU0', name='Isabella Thomas', track='DS', storyPoints=0, labsProject='', gitExpertise=0, dockerExpertise=0, playByEar=0, detailOriented=0, speakUpInDiscussions=0, soloOrSocial='', meaningOrValue='', feelsRightOrMakesSense='', favoriteOrCollect='', tpmSkill1='B', tpmSkill2='B', tpmSkill3='C', tpmInterest1=3, tpmInterest2=1, tpmInterest3=3, tpmInterest4=2, uxInterest1=2, uxInterest2=1, frontendInterest1=1, frontendInterest2=2, backendInterest1=1, backendInterest2=3, dataEngInterest1=0, dataEngInterest2=0, dataEngInterest3=0, mlEngInterest1=0, mlEngInterest2=0, mlEngInterest3=0, mlOpsInterest1=0, mlOpsInterest2=0, mlOpsInterest3=0, tpmSkillRank=1.0, tpmInterestRank=0.5625, uxInterestRank=0.375, frontendInterestRank=0.375, backendInterestRank=0.5, dataEngInterestRank=0.0, mlEngInterestRank=0.0, mlOpsInterestRank=0.0), Learner(lambdaId='133QNu1p6a2wK62h', name='Logan Torres', track='DS', storyPoints=0, labsProject='', gitExpertise=0, dockerExpertise=0, playByEar=0, detailOriented=0, speakUpInDiscussions=0, soloOrSocial='', meaningOrValue='', feelsRightOrMakesSense='', favoriteOrCollect='', tpmSkill1='B', tpmSkill2='B', tpmSkill3='C', tpmInterest1=1, tpmInterest2=2, tpmInterest3=2, tpmInterest4=1, uxInterest1=2, uxInterest2=1, frontendInterest1=2, frontendInterest2=3, backendInterest1=3, backendInterest2=2, dataEngInterest1=0, dataEngInterest2=0, dataEngInterest3=0, mlEngInterest1=0, mlEngInterest2=0, mlEngInterest3=0, mlOpsInterest1=0, mlOpsInterest2=0, mlOpsInterest3=0, tpmSkillRank=1.0, tpmInterestRank=0.375, uxInterestRank=0.375, frontendInterestRank=0.625, backendInterestRank=0.625, dataEngInterestRank=0.0, mlEngInterestRank=0.0, mlOpsInterestRank=0.0), Learner(lambdaId='30Cbao0Vc784l03M', name='Mila James', track='BD', storyPoints=0, labsProject='', gitExpertise=0, dockerExpertise=0, playByEar=0, detailOriented=0, speakUpInDiscussions=0, soloOrSocial='', meaningOrValue='', feelsRightOrMakesSense='', favoriteOrCollect='', tpmSkill1='B', tpmSkill2='B', tpmSkill3='C', tpmInterest1=2, tpmInterest2=3, tpmInterest3=1, tpmInterest4=1, uxInterest1=1, uxInterest2=2, frontendInterest1=3, frontendInterest2=1, backendInterest1=1, backendInterest2=2, dataEngInterest1=0, dataEngInterest2=0, dataEngInterest3=0, mlEngInterest1=0, mlEngInterest2=0, mlEngInterest3=0, mlOpsInterest1=0, mlOpsInterest2=0, mlOpsInterest3=0, tpmSkillRank=1.0, tpmInterestRank=0.4375, uxInterestRank=0.375, frontendInterestRank=0.5, backendInterestRank=0.375, dataEngInterestRank=0.0, mlEngInterestRank=0.0, mlOpsInterestRank=0.0), Learner(lambdaId='o156S33g4IZi4s0L', name='Amelia Martinez', track='BD', storyPoints=0, labsProject='', gitExpertise=0, dockerExpertise=0, playByEar=0, detailOriented=0, speakUpInDiscussions=0, soloOrSocial='', meaningOrValue='', feelsRightOrMakesSense='', favoriteOrCollect='', tpmSkill1='B', tpmSkill2='B', tpmSkill3='C', tpmInterest1=1, tpmInterest2=2, tpmInterest3=1, tpmInterest4=2, uxInterest1=2, uxInterest2=1, frontendInterest1=2, frontendInterest2=3, backendInterest1=2, backendInterest2=3, dataEngInterest1=0, dataEngInterest2=0, dataEngInterest3=0, mlEngInterest1=0, mlEngInterest2=0, mlEngInterest3=0, mlOpsInterest1=0, mlOpsInterest2=0, mlOpsInterest3=0, tpmSkillRank=1.0, tpmInterestRank=0.375, uxInterestRank=0.375, frontendInterestRank=0.625, backendInterestRank=0.625, dataEngInterestRank=0.0, mlEngInterestRank=0.0, mlOpsInterestRank=0.0), Learner(lambdaId='qJ4gG5yLx507684A', name='Isabella Williams', track='Web', storyPoints=2, labsProject='Test Product - A', gitExpertise=0, dockerExpertise=0, playByEar=0, detailOriented=0, speakUpInDiscussions=0, soloOrSocial='', meaningOrValue='', feelsRightOrMakesSense='', favoriteOrCollect='', tpmSkill1='B', tpmSkill2='B', tpmSkill3='C', tpmInterest1=2, tpmInterest2=2, tpmInterest3=3, tpmInterest4=2, uxInterest1=1, uxInterest2=3, frontendInterest1=2, frontendInterest2=1, backendInterest1=3, backendInterest2=2, dataEngInterest1=0, dataEngInterest2=0, dataEngInterest3=0, mlEngInterest1=0, mlEngInterest2=0, mlEngInterest3=0, mlOpsInterest1=0, mlOpsInterest2=0, mlOpsInterest3=0, tpmSkillRank=1.0, tpmInterestRank=0.5625, uxInterestRank=0.5, frontendInterestRank=0.375, backendInterestRank=0.625, dataEngInterestRank=0.0, mlEngInterestRank=0.0, mlOpsInterestRank=0.0), Learner(lambdaId='R84exE2JQ46L670S', name='Ella Mitchell', track='Web', storyPoints=20, labsProject='Test Product - A', gitExpertise=0, dockerExpertise=0, playByEar=0, detailOriented=0, speakUpInDiscussions=0, soloOrSocial='', meaningOrValue='', feelsRightOrMakesSense='', favoriteOrCollect='', tpmSkill1='B', tpmSkill2='B', tpmSkill3='C', tpmInterest1=1, tpmInterest2=2, tpmInterest3=2, tpmInterest4=2, uxInterest1=1, uxInterest2=3, frontendInterest1=2, frontendInterest2=1, backendInterest1=3, backendInterest2=2, dataEngInterest1=0, dataEngInterest2=0, dataEngInterest3=0, mlEngInterest1=0, mlEngInterest2=0, mlEngInterest3=0, mlOpsInterest1=0, mlOpsInterest2=0, mlOpsInterest3=0, tpmSkillRank=1.0, tpmInterestRank=0.4375, uxInterestRank=0.5, frontendInterestRank=0.375, backendInterestRank=0.625, dataEngInterestRank=0.0, mlEngInterestRank=0.0, mlOpsInterestRank=0.0), Learner(lambdaId='47Q2B21E2bd8EJ7W', name='Mateo Allen', track='Web', storyPoints=3, labsProject='Test Product - A', gitExpertise=0, dockerExpertise=0, playByEar=0, detailOriented=0, speakUpInDiscussions=0, soloOrSocial='', meaningOrValue='', feelsRightOrMakesSense='', favoriteOrCollect='', tpmSkill1='B', tpmSkill2='B', tpmSkill3='C', tpmInterest1=1, tpmInterest2=2, tpmInterest3=3, tpmInterest4=3, uxInterest1=2, uxInterest2=1, frontendInterest1=1, frontendInterest2=1, backendInterest1=3, backendInterest2=1, dataEngInterest1=0, dataEngInterest2=0, dataEngInterest3=0, mlEngInterest1=0, mlEngInterest2=0, mlEngInterest3=0, mlOpsInterest1=0, mlOpsInterest2=0, mlOpsInterest3=0, tpmSkillRank=1.0, tpmInterestRank=0.5625, uxInterestRank=0.375, frontendInterestRank=0.25, backendInterestRank=0.5, dataEngInterestRank=0.0, mlEngInterestRank=0.0, mlOpsInterestRank=0.0), Learner(lambdaId='LKS06ea571316LjL', name='Evelyn Jackson', track='Web', storyPoints=9, labsProject='Test Product - A', gitExpertise=0, dockerExpertise=0, playByEar=0, detailOriented=0, speakUpInDiscussions=0, soloOrSocial='', meaningOrValue='', feelsRightOrMakesSense='', favoriteOrCollect='', tpmSkill1='B', tpmSkill2='B', tpmSkill3='C', tpmInterest1=1, tpmInterest2=3, tpmInterest3=1, tpmInterest4=1, uxInterest1=1, uxInterest2=1, frontendInterest1=3, frontendInterest2=3, backendInterest1=3, backendInterest2=1, dataEngInterest1=0, dataEngInterest2=0, dataEngInterest3=0, mlEngInterest1=0, mlEngInterest2=0, mlEngInterest3=0, mlOpsInterest1=0, mlOpsInterest2=0, mlOpsInterest3=0, tpmSkillRank=1.0, tpmInterestRank=0.375, uxInterestRank=0.25, frontendInterestRank=0.75, backendInterestRank=0.5, dataEngInterestRank=0.0, mlEngInterestRank=0.0, mlOpsInterestRank=0.0), Learner(lambdaId='611wxMnZ4UXg8411', name='Emma Lopez', track='Web', storyPoints=17, labsProject='Test Product - A', gitExpertise=0, dockerExpertise=0, playByEar=0, detailOriented=0, speakUpInDiscussions=0, soloOrSocial='', meaningOrValue='', feelsRightOrMakesSense='', favoriteOrCollect='', tpmSkill1='B', tpmSkill2='B', tpmSkill3='C', tpmInterest1=1, tpmInterest2=1, tpmInterest3=1, tpmInterest4=3, uxInterest1=2, uxInterest2=3, frontendInterest1=2, frontendInterest2=3, backendInterest1=3, backendInterest2=2, dataEngInterest1=0, dataEngInterest2=0, dataEngInterest3=0, mlEngInterest1=0, mlEngInterest2=0, mlEngInterest3=0, mlOpsInterest1=0, mlOpsInterest2=0, mlOpsInterest3=0, tpmSkillRank=1.0, tpmInterestRank=0.375, uxInterestRank=0.625, frontendInterestRank=0.625, backendInterestRank=0.625, dataEngInterestRank=0.0, mlEngInterestRank=0.0, mlOpsInterestRank=0.0), Learner(lambdaId='62Cku6U8vBu65I83', name='Elijah Rivera', track='Web', storyPoints=15, labsProject='Test Product - A', gitExpertise=0, dockerExpertise=0, playByEar=0, detailOriented=0, speakUpInDiscussions=0, soloOrSocial='', meaningOrValue='', feelsRightOrMakesSense='', favoriteOrCollect='', tpmSkill1='B', tpmSkill2='B', tpmSkill3='C', tpmInterest1=2, tpmInterest2=1, tpmInterest3=2, tpmInterest4=3, uxInterest1=3, uxInterest2=2, frontendInterest1=1, frontendInterest2=1, backendInterest1=1, backendInterest2=3, dataEngInterest1=0, dataEngInterest2=0, dataEngInterest3=0, mlEngInterest1=0, mlEngInterest2=0, mlEngInterest3=0, mlOpsInterest1=0, mlOpsInterest2=0, mlOpsInterest3=0, tpmSkillRank=1.0, tpmInterestRank=0.5, uxInterestRank=0.625, frontendInterestRank=0.25, backendInterestRank=0.5, dataEngInterestRank=0.0, mlEngInterestRank=0.0, mlOpsInterestRank=0.0), Learner(lambdaId='n6CQ5E2KU861o55j', name='Scarlett Clark', track='Web', storyPoints=1, labsProject='Test Product - A', gitExpertise=0, dockerExpertise=0, playByEar=0, detailOriented=0, speakUpInDiscussions=0, soloOrSocial='', meaningOrValue='', feelsRightOrMakesSense='', favoriteOrCollect='', tpmSkill1='B', tpmSkill2='B', tpmSkill3='C', tpmInterest1=3, tpmInterest2=1, tpmInterest3=3, tpmInterest4=1, uxInterest1=3, uxInterest2=3, frontendInterest1=3, frontendInterest2=1, backendInterest1=3, backendInterest2=3, dataEngInterest1=0, dataEngInterest2=0, dataEngInterest3=0, mlEngInterest1=0, mlEngInterest2=0, mlEngInterest3=0, mlOpsInterest1=0, mlOpsInterest2=0, mlOpsInterest3=0, tpmSkillRank=1.0, tpmInterestRank=0.5, uxInterestRank=0.75, frontendInterestRank=0.5, backendInterestRank=0.75, dataEngInterestRank=0.0, mlEngInterestRank=0.0, mlOpsInterestRank=0.0), Learner(lambdaId='GMM1QcS48F1G1316', name='Grace King', track='Web', storyPoints=5, labsProject='Test Product - A', gitExpertise=0, dockerExpertise=0, playByEar=0, detailOriented=0, speakUpInDiscussions=0, soloOrSocial='', meaningOrValue='', feelsRightOrMakesSense='', favoriteOrCollect='', tpmSkill1='B', tpmSkill2='B', tpmSkill3='C', tpmInterest1=3, tpmInterest2=1, tpmInterest3=2, tpmInterest4=3, uxInterest1=3, uxInterest2=1, frontendInterest1=1, frontendInterest2=2, backendInterest1=2, backendInterest2=2, dataEngInterest1=0, dataEngInterest2=0, dataEngInterest3=0, mlEngInterest1=0, mlEngInterest2=0, mlEngInterest3=0, mlOpsInterest1=0, mlOpsInterest2=0, mlOpsInterest3=0, tpmSkillRank=1.0, tpmInterestRank=0.5625, uxInterestRank=0.5, frontendInterestRank=0.375, backendInterestRank=0.5, dataEngInterestRank=0.0, mlEngInterestRank=0.0, mlOpsInterestRank=0.0), Learner(lambdaId='56XfrZ4Udz03455X', name='Lucas Sanchez', track='BD', storyPoints=2, labsProject='Test Product - A', gitExpertise=0, dockerExpertise=0, playByEar=0, detailOriented=0, speakUpInDiscussions=0, soloOrSocial='', meaningOrValue='', feelsRightOrMakesSense='', favoriteOrCollect='', tpmSkill1='B', tpmSkill2='B', tpmSkill3='C', tpmInterest1=3, tpmInterest2=1, tpmInterest3=2, tpmInterest4=2, uxInterest1=2, uxInterest2=3, frontendInterest1=1, frontendInterest2=2, backendInterest1=3, backendInterest2=3, dataEngInterest1=0, dataEngInterest2=0, dataEngInterest3=0, mlEngInterest1=0, mlEngInterest2=0, mlEngInterest3=0, mlOpsInterest1=0, mlOpsInterest2=0, mlOpsInterest3=0, tpmSkillRank=1.0, tpmInterestRank=0.5, uxInterestRank=0.625, frontendInterestRank=0.375, backendInterestRank=0.75, dataEngInterestRank=0.0, mlEngInterestRank=0.0, mlOpsInterestRank=0.0), Learner(lambdaId='081Dg773aqdFH63I', name='Evelyn Martinez', track='BD', storyPoints=19, labsProject='Test Product - A', gitExpertise=0, dockerExpertise=0, playByEar=0, detailOriented=0, speakUpInDiscussions=0, soloOrSocial='', meaningOrValue='', feelsRightOrMakesSense='', favoriteOrCollect='', tpmSkill1='B', tpmSkill2='B', tpmSkill3='C', tpmInterest1=2, tpmInterest2=1, tpmInterest3=3, tpmInterest4=2, uxInterest1=3, uxInterest2=1, frontendInterest1=1, frontendInterest2=2, backendInterest1=2, backendInterest2=2, dataEngInterest1=0, dataEngInterest2=0, dataEngInterest3=0, mlEngInterest1=0, mlEngInterest2=0, mlEngInterest3=0, mlOpsInterest1=0, mlOpsInterest2=0, mlOpsInterest3=0, tpmSkillRank=1.0, tpmInterestRank=0.5, uxInterestRank=0.5, frontendInterestRank=0.375, backendInterestRank=0.5, dataEngInterestRank=0.0, mlEngInterestRank=0.0, mlOpsInterestRank=0.0), Learner(lambdaId='A3AJ4I0ts075sV61', name='Noah Miller', track='BD', storyPoints=18, labsProject='Test Product - A', gitExpertise=0, dockerExpertise=0, playByEar=0, detailOriented=0, speakUpInDiscussions=0, soloOrSocial='', meaningOrValue='', feelsRightOrMakesSense='', favoriteOrCollect='', tpmSkill1='B', tpmSkill2='B', tpmSkill3='C', tpmInterest1=2, tpmInterest2=1, tpmInterest3=1, tpmInterest4=1, uxInterest1=1, uxInterest2=2, frontendInterest1=3, frontendInterest2=2, backendInterest1=2, backendInterest2=2, dataEngInterest1=0, dataEngInterest2=0, dataEngInterest3=0, mlEngInterest1=0, mlEngInterest2=0, mlEngInterest3=0, mlOpsInterest1=0, mlOpsInterest2=0, mlOpsInterest3=0, tpmSkillRank=1.0, tpmInterestRank=0.3125, uxInterestRank=0.375, frontendInterestRank=0.625, backendInterestRank=0.5, dataEngInterestRank=0.0, mlEngInterestRank=0.0, mlOpsInterestRank=0.0), Learner(lambdaId='u7CNYgO6G13410M0', name='Alexander Lee', track='BD', storyPoints=16, labsProject='Test Product - A', gitExpertise=0, dockerExpertise=0, playByEar=0, detailOriented=0, speakUpInDiscussions=0, soloOrSocial='', meaningOrValue='', feelsRightOrMakesSense='', favoriteOrCollect='', tpmSkill1='B', tpmSkill2='B', tpmSkill3='C', tpmInterest1=3, tpmInterest2=2, tpmInterest3=2, tpmInterest4=1, uxInterest1=1, uxInterest2=3, frontendInterest1=2, frontendInterest2=3, backendInterest1=1, backendInterest2=2, dataEngInterest1=0, dataEngInterest2=0, dataEngInterest3=0, mlEngInterest1=0, mlEngInterest2=0, mlEngInterest3=0, mlOpsInterest1=0, mlOpsInterest2=0, mlOpsInterest3=0, tpmSkillRank=1.0, tpmInterestRank=0.5, uxInterestRank=0.5, frontendInterestRank=0.625, backendInterestRank=0.375, dataEngInterestRank=0.0, mlEngInterestRank=0.0, mlOpsInterestRank=0.0), Learner(lambdaId='y2H6XR850el20DI6', name='Madison Nelson', track='Web', storyPoints=3, labsProject='Test Product - B', gitExpertise=0, dockerExpertise=0, playByEar=0, detailOriented=0, speakUpInDiscussions=0, soloOrSocial='', meaningOrValue='', feelsRightOrMakesSense='', favoriteOrCollect='', tpmSkill1='B', tpmSkill2='B', tpmSkill3='C', tpmInterest1=3, tpmInterest2=1, tpmInterest3=3, tpmInterest4=1, uxInterest1=1, uxInterest2=3, frontendInterest1=3, frontendInterest2=1, backendInterest1=3, backendInterest2=2, dataEngInterest1=0, dataEngInterest2=0, dataEngInterest3=0, mlEngInterest1=0, mlEngInterest2=0, mlEngInterest3=0, mlOpsInterest1=0, mlOpsInterest2=0, mlOpsInterest3=0, tpmSkillRank=1.0, tpmInterestRank=0.5, uxInterestRank=0.5, frontendInterestRank=0.5, backendInterestRank=0.625, dataEngInterestRank=0.0, mlEngInterestRank=0.0, mlOpsInterestRank=0.0), Learner(lambdaId='O4TR16hk446Kx6I3', name='Samuel Robinson', track='Web', storyPoints=11, labsProject='Test Product - B', gitExpertise=0, dockerExpertise=0, playByEar=0, detailOriented=0, speakUpInDiscussions=0, soloOrSocial='', meaningOrValue='', feelsRightOrMakesSense='', favoriteOrCollect='', tpmSkill1='B', tpmSkill2='B', tpmSkill3='C', tpmInterest1=2, tpmInterest2=2, tpmInterest3=3, tpmInterest4=2, uxInterest1=1, uxInterest2=2, frontendInterest1=3, frontendInterest2=1, backendInterest1=3, backendInterest2=3, dataEngInterest1=0, dataEngInterest2=0, dataEngInterest3=0, mlEngInterest1=0, mlEngInterest2=0, mlEngInterest3=0, mlOpsInterest1=0, mlOpsInterest2=0, mlOpsInterest3=0, tpmSkillRank=1.0, tpmInterestRank=0.5625, uxInterestRank=0.375, frontendInterestRank=0.5, backendInterestRank=0.75, dataEngInterestRank=0.0, mlEngInterestRank=0.0, mlOpsInterestRank=0.0), Learner(lambdaId='8873l1K7sc1cPU8i', name='Ellie Hill', track='Web', storyPoints=5, labsProject='Test Product - B', gitExpertise=0, dockerExpertise=0, playByEar=0, detailOriented=0, speakUpInDiscussions=0, soloOrSocial='', meaningOrValue='', feelsRightOrMakesSense='', favoriteOrCollect='', tpmSkill1='B', tpmSkill2='B', tpmSkill3='C', tpmInterest1=3, tpmInterest2=1, tpmInterest3=2, tpmInterest4=2, uxInterest1=3, uxInterest2=2, frontendInterest1=2, frontendInterest2=2, backendInterest1=1, backendInterest2=3, dataEngInterest1=0, dataEngInterest2=0, dataEngInterest3=0, mlEngInterest1=0, mlEngInterest2=0, mlEngInterest3=0, mlOpsInterest1=0, mlOpsInterest2=0, mlOpsInterest3=0, tpmSkillRank=1.0, tpmInterestRank=0.5, uxInterestRank=0.625, frontendInterestRank=0.5, backendInterestRank=0.5, dataEngInterestRank=0.0, mlEngInterestRank=0.0, mlOpsInterestRank=0.0), Learner(lambdaId='3oY6w1t7Z1322hnx', name='Alexander Wood', track='Web', storyPoints=9, labsProject='Test Product - B', gitExpertise=0, dockerExpertise=0, playByEar=0, detailOriented=0, speakUpInDiscussions=0, soloOrSocial='', meaningOrValue='', feelsRightOrMakesSense='', favoriteOrCollect='', tpmSkill1='B', tpmSkill2='B', tpmSkill3='C', tpmInterest1=2, tpmInterest2=3, tpmInterest3=1, tpmInterest4=3, uxInterest1=3, uxInterest2=2, frontendInterest1=2, frontendInterest2=2, backendInterest1=2, backendInterest2=2, dataEngInterest1=0, dataEngInterest2=0, dataEngInterest3=0, mlEngInterest1=0, mlEngInterest2=0, mlEngInterest3=0, mlOpsInterest1=0, mlOpsInterest2=0, mlOpsInterest3=0, tpmSkillRank=1.0, tpmInterestRank=0.5625, uxInterestRank=0.625, frontendInterestRank=0.5, backendInterestRank=0.5, dataEngInterestRank=0.0, mlEngInterestRank=0.0, mlOpsInterestRank=0.0), Learner(lambdaId='8S6P0nXoY0p2p600', name='Aiden James', track='Web', storyPoints=14, labsProject='Test Product - B', gitExpertise=0, dockerExpertise=0, playByEar=0, detailOriented=0, speakUpInDiscussions=0, soloOrSocial='', meaningOrValue='', feelsRightOrMakesSense='', favoriteOrCollect='', tpmSkill1='B', tpmSkill2='B', tpmSkill3='C', tpmInterest1=1, tpmInterest2=2, tpmInterest3=3, tpmInterest4=2, uxInterest1=2, uxInterest2=3, frontendInterest1=2, frontendInterest2=3, backendInterest1=1, backendInterest2=3, dataEngInterest1=0, dataEngInterest2=0, dataEngInterest3=0, mlEngInterest1=0, mlEngInterest2=0, mlEngInterest3=0, mlOpsInterest1=0, mlOpsInterest2=0, mlOpsInterest3=0, tpmSkillRank=1.0, tpmInterestRank=0.5, uxInterestRank=0.625, frontendInterestRank=0.625, backendInterestRank=0.5, dataEngInterestRank=0.0, mlEngInterestRank=0.0, mlOpsInterestRank=0.0), Learner(lambdaId='T7454W00FN6sH2vP', name='Samuel Martin', track='Web', storyPoints=15, labsProject='Test Product - B', gitExpertise=0, dockerExpertise=0, playByEar=0, detailOriented=0, speakUpInDiscussions=0, soloOrSocial='', meaningOrValue='', feelsRightOrMakesSense='', favoriteOrCollect='', tpmSkill1='B', tpmSkill2='B', tpmSkill3='C', tpmInterest1=1, tpmInterest2=2, tpmInterest3=2, tpmInterest4=1, uxInterest1=3, uxInterest2=1, frontendInterest1=2, frontendInterest2=3, backendInterest1=2, backendInterest2=3, dataEngInterest1=0, dataEngInterest2=0, dataEngInterest3=0, mlEngInterest1=0, mlEngInterest2=0, mlEngInterest3=0, mlOpsInterest1=0, mlOpsInterest2=0, mlOpsInterest3=0, tpmSkillRank=1.0, tpmInterestRank=0.375, uxInterestRank=0.5, frontendInterestRank=0.625, backendInterestRank=0.625, dataEngInterestRank=0.0, mlEngInterestRank=0.0, mlOpsInterestRank=0.0), Learner(lambdaId='t2Z18QjvoQ8J8868', name='Jackson Thompson', track='Web', storyPoints=17, labsProject='Test Product - B', gitExpertise=0, dockerExpertise=0, playByEar=0, detailOriented=0, speakUpInDiscussions=0, soloOrSocial='', meaningOrValue='', feelsRightOrMakesSense='', favoriteOrCollect='', tpmSkill1='B', tpmSkill2='B', tpmSkill3='C', tpmInterest1=3, tpmInterest2=1, tpmInterest3=2, tpmInterest4=1, uxInterest1=2, uxInterest2=3, frontendInterest1=3, frontendInterest2=3, backendInterest1=1, backendInterest2=2, dataEngInterest1=0, dataEngInterest2=0, dataEngInterest3=0, mlEngInterest1=0, mlEngInterest2=0, mlEngInterest3=0, mlOpsInterest1=0, mlOpsInterest2=0, mlOpsInterest3=0, tpmSkillRank=1.0, tpmInterestRank=0.4375, uxInterestRank=0.625, frontendInterestRank=0.75, backendInterestRank=0.375, dataEngInterestRank=0.0, mlEngInterestRank=0.0, mlOpsInterestRank=0.0), Learner(lambdaId='8i58607QeM3dclp0', name='Levi Wood', track='Web', storyPoints=18, labsProject='Test Product - B', gitExpertise=0, dockerExpertise=0, playByEar=0, detailOriented=0, speakUpInDiscussions=0, soloOrSocial='', meaningOrValue='', feelsRightOrMakesSense='', favoriteOrCollect='', tpmSkill1='B', tpmSkill2='B', tpmSkill3='C', tpmInterest1=3, tpmInterest2=2, tpmInterest3=1, tpmInterest4=2, uxInterest1=3, uxInterest2=1, frontendInterest1=3, frontendInterest2=2, backendInterest1=1, backendInterest2=2, dataEngInterest1=0, dataEngInterest2=0, dataEngInterest3=0, mlEngInterest1=0, mlEngInterest2=0, mlEngInterest3=0, mlOpsInterest1=0, mlOpsInterest2=0, mlOpsInterest3=0, tpmSkillRank=1.0, tpmInterestRank=0.5, uxInterestRank=0.5, frontendInterestRank=0.625, backendInterestRank=0.375, dataEngInterestRank=0.0, mlEngInterestRank=0.0, mlOpsInterestRank=0.0), Learner(lambdaId='1J11Q13ijfk4rh00', name='Olivia White', track='DS', storyPoints=15, labsProject='Test Product - B', gitExpertise=0, dockerExpertise=0, playByEar=0, detailOriented=0, speakUpInDiscussions=0, soloOrSocial='', meaningOrValue='', feelsRightOrMakesSense='', favoriteOrCollect='', tpmSkill1='B', tpmSkill2='B', tpmSkill3='C', tpmInterest1=1, tpmInterest2=1, tpmInterest3=3, tpmInterest4=2, uxInterest1=1, uxInterest2=1, frontendInterest1=3, frontendInterest2=2, backendInterest1=2, backendInterest2=3, dataEngInterest1=0, dataEngInterest2=0, dataEngInterest3=0, mlEngInterest1=0, mlEngInterest2=0, mlEngInterest3=0, mlOpsInterest1=0, mlOpsInterest2=0, mlOpsInterest3=0, tpmSkillRank=1.0, tpmInterestRank=0.4375, uxInterestRank=0.25, frontendInterestRank=0.625, backendInterestRank=0.625, dataEngInterestRank=0.0, mlEngInterestRank=0.0, mlOpsInterestRank=0.0), Learner(lambdaId='Ia7103c0FuI16w8h', name='Nora Richardson', track='DS', storyPoints=18, labsProject='Test Product - B', gitExpertise=0, dockerExpertise=0, playByEar=0, detailOriented=0, speakUpInDiscussions=0, soloOrSocial='', meaningOrValue='', feelsRightOrMakesSense='', favoriteOrCollect='', tpmSkill1='B', tpmSkill2='B', tpmSkill3='C', tpmInterest1=3, tpmInterest2=2, tpmInterest3=2, tpmInterest4=3, uxInterest1=3, uxInterest2=3, frontendInterest1=2, frontendInterest2=3, backendInterest1=1, backendInterest2=2, dataEngInterest1=0, dataEngInterest2=0, dataEngInterest3=0, mlEngInterest1=0, mlEngInterest2=0, mlEngInterest3=0, mlOpsInterest1=0, mlOpsInterest2=0, mlOpsInterest3=0, tpmSkillRank=1.0, tpmInterestRank=0.625, uxInterestRank=0.75, frontendInterestRank=0.625, backendInterestRank=0.375, dataEngInterestRank=0.0, mlEngInterestRank=0.0, mlOpsInterestRank=0.0), Learner(lambdaId='p4556mX1M3LN2ZB1', name='Luna Walker', track='DS', storyPoints=9, labsProject='Test Product - B', gitExpertise=0, dockerExpertise=0, playByEar=0, detailOriented=0, speakUpInDiscussions=0, soloOrSocial='', meaningOrValue='', feelsRightOrMakesSense='', favoriteOrCollect='', tpmSkill1='B', tpmSkill2='B', tpmSkill3='C', tpmInterest1=2, tpmInterest2=1, tpmInterest3=3, tpmInterest4=3, uxInterest1=3, uxInterest2=1, frontendInterest1=3, frontendInterest2=2, backendInterest1=3, backendInterest2=2, dataEngInterest1=0, dataEngInterest2=0, dataEngInterest3=0, mlEngInterest1=0, mlEngInterest2=0, mlEngInterest3=0, mlOpsInterest1=0, mlOpsInterest2=0, mlOpsInterest3=0, tpmSkillRank=1.0, tpmInterestRank=0.5625, uxInterestRank=0.5, frontendInterestRank=0.625, backendInterestRank=0.625, dataEngInterestRank=0.0, mlEngInterestRank=0.0, mlOpsInterestRank=0.0), Learner(lambdaId='770K8Aw4JD0ojX60', name='Charlotte Wood', track='DS', storyPoints=14, labsProject='Test Product - B', gitExpertise=0, dockerExpertise=0, playByEar=0, detailOriented=0, speakUpInDiscussions=0, soloOrSocial='', meaningOrValue='', feelsRightOrMakesSense='', favoriteOrCollect='', tpmSkill1='B', tpmSkill2='B', tpmSkill3='C', tpmInterest1=3, tpmInterest2=2, tpmInterest3=1, tpmInterest4=2, uxInterest1=1, uxInterest2=3, frontendInterest1=1, frontendInterest2=2, backendInterest1=2, backendInterest2=3, dataEngInterest1=0, dataEngInterest2=0, dataEngInterest3=0, mlEngInterest1=0, mlEngInterest2=0, mlEngInterest3=0, mlOpsInterest1=0, mlOpsInterest2=0, mlOpsInterest3=0, tpmSkillRank=1.0, tpmInterestRank=0.5, uxInterestRank=0.5, frontendInterestRank=0.375, backendInterestRank=0.625, dataEngInterestRank=0.0, mlEngInterestRank=0.0, mlOpsInterestRank=0.0)], projects=[Project(id='Test Product - A', product='Test Product', teamCode='A', tracks=['Web', 'BD'], releaseManager='Gianna Rodriguez', teamMemberSmtIds=['qJ4gG5yLx507684A', 'R84exE2JQ46L670S', '47Q2B21E2bd8EJ7W', 'LKS06ea571316LjL', '611wxMnZ4UXg8411', '62Cku6U8vBu65I83', 'n6CQ5E2KU861o55j', 'GMM1QcS48F1G1316', '56XfrZ4Udz03455X', '081Dg773aqdFH63I', 'A3AJ4I0ts075sV61', 'u7CNYgO6G13410M0'], storyPointTotal=127), Project(id='Test Product - B', product='Test Product', teamCode='B', tracks=['Web', 'DS'], releaseManager='Henry Young', teamMemberSmtIds=['y2H6XR850el20DI6', 'O4TR16hk446Kx6I3', '8873l1K7sc1cPU8i', '3oY6w1t7Z1322hnx', '8S6P0nXoY0p2p600', 'T7454W00FN6sH2vP', 't2Z18QjvoQ8J8868', '8i58607QeM3dclp0', '1J11Q13ijfk4rh00', 'Ia7103c0FuI16w8h', 'p4556mX1M3LN2ZB1', '770K8Aw4JD0ojX60'], storyPointTotal=148)])"
     },
     "execution_count": 2,
     "metadata": {},
     "output_type": "execute_result"
    }
   ],
   "source": [
    "payload = example_payload()\n",
    "payload"
   ],
   "metadata": {
    "collapsed": false,
    "pycharm": {
     "name": "#%%\n"
    }
   }
  },
  {
   "cell_type": "code",
   "execution_count": 3,
   "outputs": [],
   "source": [
    "learners = payload.learners\n",
    "projects = payload.projects"
   ],
   "metadata": {
    "collapsed": false,
    "pycharm": {
     "name": "#%%\n"
    }
   }
  },
  {
   "cell_type": "code",
   "execution_count": 4,
   "outputs": [
    {
     "name": "stdout",
     "output_type": "stream",
     "text": [
      "Name: Test Product - A\n",
      "Tracks: ['Web', 'BD']\n",
      "Team Size: 12\n",
      "\n",
      "Name: Test Product - B\n",
      "Tracks: ['Web', 'DS']\n",
      "Team Size: 12\n",
      "\n"
     ]
    }
   ],
   "source": [
    "for project in projects:\n",
    "    print(f\"Name: {project.id}\")\n",
    "    print(f\"Tracks: {project.tracks}\")\n",
    "    print(f\"Team Size: {len(project.teamMemberSmtIds)}\")\n",
    "    print()"
   ],
   "metadata": {
    "collapsed": false,
    "pycharm": {
     "name": "#%%\n"
    }
   }
  },
  {
   "cell_type": "code",
   "execution_count": 5,
   "outputs": [
    {
     "name": "stdout",
     "output_type": "stream",
     "text": [
      "Name: Ella King\n",
      "Track: Web\n",
      "Project: \n",
      "Story Points: 0\n",
      "\n",
      "Name: Madison Hall\n",
      "Track: Web\n",
      "Project: \n",
      "Story Points: 0\n",
      "\n",
      "Name: Mia Adams\n",
      "Track: Web\n",
      "Project: \n",
      "Story Points: 0\n",
      "\n",
      "Name: Jackson Rivera\n",
      "Track: Web\n",
      "Project: \n",
      "Story Points: 0\n",
      "\n",
      "Name: Isabella Thomas\n",
      "Track: DS\n",
      "Project: \n",
      "Story Points: 0\n",
      "\n",
      "Name: Logan Torres\n",
      "Track: DS\n",
      "Project: \n",
      "Story Points: 0\n",
      "\n",
      "Name: Mila James\n",
      "Track: BD\n",
      "Project: \n",
      "Story Points: 0\n",
      "\n",
      "Name: Amelia Martinez\n",
      "Track: BD\n",
      "Project: \n",
      "Story Points: 0\n",
      "\n",
      "Name: Isabella Williams\n",
      "Track: Web\n",
      "Project: Test Product - A\n",
      "Story Points: 2\n",
      "\n",
      "Name: Ella Mitchell\n",
      "Track: Web\n",
      "Project: Test Product - A\n",
      "Story Points: 20\n",
      "\n",
      "Name: Mateo Allen\n",
      "Track: Web\n",
      "Project: Test Product - A\n",
      "Story Points: 3\n",
      "\n",
      "Name: Evelyn Jackson\n",
      "Track: Web\n",
      "Project: Test Product - A\n",
      "Story Points: 9\n",
      "\n",
      "Name: Emma Lopez\n",
      "Track: Web\n",
      "Project: Test Product - A\n",
      "Story Points: 17\n",
      "\n",
      "Name: Elijah Rivera\n",
      "Track: Web\n",
      "Project: Test Product - A\n",
      "Story Points: 15\n",
      "\n",
      "Name: Scarlett Clark\n",
      "Track: Web\n",
      "Project: Test Product - A\n",
      "Story Points: 1\n",
      "\n",
      "Name: Grace King\n",
      "Track: Web\n",
      "Project: Test Product - A\n",
      "Story Points: 5\n",
      "\n",
      "Name: Lucas Sanchez\n",
      "Track: BD\n",
      "Project: Test Product - A\n",
      "Story Points: 2\n",
      "\n",
      "Name: Evelyn Martinez\n",
      "Track: BD\n",
      "Project: Test Product - A\n",
      "Story Points: 19\n",
      "\n",
      "Name: Noah Miller\n",
      "Track: BD\n",
      "Project: Test Product - A\n",
      "Story Points: 18\n",
      "\n",
      "Name: Alexander Lee\n",
      "Track: BD\n",
      "Project: Test Product - A\n",
      "Story Points: 16\n",
      "\n",
      "Name: Madison Nelson\n",
      "Track: Web\n",
      "Project: Test Product - B\n",
      "Story Points: 3\n",
      "\n",
      "Name: Samuel Robinson\n",
      "Track: Web\n",
      "Project: Test Product - B\n",
      "Story Points: 11\n",
      "\n",
      "Name: Ellie Hill\n",
      "Track: Web\n",
      "Project: Test Product - B\n",
      "Story Points: 5\n",
      "\n",
      "Name: Alexander Wood\n",
      "Track: Web\n",
      "Project: Test Product - B\n",
      "Story Points: 9\n",
      "\n",
      "Name: Aiden James\n",
      "Track: Web\n",
      "Project: Test Product - B\n",
      "Story Points: 14\n",
      "\n",
      "Name: Samuel Martin\n",
      "Track: Web\n",
      "Project: Test Product - B\n",
      "Story Points: 15\n",
      "\n",
      "Name: Jackson Thompson\n",
      "Track: Web\n",
      "Project: Test Product - B\n",
      "Story Points: 17\n",
      "\n",
      "Name: Levi Wood\n",
      "Track: Web\n",
      "Project: Test Product - B\n",
      "Story Points: 18\n",
      "\n",
      "Name: Olivia White\n",
      "Track: DS\n",
      "Project: Test Product - B\n",
      "Story Points: 15\n",
      "\n",
      "Name: Nora Richardson\n",
      "Track: DS\n",
      "Project: Test Product - B\n",
      "Story Points: 18\n",
      "\n",
      "Name: Luna Walker\n",
      "Track: DS\n",
      "Project: Test Product - B\n",
      "Story Points: 9\n",
      "\n",
      "Name: Charlotte Wood\n",
      "Track: DS\n",
      "Project: Test Product - B\n",
      "Story Points: 14\n",
      "\n"
     ]
    }
   ],
   "source": [
    "for learner in learners:\n",
    "    print(f\"Name: {learner.name}\")\n",
    "    print(f\"Track: {learner.track}\")\n",
    "    print(f\"Project: {learner.labsProject}\")\n",
    "    print(f\"Story Points: {learner.storyPoints}\")\n",
    "    print()"
   ],
   "metadata": {
    "collapsed": false,
    "pycharm": {
     "name": "#%%\n"
    }
   }
  },
  {
   "cell_type": "code",
   "execution_count": 6,
   "outputs": [],
   "source": [
    "result = sorting_hat(payload)"
   ],
   "metadata": {
    "collapsed": false,
    "pycharm": {
     "name": "#%%\n"
    }
   }
  },
  {
   "cell_type": "code",
   "execution_count": 7,
   "outputs": [],
   "source": [
    "learners = result.learners\n",
    "projects = result.projects"
   ],
   "metadata": {
    "collapsed": false,
    "pycharm": {
     "name": "#%%\n"
    }
   }
  },
  {
   "cell_type": "code",
   "execution_count": 8,
   "outputs": [
    {
     "name": "stdout",
     "output_type": "stream",
     "text": [
      "Name: Test Product - B\n",
      "Tracks: ['Web', 'DS']\n",
      "Team Size: 12\n",
      "\n",
      "Name: Test Product - A\n",
      "Tracks: ['Web', 'BD']\n",
      "Team Size: 12\n",
      "\n",
      "Name: Test Product - B\n",
      "Tracks: ['Web', 'BD']\n",
      "Team Size: 4\n",
      "\n",
      "Name: Test Product - C\n",
      "Tracks: ['Web', 'DS']\n",
      "Team Size: 4\n",
      "\n"
     ]
    }
   ],
   "source": [
    "for project in projects:\n",
    "    print(f\"Name: {project.id}\")\n",
    "    print(f\"Tracks: {project.tracks}\")\n",
    "    print(f\"Team Size: {len(project.teamMemberSmtIds)}\")\n",
    "    print()"
   ],
   "metadata": {
    "collapsed": false,
    "pycharm": {
     "name": "#%%\n"
    }
   }
  },
  {
   "cell_type": "code",
   "execution_count": 9,
   "outputs": [
    {
     "name": "stdout",
     "output_type": "stream",
     "text": [
      "Name: Mila James\n",
      "Track: BD\n",
      "Project: Test Product - B\n",
      "Story Points: 0\n",
      "\n",
      "Name: Amelia Martinez\n",
      "Track: BD\n",
      "Project: Test Product - B\n",
      "Story Points: 0\n",
      "\n",
      "Name: Lucas Sanchez\n",
      "Track: BD\n",
      "Project: Test Product - A\n",
      "Story Points: 2\n",
      "\n",
      "Name: Evelyn Martinez\n",
      "Track: BD\n",
      "Project: Test Product - A\n",
      "Story Points: 19\n",
      "\n",
      "Name: Noah Miller\n",
      "Track: BD\n",
      "Project: Test Product - A\n",
      "Story Points: 18\n",
      "\n",
      "Name: Alexander Lee\n",
      "Track: BD\n",
      "Project: Test Product - A\n",
      "Story Points: 16\n",
      "\n",
      "Name: Isabella Thomas\n",
      "Track: DS\n",
      "Project: Test Product - C\n",
      "Story Points: 0\n",
      "\n",
      "Name: Logan Torres\n",
      "Track: DS\n",
      "Project: Test Product - C\n",
      "Story Points: 0\n",
      "\n",
      "Name: Olivia White\n",
      "Track: DS\n",
      "Project: Test Product - B\n",
      "Story Points: 15\n",
      "\n",
      "Name: Nora Richardson\n",
      "Track: DS\n",
      "Project: Test Product - B\n",
      "Story Points: 18\n",
      "\n",
      "Name: Luna Walker\n",
      "Track: DS\n",
      "Project: Test Product - B\n",
      "Story Points: 9\n",
      "\n",
      "Name: Charlotte Wood\n",
      "Track: DS\n",
      "Project: Test Product - B\n",
      "Story Points: 14\n",
      "\n",
      "Name: Ella King\n",
      "Track: Web\n",
      "Project: Test Product - B\n",
      "Story Points: 0\n",
      "\n",
      "Name: Madison Hall\n",
      "Track: Web\n",
      "Project: Test Product - C\n",
      "Story Points: 0\n",
      "\n",
      "Name: Mia Adams\n",
      "Track: Web\n",
      "Project: Test Product - B\n",
      "Story Points: 0\n",
      "\n",
      "Name: Jackson Rivera\n",
      "Track: Web\n",
      "Project: Test Product - C\n",
      "Story Points: 0\n",
      "\n",
      "Name: Isabella Williams\n",
      "Track: Web\n",
      "Project: Test Product - A\n",
      "Story Points: 2\n",
      "\n",
      "Name: Ella Mitchell\n",
      "Track: Web\n",
      "Project: Test Product - A\n",
      "Story Points: 20\n",
      "\n",
      "Name: Mateo Allen\n",
      "Track: Web\n",
      "Project: Test Product - A\n",
      "Story Points: 3\n",
      "\n",
      "Name: Evelyn Jackson\n",
      "Track: Web\n",
      "Project: Test Product - A\n",
      "Story Points: 9\n",
      "\n",
      "Name: Emma Lopez\n",
      "Track: Web\n",
      "Project: Test Product - A\n",
      "Story Points: 17\n",
      "\n",
      "Name: Elijah Rivera\n",
      "Track: Web\n",
      "Project: Test Product - A\n",
      "Story Points: 15\n",
      "\n",
      "Name: Scarlett Clark\n",
      "Track: Web\n",
      "Project: Test Product - A\n",
      "Story Points: 1\n",
      "\n",
      "Name: Grace King\n",
      "Track: Web\n",
      "Project: Test Product - A\n",
      "Story Points: 5\n",
      "\n",
      "Name: Madison Nelson\n",
      "Track: Web\n",
      "Project: Test Product - B\n",
      "Story Points: 3\n",
      "\n",
      "Name: Samuel Robinson\n",
      "Track: Web\n",
      "Project: Test Product - B\n",
      "Story Points: 11\n",
      "\n",
      "Name: Ellie Hill\n",
      "Track: Web\n",
      "Project: Test Product - B\n",
      "Story Points: 5\n",
      "\n",
      "Name: Alexander Wood\n",
      "Track: Web\n",
      "Project: Test Product - B\n",
      "Story Points: 9\n",
      "\n",
      "Name: Aiden James\n",
      "Track: Web\n",
      "Project: Test Product - B\n",
      "Story Points: 14\n",
      "\n",
      "Name: Samuel Martin\n",
      "Track: Web\n",
      "Project: Test Product - B\n",
      "Story Points: 15\n",
      "\n",
      "Name: Jackson Thompson\n",
      "Track: Web\n",
      "Project: Test Product - B\n",
      "Story Points: 17\n",
      "\n",
      "Name: Levi Wood\n",
      "Track: Web\n",
      "Project: Test Product - B\n",
      "Story Points: 18\n",
      "\n"
     ]
    }
   ],
   "source": [
    "for learner in learners:\n",
    "    print(f\"Name: {learner.name}\")\n",
    "    print(f\"Track: {learner.track}\")\n",
    "    print(f\"Project: {learner.labsProject}\")\n",
    "    print(f\"Story Points: {learner.storyPoints}\")\n",
    "    print()"
   ],
   "metadata": {
    "collapsed": false,
    "pycharm": {
     "name": "#%%\n"
    }
   }
  },
  {
   "cell_type": "code",
   "execution_count": 9,
   "outputs": [],
   "source": [],
   "metadata": {
    "collapsed": false,
    "pycharm": {
     "name": "#%%\n"
    }
   }
  }
 ],
 "metadata": {
  "kernelspec": {
   "display_name": "Python 3",
   "language": "python",
   "name": "python3"
  },
  "language_info": {
   "codemirror_mode": {
    "name": "ipython",
    "version": 2
   },
   "file_extension": ".py",
   "mimetype": "text/x-python",
   "name": "python",
   "nbconvert_exporter": "python",
   "pygments_lexer": "ipython2",
   "version": "2.7.6"
  }
 },
 "nbformat": 4,
 "nbformat_minor": 0
}